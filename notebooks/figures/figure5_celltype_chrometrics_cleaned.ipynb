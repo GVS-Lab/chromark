{
 "cells": [
  {
   "cell_type": "markdown",
   "id": "indian-simon",
   "metadata": {},
   "source": [
    "# Changes of cell type abundancies in PBMCs reflects the cancer and treatment effect of proton therapy (all cancers)\n",
    "\n",
    "---\n",
    "This notebook summarizes an essential part of the analysis corresponding to the results presented in figure 5 of the paper for all cancer patients. It can be used to rerun the analysis and regenerate the corresponding panels.\n",
    "\n",
    "---"
   ]
  },
  {
   "cell_type": "markdown",
   "id": "metric-fusion",
   "metadata": {},
   "source": [
    "## 0. Environmental setup"
   ]
  },
  {
   "cell_type": "code",
   "execution_count": null,
   "id": "renewable-magic",
   "metadata": {},
   "outputs": [],
   "source": [
    "import pandas as pd\n",
    "import numpy as np\n",
    "import seaborn as sns\n",
    "import random\n",
    "import os\n",
    "import matplotlib.pyplot as plt\n",
    "from sklearn.ensemble import RandomForestClassifier\n",
    "import matplotlib as mpl\n",
    "from matplotlib.collections import PolyCollection\n",
    "from matplotlib.legend_handler import HandlerTuple\n",
    "from matplotlib.colors import to_rgb\n",
    "from sklearn.preprocessing import MinMaxScaler\n",
    "from sklearn.model_selection import cross_val_score, StratifiedGroupKFold\n",
    "\n",
    "mpl.rcParams[\"figure.dpi\"] = 300\n",
    "\n",
    "import sys\n",
    "\n",
    "sys.path.append(\"../..\")\n",
    "from src.utils.notebooks.eda import *\n",
    "from src.utils.notebooks.figure3 import *\n",
    "from sklearn.discriminant_analysis import LinearDiscriminantAnalysis\n",
    "\n",
    "seed = 1234\n",
    "random.seed(1234)\n",
    "np.random.seed(1234)\n",
    "\n",
    "%reload_ext nb_black"
   ]
  },
  {
   "cell_type": "code",
   "execution_count": null,
   "id": "classified-wrapping",
   "metadata": {},
   "outputs": [],
   "source": [
    "def plot_joint_markers_celltype(\n",
    "    data,\n",
    "    markers,\n",
    "    marker_labels,\n",
    "    label_col=\"condition\",\n",
    "    cut=0,\n",
    "    palette=None,\n",
    "    plot_type=\"violin\",\n",
    "    figsize=[6, 3],\n",
    "):\n",
    "    all_markers = []\n",
    "    boxpairs = []\n",
    "    labels = np.array(data.loc[:, label_col])\n",
    "    for marker in markers:\n",
    "        marker_data = np.array(data.loc[:, marker])\n",
    "        marker_data = MinMaxScaler().fit_transform(marker_data.reshape(-1, 1))\n",
    "        marker_data = pd.DataFrame(marker_data, columns=[\"norm_value\"])\n",
    "        marker_data[\"condition\"] = labels\n",
    "        marker_data[\"marker\"] = marker\n",
    "        all_markers.append(marker_data)\n",
    "    all_markers = pd.concat(all_markers)\n",
    "    all_markers.marker = all_markers.marker.map(dict(zip(markers, marker_labels)))\n",
    "    for marker in np.unique(all_markers.marker):\n",
    "        boxpairs.append(((marker, \"CD3+\"), (marker, \"CD3-\")))\n",
    "\n",
    "    fig, ax = plot_marker_distribution(\n",
    "        data=all_markers,\n",
    "        marker=\"norm_value\",\n",
    "        label_col=\"marker\",\n",
    "        hue=\"condition\",\n",
    "        order=marker_labels,\n",
    "        hue_order=[\"CD3+\", \"CD3-\"],\n",
    "        palette=palette,\n",
    "        plot_type=plot_type,\n",
    "        box_pairs=boxpairs,\n",
    "        figsize=figsize,\n",
    "        cut=cut,\n",
    "    )\n",
    "    return fig, ax"
   ]
  },
  {
   "cell_type": "code",
   "execution_count": null,
   "id": "architectural-contrast",
   "metadata": {},
   "outputs": [],
   "source": [
    "nuc_feature_desc = pd.read_csv(\n",
    "    \"../../data/chrometric_feature_description.csv\", index_col=0\n",
    ")\n",
    "feature_name_dict = dict(\n",
    "    zip(\n",
    "        list(nuc_feature_desc.loc[:, \"feature\"]),\n",
    "        list(nuc_feature_desc.loc[:, \"long_name\"]),\n",
    "    )\n",
    ")\n",
    "feature_color_dict = {\n",
    "    \"morphology\": \"b\",\n",
    "    \"intensity\": \"g\",\n",
    "    \"boundary\": \"r\",\n",
    "    \"texture\": \"c\",\n",
    "    \"chromatin condensation\": \"m\",\n",
    "    \"moments\": \"y\",\n",
    "    np.nan: \"k\",\n",
    "}\n",
    "feature_color_dict = {\n",
    "    feature: feature_color_dict[category]\n",
    "    for (feature, category) in zip(\n",
    "        list(nuc_feature_desc.loc[:, \"long_name\"]),\n",
    "        list(nuc_feature_desc.loc[:, \"category\"]),\n",
    "    )\n",
    "}"
   ]
  },
  {
   "cell_type": "code",
   "execution_count": null,
   "id": "indonesian-pattern",
   "metadata": {},
   "outputs": [],
   "source": [
    "def get_ct_abundance_data(data, normalize=True):\n",
    "    ct_abundance_data = {\n",
    "        \"id\": [],\n",
    "        \"sample\": [],\n",
    "        \"timepoint\": [],\n",
    "        \"cancer\": [],\n",
    "        \"n_pbmc\": [],\n",
    "    }\n",
    "    all_celltypes = np.unique(data.loc[:, \"celltype\"])\n",
    "    for idx in np.unique(data.loc[:, \"id\"]):\n",
    "        id_data = data.loc[data.id == idx]\n",
    "\n",
    "        sample_name = np.array(id_data.loc[:, \"sample\"])[0]\n",
    "        timepoint = np.array(id_data.loc[:, \"timepoint\"])[0]\n",
    "        condition = np.array(id_data.loc[:, \"cancer\"])[0]\n",
    "        n_pbmc = len(id_data)\n",
    "\n",
    "        ct_abundance_data[\"id\"].append(idx)\n",
    "        ct_abundance_data[\"sample\"].append(sample_name)\n",
    "        ct_abundance_data[\"timepoint\"].append(timepoint)\n",
    "        ct_abundance_data[\"cancer\"].append(condition)\n",
    "        ct_abundance_data[\"n_pbmc\"].append(n_pbmc)\n",
    "\n",
    "        for ct in all_celltypes:\n",
    "            if ct not in ct_abundance_data:\n",
    "                ct_abundance_data[ct] = []\n",
    "            count = len(id_data.loc[id_data.loc[:, \"celltype\"] == ct])\n",
    "            if normalize:\n",
    "                count /= n_pbmc\n",
    "            ct_abundance_data[ct].append(count)\n",
    "\n",
    "    return pd.DataFrame(ct_abundance_data)"
   ]
  },
  {
   "cell_type": "code",
   "execution_count": null,
   "id": "laden-shark",
   "metadata": {},
   "outputs": [],
   "source": [
    "def plot_celltype_abundancies(\n",
    "    data,\n",
    "    celltypes,\n",
    "    celltype_labels=None,\n",
    "    cut=2,\n",
    "    figsize=[4, 4],\n",
    "    plot_type=\"violin\",\n",
    "    quantiles=None,\n",
    "    test=\"Mann-Whitney\",\n",
    "):\n",
    "\n",
    "    mg_colors = [\"lightsteelblue\", \"royalblue\", \"midnightblue\"]\n",
    "    gl_colors = [\"orange\", \"gold\", \"saddlebrown\"]\n",
    "    hn_colors = [\"plum\", \"deeppink\", \"indigo\"]\n",
    "\n",
    "    violin_all_colors = mg_colors + gl_colors + hn_colors\n",
    "    bar_all_colors = []\n",
    "    for i in range(3):\n",
    "\n",
    "        bar_all_colors.append(mg_colors[i])\n",
    "        bar_all_colors.append(gl_colors[i])\n",
    "        bar_all_colors.append(hn_colors[i])\n",
    "\n",
    "    for i in range(len(celltypes)):\n",
    "        fig, ax = plot_marker_distribution(\n",
    "            data,\n",
    "            figsize=figsize,\n",
    "            marker=celltypes[i],\n",
    "            label_col=\"cancer\",\n",
    "            order=[\"Meningioma\", \"Glioma\", \"Head & Neck\"],\n",
    "            box_pairs=[\n",
    "                ((\"Meningioma\", \"prior\"), (\"Meningioma\", \"during\")),\n",
    "                ((\"Meningioma\", \"prior\"), (\"Meningioma\", \"end\")),\n",
    "                ((\"Meningioma\", \"during\"), (\"Meningioma\", \"end\")),\n",
    "                ((\"Glioma\", \"prior\"), (\"Glioma\", \"during\")),\n",
    "                ((\"Glioma\", \"prior\"), (\"Glioma\", \"end\")),\n",
    "                ((\"Glioma\", \"during\"), (\"Glioma\", \"end\")),\n",
    "                ((\"Head & Neck\", \"prior\"), (\"Head & Neck\", \"during\")),\n",
    "                ((\"Head & Neck\", \"prior\"), (\"Head & Neck\", \"end\")),\n",
    "                ((\"Head & Neck\", \"during\"), (\"Head & Neck\", \"end\")),\n",
    "            ],\n",
    "            quantiles=quantiles,\n",
    "            cut=cut,\n",
    "            plot_type=plot_type,\n",
    "            palette=\"gray\",\n",
    "            hue=\"timepoint\",\n",
    "            hue_order=[\"prior\", \"during\", \"end\"],\n",
    "            test=test,\n",
    "        )\n",
    "        ax.set_xlabel(\"Condition\")\n",
    "        if celltype_labels is not None:\n",
    "            ax.set_ylabel(celltype_labels[i])\n",
    "\n",
    "        handles = []\n",
    "        if plot_type == \"violin\":\n",
    "            for ind, obj in enumerate(ax.findobj(PolyCollection)):\n",
    "                rgb = to_rgb(violin_all_colors[ind])\n",
    "                obj.set_facecolor(rgb)\n",
    "                handles.append(\n",
    "                    plt.Rectangle((0, 0), 0, 0, facecolor=rgb, edgecolor=\"black\")\n",
    "                )\n",
    "        elif plot_type == \"bar\":\n",
    "            for ind, bar in enumerate(ax.patches):\n",
    "                rgb = to_rgb(bar_all_colors[ind])\n",
    "                bar.set_color(rgb)\n",
    "                handles_color = to_rgb(violin_all_colors[ind])\n",
    "                handles.append(\n",
    "                    plt.Rectangle(\n",
    "                        (0, 0), 0, 0, facecolor=handles_color, edgecolor=\"black\"\n",
    "                    )\n",
    "                )\n",
    "        else:\n",
    "            raise NotImplementedError\n",
    "\n",
    "        ax.legend(\n",
    "            handles=[\n",
    "                tuple(handles[0::3]),\n",
    "                tuple(handles[1::3]),\n",
    "                tuple(handles[2::3]),\n",
    "            ],\n",
    "            labels=tp_order,\n",
    "            title=\"Timepoint\",\n",
    "            handlelength=4,\n",
    "            handler_map={tuple: HandlerTuple(ndivide=None, pad=0)},\n",
    "            bbox_to_anchor=(1.02, 0.5),\n",
    "            loc=\"center left\",\n",
    "            borderaxespad=0,\n",
    "        )\n",
    "\n",
    "        plt.show()\n",
    "        plt.close()"
   ]
  },
  {
   "cell_type": "code",
   "execution_count": null,
   "id": "coupled-fever",
   "metadata": {},
   "outputs": [],
   "source": [
    "def plot_cell_type_markers_dist(\n",
    "    data,\n",
    "    markers,\n",
    "    marker_labels,\n",
    "    quantiles=None,\n",
    "    cut=2,\n",
    "    plot_type=\"violin\",\n",
    "    palette=None,\n",
    "    figsize=[4, 4],\n",
    "    hue=None,\n",
    "    hue_order=None,\n",
    "    test=\"t-test_ind\",\n",
    "):\n",
    "    for i in range(len(markers)):\n",
    "        fig, ax = plot_marker_distribution(\n",
    "            data,\n",
    "            figsize=figsize,\n",
    "            marker=markers[i],\n",
    "            label_col=\"celltype\",\n",
    "            order=[\"CD3+\", \"CD3-\"],\n",
    "            box_pairs=[\n",
    "                (\"CD3+\", \"CD3-\"),\n",
    "            ],\n",
    "            quantiles=quantiles,\n",
    "            cut=cut,\n",
    "            plot_type=plot_type,\n",
    "            palette=palette,\n",
    "            hue=hue,\n",
    "            hue_order=hue_order,\n",
    "            test=test,\n",
    "        )\n",
    "        ax.set_xlabel(\"Cell type\")\n",
    "        ax.set_ylabel(marker_labels[i])\n",
    "        plt.show()\n",
    "        plt.close()"
   ]
  },
  {
   "cell_type": "code",
   "execution_count": null,
   "id": "announced-documentation",
   "metadata": {},
   "outputs": [],
   "source": [
    "def plot_timepoint_cancer_celltype_markers_dist(\n",
    "    data,\n",
    "    markers,\n",
    "    marker_labels,\n",
    "    celltypes,\n",
    "    quantiles=None,\n",
    "    cut=2,\n",
    "    plot_type=\"violin\",\n",
    "    palette=None,\n",
    "    figsize=[4, 4],\n",
    "    hue=None,\n",
    "    hue_order=None,\n",
    "):\n",
    "    mg_colors = [\"lightsteelblue\", \"royalblue\", \"midnightblue\"]\n",
    "    gl_colors = [\"orange\", \"gold\", \"saddlebrown\"]\n",
    "    hn_colors = [\"plum\", \"deeppink\", \"indigo\"]\n",
    "\n",
    "    violin_all_colors = mg_colors + gl_colors + hn_colors\n",
    "    bar_all_colors = []\n",
    "    for i in range(3):\n",
    "        bar_all_colors.append(mg_colors[i])\n",
    "        bar_all_colors.append(gl_colors[i])\n",
    "        bar_all_colors.append(hn_colors[i])\n",
    "\n",
    "    for i in range(len(markers)):\n",
    "        fig, ax = plt.subplots(figsize=figsize, ncols=len(celltypes), sharey=True)\n",
    "        ax = ax.flatten()\n",
    "        for j, celltype in enumerate(celltypes):\n",
    "\n",
    "            fig, ax[j] = plot_marker_distribution(\n",
    "                data.loc[data.loc[:, \"celltype\"] == celltype],\n",
    "                figsize=figsize,\n",
    "                marker=markers[i],\n",
    "                label_col=\"cancer\",\n",
    "                order=[\"Meningioma\", \"Glioma\", \"Head & Neck\"],\n",
    "                box_pairs=[\n",
    "                    ((\"Meningioma\", \"prior\"), (\"Meningioma\", \"during\")),\n",
    "                    ((\"Meningioma\", \"prior\"), (\"Meningioma\", \"end\")),\n",
    "                    ((\"Meningioma\", \"during\"), (\"Meningioma\", \"end\")),\n",
    "                    ((\"Glioma\", \"prior\"), (\"Glioma\", \"during\")),\n",
    "                    ((\"Glioma\", \"prior\"), (\"Glioma\", \"end\")),\n",
    "                    ((\"Glioma\", \"during\"), (\"Glioma\", \"end\")),\n",
    "                    ((\"Head & Neck\", \"prior\"), (\"Head & Neck\", \"during\")),\n",
    "                    ((\"Head & Neck\", \"prior\"), (\"Head & Neck\", \"end\")),\n",
    "                    ((\"Head & Neck\", \"during\"), (\"Head & Neck\", \"end\")),\n",
    "                ],\n",
    "                quantiles=quantiles,\n",
    "                cut=cut,\n",
    "                plot_type=plot_type,\n",
    "                palette=\"gray\",\n",
    "                hue=\"timepoint\",\n",
    "                hue_order=[\"prior\", \"during\", \"end\"],\n",
    "                fig=fig,\n",
    "                ax=ax[j],\n",
    "            )\n",
    "        for j in range(len(ax)):\n",
    "            ax[j].set_xlabel(\"Cancer type\")\n",
    "            ax[j].set_ylabel(marker_labels[i])\n",
    "            if j != len(ax) - 1:\n",
    "                ax[j].legend().remove()\n",
    "\n",
    "            handles = []\n",
    "            if plot_type == \"violin\":\n",
    "                for ind, obj in enumerate(ax[j].findobj(PolyCollection)):\n",
    "                    rgb = to_rgb(violin_all_colors[ind])\n",
    "                    obj.set_facecolor(rgb)\n",
    "                    handles.append(\n",
    "                        plt.Rectangle((0, 0), 0, 0, facecolor=rgb, edgecolor=\"black\")\n",
    "                    )\n",
    "            elif plot_type == \"bar\":\n",
    "                for ind, bar in enumerate(ax[j].patches):\n",
    "                    rgb = to_rgb(bar_all_colors[ind])\n",
    "                    bar.set_color(rgb)\n",
    "                    handles_color = to_rgb(violin_all_colors[ind])\n",
    "                    handles.append(\n",
    "                        plt.Rectangle(\n",
    "                            (0, 0), 0, 0, facecolor=handles_color, edgecolor=\"black\"\n",
    "                        )\n",
    "                    )\n",
    "            else:\n",
    "                raise NotImplementedError\n",
    "\n",
    "        ax[-1].legend(\n",
    "            handles=[tuple(handles[::3]), tuple(handles[1::3]), tuple(handles[2::3])],\n",
    "            labels=tp_order,\n",
    "            title=\"Timepoint\",\n",
    "            handlelength=4,\n",
    "            handler_map={tuple: HandlerTuple(ndivide=None, pad=0)},\n",
    "            bbox_to_anchor=(1.02, 0.5),\n",
    "            loc=\"center left\",\n",
    "            borderaxespad=0,\n",
    "        )\n",
    "\n",
    "        plt.show()\n",
    "        plt.close()"
   ]
  },
  {
   "cell_type": "code",
   "execution_count": null,
   "id": "front-miniature",
   "metadata": {},
   "outputs": [],
   "source": [
    "color_palette = {\n",
    "    \"Meningioma\": \"cornflowerblue\",\n",
    "    \"Glioma\": \"orange\",\n",
    "    \"Head & Neck\": \"orchid\",\n",
    "}"
   ]
  },
  {
   "cell_type": "code",
   "execution_count": null,
   "id": "medium-percentage",
   "metadata": {},
   "outputs": [],
   "source": [
    "mg_colors = [\"lightsteelblue\", \"royalblue\", \"midnightblue\"]\n",
    "gl_colors = [\"orange\", \"gold\", \"saddlebrown\"]\n",
    "hn_colors = [\"plum\", \"deeppink\", \"indigo\"]"
   ]
  },
  {
   "cell_type": "markdown",
   "id": "twenty-hebrew",
   "metadata": {},
   "source": [
    "---\n",
    "\n",
    "## 1. Read in data"
   ]
  },
  {
   "cell_type": "markdown",
   "id": "rocky-equivalent",
   "metadata": {},
   "source": [
    "In this notebook we assess the differences of the cell states of PBMCs at three different time points of the proton therapy treatment: before, during (~3 weeks in) and at the end of the treatment (final week of treatment). To this end, we obtained PBMCs of 8 Meningioma, 8 Glioma and 6 Head & Neck cancer patients stained them for DNA and CD3 (alongside gH2AX and Lamin A/C) and obtained fluorescent images."
   ]
  },
  {
   "cell_type": "markdown",
   "id": "front-software",
   "metadata": {},
   "source": [
    "First, we read in the required data set that describe each PBMCs by a number of hand-crafted features extracted from the fluorescent images of the cells."
   ]
  },
  {
   "cell_type": "code",
   "execution_count": null,
   "id": "inclusive-nightmare",
   "metadata": {},
   "outputs": [],
   "source": [
    "all_data = pd.read_csv(\"../../treated_population_data_w_cd3.csv\", index_col=0)"
   ]
  },
  {
   "cell_type": "code",
   "execution_count": null,
   "id": "complete-shuttle",
   "metadata": {},
   "outputs": [],
   "source": [
    "all_data = preprocess_data(all_data, remove_constant_features=False)\n",
    "all_data = all_data.rename(columns=feature_name_dict)"
   ]
  },
  {
   "cell_type": "code",
   "execution_count": null,
   "id": "killing-shell",
   "metadata": {},
   "outputs": [],
   "source": [
    "deselected_ids = [\"p421\", \"p723\"]\n",
    "\n",
    "all_data = all_data.loc[~all_data.loc[:, \"id\"].isin(deselected_ids)]"
   ]
  },
  {
   "cell_type": "code",
   "execution_count": null,
   "id": "valued-tuition",
   "metadata": {},
   "outputs": [],
   "source": [
    "fig, ax = plt.subplots(figsize=[12, 4], ncols=2)\n",
    "tp_order = [\"prior\", \"during\", \"end\"]\n",
    "sample_order = np.unique(all_data.loc[:, \"sample\"])\n",
    "ax = ax.flatten()\n",
    "ax[0] = sns.countplot(\n",
    "    x=\"sample\",\n",
    "    data=all_data,\n",
    "    ax=ax[0],\n",
    "    order=sample_order,\n",
    "    hue_order=tp_order,\n",
    "    hue=\"timepoint\",\n",
    "    palette=\"gray\",\n",
    ")\n",
    "ax[0].legend([], [], frameon=False)\n",
    "ax[0].set_xlabel(\"ID of the biological sample\")\n",
    "ax[0].set_title(\"Distribution of biological samples\")\n",
    "for tick in ax[0].get_xticklabels():\n",
    "    tick.set_rotation(45)\n",
    "\n",
    "ax[1] = sns.countplot(\n",
    "    x=\"timepoint\",\n",
    "    hue=\"timepoint\",\n",
    "    data=all_data,\n",
    "    ax=ax[1],\n",
    "    order=tp_order,\n",
    "    dodge=False,\n",
    "    palette=\"gray\",\n",
    ")\n",
    "ax[1].set_xlabel(\"Timepoint with respect to the treatment\")\n",
    "ax[1].set_title(\"Distribution of the different timepoints\")\n",
    "ax[1].legend(loc=\"lower right\")\n",
    "\n",
    "plt.show()\n",
    "plt.close()"
   ]
  },
  {
   "cell_type": "markdown",
   "id": "complicated-regulation",
   "metadata": {},
   "source": [
    "---\n",
    "\n",
    "#### Add cell type identities"
   ]
  },
  {
   "cell_type": "code",
   "execution_count": null,
   "id": "explicit-pound",
   "metadata": {},
   "outputs": [],
   "source": [
    "celltype_cols = [\"cd3\"]\n",
    "coding_dict = {0: \"-\", 1: \"+\"}\n",
    "for celltype_col in celltype_cols:\n",
    "    all_data.loc[:, celltype_col] = all_data.loc[:, celltype_col].map(coding_dict)\n",
    "\n",
    "all_data[\"celltype\"] = \"CD3\" + all_data[\"cd3\"]\n",
    "celltypes = np.unique(all_data.loc[:, \"celltype\"].dropna())"
   ]
  },
  {
   "cell_type": "code",
   "execution_count": null,
   "id": "least-detection",
   "metadata": {},
   "outputs": [],
   "source": [
    "ct_abundance_data = get_ct_abundance_data(all_data, normalize=True)"
   ]
  },
  {
   "cell_type": "markdown",
   "id": "intermediate-schema",
   "metadata": {},
   "source": [
    "#### Subsampling\n",
    "\n",
    "We next subsample the data set such that for each timepoint we have the same number of nuclei in the data set. Additionally, we ensure that the individual timepoint population are approximately uniformly represented by the different biological (patient) samples."
   ]
  },
  {
   "cell_type": "code",
   "execution_count": null,
   "id": "beneficial-flooring",
   "metadata": {},
   "outputs": [],
   "source": [
    "sampled_tp1_data = get_stratified_data(\n",
    "    all_data.loc[all_data.timepoint == \"prior\"],\n",
    "    id_column=\"sample\",\n",
    "    cond_column=\"cancer\",\n",
    "    seed=1234,\n",
    ")"
   ]
  },
  {
   "cell_type": "code",
   "execution_count": null,
   "id": "composite-resource",
   "metadata": {},
   "outputs": [],
   "source": [
    "sampled_tp2_data = get_stratified_data(\n",
    "    all_data.loc[all_data.timepoint == \"during\"],\n",
    "    id_column=\"sample\",\n",
    "    cond_column=\"cancer\",\n",
    "    seed=1234,\n",
    ")"
   ]
  },
  {
   "cell_type": "code",
   "execution_count": null,
   "id": "novel-qualification",
   "metadata": {},
   "outputs": [],
   "source": [
    "sampled_tp3_data = get_stratified_data(\n",
    "    all_data.loc[all_data.timepoint == \"end\"],\n",
    "    id_column=\"sample\",\n",
    "    cond_column=\"cancer\",\n",
    "    seed=1234,\n",
    ")"
   ]
  },
  {
   "cell_type": "code",
   "execution_count": null,
   "id": "eleven-permission",
   "metadata": {},
   "outputs": [],
   "source": [
    "sampled_data = pd.concat([sampled_tp1_data, sampled_tp2_data, sampled_tp3_data])"
   ]
  },
  {
   "cell_type": "code",
   "execution_count": null,
   "id": "opponent-snake",
   "metadata": {},
   "outputs": [],
   "source": [
    "fig, ax = plt.subplots(figsize=[18, 4], ncols=3)\n",
    "tp_order = [\"prior\", \"during\", \"end\"]\n",
    "cancer_order = [\"Meningioma\", \"Glioma\", \"Head & Neck\"]\n",
    "sample_order = np.unique(all_data.loc[:, \"sample\"])\n",
    "ax = ax.flatten()\n",
    "ax[0] = sns.countplot(\n",
    "    x=\"sample\",\n",
    "    data=sampled_data,\n",
    "    ax=ax[0],\n",
    "    order=sample_order,\n",
    "    hue_order=tp_order,\n",
    "    hue=\"timepoint\",\n",
    "    palette=\"gray\",\n",
    ")\n",
    "ax[0].legend([], [], frameon=False)\n",
    "ax[0].set_xlabel(\"ID of the biological sample\")\n",
    "ax[0].set_title(\"Distribution of biological samples\")\n",
    "for tick in ax[0].get_xticklabels():\n",
    "    tick.set_rotation(45)\n",
    "\n",
    "ax[1] = sns.countplot(\n",
    "    x=\"timepoint\",\n",
    "    hue=\"timepoint\",\n",
    "    data=sampled_data,\n",
    "    ax=ax[1],\n",
    "    order=tp_order,\n",
    "    hue_order=tp_order,\n",
    "    dodge=False,\n",
    "    palette=\"gray\",\n",
    ")\n",
    "ax[1].set_xlabel(\"Timepoint with respect to the treatment\")\n",
    "ax[1].set_title(\"Distribution of the different timepoints\")\n",
    "ax[1].legend(loc=\"lower right\")\n",
    "\n",
    "ax[2] = sns.countplot(\n",
    "    x=\"cancer\",\n",
    "    hue=\"cancer\",\n",
    "    data=sampled_data,\n",
    "    ax=ax[2],\n",
    "    order=cancer_order,\n",
    "    hue_order=cancer_order,\n",
    "    dodge=False,\n",
    "    palette=color_palette,\n",
    ")\n",
    "ax[2].set_xlabel(\"Cancer type\")\n",
    "ax[2].set_title(\"Distribution of the different cancer types\")\n",
    "ax[2].legend(loc=\"lower right\")\n",
    "\n",
    "plt.show()\n",
    "plt.close()"
   ]
  },
  {
   "cell_type": "markdown",
   "id": "handled-transport",
   "metadata": {},
   "source": [
    "----\n",
    "\n",
    "#### Sample and feature selection\n",
    "\n",
    "We now filter out constant features and nuclei with missing features."
   ]
  },
  {
   "cell_type": "code",
   "execution_count": null,
   "id": "opening-combination",
   "metadata": {},
   "outputs": [],
   "source": [
    "data = preprocess_data(sampled_data, remove_constant_features=True)"
   ]
  },
  {
   "cell_type": "markdown",
   "id": "congressional-dutch",
   "metadata": {},
   "source": [
    "---\n",
    "\n",
    "#### Data preparation\n",
    "\n",
    "After sampling the data, we will now prepare the data for the consecutive analysis, i.e. extracting only chrometric features and corresponding metadata information."
   ]
  },
  {
   "cell_type": "code",
   "execution_count": null,
   "id": "crazy-sally",
   "metadata": {},
   "outputs": [],
   "source": [
    "all_chrometric_data = get_chrometric_data(\n",
    "    data,\n",
    "    proteins=[\"gh2ax\", \"lamin\", \"cd3\"],\n",
    "    exclude_dna_int=True,\n",
    ")\n",
    "\n",
    "sample_labels = data.loc[:, \"sample\"]\n",
    "tp_labels = data.loc[:, \"timepoint\"]\n",
    "cancer_labels = data.loc[:, \"cancer\"]\n",
    "ct_labels = data.loc[:, \"celltype\"]"
   ]
  },
  {
   "cell_type": "markdown",
   "id": "frank-stretch",
   "metadata": {},
   "source": [
    "Finally, we remove highly correlated features (Pearson $\\rho > 0.8$) from the chrometric features."
   ]
  },
  {
   "cell_type": "code",
   "execution_count": null,
   "id": "completed-output",
   "metadata": {},
   "outputs": [],
   "source": [
    "chrometric_data = remove_correlated_features(all_chrometric_data, threshold=0.8)"
   ]
  },
  {
   "cell_type": "markdown",
   "id": "published-utilization",
   "metadata": {},
   "source": [
    "---\n",
    "\n",
    "## 3. Panels\n",
    "\n",
    "Now we generate the individual panels for figure 4 of the paper."
   ]
  },
  {
   "cell_type": "markdown",
   "id": "centered-slovak",
   "metadata": {},
   "source": [
    "---\n",
    "\n",
    "### 3.a. T cell abundancies changes during the treatment\n",
    "\n",
    "At first we look at the relative frequencies of CD3+/- PBMCs in our samples at the different treatment timepoints."
   ]
  },
  {
   "cell_type": "code",
   "execution_count": null,
   "id": "numerical-framework",
   "metadata": {},
   "outputs": [],
   "source": [
    "celltype_labels = []\n",
    "for celltype in celltypes:\n",
    "    celltype_labels.append(\"Fraction of {} among all PBMCs\".format(celltype))\n",
    "\n",
    "plot_celltype_abundancies(\n",
    "    ct_abundance_data,\n",
    "    celltypes=celltypes,\n",
    "    celltype_labels=celltype_labels,\n",
    "    figsize=[4, 4],\n",
    "    plot_type=\"bar\",\n",
    ")"
   ]
  },
  {
   "cell_type": "markdown",
   "id": "continuing-magnet",
   "metadata": {},
   "source": [
    "The above plot indicates that there are no significant differences between abundancies of CD3+ T cells between cancer types and/or the different treatment time points. "
   ]
  },
  {
   "cell_type": "markdown",
   "id": "threaded-arrest",
   "metadata": {},
   "source": [
    "___"
   ]
  },
  {
   "cell_type": "markdown",
   "id": "crucial-spanish",
   "metadata": {},
   "source": [
    "### 3.b. Chrometric differences between CD3+/- PBMCs\n",
    "\n",
    "We will now check whether or not there are significant differences between the previously identified chromatin biomarkers that capture the treatment effects between CD3+ positive and CD3- negative PBMCs."
   ]
  },
  {
   "cell_type": "markdown",
   "id": "supposed-buffalo",
   "metadata": {},
   "source": [
    "#### Classification\n",
    "\n",
    "To this end, we will first assess how well a RandomForest classifier can distinguish between the CD3+/- PBMCs based on the chrometric features. We first obtain a random balanced subset of CD3+ and CD3- PBMCs and then evaluate the class separability using a 10-fold stratfied cross-validation approach."
   ]
  },
  {
   "cell_type": "code",
   "execution_count": null,
   "id": "unable-lawsuit",
   "metadata": {},
   "outputs": [],
   "source": [
    "rfc = RandomForestClassifier(\n",
    "    n_estimators=500, n_jobs=10, random_state=seed, class_weight=\"balanced\"\n",
    ")\n",
    "idc = np.array(chrometric_data.index).reshape(-1, 1)\n",
    "sampled_idc, _ = RandomUnderSampler(random_state=seed).fit_resample(idc, ct_labels)\n",
    "sampled_ct_data = chrometric_data.loc[sampled_idc.flatten()]\n",
    "sampled_ct_labels = ct_labels.loc[sampled_idc.flatten()]\n",
    "sampled_sample_labels = sample_labels.loc[sampled_idc.flatten()]"
   ]
  },
  {
   "cell_type": "code",
   "execution_count": null,
   "id": "macro-dominant",
   "metadata": {},
   "outputs": [],
   "source": [
    "len(sampled_sample_labels)"
   ]
  },
  {
   "cell_type": "code",
   "execution_count": null,
   "id": "aggressive-integrity",
   "metadata": {
    "scrolled": true
   },
   "outputs": [],
   "source": [
    "ct_cv_conf_mtx_nuclei = get_cv_conf_mtx(\n",
    "    estimator=rfc,\n",
    "    features=sampled_ct_data,\n",
    "    labels=sampled_ct_labels,\n",
    "    groups=sampled_sample_labels,\n",
    "    scale_features=False,\n",
    "    n_folds=len(set(sampled_sample_labels)),\n",
    "    order=[\"CD3+\", \"CD3-\"],\n",
    ")\n",
    "normalized_ct_cv_conf_mtx_nuclei = ct_cv_conf_mtx_nuclei.divide(\n",
    "    ct_cv_conf_mtx_nuclei.sum(axis=1), axis=0\n",
    ")"
   ]
  },
  {
   "cell_type": "code",
   "execution_count": null,
   "id": "primary-laser",
   "metadata": {},
   "outputs": [],
   "source": [
    "fig, ax = plt.subplots(figsize=[5, 4])\n",
    "ax = sns.heatmap(\n",
    "    normalized_ct_cv_conf_mtx_nuclei,\n",
    "    annot=True,\n",
    "    fmt=\".4f\",\n",
    "    cmap=\"viridis\",\n",
    "    vmin=0,\n",
    "    vmax=1,\n",
    "    # cbar=False,\n",
    "    annot_kws={\"size\": 16, \"weight\": \"bold\"},\n",
    ")\n",
    "ax.set_xlabel(\"Predicted cell type\")\n",
    "ax.set_ylabel(\"True cell type\")\n",
    "plt.show()"
   ]
  },
  {
   "cell_type": "code",
   "execution_count": null,
   "id": "based-glossary",
   "metadata": {},
   "outputs": [],
   "source": [
    "groupkfold = StratifiedGroupKFold(n_splits=len(set(sampled_sample_labels)))\n",
    "cv_bacs = cross_val_score(\n",
    "    rfc,\n",
    "    cv=groupkfold,\n",
    "    X=sampled_ct_data,\n",
    "    y=sampled_ct_labels,\n",
    "    groups=sampled_sample_labels,\n",
    "    scoring=\"balanced_accuracy\",\n",
    "    n_jobs=10,\n",
    ")\n",
    "print(\"Balanced accuracy: {} (+/- {})\".format(np.mean(cv_bacs), np.std(cv_bacs)))"
   ]
  },
  {
   "cell_type": "markdown",
   "id": "muslim-karen",
   "metadata": {},
   "source": [
    "We notice that the classifier can accurately distinguish between CD3+ and CD3- PBMCs based on the chrometric profiles as indicated in the above confusion matrix.\n",
    "\n",
    "---\n",
    "\n",
    "#### Feature importance\n",
    "\n",
    "The feature importance plot shown below identifies the chrometric markers which are most indicative of the cell type."
   ]
  },
  {
   "cell_type": "code",
   "execution_count": null,
   "id": "green-lobby",
   "metadata": {},
   "outputs": [],
   "source": [
    "def plot_feature_importance(\n",
    "        importance,\n",
    "        names,\n",
    "        model_type,\n",
    "        figsize=[6, 4],\n",
    "        cmap=[\"gray\"],\n",
    "        n_features=10,\n",
    "        feature_color_dict=None,\n",
    "        labelsize=6,\n",
    "):\n",
    "    # Create arrays from feature importance and feature names\n",
    "    feature_importance = np.array(importance)\n",
    "    feature_names = np.array(names)\n",
    "\n",
    "    # Create a DataFrame using a Dictionary\n",
    "    data = {\"feature_names\": feature_names, \"feature_importance\": feature_importance}\n",
    "    fi_df = pd.DataFrame(data)\n",
    "\n",
    "    # Sort the DataFrame in order decreasing feature importance\n",
    "    fi_df.sort_values(by=[\"feature_importance\"], ascending=False, inplace=True)\n",
    "    fi_df = fi_df.head(n_features)\n",
    "    # Define size of bar plot\n",
    "    fig, ax = plt.subplots(figsize=figsize)\n",
    "    # Plot Searborn bar chart\n",
    "    ax = sns.barplot(\n",
    "        x=fi_df[\"feature_importance\"], y=fi_df[\"feature_names\"], palette=cmap, ax=ax\n",
    "    )\n",
    "    if feature_color_dict is not None:\n",
    "        for yticklabel in ax.get_yticklabels():\n",
    "            yticklabel.set_color(feature_color_dict[yticklabel.get_text()])\n",
    "            #yticklabel.set_rotation(90)\n",
    "    ax.tick_params(axis=\"x\", labelsize=labelsize)\n",
    "    ax.tick_params(axis=\"y\", labelsize=labelsize)\n",
    "\n",
    "    # xticklabel.set_ha(\"right\")\n",
    "    # Add chart labels\n",
    "    ax.set_title(model_type + \"FEATURE IMPORTANCE\")\n",
    "    ax.set_xlabel(\"\")\n",
    "    ax.set_ylabel(\"\")\n",
    "    return fig, ax\n",
    "\n",
    "\n",
    "\n",
    "def plot_feature_importance_for_estimator(\n",
    "        estimator,\n",
    "        features,\n",
    "        labels,\n",
    "        scale_features=True,\n",
    "        cmap=[\"gray\"],\n",
    "        figsize=[6, 4],\n",
    "        n_features=10,\n",
    "        feature_color_dict=None,\n",
    "        labelsize=6,\n",
    "):\n",
    "    if scale_features:\n",
    "        sc = StandardScaler()\n",
    "        features = pd.DataFrame(\n",
    "            sc.fit_transform(features), index=features.index, columns=features.columns\n",
    "        )\n",
    "    estimator = estimator.fit(features, labels)\n",
    "    fig, ax = plot_feature_importance(\n",
    "        estimator.feature_importances_,\n",
    "        features.columns,\n",
    "        \"RFC\",\n",
    "        figsize=figsize,\n",
    "        cmap=cmap,\n",
    "        n_features=n_features,\n",
    "        feature_color_dict=feature_color_dict,\n",
    "        labelsize=labelsize,\n",
    "    )\n",
    "    ax.set_title(\"\")\n",
    "    return fig, ax\n"
   ]
  },
  {
   "cell_type": "code",
   "execution_count": null,
   "id": "optical-artwork",
   "metadata": {},
   "outputs": [],
   "source": []
  },
  {
   "cell_type": "code",
   "execution_count": null,
   "id": "ongoing-instruction",
   "metadata": {},
   "outputs": [],
   "source": [
    "fig, ax = plot_feature_importance_for_estimator(\n",
    "    rfc,\n",
    "    sampled_ct_data,\n",
    "    sampled_ct_labels,\n",
    "    scale_features=False,\n",
    "    cmap=[\"gray\"],\n",
    "    figsize=[2, 2],\n",
    "    feature_color_dict=feature_color_dict,\n",
    "    n_features=15,\n",
    ")\n",
    "# plt.yticks(rotation=90)\n",
    "# plt.xticks(rotation=90)\n",
    "plt.show()"
   ]
  },
  {
   "cell_type": "code",
   "execution_count": null,
   "id": "cubic-perception",
   "metadata": {},
   "outputs": [],
   "source": [
    "plt.show()"
   ]
  },
  {
   "cell_type": "markdown",
   "id": "mathematical-genre",
   "metadata": {},
   "source": [
    "#### CD3+ marker screen\n",
    "\n",
    "The results of a t-test based marker screen validates that in particular shape features like the solidity, the nuclear size as well as the curvature of the boundary of the projected nuclear mask carry information that distinguish the individual cell types."
   ]
  },
  {
   "cell_type": "code",
   "execution_count": null,
   "id": "naked-paragraph",
   "metadata": {},
   "outputs": [],
   "source": [
    "marker_screen_results_ct = find_markers(chrometric_data, ct_labels)\n",
    "marker_screen_results_ct.loc[marker_screen_results_ct.label == \"CD3+\"].head(10)"
   ]
  },
  {
   "cell_type": "markdown",
   "id": "actual-clark",
   "metadata": {},
   "source": [
    "We note that the CD3+ cells show on average a more curved nuclear boundary with less changes of the same that features a more convex shape as apposed to CD3- cells."
   ]
  },
  {
   "cell_type": "code",
   "execution_count": null,
   "id": "quiet-briefs",
   "metadata": {},
   "outputs": [],
   "source": [
    "markers = [\"volume\", \"std_curvature\", \"concavity_3d\"]\n",
    "marker_labels = [\n",
    "    r\"Nuclear volume in $px^3$\",\n",
    "    \"Standard deviation of the curvature\",\n",
    "    \"Concavity\",\n",
    "]\n",
    "plot_cell_type_markers_dist(\n",
    "    data=all_data, markers=markers, marker_labels=marker_labels, cut=0, palette=\"gray\"\n",
    ")"
   ]
  },
  {
   "cell_type": "code",
   "execution_count": null,
   "id": "practical-appendix",
   "metadata": {},
   "outputs": [],
   "source": [
    "markers = [\n",
    "    \"volume\",\n",
    "    \"hetero_to_euchromatin_volume_ratio\",\n",
    "    \"std_curvature\",\n",
    "    \"concavity_3d\",\n",
    "]\n",
    "marker_labels = [\n",
    "    r\"Nuclear volume in $px^3$\",\n",
    "    \"HC/EC ratio\",\n",
    "    \"Standard deviation of the curvature\",\n",
    "    \"Concavity\",\n",
    "]\n",
    "plot_cell_type_markers_dist(\n",
    "    data=all_data,\n",
    "    markers=markers,\n",
    "    marker_labels=marker_labels,\n",
    "    cut=0,\n",
    "    palette=\"gray\",\n",
    "    plot_type=\"bar\",\n",
    ")"
   ]
  },
  {
   "cell_type": "code",
   "execution_count": null,
   "id": "satisfactory-fishing",
   "metadata": {},
   "outputs": [],
   "source": [
    "markers = [\n",
    "    \"volume\",\n",
    "    \"hetero_to_euchromatin_volume_ratio\",\n",
    "    \"std_curvature\",\n",
    "    \"concavity_3d\",\n",
    "]\n",
    "marker_labels = [\n",
    "    r\"Nuclear volume in $px^3$\",\n",
    "    \"HC/EC ratio\",\n",
    "    \"Standard deviation of the curvature\",\n",
    "    \"Concavity\",\n",
    "]\n",
    "\n",
    "fig, ax = plot_joint_markers_celltype(\n",
    "    data,\n",
    "    markers,\n",
    "    marker_labels,\n",
    "    label_col=\"celltype\",\n",
    "    palette=\"gray\",\n",
    "    figsize=[8, 4],\n",
    "    cut=0,\n",
    ")\n",
    "ax.set_ylabel(\"Normalized marker value\")\n",
    "ax.set_xlabel(\"Chrometric Marker\")\n",
    "sns.move_legend(\n",
    "    ax,\n",
    "    \"lower center\",\n",
    "    bbox_to_anchor=(0.5, 1),\n",
    "    ncol=2,\n",
    "    title=None,\n",
    "    frameon=False,\n",
    ")\n",
    "plt.show()"
   ]
  },
  {
   "cell_type": "markdown",
   "id": "apart-atmosphere",
   "metadata": {},
   "source": [
    "---\n",
    "\n",
    "### 3b. Parametric analysis captures captures differences of PBMCs at different timepoints of the proton therapy treatment"
   ]
  },
  {
   "cell_type": "markdown",
   "id": "olympic-organ",
   "metadata": {},
   "source": [
    "Since there are significant differences of the chrometric phenotypes between CD3+ and CD3- negative cells we will now look at the previously identifed features that are the most significantly changing for both CD3+ and CD3- negative cells."
   ]
  },
  {
   "cell_type": "code",
   "execution_count": null,
   "id": "differential-satisfaction",
   "metadata": {
    "scrolled": false
   },
   "outputs": [],
   "source": [
    "markers = [\n",
    "    \"volume\",\n",
    "    \"hetero_to_euchromatin_area_ratio\",\n",
    "    \"radial_chromatin_content_p10\",\n",
    "    \"std_curvature\",\n",
    "    \"glcm_contrast_5px\",\n",
    "    \"glcm_correlation_5px\",\n",
    "    \"skewness_absolute_dna_intensity_distribution\",\n",
    "    \"kurtosis_absolute_dna_intensity_distribution\",\n",
    "]\n",
    "marker_labels = [\n",
    "    r\"Nuclear volume in px$^3$\",\n",
    "    \"relative HC/EC ratio\",\n",
    "    \"Fraction of the overall DNA intensity \\n within the inner 10% of the nuclear volume\",\n",
    "    \"Standard deviation of the curvature\",\n",
    "    \"Contrast of the GLCM \\n with a shift of 5px (2D)\",\n",
    "    \"Correlation of the GLCM \\n with a shift of 5px (2D)\",\n",
    "    \"Skewness of the DNA\\n intensity distribution (2D)\",\n",
    "    \"Kurtosis of the DNA\\n intensity distribution (2D)\",\n",
    "]\n",
    "plot_timepoint_cancer_celltype_markers_dist(\n",
    "    data,\n",
    "    markers,\n",
    "    marker_labels,\n",
    "    celltypes=[\"CD3+\", \"CD3-\"],\n",
    "    cut=0,\n",
    "    palette=color_palette,\n",
    "    figsize=[9, 4],\n",
    ")"
   ]
  },
  {
   "cell_type": "code",
   "execution_count": null,
   "id": "republican-acrobat",
   "metadata": {},
   "outputs": [],
   "source": [
    "plot_timepoint_cancer_celltype_markers_dist(\n",
    "    data,\n",
    "    markers,\n",
    "    marker_labels,\n",
    "    celltypes=[\"CD3+\", \"CD3-\"],\n",
    "    cut=0,\n",
    "    palette=color_palette,\n",
    "    figsize=[12, 4],\n",
    "    plot_type=\"bar\",\n",
    ")"
   ]
  },
  {
   "cell_type": "markdown",
   "id": "innocent-scratch",
   "metadata": {},
   "source": [
    "---\n",
    "\n",
    "### 3d. Proteomic differences of PBMCs in cancer"
   ]
  },
  {
   "cell_type": "markdown",
   "id": "chinese-family",
   "metadata": {},
   "source": [
    "Finally, we also assess the proteomic differences between the different treatment timepoint populations. To this end, we plot the relative Lamin and gH2AX expression measured by the sum of the intensities of the corresponding imaging channels normalized by the nuclear volume. Additionally, we plot the number of identified gH2AX foci which are computed as the local maxima peaks found in the corresponding channel images."
   ]
  },
  {
   "cell_type": "markdown",
   "id": "reported-upgrade",
   "metadata": {},
   "source": [
    "Note that those features are only available for the first data set that was stained for those proteins."
   ]
  },
  {
   "cell_type": "code",
   "execution_count": null,
   "id": "closed-isaac",
   "metadata": {
    "scrolled": false
   },
   "outputs": [],
   "source": [
    "markers = [\n",
    "    \"rel_lamin_3d_int\",\n",
    "    \"rel_gh2ax_3d_int\",\n",
    "    \"gh2ax_foci_count\",\n",
    "    \"gh2ax_sum_foci_area\",\n",
    "    \"gh2ax_avg_foci_area\",\n",
    "]\n",
    "marker_labels = [\n",
    "    \"Volume-normalized nuclear\\nLamin A/C intensity\",\n",
    "    \"Normalized nuclear\\n\" r\"$\\gamma$H2AX intensity\",\n",
    "    r\"Number of $\\gamma$H2AX foci\",\n",
    "    r\"Sum of the $\\gamma$H2AX foci area\",\n",
    "    r\"Average size of the $\\gamma$H2AX foci\",\n",
    "]\n",
    "plot_timepoint_cancer_celltype_markers_dist(\n",
    "    data,\n",
    "    markers,\n",
    "    marker_labels,\n",
    "    quantiles=None,\n",
    "    celltypes=[\"CD3+\", \"CD3-\"],\n",
    "    cut=0,\n",
    "    plot_type=\"bar\",\n",
    "    palette=color_palette,\n",
    "    figsize=[7, 4],\n",
    ")"
   ]
  },
  {
   "cell_type": "code",
   "execution_count": null,
   "id": "primary-arnold",
   "metadata": {},
   "outputs": [],
   "source": [
    "markers = [\n",
    "    \"rel_lamin_3d_int\",\n",
    "    \"rel_gh2ax_3d_int\",\n",
    "    \"gh2ax_foci_count\",\n",
    "    \"gh2ax_sum_foci_area\",\n",
    "    \"gh2ax_avg_foci_area\",\n",
    "]\n",
    "marker_labels = [\n",
    "    \"Volume-normalized nuclear\\nLamin A/C intensity\",\n",
    "    \"Normalized nuclear\\n\" r\"$\\gamma$H2AX intensity\",\n",
    "    r\"Number of $\\gamma$H2AX foci\",\n",
    "    r\"Sum of the $\\gamma$H2AX foci area\",\n",
    "    r\"Average size of the $\\gamma$H2AX foci\",\n",
    "]\n",
    "plot_cell_type_markers_dist(\n",
    "    data=all_data,\n",
    "    markers=markers,\n",
    "    marker_labels=marker_labels,\n",
    "    cut=0,\n",
    "    palette=\"gray\",\n",
    "    plot_type=\"bar\",\n",
    ")"
   ]
  },
  {
   "cell_type": "markdown",
   "id": "anonymous-state",
   "metadata": {},
   "source": [
    "---\n",
    "\n",
    "## 4. Supplemental"
   ]
  },
  {
   "cell_type": "markdown",
   "id": "narrow-recommendation",
   "metadata": {},
   "source": [
    "#### Tumor type classification with CD3+ PBMCs only"
   ]
  },
  {
   "cell_type": "code",
   "execution_count": null,
   "id": "addressed-publicity",
   "metadata": {},
   "outputs": [],
   "source": [
    "idc = ct_labels[ct_labels == \"CD3+\"].index\n",
    "idc = tp_labels.loc[idc]\n",
    "tp_idc = idc[idc == \"prior\"].index\n",
    "idc = sample_labels.loc[tp_idc]\n",
    "idc = idc[idc != \"p41\"].index"
   ]
  },
  {
   "cell_type": "code",
   "execution_count": null,
   "id": "permanent-fleet",
   "metadata": {},
   "outputs": [],
   "source": [
    "fig, ax = plt.subplots(figsize=[6, 4])\n",
    "ax = sns.countplot(sample_labels.loc[tp_idc], palette=[\"b\"])\n",
    "plt.xticks(rotation=90)\n",
    "plt.show()"
   ]
  },
  {
   "cell_type": "code",
   "execution_count": null,
   "id": "presidential-contributor",
   "metadata": {},
   "outputs": [],
   "source": [
    "rfc = RandomForestClassifier(\n",
    "    n_estimators=500, n_jobs=10, random_state=seed, class_weight=\"balanced\"\n",
    ")"
   ]
  },
  {
   "cell_type": "code",
   "execution_count": null,
   "id": "sudden-medline",
   "metadata": {},
   "outputs": [],
   "source": [
    "sample_labels.loc[idc].nunique()"
   ]
  },
  {
   "cell_type": "code",
   "execution_count": null,
   "id": "classified-draft",
   "metadata": {},
   "outputs": [],
   "source": [
    "ct_cv_conf_mtx_nuclei = get_cv_conf_mtx(\n",
    "    estimator=rfc,\n",
    "    features=chrometric_data.loc[idc],\n",
    "    labels=cancer_labels.loc[idc],\n",
    "    groups=sample_labels.loc[idc],\n",
    "    scale_features=False,\n",
    "    n_folds=sample_labels.loc[idc].nunique(),\n",
    "    order=[\"Meningioma\", \"Glioma\", \"Head & Neck\"],\n",
    ")\n",
    "normalized_ct_cv_conf_mtx_nuclei = ct_cv_conf_mtx_nuclei.divide(\n",
    "    ct_cv_conf_mtx_nuclei.sum(axis=1), axis=0\n",
    ")"
   ]
  },
  {
   "cell_type": "code",
   "execution_count": null,
   "id": "hidden-flavor",
   "metadata": {},
   "outputs": [],
   "source": [
    "fig, ax = plt.subplots(figsize=[5, 4])\n",
    "ax = sns.heatmap(\n",
    "    normalized_ct_cv_conf_mtx_nuclei,\n",
    "    annot=True,\n",
    "    fmt=\".4f\",\n",
    "    cmap=\"viridis\",\n",
    "    vmin=0,\n",
    "    vmax=1,\n",
    "    # cbar=False,\n",
    "    annot_kws={\"size\": 16, \"weight\": \"bold\"},\n",
    ")\n",
    "ax.set_xlabel(\"\")\n",
    "ax.set_ylabel(\"\")\n",
    "plt.show()"
   ]
  },
  {
   "cell_type": "code",
   "execution_count": null,
   "id": "driven-poetry",
   "metadata": {},
   "outputs": [],
   "source": [
    "groupkfold = StratifiedGroupKFold(n_splits=sample_labels.loc[idc].nunique())\n",
    "cv_bacs = cross_val_score(\n",
    "    rfc,\n",
    "    cv=groupkfold,\n",
    "    X=chrometric_data.loc[idc],\n",
    "    y=cancer_labels.loc[idc],\n",
    "    groups=sample_labels.loc[idc],\n",
    "    scoring=\"balanced_accuracy\",\n",
    "    n_jobs=10,\n",
    ")\n",
    "print(\"Balanced accuracy: {} (+/- {})\".format(np.mean(cv_bacs), np.std(cv_bacs)))"
   ]
  },
  {
   "cell_type": "markdown",
   "id": "lyric-lucas",
   "metadata": {},
   "source": [
    "---\n",
    "\n",
    "#### Tumor type classification with CD3- PBMCs only"
   ]
  },
  {
   "cell_type": "code",
   "execution_count": null,
   "id": "elder-conservation",
   "metadata": {},
   "outputs": [],
   "source": [
    "idc = ct_labels[ct_labels == \"CD3-\"].index\n",
    "idc = tp_labels.loc[idc]\n",
    "tp_idc = idc[idc == \"prior\"].index\n",
    "idc = sample_labels.loc[tp_idc].index"
   ]
  },
  {
   "cell_type": "code",
   "execution_count": null,
   "id": "extended-smile",
   "metadata": {},
   "outputs": [],
   "source": [
    "fig, ax = plt.subplots(figsize=[6, 4])\n",
    "ax = sns.countplot(sample_labels.loc[tp_idc], palette=[\"b\"])\n",
    "plt.xticks(rotation=90)\n",
    "plt.show()"
   ]
  },
  {
   "cell_type": "code",
   "execution_count": null,
   "id": "split-lemon",
   "metadata": {},
   "outputs": [],
   "source": [
    "rfc = RandomForestClassifier(\n",
    "    n_estimators=500, n_jobs=10, random_state=seed, class_weight=\"balanced\"\n",
    ")"
   ]
  },
  {
   "cell_type": "code",
   "execution_count": null,
   "id": "printable-address",
   "metadata": {},
   "outputs": [],
   "source": [
    "sample_labels.loc[idc].nunique()"
   ]
  },
  {
   "cell_type": "code",
   "execution_count": null,
   "id": "egyptian-damage",
   "metadata": {},
   "outputs": [],
   "source": [
    "ct_cv_conf_mtx_nuclei = get_cv_conf_mtx(\n",
    "    estimator=rfc,\n",
    "    features=chrometric_data.loc[idc],\n",
    "    labels=cancer_labels.loc[idc],\n",
    "    groups=sample_labels.loc[idc],\n",
    "    scale_features=False,\n",
    "    n_folds=sample_labels.loc[idc].nunique(),\n",
    "    order=[\"Meningioma\", \"Glioma\", \"Head & Neck\"],\n",
    ")\n",
    "normalized_ct_cv_conf_mtx_nuclei = ct_cv_conf_mtx_nuclei.divide(\n",
    "    ct_cv_conf_mtx_nuclei.sum(axis=1), axis=0\n",
    ")"
   ]
  },
  {
   "cell_type": "code",
   "execution_count": null,
   "id": "white-challenge",
   "metadata": {},
   "outputs": [],
   "source": [
    "fig, ax = plt.subplots(figsize=[5, 4])\n",
    "ax = sns.heatmap(\n",
    "    normalized_ct_cv_conf_mtx_nuclei,\n",
    "    annot=True,\n",
    "    fmt=\".4f\",\n",
    "    cmap=\"viridis\",\n",
    "    vmin=0,\n",
    "    vmax=1,\n",
    "    # cbar=False,\n",
    "    annot_kws={\"size\": 16, \"weight\": \"bold\"},\n",
    ")\n",
    "ax.set_xlabel(\"\")\n",
    "ax.set_ylabel(\"\")\n",
    "plt.show()"
   ]
  },
  {
   "cell_type": "code",
   "execution_count": null,
   "id": "electronic-biography",
   "metadata": {},
   "outputs": [],
   "source": [
    "groupkfold = StratifiedGroupKFold(n_splits=sample_labels.loc[idc].nunique())\n",
    "cv_bacs = cross_val_score(\n",
    "    rfc,\n",
    "    cv=groupkfold,\n",
    "    X=chrometric_data.loc[idc],\n",
    "    y=cancer_labels.loc[idc],\n",
    "    groups=sample_labels.loc[idc],\n",
    "    scoring=\"balanced_accuracy\",\n",
    "    n_jobs=10,\n",
    ")\n",
    "print(\"Balanced accuracy: {} (+/- {})\".format(np.mean(cv_bacs), np.std(cv_bacs)))"
   ]
  },
  {
   "cell_type": "code",
   "execution_count": null,
   "id": "alien-translator",
   "metadata": {},
   "outputs": [],
   "source": []
  },
  {
   "cell_type": "code",
   "execution_count": null,
   "id": "thrown-roommate",
   "metadata": {},
   "outputs": [],
   "source": []
  }
 ],
 "metadata": {
  "kernelspec": {
   "display_name": "Python 3",
   "language": "python",
   "name": "python3"
  },
  "language_info": {
   "codemirror_mode": {
    "name": "ipython",
    "version": 3
   },
   "file_extension": ".py",
   "mimetype": "text/x-python",
   "name": "python",
   "nbconvert_exporter": "python",
   "pygments_lexer": "ipython3",
   "version": "3.8.0"
  },
  "toc": {
   "base_numbering": 1,
   "nav_menu": {},
   "number_sections": true,
   "sideBar": true,
   "skip_h1_title": false,
   "title_cell": "Table of Contents",
   "title_sidebar": "Contents",
   "toc_cell": false,
   "toc_position": {},
   "toc_section_display": true,
   "toc_window_display": false
  }
 },
 "nbformat": 4,
 "nbformat_minor": 5
}
