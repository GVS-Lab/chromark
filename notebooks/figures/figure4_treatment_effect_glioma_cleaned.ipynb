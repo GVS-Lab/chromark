{
 "cells": [
  {
   "cell_type": "markdown",
   "id": "indian-simon",
   "metadata": {},
   "source": [
    "# Nuclear chromatin phenotypes of PBMCs reflects the treatment effect of proton therapy (Glioma)\n",
    "\n",
    "---\n",
    "This notebook summarizes the analysis corresponding to the results presented in figure 4 of the paper for Glioma patients. It can be used to rerun the analysis and regenerate the corresponding panels.\n",
    "\n",
    "---"
   ]
  },
  {
   "cell_type": "markdown",
   "id": "metric-fusion",
   "metadata": {},
   "source": [
    "## 0. Environmental setup"
   ]
  },
  {
   "cell_type": "code",
   "execution_count": null,
   "id": "renewable-magic",
   "metadata": {},
   "outputs": [],
   "source": [
    "import pandas as pd\n",
    "import numpy as np\n",
    "import seaborn as sns\n",
    "import random\n",
    "import os\n",
    "import matplotlib.pyplot as plt\n",
    "from sklearn.ensemble import RandomForestClassifier\n",
    "import matplotlib as mpl\n",
    "\n",
    "mpl.rcParams[\"figure.dpi\"] = 1200\n",
    "\n",
    "import sys\n",
    "\n",
    "sys.path.append(\"../..\")\n",
    "from src.utils.notebooks.eda import *\n",
    "from src.utils.notebooks.figure3 import *\n",
    "from sklearn.discriminant_analysis import LinearDiscriminantAnalysis\n",
    "from sklearn.model_selection import cross_val_score, StratifiedGroupKFold\n",
    "\n",
    "seed = 1234\n",
    "random.seed(1234)\n",
    "np.random.seed(1234)\n",
    "\n",
    "%reload_ext nb_black"
   ]
  },
  {
   "cell_type": "code",
   "execution_count": null,
   "id": "resistant-lying",
   "metadata": {},
   "outputs": [],
   "source": [
    "nuc_feature_desc = pd.read_csv(\n",
    "    \"../../data/chrometric_feature_description.csv\", index_col=0\n",
    ")\n",
    "feature_name_dict = dict(\n",
    "    zip(\n",
    "        list(nuc_feature_desc.loc[:, \"feature\"]),\n",
    "        list(nuc_feature_desc.loc[:, \"long_name\"]),\n",
    "    )\n",
    ")\n",
    "feature_color_dict = {\n",
    "    \"morphology\": \"b\",\n",
    "    \"intensity\": \"g\",\n",
    "    \"boundary\": \"r\",\n",
    "    \"texture\": \"c\",\n",
    "    \"chromatin condensation\": \"m\",\n",
    "    \"moments\": \"y\",\n",
    "    np.nan: \"k\",\n",
    "}\n",
    "feature_color_dict = {\n",
    "    feature: feature_color_dict[category]\n",
    "    for (feature, category) in zip(\n",
    "        list(nuc_feature_desc.loc[:, \"long_name\"]),\n",
    "        list(nuc_feature_desc.loc[:, \"category\"]),\n",
    "    )\n",
    "}"
   ]
  },
  {
   "cell_type": "code",
   "execution_count": null,
   "id": "front-miniature",
   "metadata": {},
   "outputs": [],
   "source": [
    "color_palette = {\n",
    "    \"prior\": \"orange\",\n",
    "    \"during\": \"gold\",\n",
    "    \"end\": \"saddlebrown\",\n",
    "}"
   ]
  },
  {
   "cell_type": "markdown",
   "id": "adopted-australia",
   "metadata": {},
   "source": [
    "---\n",
    "\n",
    "## 1. Read in data"
   ]
  },
  {
   "cell_type": "markdown",
   "id": "rocky-equivalent",
   "metadata": {},
   "source": [
    "In this notebook we assess the differences of the cell states of PBMCs at three different time points of the proton therapy treatment: before, during (~3 weeks in) and at the end of the treatment (final week of treatment). To this end, we obtained PBMCs of 8 Glioma patients stained them for DNA, gH2AX and Lamin A/C and obtained fluorescent images."
   ]
  },
  {
   "cell_type": "markdown",
   "id": "front-software",
   "metadata": {},
   "source": [
    "First, we read in the required data set that describe each PBMCs by a number of hand-crafted features extracted from the fluorescent images of the cells."
   ]
  },
  {
   "cell_type": "code",
   "execution_count": null,
   "id": "appropriate-soundtrack",
   "metadata": {},
   "outputs": [],
   "source": [
    "all_data = pd.read_csv(\"../../data/treated_population_data.csv\", index_col=0)\n",
    "all_data = all_data.loc[all_data.cancer == \"Glioma\"]\n",
    "all_data = preprocess_data(all_data, remove_constant_features=False)\n",
    "all_data = all_data.rename(columns=feature_name_dict)\n",
    "len(all_data)"
   ]
  },
  {
   "cell_type": "code",
   "execution_count": null,
   "id": "valued-tuition",
   "metadata": {},
   "outputs": [],
   "source": [
    "fig, ax = plt.subplots(figsize=[12, 4], ncols=2)\n",
    "tp_order = [\"prior\", \"during\", \"end\"]\n",
    "sample_order = np.unique(all_data.loc[:, \"sample\"])\n",
    "ax = ax.flatten()\n",
    "ax[0] = sns.countplot(\n",
    "    x=\"sample\",\n",
    "    data=all_data,\n",
    "    ax=ax[0],\n",
    "    order=sample_order,\n",
    "    hue_order=tp_order,\n",
    "    hue=\"timepoint\",\n",
    "    palette=color_palette,\n",
    ")\n",
    "ax[0].legend([], [], frameon=False)\n",
    "ax[0].set_xlabel(\"ID of the biological sample\")\n",
    "ax[0].set_title(\"Distribution of biological samples\")\n",
    "for tick in ax[0].get_xticklabels():\n",
    "    tick.set_rotation(45)\n",
    "\n",
    "ax[1] = sns.countplot(\n",
    "    x=\"timepoint\",\n",
    "    hue=\"timepoint\",\n",
    "    data=all_data,\n",
    "    ax=ax[1],\n",
    "    order=tp_order,\n",
    "    dodge=False,\n",
    "    palette=color_palette,\n",
    ")\n",
    "ax[1].set_xlabel(\"Timepoint with respect to the treatment\")\n",
    "ax[1].set_title(\"Distribution of the different timepoints\")\n",
    "ax[1].legend(loc=\"lower right\")\n",
    "\n",
    "plt.show()\n",
    "plt.close()"
   ]
  },
  {
   "cell_type": "markdown",
   "id": "surprised-ghana",
   "metadata": {},
   "source": [
    "___"
   ]
  },
  {
   "cell_type": "markdown",
   "id": "intermediate-schema",
   "metadata": {},
   "source": [
    "#### Subsampling\n",
    "\n",
    "We next subsample the data set such that for each timepoint we have the same number of nuclei in the data set. Additionally, we ensure that the individual timepoint population are approximately uniformly represented by the different biological (patient) samples."
   ]
  },
  {
   "cell_type": "code",
   "execution_count": null,
   "id": "novel-qualification",
   "metadata": {},
   "outputs": [],
   "source": [
    "sampled_data = get_stratified_data(\n",
    "    all_data,\n",
    "    id_column=\"id\",\n",
    "    cond_column=\"timepoint\",\n",
    "    seed=1234,\n",
    ")"
   ]
  },
  {
   "cell_type": "code",
   "execution_count": null,
   "id": "opponent-snake",
   "metadata": {},
   "outputs": [],
   "source": [
    "fig, ax = plt.subplots(figsize=[12, 4], ncols=2)\n",
    "tp_order = [\"prior\", \"during\", \"end\"]\n",
    "sample_order = np.unique(all_data.loc[:, \"sample\"])\n",
    "ax = ax.flatten()\n",
    "ax[0] = sns.countplot(\n",
    "    x=\"sample\",\n",
    "    data=sampled_data,\n",
    "    ax=ax[0],\n",
    "    order=sample_order,\n",
    "    hue_order=tp_order,\n",
    "    hue=\"timepoint\",\n",
    "    palette=color_palette,\n",
    ")\n",
    "ax[0].legend([], [], frameon=False)\n",
    "ax[0].set_xlabel(\"ID of the biological sample\")\n",
    "ax[0].set_title(\"Distribution of biological samples\")\n",
    "for tick in ax[0].get_xticklabels():\n",
    "    tick.set_rotation(45)\n",
    "\n",
    "ax[1] = sns.countplot(\n",
    "    x=\"timepoint\",\n",
    "    hue=\"timepoint\",\n",
    "    data=sampled_data,\n",
    "    ax=ax[1],\n",
    "    order=tp_order,\n",
    "    hue_order=tp_order,\n",
    "    dodge=False,\n",
    "    palette=color_palette,\n",
    ")\n",
    "ax[1].set_xlabel(\"Timepoint with respect to the treatment\")\n",
    "ax[1].set_title(\"Distribution of the different timepoints\")\n",
    "ax[1].legend(loc=\"lower right\")\n",
    "\n",
    "plt.show()\n",
    "plt.close()"
   ]
  },
  {
   "cell_type": "markdown",
   "id": "handled-transport",
   "metadata": {},
   "source": [
    "----\n",
    "\n",
    "#### Sample and feature selection\n",
    "\n",
    "We now filter out constant features and nuclei with missing features."
   ]
  },
  {
   "cell_type": "code",
   "execution_count": null,
   "id": "opening-combination",
   "metadata": {},
   "outputs": [],
   "source": [
    "data = preprocess_data(sampled_data, remove_constant_features=True)"
   ]
  },
  {
   "cell_type": "markdown",
   "id": "congressional-dutch",
   "metadata": {},
   "source": [
    "---\n",
    "\n",
    "#### Data preparation\n",
    "\n",
    "After sampling the data, we will now prepare the data for the consecutive analysis, i.e. extracting only chrometric features and corresponding metadata information."
   ]
  },
  {
   "cell_type": "code",
   "execution_count": null,
   "id": "crazy-sally",
   "metadata": {},
   "outputs": [],
   "source": [
    "all_chrometric_data = get_chrometric_data(\n",
    "    data,\n",
    "    proteins=[\"gh2ax\", \"lamin\", \"cd3\"],\n",
    "    exclude_dna_int=True,\n",
    ")\n",
    "\n",
    "sample_labels = data.loc[:, \"sample\"]\n",
    "tp_labels = data.loc[:, \"timepoint\"]"
   ]
  },
  {
   "cell_type": "markdown",
   "id": "frank-stretch",
   "metadata": {},
   "source": [
    "Finally, we remove highly correlated features (Pearson $\\rho > 0.8$) from the chrometric features."
   ]
  },
  {
   "cell_type": "code",
   "execution_count": null,
   "id": "completed-output",
   "metadata": {},
   "outputs": [],
   "source": [
    "chrometric_data = remove_correlated_features(all_chrometric_data, threshold=0.8)"
   ]
  },
  {
   "cell_type": "markdown",
   "id": "published-utilization",
   "metadata": {},
   "source": [
    "---\n",
    "\n",
    "## 3. Panels\n",
    "\n",
    "Now we generate the individual panels for figure 3 of the paper.\n",
    "\n",
    "\n",
    "### 3a. Visualization of changes of nuclear phenotypes in different cancer types"
   ]
  },
  {
   "cell_type": "markdown",
   "id": "helpful-glance",
   "metadata": {},
   "source": [
    "First, we provide a visual representation of the different nuclear phenotypes in health and cancer. To this end, we will randomly sample 36 nuclei from each of the three cancer types and plot a corresponding montage of the max-z projected DNA images. To visualize size differences each nuclei is padded to a size of 150x150 pixels. Note that the nuclei images were obtained from range-normalized DAPI images. The range normalization was used to mitigate batch effects."
   ]
  },
  {
   "cell_type": "code",
   "execution_count": null,
   "id": "solved-growth",
   "metadata": {
    "scrolled": true
   },
   "outputs": [],
   "source": [
    "image_file_path = \"preprocessed/full_pipeline/segmentation/nuclei_images\"\n",
    "sampled_tp1_images = get_random_images(\n",
    "    data.loc[data.timepoint == \"prior\"],\n",
    "    image_file_path,\n",
    "    data_dir_col=\"data_dir\",\n",
    "    n_images=16,\n",
    "    seed=1234,\n",
    "    file_ending=\".tif\",\n",
    "    file_name_col=\"file_name\",\n",
    ")\n",
    "\n",
    "sampled_tp2_images = get_random_images(\n",
    "    data.loc[data.timepoint == \"during\"],\n",
    "    image_file_path,\n",
    "    data_dir_col=\"data_dir\",\n",
    "    n_images=16,\n",
    "    seed=1234,\n",
    "    file_ending=\".tif\",\n",
    "    file_name_col=\"file_name\",\n",
    ")\n",
    "\n",
    "sampled_tp3_images = get_random_images(\n",
    "    data.loc[data.timepoint == \"end\"],\n",
    "    image_file_path,\n",
    "    data_dir_col=\"data_dir\",\n",
    "    n_images=16,\n",
    "    seed=1234,\n",
    "    file_ending=\".tif\",\n",
    "    file_name_col=\"file_name\",\n",
    ")"
   ]
  },
  {
   "cell_type": "markdown",
   "id": "political-cornwall",
   "metadata": {},
   "source": [
    "#### Prior treatment population"
   ]
  },
  {
   "cell_type": "code",
   "execution_count": null,
   "id": "framed-english",
   "metadata": {
    "scrolled": false
   },
   "outputs": [],
   "source": [
    "fig_tp1, ax_tp1 = plot_montage(\n",
    "    sampled_tp1_images,\n",
    "    pad_size=150,\n",
    "    mask_nuclei=True,\n",
    "    cmap=\"inferno\",\n",
    "    nrows=4,\n",
    "    ncols=4,\n",
    ")\n",
    "fig_tp1.set_facecolor(color_palette[\"prior\"])"
   ]
  },
  {
   "cell_type": "markdown",
   "id": "familiar-mercury",
   "metadata": {},
   "source": [
    "#### During treatment population"
   ]
  },
  {
   "cell_type": "code",
   "execution_count": null,
   "id": "welsh-wellington",
   "metadata": {
    "scrolled": false
   },
   "outputs": [],
   "source": [
    "fig_tp2, ax_tp2 = plot_montage(\n",
    "    sampled_tp2_images,\n",
    "    pad_size=150,\n",
    "    mask_nuclei=True,\n",
    "    cmap=\"inferno\",\n",
    "    ncols=4,\n",
    "    nrows=4,\n",
    ")\n",
    "fig_tp2.set_facecolor(color_palette[\"during\"])"
   ]
  },
  {
   "cell_type": "markdown",
   "id": "statistical-crawford",
   "metadata": {},
   "source": [
    "#### End of treatment population"
   ]
  },
  {
   "cell_type": "code",
   "execution_count": null,
   "id": "closed-score",
   "metadata": {},
   "outputs": [],
   "source": [
    "fig_tp3, ax_tp3 = plot_montage(\n",
    "    sampled_tp3_images,\n",
    "    pad_size=150,\n",
    "    mask_nuclei=True,\n",
    "    cmap=\"inferno\",\n",
    "    ncols=4,\n",
    "    nrows=4,\n",
    ")\n",
    "fig_tp3.set_facecolor(color_palette[\"end\"])"
   ]
  },
  {
   "cell_type": "markdown",
   "id": "apart-atmosphere",
   "metadata": {},
   "source": [
    "---\n",
    "\n",
    "### 3b. Parametric analysis captures captures differences of PBMCs at different timepoints of the proton therapy treatment"
   ]
  },
  {
   "cell_type": "markdown",
   "id": "olympic-organ",
   "metadata": {},
   "source": [
    "The montage already indicate significant changes in particular between the chrometric pheontype of the PBMCs prior the treatment and the end of it. We will now turn to the assessment of the parametric descriptions of the nuclear phenotypes of the PBMCs at those different timepoints. To this end, we first visualize the data set using a tSNE plot to assess potential large-scale differences between the timepoint populations and individual patient samples."
   ]
  },
  {
   "cell_type": "code",
   "execution_count": null,
   "id": "crude-palestine",
   "metadata": {},
   "outputs": [],
   "source": [
    "chrometric_embs = get_tsne_embs(chrometric_data)\n",
    "chrometric_embs[\"timepoint\"] = np.array(tp_labels)\n",
    "chrometric_embs[\"sample\"] = np.array(sample_labels)"
   ]
  },
  {
   "cell_type": "code",
   "execution_count": null,
   "id": "juvenile-charge",
   "metadata": {},
   "outputs": [],
   "source": [
    "fig, ax = plt.subplots(figsize=[9, 6])\n",
    "ax = sns.scatterplot(\n",
    "    data=chrometric_embs,\n",
    "    x=\"tSNE 1\",\n",
    "    y=\"tSNE 2\",\n",
    "    hue=\"timepoint\",\n",
    "    hue_order=tp_order,\n",
    "    ax=ax,\n",
    "    s=16,\n",
    "    marker=\"o\",\n",
    "    palette=color_palette,\n",
    ")\n",
    "plt.show()"
   ]
  },
  {
   "cell_type": "code",
   "execution_count": null,
   "id": "sharing-leader",
   "metadata": {},
   "outputs": [],
   "source": [
    "fig, ax = plt.subplots(figsize=[9, 6])\n",
    "ax = sns.scatterplot(\n",
    "    data=chrometric_embs,\n",
    "    x=\"tSNE 1\",\n",
    "    y=\"tSNE 2\",\n",
    "    hue=\"sample\",\n",
    "    style=\"timepoint\",\n",
    "    style_order=tp_order,\n",
    "    hue_order=sample_order,\n",
    "    ax=ax,\n",
    "    s=16,\n",
    "    marker=\"o\",\n",
    "    palette=\"tab20\",\n",
    ")\n",
    "plt.legend(\n",
    "    bbox_to_anchor=(1.02, 0.5), loc=\"center left\", borderaxespad=0, title=\"sample\"\n",
    ")\n",
    "plt.show()"
   ]
  },
  {
   "cell_type": "markdown",
   "id": "official-ottawa",
   "metadata": {},
   "source": [
    "The tSNE plot also shows that especially the chrometric phenotypes of the PBMCs at the intermediate timepoint of the proton therapy look different from the prior and the end of treatment population.\n",
    "The patient samples are fairly well mixed with probably the small exception of the PBMCs of P29 and P22."
   ]
  },
  {
   "cell_type": "markdown",
   "id": "encouraging-average",
   "metadata": {},
   "source": [
    "---\n",
    "\n",
    "#### Classification of the different cancer types."
   ]
  },
  {
   "cell_type": "markdown",
   "id": "likely-straight",
   "metadata": {},
   "source": [
    "To quantify the separability of the timepoint populations using the chrometric phenotypes of the PBMCs of the different cancer patients we perform a 10-fold stratified cross-validation analysis using a RandomForest classifier. The classifier provides a simple non-linear classification model which also yields an importance measure for the individual chrometric features indicating which ones are most different between the three populations."
   ]
  },
  {
   "cell_type": "markdown",
   "id": "adaptive-hierarchy",
   "metadata": {},
   "source": [
    "##### Nuclei split\n",
    "\n",
    "At first we will split the data randomly on a nuclei-basis, i.e. nuclei of the same patient will be likely included in both the training and the test sets."
   ]
  },
  {
   "cell_type": "code",
   "execution_count": null,
   "id": "introductory-ability",
   "metadata": {},
   "outputs": [],
   "source": [
    "rfc = RandomForestClassifier(\n",
    "    n_estimators=500, n_jobs=10, random_state=seed, class_weight=\"balanced\"\n",
    ")"
   ]
  },
  {
   "cell_type": "code",
   "execution_count": null,
   "id": "common-telescope",
   "metadata": {},
   "outputs": [],
   "source": [
    "tp_cv_conf_mtx_nuclei = get_cv_conf_mtx(\n",
    "    estimator=rfc,\n",
    "    features=chrometric_data,\n",
    "    labels=tp_labels,\n",
    "    scale_features=False,\n",
    "    n_folds=10,\n",
    "    order=tp_order,\n",
    ")\n",
    "normalized_cv_conf_mtx_nuclei = tp_cv_conf_mtx_nuclei.divide(\n",
    "    tp_cv_conf_mtx_nuclei.sum(axis=1), axis=0\n",
    ")"
   ]
  },
  {
   "cell_type": "code",
   "execution_count": null,
   "id": "stone-jewel",
   "metadata": {},
   "outputs": [],
   "source": [
    "fig, ax = plt.subplots(figsize=[5, 4])\n",
    "ax = sns.heatmap(\n",
    "    normalized_cv_conf_mtx_nuclei,\n",
    "    annot=True,\n",
    "    fmt=\".4f\",\n",
    "    cmap=\"viridis\",\n",
    "    vmin=0,\n",
    "    vmax=1,\n",
    "    # cbar=False,\n",
    ")\n",
    "ax.set_xlabel(\"Predicted treatment timepoint\")\n",
    "ax.set_ylabel(\"True treatment timepoint\")\n",
    "plt.show()"
   ]
  },
  {
   "cell_type": "markdown",
   "id": "optimum-retention",
   "metadata": {},
   "source": [
    "The classifier is able to accurately distinguish nuclei from the timepoint populations. The confusion matrix also shows that the classifier does particularly better on distinguishing PBMCs from the during the treatment from the other two timepoints, where those are more often confused for one another. Nonetheless, all timepoints seem to feature fairly different chrometric cell state distribution of the PBMCs."
   ]
  },
  {
   "cell_type": "markdown",
   "id": "failing-communications",
   "metadata": {},
   "source": [
    "To further assess the similarity of the different timepoint distribution and their linear separability we use a linear discriminant analysis."
   ]
  },
  {
   "cell_type": "code",
   "execution_count": null,
   "id": "respiratory-credit",
   "metadata": {},
   "outputs": [],
   "source": [
    "lda = LinearDiscriminantAnalysis(n_components=2)\n",
    "lda_tp_cv_conf_mtx_nuclei = get_cv_conf_mtx(\n",
    "    estimator=lda,\n",
    "    features=chrometric_data,\n",
    "    labels=tp_labels,\n",
    "    scale_features=True,\n",
    "    n_folds=10,\n",
    "    order=tp_order,\n",
    ")\n",
    "lda_normalized_cv_conf_mtx_nuclei = lda_tp_cv_conf_mtx_nuclei.divide(\n",
    "    lda_tp_cv_conf_mtx_nuclei.sum(axis=1), axis=0\n",
    ")"
   ]
  },
  {
   "cell_type": "code",
   "execution_count": null,
   "id": "sharp-fight",
   "metadata": {},
   "outputs": [],
   "source": [
    "fig, ax = plt.subplots(figsize=[5, 4])\n",
    "ax = sns.heatmap(\n",
    "    lda_normalized_cv_conf_mtx_nuclei,\n",
    "    annot=True,\n",
    "    fmt=\".4f\",\n",
    "    cmap=\"viridis\",\n",
    "    vmin=0,\n",
    "    vmax=1,\n",
    "    # cbar=False,\n",
    ")\n",
    "ax.set_xlabel(\"Predicted treatment timepoint\")\n",
    "ax.set_ylabel(\"True treatment timepoint\")\n",
    "plt.show()"
   ]
  },
  {
   "cell_type": "code",
   "execution_count": null,
   "id": "governmental-telescope",
   "metadata": {},
   "outputs": [],
   "source": [
    "lda_transformed = pd.DataFrame(\n",
    "    lda.fit(chrometric_data, tp_labels).transform(chrometric_data),\n",
    "    columns=[\"LD 1\", \"LD 2\"],\n",
    "    index=chrometric_data.index,\n",
    ")\n",
    "lda_transformed[\"timepoint\"] = np.array(tp_labels)\n",
    "lda_transformed[\"sample\"] = np.array(sample_labels)\n",
    "g = sns.jointplot(\n",
    "    data=lda_transformed,\n",
    "    x=\"LD 1\",\n",
    "    y=\"LD 2\",\n",
    "    hue=\"timepoint\",\n",
    "    s=8,\n",
    "    hue_order=tp_order,\n",
    "    height=6,\n",
    "    palette=color_palette,\n",
    "    xlim=[-5, 5],\n",
    "    ylim=[-4, 4],\n",
    ")"
   ]
  },
  {
   "cell_type": "code",
   "execution_count": null,
   "id": "worse-maple",
   "metadata": {},
   "outputs": [],
   "source": [
    "np.sum(np.abs(lda_transformed.loc[:, \"LD 1\"]) > 5) + np.sum(\n",
    "    np.abs(lda_transformed.loc[:, \"LD 2\"]) > 4\n",
    ")"
   ]
  },
  {
   "cell_type": "markdown",
   "id": "gentle-haven",
   "metadata": {},
   "source": [
    "The above LDA plot suggests in addition to the confusion matrix that the indeed the population of the PBMCs prior and the end of the treatment of the proton therapy look more alike compared to those during the treatment.\n",
    "\n",
    "Note that in the above plot 6 outlier sample is excluded for better visualization of the population differences."
   ]
  },
  {
   "cell_type": "markdown",
   "id": "black-quarterly",
   "metadata": {},
   "source": [
    "---\n",
    "#### Patient split\n",
    "\n",
    "\n",
    "While the previous analysis assess the level of differences of the chrometric phenotypes of the PBMCs between the different treatment timepoints, the classifier can make use of patient specific characteristics during the classification. In a diagnostic use case such information would not be available. To evaluate how well a classifier would be able to predict for unseen patient the corresponding treatment timepoint simply based on the chrometric phenotypes of the PBMCs, we also assess the class separability using a stratified 5-fold patient-cross-validation approach. Thereby at each iteration 1-2 of the patients of each timepoint are hold out for the test set."
   ]
  },
  {
   "cell_type": "code",
   "execution_count": null,
   "id": "baking-reduction",
   "metadata": {},
   "outputs": [],
   "source": [
    "tp_cv_conf_mtx_patient = get_cv_conf_mtx(\n",
    "    estimator=rfc,\n",
    "    features=chrometric_data,\n",
    "    labels=tp_labels,\n",
    "    groups=sample_labels,\n",
    "    scale_features=False,\n",
    "    n_folds=10,\n",
    "    order=tp_order,\n",
    ")\n",
    "normalized_cv_conf_mtx_patient = tp_cv_conf_mtx_patient.divide(\n",
    "    tp_cv_conf_mtx_patient.sum(axis=1), axis=0\n",
    ")"
   ]
  },
  {
   "cell_type": "code",
   "execution_count": null,
   "id": "prime-immigration",
   "metadata": {},
   "outputs": [],
   "source": [
    "fig, ax = plt.subplots(figsize=[5, 4])\n",
    "ax = sns.heatmap(\n",
    "    normalized_cv_conf_mtx_patient,\n",
    "    annot=True,\n",
    "    fmt=\".4f\",\n",
    "    cmap=\"viridis\",\n",
    "    vmin=0,\n",
    "    vmax=1,\n",
    "    annot_kws={\"size\": 16, \"weight\": \"bold\"},\n",
    "    # cbar=False,\n",
    ")\n",
    "ax.set_xlabel(\"Predicted treatment timepoint\")\n",
    "ax.set_ylabel(\"True treatment timepoint\")\n",
    "plt.show()"
   ]
  },
  {
   "cell_type": "code",
   "execution_count": null,
   "id": "herbal-fifth",
   "metadata": {},
   "outputs": [],
   "source": [
    "groupkfold = StratifiedGroupKFold(n_splits=10)\n",
    "cv_bacs = cross_val_score(\n",
    "    rfc,\n",
    "    cv=groupkfold,\n",
    "    X=chrometric_data,\n",
    "    y=tp_labels,\n",
    "    groups=sample_labels,\n",
    "    scoring=\"balanced_accuracy\",\n",
    "    n_jobs=10,\n",
    ")\n",
    "print(\"Balanced accuracy: {} (+/- {})\".format(np.mean(cv_bacs), np.std(cv_bacs)))"
   ]
  },
  {
   "cell_type": "code",
   "execution_count": null,
   "id": "meaning-graphic",
   "metadata": {},
   "outputs": [],
   "source": [
    "test_samples = []\n",
    "for train_idx, test_idx in groupkfold.split(chrometric_data, tp_labels, sample_labels):\n",
    "    test_samples.append(\"_\".join(np.unique(sample_labels[test_idx])))\n",
    "cv_bac_df = pd.DataFrame(cv_bacs, columns=[\"BAC\"])\n",
    "cv_bac_df[\"Test samples\"] = test_samples\n",
    "fig, ax = plt.subplots(figsize=[6, 4])\n",
    "ax = sns.barplot(x=\"Test samples\", y=\"BAC\", data=cv_bac_df, palette=[\"gray\"], ax=ax)\n",
    "ax.set_xticklabels(ax.get_xticklabels(), rotation=90)\n",
    "plt.title(\"Test set performance by fold\")\n",
    "plt.yticks(np.arange(0, 1, 0.1))\n",
    "plt.show()"
   ]
  },
  {
   "cell_type": "code",
   "execution_count": null,
   "id": "rational-raise",
   "metadata": {},
   "outputs": [],
   "source": [
    "cv_bacs = cross_val_score(\n",
    "    lda,\n",
    "    cv=groupkfold,\n",
    "    X=chrometric_data,\n",
    "    y=tp_labels,\n",
    "    groups=sample_labels,\n",
    "    scoring=\"balanced_accuracy\",\n",
    "    n_jobs=10,\n",
    ")\n",
    "print(\"Balanced accuracy: {} (+/- {})\".format(np.mean(cv_bacs), np.std(cv_bacs)))"
   ]
  },
  {
   "cell_type": "markdown",
   "id": "empty-nursing",
   "metadata": {},
   "source": [
    "In general the confusion matrix again shows a similar picture as seen for the nuclei-based split showing that end of treatment population show phenotypes of the PBMCs significantly different from the other two treatment timepoints."
   ]
  },
  {
   "cell_type": "markdown",
   "id": "sudden-schedule",
   "metadata": {},
   "source": [
    "---\n",
    "\n",
    "### 3c. Nuclear chromatin biomarkers identifying cancer populations"
   ]
  },
  {
   "cell_type": "markdown",
   "id": "smaller-breed",
   "metadata": {},
   "source": [
    "#### Feature importance\n",
    "\n",
    "We have validated that there are significant differences between the individual treatment timepoints in particular when comparing PBMCs at the end of the treatment with those of during respectively prior the treatment. We next assess the implicit feature importance of a RandomForest classifier trained on the task to distinguish between the timepoint populations types in order to get an idea of the features are most indicative for the treatment effect."
   ]
  },
  {
   "cell_type": "code",
   "execution_count": null,
   "id": "informative-opera",
   "metadata": {},
   "outputs": [],
   "source": [
    "fig, ax = plot_feature_importance_for_estimator(\n",
    "    rfc,\n",
    "    chrometric_data,\n",
    "    tp_labels,\n",
    "    scale_features=False,\n",
    "    feature_color_dict=feature_color_dict,\n",
    "    n_features=15,\n",
    "    cmap=[\"gray\"],\n",
    "    figsize=[2, 1],\n",
    ")"
   ]
  },
  {
   "cell_type": "markdown",
   "id": "intensive-expert",
   "metadata": {},
   "source": [
    "The analysis suggests that the features that changes the most between the individual treatment populations is the size of the nucleus as well as the heterochromatin content as well as the shape of the overall DNA intensity distribution inside the nucleus in 2D."
   ]
  },
  {
   "cell_type": "markdown",
   "id": "boxed-secretariat",
   "metadata": {},
   "source": [
    "The previously shown feature importance plots already suggest a number of candidate chrometric biomarkers that capture the differences of the nuclear phenotypes of the PBMCs during the treatment. We now run marker screen by testing for differential distributions of the individual chrometric features between the different treatment timepoint populations. To this end, we apply a t-test to test for difference in the means and adjust for multiple testing using the Benjamini-Hochberg procedure."
   ]
  },
  {
   "cell_type": "code",
   "execution_count": null,
   "id": "fitting-three",
   "metadata": {},
   "outputs": [],
   "source": [
    "marker_screen_results = find_markers(chrometric_data, tp_labels)"
   ]
  },
  {
   "cell_type": "markdown",
   "id": "entire-fairy",
   "metadata": {},
   "source": [
    "#### Prior treatment"
   ]
  },
  {
   "cell_type": "markdown",
   "id": "electrical-person",
   "metadata": {},
   "source": [
    "At first we look at the features whose mean is significantly different prior the proton therapry treatment compared to during respectively the end of it."
   ]
  },
  {
   "cell_type": "code",
   "execution_count": null,
   "id": "forty-schema",
   "metadata": {},
   "outputs": [],
   "source": [
    "marker_screen_results.loc[marker_screen_results.label == \"prior\"].head(10)"
   ]
  },
  {
   "cell_type": "markdown",
   "id": "binding-packing",
   "metadata": {},
   "source": [
    "We find that the PBMCs prior the treatment are average slightly larger, the projected DNA image and a more variable curvature of the nuclear boundary of the projected nuclear mask."
   ]
  },
  {
   "cell_type": "markdown",
   "id": "straight-nicaragua",
   "metadata": {},
   "source": [
    "---"
   ]
  },
  {
   "cell_type": "markdown",
   "id": "focal-symposium",
   "metadata": {},
   "source": [
    "#### During treatment"
   ]
  },
  {
   "cell_type": "markdown",
   "id": "configured-suspect",
   "metadata": {},
   "source": [
    "Next we look at the features whose mean is significantly different in the during treatment population."
   ]
  },
  {
   "cell_type": "code",
   "execution_count": null,
   "id": "progressive-england",
   "metadata": {},
   "outputs": [],
   "source": [
    "marker_screen_results.loc[marker_screen_results.label == \"during\"].head(10)"
   ]
  },
  {
   "cell_type": "markdown",
   "id": "harmful-consideration",
   "metadata": {},
   "source": [
    "The during treamtent population seems to feature PBMCs that are slightly larger and have a significantly larger heterochromatin content. Additionally, the skewness and kurtosis of the DNA distribution of the projected DNA image is reduced."
   ]
  },
  {
   "cell_type": "markdown",
   "id": "random-paragraph",
   "metadata": {},
   "source": [
    "---\n",
    "\n",
    "#### End of treatment\n",
    "\n",
    "Finally, we also evaluate the chrometric phenotype of PBMCs at the end of the proton therapy treatment."
   ]
  },
  {
   "cell_type": "code",
   "execution_count": null,
   "id": "electronic-variation",
   "metadata": {},
   "outputs": [],
   "source": [
    "marker_screen_results.loc[marker_screen_results.label == \"end\"].head(10)"
   ]
  },
  {
   "cell_type": "markdown",
   "id": "hungry-extension",
   "metadata": {},
   "source": [
    "The PBMCs at the end of the treatment have on average smaller nuclei with less heterochromatin content and whose DNA distribution shows a significantly increased skewness and kurtosis."
   ]
  },
  {
   "cell_type": "markdown",
   "id": "substantial-cheese",
   "metadata": {},
   "source": [
    "---"
   ]
  },
  {
   "cell_type": "markdown",
   "id": "alien-mineral",
   "metadata": {},
   "source": [
    "As a joint proxy to study the alterations in size, we focus at the nuclear volume, the variation in the shape by the concavity of the nucleus and the change in chromatin compaction by the relative heterochromatin to euchromatin ratio, additionally we observe differences in the curvature. Finally, the shape of the DNA intensity distributions of the z-projected nucleus are significantly different. To visualize those differences, we look at the distributions of those markers in the different cancer types."
   ]
  },
  {
   "cell_type": "code",
   "execution_count": null,
   "id": "differential-satisfaction",
   "metadata": {
    "scrolled": true
   },
   "outputs": [],
   "source": [
    "markers = [\n",
    "    \"volume\",\n",
    "    \"hetero_to_euchromatin_volume_ratio\",\n",
    "    \"std_curvature\",\n",
    "    \"glcm_correlation_5px\",\n",
    "]\n",
    "marker_labels = [\n",
    "    r\"Nuclear volume in px$^3$\",\n",
    "    \"relative HC/EC ratio\",\n",
    "    \"Standard deviation of the curvature\",\n",
    "    \"Correlation of the GLCM \\n with a shift of 5px (2D)\",\n",
    "]\n",
    "plot_timepoint_markers_dist(\n",
    "    data, markers, marker_labels, cut=0, palette=color_palette, figsize=[4, 4]\n",
    ")"
   ]
  },
  {
   "cell_type": "code",
   "execution_count": null,
   "id": "republican-acrobat",
   "metadata": {},
   "outputs": [],
   "source": [
    "plot_timepoint_markers_dist(\n",
    "    data, markers, marker_labels, cut=0, plot_type=\"bar\", palette=color_palette\n",
    ")"
   ]
  },
  {
   "cell_type": "markdown",
   "id": "innocent-scratch",
   "metadata": {},
   "source": [
    "---\n",
    "\n",
    "### 3d. Proteomic differences of PBMCs in cancer"
   ]
  },
  {
   "cell_type": "markdown",
   "id": "chinese-family",
   "metadata": {},
   "source": [
    "Finally, we also assess the proteomic differences between the different treatment timepoint populations. To this end, we plot the relative Lamin and gH2AX expression measured by the sum of the intensities of the corresponding imaging channels normalized by the nuclear volume. Additionally, we plot the number of identified gH2AX foci which are computed as the local maxima peaks found in the corresponding channel images."
   ]
  },
  {
   "cell_type": "markdown",
   "id": "reported-upgrade",
   "metadata": {},
   "source": [
    "Note that those features are only available for the first data set that was stained for those proteins."
   ]
  },
  {
   "cell_type": "code",
   "execution_count": null,
   "id": "closed-isaac",
   "metadata": {},
   "outputs": [],
   "source": [
    "markers = [\n",
    "    \"rel_lamin_3d_int\",\n",
    "    \"rel_gh2ax_3d_int\",\n",
    "    \"gh2ax_foci_count\",\n",
    "    \"gh2ax_sum_foci_area\",\n",
    "    \"gh2ax_avg_foci_area\",\n",
    "]\n",
    "marker_labels = [\n",
    "    \"Volume-normalized nuclear\\nLamin A/C intensity\",\n",
    "    \"Normalized nuclear\\n\" r\"$\\gamma$H2AX intensity\",\n",
    "    r\"Number of $\\gamma$H2AX foci\",\n",
    "    r\"Sum of the $\\gamma$H2AX foci area\",\n",
    "    r\"Average size of the $\\gamma$H2AX foci\",\n",
    "]\n",
    "plot_timepoint_markers_dist(\n",
    "    data,\n",
    "    markers,\n",
    "    marker_labels,\n",
    "    quantiles=None,\n",
    "    cut=0,\n",
    "    plot_type=\"bar\",\n",
    "    palette=color_palette,\n",
    ")"
   ]
  },
  {
   "cell_type": "code",
   "execution_count": null,
   "id": "indonesian-madison",
   "metadata": {},
   "outputs": [],
   "source": [
    "markers = [\n",
    "    \"rel_lamin_3d_int\",\n",
    "    \"rel_gh2ax_3d_int\",\n",
    "    \"gh2ax_foci_count\",\n",
    "    \"gh2ax_sum_foci_area\",\n",
    "    \"gh2ax_avg_foci_area\",\n",
    "]\n",
    "marker_labels = [\n",
    "    \"Volume-normalized nuclear\\nLamin A/C intensity\",\n",
    "    \"Normalized nuclear\\n\" r\"$\\gamma$H2AX intensity\",\n",
    "    r\"Number of $\\gamma$H2AX foci\",\n",
    "    r\"Sum of the $\\gamma$H2AX foci area\",\n",
    "    r\"Average size of the $\\gamma$H2AX foci\",\n",
    "]\n",
    "plot_timepoint_markers_dist(\n",
    "    data,\n",
    "    markers,\n",
    "    marker_labels,\n",
    "    quantiles=None,\n",
    "    cut=0,\n",
    "    plot_type=\"violin\",\n",
    "    palette=color_palette,\n",
    ")"
   ]
  },
  {
   "cell_type": "markdown",
   "id": "anonymous-state",
   "metadata": {},
   "source": [
    "---\n",
    "\n",
    "## 4. Supplemental"
   ]
  },
  {
   "cell_type": "code",
   "execution_count": null,
   "id": "focused-judge",
   "metadata": {},
   "outputs": [],
   "source": [
    "us_chrometric_data = get_chrometric_data(\n",
    "    all_data,\n",
    "    proteins=[\"gh2ax\", \"lamin\", \"cd3\"],\n",
    "    exclude_dna_int=True,\n",
    ")\n",
    "\n",
    "us_sample_labels = all_data.loc[:, \"sample\"]\n",
    "us_tp_labels = all_data.loc[:, \"timepoint\"]\n",
    "\n",
    "us_chrometric_data = remove_correlated_features(us_chrometric_data, threshold=0.8)\n",
    "\n",
    "us_chrometric_embs = get_tsne_embs(us_chrometric_data)\n",
    "us_chrometric_embs[\"timepoint\"] = np.array(us_tp_labels)\n",
    "us_chrometric_embs[\"sample\"] = np.array(us_sample_labels)"
   ]
  },
  {
   "cell_type": "code",
   "execution_count": null,
   "id": "sealed-allowance",
   "metadata": {},
   "outputs": [],
   "source": [
    "fig, ax = plt.subplots(figsize=[9, 6])\n",
    "ax = sns.scatterplot(\n",
    "    data=us_chrometric_embs,\n",
    "    x=\"tSNE 1\",\n",
    "    y=\"tSNE 2\",\n",
    "    hue=\"timepoint\",\n",
    "    hue_order=tp_order,\n",
    "    ax=ax,\n",
    "    s=8,\n",
    "    marker=\"o\",\n",
    "    palette=color_palette,\n",
    ")\n",
    "plt.show()"
   ]
  },
  {
   "cell_type": "code",
   "execution_count": null,
   "id": "given-coach",
   "metadata": {},
   "outputs": [],
   "source": [
    "fig, ax = plt.subplots(figsize=[9, 6])\n",
    "ax = sns.scatterplot(\n",
    "    data=us_chrometric_embs,\n",
    "    x=\"tSNE 1\",\n",
    "    y=\"tSNE 2\",\n",
    "    hue=\"sample\",\n",
    "    style=\"timepoint\",\n",
    "    style_order=tp_order,\n",
    "    hue_order=sample_order,\n",
    "    ax=ax,\n",
    "    s=8,\n",
    "    marker=\"o\",\n",
    "    palette=\"tab20\",\n",
    ")\n",
    "plt.legend(\n",
    "    bbox_to_anchor=(1.02, 0.5), loc=\"center left\", borderaxespad=0, title=\"sample\"\n",
    ")\n",
    "plt.show()"
   ]
  },
  {
   "cell_type": "code",
   "execution_count": null,
   "id": "conservative-singapore",
   "metadata": {},
   "outputs": [],
   "source": []
  },
  {
   "cell_type": "code",
   "execution_count": null,
   "id": "harmful-beach",
   "metadata": {},
   "outputs": [],
   "source": []
  }
 ],
 "metadata": {
  "kernelspec": {
   "display_name": "Python 3",
   "language": "python",
   "name": "python3"
  },
  "language_info": {
   "codemirror_mode": {
    "name": "ipython",
    "version": 3
   },
   "file_extension": ".py",
   "mimetype": "text/x-python",
   "name": "python",
   "nbconvert_exporter": "python",
   "pygments_lexer": "ipython3",
   "version": "3.8.0"
  },
  "toc": {
   "base_numbering": 1,
   "nav_menu": {},
   "number_sections": true,
   "sideBar": true,
   "skip_h1_title": false,
   "title_cell": "Table of Contents",
   "title_sidebar": "Contents",
   "toc_cell": false,
   "toc_position": {},
   "toc_section_display": true,
   "toc_window_display": false
  }
 },
 "nbformat": 4,
 "nbformat_minor": 5
}
