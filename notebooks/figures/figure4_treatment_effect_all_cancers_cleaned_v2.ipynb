{
 "cells": [
  {
   "cell_type": "markdown",
   "id": "indian-simon",
   "metadata": {},
   "source": [
    "# Nuclear chromatin phenotypes of PBMCs reflects the treatment effect of proton therapy (all cancers)\n",
    "\n",
    "---\n",
    "This notebook summarizes the analysis corresponding to the results presented in figure 4 of the paper for all cancer patients. It can be used to rerun the analysis and regenerate the corresponding panels.\n",
    "\n",
    "---"
   ]
  },
  {
   "cell_type": "markdown",
   "id": "metric-fusion",
   "metadata": {},
   "source": [
    "## 0. Environmental setup"
   ]
  },
  {
   "cell_type": "code",
   "execution_count": null,
   "id": "renewable-magic",
   "metadata": {},
   "outputs": [],
   "source": [
    "import pandas as pd\n",
    "import numpy as np\n",
    "import seaborn as sns\n",
    "import random\n",
    "import os\n",
    "import matplotlib.pyplot as plt\n",
    "from sklearn.ensemble import RandomForestClassifier\n",
    "import matplotlib as mpl\n",
    "from matplotlib.collections import PolyCollection\n",
    "from matplotlib.legend_handler import HandlerTuple\n",
    "from matplotlib.colors import to_rgb\n",
    "from sklearn.model_selection import StratifiedGroupKFold, cross_val_score\n",
    "\n",
    "mpl.rcParams[\"figure.dpi\"] = 1200\n",
    "\n",
    "# SMALL_SIZE = 16\n",
    "# MEDIUM_SIZE = 18\n",
    "# BIGGER_SIZE = 20\n",
    "\n",
    "# mpl.rc(\"font\", size=SMALL_SIZE, weight=\"normal\")  # controls default text sizes\n",
    "# mpl.rc(\"axes\", titlesize=SMALL_SIZE)  # fontsize of the axes title\n",
    "# mpl.rc(\"axes\", labelsize=MEDIUM_SIZE)  # fontsize of the x and y labels\n",
    "# mpl.rc(\"xtick\", labelsize=SMALL_SIZE)  # fontsize of the tick labels\n",
    "# mpl.rc(\"ytick\", labelsize=SMALL_SIZE)  # fontsize of the tick labels\n",
    "# mpl.rc(\"legend\", fontsize=SMALL_SIZE)  # legend fontsize\n",
    "# mpl.rc(\"figure\", titlesize=BIGGER_SIZE)  # fontsize of the figure title\n",
    "\n",
    "import sys\n",
    "\n",
    "sys.path.append(\"../..\")\n",
    "from src.utils.notebooks.eda import *\n",
    "from src.utils.notebooks.figure3 import *\n",
    "from sklearn.discriminant_analysis import LinearDiscriminantAnalysis\n",
    "\n",
    "seed = 1234\n",
    "random.seed(1234)\n",
    "np.random.seed(1234)\n",
    "\n",
    "%reload_ext nb_black"
   ]
  },
  {
   "cell_type": "code",
   "execution_count": null,
   "id": "deluxe-jackson",
   "metadata": {},
   "outputs": [],
   "source": [
    "nuc_feature_desc = pd.read_csv(\n",
    "    \"../../data/chrometric_feature_description.csv\", index_col=0\n",
    ")\n",
    "feature_name_dict = dict(\n",
    "    zip(\n",
    "        list(nuc_feature_desc.loc[:, \"feature\"]),\n",
    "        list(nuc_feature_desc.loc[:, \"long_name\"]),\n",
    "    )\n",
    ")\n",
    "feature_color_dict = {\n",
    "    \"morphology\": \"b\",\n",
    "    \"intensity\": \"g\",\n",
    "    \"boundary\": \"r\",\n",
    "    \"texture\": \"c\",\n",
    "    \"chromatin condensation\": \"m\",\n",
    "    \"moments\": \"y\",\n",
    "    np.nan: \"k\",\n",
    "}\n",
    "feature_color_dict = {\n",
    "    feature: feature_color_dict[category]\n",
    "    for (feature, category) in zip(\n",
    "        list(nuc_feature_desc.loc[:, \"long_name\"]),\n",
    "        list(nuc_feature_desc.loc[:, \"category\"]),\n",
    "    )\n",
    "}"
   ]
  },
  {
   "cell_type": "code",
   "execution_count": null,
   "id": "frank-approval",
   "metadata": {},
   "outputs": [],
   "source": [
    "def plot_timepoint_cancer_markers_dist(\n",
    "    data,\n",
    "    markers,\n",
    "    marker_labels,\n",
    "    quantiles=None,\n",
    "    cut=2,\n",
    "    plot_type=\"violin\",\n",
    "    palette=None,\n",
    "    figsize=[4, 4],\n",
    "    hue=None,\n",
    "    hue_order=None,\n",
    "):\n",
    "    mg_colors = [\"lightsteelblue\", \"royalblue\", \"midnightblue\"]\n",
    "    gl_colors = [\"orange\", \"gold\", \"saddlebrown\"]\n",
    "    hn_colors = [\"plum\", \"deeppink\", \"indigo\"]\n",
    "\n",
    "    violin_all_colors = mg_colors + gl_colors + hn_colors\n",
    "    bar_all_colors = []\n",
    "    for i in range(3):\n",
    "        bar_all_colors.append(mg_colors[i])\n",
    "        bar_all_colors.append(gl_colors[i])\n",
    "        bar_all_colors.append(hn_colors[i])\n",
    "\n",
    "    for i in range(len(markers)):\n",
    "        fig, ax = plot_marker_distribution(\n",
    "            data,\n",
    "            figsize=figsize,\n",
    "            marker=markers[i],\n",
    "            label_col=\"cancer\",\n",
    "            order=[\"Meningioma\", \"Glioma\", \"Head & Neck\"],\n",
    "            box_pairs=[\n",
    "                ((\"Meningioma\", \"prior\"), (\"Meningioma\", \"during\")),\n",
    "                ((\"Meningioma\", \"prior\"), (\"Meningioma\", \"end\")),\n",
    "                ((\"Meningioma\", \"during\"), (\"Meningioma\", \"end\")),\n",
    "                ((\"Glioma\", \"prior\"), (\"Glioma\", \"during\")),\n",
    "                ((\"Glioma\", \"prior\"), (\"Glioma\", \"end\")),\n",
    "                ((\"Glioma\", \"during\"), (\"Glioma\", \"end\")),\n",
    "                ((\"Head & Neck\", \"prior\"), (\"Head & Neck\", \"during\")),\n",
    "                ((\"Head & Neck\", \"prior\"), (\"Head & Neck\", \"end\")),\n",
    "                ((\"Head & Neck\", \"during\"), (\"Head & Neck\", \"end\")),\n",
    "            ],\n",
    "            quantiles=quantiles,\n",
    "            cut=cut,\n",
    "            plot_type=plot_type,\n",
    "            palette=\"gray\",\n",
    "            hue=\"timepoint\",\n",
    "            hue_order=[\"prior\", \"during\", \"end\"],\n",
    "        )\n",
    "        ax.set_xlabel(\"Cancer type\")\n",
    "        ax.set_ylabel(marker_labels[i])\n",
    "\n",
    "        for label in ax.get_xticklabels():\n",
    "            label.set_fontweight(\"bold\")\n",
    "\n",
    "        handles = []\n",
    "        if plot_type == \"violin\":\n",
    "            for ind, obj in enumerate(ax.findobj(PolyCollection)):\n",
    "                rgb = to_rgb(violin_all_colors[ind])\n",
    "                obj.set_facecolor(rgb)\n",
    "                handles.append(\n",
    "                    plt.Rectangle((0, 0), 0, 0, facecolor=rgb, edgecolor=\"black\")\n",
    "                )\n",
    "        elif plot_type == \"bar\":\n",
    "            for ind, bar in enumerate(ax.patches):\n",
    "                rgb = to_rgb(bar_all_colors[ind])\n",
    "                bar.set_color(rgb)\n",
    "                handles_color = to_rgb(violin_all_colors[ind])\n",
    "                handles.append(\n",
    "                    plt.Rectangle(\n",
    "                        (0, 0), 0, 0, facecolor=handles_color, edgecolor=\"black\"\n",
    "                    )\n",
    "                )\n",
    "        else:\n",
    "            raise NotImplementedError\n",
    "\n",
    "        ax.legend(\n",
    "            handles=[tuple(handles[::3]), tuple(handles[1::3]), tuple(handles[2::3])],\n",
    "            labels=tp_order,\n",
    "            title=None,\n",
    "            handlelength=4,\n",
    "            handler_map={tuple: HandlerTuple(ndivide=None, pad=0)},\n",
    "            loc=\"lower center\",\n",
    "            borderaxespad=0,\n",
    "            bbox_to_anchor=(0.5, 1),\n",
    "            ncol=3,\n",
    "            frameon=False,\n",
    "            prop={\"size\": 20, \"weight\": \"bold\"},\n",
    "        )\n",
    "        plt.show()\n",
    "        plt.close()"
   ]
  },
  {
   "cell_type": "code",
   "execution_count": null,
   "id": "front-miniature",
   "metadata": {},
   "outputs": [],
   "source": [
    "color_palette = {\n",
    "    \"Meningioma\": \"cornflowerblue\",\n",
    "    \"Glioma\": \"orange\",\n",
    "    \"Head & Neck\": \"orchid\",\n",
    "}"
   ]
  },
  {
   "cell_type": "code",
   "execution_count": null,
   "id": "existing-concord",
   "metadata": {},
   "outputs": [],
   "source": [
    "mg_colors = [\"lightsteelblue\", \"royalblue\", \"midnightblue\"]\n",
    "gl_colors = [\"orange\", \"gold\", \"saddlebrown\"]\n",
    "hn_colors = [\"plum\", \"deeppink\", \"indigo\"]"
   ]
  },
  {
   "cell_type": "markdown",
   "id": "twenty-hebrew",
   "metadata": {},
   "source": [
    "---\n",
    "\n",
    "## 1. Read in data"
   ]
  },
  {
   "cell_type": "markdown",
   "id": "rocky-equivalent",
   "metadata": {},
   "source": [
    "In this notebook we assess the differences of the cell states of PBMCs at three different time points of the proton therapy treatment: before, during (~3 weeks in) and at the end of the treatment (final week of treatment). To this end, we obtained PBMCs of 10 Meningioma, 10 Glioma and 10 Head & Neck cancer patients stained them for DNA, gH2AX and Lamin A/C and obtained fluorescent images."
   ]
  },
  {
   "cell_type": "markdown",
   "id": "front-software",
   "metadata": {},
   "source": [
    "First, we read in the required data set that describe each PBMCs by a number of hand-crafted features extracted from the fluorescent images of the cells."
   ]
  },
  {
   "cell_type": "code",
   "execution_count": null,
   "id": "reduced-holder",
   "metadata": {},
   "outputs": [],
   "source": [
    "all_data = pd.read_csv(\"../../data/treated_population_data.csv\", index_col=0)"
   ]
  },
  {
   "cell_type": "markdown",
   "id": "popular-sunglasses",
   "metadata": {},
   "source": [
    "Before we analyze it we preprocess to to drop features with missing entries or nuclei that do not pass the quality control."
   ]
  },
  {
   "cell_type": "code",
   "execution_count": null,
   "id": "pressing-physiology",
   "metadata": {},
   "outputs": [],
   "source": [
    "all_data = preprocess_data(all_data, remove_constant_features=False)"
   ]
  },
  {
   "cell_type": "code",
   "execution_count": null,
   "id": "selective-thailand",
   "metadata": {},
   "outputs": [],
   "source": [
    "all_data = all_data.rename(columns=feature_name_dict)\n",
    "len(all_data)"
   ]
  },
  {
   "cell_type": "code",
   "execution_count": null,
   "id": "retained-japanese",
   "metadata": {},
   "outputs": [],
   "source": [
    "count_matrix = all_data.groupby([\"timepoint\", \"sample\"]).size().unstack(fill_value=0)\n",
    "\n",
    "# Create a color palette for the 'cancer' column\n",
    "ordered_samples = sorted(\n",
    "    list(all_data.loc[all_data.cancer == \"Meningioma\", \"sample\"].unique())\n",
    ")\n",
    "ordered_samples += sorted(\n",
    "    list(all_data.loc[all_data.cancer == \"Head & Neck\", \"sample\"].unique())\n",
    ")\n",
    "ordered_samples += sorted(\n",
    "    list(all_data.loc[all_data.cancer == \"Glioma\", \"sample\"].unique())\n",
    ")\n",
    "ordered_timepoints = [\"prior\", \"during\", \"end\"]\n",
    "\n",
    "row_colors = (\n",
    "    all_data.drop_duplicates(\"sample\")\n",
    "    .set_index(\"sample\")\n",
    "    .loc[ordered_samples][\"cancer\"]\n",
    "    .map(color_palette)\n",
    ")\n",
    "\n",
    "\n",
    "# Plotting the heatmap with annotations\n",
    "plt.figure(figsize=(6, 10))\n",
    "sns.set(font_scale=1)\n",
    "ax = sns.heatmap(\n",
    "    count_matrix.transpose().loc[ordered_samples, ordered_timepoints],\n",
    "    annot=True,\n",
    "    fmt=\"d\",\n",
    "    cmap=\"Greys\",\n",
    "    linewidths=0.5,\n",
    "    linecolor=\"gray\",\n",
    "    cbar=False,\n",
    ")\n",
    "\n",
    "# Adding row colors for the 'cancer' column\n",
    "for tick_label, color in zip(ax.get_yticklabels(), row_colors):\n",
    "    tick_label.set_backgroundcolor(color)\n",
    "\n",
    "plt.title(\"Old processed data (all duplicates dropped)\")\n",
    "plt.xlabel(\"Timepoint\")\n",
    "plt.ylabel(\"Patient\")\n",
    "plt.show()"
   ]
  },
  {
   "cell_type": "code",
   "execution_count": null,
   "id": "secondary-mustang",
   "metadata": {},
   "outputs": [],
   "source": [
    "import matplotlib as mpl\n",
    "\n",
    "mpl.style.use(\"default\")\n",
    "mpl.rcParams[\"figure.dpi\"] = 1200"
   ]
  },
  {
   "cell_type": "code",
   "execution_count": null,
   "id": "valued-tuition",
   "metadata": {},
   "outputs": [],
   "source": [
    "fig, ax = plt.subplots(figsize=[12, 4], ncols=2)\n",
    "tp_order = [\"prior\", \"during\", \"end\"]\n",
    "sample_order = np.unique(all_data.loc[:, \"sample\"])\n",
    "ax = ax.flatten()\n",
    "ax[0] = sns.countplot(\n",
    "    x=\"sample\",\n",
    "    data=all_data,\n",
    "    ax=ax[0],\n",
    "    order=sample_order,\n",
    "    hue_order=tp_order,\n",
    "    hue=\"timepoint\",\n",
    "    palette=\"gray\",\n",
    ")\n",
    "ax[0].legend([], [], frameon=False)\n",
    "ax[0].set_xlabel(\"ID of the biological sample\")\n",
    "ax[0].set_title(\"Distribution of biological samples\")\n",
    "for tick in ax[0].get_xticklabels():\n",
    "    tick.set_rotation(90)\n",
    "\n",
    "ax[1] = sns.countplot(\n",
    "    x=\"timepoint\",\n",
    "    hue=\"timepoint\",\n",
    "    data=all_data,\n",
    "    ax=ax[1],\n",
    "    order=tp_order,\n",
    "    dodge=False,\n",
    "    palette=\"gray\",\n",
    ")\n",
    "ax[1].set_xlabel(\"Timepoint with respect to the treatment\")\n",
    "ax[1].set_title(\"Distribution of the different timepoints\")\n",
    "ax[1].legend(loc=\"lower right\")\n",
    "\n",
    "plt.show()\n",
    "plt.close()"
   ]
  },
  {
   "cell_type": "markdown",
   "id": "surprised-ghana",
   "metadata": {},
   "source": [
    "___"
   ]
  },
  {
   "cell_type": "markdown",
   "id": "intermediate-schema",
   "metadata": {},
   "source": [
    "#### Subsampling\n",
    "\n",
    "We next subsample the data set such that for each timepoint we have the same number of nuclei for each tumor type.  in the data set. Additionally, we ensure that each tumor type is represented by an equal number of nuclei per patient. However, before that we remove two samples namely P723 and P421 which have only very few nuclei (38 and 47 respectively)."
   ]
  },
  {
   "cell_type": "code",
   "execution_count": null,
   "id": "attached-administration",
   "metadata": {},
   "outputs": [],
   "source": [
    "deselected_ids = [\"p421\", \"p723\"]\n",
    "all_data = all_data.loc[~all_data.loc[:, \"id\"].isin(deselected_ids)]"
   ]
  },
  {
   "cell_type": "code",
   "execution_count": null,
   "id": "instant-financing",
   "metadata": {},
   "outputs": [],
   "source": [
    "sampled_tp1_data = get_stratified_data(\n",
    "    all_data.loc[all_data.timepoint == \"prior\"],\n",
    "    id_column=\"sample\",\n",
    "    cond_column=\"cancer\",\n",
    "    seed=1234,\n",
    ")"
   ]
  },
  {
   "cell_type": "code",
   "execution_count": null,
   "id": "mechanical-google",
   "metadata": {},
   "outputs": [],
   "source": [
    "Counter(sampled_tp1_data.cancer)"
   ]
  },
  {
   "cell_type": "code",
   "execution_count": null,
   "id": "split-developer",
   "metadata": {},
   "outputs": [],
   "source": [
    "sampled_tp2_data = get_stratified_data(\n",
    "    all_data.loc[all_data.timepoint == \"during\"],\n",
    "    id_column=\"sample\",\n",
    "    cond_column=\"cancer\",\n",
    "    seed=1234,\n",
    ")"
   ]
  },
  {
   "cell_type": "code",
   "execution_count": null,
   "id": "forbidden-canyon",
   "metadata": {},
   "outputs": [],
   "source": [
    "Counter(sampled_tp2_data.cancer)"
   ]
  },
  {
   "cell_type": "code",
   "execution_count": null,
   "id": "accepting-intervention",
   "metadata": {},
   "outputs": [],
   "source": [
    "sampled_tp3_data = get_stratified_data(\n",
    "    all_data.loc[all_data.timepoint == \"end\"],\n",
    "    id_column=\"sample\",\n",
    "    cond_column=\"cancer\",\n",
    "    seed=1234,\n",
    ")"
   ]
  },
  {
   "cell_type": "code",
   "execution_count": null,
   "id": "large-fabric",
   "metadata": {},
   "outputs": [],
   "source": [
    "Counter(sampled_tp3_data.cancer)"
   ]
  },
  {
   "cell_type": "code",
   "execution_count": null,
   "id": "absent-williams",
   "metadata": {},
   "outputs": [],
   "source": [
    "sampled_data = pd.concat([sampled_tp1_data, sampled_tp2_data, sampled_tp3_data])"
   ]
  },
  {
   "cell_type": "code",
   "execution_count": null,
   "id": "opponent-snake",
   "metadata": {},
   "outputs": [],
   "source": [
    "fig, ax = plt.subplots(figsize=[18, 4], ncols=3)\n",
    "tp_order = [\"prior\", \"during\", \"end\"]\n",
    "cancer_order = [\"Meningioma\", \"Glioma\", \"Head & Neck\"]\n",
    "sample_order = np.unique(all_data.loc[:, \"sample\"])\n",
    "ax = ax.flatten()\n",
    "ax[0] = sns.countplot(\n",
    "    x=\"sample\",\n",
    "    data=sampled_data,\n",
    "    ax=ax[0],\n",
    "    order=sample_order,\n",
    "    hue_order=tp_order,\n",
    "    hue=\"timepoint\",\n",
    "    palette=\"gray\",\n",
    ")\n",
    "ax[0].legend([], [], frameon=False)\n",
    "ax[0].set_xlabel(\"ID of the biological sample\")\n",
    "ax[0].set_title(\"Distribution of biological samples\")\n",
    "for tick in ax[0].get_xticklabels():\n",
    "    tick.set_rotation(90)\n",
    "\n",
    "ax[1] = sns.countplot(\n",
    "    x=\"timepoint\",\n",
    "    hue=\"timepoint\",\n",
    "    data=sampled_data,\n",
    "    ax=ax[1],\n",
    "    order=tp_order,\n",
    "    hue_order=tp_order,\n",
    "    dodge=False,\n",
    "    palette=\"gray\",\n",
    ")\n",
    "ax[1].set_xlabel(\"Timepoint with respect to the treatment\")\n",
    "ax[1].set_title(\"Distribution of the different timepoints\")\n",
    "ax[1].legend(loc=\"lower right\")\n",
    "\n",
    "ax[2] = sns.countplot(\n",
    "    x=\"cancer\",\n",
    "    hue=\"cancer\",\n",
    "    data=sampled_data,\n",
    "    ax=ax[2],\n",
    "    order=cancer_order,\n",
    "    hue_order=cancer_order,\n",
    "    dodge=False,\n",
    "    palette=color_palette,\n",
    ")\n",
    "ax[2].set_xlabel(\"Cancer type\")\n",
    "ax[2].set_title(\"Distribution of the different cancer types\")\n",
    "ax[2].legend(loc=\"lower right\")\n",
    "\n",
    "plt.show()\n",
    "plt.close()"
   ]
  },
  {
   "cell_type": "markdown",
   "id": "handled-transport",
   "metadata": {},
   "source": [
    "----\n",
    "\n",
    "#### Sample and feature selection\n",
    "\n",
    "We now filter out constant features and nuclei with missing features."
   ]
  },
  {
   "cell_type": "code",
   "execution_count": null,
   "id": "opening-combination",
   "metadata": {},
   "outputs": [],
   "source": [
    "data = preprocess_data(sampled_data, remove_constant_features=True)"
   ]
  },
  {
   "cell_type": "code",
   "execution_count": null,
   "id": "demanding-sydney",
   "metadata": {},
   "outputs": [],
   "source": [
    "all_data_columns = set(data.columns)"
   ]
  },
  {
   "cell_type": "markdown",
   "id": "congressional-dutch",
   "metadata": {},
   "source": [
    "---\n",
    "\n",
    "#### Data preparation\n",
    "\n",
    "After sampling the data, we will now prepare the data for the consecutive analysis, i.e. extracting only chrometric features and corresponding metadata information."
   ]
  },
  {
   "cell_type": "code",
   "execution_count": null,
   "id": "crazy-sally",
   "metadata": {},
   "outputs": [],
   "source": [
    "all_chrometric_data = get_chrometric_data(\n",
    "    data,\n",
    "    proteins=[\"gh2ax\", \"lamin\", \"cd3\"],\n",
    "    exclude_dna_int=True,\n",
    ")\n",
    "\n",
    "sample_labels = data.loc[:, \"sample\"]\n",
    "tp_labels = data.loc[:, \"timepoint\"]\n",
    "cancer_labels = data.loc[:, \"cancer\"]"
   ]
  },
  {
   "cell_type": "markdown",
   "id": "frank-stretch",
   "metadata": {},
   "source": [
    "Finally, we remove highly correlated features (Pearson $\\rho > 0.8$) from the chrometric features."
   ]
  },
  {
   "cell_type": "code",
   "execution_count": null,
   "id": "completed-output",
   "metadata": {},
   "outputs": [],
   "source": [
    "chrometric_data = remove_correlated_features(all_chrometric_data, threshold=0.8)"
   ]
  },
  {
   "cell_type": "markdown",
   "id": "published-utilization",
   "metadata": {},
   "source": [
    "---\n",
    "\n",
    "## 3. Panels\n",
    "\n",
    "Now we generate the individual panels for figure 4 of the paper."
   ]
  },
  {
   "cell_type": "markdown",
   "id": "apart-atmosphere",
   "metadata": {},
   "source": [
    "---\n",
    "\n",
    "### 3b. Parametric analysis captures captures differences of PBMCs at different timepoints of the proton therapy treatment"
   ]
  },
  {
   "cell_type": "markdown",
   "id": "olympic-organ",
   "metadata": {},
   "source": [
    "The montage already indicate significant changes in particular between the chrometric pheontype of the PBMCs prior the treatment and the end of it. We will now turn to the assessment of the parametric descriptions of the nuclear phenotypes of the PBMCs at those different timepoints. To this end, we first visualize the data set using a tSNE plot to assess potential large-scale differences between the timepoint populations and individual patient samples."
   ]
  },
  {
   "cell_type": "code",
   "execution_count": null,
   "id": "crude-palestine",
   "metadata": {},
   "outputs": [],
   "source": [
    "chrometric_embs = get_tsne_embs(chrometric_data)\n",
    "chrometric_embs[\"timepoint\"] = np.array(tp_labels)\n",
    "chrometric_embs[\"sample\"] = np.array(sample_labels)\n",
    "chrometric_embs[\"cancer\"] = np.array(cancer_labels)"
   ]
  },
  {
   "cell_type": "code",
   "execution_count": null,
   "id": "juvenile-charge",
   "metadata": {},
   "outputs": [],
   "source": [
    "fig, ax = plt.subplots(figsize=[18, 16])\n",
    "ax = sns.scatterplot(\n",
    "    data=chrometric_embs,\n",
    "    x=\"tSNE 1\",\n",
    "    y=\"tSNE 2\",\n",
    "    hue=\"cancer\",\n",
    "    hue_order=cancer_order,\n",
    "    ax=ax,\n",
    "    s=15,\n",
    "    style=\"timepoint\",\n",
    "    style_order=tp_order,\n",
    "    palette=color_palette,\n",
    ")\n",
    "ax.set_xlim([-50, 50])\n",
    "ax.set_ylim([-55, 55])\n",
    "plt.show()"
   ]
  },
  {
   "cell_type": "markdown",
   "id": "grand-elevation",
   "metadata": {},
   "source": [
    "Note that the above plot excluds one outlier for better visualization."
   ]
  },
  {
   "cell_type": "code",
   "execution_count": null,
   "id": "sharing-leader",
   "metadata": {
    "scrolled": true
   },
   "outputs": [],
   "source": [
    "fig, ax = plt.subplots(figsize=[18, 16])\n",
    "ax = sns.scatterplot(\n",
    "    data=chrometric_embs,\n",
    "    x=\"tSNE 1\",\n",
    "    y=\"tSNE 2\",\n",
    "    hue=\"sample\",\n",
    "    style=\"timepoint\",\n",
    "    style_order=tp_order,\n",
    "    hue_order=sample_order,\n",
    "    ax=ax,\n",
    "    s=15,\n",
    "    marker=\"o\",\n",
    "    palette=\"tab20\",\n",
    ")\n",
    "ax.set_xlim([-50, 50])\n",
    "ax.set_ylim([-55, 55])\n",
    "plt.legend(\n",
    "    bbox_to_anchor=(1.02, 0.5), loc=\"center left\", borderaxespad=0, title=\"sample\"\n",
    ")\n",
    "plt.show()"
   ]
  },
  {
   "cell_type": "markdown",
   "id": "official-ottawa",
   "metadata": {},
   "source": [
    "The tSNE plot also shows that especially the chrometric phenotypes of the PBMCs at the intermediate timepoint of the proton therapy look different from the prior and the end of treatment population.\n",
    "The patient samples are fairly well mixed with probably the small exception of the PBMCs of P29 and P22."
   ]
  },
  {
   "cell_type": "code",
   "execution_count": null,
   "id": "proved-pepper",
   "metadata": {
    "scrolled": true
   },
   "outputs": [],
   "source": [
    "cancer_groups = [\"Meningioma\", \"Glioma\", \"Head & Neck\"]\n",
    "tps = [\"prior\", \"during\", \"end\"]\n",
    "for cg in cancer_groups:\n",
    "    for tp in tps:\n",
    "        fig, ax = plt.subplots(figsize=[8, 6])\n",
    "        ax = sns.scatterplot(\n",
    "            data=chrometric_embs.loc[\n",
    "                (chrometric_embs.cancer == cg) & (chrometric_embs.timepoint == tp)\n",
    "            ],\n",
    "            x=\"tSNE 1\",\n",
    "            y=\"tSNE 2\",\n",
    "            hue=\"sample\",\n",
    "            hue_order=np.unique(\n",
    "                chrometric_embs.loc[\n",
    "                    (chrometric_embs.cancer == cg) & (chrometric_embs.timepoint == tp),\n",
    "                    \"sample\",\n",
    "                ]\n",
    "            ),\n",
    "            ax=ax,\n",
    "            s=12,\n",
    "            marker=\"o\",\n",
    "            palette=\"tab10\",\n",
    "        )\n",
    "        plt.legend(\n",
    "            bbox_to_anchor=(0.5, 1.05),\n",
    "            loc=\"center\",\n",
    "            borderaxespad=0,\n",
    "            title=\"\",\n",
    "            ncol=10,\n",
    "            fancybox=False,\n",
    "            frameon=False,\n",
    "            columnspacing=0.1,\n",
    "        )\n",
    "        ax.set_xlim([-60, 60])\n",
    "        ax.set_ylim([-60, 60])\n",
    "        ax.set_xlabel(\"\")\n",
    "        ax.set_ylabel(\"\")\n",
    "        plt.show()"
   ]
  },
  {
   "cell_type": "markdown",
   "id": "encouraging-average",
   "metadata": {},
   "source": [
    "---\n",
    "\n",
    "## Classification of the different cancer types."
   ]
  },
  {
   "cell_type": "code",
   "execution_count": null,
   "id": "confirmed-study",
   "metadata": {},
   "outputs": [],
   "source": [
    "prior_idc = tp_labels.loc[tp_labels == \"prior\"].index\n",
    "prior_cancer_labels = cancer_labels.loc[prior_idc]\n",
    "prior_chrometric_data = chrometric_data.loc[prior_idc]\n",
    "prior_sample_labels = sample_labels.loc[prior_idc]"
   ]
  },
  {
   "cell_type": "code",
   "execution_count": null,
   "id": "expressed-shell",
   "metadata": {},
   "outputs": [],
   "source": [
    "during_idc = tp_labels.loc[tp_labels == \"during\"].index\n",
    "during_cancer_labels = cancer_labels.loc[during_idc]\n",
    "during_chrometric_data = chrometric_data.loc[during_idc]\n",
    "during_sample_labels = sample_labels.loc[during_idc]"
   ]
  },
  {
   "cell_type": "code",
   "execution_count": null,
   "id": "essential-scientist",
   "metadata": {},
   "outputs": [],
   "source": [
    "end_idc = tp_labels.loc[tp_labels == \"end\"].index\n",
    "end_cancer_labels = cancer_labels.loc[end_idc]\n",
    "end_chrometric_data = chrometric_data.loc[end_idc]\n",
    "end_sample_labels = sample_labels.loc[end_idc]"
   ]
  },
  {
   "cell_type": "markdown",
   "id": "tested-render",
   "metadata": {},
   "source": [
    "### Prior: Leave-one-patient-out"
   ]
  },
  {
   "cell_type": "code",
   "execution_count": null,
   "id": "aging-calgary",
   "metadata": {},
   "outputs": [],
   "source": [
    "rfc = RandomForestClassifier(\n",
    "    n_estimators=500, n_jobs=10, random_state=seed, class_weight=\"balanced\"\n",
    ")"
   ]
  },
  {
   "cell_type": "code",
   "execution_count": null,
   "id": "prescription-license",
   "metadata": {},
   "outputs": [],
   "source": [
    "lopo_prior_cv_result = summarize_group_cv_results_by_fold(\n",
    "    model=rfc,\n",
    "    features=prior_chrometric_data,\n",
    "    labels=prior_cancer_labels,\n",
    "    groups=prior_sample_labels,\n",
    "    balance_train=True,\n",
    ")\n",
    "\n",
    "np.random.seed(seed + 1111)\n",
    "bs = range(10)\n",
    "\n",
    "lopo_prior_perm_cv_results = []\n",
    "\n",
    "for b in tqdm(bs):\n",
    "    prior_perm_cancer_labels = get_permute_group_labels(\n",
    "        prior_cancer_labels, prior_sample_labels\n",
    "    )[0]\n",
    "    lopo_perm_cv_result = summarize_group_cv_results_by_fold(\n",
    "        model=rfc,\n",
    "        features=prior_chrometric_data,\n",
    "        labels=prior_perm_cancer_labels,\n",
    "        groups=prior_sample_labels,\n",
    "        balance_train=True,\n",
    "    )\n",
    "    lopo_perm_cv_result[\"permutation\"] = b\n",
    "    lopo_prior_perm_cv_results.append(lopo_perm_cv_result)\n",
    "\n",
    "lopo_prior_perm_cv_results = pd.concat(lopo_prior_perm_cv_results)\n",
    "lopo_prior_perm_cv_results[\"condition\"] = \"Permuted\"\n",
    "lopo_prior_cv_result[\"condition\"] = \"Observed\"\n",
    "all_lopo_prior_results = lopo_prior_cv_result.append(lopo_prior_perm_cv_results)\n",
    "all_lopo_prior_results[\"timepoint\"] = \"prior\""
   ]
  },
  {
   "cell_type": "code",
   "execution_count": null,
   "id": "allied-empty",
   "metadata": {},
   "outputs": [],
   "source": [
    "fig, ax = plot_lopo_cv_results_by_class(\n",
    "    all_lopo_prior_results,\n",
    "    cancer_order,\n",
    "    x=\"majority_class\",\n",
    "    y=\"score\",\n",
    "    hue=\"condition\",\n",
    "    figsize=[6, 4],\n",
    "    test=\"Mann-Whitney\",\n",
    "    pval_text_format=\"star\",\n",
    "    alpha=0.5,\n",
    ")\n",
    "ax.set_xlabel(\"Cancer types\")\n",
    "ax.set_ylabel(\"Classification accuracy by patient\")\n",
    "plt.show()"
   ]
  },
  {
   "cell_type": "markdown",
   "id": "registered-exercise",
   "metadata": {},
   "source": [
    "---\n",
    "\n",
    "#### During: Leave-one-patient-out"
   ]
  },
  {
   "cell_type": "code",
   "execution_count": null,
   "id": "color-stake",
   "metadata": {},
   "outputs": [],
   "source": [
    "lopo_during_cv_result = summarize_group_cv_results_by_fold(\n",
    "    model=rfc,\n",
    "    features=during_chrometric_data,\n",
    "    labels=during_cancer_labels,\n",
    "    groups=during_sample_labels,\n",
    "    balance_train=True,\n",
    ")\n",
    "\n",
    "np.random.seed(seed)\n",
    "bs = range(10)\n",
    "\n",
    "lopo_during_perm_cv_results = []\n",
    "\n",
    "for b in tqdm(bs):\n",
    "    during_perm_cancer_labels = get_permute_group_labels(\n",
    "        during_cancer_labels, during_sample_labels\n",
    "    )[0]\n",
    "    lopo_perm_cv_result = summarize_group_cv_results_by_fold(\n",
    "        model=rfc,\n",
    "        features=during_chrometric_data,\n",
    "        labels=during_perm_cancer_labels,\n",
    "        groups=during_sample_labels,\n",
    "        balance_train=True,\n",
    "    )\n",
    "    lopo_perm_cv_result[\"permutation\"] = b\n",
    "    lopo_during_perm_cv_results.append(lopo_perm_cv_result)\n",
    "\n",
    "lopo_during_perm_cv_results = pd.concat(lopo_during_perm_cv_results)\n",
    "lopo_during_perm_cv_results[\"condition\"] = \"Permuted\"\n",
    "lopo_during_cv_result[\"condition\"] = \"Observed\"\n",
    "all_lopo_during_results = lopo_during_cv_result.append(lopo_during_perm_cv_results)\n",
    "all_lopo_during_results[\"timepoint\"] = \"during\""
   ]
  },
  {
   "cell_type": "code",
   "execution_count": null,
   "id": "armed-narrow",
   "metadata": {},
   "outputs": [],
   "source": [
    "fig, ax = plot_lopo_cv_results_by_class(\n",
    "    all_lopo_during_results,\n",
    "    cancer_order,\n",
    "    x=\"majority_class\",\n",
    "    y=\"score\",\n",
    "    hue=\"condition\",\n",
    "    figsize=[6, 4],\n",
    "    test=\"Mann-Whitney\",\n",
    "    pval_text_format=\"star\",\n",
    "    alpha=0.5,\n",
    ")\n",
    "ax.set_xlabel(\"Cancer types\")\n",
    "ax.set_ylabel(\"Classification accuracy by patient\")\n",
    "plt.show()"
   ]
  },
  {
   "cell_type": "markdown",
   "id": "missing-cannon",
   "metadata": {},
   "source": [
    "---\n",
    "#### End of treatment: Leave-one-patient-out"
   ]
  },
  {
   "cell_type": "code",
   "execution_count": null,
   "id": "vertical-framework",
   "metadata": {},
   "outputs": [],
   "source": [
    "lopo_end_cv_result = summarize_group_cv_results_by_fold(\n",
    "    model=rfc,\n",
    "    features=end_chrometric_data,\n",
    "    labels=end_cancer_labels,\n",
    "    groups=end_sample_labels,\n",
    "    balance_train=True,\n",
    ")\n",
    "\n",
    "np.random.seed(seed + 2222)\n",
    "bs = range(10)\n",
    "\n",
    "lopo_end_perm_cv_results = []\n",
    "\n",
    "for b in tqdm(bs):\n",
    "    end_perm_cancer_labels = get_permute_group_labels(\n",
    "        end_cancer_labels, end_sample_labels\n",
    "    )[0]\n",
    "    lopo_perm_cv_result = summarize_group_cv_results_by_fold(\n",
    "        model=rfc,\n",
    "        features=end_chrometric_data,\n",
    "        labels=end_perm_cancer_labels,\n",
    "        groups=end_sample_labels,\n",
    "        balance_train=True,\n",
    "    )\n",
    "    lopo_perm_cv_result[\"permutation\"] = b\n",
    "    lopo_end_perm_cv_results.append(lopo_perm_cv_result)\n",
    "\n",
    "lopo_end_perm_cv_results = pd.concat(lopo_end_perm_cv_results)\n",
    "lopo_end_perm_cv_results[\"condition\"] = \"Permuted\"\n",
    "lopo_end_cv_result[\"condition\"] = \"Observed\"\n",
    "all_lopo_end_results = lopo_end_cv_result.append(lopo_end_perm_cv_results)\n",
    "all_lopo_end_results[\"timepoint\"] = \"end\""
   ]
  },
  {
   "cell_type": "code",
   "execution_count": null,
   "id": "practical-jewelry",
   "metadata": {},
   "outputs": [],
   "source": [
    "fig, ax = plot_lopo_cv_results_by_class(\n",
    "    all_lopo_end_results,\n",
    "    cancer_order,\n",
    "    x=\"majority_class\",\n",
    "    y=\"score\",\n",
    "    hue=\"condition\",\n",
    "    figsize=[6, 4],\n",
    "    test=\"Mann-Whitney\",\n",
    "    pval_text_format=\"star\",\n",
    "    alpha=0.5,\n",
    ")\n",
    "ax.set_xlabel(\"Cancer types\")\n",
    "ax.set_ylabel(\"Classification accuracy by patient\")\n",
    "plt.show()"
   ]
  },
  {
   "cell_type": "markdown",
   "id": "obvious-checklist",
   "metadata": {},
   "source": [
    "#### Summary: Leave-one-patient-out"
   ]
  },
  {
   "cell_type": "code",
   "execution_count": null,
   "id": "historic-referral",
   "metadata": {},
   "outputs": [],
   "source": [
    "all_lopo_tp_results = all_lopo_prior_results.append(all_lopo_during_results).append(\n",
    "    all_lopo_end_results\n",
    ")\n",
    "all_lopo_tp_results.loc[:, \"tp\"] = all_lopo_tp_results.loc[:, \"timepoint\"]\n",
    "all_lopo_tp_results.loc[\n",
    "    all_lopo_tp_results.condition == \"Permuted\", \"tp\"\n",
    "] = \"permutation\""
   ]
  },
  {
   "cell_type": "code",
   "execution_count": null,
   "id": "lightweight-blackjack",
   "metadata": {},
   "outputs": [],
   "source": [
    "fig, ax = plot_lopo_cv_results_by_class(\n",
    "    all_lopo_tp_results,\n",
    "    tp_order,\n",
    "    x=\"timepoint\",\n",
    "    y=\"score\",\n",
    "    hue=\"condition\",\n",
    "    figsize=[6, 4],\n",
    "    test=\"Mann-Whitney\",\n",
    "    pval_text_format=\"star\",\n",
    "    alpha=0.5,\n",
    ")\n",
    "ax.set_xlabel(\"Treatment timepoint\")\n",
    "ax.set_ylabel(\"Classification accuracy by patient\")\n",
    "plt.show()"
   ]
  },
  {
   "cell_type": "code",
   "execution_count": null,
   "id": "flexible-limitation",
   "metadata": {
    "scrolled": false
   },
   "outputs": [],
   "source": [
    "fig, ax = plot_lopo_cv_results_timepoints(\n",
    "    all_lopo_tp_results,\n",
    "    order=[\"prior\", \"during\", \"end\", \"permutation\"],\n",
    "    class_palette=color_palette,\n",
    "    box_palette=[\"lightgray\"],\n",
    "    figsize=[6, 6],\n",
    ")\n",
    "ax.set_ylabel(\"Classification accuracy\")\n",
    "ax.set_xlabel(\"Timepoint\")\n",
    "plt.show()"
   ]
  },
  {
   "cell_type": "code",
   "execution_count": null,
   "id": "amazing-cleaner",
   "metadata": {},
   "outputs": [],
   "source": [
    "all_lopo_tp_results.groupby(\"tp\").describe().loc[\n",
    "    [\"prior\", \"during\", \"end\", \"permutation\"]\n",
    "].iloc[:, :8]"
   ]
  },
  {
   "cell_type": "code",
   "execution_count": null,
   "id": "hazardous-racing",
   "metadata": {
    "scrolled": false
   },
   "outputs": [],
   "source": [
    "fig, ax = plt.subplots(figsize=[4, 8])\n",
    "ax = sns.barplot(\n",
    "    data=all_lopo_tp_results,\n",
    "    x=\"tp\",\n",
    "    y=\"score\",\n",
    "    order=[\"prior\", \"during\", \"end\", \"permutation\"],\n",
    "    # fliersize=2,\n",
    "    palette=[\"gray\"],\n",
    "    ax=ax,\n",
    ")\n",
    "\n",
    "box_pairs = [\n",
    "    (\"prior\", \"during\"),\n",
    "    (\"during\", \"end\"),\n",
    "    (\"prior\", \"end\"),\n",
    "    (\"prior\", \"permutation\"),\n",
    "    (\"during\", \"permutation\"),\n",
    "    (\"end\", \"permutation\"),\n",
    "]\n",
    "\n",
    "annotator = Annotator(\n",
    "    ax,\n",
    "    box_pairs,\n",
    "    data=all_lopo_tp_results,\n",
    "    x=\"tp\",\n",
    "    y=\"score\",\n",
    "    order=[\"prior\", \"during\", \"end\", \"permutation\"],\n",
    "    plot=\"barplot\",\n",
    ")\n",
    "annotator.configure(\n",
    "    test=\"Mann-Whitney\",\n",
    "    text_format=\"star\",\n",
    "    loc=\"inside\",\n",
    "    comparisons_correction=\"Benjamini-Hochberg\",\n",
    ")\n",
    "annotator.apply_test()\n",
    "annotator.annotate()\n",
    "ax.set_xlabel(\"\")\n",
    "ax.set_ylabel(\"\")\n",
    "# ax.set_ylim([0, 1])\n",
    "# fig.savefig(\n",
    "#     os.path.join(output_dir, \"cancer_separation_accuracy.png\"),\n",
    "#     dpi=1200,\n",
    "#     transparent=True,\n",
    "# )\n",
    "plt.show()"
   ]
  },
  {
   "cell_type": "markdown",
   "id": "sudden-schedule",
   "metadata": {},
   "source": [
    "---\n",
    "\n",
    "### 3c. Nuclear chromatin biomarkers identifying cancer populations"
   ]
  },
  {
   "cell_type": "markdown",
   "id": "smaller-breed",
   "metadata": {},
   "source": [
    "#### Feature importance\n",
    "\n",
    "We have validated that there are significant differences between the individual treatment timepoints in particular when comparing PBMCs at the end of the treatment with those of during respectively prior the treatment. We next assess the implicit feature importance of a RandomForest classifier trained on the task to distinguish between the timepoint populations types in order to get an idea of the features are most indicative for the treatment effect."
   ]
  },
  {
   "cell_type": "code",
   "execution_count": null,
   "id": "stupid-hospital",
   "metadata": {},
   "outputs": [],
   "source": [
    "chrometric_data = chrometric_data.rename(columns=feature_name_dict)"
   ]
  },
  {
   "cell_type": "code",
   "execution_count": null,
   "id": "informative-opera",
   "metadata": {},
   "outputs": [],
   "source": [
    "fig, ax = plot_feature_importance_for_estimator(\n",
    "    rfc,\n",
    "    chrometric_data,\n",
    "    tp_labels,\n",
    "    cmap=[\"gray\"],\n",
    "    figsize=[2, 3],\n",
    "    feature_color_dict=feature_color_dict,\n",
    "    n_features=15,\n",
    ")\n"
   ]
  },
  {
   "cell_type": "code",
   "execution_count": null,
   "id": "touched-turtle",
   "metadata": {},
   "outputs": [],
   "source": [
    "fig, ax = plot_feature_importance_for_estimator(\n",
    "    rfc,\n",
    "    chrometric_data,\n",
    "    cancer_labels,\n",
    "    cmap=[\"gray\"],\n",
    "    figsize=[2, 3],\n",
    "    feature_color_dict=feature_color_dict,\n",
    "    n_features=15,\n",
    ")"
   ]
  },
  {
   "cell_type": "code",
   "execution_count": null,
   "id": "fitting-three",
   "metadata": {},
   "outputs": [],
   "source": [
    "marker_screen_results_tp = find_markers(chrometric_data, tp_labels)\n",
    "marker_screen_results_cancer = find_markers(chrometric_data, cancer_labels)"
   ]
  },
  {
   "cell_type": "markdown",
   "id": "entire-fairy",
   "metadata": {},
   "source": [
    "#### Prior treatment"
   ]
  },
  {
   "cell_type": "code",
   "execution_count": null,
   "id": "forty-schema",
   "metadata": {},
   "outputs": [],
   "source": [
    "marker_screen_results_tp.loc[marker_screen_results_tp.label == \"prior\"].head(10)"
   ]
  },
  {
   "cell_type": "markdown",
   "id": "straight-nicaragua",
   "metadata": {},
   "source": [
    "---"
   ]
  },
  {
   "cell_type": "markdown",
   "id": "focal-symposium",
   "metadata": {},
   "source": [
    "#### During treatment"
   ]
  },
  {
   "cell_type": "markdown",
   "id": "configured-suspect",
   "metadata": {},
   "source": [
    "Next we look at the features whose mean is significantly different in the during treatment population."
   ]
  },
  {
   "cell_type": "code",
   "execution_count": null,
   "id": "progressive-england",
   "metadata": {},
   "outputs": [],
   "source": [
    "marker_screen_results_tp.loc[marker_screen_results_tp.label == \"during\"].head(10)"
   ]
  },
  {
   "cell_type": "markdown",
   "id": "random-paragraph",
   "metadata": {},
   "source": [
    "---\n",
    "\n",
    "#### End of treatment\n",
    "\n",
    "Finally, we also evaluate the chrometric phenotype of PBMCs at the end of the proton therapy treatment."
   ]
  },
  {
   "cell_type": "code",
   "execution_count": null,
   "id": "electronic-variation",
   "metadata": {},
   "outputs": [],
   "source": [
    "marker_screen_results_tp.loc[marker_screen_results_tp.label == \"end\"].head(10)"
   ]
  },
  {
   "cell_type": "markdown",
   "id": "nervous-occasion",
   "metadata": {},
   "source": [
    "---\n",
    "\n",
    "#### Meningioma"
   ]
  },
  {
   "cell_type": "code",
   "execution_count": null,
   "id": "noticed-plumbing",
   "metadata": {},
   "outputs": [],
   "source": [
    "marker_screen_results_cancer.loc[\n",
    "    marker_screen_results_cancer.label == \"Meningioma\"\n",
    "].head(10)"
   ]
  },
  {
   "cell_type": "markdown",
   "id": "broadband-danger",
   "metadata": {},
   "source": [
    "#### Glioma"
   ]
  },
  {
   "cell_type": "code",
   "execution_count": null,
   "id": "nominated-solid",
   "metadata": {},
   "outputs": [],
   "source": [
    "marker_screen_results_cancer.loc[marker_screen_results_cancer.label == \"Glioma\"].head(\n",
    "    10\n",
    ")"
   ]
  },
  {
   "cell_type": "markdown",
   "id": "basic-neighborhood",
   "metadata": {},
   "source": [
    "#### Head & Neck cancers"
   ]
  },
  {
   "cell_type": "code",
   "execution_count": null,
   "id": "continental-export",
   "metadata": {},
   "outputs": [],
   "source": [
    "marker_screen_results_cancer.loc[\n",
    "    marker_screen_results_cancer.label == \"Head & Neck\"\n",
    "].head(10)"
   ]
  },
  {
   "cell_type": "code",
   "execution_count": null,
   "id": "loving-congress",
   "metadata": {},
   "outputs": [],
   "source": [
    "color_palette"
   ]
  },
  {
   "cell_type": "code",
   "execution_count": null,
   "id": "written-eclipse",
   "metadata": {},
   "outputs": [],
   "source": [
    "data.groupby([\"timepoint\", \"cancer\"]).std_curvature.describe()"
   ]
  },
  {
   "cell_type": "markdown",
   "id": "substantial-cheese",
   "metadata": {},
   "source": [
    "---"
   ]
  },
  {
   "cell_type": "code",
   "execution_count": null,
   "id": "differential-satisfaction",
   "metadata": {
    "scrolled": true
   },
   "outputs": [],
   "source": [
    "data = data.rename(columns=feature_name_dict)\n",
    "markers = [\n",
    "    \"volume\",\n",
    "    \"hetero_to_euchromatin_area_ratio\",\n",
    "    \"radial_chromatin_content_p10\",\n",
    "    \"std_curvature\",\n",
    "    \"glcm_contrast_5px\",\n",
    "    \"glcm_correlation_5px\",\n",
    "]\n",
    "marker_labels = [\n",
    "    r\"Nuclear volume in px$^3$\",\n",
    "    \"relative HC/EC ratio\",\n",
    "    \"Fraction of the overall DNA intensity \\n within the inner 10% of the nuclear volume\",\n",
    "    \"Standard deviation of the curvature\",\n",
    "    \"Contrast of the GLCM \\n with a shift of 5px (2D)\",\n",
    "    \"Correlation of the GLCM \\n with a shift of 5px (2D)\",\n",
    "]\n",
    "plot_timepoint_cancer_markers_dist(\n",
    "    data, markers, marker_labels, cut=0, palette=color_palette, figsize=[6.5, 3.5]\n",
    ")"
   ]
  },
  {
   "cell_type": "code",
   "execution_count": null,
   "id": "republican-acrobat",
   "metadata": {},
   "outputs": [],
   "source": [
    "plot_timepoint_cancer_markers_dist(\n",
    "    data,\n",
    "    markers,\n",
    "    marker_labels,\n",
    "    cut=0,\n",
    "    plot_type=\"bar\",\n",
    "    palette=color_palette,\n",
    "    figsize=[5, 4],\n",
    ")"
   ]
  },
  {
   "cell_type": "markdown",
   "id": "innocent-scratch",
   "metadata": {},
   "source": [
    "---\n",
    "\n",
    "### 3d. Proteomic differences of PBMCs in cancer"
   ]
  },
  {
   "cell_type": "markdown",
   "id": "chinese-family",
   "metadata": {},
   "source": [
    "Finally, we also assess the proteomic differences between the different treatment timepoint populations. To this end, we plot the relative Lamin and gH2AX expression measured by the sum of the intensities of the corresponding imaging channels normalized by the nuclear volume. Additionally, we plot the number of identified gH2AX foci which are computed as the local maxima peaks found in the corresponding channel images."
   ]
  },
  {
   "cell_type": "markdown",
   "id": "reported-upgrade",
   "metadata": {},
   "source": [
    "Note that those features are only available for the first data set that was stained for those proteins."
   ]
  },
  {
   "cell_type": "code",
   "execution_count": null,
   "id": "closed-isaac",
   "metadata": {
    "scrolled": true
   },
   "outputs": [],
   "source": [
    "markers = [\n",
    "    \"rel_lamin_3d_int\",\n",
    "    \"rel_gh2ax_3d_int\",\n",
    "    \"gh2ax_foci_count\",\n",
    "    \"gh2ax_sum_foci_area\",\n",
    "    \"gh2ax_avg_foci_area\",\n",
    "]\n",
    "marker_labels = [\n",
    "    \"Volume-normalized nuclear\\nLamin A/C intensity\",\n",
    "    \"Normalized nuclear\\n\" r\"$\\gamma$H2AX intensity\",\n",
    "    r\"Number of $\\gamma$H2AX foci\",\n",
    "    r\"Sum of the $\\gamma$H2AX foci area\",\n",
    "    r\"Average size of the $\\gamma$H2AX foci\",\n",
    "]\n",
    "plot_timepoint_cancer_markers_dist(\n",
    "    data,\n",
    "    markers,\n",
    "    marker_labels,\n",
    "    quantiles=None,\n",
    "    cut=0,\n",
    "    plot_type=\"bar\",\n",
    "    palette=color_palette,\n",
    "    figsize=[6, 4],\n",
    ")"
   ]
  },
  {
   "cell_type": "code",
   "execution_count": null,
   "id": "controlled-functionality",
   "metadata": {
    "scrolled": true
   },
   "outputs": [],
   "source": [
    "markers = [\n",
    "    \"rel_lamin_3d_int\",\n",
    "    \"rel_gh2ax_3d_int\",\n",
    "    \"gh2ax_foci_count\",\n",
    "    \"gh2ax_sum_foci_area\",\n",
    "    \"gh2ax_avg_foci_area\",\n",
    "]\n",
    "marker_labels = [\n",
    "    \"Volume-normalized nuclear\\nLamin A/C intensity\",\n",
    "    \"Normalized nuclear\\n\" r\"$\\gamma$H2AX intensity\",\n",
    "    r\"Number of $\\gamma$H2AX foci\",\n",
    "    r\"Sum of the $\\gamma$H2AX foci area\",\n",
    "    r\"Average size of the $\\gamma$H2AX foci\",\n",
    "]\n",
    "plot_timepoint_cancer_markers_dist(\n",
    "    data,\n",
    "    markers,\n",
    "    marker_labels,\n",
    "    quantiles=None,\n",
    "    cut=0,\n",
    "    plot_type=\"violin\",\n",
    "    palette=color_palette,\n",
    "    figsize=[5, 4],\n",
    ")"
   ]
  },
  {
   "cell_type": "markdown",
   "id": "coordinate-surname",
   "metadata": {},
   "source": [
    "---\n"
   ]
  },
  {
   "cell_type": "markdown",
   "id": "anonymous-state",
   "metadata": {},
   "source": [
    "---\n",
    "\n",
    "## 4. Supplemental"
   ]
  },
  {
   "cell_type": "code",
   "execution_count": null,
   "id": "normal-opposition",
   "metadata": {
    "scrolled": true
   },
   "outputs": [],
   "source": [
    "markers = [\n",
    "    \"volume\",\n",
    "    \"hetero_to_euchromatin_area_ratio\",\n",
    "    \"radial_chromatin_content_p10\",\n",
    "    \"std_curvature\",\n",
    "    \"glcm_contrast_5px\",\n",
    "    \"glcm_correlation_5px\",\n",
    "]\n",
    "marker_labels = [\n",
    "    r\"Nuclear volume in px$^3$\",\n",
    "    \"relative HC/EC ratio\",\n",
    "    \"Fraction of the overall DNA intensity \\n within the inner 10% of the nuclear volume\",\n",
    "    \"Standard deviation of the curvature\",\n",
    "    \"Contrast of the GLCM \\n with a shift of 5px (2D)\",\n",
    "    \"Correlation of the GLCM \\n with a shift of 5px (2D)\",\n",
    "]\n",
    "plot_timepoint_cancer_markers_dist(\n",
    "    all_data, markers, marker_labels, cut=0, palette=color_palette, figsize=[6.5, 3.5]\n",
    ")"
   ]
  },
  {
   "cell_type": "markdown",
   "id": "european-easter",
   "metadata": {},
   "source": [
    "---\n",
    "\n",
    "### 3d. Proteomic differences of PBMCs in cancer"
   ]
  },
  {
   "cell_type": "markdown",
   "id": "twenty-communication",
   "metadata": {},
   "source": [
    "Finally, we also assess the proteomic differences between the different treatment timepoint populations. To this end, we plot the relative Lamin and gH2AX expression measured by the sum of the intensities of the corresponding imaging channels normalized by the nuclear volume. Additionally, we plot the number of identified gH2AX foci which are computed as the local maxima peaks found in the corresponding channel images."
   ]
  },
  {
   "cell_type": "markdown",
   "id": "level-fashion",
   "metadata": {},
   "source": [
    "Note that those features are only available for the first data set that was stained for those proteins."
   ]
  },
  {
   "cell_type": "code",
   "execution_count": null,
   "id": "integral-testament",
   "metadata": {
    "scrolled": true
   },
   "outputs": [],
   "source": [
    "markers = [\n",
    "    \"rel_lamin_3d_int\",\n",
    "    \"rel_gh2ax_3d_int\",\n",
    "    \"gh2ax_foci_count\",\n",
    "    \"gh2ax_sum_foci_area\",\n",
    "    \"gh2ax_avg_foci_area\",\n",
    "]\n",
    "marker_labels = [\n",
    "    \"Volume-normalized nuclear\\nLamin A/C intensity\",\n",
    "    \"Normalized nuclear\\n\" r\"$\\gamma$H2AX intensity\",\n",
    "    r\"Number of $\\gamma$H2AX foci\",\n",
    "    r\"Sum of the $\\gamma$H2AX foci area\",\n",
    "    r\"Average size of the $\\gamma$H2AX foci\",\n",
    "]\n",
    "plot_timepoint_cancer_markers_dist(\n",
    "    all_data,\n",
    "    markers,\n",
    "    marker_labels,\n",
    "    quantiles=None,\n",
    "    cut=0,\n",
    "    plot_type=\"bar\",\n",
    "    palette=color_palette,\n",
    "    figsize=[6, 4],\n",
    ")"
   ]
  },
  {
   "cell_type": "code",
   "execution_count": null,
   "id": "disturbed-clear",
   "metadata": {},
   "outputs": [],
   "source": []
  },
  {
   "cell_type": "code",
   "execution_count": null,
   "id": "meaning-drilling",
   "metadata": {},
   "outputs": [],
   "source": []
  },
  {
   "cell_type": "code",
   "execution_count": null,
   "id": "sufficient-witch",
   "metadata": {},
   "outputs": [],
   "source": []
  }
 ],
 "metadata": {
  "kernelspec": {
   "display_name": "Python 3",
   "language": "python",
   "name": "python3"
  },
  "language_info": {
   "codemirror_mode": {
    "name": "ipython",
    "version": 3
   },
   "file_extension": ".py",
   "mimetype": "text/x-python",
   "name": "python",
   "nbconvert_exporter": "python",
   "pygments_lexer": "ipython3",
   "version": "3.8.0"
  },
  "toc": {
   "base_numbering": 1,
   "nav_menu": {},
   "number_sections": true,
   "sideBar": true,
   "skip_h1_title": false,
   "title_cell": "Table of Contents",
   "title_sidebar": "Contents",
   "toc_cell": false,
   "toc_position": {},
   "toc_section_display": true,
   "toc_window_display": false
  }
 },
 "nbformat": 4,
 "nbformat_minor": 5
}
