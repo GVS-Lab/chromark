{
 "cells": [
  {
   "cell_type": "markdown",
   "id": "indian-simon",
   "metadata": {},
   "source": [
    "# Nuclear chromatin phenotypes of PBMCs vary between cancer types\n",
    "\n",
    "---\n",
    "This notebook summarizes the analysis corresponding to the results presented in figure 3 of the paper. It can be used to rerun the analysis and regenerate the corresponding panels.\n",
    "\n",
    "---"
   ]
  },
  {
   "cell_type": "markdown",
   "id": "metric-fusion",
   "metadata": {},
   "source": [
    "## 0. Environmental setup"
   ]
  },
  {
   "cell_type": "code",
   "execution_count": null,
   "id": "renewable-magic",
   "metadata": {},
   "outputs": [],
   "source": [
    "import pandas as pd\n",
    "import numpy as np\n",
    "import seaborn as sns\n",
    "import random\n",
    "import os\n",
    "import matplotlib.pyplot as plt\n",
    "from sklearn.ensemble import RandomForestClassifier\n",
    "import matplotlib as mpl\n",
    "\n",
    "mpl.rcParams[\"figure.dpi\"] = 1200\n",
    "\n",
    "# SMALL_SIZE = 16\n",
    "# MEDIUM_SIZE = 18\n",
    "# BIGGER_SIZE = 20\n",
    "\n",
    "# mpl.rc(\"font\", size=SMALL_SIZE, weight=\"normal\")  # controls default text sizes\n",
    "# mpl.rc(\"axes\", titlesize=SMALL_SIZE)  # fontsize of the axes title\n",
    "# mpl.rc(\"axes\", labelsize=MEDIUM_SIZE)  # fontsize of the x and y labels\n",
    "# mpl.rc(\"xtick\", labelsize=SMALL_SIZE)  # fontsize of the tick labels\n",
    "# mpl.rc(\"ytick\", labelsize=SMALL_SIZE)  # fontsize of the tick labels\n",
    "# mpl.rc(\"legend\", fontsize=SMALL_SIZE)  # legend fontsize\n",
    "# mpl.rc(\"figure\", titlesize=BIGGER_SIZE)  # fontsize of the figure title\n",
    "\n",
    "import sys\n",
    "\n",
    "sys.path.append(\"../..\")\n",
    "from src.utils.notebooks.eda import *\n",
    "from src.utils.notebooks.figure3 import *\n",
    "from sklearn.discriminant_analysis import LinearDiscriminantAnalysis\n",
    "from sklearn.model_selection import cross_val_score, StratifiedGroupKFold\n",
    "\n",
    "seed = 1234\n",
    "random.seed(1234)\n",
    "np.random.seed(1234)\n",
    "\n",
    "%reload_ext nb_black"
   ]
  },
  {
   "cell_type": "code",
   "execution_count": null,
   "id": "complimentary-singles",
   "metadata": {},
   "outputs": [],
   "source": [
    "nuc_feature_desc = pd.read_csv(\n",
    "    \"../../data/chrometric_feature_description.csv\", index_col=0\n",
    ")\n",
    "feature_name_dict = dict(\n",
    "    zip(\n",
    "        list(nuc_feature_desc.loc[:, \"feature\"]),\n",
    "        list(nuc_feature_desc.loc[:, \"long_name\"]),\n",
    "    )\n",
    ")\n",
    "feature_color_dict = {\n",
    "    \"morphology\": \"b\",\n",
    "    \"intensity\": \"g\",\n",
    "    \"boundary\": \"r\",\n",
    "    \"texture\": \"c\",\n",
    "    \"chromatin condensation\": \"m\",\n",
    "    \"moments\": \"y\",\n",
    "    np.nan: \"k\",\n",
    "}\n",
    "feature_color_dict = {\n",
    "    feature: feature_color_dict[category]\n",
    "    for (feature, category) in zip(\n",
    "        list(nuc_feature_desc.loc[:, \"long_name\"]),\n",
    "        list(nuc_feature_desc.loc[:, \"category\"]),\n",
    "    )\n",
    "}"
   ]
  },
  {
   "cell_type": "code",
   "execution_count": null,
   "id": "unnecessary-desire",
   "metadata": {},
   "outputs": [],
   "source": [
    "color_palette = {\n",
    "    \"Meningioma\": \"cornflowerblue\",\n",
    "    \"Glioma\": \"orange\",\n",
    "    \"Head & Neck\": \"orchid\",\n",
    "}"
   ]
  },
  {
   "cell_type": "markdown",
   "id": "twenty-hebrew",
   "metadata": {},
   "source": [
    "---\n",
    "\n",
    "## 1. Read in data"
   ]
  },
  {
   "cell_type": "markdown",
   "id": "rocky-equivalent",
   "metadata": {},
   "source": [
    "To assess the differences of the cell states of PBMCs in the presence of different cancer types, we obtained PBMCs of 30 patients with different cancer types namely: Meningioma, Glioma and Head&neck cancer. Those cancer types are the most abundant among the population of patients treated with Proton therapy. For each patient we obtained data by staining the PBMCs for the DNA, gH2AX and Lamin A/C."
   ]
  },
  {
   "cell_type": "markdown",
   "id": "front-software",
   "metadata": {},
   "source": [
    "First, we read in the required data set that describe each PBMCs by a number of hand-crafted features extracted from the fluorescent images of the cells."
   ]
  },
  {
   "cell_type": "code",
   "execution_count": null,
   "id": "sporting-religious",
   "metadata": {},
   "outputs": [],
   "source": [
    "all_data = pd.read_csv(\"../../data/treated_population_data.csv\", index_col=0)\n",
    "all_data = preprocess_data(all_data, remove_constant_features=False)\n",
    "all_data = all_data.loc[all_data.timepoint == \"prior\"]\n",
    "all_data = all_data.rename(columns=feature_name_dict)\n",
    "len(all_data)"
   ]
  },
  {
   "cell_type": "code",
   "execution_count": null,
   "id": "valued-tuition",
   "metadata": {},
   "outputs": [],
   "source": [
    "fig, ax = plt.subplots(figsize=[12, 4], ncols=2)\n",
    "cancer_order = [\"Meningioma\", \"Glioma\", \"Head & Neck\"]\n",
    "ax = ax.flatten()\n",
    "ax[0] = sns.countplot(\n",
    "    x=\"sample\",\n",
    "    data=all_data,\n",
    "    ax=ax[0],\n",
    "    order=np.unique(all_data.loc[:, \"sample\"]),\n",
    "    hue_order=cancer_order,\n",
    "    hue=\"cancer\",\n",
    "    dodge=False,\n",
    "    palette=color_palette,\n",
    ")\n",
    "ax[0].legend([], [], frameon=False)\n",
    "ax[0].set_xlabel(\"ID of the biological sample\")\n",
    "ax[0].set_title(\"Distribution of biological samples\")\n",
    "for tick in ax[0].get_xticklabels():\n",
    "    tick.set_rotation(90)\n",
    "\n",
    "ax[1] = sns.countplot(\n",
    "    x=\"cancer\",\n",
    "    hue=\"cancer\",\n",
    "    data=all_data,\n",
    "    ax=ax[1],\n",
    "    order=cancer_order,\n",
    "    dodge=False,\n",
    "    palette=color_palette,\n",
    "    hue_order=cancer_order,\n",
    ")\n",
    "ax[1].set_xlabel(\"Cancer type\")\n",
    "ax[1].set_title(\"Distribution of cancer types\")\n",
    "\n",
    "plt.show()\n",
    "plt.close()"
   ]
  },
  {
   "cell_type": "markdown",
   "id": "surprised-ghana",
   "metadata": {},
   "source": [
    "___"
   ]
  },
  {
   "cell_type": "markdown",
   "id": "intermediate-schema",
   "metadata": {},
   "source": [
    "#### Subsampling\n",
    "\n",
    "We next subsample the data set such that for each cancer type we have the same number of nuclei in the data set. Additionally, we ensure that for the individual cancer type population are approximately uniformly represented by the different biological (patient) samples."
   ]
  },
  {
   "cell_type": "code",
   "execution_count": null,
   "id": "secret-setting",
   "metadata": {},
   "outputs": [],
   "source": [
    "deselected_patients = [\"p42\"]\n",
    "\n",
    "all_data = all_data.loc[~all_data.loc[:, \"sample\"].isin(deselected_patients)]"
   ]
  },
  {
   "cell_type": "code",
   "execution_count": null,
   "id": "novel-qualification",
   "metadata": {},
   "outputs": [],
   "source": [
    "sampled_data = get_stratified_data(\n",
    "    all_data,\n",
    "    id_column=\"id\",\n",
    "    cond_column=\"cancer\",\n",
    "    seed=1234,\n",
    ")"
   ]
  },
  {
   "cell_type": "code",
   "execution_count": null,
   "id": "opponent-snake",
   "metadata": {},
   "outputs": [],
   "source": [
    "fig, ax = plt.subplots(figsize=[12, 4], ncols=2)\n",
    "cancer_order = [\"Meningioma\", \"Glioma\", \"Head & Neck\"]\n",
    "ax = ax.flatten()\n",
    "ax[0] = sns.countplot(\n",
    "    x=\"sample\",\n",
    "    data=sampled_data,\n",
    "    ax=ax[0],\n",
    "    order=np.unique(all_data.loc[:, \"sample\"]),\n",
    "    hue_order=cancer_order,\n",
    "    hue=\"cancer\",\n",
    "    dodge=False,\n",
    "    palette=color_palette,\n",
    ")\n",
    "ax[0].legend([], [], frameon=False)\n",
    "ax[0].set_xlabel(\"ID of the biological sample\")\n",
    "ax[0].set_title(\"Distribution of biological samples \\n (sampled data set)\")\n",
    "for tick in ax[0].get_xticklabels():\n",
    "    tick.set_rotation(90)\n",
    "\n",
    "ax[1] = sns.countplot(\n",
    "    x=\"cancer\",\n",
    "    hue=\"cancer\",\n",
    "    data=sampled_data,\n",
    "    ax=ax[1],\n",
    "    order=cancer_order,\n",
    "    dodge=False,\n",
    "    palette=color_palette,\n",
    "    hue_order=cancer_order,\n",
    ")\n",
    "ax[1].set_xlabel(\"Cancer type\")\n",
    "ax[1].set_title(\n",
    "    \"Distribution of cancer types in the sampled data set \\n (sampled data set)\"\n",
    ")\n",
    "ax[1].legend(loc=\"lower right\")\n",
    "\n",
    "plt.show()\n",
    "plt.close()"
   ]
  },
  {
   "cell_type": "markdown",
   "id": "handled-transport",
   "metadata": {},
   "source": [
    "----\n",
    "\n",
    "#### Sample and feature selection\n",
    "\n",
    "We now filter out constant features and nuclei with missing features."
   ]
  },
  {
   "cell_type": "code",
   "execution_count": null,
   "id": "opening-combination",
   "metadata": {},
   "outputs": [],
   "source": [
    "data = preprocess_data(sampled_data, remove_constant_features=True)"
   ]
  },
  {
   "cell_type": "markdown",
   "id": "congressional-dutch",
   "metadata": {},
   "source": [
    "---\n",
    "\n",
    "#### Data preparation\n",
    "\n",
    "After sampling the data, we will now prepare the data for the consecutive analysis, i.e. extracting only chrometric features and corresponding metadata information."
   ]
  },
  {
   "cell_type": "code",
   "execution_count": null,
   "id": "crazy-sally",
   "metadata": {},
   "outputs": [],
   "source": [
    "all_chrometric_data = get_chrometric_data(\n",
    "    data,\n",
    "    proteins=[\"gh2ax\", \"lamin\", \"cd3\"],\n",
    "    exclude_dna_int=True,\n",
    ")\n",
    "\n",
    "sample_labels = data.loc[:, \"sample\"]\n",
    "cancer_labels = data.loc[:, \"cancer\"]"
   ]
  },
  {
   "cell_type": "markdown",
   "id": "frank-stretch",
   "metadata": {},
   "source": [
    "Finally, we remove highly correlated features (Pearson $\\rho > 0.8$) from the chrometric features."
   ]
  },
  {
   "cell_type": "code",
   "execution_count": null,
   "id": "completed-output",
   "metadata": {},
   "outputs": [],
   "source": [
    "chrometric_data = remove_correlated_features(all_chrometric_data, threshold=0.8)"
   ]
  },
  {
   "cell_type": "markdown",
   "id": "published-utilization",
   "metadata": {},
   "source": [
    "---\n",
    "\n",
    "## 3. Panels\n",
    "\n",
    "Now we generate the individual panels for figure 3 of the paper.\n",
    "\n",
    "\n",
    "### 3a. Visualization of changes of nuclear phenotypes in different cancer types"
   ]
  },
  {
   "cell_type": "markdown",
   "id": "helpful-glance",
   "metadata": {},
   "source": [
    "First, we provide a visual representation of the different nuclear phenotypes in health and cancer. To this end, we will randomly sample 36 nuclei from each of the three cancer types and plot a corresponding montage of the max-z projected DNA images. To visualize size differences each nuclei is padded to a size of 150x150 pixels. Note that the nuclei images were obtained from range-normalized DAPI images. The range normalization was used to mitigate batch effects."
   ]
  },
  {
   "cell_type": "code",
   "execution_count": null,
   "id": "solved-growth",
   "metadata": {
    "scrolled": true
   },
   "outputs": [],
   "source": [
    "image_file_path = \"preprocessed/full_pipeline/segmentation/nuclei_images\"\n",
    "sampled_mg_images = get_random_images(\n",
    "    data.loc[data.cancer == \"Meningioma\"],\n",
    "    image_file_path,\n",
    "    data_dir_col=\"data_dir\",\n",
    "    n_images=16,\n",
    "    seed=1234,\n",
    "    file_ending=\".tif\",\n",
    "    file_name_col=\"file_name\",\n",
    ")\n",
    "\n",
    "sampled_gl_images = get_random_images(\n",
    "    data.loc[data.cancer == \"Glioma\"],\n",
    "    image_file_path,\n",
    "    data_dir_col=\"data_dir\",\n",
    "    n_images=16,\n",
    "    seed=1234,\n",
    "    file_ending=\".tif\",\n",
    "    file_name_col=\"file_name\",\n",
    ")\n",
    "\n",
    "sampled_hn_images = get_random_images(\n",
    "    data.loc[data.cancer == \"Head & Neck\"],\n",
    "    image_file_path,\n",
    "    data_dir_col=\"data_dir\",\n",
    "    n_images=16,\n",
    "    seed=1234,\n",
    "    file_ending=\".tif\",\n",
    "    file_name_col=\"file_name\",\n",
    ")"
   ]
  },
  {
   "cell_type": "markdown",
   "id": "political-cornwall",
   "metadata": {},
   "source": [
    "#### Meningioma population"
   ]
  },
  {
   "cell_type": "code",
   "execution_count": null,
   "id": "framed-english",
   "metadata": {
    "scrolled": false
   },
   "outputs": [],
   "source": [
    "fig_mg, ax_mg = plot_montage(\n",
    "    sampled_mg_images,\n",
    "    pad_size=150,\n",
    "    mask_nuclei=True,\n",
    "    cmap=\"inferno\",\n",
    "    nrows=4,\n",
    "    ncols=4,\n",
    ")\n",
    "fig_mg.set_facecolor(color_palette[\"Meningioma\"])"
   ]
  },
  {
   "cell_type": "markdown",
   "id": "familiar-mercury",
   "metadata": {},
   "source": [
    "#### Glioma population"
   ]
  },
  {
   "cell_type": "code",
   "execution_count": null,
   "id": "welsh-wellington",
   "metadata": {
    "scrolled": false
   },
   "outputs": [],
   "source": [
    "fig_gl, ax_gl = plot_montage(\n",
    "    sampled_gl_images,\n",
    "    pad_size=150,\n",
    "    mask_nuclei=True,\n",
    "    cmap=\"inferno\",\n",
    "    ncols=4,\n",
    "    nrows=4,\n",
    ")\n",
    "fig_gl.set_facecolor(color_palette[\"Glioma\"])"
   ]
  },
  {
   "cell_type": "markdown",
   "id": "statistical-crawford",
   "metadata": {},
   "source": [
    "#### Head & Neck population"
   ]
  },
  {
   "cell_type": "code",
   "execution_count": null,
   "id": "closed-score",
   "metadata": {},
   "outputs": [],
   "source": [
    "fig_hn, ax_hn = plot_montage(\n",
    "    sampled_hn_images,\n",
    "    pad_size=150,\n",
    "    mask_nuclei=True,\n",
    "    cmap=\"inferno\",\n",
    "    ncols=4,\n",
    "    nrows=4,\n",
    ")\n",
    "fig_hn.set_facecolor(color_palette[\"Head & Neck\"])"
   ]
  },
  {
   "cell_type": "markdown",
   "id": "apart-atmosphere",
   "metadata": {},
   "source": [
    "---\n",
    "\n",
    "### 3b. Parametric analysis captures captures differences of PBMCs in the presence of Meningioma, Glioma and Head & Neck cancers"
   ]
  },
  {
   "cell_type": "markdown",
   "id": "olympic-organ",
   "metadata": {},
   "source": [
    "While the montage do not show large-scale differences between the different cancer types, we will now turn to the assessment of the parametric descriptions of the nuclear phenotypes of the PBMCs in those three cancer types. To this end, we first visualize the data set using a tSNE plot to assess potential large-scale differences between the cancer types and individual patient samples."
   ]
  },
  {
   "cell_type": "code",
   "execution_count": null,
   "id": "crude-palestine",
   "metadata": {},
   "outputs": [],
   "source": [
    "chrometric_embs = get_tsne_embs(chrometric_data)\n",
    "chrometric_embs[\"cancer\"] = np.array(cancer_labels)\n",
    "chrometric_embs[\"sample\"] = np.array(sample_labels)"
   ]
  },
  {
   "cell_type": "code",
   "execution_count": null,
   "id": "juvenile-charge",
   "metadata": {},
   "outputs": [],
   "source": [
    "fig, ax = plt.subplots(figsize=[9, 6])\n",
    "ax = sns.scatterplot(\n",
    "    data=chrometric_embs,\n",
    "    x=\"tSNE 1\",\n",
    "    y=\"tSNE 2\",\n",
    "    hue=\"cancer\",\n",
    "    hue_order=cancer_order,\n",
    "    ax=ax,\n",
    "    s=14,\n",
    "    marker=\"o\",\n",
    "    palette=color_palette,\n",
    "    legend=False,\n",
    ")\n",
    "ax.set_xlim([-40, 40])\n",
    "ax.set_ylim([-40, 40])\n",
    "plt.show()"
   ]
  },
  {
   "cell_type": "code",
   "execution_count": null,
   "id": "sharing-leader",
   "metadata": {},
   "outputs": [],
   "source": [
    "fig, ax = plt.subplots(figsize=[9, 6])\n",
    "ax = sns.scatterplot(\n",
    "    data=chrometric_embs,\n",
    "    x=\"tSNE 1\",\n",
    "    y=\"tSNE 2\",\n",
    "    hue=\"sample\",\n",
    "    hue_order=np.unique(sample_labels),\n",
    "    ax=ax,\n",
    "    s=14,\n",
    "    marker=\"o\",\n",
    "    palette=\"tab20\",\n",
    ")\n",
    "plt.legend(\n",
    "    bbox_to_anchor=(1.02, 0.5),\n",
    "    loc=\"center left\",\n",
    "    borderaxespad=0,\n",
    "    title=\"sample\",\n",
    "    ncol=2,\n",
    ")\n",
    "ax.set_xlim([-40, 40])\n",
    "ax.set_ylim([-40, 40])\n",
    "plt.show()"
   ]
  },
  {
   "cell_type": "code",
   "execution_count": null,
   "id": "technological-opening",
   "metadata": {},
   "outputs": [],
   "source": [
    "fig, ax = plt.subplots(figsize=[9, 6])\n",
    "ax = sns.scatterplot(\n",
    "    data=chrometric_embs.loc[chrometric_embs.cancer == \"Meningioma\"],\n",
    "    x=\"tSNE 1\",\n",
    "    y=\"tSNE 2\",\n",
    "    hue=\"sample\",\n",
    "    hue_order=np.unique(\n",
    "        chrometric_embs.loc[chrometric_embs.cancer == \"Meningioma\", \"sample\"]\n",
    "    ),\n",
    "    ax=ax,\n",
    "    s=18,\n",
    "    marker=\"o\",\n",
    "    palette=\"tab10\",\n",
    ")\n",
    "plt.legend(\n",
    "    bbox_to_anchor=(0.5, 1.05),\n",
    "    loc=\"center\",\n",
    "    borderaxespad=0,\n",
    "    title=\"\",\n",
    "    ncol=10,\n",
    "    fancybox=False,\n",
    "    frameon=False,\n",
    "    columnspacing=0.4,\n",
    ")\n",
    "ax.set_xlim([-40, 40])\n",
    "ax.set_ylim([-40, 40])\n",
    "ax.set_xlabel(\"\")\n",
    "ax.set_ylabel(\"\")\n",
    "plt.show()"
   ]
  },
  {
   "cell_type": "code",
   "execution_count": null,
   "id": "inside-gallery",
   "metadata": {},
   "outputs": [],
   "source": [
    "fig, ax = plt.subplots(figsize=[9, 6])\n",
    "ax = sns.scatterplot(\n",
    "    data=chrometric_embs.loc[chrometric_embs.cancer == \"Glioma\"],\n",
    "    x=\"tSNE 1\",\n",
    "    y=\"tSNE 2\",\n",
    "    hue=\"sample\",\n",
    "    hue_order=np.unique(\n",
    "        chrometric_embs.loc[chrometric_embs.cancer == \"Glioma\", \"sample\"]\n",
    "    ),\n",
    "    ax=ax,\n",
    "    s=18,\n",
    "    marker=\"o\",\n",
    "    palette=\"tab10\",\n",
    ")\n",
    "plt.legend(\n",
    "    bbox_to_anchor=(0.5, 1.05),\n",
    "    loc=\"center\",\n",
    "    borderaxespad=0,\n",
    "    title=\"\",\n",
    "    ncol=10,\n",
    "    fancybox=False,\n",
    "    frameon=False,\n",
    "    columnspacing=0.4,\n",
    ")\n",
    "ax.set_xlim([-40, 40])\n",
    "ax.set_ylim([-40, 40])\n",
    "ax.set_xlabel(\"\")\n",
    "ax.set_ylabel(\"\")\n",
    "plt.show()"
   ]
  },
  {
   "cell_type": "code",
   "execution_count": null,
   "id": "advance-louis",
   "metadata": {},
   "outputs": [],
   "source": [
    "fig, ax = plt.subplots(figsize=[9, 6])\n",
    "ax = sns.scatterplot(\n",
    "    data=chrometric_embs.loc[chrometric_embs.cancer == \"Head & Neck\"],\n",
    "    x=\"tSNE 1\",\n",
    "    y=\"tSNE 2\",\n",
    "    hue=\"sample\",\n",
    "    hue_order=np.unique(\n",
    "        chrometric_embs.loc[chrometric_embs.cancer == \"Head & Neck\", \"sample\"]\n",
    "    ),\n",
    "    ax=ax,\n",
    "    s=18,\n",
    "    marker=\"o\",\n",
    "    palette=\"tab10\",\n",
    ")\n",
    "plt.legend(\n",
    "    bbox_to_anchor=(0.5, 1.05),\n",
    "    loc=\"center\",\n",
    "    borderaxespad=0,\n",
    "    title=\"\",\n",
    "    ncol=10,\n",
    "    fancybox=False,\n",
    "    frameon=False,\n",
    "    columnspacing=0.4,\n",
    ")\n",
    "ax.set_xlim([-40, 40])\n",
    "ax.set_ylim([-40, 40])\n",
    "ax.set_xlabel(\"\")\n",
    "ax.set_ylabel(\"\")\n",
    "plt.show()"
   ]
  },
  {
   "cell_type": "markdown",
   "id": "modern-chosen",
   "metadata": {},
   "source": [
    "---\n",
    "\n",
    "## Classification of the different cancer types."
   ]
  },
  {
   "cell_type": "markdown",
   "id": "likely-straight",
   "metadata": {},
   "source": [
    "To quantify the separability of the three cancer types using the chrometric phenotypes of the PBMCs of the different cancer patients we perform a 10-fold stratified cross-validation analysis using a RandomForest classifier. The classifier provides a simple non-linear classification model which also yields an importance measure for the individual chrometric features indicating which ones are most different between the three populations."
   ]
  },
  {
   "cell_type": "markdown",
   "id": "adaptive-hierarchy",
   "metadata": {},
   "source": [
    "##### Nuclei split\n",
    "\n",
    "At first we will split the data randomly on a nuclei-basis, i.e. nuclei of the same patient will be likely included in both the training and the test sets."
   ]
  },
  {
   "cell_type": "code",
   "execution_count": null,
   "id": "foreign-present",
   "metadata": {},
   "outputs": [],
   "source": [
    "lda = LinearDiscriminantAnalysis(n_components=2)\n",
    "lda_cancer_cv_conf_mtx_nuclei = get_cv_conf_mtx(\n",
    "    estimator=lda,\n",
    "    features=chrometric_data,\n",
    "    labels=cancer_labels,\n",
    "    scale_features=True,\n",
    "    n_folds=10,\n",
    "    order=cancer_order,\n",
    ")\n",
    "lda_normalized_cv_conf_mtx_nuclei = lda_cancer_cv_conf_mtx_nuclei.divide(\n",
    "    lda_cancer_cv_conf_mtx_nuclei.sum(axis=1), axis=0\n",
    ")"
   ]
  },
  {
   "cell_type": "code",
   "execution_count": null,
   "id": "polyphonic-editor",
   "metadata": {},
   "outputs": [],
   "source": [
    "fig, ax = plt.subplots(figsize=[5, 4])\n",
    "ax = sns.heatmap(\n",
    "    lda_normalized_cv_conf_mtx_nuclei,\n",
    "    annot=True,\n",
    "    fmt=\".4f\",\n",
    "    cmap=\"viridis\",\n",
    "    vmin=0,\n",
    "    vmax=1,\n",
    "    # cbar=False,\n",
    ")\n",
    "ax.set_xlabel(\"Predicted cancer type\")\n",
    "ax.set_ylabel(\"True cancer type\")\n",
    "plt.show()"
   ]
  },
  {
   "cell_type": "code",
   "execution_count": null,
   "id": "apart-american",
   "metadata": {},
   "outputs": [],
   "source": [
    "lda_transformed = pd.DataFrame(\n",
    "    lda.fit(chrometric_data, cancer_labels).transform(chrometric_data),\n",
    "    columns=[\"LD 1\", \"LD 2\"],\n",
    "    index=chrometric_data.index,\n",
    ")\n",
    "lda_transformed[\"cancer\"] = np.array(cancer_labels)\n",
    "lda_transformed[\"sample\"] = np.array(sample_labels)\n",
    "g = sns.jointplot(\n",
    "    data=lda_transformed,\n",
    "    x=\"LD 1\",\n",
    "    y=\"LD 2\",\n",
    "    hue=\"cancer\",\n",
    "    s=5,\n",
    "    hue_order=cancer_order,\n",
    "    height=6,\n",
    "    palette=color_palette,\n",
    "    xlim=[-5, 4],\n",
    "    ylim=[-4, 4],\n",
    "    legend=False,\n",
    ")\n",
    "g.ax_joint.set_xlabel(\"\")\n",
    "g.ax_joint.set_ylabel(\"\")\n",
    "# g.ax_joint.legend(title=\"\", prop={\"size\": 16, \"weight\": \"bold\"})\n",
    "# g.ax_joint.legend(title=\"\")\n",
    "# g.savefig(os.path.join(output_dir, \"cancer_type_lda.png\"), dpi=1200, transparent=True)"
   ]
  },
  {
   "cell_type": "code",
   "execution_count": null,
   "id": "prime-trader",
   "metadata": {},
   "outputs": [],
   "source": [
    "not_plotted = (\n",
    "    np.sum(lda_transformed.loc[:, \"LD 1\"] > 4)\n",
    "    + np.sum(lda_transformed.loc[:, \"LD 1\"] < -5)\n",
    "    + np.sum(lda_transformed.loc[:, \"LD 2\"] > 4)\n",
    "    + np.sum(lda_transformed.loc[:, \"LD 2\"] < -4)\n",
    ")\n",
    "print(\n",
    "    \"{} nuclei of a total {} are not shown in the LDA plot.\".format(\n",
    "        not_plotted, len(lda_transformed)\n",
    "    )\n",
    ")"
   ]
  },
  {
   "cell_type": "markdown",
   "id": "crude-arlington",
   "metadata": {},
   "source": [
    "---\n",
    "\n",
    "### Leave-one-patient out cross-validation\n",
    "\n",
    "We run a leave-one-patient out cross-validation in order to characterize how the individual patients contribute to the separability of the different cancer types. In particular, we are interested in patients whose representative PBMC population is particularly accurate or inaccurate classified when the classifier is trained on the data of all other patients. Note that to avoid class imbalance, at each iteration were we leave out patient with a specific cancer type, we take a balanced random subsample among the PBMC population of all other patients for training such that each cancer type is equally represented."
   ]
  },
  {
   "cell_type": "markdown",
   "id": "handed-sociology",
   "metadata": {},
   "source": [
    "However, we first again look at the average confusion matrix."
   ]
  },
  {
   "cell_type": "code",
   "execution_count": null,
   "id": "supposed-expression",
   "metadata": {},
   "outputs": [],
   "source": [
    "rfc = RandomForestClassifier(\n",
    "    n_estimators=500, n_jobs=10, random_state=seed, class_weight=\"balanced\"\n",
    ")"
   ]
  },
  {
   "cell_type": "code",
   "execution_count": null,
   "id": "piano-cherry",
   "metadata": {},
   "outputs": [],
   "source": [
    "lopo_cancer_cv_conf_mtx_patient = get_cv_conf_mtx(\n",
    "    estimator=rfc,\n",
    "    features=chrometric_data,\n",
    "    labels=cancer_labels,\n",
    "    groups=sample_labels,\n",
    "    scale_features=False,\n",
    "    n_folds=len(set(sample_labels)),\n",
    "    order=cancer_order,\n",
    "    balance_train=True,\n",
    ")\n",
    "normalized_cv_conf_lopo_mtx_patient = lopo_cancer_cv_conf_mtx_patient.divide(\n",
    "    lopo_cancer_cv_conf_mtx_patient.sum(axis=1), axis=0\n",
    ")"
   ]
  },
  {
   "cell_type": "code",
   "execution_count": null,
   "id": "solid-boxing",
   "metadata": {
    "scrolled": false
   },
   "outputs": [],
   "source": [
    "fig, ax = plt.subplots(figsize=[5, 4])\n",
    "ax = sns.heatmap(\n",
    "    normalized_cv_conf_lopo_mtx_patient,\n",
    "    annot=True,\n",
    "    fmt=\".4f\",\n",
    "    cmap=\"viridis\",\n",
    "    vmin=0,\n",
    "    vmax=1,\n",
    "    annot_kws={\"size\": 16, \"weight\": \"bold\"},\n",
    "    # cbar=False,\n",
    ")\n",
    "ax.set_xlabel(\"Predicted cancer type\")\n",
    "ax.set_ylabel(\"True cancer type\")\n",
    "plt.show()"
   ]
  },
  {
   "cell_type": "code",
   "execution_count": null,
   "id": "bronze-familiar",
   "metadata": {},
   "outputs": [],
   "source": [
    "def summarize_group_cv_results_by_fold(\n",
    "    model,\n",
    "    features,\n",
    "    labels,\n",
    "    groups,\n",
    "    n_folds=None,\n",
    "    balance_train=False,\n",
    "    scoring=accuracy_score,\n",
    "    random_state=1234,\n",
    "):\n",
    "    if n_folds is None:\n",
    "        n_folds = len(np.unique(groups))\n",
    "    cv = StratifiedGroupKFold(n_splits=n_folds)\n",
    "    rus = RandomUnderSampler(random_state=random_state)\n",
    "\n",
    "    result = {\n",
    "        \"group\": [],\n",
    "        \"score\": [],\n",
    "        \"avg_max_pred_prob\": [],\n",
    "        \"avg_true_class_pred_prob\": [],\n",
    "        \"majority_class\": [],\n",
    "        \"majority_predicted_class\": [],\n",
    "    }\n",
    "\n",
    "    features = np.array(features)\n",
    "    labels = np.array(labels)\n",
    "    groups = np.array(groups)\n",
    "    for train_idx, test_idx in cv.split(X=features, y=labels, groups=groups):\n",
    "        X_train, X_test = features[train_idx], features[test_idx]\n",
    "        y_train, y_test = labels[train_idx], labels[test_idx]\n",
    "\n",
    "        if balance_train:\n",
    "            X_train, y_train = rus.fit_resample(X_train, y_train)\n",
    "\n",
    "        # print(Counter(y_test))\n",
    "        model.fit(X_train, y_train)\n",
    "        classes = model.classes_\n",
    "        preds = model.predict(X_test)\n",
    "        pred_probs = model.predict_proba(X_test)\n",
    "        test_groups = np.unique(groups[test_idx])\n",
    "        test_group = \"_\".join(sorted(list(test_groups)))\n",
    "        score = scoring(y_test, preds)\n",
    "        for c in classes:\n",
    "            if \"prop_\" + str(c) in result:\n",
    "                result[\"prop_\" + str(c)].append(np.mean(preds == c))\n",
    "            else:\n",
    "                result[\"prop_\" + str(c)] = [np.mean(preds == c)]\n",
    "        avg_max_pred_prob = np.mean(np.max(pred_probs, axis=1))\n",
    "        true_class_pred_probs = []\n",
    "        for i in range(len(y_test)):\n",
    "            true_class_pred_probs.append(pred_probs[i, classes == y_test[i]])\n",
    "        avg_true_class_pred_prob = np.mean(true_class_pred_probs)\n",
    "\n",
    "        result[\"group\"].append(test_group)\n",
    "        result[\"score\"].append(score)\n",
    "        result[\"avg_max_pred_prob\"].append(avg_max_pred_prob)\n",
    "        result[\"avg_true_class_pred_prob\"].append(avg_true_class_pred_prob)\n",
    "        result[\"majority_class\"].append(Counter(y_test).most_common(1)[0][0])\n",
    "        result[\"majority_predicted_class\"].append(Counter(preds).most_common(1)[0][0])\n",
    "\n",
    "    return pd.DataFrame(result, index=list(range(n_folds)))"
   ]
  },
  {
   "cell_type": "code",
   "execution_count": null,
   "id": "anticipated-emerald",
   "metadata": {},
   "outputs": [],
   "source": [
    "lopo_cv_result = summarize_group_cv_results_by_fold(\n",
    "    model=rfc,\n",
    "    features=chrometric_data,\n",
    "    labels=cancer_labels,\n",
    "    groups=sample_labels,\n",
    "    balance_train=True,\n",
    ")"
   ]
  },
  {
   "cell_type": "code",
   "execution_count": null,
   "id": "suited-clause",
   "metadata": {},
   "outputs": [],
   "source": [
    "lopo_cv_result.describe()"
   ]
  },
  {
   "cell_type": "code",
   "execution_count": null,
   "id": "incident-steal",
   "metadata": {},
   "outputs": [],
   "source": [
    "tumor_types = [\"Meningioma\", \"Glioma\", \"Head & Neck\"]\n",
    "lopo_patient_cv_mtx = pd.DataFrame(\n",
    "    np.zeros((3, 3)), index=tumor_types, columns=tumor_types\n",
    ")\n",
    "for c in tumor_types:\n",
    "    for p in tumor_types:\n",
    "        lopo_patient_cv_mtx.loc[c, p] = len(\n",
    "            lopo_cv_result.loc[\n",
    "                (lopo_cv_result.majority_class == c)\n",
    "                & (lopo_cv_result.majority_predicted_class == p)\n",
    "            ]\n",
    "        )\n",
    "normalized_lopo_patient_cv_mtx = lopo_patient_cv_mtx.divide(\n",
    "    lopo_patient_cv_mtx.sum(axis=1), axis=0\n",
    ")"
   ]
  },
  {
   "cell_type": "code",
   "execution_count": null,
   "id": "abandoned-limit",
   "metadata": {},
   "outputs": [],
   "source": [
    "fig, ax = plt.subplots(figsize=[5, 4])\n",
    "ax = sns.heatmap(\n",
    "    normalized_lopo_patient_cv_mtx,\n",
    "    annot=True,\n",
    "    fmt=\".2f\",\n",
    "    cmap=\"viridis\",\n",
    "    vmin=0,\n",
    "    vmax=1,\n",
    "    annot_kws={\"size\": 16, \"weight\": \"bold\"},\n",
    "    # cbar=False,\n",
    ")\n",
    "ax.set_xlabel(\"Predicted cancer type\")\n",
    "ax.set_ylabel(\"True cancer type\")\n",
    "plt.show()"
   ]
  },
  {
   "cell_type": "code",
   "execution_count": null,
   "id": "after-japan",
   "metadata": {},
   "outputs": [],
   "source": [
    "lopo_cv_result_lda = summarize_group_cv_results_by_fold(\n",
    "    model=lda,\n",
    "    features=chrometric_data,\n",
    "    labels=cancer_labels,\n",
    "    groups=sample_labels,\n",
    "    balance_train=True,\n",
    ")\n",
    "lopo_cv_result_lda.describe()"
   ]
  },
  {
   "cell_type": "markdown",
   "id": "dynamic-cleaners",
   "metadata": {},
   "source": [
    "To compare the performance to a random baseline and thus be able to assess if the classification performance is significantly better than random chance. We repeat that procedure 10 times when we randomly permute the cancer types of the individual patients before hand."
   ]
  },
  {
   "cell_type": "code",
   "execution_count": null,
   "id": "about-gamma",
   "metadata": {
    "scrolled": true
   },
   "outputs": [],
   "source": [
    "np.random.seed(seed + 1111)\n",
    "bs = range(10)\n",
    "\n",
    "lopo_perm_cv_results = []\n",
    "\n",
    "for b in tqdm(bs):\n",
    "    perm_cancer_labels = get_permute_group_labels(cancer_labels, sample_labels)[0]\n",
    "    lopo_perm_cv_result = summarize_group_cv_results_by_fold(\n",
    "        model=rfc,\n",
    "        features=chrometric_data,\n",
    "        labels=perm_cancer_labels,\n",
    "        groups=sample_labels,\n",
    "        balance_train=True,\n",
    "    )\n",
    "    lopo_perm_cv_result[\"permutation\"] = b\n",
    "    lopo_perm_cv_results.append(lopo_perm_cv_result)\n",
    "lopo_perm_cv_results = pd.concat(lopo_perm_cv_results)"
   ]
  },
  {
   "cell_type": "code",
   "execution_count": null,
   "id": "frozen-magazine",
   "metadata": {},
   "outputs": [],
   "source": [
    "lopo_perm_cv_results[\"condition\"] = \"Permuted\"\n",
    "lopo_cv_result[\"condition\"] = \"Observed\"\n",
    "all_lopo_results = lopo_cv_result.append(lopo_perm_cv_results)"
   ]
  },
  {
   "cell_type": "markdown",
   "id": "distributed-penalty",
   "metadata": {},
   "source": [
    "We will now jointly plot the performance measured by the (balanced) accuracy score for each sample and thereby distinguish between the scores obtained with and without permuting the cancer labeles."
   ]
  },
  {
   "cell_type": "code",
   "execution_count": null,
   "id": "interested-gather",
   "metadata": {},
   "outputs": [],
   "source": [
    "fig, ax = plot_lopo_cv_results_by_class(\n",
    "    all_lopo_results,\n",
    "    cancer_order,\n",
    "    x=\"majority_class\",\n",
    "    y=\"score\",\n",
    "    hue=\"condition\",\n",
    "    figsize=[6, 4],\n",
    "    test=\"Mann-Whitney\",\n",
    "    pval_text_format=\"star\",\n",
    "    alpha=0.5,\n",
    ")\n",
    "ax.set_xlabel(\"Cancer types\")\n",
    "ax.set_ylabel(\"Classification accuracy by patient\")\n",
    "plt.show()"
   ]
  },
  {
   "cell_type": "markdown",
   "id": "needed-advance",
   "metadata": {},
   "source": [
    "The above plot validates that the performance in each cancer type is significantly higher than what we expect by random chance. However, we also notice that for two Glioma patients almost none the members of the respective PBMC population are correctly classified. The plot below visualizes this by showing the accuracy scores for each patient."
   ]
  },
  {
   "cell_type": "code",
   "execution_count": null,
   "id": "hollow-given",
   "metadata": {},
   "outputs": [],
   "source": [
    "fig, ax = plt.subplots(figsize=[6, 4])\n",
    "sample_colors = [\n",
    "    color_palette[k] for k in list(lopo_cv_result.loc[:, \"majority_class\"])\n",
    "]\n",
    "sample_palette = dict(zip(list(lopo_cv_result.loc[:, \"group\"]), sample_colors))\n",
    "ax = sns.barplot(\n",
    "    data=lopo_cv_result,\n",
    "    x=\"group\",\n",
    "    y=\"score\",\n",
    "    palette=sample_palette,\n",
    "    order=list(lopo_cv_result.sort_values(\"score\").loc[:, \"group\"]),\n",
    ")\n",
    "plt.xticks(rotation=90)\n",
    "ax.set_xlabel(\"Patient sample\")\n",
    "ax.set_ylabel(\"Classification accuracy\")\n",
    "plt.show()"
   ]
  },
  {
   "cell_type": "markdown",
   "id": "compact-pepper",
   "metadata": {},
   "source": [
    "The two samples that the classifier performs worst on are patient 22 and patient 29, both of which are Astrocytoma patients. While P47 and P57 also are classified as Astrocytoma patients, the tumor size of those former two and the later two is vastly different: 1.8/3.7ccm vs. 94.6/85.7ccm respectively. Importantly, P22 as well as P57 have undergone chemotherapy before the blood drawing. The plot below shows the variable missclassification of P22,P29."
   ]
  },
  {
   "cell_type": "code",
   "execution_count": null,
   "id": "neither-passport",
   "metadata": {},
   "outputs": [],
   "source": [
    "lopo_cv_result.sort_values(\"score\").head(2)"
   ]
  },
  {
   "cell_type": "markdown",
   "id": "caroline-boost",
   "metadata": {},
   "source": [
    "Finally, we will plot the overall performance of the leave one out cross-validation approach against the random background which we obtained by permuting the cancer type labels. Note that we color individual points corresponding to individual samples based on the average prediction performance of the actual cancer type."
   ]
  },
  {
   "cell_type": "code",
   "execution_count": null,
   "id": "declared-venture",
   "metadata": {
    "scrolled": false
   },
   "outputs": [],
   "source": [
    "fig, ax = plot_lopo_cv_results(\n",
    "    data=all_lopo_results,\n",
    "    alpha=0.7,\n",
    "    cbar_label=\"Prediction probability \\n of the true cancer type\",\n",
    ")\n",
    "ax.set_xlabel(\"\")\n",
    "ax.set_ylabel(\"Accuracy by LoPo CV fold\")\n",
    "plt.show()"
   ]
  },
  {
   "cell_type": "markdown",
   "id": "amino-theory",
   "metadata": {},
   "source": [
    "---\n",
    "\n",
    "#### Ablation study"
   ]
  },
  {
   "cell_type": "code",
   "execution_count": null,
   "id": "organic-viewer",
   "metadata": {
    "scrolled": true
   },
   "outputs": [],
   "source": [
    "nc_abl_results = run_nuclei_ablation_study_cv(\n",
    "    estimator=rfc,\n",
    "    features=chrometric_data,\n",
    "    labels=cancer_labels,\n",
    "    groups=sample_labels,\n",
    "    n_repeats=10,\n",
    "    balance_train=True,\n",
    "    scale_features=True,\n",
    "    n_folds=len(set(sample_labels)),\n",
    "    random_state=1234,\n",
    ")"
   ]
  },
  {
   "cell_type": "code",
   "execution_count": null,
   "id": "egyptian-appearance",
   "metadata": {},
   "outputs": [],
   "source": [
    "nc_abl_results.frac_nuclei = np.round(nc_abl_results.frac_nuclei, 2)\n",
    "g = sns.catplot(\n",
    "    data=nc_abl_results,\n",
    "    x=\"frac_nuclei\",\n",
    "    y=\"lopo_accuracy\",\n",
    "    kind=\"point\",\n",
    "    errorbar=\"se\",\n",
    "    capsize=0.2,\n",
    "    height=4,\n",
    "    aspect=1.5,\n",
    ")\n",
    "g.set_xlabels(\"\")\n",
    "g.set_ylabels(\"\")\n",
    "g.set(ylim=(0.60, 0.75))\n",
    "# g.set_xlabels(\"Fraction of nuclei\\n(training set)\")\n",
    "# g.set_ylabels(\"Average accuracy\\n(leave one patient out)\")\n",
    "# g.set_titles(\"Distinction between tumor types\")"
   ]
  },
  {
   "cell_type": "code",
   "execution_count": null,
   "id": "turned-recipe",
   "metadata": {},
   "outputs": [],
   "source": [
    "def run_patient_ablation_study_cv(estimator, features, labels, groups, n_repeats=5, balance_train=True,\n",
    "                                  scale_features=True, n_folds=10, random_state=1234):\n",
    "    np.random.seed(random_state)\n",
    "    classes = np.unique(labels)\n",
    "\n",
    "    rus = RandomUnderSampler(random_state=random_state)\n",
    "\n",
    "    if scale_features:\n",
    "        sc = StandardScaler()\n",
    "        features = pd.DataFrame(\n",
    "            sc.fit_transform(features), index=features.index, columns=features.columns\n",
    "        )\n",
    "\n",
    "    features = np.array(features)\n",
    "    labels = np.array(labels)\n",
    "    groups = np.array(groups)\n",
    "\n",
    "    patient_label_dict = {}\n",
    "    min_n_patients = np.infty\n",
    "    for c in classes:\n",
    "        patient_label_dict[c] = np.unique(groups[labels == c])\n",
    "        min_n_patients = min(min_n_patients, len(patient_label_dict[c]))\n",
    "    print(patient_label_dict)\n",
    "\n",
    "    results = {\"n_train_patients\": [], \"sample\": [], \"lopo_accuracy\": []}\n",
    "    for i in tqdm(range(1, min_n_patients), position=0):\n",
    "        for j in tqdm(range(n_repeats), position=1):\n",
    "            skf = StratifiedGroupKFold(n_splits=n_folds)\n",
    "            accs = []\n",
    "            for train_index, test_index in skf.split(features, labels, groups):\n",
    "                X_train, X_test = features[train_index], features[test_index]\n",
    "                y_train, y_test = labels[train_index], labels[test_index]\n",
    "\n",
    "\n",
    "                train_groups = groups[train_index]\n",
    "                selected_train_patients = []\n",
    "                for c in classes:\n",
    "                    class_train_patients = np.unique(train_groups[y_train == c])\n",
    "                    selected_train_patients.extend(\n",
    "                            list(np.random.choice(class_train_patients, size=i, replace=False)))\n",
    "\n",
    "                train_mask = []\n",
    "                for train_group in train_groups:\n",
    "                    train_mask.append(train_group in selected_train_patients)\n",
    "                X_train = X_train[train_mask]\n",
    "                y_train = y_train[train_mask]\n",
    "\n",
    "                if balance_train:\n",
    "                    X_train, y_train = rus.fit_resample(X_train, y_train)\n",
    "\n",
    "                estimator.fit(X_train, y_train)\n",
    "                acc = accuracy_score(y_test, estimator.predict(X_test))\n",
    "                accs.append(acc)\n",
    "\n",
    "            results[\"n_train_patients\"].append(i)\n",
    "            results[\"sample\"].append(j)\n",
    "            results[\"lopo_accuracy\"].append(np.mean(accs))\n",
    "\n",
    "    results = pd.DataFrame(results)\n",
    "    return results\n"
   ]
  },
  {
   "cell_type": "code",
   "execution_count": null,
   "id": "biological-midwest",
   "metadata": {},
   "outputs": [],
   "source": [
    "pt_abl_results = run_patient_ablation_study_cv(\n",
    "    estimator=rfc,\n",
    "    features=chrometric_data,\n",
    "    labels=cancer_labels,\n",
    "    groups=sample_labels,\n",
    "    n_repeats=10,\n",
    "    balance_train=True,\n",
    "    scale_features=True,\n",
    "    n_folds=len(set(sample_labels)),\n",
    "    random_state=1234,\n",
    ")"
   ]
  },
  {
   "cell_type": "code",
   "execution_count": null,
   "id": "boring-johnson",
   "metadata": {},
   "outputs": [],
   "source": [
    "pt_abl_results.groupby(\"n_train_patients\").describe()"
   ]
  },
  {
   "cell_type": "code",
   "execution_count": null,
   "id": "continent-syndrome",
   "metadata": {},
   "outputs": [],
   "source": [
    "g = sns.catplot(\n",
    "    data=pt_abl_results,\n",
    "    x=\"n_train_patients\",\n",
    "    y=\"lopo_accuracy\",\n",
    "    kind=\"point\",\n",
    "    errorbar=\"se\",\n",
    "    capsize=0.2,\n",
    "    height=4,\n",
    "    aspect=1.5,\n",
    ")\n",
    "g.set_xlabels(\"\")\n",
    "g.set_ylabels(\"\")\n",
    "g.set(ylim=(0.50, 0.80))\n",
    "# g.set_xlabels(\"Number of patients\\n(training set)\")\n",
    "# g.set_ylabels(\"Average accuracy\\n(leave one patient out)\")\n",
    "# g.set_titles(\"Control vs. Cancer\")"
   ]
  },
  {
   "cell_type": "markdown",
   "id": "generic-surname",
   "metadata": {},
   "source": [
    "---\n",
    "\n",
    "### 3c. Nuclear chromatin biomarkers identifying cancer populations"
   ]
  },
  {
   "cell_type": "markdown",
   "id": "suffering-title",
   "metadata": {},
   "source": [
    "#### Feature importance\n",
    "\n",
    "After having validated that there are significant differences between the individual cancer types in particular when comparing PBMCs of Head & Neck cancer patient with those of Glioma and Meningioma patients, we next assess the implicit feature importance of a RandomForest classifier trained on the task to distinguish between the cancer types in order to get an idea of the features which are most indicative of the different cancer types."
   ]
  },
  {
   "cell_type": "code",
   "execution_count": null,
   "id": "informative-opera",
   "metadata": {},
   "outputs": [],
   "source": [
    "fig, ax = plot_feature_importance_for_estimator(\n",
    "    rfc,\n",
    "    chrometric_data,\n",
    "    cancer_labels,\n",
    "    scale_features=False,\n",
    "    cmap=[\"gray\"],\n",
    "    figsize=[2, 1],\n",
    "    feature_color_dict=feature_color_dict,\n",
    "    n_features=15,\n",
    ")"
   ]
  },
  {
   "cell_type": "markdown",
   "id": "intensive-expert",
   "metadata": {},
   "source": [
    "The analysis suggests that the heterochromatin content as well as the size of the nucleus are most discriminative between the different cancer populations in addition to a number of features characterizing the shape of the intensity distribution of the DNA inside the nucleus in 2D."
   ]
  },
  {
   "cell_type": "markdown",
   "id": "boxed-secretariat",
   "metadata": {},
   "source": [
    "While the previously shown feature importance plots already suggest a number of candidate chrometric biomarkers that capture the differences of the nuclear phenotypes of the PBMCs in the different cancer types, we run marker screen by testing for differential distributions of the individual chrometric features between the different cancer type populations. To this end, we apply a t-test to test for difference in the means and adjust for multiple testing using the Benjamini-Hochberg procedure."
   ]
  },
  {
   "cell_type": "code",
   "execution_count": null,
   "id": "fitting-three",
   "metadata": {},
   "outputs": [],
   "source": [
    "marker_screen_results = find_markers(chrometric_data, cancer_labels)"
   ]
  },
  {
   "cell_type": "markdown",
   "id": "involved-literacy",
   "metadata": {},
   "source": [
    "#### Meningioma"
   ]
  },
  {
   "cell_type": "markdown",
   "id": "hazardous-belarus",
   "metadata": {},
   "source": [
    "At first we look at the features whose mean is significantly different in Meningioma patients compared to patients of the other two cancer types."
   ]
  },
  {
   "cell_type": "code",
   "execution_count": null,
   "id": "documented-waste",
   "metadata": {},
   "outputs": [],
   "source": [
    "marker_screen_results.loc[marker_screen_results.label == \"Meningioma\"].head(10)"
   ]
  },
  {
   "cell_type": "markdown",
   "id": "blessed-potential",
   "metadata": {},
   "source": [
    "We find that the PBMCs of Meningioma patients are on average slighlty smaller compared to the other two cancer types and show a slightly higher curvature of the nuclear boundaries."
   ]
  },
  {
   "cell_type": "markdown",
   "id": "injured-graham",
   "metadata": {},
   "source": [
    "---"
   ]
  },
  {
   "cell_type": "markdown",
   "id": "reasonable-stuart",
   "metadata": {},
   "source": [
    "#### Glioma"
   ]
  },
  {
   "cell_type": "markdown",
   "id": "prescription-royal",
   "metadata": {},
   "source": [
    "Next we look at the features whose mean is significantly different in Glioma patients compared to patients of the other two cancer types."
   ]
  },
  {
   "cell_type": "code",
   "execution_count": null,
   "id": "progressive-england",
   "metadata": {},
   "outputs": [],
   "source": [
    "marker_screen_results.loc[marker_screen_results.label == \"Glioma\"].head(10)"
   ]
  },
  {
   "cell_type": "markdown",
   "id": "integral-noise",
   "metadata": {},
   "source": [
    "Not surprisingly we find that the most indicative features are the similar ones as suggested by the feature importance plot. We find that the PBMCs of Glioma patients have a significantly reduced HC/EC content compared to the other cancer types and also are on average smaller, where as their nuclear boundaries show smoother curvature changes and the intensity distribution of the DNA inside the nucleus is more skewed and features shorter tails on average. Additionally the projected nuclear shapes are on average more convex compared to the other two cancer types."
   ]
  },
  {
   "cell_type": "markdown",
   "id": "legal-division",
   "metadata": {},
   "source": [
    "---\n",
    "\n",
    "#### Head & Neck cancers\n",
    "\n",
    "Finally, we also evaluate the chrometric phenotype of PBMCs of the Head & Neck cancer patients."
   ]
  },
  {
   "cell_type": "code",
   "execution_count": null,
   "id": "electronic-variation",
   "metadata": {},
   "outputs": [],
   "source": [
    "marker_screen_results.loc[marker_screen_results.label == \"Head & Neck\"].head(10)"
   ]
  },
  {
   "cell_type": "markdown",
   "id": "round-weapon",
   "metadata": {},
   "source": [
    "The PBMCs of the Head & Neck cancer patients feature have on average an increase heterochromatin content, are enlarged and show larger changes of the curvature of the nuclear boundaries, while the kurtosis and the skewness of the DNA intensity distribution is significantly reduced in both cases."
   ]
  },
  {
   "cell_type": "markdown",
   "id": "yellow-interaction",
   "metadata": {},
   "source": [
    "---"
   ]
  },
  {
   "cell_type": "markdown",
   "id": "alien-mineral",
   "metadata": {},
   "source": [
    "As a joint proxy to study the alterations in size, we focus at the nuclear volume, the variation in the shape by the concavity of the nucleus and the change in chromatin compaction by the relative heterochromatin to euchromatin ratio, additionally we observe differences in the curvature. Finally, the shape of the DNA intensity distributions of the z-projected nucleus are significantly different. To visualize those differences, we look at the distributions of those markers in the different cancer types."
   ]
  },
  {
   "cell_type": "code",
   "execution_count": null,
   "id": "differential-satisfaction",
   "metadata": {},
   "outputs": [],
   "source": [
    "markers = [\n",
    "    \"volume\",\n",
    "    \"hetero_to_euchromatin_volume_ratio\",\n",
    "    \"std_curvature\",\n",
    "]\n",
    "\n",
    "marker_labels = [\n",
    "    r\"Nuclear volume in px$^3$\",\n",
    "    \"relative HC/EC ratio\",\n",
    "    \"Standard deviation of the curvature\",\n",
    "]\n",
    "plot_cancer_type_markers_dist(\n",
    "    data, markers, marker_labels, cut=0, palette=color_palette, figsize=[4, 4]\n",
    ")"
   ]
  },
  {
   "cell_type": "code",
   "execution_count": null,
   "id": "brave-happening",
   "metadata": {},
   "outputs": [],
   "source": [
    "marker_labels = [\n",
    "    \"Nuclear volume \\n\" + r\"(in px$^3)$\",\n",
    "    \"HC/EC ratio\",\n",
    "    \"Standard deviation \\n of the curvature\",\n",
    "]\n",
    "fig, ax = plot_joint_markers_cancer_types(\n",
    "    data, markers, marker_labels, label_col=\"cancer\", palette=color_palette\n",
    ")\n",
    "ax.set_ylabel(\"Normalized marker value\")\n",
    "ax.set_xlabel(\"Chrometric Marker\")\n",
    "sns.move_legend(\n",
    "    ax,\n",
    "    \"lower center\",\n",
    "    bbox_to_anchor=(0.5, 1),\n",
    "    ncol=3,\n",
    "    title=None,\n",
    "    frameon=False,\n",
    ")\n",
    "plt.show()"
   ]
  },
  {
   "cell_type": "markdown",
   "id": "innocent-scratch",
   "metadata": {},
   "source": [
    "---\n",
    "\n",
    "### 3d. Proteomic differences of PBMCs in cancer"
   ]
  },
  {
   "cell_type": "markdown",
   "id": "chinese-family",
   "metadata": {},
   "source": [
    "Finally, we also assess the proteomic differences between the different cancer populations. To this end, we plot the relative Lamin and gH2AX expression measured by the sum of the intensities of the corresponding imaging channels normalized by the nuclear volume. Additionally, we plot the number of identified gH2AX foci which are computed as the local maxima peaks found in the corresponding channel images."
   ]
  },
  {
   "cell_type": "markdown",
   "id": "reported-upgrade",
   "metadata": {},
   "source": [
    "Note that those features are only available for the first data set that was stained for those proteins."
   ]
  },
  {
   "cell_type": "code",
   "execution_count": null,
   "id": "closed-isaac",
   "metadata": {
    "scrolled": false
   },
   "outputs": [],
   "source": [
    "markers = [\n",
    "    \"rel_lamin_3d_int\",\n",
    "    \"rel_gh2ax_3d_int\",\n",
    "    \"gh2ax_foci_count\",\n",
    "    \"gh2ax_sum_foci_area\",\n",
    "    \"gh2ax_avg_foci_area\",\n",
    "]\n",
    "marker_labels = [\n",
    "    \"Volume-normalized nuclear\\nLamin A/C intensity\",\n",
    "    \"Normalized nuclear\\n\" r\"$\\gamma$H2AX intensity\",\n",
    "    r\"Number of $\\gamma$H2AX foci\",\n",
    "    r\"Sum of the $\\gamma$H2AX foci area\",\n",
    "    r\"Average size of the $\\gamma$H2AX foci\",\n",
    "]\n",
    "plot_cancer_type_markers_dist(\n",
    "    data,\n",
    "    markers,\n",
    "    marker_labels,\n",
    "    quantiles=None,\n",
    "    cut=0,\n",
    "    plot_type=\"bar\",\n",
    "    palette=color_palette,\n",
    "    figsize=[3, 4],\n",
    ")"
   ]
  },
  {
   "cell_type": "markdown",
   "id": "anonymous-state",
   "metadata": {},
   "source": [
    "---\n",
    "\n",
    "## 4. Supplemental"
   ]
  },
  {
   "cell_type": "code",
   "execution_count": null,
   "id": "premium-outdoors",
   "metadata": {},
   "outputs": [],
   "source": [
    "markers = [\n",
    "    \"volume\",\n",
    "    \"hetero_to_euchromatin_volume_ratio\",\n",
    "    \"std_curvature\",\n",
    "]\n",
    "\n",
    "marker_labels = [\n",
    "    \"Nuclear volume \\n\" + r\"(in px$^3)$\",\n",
    "    \"HC/EC ratio\",\n",
    "    \"Standard deviation \\n of the curvature\",\n",
    "]\n",
    "fig, ax = plot_joint_markers_cancer_types(\n",
    "    all_data, markers, marker_labels, label_col=\"cancer\", palette=color_palette\n",
    ")\n",
    "ax.set_ylabel(\"Normalized marker value\")\n",
    "ax.set_xlabel(\"Chrometric Marker\")\n",
    "sns.move_legend(\n",
    "    ax,\n",
    "    \"lower center\",\n",
    "    bbox_to_anchor=(0.5, 1),\n",
    "    ncol=3,\n",
    "    title=None,\n",
    "    frameon=False,\n",
    ")\n",
    "plt.show()"
   ]
  },
  {
   "cell_type": "code",
   "execution_count": null,
   "id": "appointed-straight",
   "metadata": {
    "scrolled": false
   },
   "outputs": [],
   "source": [
    "markers = [\n",
    "    \"rel_lamin_3d_int\",\n",
    "    \"rel_gh2ax_3d_int\",\n",
    "    \"gh2ax_foci_count\",\n",
    "    \"gh2ax_sum_foci_area\",\n",
    "    \"gh2ax_avg_foci_area\",\n",
    "]\n",
    "marker_labels = [\n",
    "    \"Volume-normalized nuclear\\nLamin A/C intensity\",\n",
    "    \"Normalized nuclear\\n\" r\"$\\gamma$H2AX intensity\",\n",
    "    r\"Number of $\\gamma$H2AX foci\",\n",
    "    r\"Sum of the $\\gamma$H2AX foci area\",\n",
    "    r\"Average size of the $\\gamma$H2AX foci\",\n",
    "]\n",
    "plot_cancer_type_markers_dist(\n",
    "    all_data,\n",
    "    markers,\n",
    "    marker_labels,\n",
    "    quantiles=None,\n",
    "    cut=0,\n",
    "    plot_type=\"bar\",\n",
    "    palette=color_palette,\n",
    "    figsize=[3, 4],\n",
    ")"
   ]
  },
  {
   "cell_type": "code",
   "execution_count": null,
   "id": "effective-scheme",
   "metadata": {},
   "outputs": [],
   "source": []
  },
  {
   "cell_type": "code",
   "execution_count": null,
   "id": "planned-papua",
   "metadata": {},
   "outputs": [],
   "source": []
  },
  {
   "cell_type": "code",
   "execution_count": null,
   "id": "cordless-verse",
   "metadata": {},
   "outputs": [],
   "source": []
  }
 ],
 "metadata": {
  "kernelspec": {
   "display_name": "Python 3",
   "language": "python",
   "name": "python3"
  },
  "language_info": {
   "codemirror_mode": {
    "name": "ipython",
    "version": 3
   },
   "file_extension": ".py",
   "mimetype": "text/x-python",
   "name": "python",
   "nbconvert_exporter": "python",
   "pygments_lexer": "ipython3",
   "version": "3.8.0"
  },
  "toc": {
   "base_numbering": 1,
   "nav_menu": {},
   "number_sections": true,
   "sideBar": true,
   "skip_h1_title": false,
   "title_cell": "Table of Contents",
   "title_sidebar": "Contents",
   "toc_cell": false,
   "toc_position": {},
   "toc_section_display": true,
   "toc_window_display": false
  }
 },
 "nbformat": 4,
 "nbformat_minor": 5
}
