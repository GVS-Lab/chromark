{
 "cells": [
  {
   "cell_type": "markdown",
   "id": "indian-simon",
   "metadata": {},
   "source": [
    "# Nuclear chromatin phenotypes of PBMCs distinguish control and cancer populations\n",
    "\n",
    "---\n",
    "This notebook summarizes the analysis corresponding to the results presented in figure 2 of the paper. It can be used to rerun the analysis and regenerate the corresponding panels.\n",
    "\n",
    "---"
   ]
  },
  {
   "cell_type": "markdown",
   "id": "metric-fusion",
   "metadata": {},
   "source": [
    "## 0. Environmental setup"
   ]
  },
  {
   "cell_type": "code",
   "execution_count": null,
   "id": "renewable-magic",
   "metadata": {},
   "outputs": [],
   "source": [
    "import pandas as pd\n",
    "import numpy as np\n",
    "import seaborn as sns\n",
    "import random\n",
    "import os\n",
    "import matplotlib.pyplot as plt\n",
    "from sklearn.ensemble import RandomForestClassifier\n",
    "import matplotlib as mpl\n",
    "\n",
    "mpl.rcParams[\"figure.dpi\"] = 1200\n",
    "\n",
    "import sys\n",
    "\n",
    "sys.path.append(\"../..\")\n",
    "from src.utils.notebooks.eda import *\n",
    "from src.utils.notebooks.figure3 import *\n",
    "from src.utils.notebooks.figure2 import *\n",
    "from sklearn.discriminant_analysis import LinearDiscriminantAnalysis\n",
    "from sklearn.model_selection import cross_val_score, StratifiedGroupKFold\n",
    "\n",
    "\n",
    "# SMALL_SIZE = 16\n",
    "# MEDIUM_SIZE = 18\n",
    "# BIGGER_SIZE = 20\n",
    "\n",
    "# mpl.rc(\"font\", size=SMALL_SIZE, weight=\"bold\")  # controls default text sizes\n",
    "# mpl.rc(\"axes\", titlesize=SMALL_SIZE)  # fontsize of the axes title\n",
    "# mpl.rc(\"axes\", labelsize=MEDIUM_SIZE)  # fontsize of the x and y labels\n",
    "# mpl.rc(\"xtick\", labelsize=SMALL_SIZE)  # fontsize of the tick labels\n",
    "# mpl.rc(\"ytick\", labelsize=SMALL_SIZE)  # fontsize of the tick labels\n",
    "# mpl.rc(\"legend\", fontsize=SMALL_SIZE)  # legend fontsize\n",
    "# mpl.rc(\"figure\", titlesize=BIGGER_SIZE)  # fontsize of the figure title\n",
    "\n",
    "seed = 1234\n",
    "random.seed(1234)\n",
    "np.random.seed(1234)\n",
    "\n",
    "%reload_ext nb_black"
   ]
  },
  {
   "cell_type": "code",
   "execution_count": null,
   "id": "advisory-geography",
   "metadata": {},
   "outputs": [],
   "source": [
    "# def plot_feature_importance(\n",
    "#     importance,\n",
    "#     names,\n",
    "#     model_type,\n",
    "#     figsize=[6, 4],\n",
    "#     cmap=[\"gray\"],\n",
    "#     n_features=10,\n",
    "#     feature_color_dict=None,\n",
    "#     labelsize=6,\n",
    "# ):\n",
    "#     # Create arrays from feature importance and feature names\n",
    "#     feature_importance = np.array(importance)\n",
    "#     feature_names = np.array(names)\n",
    "\n",
    "#     # Create a DataFrame using a Dictionary\n",
    "#     data = {\"feature_names\": feature_names, \"feature_importance\": feature_importance}\n",
    "#     fi_df = pd.DataFrame(data)\n",
    "\n",
    "#     # Sort the DataFrame in order decreasing feature importance\n",
    "#     fi_df.sort_values(by=[\"feature_importance\"], ascending=False, inplace=True)\n",
    "#     fi_df = fi_df.head(n_features)\n",
    "#     # Define size of bar plot\n",
    "#     fig, ax = plt.subplots(figsize=figsize)\n",
    "#     # Plot Searborn bar chart\n",
    "#     ax = sns.barplot(\n",
    "#         y=fi_df[\"feature_importance\"], x=fi_df[\"feature_names\"], palette=cmap, ax=ax\n",
    "#     )\n",
    "#     if feature_color_dict is not None:\n",
    "#         for xticklabel in ax.get_xticklabels():\n",
    "#             xticklabel.set_color(feature_color_dict[xticklabel.get_text()])\n",
    "#             xticklabel.set_rotation(90)\n",
    "#     ax.tick_params(axis=\"x\", labelsize=labelsize)\n",
    "#     ax.tick_params(axis=\"y\", labelsize=labelsize)\n",
    "\n",
    "#     # xticklabel.set_ha(\"right\")\n",
    "#     # Add chart labels\n",
    "#     ax.set_title(model_type + \"FEATURE IMPORTANCE\")\n",
    "#     ax.set_xlabel(\"\")\n",
    "#     ax.set_ylabel(\"\")\n",
    "#     return fig, ax"
   ]
  },
  {
   "cell_type": "code",
   "execution_count": null,
   "id": "direct-square",
   "metadata": {},
   "outputs": [],
   "source": [
    "def save_plotted_figure(\n",
    "    output_dir=\"/home/paysan_d/Desktop/figures_chromark/fig1/\",\n",
    "    dpi=1200,\n",
    "    transparent=True,\n",
    "):\n",
    "    global fig_count\n",
    "    global fig\n",
    "\n",
    "    os.makedirs(output_dir, exist_ok=True)\n",
    "    fig.savefig(\n",
    "        os.path.join(output_dir, \"{}.png\".format(fig_count)),\n",
    "        dpi=dpi,\n",
    "        transparent=transparent,\n",
    "    )\n",
    "    fig_count += 1"
   ]
  },
  {
   "cell_type": "code",
   "execution_count": null,
   "id": "fatal-africa",
   "metadata": {},
   "outputs": [],
   "source": [
    "import re\n",
    "\n",
    "\n",
    "def sorted_nicely(l):\n",
    "    \"\"\" Sort the given iterable in the way that humans expect.\"\"\"\n",
    "    convert = lambda text: int(text) if text.isdigit() else text\n",
    "    alphanum_key = lambda key: [convert(c) for c in re.split(\"([0-9]+)\", key)]\n",
    "    return sorted(l, key=alphanum_key)"
   ]
  },
  {
   "cell_type": "code",
   "execution_count": null,
   "id": "exterior-sampling",
   "metadata": {},
   "outputs": [],
   "source": [
    "nuc_feature_desc = pd.read_csv(\n",
    "    \"../../data/chrometric_feature_description.csv\", index_col=0\n",
    ")\n",
    "feature_name_dict = dict(\n",
    "    zip(\n",
    "        list(nuc_feature_desc.loc[:, \"feature\"]),\n",
    "        list(nuc_feature_desc.loc[:, \"long_name\"]),\n",
    "    )\n",
    ")\n",
    "feature_color_dict = {\n",
    "    \"morphology\": \"b\",\n",
    "    \"intensity\": \"g\",\n",
    "    \"boundary\": \"r\",\n",
    "    \"texture\": \"c\",\n",
    "    \"chromatin condensation\": \"m\",\n",
    "    \"moments\": \"y\",\n",
    "    np.nan: \"k\",\n",
    "}\n",
    "feature_color_dict = {\n",
    "    feature: feature_color_dict[category]\n",
    "    for (feature, category) in zip(\n",
    "        list(nuc_feature_desc.loc[:, \"long_name\"]),\n",
    "        list(nuc_feature_desc.loc[:, \"category\"]),\n",
    "    )\n",
    "}"
   ]
  },
  {
   "cell_type": "code",
   "execution_count": null,
   "id": "welcome-rover",
   "metadata": {},
   "outputs": [],
   "source": [
    "color_palette = {\"Control\": \"mediumseagreen\", \"Cancer\": \"tomato\"}"
   ]
  },
  {
   "cell_type": "markdown",
   "id": "twenty-hebrew",
   "metadata": {},
   "source": [
    "---\n",
    "\n",
    "## 1. Read in data"
   ]
  },
  {
   "cell_type": "markdown",
   "id": "rocky-equivalent",
   "metadata": {},
   "source": [
    "To assess the differences in the cancer populations compared to the control population, we obtained PBMCs of 10 healthy control samples and 10 cancer patients of various cancer types. For each patient we obtained a number of images of the PBMCs showing their DNA, gH2AX and Lamin A/C content using corresponding fluorescent stains."
   ]
  },
  {
   "cell_type": "markdown",
   "id": "front-software",
   "metadata": {},
   "source": [
    "First, we read in the required data set that describe each PBMCs by a number of hand-crafted features extracted from the fluorescent images of the cells."
   ]
  },
  {
   "cell_type": "code",
   "execution_count": null,
   "id": "honest-banana",
   "metadata": {},
   "outputs": [],
   "source": [
    "all_data = pd.read_csv(\"../../data/control_pancancer_population_data.csv\", index_col=0)"
   ]
  },
  {
   "cell_type": "code",
   "execution_count": null,
   "id": "individual-dragon",
   "metadata": {},
   "outputs": [],
   "source": [
    "all_data = preprocess_data(all_data, remove_constant_features=False)"
   ]
  },
  {
   "cell_type": "code",
   "execution_count": null,
   "id": "honey-nicholas",
   "metadata": {},
   "outputs": [],
   "source": [
    "all_data = all_data.rename(columns=feature_name_dict)\n",
    "\n",
    "hv_data = all_data.loc[all_data.condition == \"Control\"].copy()\n",
    "pancancer_data = all_data.loc[all_data.condition == \"Cancer\"].copy()"
   ]
  },
  {
   "cell_type": "code",
   "execution_count": null,
   "id": "individual-evolution",
   "metadata": {},
   "outputs": [],
   "source": [
    "len(all_data)"
   ]
  },
  {
   "cell_type": "code",
   "execution_count": null,
   "id": "medium-eight",
   "metadata": {},
   "outputs": [],
   "source": [
    "fig, ax = plt.subplots(figsize=[12, 4], ncols=2)\n",
    "cond_order = [\"Control\", \"Cancer\"]\n",
    "sample_order = sorted_nicely(np.unique(all_data.loc[:, \"sample\"]))\n",
    "ax = ax.flatten()\n",
    "ax[0] = sns.countplot(\n",
    "    x=\"sample\",\n",
    "    data=all_data,\n",
    "    ax=ax[0],\n",
    "    order=sample_order,\n",
    "    hue_order=cond_order,\n",
    "    hue=\"condition\",\n",
    "    dodge=False,\n",
    "    palette=color_palette,\n",
    ")\n",
    "ax[0].legend([], [], frameon=False)\n",
    "ax[0].set_xlabel(\"ID of the biological sample\")\n",
    "ax[0].set_title(\"Distribution of biological samples\")\n",
    "for tick in ax[0].get_xticklabels():\n",
    "    tick.set_rotation(45)\n",
    "\n",
    "ax[1] = sns.countplot(\n",
    "    x=\"condition\",\n",
    "    hue=\"condition\",\n",
    "    data=all_data,\n",
    "    ax=ax[1],\n",
    "    order=cond_order,\n",
    "    dodge=False,\n",
    "    palette=color_palette,\n",
    "    hue_order=cond_order,\n",
    ")\n",
    "ax[1].set_xlabel(\"Condition\")\n",
    "ax[1].set_title(\"Distribution of conditions\")\n",
    "\n",
    "plt.show()\n",
    "plt.close()"
   ]
  },
  {
   "cell_type": "markdown",
   "id": "fundamental-adoption",
   "metadata": {},
   "source": [
    "Note that while the data set consists of 10 cancer patients and 10 healthy controls the number of nuclei varies significantly between each biological sample."
   ]
  },
  {
   "cell_type": "markdown",
   "id": "surprised-ghana",
   "metadata": {},
   "source": [
    "___"
   ]
  },
  {
   "cell_type": "markdown",
   "id": "intermediate-schema",
   "metadata": {},
   "source": [
    "#### Subsampling\n",
    "\n",
    "We first subsample the data set such that for each condition (control vs. cancer) we have the same number of nuclei in the data set. Additionally, we ensure that for the cancer population we have approximately equal number of nuclei from each biological sample."
   ]
  },
  {
   "cell_type": "code",
   "execution_count": null,
   "id": "novel-qualification",
   "metadata": {},
   "outputs": [],
   "source": [
    "sampled_data = get_stratified_data(hv_data, pancancer_data)"
   ]
  },
  {
   "cell_type": "code",
   "execution_count": null,
   "id": "opponent-snake",
   "metadata": {},
   "outputs": [],
   "source": [
    "fig, ax = plt.subplots(figsize=[12, 4], ncols=2)\n",
    "cond_order = [\"Control\", \"Cancer\"]\n",
    "sample_order = sorted_nicely(np.unique(all_data.loc[:, \"sample\"]))\n",
    "ax = ax.flatten()\n",
    "ax[0] = sns.countplot(\n",
    "    x=\"sample\",\n",
    "    data=sampled_data,\n",
    "    ax=ax[0],\n",
    "    order=sample_order,\n",
    "    hue_order=cond_order,\n",
    "    hue=\"condition\",\n",
    "    dodge=False,\n",
    "    palette=color_palette,\n",
    ")\n",
    "ax[0].legend([], [], frameon=False)\n",
    "ax[0].set_xlabel(\"ID of the biological sample\")\n",
    "ax[0].set_title(\"Distribution of biological samples\")\n",
    "for tick in ax[0].get_xticklabels():\n",
    "    tick.set_rotation(45)\n",
    "\n",
    "ax[1] = sns.countplot(\n",
    "    x=\"condition\",\n",
    "    hue=\"condition\",\n",
    "    data=sampled_data,\n",
    "    ax=ax[1],\n",
    "    order=cond_order,\n",
    "    dodge=False,\n",
    "    palette=color_palette,\n",
    "    hue_order=cond_order,\n",
    ")\n",
    "ax[1].set_xlabel(\"Condition\")\n",
    "ax[1].set_title(\"Distribution of conditions\")\n",
    "ax[1].legend(loc=\"lower right\")\n",
    "\n",
    "plt.show()\n",
    "plt.close()"
   ]
  },
  {
   "cell_type": "markdown",
   "id": "textile-highland",
   "metadata": {},
   "source": [
    "The sampled data set consists of 2160 nuclei from the healthy controls as well as from the cancer patients."
   ]
  },
  {
   "cell_type": "markdown",
   "id": "handled-transport",
   "metadata": {},
   "source": [
    "----\n",
    "\n",
    "#### Sample and feature selection\n",
    "\n",
    "We now filter out constant features and nuclei with missing features. We will do that for both replicates individually. However, we will also combine the two replicates to provide a joint analysis."
   ]
  },
  {
   "cell_type": "code",
   "execution_count": null,
   "id": "opening-combination",
   "metadata": {},
   "outputs": [],
   "source": [
    "data = preprocess_data(sampled_data, remove_constant_features=True)"
   ]
  },
  {
   "cell_type": "markdown",
   "id": "congressional-dutch",
   "metadata": {},
   "source": [
    "---\n",
    "\n",
    "#### Data preparation\n",
    "\n",
    "After sampling the data, we will now prepare the data for the consecutive analysis, i.e. extracting only chrometric features and corresponding metadata information."
   ]
  },
  {
   "cell_type": "code",
   "execution_count": null,
   "id": "crazy-sally",
   "metadata": {},
   "outputs": [],
   "source": [
    "all_chrometric_data = get_chrometric_data(\n",
    "    data,\n",
    "    proteins=[\"gh2ax\", \"lamin\"],\n",
    "    exclude_dna_int=True,\n",
    ")\n",
    "\n",
    "sample_labels = data.loc[:, \"sample\"]\n",
    "cond_labels = data.loc[:, \"condition\"]"
   ]
  },
  {
   "cell_type": "markdown",
   "id": "frank-stretch",
   "metadata": {},
   "source": [
    "Finally, we remove highly correlated features (Pearson $\\rho > 0.8$) from the chrometric features."
   ]
  },
  {
   "cell_type": "code",
   "execution_count": null,
   "id": "driven-lemon",
   "metadata": {},
   "outputs": [],
   "source": [
    "chrometric_data = remove_correlated_features(all_chrometric_data, threshold=0.8)"
   ]
  },
  {
   "cell_type": "markdown",
   "id": "published-utilization",
   "metadata": {},
   "source": [
    "---\n",
    "\n",
    "## 3. Panels\n",
    "\n",
    "Now we generate the individual panels for figure 2 of the paper.\n",
    "\n",
    "\n",
    "### 3a. Visualization of the global nuclear phenotypes of control vs cancer population"
   ]
  },
  {
   "cell_type": "code",
   "execution_count": null,
   "id": "bulgarian-editing",
   "metadata": {},
   "outputs": [],
   "source": [
    "# sns.heatmap(\n",
    "#     StandardScaler().fit_transform(chrometric_data)[:10],\n",
    "#     vmin=-2,\n",
    "#     vmax=2,\n",
    "#     cmap=\"seismic\",\n",
    "# )"
   ]
  },
  {
   "cell_type": "markdown",
   "id": "helpful-glance",
   "metadata": {},
   "source": [
    "First, we provide a visual representation of the different nuclear phenotypes in health and cancer. To this end, we will randomly sample 36 nuclei from each condition and plot a corresponding montage of the max-z projected DNA images. To visualize size differences each nuclei is padded to a size of 150x150 pixels."
   ]
  },
  {
   "cell_type": "code",
   "execution_count": null,
   "id": "solved-growth",
   "metadata": {},
   "outputs": [],
   "source": [
    "image_file_path = \"preprocessed/full_pipeline/segmentation/nuclei_images\"\n",
    "sampled_ctrl_images = get_random_images(\n",
    "    data.loc[data.condition == \"Control\"],\n",
    "    image_file_path,\n",
    "    data_dir_col=\"data_dir\",\n",
    "    n_images=36,\n",
    "    seed=1234,\n",
    "    file_ending=\".tif\",\n",
    ")\n",
    "\n",
    "sampled_cancer_images = get_random_images(\n",
    "    data.loc[data.condition == \"Cancer\"],\n",
    "    image_file_path,\n",
    "    data_dir_col=\"data_dir\",\n",
    "    n_images=36,\n",
    "    seed=1234,\n",
    "    file_ending=\".tif\",\n",
    ")"
   ]
  },
  {
   "cell_type": "markdown",
   "id": "political-cornwall",
   "metadata": {},
   "source": [
    "#### Control population"
   ]
  },
  {
   "cell_type": "code",
   "execution_count": null,
   "id": "framed-english",
   "metadata": {
    "scrolled": false
   },
   "outputs": [],
   "source": [
    "fig, ax_ctrl = plot_montage(\n",
    "    sampled_ctrl_images, pad_size=150, cmap=\"inferno\", channel_first=False\n",
    ")\n",
    "fig.set_facecolor(color_palette[\"Control\"])"
   ]
  },
  {
   "cell_type": "markdown",
   "id": "familiar-mercury",
   "metadata": {},
   "source": [
    "#### Cancer population"
   ]
  },
  {
   "cell_type": "code",
   "execution_count": null,
   "id": "welsh-wellington",
   "metadata": {
    "scrolled": false
   },
   "outputs": [],
   "source": [
    "fig, ax_cancer = plot_montage(\n",
    "    sampled_cancer_images, pad_size=150, cmap=\"inferno\", channel_first=False\n",
    ")\n",
    "fig.set_facecolor(color_palette[\"Cancer\"])"
   ]
  },
  {
   "cell_type": "markdown",
   "id": "residential-hello",
   "metadata": {},
   "source": [
    "The above montages show that the nuclei of the cancer samples often feature a signficantly different chrometric phenotype compared to those of PBMCs from the healthy controls. For instance we observe a frequent fragmentation of the nucleus which leads to highly concave nuclear shape."
   ]
  },
  {
   "cell_type": "markdown",
   "id": "apart-atmosphere",
   "metadata": {},
   "source": [
    "---\n",
    "\n",
    "### 3b. Parametric analysis captures large-scale differences between control and cancer population"
   ]
  },
  {
   "cell_type": "markdown",
   "id": "olympic-organ",
   "metadata": {},
   "source": [
    "We will now use the chrometric features to describe the nuclear phenotype of the PBMCs in the two conditions and assess their differences. To this end, we first visualize the data set using a tSNE plot to visualize the high-dimensional data set in 2D and show the large-scale differences of the chrometric phenotypes of PBMCs in healthy and cancer subjects respectively."
   ]
  },
  {
   "cell_type": "code",
   "execution_count": null,
   "id": "crude-palestine",
   "metadata": {},
   "outputs": [],
   "source": [
    "chrometric_embs = get_tsne_embs(chrometric_data)\n",
    "chrometric_embs[\"condition\"] = np.array(cond_labels)\n",
    "chrometric_embs[\"sample\"] = np.array(sample_labels)"
   ]
  },
  {
   "cell_type": "code",
   "execution_count": null,
   "id": "normal-crack",
   "metadata": {},
   "outputs": [],
   "source": [
    "pca_embs, pca = get_pca_embs(chrometric_data)\n",
    "pca_embs[\"condition\"] = np.array(cond_labels)\n",
    "pca_embs[\"sample\"] = np.array(sample_labels)"
   ]
  },
  {
   "cell_type": "code",
   "execution_count": null,
   "id": "minus-instrument",
   "metadata": {},
   "outputs": [],
   "source": [
    "fig, ax = plt.subplots(figsize=[9, 6])\n",
    "ax = sns.scatterplot(\n",
    "    data=chrometric_embs,\n",
    "    x=\"tSNE 1\",\n",
    "    y=\"tSNE 2\",\n",
    "    hue=\"condition\",\n",
    "    hue_order=cond_order,\n",
    "    ax=ax,\n",
    "    s=18,\n",
    "    marker=\"o\",\n",
    "    palette=color_palette,\n",
    "    legend=False,\n",
    ")\n",
    "plt.show()"
   ]
  },
  {
   "cell_type": "markdown",
   "id": "promotional-mapping",
   "metadata": {},
   "source": [
    "#### Healthy controls"
   ]
  },
  {
   "cell_type": "code",
   "execution_count": null,
   "id": "neural-cambodia",
   "metadata": {},
   "outputs": [],
   "source": [
    "control_chrometric_feats = chrometric_data.loc[\n",
    "    cond_labels.loc[cond_labels == \"Control\"].index\n",
    "]\n",
    "control_sample_labels = sample_labels.loc[\n",
    "    cond_labels.loc[cond_labels == \"Control\"].index\n",
    "]"
   ]
  },
  {
   "cell_type": "markdown",
   "id": "beginning-distance",
   "metadata": {},
   "source": [
    "Visually, we do not see any strong batch/patient-specific effects. We can further quantify that by clustering the nuclei of the healthy control population using a Gaussian Mixture clustering approach. We then validate that for each sample the conditional distribution over the identified clusters is approximately the same. Thereby, we identify the optimal number of clusters by the choice that minimizes the BIC criterion when using a full covariance structure and upper bounding the number of clusters by the number of samples/patients.\n",
    "\n",
    "The row-normalized co-occurence matrix that visualizes the conditional distributions for each sample/patient is shown below."
   ]
  },
  {
   "cell_type": "code",
   "execution_count": null,
   "id": "generic-visiting",
   "metadata": {},
   "outputs": [],
   "source": [
    "fig, ax = plt.subplots(figsize=[9, 6])\n",
    "ax = sns.scatterplot(\n",
    "    data=chrometric_embs.loc[chrometric_embs.condition == \"Control\"],\n",
    "    x=\"tSNE 1\",\n",
    "    y=\"tSNE 2\",\n",
    "    hue=\"sample\",\n",
    "    hue_order=sample_order[:10],\n",
    "    ax=ax,\n",
    "    s=12,\n",
    "    marker=\"o\",\n",
    "    palette=sns.color_palette(\"tab20\", 20)[:10],\n",
    ")\n",
    "plt.legend(\n",
    "    bbox_to_anchor=(0.5, 1.05),\n",
    "    loc=\"center\",\n",
    "    borderaxespad=0,\n",
    "    title=\"Sample\",\n",
    "    ncol=10,\n",
    "    fancybox=False,\n",
    "    frameon=False,\n",
    "    columnspacing=0.4,\n",
    ")\n",
    "\n",
    "plt.show()"
   ]
  },
  {
   "cell_type": "code",
   "execution_count": null,
   "id": "breeding-durham",
   "metadata": {},
   "outputs": [],
   "source": [
    "fig, ax = plt.subplots(figsize=[6, 6])\n",
    "ax = sns.scatterplot(\n",
    "    data=pca_embs.loc[chrometric_embs.condition == \"Control\"],\n",
    "    x=\"PC 1\",\n",
    "    y=\"PC 2\",\n",
    "    hue=\"sample\",\n",
    "    hue_order=sample_order[:10],\n",
    "    ax=ax,\n",
    "    s=5,\n",
    "    marker=\"o\",\n",
    "    palette=sns.color_palette(\"tab20\", 20)[:10],\n",
    ")\n",
    "plt.legend(\n",
    "    bbox_to_anchor=(1.02, 0.5), loc=\"center left\", borderaxespad=0, title=\"sample\"\n",
    ")\n",
    "ax.set_xlabel(\"PC 1 ({}%)\".format(np.round(pca.explained_variance_ratio_[0], 4) * 100))\n",
    "ax.set_ylabel(\"PC 2 ({}%)\".format(np.round(pca.explained_variance_ratio_[1], 4) * 100))\n",
    "ax.set_xlim([-6, 10])\n",
    "ax.set_ylim([-10, 10])\n",
    "\n",
    "plt.show()"
   ]
  },
  {
   "cell_type": "code",
   "execution_count": null,
   "id": "southeast-contact",
   "metadata": {},
   "outputs": [],
   "source": [
    "tmp = pca_embs.loc[pca_embs.condition == \"Control\"]\n",
    "not_plotted = (\n",
    "    np.sum(tmp.loc[:, \"PC 1\"] > 10)\n",
    "    + np.sum(tmp.loc[:, \"PC 1\"] < -6)\n",
    "    + np.sum(tmp.loc[:, \"PC 2\"] > 10)\n",
    "    + np.sum(tmp.loc[:, \"PC 2\"] < -10)\n",
    ")\n",
    "print(\n",
    "    \"{} nuclei of a total {} are not shown in the LDA plot.\".format(\n",
    "        not_plotted, len(tmp)\n",
    "    )\n",
    ")"
   ]
  },
  {
   "cell_type": "code",
   "execution_count": null,
   "id": "nasty-monte",
   "metadata": {},
   "outputs": [],
   "source": [
    "fig, ax = plt.subplots(figsize=[9, 6])\n",
    "sample_cluster_count_mtx = get_batch_gmm_cluster_count_mtx(\n",
    "    control_chrometric_feats, control_sample_labels\n",
    ").loc[sample_order[:10]]\n",
    "ax = sns.heatmap(sample_cluster_count_mtx, annot=True, fmt=\".2f\", ax=ax, cmap=\"viridis\")\n",
    "plt.show()"
   ]
  },
  {
   "cell_type": "markdown",
   "id": "hybrid-temple",
   "metadata": {},
   "source": [
    "#### Cancer patients"
   ]
  },
  {
   "cell_type": "code",
   "execution_count": null,
   "id": "settled-vegetarian",
   "metadata": {},
   "outputs": [],
   "source": [
    "cancer_chrometric_feats = chrometric_data.loc[\n",
    "    cond_labels.loc[cond_labels != \"Control\"].index\n",
    "]\n",
    "cancer_sample_labels = sample_labels.loc[\n",
    "    cond_labels.loc[cond_labels != \"Control\"].index\n",
    "]"
   ]
  },
  {
   "cell_type": "code",
   "execution_count": null,
   "id": "valued-beverage",
   "metadata": {},
   "outputs": [],
   "source": [
    "fig, ax = plt.subplots(figsize=[9, 6])\n",
    "ax = sns.scatterplot(\n",
    "    data=chrometric_embs.loc[chrometric_embs.condition == \"Cancer\"],\n",
    "    x=\"tSNE 1\",\n",
    "    y=\"tSNE 2\",\n",
    "    hue=\"sample\",\n",
    "    hue_order=sample_order[10:],\n",
    "    ax=ax,\n",
    "    s=12,\n",
    "    marker=\"o\",\n",
    "    palette=sns.color_palette(\"tab20\", 20)[10:],\n",
    ")\n",
    "plt.legend(\n",
    "    bbox_to_anchor=(0.5, 1.05),\n",
    "    loc=\"center\",\n",
    "    borderaxespad=0,\n",
    "    title=\"Sample\",\n",
    "    ncol=10,\n",
    "    fancybox=False,\n",
    "    frameon=False,\n",
    "    columnspacing=0.4,\n",
    ")\n",
    "plt.show()"
   ]
  },
  {
   "cell_type": "code",
   "execution_count": null,
   "id": "postal-immigration",
   "metadata": {},
   "outputs": [],
   "source": [
    "fig, ax = plt.subplots(figsize=[6, 6])\n",
    "ax = sns.scatterplot(\n",
    "    data=pca_embs.loc[pca_embs.condition == \"Cancer\"],\n",
    "    x=\"PC 1\",\n",
    "    y=\"PC 2\",\n",
    "    hue=\"sample\",\n",
    "    hue_order=sample_order[10:],\n",
    "    ax=ax,\n",
    "    s=5,\n",
    "    marker=\"o\",\n",
    "    palette=sns.color_palette(\"tab20\", 20)[10:],\n",
    ")\n",
    "plt.legend(\n",
    "    bbox_to_anchor=(1.02, 0.5), loc=\"center left\", borderaxespad=0, title=\"sample\"\n",
    ")\n",
    "ax.set_xlabel(\"PC 1 ({}%)\".format(np.round(pca.explained_variance_ratio_[0], 4) * 100))\n",
    "ax.set_ylabel(\"PC 2 ({}%)\".format(np.round(pca.explained_variance_ratio_[1], 4) * 100))\n",
    "ax.set_xlim([-6, 10])\n",
    "ax.set_ylim([-10, 10])\n",
    "plt.show()"
   ]
  },
  {
   "cell_type": "code",
   "execution_count": null,
   "id": "therapeutic-optimum",
   "metadata": {},
   "outputs": [],
   "source": [
    "tmp = pca_embs.loc[pca_embs.condition == \"Cancer\"]\n",
    "not_plotted = (\n",
    "    np.sum(tmp.loc[:, \"PC 1\"] > 10)\n",
    "    + np.sum(tmp.loc[:, \"PC 1\"] < -6)\n",
    "    + np.sum(tmp.loc[:, \"PC 2\"] > 10)\n",
    "    + np.sum(tmp.loc[:, \"PC 2\"] < -10)\n",
    ")\n",
    "print(\n",
    "    \"{} nuclei of a total {} are not shown in the LDA plot.\".format(\n",
    "        not_plotted, len(tmp)\n",
    "    )\n",
    ")"
   ]
  },
  {
   "cell_type": "code",
   "execution_count": null,
   "id": "ordered-munich",
   "metadata": {},
   "outputs": [],
   "source": [
    "fig, ax = plt.subplots(figsize=[9, 6])\n",
    "sample_cluster_count_mtx = get_batch_gmm_cluster_count_mtx(\n",
    "    cancer_chrometric_feats, cancer_sample_labels\n",
    ").loc[sample_order[10:]]\n",
    "\n",
    "ax = sns.heatmap(sample_cluster_count_mtx, annot=True, fmt=\".2f\", ax=ax, cmap=\"viridis\")\n",
    "\n",
    "plt.show()"
   ]
  },
  {
   "cell_type": "markdown",
   "id": "pursuant-entertainment",
   "metadata": {},
   "source": [
    "---\n",
    "\n",
    "#### Classification of the control resp. cancer PBMCs"
   ]
  },
  {
   "cell_type": "markdown",
   "id": "likely-straight",
   "metadata": {},
   "source": [
    "To quantify the separability of the two conditions we perform a 10-fold stratified cross-validation analysis using a RandomForest classifier. The classifier provides a simple non-linear classification model which also yields an importance measure for the individual chrometric features indicating which ones are most different between the two populations."
   ]
  },
  {
   "cell_type": "code",
   "execution_count": null,
   "id": "introductory-ability",
   "metadata": {},
   "outputs": [],
   "source": [
    "rfc = RandomForestClassifier(\n",
    "    n_estimators=500, n_jobs=10, random_state=seed, class_weight=\"balanced\"\n",
    ")"
   ]
  },
  {
   "cell_type": "markdown",
   "id": "original-appeal",
   "metadata": {},
   "source": [
    "##### Nuclei split"
   ]
  },
  {
   "cell_type": "markdown",
   "id": "southeast-median",
   "metadata": {},
   "source": [
    "At first we will split the data randomly on a nuclei-basis, i.e. nuclei of the same biological sample will be likely included in both the training and the test sets."
   ]
  },
  {
   "cell_type": "code",
   "execution_count": null,
   "id": "common-telescope",
   "metadata": {},
   "outputs": [],
   "source": [
    "cond_cv_conf_mtx_nuclei = get_cv_conf_mtx(\n",
    "    estimator=rfc,\n",
    "    features=chrometric_data,\n",
    "    labels=cond_labels,\n",
    "    scale_features=False,\n",
    "    n_folds=10,\n",
    "    order=cond_order,\n",
    ")\n",
    "normalized_cv_conf_mtx_nuclei = cond_cv_conf_mtx_nuclei.divide(\n",
    "    cond_cv_conf_mtx_nuclei.sum(axis=1), axis=0\n",
    ")"
   ]
  },
  {
   "cell_type": "code",
   "execution_count": null,
   "id": "italian-separation",
   "metadata": {},
   "outputs": [],
   "source": [
    "fig, ax = plt.subplots(figsize=[5, 4])\n",
    "ax = sns.heatmap(\n",
    "    normalized_cv_conf_mtx_nuclei,\n",
    "    annot=True,\n",
    "    fmt=\".4f\",\n",
    "    cmap=\"viridis\",\n",
    "    vmin=0,\n",
    "    vmax=1,\n",
    "    # cbar=False,\n",
    "    annot_kws={\"size\": 16, \"fontweight\": \"bold\"},\n",
    ")\n",
    "ax.set_xlabel(\"Predicted condition\")\n",
    "ax.set_ylabel(\"True condition\")\n",
    "plt.show()"
   ]
  },
  {
   "cell_type": "markdown",
   "id": "optimum-retention",
   "metadata": {},
   "source": [
    "The classifier is able to accurately distinguish nuclei from the control and cancer population. This suggests that there are large differences with respect to the chrometric phenotypes of PBMCs in the absence compared to in the presence of cancer. While the tSNE plot already suggested that this is the case, a linear discriminant analysis shows that using a linear combination of the chrometric features the two classes can be accurately distinguished."
   ]
  },
  {
   "cell_type": "code",
   "execution_count": null,
   "id": "computational-trauma",
   "metadata": {},
   "outputs": [],
   "source": [
    "lda = LinearDiscriminantAnalysis(n_components=1)"
   ]
  },
  {
   "cell_type": "code",
   "execution_count": null,
   "id": "naughty-lemon",
   "metadata": {},
   "outputs": [],
   "source": [
    "lda_cond_cv_conf_mtx_nuclei = get_cv_conf_mtx(\n",
    "    estimator=lda,\n",
    "    features=chrometric_data,\n",
    "    labels=cond_labels,\n",
    "    scale_features=True,\n",
    "    n_folds=10,\n",
    "    order=cond_order,\n",
    ")\n",
    "lda_normalized_cv_conf_mtx_nuclei = lda_cond_cv_conf_mtx_nuclei.divide(\n",
    "    lda_cond_cv_conf_mtx_nuclei.sum(axis=1), axis=0\n",
    ")"
   ]
  },
  {
   "cell_type": "code",
   "execution_count": null,
   "id": "early-grenada",
   "metadata": {},
   "outputs": [],
   "source": [
    "fig, ax = plt.subplots(figsize=[5, 4])\n",
    "ax = sns.heatmap(\n",
    "    lda_normalized_cv_conf_mtx_nuclei,\n",
    "    annot=True,\n",
    "    fmt=\".4f\",\n",
    "    cmap=\"viridis\",\n",
    "    vmin=0,\n",
    "    vmax=1,\n",
    "    # cbar=False,\n",
    ")\n",
    "ax.set_xlabel(\"Predicted condition\")\n",
    "ax.set_ylabel(\"True condition\")\n",
    "\n",
    "plt.show()"
   ]
  },
  {
   "cell_type": "code",
   "execution_count": null,
   "id": "fuzzy-yacht",
   "metadata": {},
   "outputs": [],
   "source": [
    "lda_transformed = pd.DataFrame(\n",
    "    lda.fit(chrometric_data, cond_labels).transform(chrometric_data),\n",
    "    columns=[\"LD 1\"],\n",
    "    index=chrometric_data.index,\n",
    ")\n",
    "lda_transformed[\"condition\"] = np.array(cond_labels)\n",
    "lda_transformed[\"sample\"] = np.array(sample_labels)\n",
    "fig, ax = plt.subplots(figsize=[9, 6])\n",
    "ax = sns.histplot(\n",
    "    data=lda_transformed,\n",
    "    x=\"LD 1\",\n",
    "    hue=\"condition\",\n",
    "    hue_order=cond_order,\n",
    "    palette=color_palette,\n",
    "    kde=True,\n",
    "    legend=False,\n",
    ")"
   ]
  },
  {
   "cell_type": "markdown",
   "id": "graduate-helena",
   "metadata": {},
   "source": [
    "---\n",
    "#### Patient split\n",
    "\n",
    "\n",
    "While the previous analysis assess the level of differences of the chrometric phenotypes of the PBMCs between the control and cancer population, the classifier can make use of patient specific characteristics during the classification. In a diagnostic use case such information would not be available. To evaluate how well a classifier would be able to predict for unseen patient the corresponding condition simply based on the chrometric phenotypes of the PBMCs, we also assess the class separability using a stratified 10-fold patient-cross-validation approach. Thereby at each iteration 2 of the patients of each condition (healthy control and cancer) are hold out for the test set."
   ]
  },
  {
   "cell_type": "code",
   "execution_count": null,
   "id": "current-crystal",
   "metadata": {},
   "outputs": [],
   "source": [
    "cond_cv_conf_mtx_patient = get_cv_conf_mtx(\n",
    "    estimator=rfc,\n",
    "    features=chrometric_data,\n",
    "    labels=cond_labels,\n",
    "    groups=sample_labels,\n",
    "    scale_features=False,\n",
    "    n_folds=20,\n",
    "    order=cond_order,\n",
    "    balance_train=True,\n",
    ")\n",
    "normalized_cv_conf_mtx_patient = cond_cv_conf_mtx_patient.divide(\n",
    "    cond_cv_conf_mtx_patient.sum(axis=1), axis=0\n",
    ")"
   ]
  },
  {
   "cell_type": "code",
   "execution_count": null,
   "id": "naked-albuquerque",
   "metadata": {},
   "outputs": [],
   "source": [
    "fig, ax = plt.subplots(figsize=[5, 4])\n",
    "ax = sns.heatmap(\n",
    "    normalized_cv_conf_mtx_patient,\n",
    "    annot=True,\n",
    "    fmt=\".4f\",\n",
    "    cmap=\"viridis\",\n",
    "    vmin=0,\n",
    "    vmax=1,\n",
    "    # cbar=False,\n",
    "    annot_kws={\"size\": 20, \"weight\": \"bold\"},\n",
    ")\n",
    "ax.set_xlabel(\"Predicted condition\")\n",
    "ax.set_ylabel(\"True condition\")\n",
    "plt.show()"
   ]
  },
  {
   "cell_type": "code",
   "execution_count": null,
   "id": "convenient-bonus",
   "metadata": {},
   "outputs": [],
   "source": [
    "groupkfold = StratifiedGroupKFold(n_splits=20)\n",
    "cv_bacs = cross_val_score(\n",
    "    rfc,\n",
    "    cv=groupkfold,\n",
    "    X=chrometric_data,\n",
    "    y=cond_labels,\n",
    "    groups=sample_labels,\n",
    "    scoring=\"balanced_accuracy\",\n",
    "    n_jobs=10,\n",
    ")\n",
    "print(\"Balanced accuracy: {} (+/- {})\".format(np.mean(cv_bacs), np.std(cv_bacs)))"
   ]
  },
  {
   "cell_type": "code",
   "execution_count": null,
   "id": "italic-switch",
   "metadata": {},
   "outputs": [],
   "source": [
    "from sklearn.metrics import make_scorer, confusion_matrix\n",
    "\n",
    "\n",
    "def sensitivity_scorer(y_true, y_pred):\n",
    "    tn, fp, fn, tp = confusion_matrix(y_true, y_pred).ravel()\n",
    "    sensitivity = tp / (tp + fn) if (tp + fn) != 0 else 0\n",
    "    return sensitivity\n",
    "\n",
    "\n",
    "def specificity_scorer(y_true, y_pred):\n",
    "    tn, fp, fn, tp = confusion_matrix(y_true, y_pred).ravel()\n",
    "    specificity = tn / (tn + fp) if (tn + fp) != 0 else 0\n",
    "    return specificity\n",
    "\n",
    "\n",
    "sensitivity = make_scorer(sensitivity_scorer)\n",
    "specificity = make_scorer(specificity_scorer)"
   ]
  },
  {
   "cell_type": "code",
   "execution_count": null,
   "id": "incoming-tissue",
   "metadata": {},
   "outputs": [],
   "source": [
    "cv_sens = cross_val_score(\n",
    "    rfc,\n",
    "    cv=groupkfold,\n",
    "    X=chrometric_data,\n",
    "    y=cond_labels,\n",
    "    groups=sample_labels,\n",
    "    scoring=sensitivity,\n",
    "    n_jobs=10,\n",
    ")\n",
    "print(\"Sensitivity:\", np.mean(cv_sens[cv_sens > 0]), np.std(cv_sens[cv_sens > 0]))"
   ]
  },
  {
   "cell_type": "code",
   "execution_count": null,
   "id": "accomplished-plaintiff",
   "metadata": {},
   "outputs": [],
   "source": [
    "cv_specs = cross_val_score(\n",
    "    rfc,\n",
    "    cv=groupkfold,\n",
    "    X=chrometric_data,\n",
    "    y=cond_labels,\n",
    "    groups=sample_labels,\n",
    "    scoring=specificity,\n",
    "    n_jobs=10,\n",
    ")\n",
    "print(\"Specificity:\", np.mean(cv_specs[cv_specs > 0]), np.std(cv_specs[cv_specs > 0]))"
   ]
  },
  {
   "cell_type": "markdown",
   "id": "naughty-grill",
   "metadata": {},
   "source": [
    "---\n",
    "\n",
    "#### Ablation study"
   ]
  },
  {
   "cell_type": "code",
   "execution_count": null,
   "id": "through-teach",
   "metadata": {
    "scrolled": true
   },
   "outputs": [],
   "source": [
    "nc_abl_results = run_nuclei_ablation_study_cv(\n",
    "    estimator=rfc,\n",
    "    features=chrometric_data,\n",
    "    labels=cond_labels,\n",
    "    groups=sample_labels,\n",
    "    n_repeats=10,\n",
    "    balance_train=True,\n",
    "    scale_features=True,\n",
    "    n_folds=len(set(sample_labels)),\n",
    "    random_state=1234,\n",
    ")"
   ]
  },
  {
   "cell_type": "code",
   "execution_count": null,
   "id": "lucky-fairy",
   "metadata": {},
   "outputs": [],
   "source": [
    "nc_abl_results.frac_nuclei = np.round(nc_abl_results.frac_nuclei, 2)\n",
    "g = sns.catplot(\n",
    "    data=nc_abl_results,\n",
    "    x=\"frac_nuclei\",\n",
    "    y=\"lopo_accuracy\",\n",
    "    kind=\"point\",\n",
    "    errorbar=\"se\",\n",
    "    capsize=0.2,\n",
    "    height=4,\n",
    "    aspect=1.5,\n",
    ")\n",
    "g.set_xlabels(\"\")\n",
    "g.set_ylabels(\"\")\n",
    "g.set(ylim=(0.68, 0.78))\n",
    "# g.set_xlabels(\"Fraction of nuclei\\n(training set)\")\n",
    "# g.set_ylabels(\"Average accuracy\\n(leave one patient out)\")\n",
    "# g.set_titles(\"Control vs. Cancer\")"
   ]
  },
  {
   "cell_type": "code",
   "execution_count": null,
   "id": "clear-while",
   "metadata": {
    "scrolled": true
   },
   "outputs": [],
   "source": [
    "pt_abl_results = run_patient_ablation_study_cv(\n",
    "    estimator=rfc,\n",
    "    features=chrometric_data,\n",
    "    labels=cond_labels,\n",
    "    groups=sample_labels,\n",
    "    n_repeats=10,\n",
    "    balance_train=True,\n",
    "    scale_features=True,\n",
    "    n_folds=len(set(sample_labels)),\n",
    "    random_state=1234,\n",
    ")"
   ]
  },
  {
   "cell_type": "code",
   "execution_count": null,
   "id": "tough-florida",
   "metadata": {},
   "outputs": [],
   "source": [
    "pt_abl_results.groupby(\"n_train_patients\").describe()"
   ]
  },
  {
   "cell_type": "code",
   "execution_count": null,
   "id": "grave-liver",
   "metadata": {},
   "outputs": [],
   "source": [
    "g = sns.catplot(\n",
    "    data=pt_abl_results,\n",
    "    x=\"n_train_patients\",\n",
    "    y=\"lopo_accuracy\",\n",
    "    kind=\"point\",\n",
    "    errorbar=\"se\",\n",
    "    capsize=0.2,\n",
    "    height=4,\n",
    "    aspect=1.5,\n",
    ")\n",
    "g.set_xlabels(\"\")\n",
    "g.set_ylabels(\"\")\n",
    "g.set(ylim=(0.68, 0.78))\n",
    "# g.set_xlabels(\"Number of patients\\n(training set)\")\n",
    "# g.set_ylabels(\"Average accuracy\\n(leave one patient out)\")\n",
    "# g.set_titles(\"Control vs. Cancer\")"
   ]
  },
  {
   "cell_type": "markdown",
   "id": "close-russian",
   "metadata": {},
   "source": [
    "---"
   ]
  },
  {
   "cell_type": "code",
   "execution_count": null,
   "id": "guided-lafayette",
   "metadata": {},
   "outputs": [],
   "source": [
    "cond_cv_conf_mtx_patient_lda = get_cv_conf_mtx(\n",
    "    estimator=lda,\n",
    "    features=chrometric_data,\n",
    "    labels=cond_labels,\n",
    "    groups=sample_labels,\n",
    "    scale_features=False,\n",
    "    n_folds=20,\n",
    "    order=cond_order,\n",
    "    balance_train=True,\n",
    ")\n",
    "normalized_cv_conf_mtx_patient_lda = cond_cv_conf_mtx_patient_lda.divide(\n",
    "    cond_cv_conf_mtx_patient_lda.sum(axis=1), axis=0\n",
    ")"
   ]
  },
  {
   "cell_type": "code",
   "execution_count": null,
   "id": "macro-prevention",
   "metadata": {},
   "outputs": [],
   "source": [
    "fig, ax = plt.subplots(figsize=[5, 4])\n",
    "ax = sns.heatmap(\n",
    "    normalized_cv_conf_mtx_patient_lda,\n",
    "    annot=True,\n",
    "    fmt=\".4f\",\n",
    "    cmap=\"viridis\",\n",
    "    vmin=0,\n",
    "    vmax=1,\n",
    "    # cbar=False,\n",
    "    annot_kws={\"size\": 20, \"weight\": \"bold\"},\n",
    ")\n",
    "ax.set_xlabel(\"Predicted condition\")\n",
    "ax.set_ylabel(\"True condition\")\n",
    "plt.show()"
   ]
  },
  {
   "cell_type": "code",
   "execution_count": null,
   "id": "martial-honduras",
   "metadata": {},
   "outputs": [],
   "source": [
    "groupkfold = StratifiedGroupKFold(n_splits=20)\n",
    "cv_bacs_lda = cross_val_score(\n",
    "    lda,\n",
    "    cv=groupkfold,\n",
    "    X=chrometric_data,\n",
    "    y=cond_labels,\n",
    "    groups=sample_labels,\n",
    "    scoring=\"balanced_accuracy\",\n",
    "    n_jobs=10,\n",
    ")\n",
    "print(\n",
    "    \"Balanced accuracy: {} (+/- {})\".format(np.mean(cv_bacs_lda), np.std(cv_bacs_lda))\n",
    ")"
   ]
  },
  {
   "cell_type": "markdown",
   "id": "frozen-charm",
   "metadata": {},
   "source": [
    "---\n",
    "\n",
    "##### Leave-one-patient out cross-validation\n",
    "\n",
    "In addition to the previous study we run a leave-one-patient out cross-validation in order to characterize how the individual patients contribute to the separability of the cancer and the control population. In particular, we are interested in patients whose representative PBMC population is particularly accurate or inaccurate classified when the classifier is trained on the data of all other patients. Note that to avoid class imbalance, at each iteration were we leave out patient with a specific cancer type, we take a balanced random subsample among the PBMC population of all other patients for training such that each cancer type is equally represented."
   ]
  },
  {
   "cell_type": "code",
   "execution_count": null,
   "id": "plastic-excerpt",
   "metadata": {},
   "outputs": [],
   "source": [
    "lopo_cv_result = summarize_group_cv_results_by_fold(\n",
    "    model=rfc,\n",
    "    features=chrometric_data,\n",
    "    labels=cond_labels,\n",
    "    groups=sample_labels,\n",
    "    balance_train=True,\n",
    ")"
   ]
  },
  {
   "cell_type": "code",
   "execution_count": null,
   "id": "opposite-heather",
   "metadata": {},
   "outputs": [],
   "source": [
    "tumor_types = [\"Control\", \"Cancer\"]\n",
    "lopo_patient_cv_mtx = pd.DataFrame(\n",
    "    np.zeros((2, 2)), index=tumor_types, columns=tumor_types\n",
    ")\n",
    "for c in tumor_types:\n",
    "    for p in tumor_types:\n",
    "        lopo_patient_cv_mtx.loc[c, p] = len(\n",
    "            lopo_cv_result.loc[\n",
    "                (lopo_cv_result.majority_class == c)\n",
    "                & (lopo_cv_result.majority_predicted_class == p)\n",
    "            ]\n",
    "        )\n",
    "normalized_lopo_patient_cv_mtx = lopo_patient_cv_mtx.divide(\n",
    "    lopo_patient_cv_mtx.sum(axis=1), axis=0\n",
    ")"
   ]
  },
  {
   "cell_type": "code",
   "execution_count": null,
   "id": "later-communist",
   "metadata": {},
   "outputs": [],
   "source": [
    "normalized_lopo_patient_cv_mtx.index = [\"Control\", \"Tumor\"]\n",
    "normalized_lopo_patient_cv_mtx.columns = [\"Control\", \"Tumor\"]\n",
    "fig, ax = plt.subplots(figsize=[5, 4])\n",
    "ax = sns.heatmap(\n",
    "    normalized_lopo_patient_cv_mtx,\n",
    "    annot=True,\n",
    "    fmt=\".2f\",\n",
    "    cmap=\"viridis\",\n",
    "    vmin=0,\n",
    "    vmax=1,\n",
    "    annot_kws={\"size\": 16, \"weight\": \"bold\"},\n",
    "    # cbar=False,\n",
    ")\n",
    "ax.set_xlabel(\"Predicted cancer type\")\n",
    "ax.set_ylabel(\"True cancer type\")\n",
    "plt.show()"
   ]
  },
  {
   "cell_type": "code",
   "execution_count": null,
   "id": "reflected-mainstream",
   "metadata": {},
   "outputs": [],
   "source": [
    "lopo_cv_result.groupby(\"majority_class\").score.describe()"
   ]
  },
  {
   "cell_type": "code",
   "execution_count": null,
   "id": "apparent-supplier",
   "metadata": {},
   "outputs": [],
   "source": [
    "lopo_cv_result[\"label\"] = \"Control\"\n",
    "lopo_cv_result.loc[lopo_cv_result.group.str.startswith(\"p\"), \"label\"] = \"Cancer\"\n",
    "lopo_cv_result[\"prop_predict_cancer\"] = lopo_cv_result.score\n",
    "lopo_cv_result.loc[lopo_cv_result.group.str.startswith(\"h\"), \"prop_predict_cancer\"] = (\n",
    "    1\n",
    "    - lopo_cv_result.loc[\n",
    "        lopo_cv_result.group.str.startswith(\"h\"), \"prop_predict_cancer\"\n",
    "    ]\n",
    ")\n",
    "lopo_cv_result.describe()"
   ]
  },
  {
   "cell_type": "code",
   "execution_count": null,
   "id": "certified-joint",
   "metadata": {},
   "outputs": [],
   "source": [
    "patient_level_cv_results = {\"prop_cancer_cutoff\": [], \"n_correct\": []}\n",
    "for i in tqdm(np.arange(0, 10000)):\n",
    "    prop_cutoff = i / 10000\n",
    "    patient_level_cv_results[\"prop_cancer_cutoff\"].append(prop_cutoff)\n",
    "    n_correct = 0\n",
    "    for i in range(len(lopo_cv_result)):\n",
    "        if lopo_cv_result.iloc[i].prop_predict_cancer > prop_cutoff:\n",
    "            pred = \"Cancer\"\n",
    "        else:\n",
    "            pred = \"Control\"\n",
    "        if pred == lopo_cv_result.iloc[i].label:\n",
    "            n_correct += 1\n",
    "\n",
    "    patient_level_cv_results[\"n_correct\"].append(n_correct)\n",
    "\n",
    "patient_level_cv_results = pd.DataFrame(patient_level_cv_results)\n",
    "patient_level_cv_results[\"accuracy\"] = np.array(\n",
    "    patient_level_cv_results.n_correct\n",
    ") / len(lopo_cv_result)"
   ]
  },
  {
   "cell_type": "code",
   "execution_count": null,
   "id": "metropolitan-scheduling",
   "metadata": {},
   "outputs": [],
   "source": [
    "ax = sns.stripplot(data=lopo_cv_result, x=\"label\", y=\"prop_predict_cancer\")"
   ]
  },
  {
   "cell_type": "code",
   "execution_count": null,
   "id": "prerequisite-centre",
   "metadata": {},
   "outputs": [],
   "source": [
    "fig, ax = plt.subplots(figsize=[6, 4])\n",
    "ax = sns.lineplot(data=patient_level_cv_results, x=\"prop_cancer_cutoff\", y=\"accuracy\")\n",
    "ax.set_ylim([0.4, 1.05])\n",
    "ax.set_xlim([0, 1])\n",
    "ax.set_ylabel(\"Classification accuracy\")\n",
    "ax.set_xlabel('Threshold for the fraction of \"tumor-like\" PBMCs')\n",
    "plt.axvspan(\n",
    "    np.min(\n",
    "        patient_level_cv_results.loc[\n",
    "            patient_level_cv_results.accuracy\n",
    "            == np.max(patient_level_cv_results.accuracy),\n",
    "            \"prop_cancer_cutoff\",\n",
    "        ]\n",
    "    ),\n",
    "    np.max(\n",
    "        patient_level_cv_results.loc[\n",
    "            patient_level_cv_results.accuracy\n",
    "            == np.max(patient_level_cv_results.accuracy),\n",
    "            \"prop_cancer_cutoff\",\n",
    "        ]\n",
    "    ),\n",
    "    color=\"gold\",\n",
    "    alpha=0.5,\n",
    "    label=\"Perfect classification\\n accuracy\",\n",
    ")\n",
    "# ax.legend(loc=\"lower right\", fontsize=8)"
   ]
  },
  {
   "cell_type": "code",
   "execution_count": null,
   "id": "necessary-panama",
   "metadata": {},
   "outputs": [],
   "source": [
    "fig, ax = plt.subplots(figsize=[6, 4])\n",
    "ax = sns.lineplot(data=patient_level_cv_results, x=\"prop_cancer_cutoff\", y=\"accuracy\")\n",
    "ax.set_ylim([0.4, 1.05])\n",
    "ax.set_xlim([0, 1])\n",
    "ax.set_ylabel(\"Classification accuracy\")\n",
    "ax.set_xlabel('Threshold for the fraction of \"tumor-like\" PBMCs')\n",
    "plt.axvspan(\n",
    "    np.min(\n",
    "        patient_level_cv_results.loc[\n",
    "            patient_level_cv_results.accuracy\n",
    "            == np.max(patient_level_cv_results.accuracy),\n",
    "            \"prop_cancer_cutoff\",\n",
    "        ]\n",
    "    ),\n",
    "    np.max(\n",
    "        patient_level_cv_results.loc[\n",
    "            patient_level_cv_results.accuracy\n",
    "            == np.max(patient_level_cv_results.accuracy),\n",
    "            \"prop_cancer_cutoff\",\n",
    "        ]\n",
    "    ),\n",
    "    color=\"gold\",\n",
    "    alpha=0.5,\n",
    "    label=\"Perfect classification\\n accuracy\",\n",
    ")\n",
    "# ax.legend(loc=\"lower right\", fontsize=8)"
   ]
  },
  {
   "cell_type": "code",
   "execution_count": null,
   "id": "synthetic-freeze",
   "metadata": {},
   "outputs": [],
   "source": [
    "lopo_cv_result_lda = summarize_group_cv_results_by_fold(\n",
    "    model=lda,\n",
    "    features=chrometric_data,\n",
    "    labels=cond_labels,\n",
    "    groups=sample_labels,\n",
    "    balance_train=True,\n",
    ")"
   ]
  },
  {
   "cell_type": "code",
   "execution_count": null,
   "id": "lyric-healthcare",
   "metadata": {},
   "outputs": [],
   "source": [
    "lopo_cv_result_lda.describe()"
   ]
  },
  {
   "cell_type": "markdown",
   "id": "concrete-glasgow",
   "metadata": {},
   "source": [
    "To compare the performance to a random baseline and thus be able to assess if the classification performance is significantly better than random chance. We repeat that procedure 10 times when we randomly permute the cancer types of the individual patients before hand."
   ]
  },
  {
   "cell_type": "code",
   "execution_count": null,
   "id": "consecutive-orientation",
   "metadata": {},
   "outputs": [],
   "source": [
    "np.random.seed(seed)\n",
    "bs = range(10)\n",
    "\n",
    "lopo_perm_cv_results = []\n",
    "\n",
    "for b in tqdm(bs):\n",
    "    perm_cond_labels = get_permute_group_labels(cond_labels, sample_labels)[0]\n",
    "    lopo_perm_cv_result = summarize_group_cv_results_by_fold(\n",
    "        model=rfc,\n",
    "        features=chrometric_data,\n",
    "        labels=perm_cond_labels,\n",
    "        groups=sample_labels,\n",
    "        balance_train=True,\n",
    "    )\n",
    "    lopo_perm_cv_result[\"permutation\"] = b\n",
    "    lopo_perm_cv_results.append(lopo_perm_cv_result)\n",
    "lopo_perm_cv_results = pd.concat(lopo_perm_cv_results)"
   ]
  },
  {
   "cell_type": "code",
   "execution_count": null,
   "id": "north-toolbox",
   "metadata": {},
   "outputs": [],
   "source": [
    "lopo_perm_cv_results[\"condition\"] = \"Permuted\"\n",
    "lopo_cv_result[\"condition\"] = \"Observed\"\n",
    "all_lopo_results = lopo_cv_result.append(lopo_perm_cv_results)"
   ]
  },
  {
   "cell_type": "markdown",
   "id": "standing-trustee",
   "metadata": {},
   "source": [
    "We will now jointly plot the performance measured by the (balanced) accuracy score for each sample and thereby distinguish between the scores obtained with and without permuting the cancer labeles."
   ]
  },
  {
   "cell_type": "code",
   "execution_count": null,
   "id": "lesbian-disco",
   "metadata": {},
   "outputs": [],
   "source": [
    "fig, ax = plot_lopo_cv_results_by_class(\n",
    "    all_lopo_results,\n",
    "    cond_order,\n",
    "    x=\"majority_class\",\n",
    "    y=\"score\",\n",
    "    hue=\"condition\",\n",
    "    figsize=[6, 4],\n",
    "    test=\"Mann-Whitney\",\n",
    "    pval_text_format=\"star\",\n",
    "    alpha=0.5,\n",
    ")\n",
    "# ax.set_xlabel(\"Condition\")\n",
    "# ax.set_ylabel(\"Classification accuracy by patient\")\n",
    "ax.set_xlabel(\"\")\n",
    "ax.set_ylabel(\"\")\n",
    "plt.show()"
   ]
  },
  {
   "cell_type": "markdown",
   "id": "precious-compensation",
   "metadata": {},
   "source": [
    "The above plot validates that the performance in both conditions is signficantly higher than what we expect by random chance. However, we also notice that there are is one healthy control and and one cancer patients for which just roughly 50% of all PBMCs are correctly classified by the Random Forest model. This is also shown in bar plot below."
   ]
  },
  {
   "cell_type": "code",
   "execution_count": null,
   "id": "subject-spyware",
   "metadata": {},
   "outputs": [],
   "source": [
    "fig, ax = plt.subplots(figsize=[6, 4])\n",
    "sample_colors = [\n",
    "    color_palette[k] for k in list(lopo_cv_result.loc[:, \"majority_class\"])\n",
    "]\n",
    "sample_palette = dict(zip(list(lopo_cv_result.loc[:, \"group\"]), sample_colors))\n",
    "ax = sns.barplot(\n",
    "    data=lopo_cv_result,\n",
    "    x=\"group\",\n",
    "    y=\"score\",\n",
    "    palette=sample_palette,\n",
    "    order=list(lopo_cv_result.sort_values(\"score\").loc[:, \"group\"]),\n",
    ")\n",
    "plt.xticks(rotation=90)\n",
    "ax.set_xlabel(\"Patient sample\")\n",
    "ax.set_ylabel(\"Classification accuracy\")\n",
    "plt.show()"
   ]
  },
  {
   "cell_type": "code",
   "execution_count": null,
   "id": "affecting-council",
   "metadata": {},
   "outputs": [],
   "source": [
    "lopo_cv_result.score.mean()"
   ]
  },
  {
   "cell_type": "code",
   "execution_count": null,
   "id": "incorrect-civilization",
   "metadata": {},
   "outputs": [],
   "source": [
    "lopo_cv_result.score.std()"
   ]
  },
  {
   "cell_type": "markdown",
   "id": "wired-chambers",
   "metadata": {},
   "source": [
    "The two patients in question are healthy control HV2 and cancer patient P19, note that importantly for those samples the prediction probability of the true condition is fairly close two 50% emphasizing the difficulty of the classifier to identify the condition of those two samples."
   ]
  },
  {
   "cell_type": "code",
   "execution_count": null,
   "id": "alone-arlington",
   "metadata": {},
   "outputs": [],
   "source": [
    "lopo_cv_result.sort_values(\"score\").head(2)"
   ]
  },
  {
   "cell_type": "markdown",
   "id": "abroad-pencil",
   "metadata": {},
   "source": [
    "Finally, we will plot the overall performance of the leave one out cross-validation approach against the random background which we obtained by permuting the condition labels. Note that we color individual points corresponding to individual samples based on the average prediction performance of the actual condition."
   ]
  },
  {
   "cell_type": "code",
   "execution_count": null,
   "id": "alien-exhibition",
   "metadata": {},
   "outputs": [],
   "source": [
    "fig, ax = plot_lopo_cv_results(\n",
    "    data=all_lopo_results,\n",
    "    alpha=0.7,\n",
    "    cbar_label=\"Prediction probability \\n of the true condition\",\n",
    ")\n",
    "ax.set_xlabel(\"\")\n",
    "ax.set_ylabel(\"Accuracy by LoPo CV fold\")\n",
    "\n",
    "plt.show()"
   ]
  },
  {
   "cell_type": "markdown",
   "id": "affected-lithuania",
   "metadata": {},
   "source": [
    "---\n",
    "\n",
    "#### Effect of chemotherapy\n",
    "\n",
    "In the previous analyses all 10 cancer patients wre used. However, five of those patients namely P11, P13, P14, P16 and P17 have undergone chemotherapy prior to the proton therapy treatment respectively in the case of P16 started chemotherapy in addition to the proton therapy treatment.\n",
    "\n",
    "We will now check if there exist strong differences between these two cancer population, which could confound the analyses."
   ]
  },
  {
   "cell_type": "code",
   "execution_count": null,
   "id": "equal-firmware",
   "metadata": {},
   "outputs": [],
   "source": [
    "additional_therapy_labels = np.array([\"No treatment\"] * len(cond_labels))\n",
    "ct_patients = [\"p11\", \"p13\", \"p14\", \"p16\", \"p17\"]\n",
    "for patient in ct_patients:\n",
    "    additional_therapy_labels[sample_labels == patient] = \"Chemotherapy\"\n",
    "additional_therapy_labels = pd.Series(\n",
    "    additional_therapy_labels, index=cond_labels.index\n",
    ")"
   ]
  },
  {
   "cell_type": "code",
   "execution_count": null,
   "id": "toxic-wireless",
   "metadata": {},
   "outputs": [],
   "source": [
    "cancer_chrometric_data = chrometric_data.loc[cond_labels == \"Cancer\"]\n",
    "therapy_labels = additional_therapy_labels.loc[cancer_chrometric_data.index]\n",
    "cancer_sample_labels = sample_labels.loc[cancer_chrometric_data.index]"
   ]
  },
  {
   "cell_type": "code",
   "execution_count": null,
   "id": "induced-advance",
   "metadata": {},
   "outputs": [],
   "source": [
    "cond_cv_conf_mtx_patient_ct = get_cv_conf_mtx(\n",
    "    estimator=rfc,\n",
    "    features=cancer_chrometric_data,\n",
    "    labels=therapy_labels,\n",
    "    groups=cancer_sample_labels,\n",
    "    scale_features=False,\n",
    "    n_folds=5,\n",
    "    order=[\"No treatment\", \"Chemotherapy\"],\n",
    ")\n",
    "normalized_cv_conf_mtx_patient_ct = cond_cv_conf_mtx_patient_ct.divide(\n",
    "    cond_cv_conf_mtx_patient_ct.sum(axis=1), axis=0\n",
    ")"
   ]
  },
  {
   "cell_type": "code",
   "execution_count": null,
   "id": "failing-benchmark",
   "metadata": {},
   "outputs": [],
   "source": [
    "fig, ax = plt.subplots(figsize=[5, 4])\n",
    "ax = sns.heatmap(\n",
    "    normalized_cv_conf_mtx_patient_ct,\n",
    "    annot=True,\n",
    "    fmt=\".4f\",\n",
    "    cmap=\"viridis\",\n",
    "    vmin=0,\n",
    "    vmax=1,\n",
    "    # cbar=False,\n",
    "    annot_kws={\"size\": 20, \"weight\": \"bold\"},\n",
    ")\n",
    "ax.set_xlabel(\"Predicted condition\")\n",
    "ax.set_ylabel(\"True condition\")\n",
    "\n",
    "plt.show()"
   ]
  },
  {
   "cell_type": "code",
   "execution_count": null,
   "id": "disciplinary-gender",
   "metadata": {},
   "outputs": [],
   "source": [
    "fig, ax = plot_feature_importance_for_estimator(\n",
    "    rfc,\n",
    "    features=cancer_chrometric_data,\n",
    "    labels=therapy_labels,\n",
    "    scale_features=False,\n",
    "    cmap=[\"gray\"],\n",
    "    figsize=[2, 1],\n",
    "    feature_color_dict=feature_color_dict,\n",
    "    n_features=15,\n",
    ")"
   ]
  },
  {
   "cell_type": "code",
   "execution_count": null,
   "id": "after-outline",
   "metadata": {},
   "outputs": [],
   "source": [
    "lopo_cv_result = summarize_group_cv_results_by_fold(\n",
    "    model=rfc,\n",
    "    features=cancer_chrometric_data,\n",
    "    labels=therapy_labels,\n",
    "    groups=cancer_sample_labels,\n",
    "    balance_train=True,\n",
    ")"
   ]
  },
  {
   "cell_type": "code",
   "execution_count": null,
   "id": "instrumental-system",
   "metadata": {},
   "outputs": [],
   "source": [
    "np.random.seed(seed)\n",
    "bs = range(10)\n",
    "\n",
    "lopo_perm_cv_results = []\n",
    "\n",
    "for b in tqdm(bs):\n",
    "    perm_therapy_labels = get_permute_group_labels(\n",
    "        therapy_labels, cancer_sample_labels\n",
    "    )[0]\n",
    "    lopo_perm_cv_result = summarize_group_cv_results_by_fold(\n",
    "        model=rfc,\n",
    "        features=cancer_chrometric_data,\n",
    "        labels=perm_therapy_labels,\n",
    "        groups=cancer_sample_labels,\n",
    "        balance_train=True,\n",
    "    )\n",
    "    lopo_perm_cv_result[\"permutation\"] = b\n",
    "    lopo_perm_cv_results.append(lopo_perm_cv_result)\n",
    "lopo_perm_cv_results = pd.concat(lopo_perm_cv_results)"
   ]
  },
  {
   "cell_type": "code",
   "execution_count": null,
   "id": "expected-variance",
   "metadata": {},
   "outputs": [],
   "source": [
    "lopo_perm_cv_results[\"condition\"] = \"Permuted\"\n",
    "lopo_cv_result[\"condition\"] = \"Observed\"\n",
    "all_lopo_results = lopo_cv_result.append(lopo_perm_cv_results)"
   ]
  },
  {
   "cell_type": "markdown",
   "id": "compatible-brain",
   "metadata": {},
   "source": [
    "We will now jointly plot the performance measured by the (balanced) accuracy score for each sample and thereby distinguish between the scores obtained with and without permuting the cancer labeles."
   ]
  },
  {
   "cell_type": "code",
   "execution_count": null,
   "id": "heard-flight",
   "metadata": {},
   "outputs": [],
   "source": [
    "fig, ax = plot_lopo_cv_results_by_class(\n",
    "    all_lopo_results,\n",
    "    [\"No treatment\", \"Chemotherapy\"],\n",
    "    x=\"majority_class\",\n",
    "    y=\"score\",\n",
    "    hue=\"condition\",\n",
    "    figsize=[6, 4],\n",
    "    test=\"Mann-Whitney\",\n",
    "    pval_text_format=\"star\",\n",
    "    alpha=0.5,\n",
    ")\n",
    "# ax.set_xlabel(\"Condition\")\n",
    "# ax.set_ylabel(\"Classification accuracy by patient\")\n",
    "ax.set_xlabel(\"\")\n",
    "ax.set_ylabel(\"\")\n",
    "plt.show()"
   ]
  },
  {
   "cell_type": "code",
   "execution_count": null,
   "id": "composite-candidate",
   "metadata": {},
   "outputs": [],
   "source": [
    "groupkfold = StratifiedGroupKFold(n_splits=5)\n",
    "cv_bacs = cross_val_score(\n",
    "    rfc,\n",
    "    cv=groupkfold,\n",
    "    X=cancer_chrometric_data,\n",
    "    y=therapy_labels,\n",
    "    groups=cancer_sample_labels,\n",
    "    scoring=\"balanced_accuracy\",\n",
    "    n_jobs=5,\n",
    ")\n",
    "print(\"Balanced accuracy: {} (+/- {})\".format(np.mean(cv_bacs), np.std(cv_bacs)))"
   ]
  },
  {
   "cell_type": "markdown",
   "id": "external-marketplace",
   "metadata": {},
   "source": [
    "---\n",
    "\n",
    "### 3c. Nuclear chromatin biomarkers identifying cancer populations"
   ]
  },
  {
   "cell_type": "markdown",
   "id": "overall-crowd",
   "metadata": {},
   "source": [
    "\n",
    "#### Feature importance\n",
    "\n",
    "After having validated that there are significant differences between the control and the cancer population with respect to the chrometric pheontypes of the PBMCS, we next assess the implicit feature importance of a RandomForest classifier trained on the task to distinguish between control and cancer samples in order to get an idea of the features which are most indicative of the cancer condition."
   ]
  },
  {
   "cell_type": "code",
   "execution_count": null,
   "id": "informative-opera",
   "metadata": {
    "scrolled": false
   },
   "outputs": [],
   "source": [
    "fig, ax = plot_feature_importance_for_estimator(\n",
    "    rfc,\n",
    "    chrometric_data,\n",
    "    cond_labels,\n",
    "    scale_features=False,\n",
    "    cmap=[\"gray\"],\n",
    "    figsize=[2, 1],\n",
    "    feature_color_dict=feature_color_dict,\n",
    "    n_features=15,\n",
    ")"
   ]
  },
  {
   "cell_type": "markdown",
   "id": "intensive-expert",
   "metadata": {},
   "source": [
    "The analysis suggests that the heterochromatin content, the size of the nucleus, its shape as well as the DNA intensity distribution of the DNA inside the nucleus are altered in the cancer population."
   ]
  },
  {
   "cell_type": "markdown",
   "id": "ruled-marketplace",
   "metadata": {},
   "source": [
    "---\n",
    "\n",
    "### 3c. Nuclear chromatin biomarkers identifying cancer populations"
   ]
  },
  {
   "cell_type": "markdown",
   "id": "boxed-secretariat",
   "metadata": {},
   "source": [
    "While the previously shown feature importance plots already suggest a number of candidate chrometric biomarkers that capture the differences of the nuclear phenotypes of the PBMCs in the different cancer types, we run marker screen by testing for differential distributions of the individual chrometric features between the control and cancer population. To this end, we apply a t-test to test for difference in the means and adjust for multiple testing using the Benjamini-Hochberg procedure."
   ]
  },
  {
   "cell_type": "code",
   "execution_count": null,
   "id": "fitting-three",
   "metadata": {},
   "outputs": [],
   "source": [
    "marker_screen_results = find_markers(chrometric_data, cond_labels)"
   ]
  },
  {
   "cell_type": "code",
   "execution_count": null,
   "id": "liked-brazilian",
   "metadata": {},
   "outputs": [],
   "source": [
    "marker_screen_results.loc[marker_screen_results.label == \"Cancer\"].head(10)"
   ]
  },
  {
   "cell_type": "markdown",
   "id": "changed-missile",
   "metadata": {},
   "source": [
    "We find that the most significantly different features are a number of size features such as the maximum caliper and median radius, as well as features related to the curvature of the nucleus and the intranuclear chromatin compaction in the (rel_hc_volume and kurtosis) as well as the nuclear shape related (extent)\n",
    "\n",
    "---"
   ]
  },
  {
   "cell_type": "markdown",
   "id": "alien-mineral",
   "metadata": {},
   "source": [
    "As a joint proxy to study the alterations in size, we focus at the nuclear volume, the variation in the shape by the concavity as well as the aspect ratio of the nucleus and the change in chromatin compaction by the relative heterochromatin to euchromatin ratio."
   ]
  },
  {
   "cell_type": "code",
   "execution_count": null,
   "id": "differential-satisfaction",
   "metadata": {
    "scrolled": true
   },
   "outputs": [],
   "source": [
    "markers = [\n",
    "    \"volume\",\n",
    "    \"hetero_to_euchromatin_volume_ratio\",\n",
    "    \"concavity_3d\",\n",
    "    \"aspect_ratio\",\n",
    "    \"std_curvature\",\n",
    "]\n",
    "marker_labels = [\n",
    "    r\"Nuclear volume in px$^3$\",\n",
    "    \"Relative HC/EC ratio\",\n",
    "    \"Concavity (3D)\",\n",
    "    \"Aspect ratio (2D)\",\n",
    "    \"Standard deviation of the curvature\",\n",
    "    \"Kurtosis of the DNA\\n intensity distribution (2D)\",\n",
    "]\n",
    "plot_ctrl_cancer_markers_dist(\n",
    "    data, markers, marker_labels, cut=0, palette=color_palette\n",
    ")"
   ]
  },
  {
   "cell_type": "code",
   "execution_count": null,
   "id": "demanding-foundation",
   "metadata": {},
   "outputs": [],
   "source": [
    "markers = [\n",
    "    \"volume\",\n",
    "    \"hetero_to_euchromatin_volume_ratio\",\n",
    "    \"concavity_3d\",\n",
    "    \"aspect_ratio\",\n",
    "    \"std_curvature\",\n",
    "]\n",
    "marker_labels = [\n",
    "    r\"Nuclear volume in px$^3$\",\n",
    "    \"Relative HC/EC ratio\",\n",
    "    \"Concavity (3D)\",\n",
    "    \"Aspect ratio (2D)\",\n",
    "    \"Standard deviation of the curvature\",\n",
    "    \"Kurtosis of the DNA\\n intensity distribution (2D)\",\n",
    "]\n",
    "plot_ctrl_cancer_markers_dist(\n",
    "    data, markers, marker_labels, cut=0, palette=color_palette, plot_type=\"bar\"\n",
    ")"
   ]
  },
  {
   "cell_type": "code",
   "execution_count": null,
   "id": "medium-vermont",
   "metadata": {
    "scrolled": false
   },
   "outputs": [],
   "source": [
    "markers = [\n",
    "    \"volume\",\n",
    "    \"hetero_to_euchromatin_volume_ratio\",\n",
    "    \"concavity_3d\",\n",
    "]\n",
    "marker_labels = [\n",
    "    \"Nuclear volume\\n\" + r\"in px$^3$\",\n",
    "    \"HC/EC ratio\",\n",
    "    \"Concavity (3D)\",\n",
    "]\n",
    "fig, ax = plot_joint_markers_ctrl_cancer(\n",
    "    data,\n",
    "    markers,\n",
    "    marker_labels,\n",
    "    figsize=[5, 3],\n",
    "    cut=0,\n",
    "    palette=color_palette,\n",
    ")\n",
    "ax.set_ylabel(\"Normalized marker value\")\n",
    "ax.set_xlabel(\"Chrometric Marker\")\n",
    "sns.move_legend(\n",
    "    ax,\n",
    "    \"lower center\",\n",
    "    bbox_to_anchor=(0.5, 1),\n",
    "    ncol=2,\n",
    "    title=None,\n",
    "    frameon=False,\n",
    ")\n",
    "plt.show()"
   ]
  },
  {
   "cell_type": "code",
   "execution_count": null,
   "id": "completed-southeast",
   "metadata": {},
   "outputs": [],
   "source": [
    "markers = [\n",
    "    \"aspect_ratio\",\n",
    "    \"std_curvature\",\n",
    "]\n",
    "marker_labels = [\n",
    "    \"Aspect ratio (2D)\",\n",
    "    \"Standard deviation of the curvature\",\n",
    "]\n",
    "fig, ax = plot_joint_markers_ctrl_cancer(\n",
    "    data,\n",
    "    markers,\n",
    "    marker_labels,\n",
    "    figsize=[6, 4],\n",
    "    cut=0,\n",
    "    palette=color_palette,\n",
    ")\n",
    "ax.set_ylabel(\"Normalized marker value\")\n",
    "ax.set_xlabel(\"Chrometric Marker\")\n",
    "sns.move_legend(\n",
    "    ax,\n",
    "    \"lower center\",\n",
    "    bbox_to_anchor=(0.5, 1),\n",
    "    ncol=2,\n",
    "    title=None,\n",
    "    frameon=False,\n",
    ")\n",
    "plt.show()"
   ]
  },
  {
   "cell_type": "markdown",
   "id": "innocent-scratch",
   "metadata": {},
   "source": [
    "---\n",
    "\n",
    "### 3d. Proteomic differences of PBMCs in cancer"
   ]
  },
  {
   "cell_type": "markdown",
   "id": "chinese-family",
   "metadata": {},
   "source": [
    "Finally, we also assess the proteomic differences between the control and cancer populations. To this end, we plot the relative Lamin and gH2AX expression measured by the sum of the intensities of the corresponding imaging channels normalized by the nuclear volume. Additionally, we plot the number of identified gH2AX foci which are computed as the local maxima peaks found in the corresponding channel images."
   ]
  },
  {
   "cell_type": "markdown",
   "id": "reported-upgrade",
   "metadata": {},
   "source": [
    "Note that those features are only available for the first data set that was stained for those proteins."
   ]
  },
  {
   "cell_type": "code",
   "execution_count": null,
   "id": "closed-isaac",
   "metadata": {
    "scrolled": true
   },
   "outputs": [],
   "source": [
    "markers = [\n",
    "    \"rel_lamin_3d_int\",\n",
    "    \"rel_gh2ax_3d_int\",\n",
    "    \"gh2ax_foci_count\",\n",
    "    \"gh2ax_sum_foci_area\",\n",
    "    \"gh2ax_avg_foci_area\",\n",
    "]\n",
    "marker_labels = [\n",
    "    \"Volume-normalized nuclear\\nLamin A/C intensity\",\n",
    "    \"Normalized nuclear\\n\" r\"$\\gamma$H2AX intensity\",\n",
    "    r\"Number of $\\gamma$H2AX foci\",\n",
    "    r\"Sum of the $\\gamma$H2AX foci area\",\n",
    "    r\"Average size of the $\\gamma$H2AX foci\",\n",
    "]\n",
    "plot_ctrl_cancer_markers_dist(\n",
    "    data,\n",
    "    markers,\n",
    "    marker_labels,\n",
    "    quantiles=None,\n",
    "    cut=0,\n",
    "    plot_type=\"bar\",\n",
    "    palette=color_palette,\n",
    ")\n"
   ]
  },
  {
   "cell_type": "code",
   "execution_count": null,
   "id": "stupid-guidance",
   "metadata": {},
   "outputs": [],
   "source": [
    "markers = [\n",
    "    \"rel_lamin_3d_int\",\n",
    "    \"gh2ax_foci_count\",\n",
    "]\n",
    "marker_labels = [\n",
    "    \"Volume-normalized nuclear\\nLamin A/C intensity\",\n",
    "    r\"Number of $\\gamma$H2AX foci\",\n",
    "]\n",
    "fig, ax = plot_joint_markers_ctrl_cancer(\n",
    "    data,\n",
    "    markers,\n",
    "    marker_labels,\n",
    "    figsize=[5, 3],\n",
    "    cut=0,\n",
    "    plot_type=\"bar\",\n",
    "    palette=color_palette,\n",
    "    scale_to_control=True,\n",
    ")\n",
    "ax.set_ylabel(\"Normalized marker value\")\n",
    "ax.set_xlabel(\"Chrometric Marker\")\n",
    "ax.set_ylim([0, 2])\n",
    "sns.move_legend(\n",
    "    ax,\n",
    "    \"lower center\",\n",
    "    bbox_to_anchor=(0.5, 1),\n",
    "    ncol=2,\n",
    "    title=None,\n",
    "    frameon=False,\n",
    ")\n",
    "plt.show()"
   ]
  },
  {
   "cell_type": "markdown",
   "id": "suspended-andrew",
   "metadata": {},
   "source": [
    "---\n",
    "\n",
    "## 4. Supplemental"
   ]
  },
  {
   "cell_type": "code",
   "execution_count": null,
   "id": "northern-ordinary",
   "metadata": {},
   "outputs": [],
   "source": [
    "age_dict = {\n",
    "    \"hv1\": 24,\n",
    "    \"hv2\": 33,\n",
    "    \"hv3\": 42,\n",
    "    \"hv4\": 42,\n",
    "    \"hv5\": 60,\n",
    "    \"hv5\": 26,\n",
    "    \"hv6\": 60,\n",
    "    \"hv7\": 32,\n",
    "    \"hv8\": 28,\n",
    "    \"hv9\": 45,\n",
    "    \"hv10\": 35,\n",
    "}\n",
    "data[\"age\"] = data.loc[:, \"sample\"].map(age_dict)"
   ]
  },
  {
   "cell_type": "code",
   "execution_count": null,
   "id": "dominican-turning",
   "metadata": {},
   "outputs": [],
   "source": [
    "gender_dict = {\n",
    "    \"hv1\": \"male\",\n",
    "    \"hv2\": \"male\",\n",
    "    \"hv3\": \"female\",\n",
    "    \"hv4\": \"male\",\n",
    "    \"hv5\": \"male\",\n",
    "    \"hv6\": \"male\",\n",
    "    \"hv7\": \"male\",\n",
    "    \"hv8\": \"female\",\n",
    "    \"hv9\": \"female\",\n",
    "    \"hv10\": \"male\",\n",
    "}\n",
    "data[\"gender\"] = data.loc[:, \"sample\"].map(gender_dict)"
   ]
  },
  {
   "cell_type": "code",
   "execution_count": null,
   "id": "pretty-stretch",
   "metadata": {},
   "outputs": [],
   "source": [
    "data.groupby([\"sample\", \"age\"]).mean().loc[\n",
    "    :, [\"gh2ax_foci_count\", \"gh2ax_sum_foci_area\", \"gh2ax_avg_foci_area\"]\n",
    "]"
   ]
  },
  {
   "cell_type": "code",
   "execution_count": null,
   "id": "promising-directive",
   "metadata": {},
   "outputs": [],
   "source": [
    "data.groupby([\"sample\", \"age\"]).std().loc[\n",
    "    :, [\"gh2ax_foci_count\", \"gh2ax_sum_foci_area\", \"gh2ax_avg_foci_area\"]\n",
    "]"
   ]
  },
  {
   "cell_type": "code",
   "execution_count": null,
   "id": "focused-identifier",
   "metadata": {},
   "outputs": [],
   "source": [
    "data[\"age_group\"] = \"younger than 35\"\n",
    "data.loc[data.age > 44, \"age_group\"] = \"older than 35\"\n",
    "\n",
    "sns.lineplot(data=data, x=\"age\", y=\"gh2ax_foci_count\")"
   ]
  },
  {
   "cell_type": "code",
   "execution_count": null,
   "id": "expanded-bankruptcy",
   "metadata": {},
   "outputs": [],
   "source": [
    "sns.lineplot(data=data, x=\"age\", y=\"gh2ax_sum_foci_area\")"
   ]
  },
  {
   "cell_type": "code",
   "execution_count": null,
   "id": "positive-shipping",
   "metadata": {},
   "outputs": [],
   "source": [
    "sns.lineplot(data=data, x=\"age\", y=\"gh2ax_avg_foci_area\")"
   ]
  },
  {
   "cell_type": "code",
   "execution_count": null,
   "id": "wireless-award",
   "metadata": {},
   "outputs": [],
   "source": [
    "ax = sns.violinplot(data=data, x=\"gender\", y=\"gh2ax_foci_count\")\n",
    "annotator = Annotator(\n",
    "    ax,\n",
    "    [(\"male\", \"female\")],\n",
    "    data=data,\n",
    "    x=\"gender\",\n",
    "    y=\"gh2ax_foci_count\",\n",
    "    plot=\"violinplot\",\n",
    ")\n",
    "annotator.configure(\n",
    "    test=\"Mann-Whitney\",\n",
    "    text_format=\"star\",\n",
    "    loc=\"inside\",\n",
    "    comparisons_correction=\"Benjamini-Hochberg\",\n",
    ")\n",
    "annotator.apply_test()\n",
    "annotator.annotate()"
   ]
  },
  {
   "cell_type": "code",
   "execution_count": null,
   "id": "seasonal-activation",
   "metadata": {},
   "outputs": [],
   "source": []
  }
 ],
 "metadata": {
  "kernelspec": {
   "display_name": "Python 3",
   "language": "python",
   "name": "python3"
  },
  "language_info": {
   "codemirror_mode": {
    "name": "ipython",
    "version": 3
   },
   "file_extension": ".py",
   "mimetype": "text/x-python",
   "name": "python",
   "nbconvert_exporter": "python",
   "pygments_lexer": "ipython3",
   "version": "3.8.0"
  },
  "toc": {
   "base_numbering": 1,
   "nav_menu": {},
   "number_sections": true,
   "sideBar": true,
   "skip_h1_title": false,
   "title_cell": "Table of Contents",
   "title_sidebar": "Contents",
   "toc_cell": false,
   "toc_position": {},
   "toc_section_display": true,
   "toc_window_display": false
  }
 },
 "nbformat": 4,
 "nbformat_minor": 5
}
