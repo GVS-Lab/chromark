{
 "cells": [
  {
   "cell_type": "markdown",
   "id": "indian-simon",
   "metadata": {},
   "source": [
    "# Nuclear chromatin phenotypes of PBMCs reflects the treatment effect of proton therapy (all cancers)\n",
    "\n",
    "---\n",
    "This notebook summarizes the analysis corresponding to the results presented in figure 4 of the paper for all cancer patients. It can be used to rerun the analysis and regenerate the corresponding panels.\n",
    "\n",
    "---"
   ]
  },
  {
   "cell_type": "markdown",
   "id": "metric-fusion",
   "metadata": {},
   "source": [
    "## 0. Environmental setup"
   ]
  },
  {
   "cell_type": "code",
   "execution_count": null,
   "id": "renewable-magic",
   "metadata": {},
   "outputs": [],
   "source": [
    "import pandas as pd\n",
    "import numpy as np\n",
    "import seaborn as sns\n",
    "import random\n",
    "import os\n",
    "import matplotlib.pyplot as plt\n",
    "from sklearn.ensemble import RandomForestClassifier\n",
    "import matplotlib as mpl\n",
    "from matplotlib.collections import PolyCollection\n",
    "from matplotlib.legend_handler import HandlerTuple\n",
    "from matplotlib.colors import to_rgb\n",
    "from sklearn.model_selection import StratifiedGroupKFold, cross_val_score\n",
    "\n",
    "mpl.rcParams[\"figure.dpi\"] = 1200\n",
    "\n",
    "# SMALL_SIZE = 16\n",
    "# MEDIUM_SIZE = 18\n",
    "# BIGGER_SIZE = 20\n",
    "\n",
    "# mpl.rc(\"font\", size=SMALL_SIZE, weight=\"normal\")  # controls default text sizes\n",
    "# mpl.rc(\"axes\", titlesize=SMALL_SIZE)  # fontsize of the axes title\n",
    "# mpl.rc(\"axes\", labelsize=MEDIUM_SIZE)  # fontsize of the x and y labels\n",
    "# mpl.rc(\"xtick\", labelsize=SMALL_SIZE)  # fontsize of the tick labels\n",
    "# mpl.rc(\"ytick\", labelsize=SMALL_SIZE)  # fontsize of the tick labels\n",
    "# mpl.rc(\"legend\", fontsize=SMALL_SIZE)  # legend fontsize\n",
    "# mpl.rc(\"figure\", titlesize=BIGGER_SIZE)  # fontsize of the figure title\n",
    "\n",
    "import sys\n",
    "\n",
    "sys.path.append(\"../..\")\n",
    "from src.utils.notebooks.eda import *\n",
    "from src.utils.notebooks.figure3 import *\n",
    "from sklearn.discriminant_analysis import LinearDiscriminantAnalysis\n",
    "\n",
    "seed = 1234\n",
    "random.seed(1234)\n",
    "np.random.seed(1234)\n",
    "\n",
    "%reload_ext nb_black"
   ]
  },
  {
   "cell_type": "code",
   "execution_count": null,
   "id": "deluxe-jackson",
   "metadata": {},
   "outputs": [],
   "source": [
    "nuc_feature_desc = pd.read_csv(\n",
    "    \"../../data/chrometric_feature_description.csv\", index_col=0\n",
    ")\n",
    "feature_name_dict = dict(\n",
    "    zip(\n",
    "        list(nuc_feature_desc.loc[:, \"feature\"]),\n",
    "        list(nuc_feature_desc.loc[:, \"long_name\"]),\n",
    "    )\n",
    ")\n",
    "feature_color_dict = {\n",
    "    \"morphology\": \"b\",\n",
    "    \"intensity\": \"g\",\n",
    "    \"boundary\": \"r\",\n",
    "    \"texture\": \"c\",\n",
    "    \"chromatin condensation\": \"m\",\n",
    "    \"moments\": \"y\",\n",
    "    np.nan: \"k\",\n",
    "}\n",
    "feature_color_dict = {\n",
    "    feature: feature_color_dict[category]\n",
    "    for (feature, category) in zip(\n",
    "        list(nuc_feature_desc.loc[:, \"long_name\"]),\n",
    "        list(nuc_feature_desc.loc[:, \"category\"]),\n",
    "    )\n",
    "}"
   ]
  },
  {
   "cell_type": "code",
   "execution_count": null,
   "id": "frank-approval",
   "metadata": {},
   "outputs": [],
   "source": [
    "def plot_timepoint_cancer_markers_dist(\n",
    "    data,\n",
    "    markers,\n",
    "    marker_labels,\n",
    "    quantiles=None,\n",
    "    cut=2,\n",
    "    plot_type=\"violin\",\n",
    "    palette=None,\n",
    "    figsize=[4, 4],\n",
    "    hue=None,\n",
    "    hue_order=None,\n",
    "):\n",
    "    mg_colors = [\"lightsteelblue\", \"royalblue\", \"midnightblue\"]\n",
    "    gl_colors = [\"orange\", \"gold\", \"saddlebrown\"]\n",
    "    hn_colors = [\"plum\", \"deeppink\", \"indigo\"]\n",
    "\n",
    "    violin_all_colors = mg_colors + gl_colors + hn_colors\n",
    "    bar_all_colors = []\n",
    "    for i in range(3):\n",
    "        bar_all_colors.append(mg_colors[i])\n",
    "        bar_all_colors.append(gl_colors[i])\n",
    "        bar_all_colors.append(hn_colors[i])\n",
    "\n",
    "    for i in range(len(markers)):\n",
    "        fig, ax = plot_marker_distribution(\n",
    "            data,\n",
    "            figsize=figsize,\n",
    "            marker=markers[i],\n",
    "            label_col=\"cancer\",\n",
    "            order=[\"Meningioma\", \"Glioma\", \"Head & Neck\"],\n",
    "            box_pairs=[\n",
    "                ((\"Meningioma\", \"prior\"), (\"Meningioma\", \"during\")),\n",
    "                ((\"Meningioma\", \"prior\"), (\"Meningioma\", \"end\")),\n",
    "                ((\"Meningioma\", \"during\"), (\"Meningioma\", \"end\")),\n",
    "                ((\"Glioma\", \"prior\"), (\"Glioma\", \"during\")),\n",
    "                ((\"Glioma\", \"prior\"), (\"Glioma\", \"end\")),\n",
    "                ((\"Glioma\", \"during\"), (\"Glioma\", \"end\")),\n",
    "                ((\"Head & Neck\", \"prior\"), (\"Head & Neck\", \"during\")),\n",
    "                ((\"Head & Neck\", \"prior\"), (\"Head & Neck\", \"end\")),\n",
    "                ((\"Head & Neck\", \"during\"), (\"Head & Neck\", \"end\")),\n",
    "            ],\n",
    "            quantiles=quantiles,\n",
    "            cut=cut,\n",
    "            plot_type=plot_type,\n",
    "            palette=\"gray\",\n",
    "            hue=\"timepoint\",\n",
    "            hue_order=[\"prior\", \"during\", \"end\"],\n",
    "        )\n",
    "        ax.set_xlabel(\"Cancer type\")\n",
    "        ax.set_ylabel(marker_labels[i])\n",
    "\n",
    "        for label in ax.get_xticklabels():\n",
    "            label.set_fontweight(\"bold\")\n",
    "\n",
    "        handles = []\n",
    "        if plot_type == \"violin\":\n",
    "            for ind, obj in enumerate(ax.findobj(PolyCollection)):\n",
    "                rgb = to_rgb(violin_all_colors[ind])\n",
    "                obj.set_facecolor(rgb)\n",
    "                handles.append(\n",
    "                    plt.Rectangle((0, 0), 0, 0, facecolor=rgb, edgecolor=\"black\")\n",
    "                )\n",
    "        elif plot_type == \"bar\":\n",
    "            for ind, bar in enumerate(ax.patches):\n",
    "                rgb = to_rgb(bar_all_colors[ind])\n",
    "                bar.set_color(rgb)\n",
    "                handles_color = to_rgb(violin_all_colors[ind])\n",
    "                handles.append(\n",
    "                    plt.Rectangle(\n",
    "                        (0, 0), 0, 0, facecolor=handles_color, edgecolor=\"black\"\n",
    "                    )\n",
    "                )\n",
    "        else:\n",
    "            raise NotImplementedError\n",
    "\n",
    "        ax.legend(\n",
    "            handles=[tuple(handles[::3]), tuple(handles[1::3]), tuple(handles[2::3])],\n",
    "            labels=tp_order,\n",
    "            title=None,\n",
    "            handlelength=4,\n",
    "            handler_map={tuple: HandlerTuple(ndivide=None, pad=0)},\n",
    "            loc=\"lower center\",\n",
    "            borderaxespad=0,\n",
    "            bbox_to_anchor=(0.5, 1),\n",
    "            ncol=3,\n",
    "            frameon=False,\n",
    "            prop={\"size\": 20, \"weight\": \"bold\"},\n",
    "        )\n",
    "        plt.show()\n",
    "        plt.close()"
   ]
  },
  {
   "cell_type": "code",
   "execution_count": null,
   "id": "front-miniature",
   "metadata": {},
   "outputs": [],
   "source": [
    "color_palette = {\n",
    "    \"Meningioma\": \"cornflowerblue\",\n",
    "    \"Glioma\": \"orange\",\n",
    "    \"Head & Neck\": \"orchid\",\n",
    "}"
   ]
  },
  {
   "cell_type": "code",
   "execution_count": null,
   "id": "existing-concord",
   "metadata": {},
   "outputs": [],
   "source": [
    "mg_colors = [\"lightsteelblue\", \"royalblue\", \"midnightblue\"]\n",
    "gl_colors = [\"orange\", \"gold\", \"saddlebrown\"]\n",
    "hn_colors = [\"plum\", \"deeppink\", \"indigo\"]"
   ]
  },
  {
   "cell_type": "markdown",
   "id": "twenty-hebrew",
   "metadata": {},
   "source": [
    "---\n",
    "\n",
    "## 1. Read in data"
   ]
  },
  {
   "cell_type": "markdown",
   "id": "rocky-equivalent",
   "metadata": {},
   "source": [
    "In this notebook we assess the differences of the cell states of PBMCs at three different time points of the proton therapy treatment: before, during (~3 weeks in) and at the end of the treatment (final week of treatment). To this end, we obtained PBMCs of 8 Meningioma, 8 Glioma and 6 Head & Neck cancer patients stained them for DNA, gH2AX and Lamin A/C and obtained fluorescent images."
   ]
  },
  {
   "cell_type": "markdown",
   "id": "front-software",
   "metadata": {},
   "source": [
    "First, we read in the required data set that describe each PBMCs by a number of hand-crafted features extracted from the fluorescent images of the cells."
   ]
  },
  {
   "cell_type": "markdown",
   "id": "biological-catering",
   "metadata": {},
   "source": [
    "#### Meningioma"
   ]
  },
  {
   "cell_type": "code",
   "execution_count": null,
   "id": "honest-banana",
   "metadata": {},
   "outputs": [],
   "source": [
    "mg_tp1_root_data_dir = \"../../data/meningioma/proteins/timepoint_1\"\n",
    "feature_file_path = \"/preprocessed/full_pipeline/nuclear_features.csv\"\n",
    "qc_result_file_path = \"/preprocessed/full_pipeline/segmentation/qc_results.csv\"\n",
    "gh2ax_foci_result_file_path = \"/preprocessed/full_pipeline/gh2ax_foci_feats.csv\""
   ]
  },
  {
   "cell_type": "code",
   "execution_count": null,
   "id": "preceding-queue",
   "metadata": {},
   "outputs": [],
   "source": [
    "mg_tp1_data = read_in_protein_dataset(\n",
    "    data_dir=mg_tp1_root_data_dir,\n",
    "    feature_file_path=feature_file_path,\n",
    "    qc_result_file_path=qc_result_file_path,\n",
    "    gh2ax_foci_result_file_path=gh2ax_foci_result_file_path,\n",
    ")\n",
    "mg_tp1_data[\"id\"] = mg_tp1_data[\"sample\"] + mg_tp1_data[\"timepoint\"]\n",
    "mg_tp1_data[\"timepoint\"] = \"prior\"\n",
    "mg_tp1_data[\"cancer\"] = \"Meningioma\"\n",
    "mg_tp1_data[\"file_name\"] = np.array(list(mg_tp1_data.index))"
   ]
  },
  {
   "cell_type": "code",
   "execution_count": null,
   "id": "chemical-kitchen",
   "metadata": {},
   "outputs": [],
   "source": [
    "mg_tp2_root_data_dir = \"../../data/meningioma/proteins/timepoint_2\"\n",
    "\n",
    "mg_tp2_data = read_in_protein_dataset(\n",
    "    data_dir=mg_tp2_root_data_dir,\n",
    "    feature_file_path=feature_file_path,\n",
    "    qc_result_file_path=qc_result_file_path,\n",
    "    gh2ax_foci_result_file_path=gh2ax_foci_result_file_path,\n",
    ")\n",
    "mg_tp2_data[\"id\"] = mg_tp2_data[\"sample\"] + mg_tp2_data[\"timepoint\"]\n",
    "mg_tp2_data[\"timepoint\"] = \"during\"\n",
    "mg_tp2_data[\"cancer\"] = \"Meningioma\"\n",
    "mg_tp2_data[\"file_name\"] = np.array(list(mg_tp2_data.index))"
   ]
  },
  {
   "cell_type": "code",
   "execution_count": null,
   "id": "swedish-catalyst",
   "metadata": {},
   "outputs": [],
   "source": [
    "mg_tp3_root_data_dir = \"../../data/meningioma/proteins/timepoint_3\"\n",
    "\n",
    "mg_tp3_data = read_in_protein_dataset(\n",
    "    data_dir=mg_tp3_root_data_dir,\n",
    "    feature_file_path=feature_file_path,\n",
    "    qc_result_file_path=qc_result_file_path,\n",
    "    gh2ax_foci_result_file_path=gh2ax_foci_result_file_path,\n",
    ")\n",
    "mg_tp3_data[\"id\"] = mg_tp3_data[\"sample\"] + mg_tp3_data[\"timepoint\"]\n",
    "mg_tp3_data[\"timepoint\"] = \"end\"\n",
    "mg_tp3_data[\"cancer\"] = \"Meningioma\"\n",
    "mg_tp3_data[\"file_name\"] = np.array(list(mg_tp3_data.index))"
   ]
  },
  {
   "cell_type": "markdown",
   "id": "horizontal-request",
   "metadata": {},
   "source": [
    "---\n",
    "\n",
    "#### Glioma"
   ]
  },
  {
   "cell_type": "code",
   "execution_count": null,
   "id": "secure-magic",
   "metadata": {},
   "outputs": [],
   "source": [
    "gl_tp1_root_data_dir = \"../../data/glioma/proteins/timepoint_1\"\n",
    "\n",
    "gl_tp1_data = read_in_protein_dataset(\n",
    "    data_dir=gl_tp1_root_data_dir,\n",
    "    feature_file_path=feature_file_path,\n",
    "    qc_result_file_path=qc_result_file_path,\n",
    "    gh2ax_foci_result_file_path=gh2ax_foci_result_file_path,\n",
    ")\n",
    "gl_tp1_data[\"id\"] = gl_tp1_data[\"sample\"] + gl_tp1_data[\"timepoint\"]\n",
    "gl_tp1_data[\"timepoint\"] = \"prior\"\n",
    "gl_tp1_data[\"cancer\"] = \"Glioma\"\n",
    "gl_tp1_data[\"file_name\"] = np.array(list(gl_tp1_data.index))"
   ]
  },
  {
   "cell_type": "code",
   "execution_count": null,
   "id": "binding-experiment",
   "metadata": {},
   "outputs": [],
   "source": [
    "gl_tp2_root_data_dir = \"../../data/glioma/proteins/timepoint_2\"\n",
    "\n",
    "gl_tp2_data = read_in_protein_dataset(\n",
    "    data_dir=gl_tp2_root_data_dir,\n",
    "    feature_file_path=feature_file_path,\n",
    "    qc_result_file_path=qc_result_file_path,\n",
    "    gh2ax_foci_result_file_path=gh2ax_foci_result_file_path,\n",
    ")\n",
    "gl_tp2_data[\"id\"] = gl_tp2_data[\"sample\"] + gl_tp2_data[\"timepoint\"]\n",
    "gl_tp2_data[\"timepoint\"] = \"during\"\n",
    "gl_tp2_data[\"cancer\"] = \"Glioma\"\n",
    "gl_tp2_data[\"file_name\"] = np.array(list(gl_tp2_data.index))"
   ]
  },
  {
   "cell_type": "code",
   "execution_count": null,
   "id": "blessed-regular",
   "metadata": {},
   "outputs": [],
   "source": [
    "gl_tp3_root_data_dir = \"../../data/glioma/proteins/timepoint_3\"\n",
    "\n",
    "gl_tp3_data = read_in_protein_dataset(\n",
    "    data_dir=gl_tp3_root_data_dir,\n",
    "    feature_file_path=feature_file_path,\n",
    "    qc_result_file_path=qc_result_file_path,\n",
    "    gh2ax_foci_result_file_path=gh2ax_foci_result_file_path,\n",
    ")\n",
    "gl_tp3_data[\"id\"] = gl_tp3_data[\"sample\"] + gl_tp3_data[\"timepoint\"]\n",
    "gl_tp3_data[\"timepoint\"] = \"end\"\n",
    "gl_tp3_data[\"cancer\"] = \"Glioma\"\n",
    "gl_tp3_data[\"file_name\"] = np.array(list(gl_tp3_data.index))"
   ]
  },
  {
   "cell_type": "markdown",
   "id": "palestinian-romania",
   "metadata": {},
   "source": [
    "---\n",
    "\n",
    "#### Head & Neck cancers"
   ]
  },
  {
   "cell_type": "code",
   "execution_count": null,
   "id": "satisfactory-facing",
   "metadata": {},
   "outputs": [],
   "source": [
    "hn_tp1_root_data_dir = \"../../data/headneck/proteins/timepoint_1\"\n",
    "\n",
    "hn_tp1_data = read_in_protein_dataset(\n",
    "    data_dir=hn_tp1_root_data_dir,\n",
    "    feature_file_path=feature_file_path,\n",
    "    qc_result_file_path=qc_result_file_path,\n",
    "    gh2ax_foci_result_file_path=gh2ax_foci_result_file_path,\n",
    ")\n",
    "hn_tp1_data[\"id\"] = hn_tp1_data[\"sample\"] + hn_tp1_data[\"timepoint\"]\n",
    "hn_tp1_data[\"timepoint\"] = \"prior\"\n",
    "hn_tp1_data[\"cancer\"] = \"Head & Neck\"\n",
    "hn_tp1_data[\"file_name\"] = np.array(list(hn_tp1_data.index))"
   ]
  },
  {
   "cell_type": "code",
   "execution_count": null,
   "id": "qualified-watershed",
   "metadata": {},
   "outputs": [],
   "source": [
    "hn_tp2_root_data_dir = \"../../data/headneck/proteins/timepoint_2\"\n",
    "\n",
    "hn_tp2_data = read_in_protein_dataset(\n",
    "    data_dir=hn_tp2_root_data_dir,\n",
    "    feature_file_path=feature_file_path,\n",
    "    qc_result_file_path=qc_result_file_path,\n",
    "    gh2ax_foci_result_file_path=gh2ax_foci_result_file_path,\n",
    ")\n",
    "hn_tp2_data[\"id\"] = hn_tp2_data[\"sample\"] + hn_tp2_data[\"timepoint\"]\n",
    "hn_tp2_data[\"timepoint\"] = \"during\"\n",
    "hn_tp2_data[\"cancer\"] = \"Head & Neck\"\n",
    "hn_tp2_data[\"file_name\"] = np.array(list(hn_tp2_data.index))"
   ]
  },
  {
   "cell_type": "code",
   "execution_count": null,
   "id": "durable-batch",
   "metadata": {},
   "outputs": [],
   "source": [
    "hn_tp3_root_data_dir = \"../../data/headneck/proteins/timepoint_3\"\n",
    "\n",
    "hn_tp3_data = read_in_protein_dataset(\n",
    "    data_dir=hn_tp3_root_data_dir,\n",
    "    feature_file_path=feature_file_path,\n",
    "    qc_result_file_path=qc_result_file_path,\n",
    "    gh2ax_foci_result_file_path=gh2ax_foci_result_file_path,\n",
    ")\n",
    "hn_tp3_data[\"id\"] = hn_tp3_data[\"sample\"] + hn_tp3_data[\"timepoint\"]\n",
    "hn_tp3_data[\"timepoint\"] = \"end\"\n",
    "hn_tp3_data[\"cancer\"] = \"Head & Neck\"\n",
    "hn_tp3_data[\"file_name\"] = np.array(list(hn_tp3_data.index))"
   ]
  },
  {
   "cell_type": "markdown",
   "id": "figured-retirement",
   "metadata": {},
   "source": [
    "---\n",
    "\n",
    "## 2. Data preprocessing"
   ]
  },
  {
   "cell_type": "markdown",
   "id": "jewish-saint",
   "metadata": {},
   "source": [
    "Before we analyze the data, we will first preprocess it."
   ]
  },
  {
   "cell_type": "markdown",
   "id": "meaning-subscriber",
   "metadata": {},
   "source": [
    "To this end, we first remove features with missing values and samples with missing features."
   ]
  },
  {
   "cell_type": "code",
   "execution_count": null,
   "id": "coupled-wealth",
   "metadata": {},
   "outputs": [],
   "source": [
    "mg_tp1_data = preprocess_data(mg_tp1_data, remove_constant_features=False)\n",
    "mg_tp2_data = preprocess_data(mg_tp2_data, remove_constant_features=False)\n",
    "mg_tp3_data = preprocess_data(mg_tp3_data, remove_constant_features=False)\n",
    "\n",
    "gl_tp1_data = preprocess_data(gl_tp1_data, remove_constant_features=False)\n",
    "gl_tp2_data = preprocess_data(gl_tp2_data, remove_constant_features=False)\n",
    "gl_tp3_data = preprocess_data(gl_tp3_data, remove_constant_features=False)\n",
    "\n",
    "hn_tp1_data = preprocess_data(hn_tp1_data, remove_constant_features=False)\n",
    "hn_tp2_data = preprocess_data(hn_tp2_data, remove_constant_features=False)\n",
    "hn_tp3_data = preprocess_data(hn_tp3_data, remove_constant_features=False)\n",
    "\n",
    "all_data = (\n",
    "    mg_tp1_data.append(gl_tp1_data)\n",
    "    .append(hn_tp1_data)\n",
    "    .append(mg_tp2_data)\n",
    "    .append(gl_tp2_data)\n",
    "    .append(hn_tp2_data)\n",
    "    .append(gl_tp3_data)\n",
    "    .append(hn_tp3_data)\n",
    "    .append(mg_tp3_data)\n",
    ")\n",
    "\n",
    "all_data.index = all_data[\"id\"] + \"_\" + all_data.index"
   ]
  },
  {
   "cell_type": "code",
   "execution_count": null,
   "id": "organizational-credits",
   "metadata": {},
   "outputs": [],
   "source": [
    "all_data = all_data.rename(columns=feature_name_dict)"
   ]
  },
  {
   "cell_type": "markdown",
   "id": "collaborative-entity",
   "metadata": {},
   "source": [
    "We remove any duplicates."
   ]
  },
  {
   "cell_type": "code",
   "execution_count": null,
   "id": "comparative-turning",
   "metadata": {},
   "outputs": [],
   "source": [
    "all_data = all_data.loc[~all_data.duplicated()]"
   ]
  },
  {
   "cell_type": "code",
   "execution_count": null,
   "id": "valued-tuition",
   "metadata": {},
   "outputs": [],
   "source": [
    "fig, ax = plt.subplots(figsize=[12, 4], ncols=2)\n",
    "tp_order = [\"prior\", \"during\", \"end\"]\n",
    "sample_order = np.unique(all_data.loc[:, \"sample\"])\n",
    "ax = ax.flatten()\n",
    "ax[0] = sns.countplot(\n",
    "    x=\"sample\",\n",
    "    data=all_data,\n",
    "    ax=ax[0],\n",
    "    order=sample_order,\n",
    "    hue_order=tp_order,\n",
    "    hue=\"timepoint\",\n",
    "    palette=\"gray\",\n",
    ")\n",
    "ax[0].legend([], [], frameon=False)\n",
    "ax[0].set_xlabel(\"ID of the biological sample\")\n",
    "ax[0].set_title(\"Distribution of biological samples\")\n",
    "for tick in ax[0].get_xticklabels():\n",
    "    tick.set_rotation(90)\n",
    "\n",
    "ax[1] = sns.countplot(\n",
    "    x=\"timepoint\",\n",
    "    hue=\"timepoint\",\n",
    "    data=all_data,\n",
    "    ax=ax[1],\n",
    "    order=tp_order,\n",
    "    dodge=False,\n",
    "    palette=\"gray\",\n",
    ")\n",
    "ax[1].set_xlabel(\"Timepoint with respect to the treatment\")\n",
    "ax[1].set_title(\"Distribution of the different timepoints\")\n",
    "ax[1].legend(loc=\"lower right\")\n",
    "\n",
    "plt.show()\n",
    "plt.close()"
   ]
  },
  {
   "cell_type": "markdown",
   "id": "surprised-ghana",
   "metadata": {},
   "source": [
    "___"
   ]
  },
  {
   "cell_type": "markdown",
   "id": "intermediate-schema",
   "metadata": {},
   "source": [
    "#### Subsampling\n",
    "\n",
    "We next subsample the data set such that for each timepoint we have the same number of nuclei in the data set. Additionally, we ensure that the individual timepoint population are approximately uniformly represented by the different biological (patient) samples."
   ]
  },
  {
   "cell_type": "code",
   "execution_count": null,
   "id": "novel-qualification",
   "metadata": {},
   "outputs": [],
   "source": [
    "sampled_data = get_stratified_data(\n",
    "    all_data, id_column=\"id\", cond_column=\"timepoint\", seed=1234\n",
    ")"
   ]
  },
  {
   "cell_type": "code",
   "execution_count": null,
   "id": "opponent-snake",
   "metadata": {},
   "outputs": [],
   "source": [
    "fig, ax = plt.subplots(figsize=[18, 4], ncols=3)\n",
    "tp_order = [\"prior\", \"during\", \"end\"]\n",
    "cancer_order = [\"Meningioma\", \"Glioma\", \"Head & Neck\"]\n",
    "sample_order = np.unique(all_data.loc[:, \"sample\"])\n",
    "ax = ax.flatten()\n",
    "ax[0] = sns.countplot(\n",
    "    x=\"sample\",\n",
    "    data=sampled_data,\n",
    "    ax=ax[0],\n",
    "    order=sample_order,\n",
    "    hue_order=tp_order,\n",
    "    hue=\"timepoint\",\n",
    "    palette=\"gray\",\n",
    ")\n",
    "ax[0].legend([], [], frameon=False)\n",
    "ax[0].set_xlabel(\"ID of the biological sample\")\n",
    "ax[0].set_title(\"Distribution of biological samples\")\n",
    "for tick in ax[0].get_xticklabels():\n",
    "    tick.set_rotation(90)\n",
    "\n",
    "ax[1] = sns.countplot(\n",
    "    x=\"timepoint\",\n",
    "    hue=\"timepoint\",\n",
    "    data=sampled_data,\n",
    "    ax=ax[1],\n",
    "    order=tp_order,\n",
    "    hue_order=tp_order,\n",
    "    dodge=False,\n",
    "    palette=\"gray\",\n",
    ")\n",
    "ax[1].set_xlabel(\"Timepoint with respect to the treatment\")\n",
    "ax[1].set_title(\"Distribution of the different timepoints\")\n",
    "ax[1].legend(loc=\"lower right\")\n",
    "\n",
    "ax[2] = sns.countplot(\n",
    "    x=\"cancer\",\n",
    "    hue=\"cancer\",\n",
    "    data=sampled_data,\n",
    "    ax=ax[2],\n",
    "    order=cancer_order,\n",
    "    hue_order=cancer_order,\n",
    "    dodge=False,\n",
    "    palette=color_palette,\n",
    ")\n",
    "ax[2].set_xlabel(\"Cancer type\")\n",
    "ax[2].set_title(\"Distribution of the different cancer types\")\n",
    "ax[2].legend(loc=\"lower right\")\n",
    "\n",
    "plt.show()\n",
    "plt.close()"
   ]
  },
  {
   "cell_type": "markdown",
   "id": "handled-transport",
   "metadata": {},
   "source": [
    "----\n",
    "\n",
    "#### Sample and feature selection\n",
    "\n",
    "We now filter out constant features and nuclei with missing features."
   ]
  },
  {
   "cell_type": "code",
   "execution_count": null,
   "id": "opening-combination",
   "metadata": {},
   "outputs": [],
   "source": [
    "data = preprocess_data(sampled_data, remove_constant_features=True)"
   ]
  },
  {
   "cell_type": "markdown",
   "id": "congressional-dutch",
   "metadata": {},
   "source": [
    "---\n",
    "\n",
    "#### Data preparation\n",
    "\n",
    "After sampling the data, we will now prepare the data for the consecutive analysis, i.e. extracting only chrometric features and corresponding metadata information."
   ]
  },
  {
   "cell_type": "code",
   "execution_count": null,
   "id": "crazy-sally",
   "metadata": {},
   "outputs": [],
   "source": [
    "all_chrometric_data = get_chrometric_data(\n",
    "    data,\n",
    "    proteins=[\"gh2ax\", \"lamin\", \"cd3\"],\n",
    "    exclude_dna_int=True,\n",
    ")\n",
    "\n",
    "sample_labels = data.loc[:, \"sample\"]\n",
    "tp_labels = data.loc[:, \"timepoint\"]\n",
    "cancer_labels = data.loc[:, \"cancer\"]"
   ]
  },
  {
   "cell_type": "markdown",
   "id": "frank-stretch",
   "metadata": {},
   "source": [
    "Finally, we remove highly correlated features (Pearson $\\rho > 0.8$) from the chrometric features."
   ]
  },
  {
   "cell_type": "code",
   "execution_count": null,
   "id": "completed-output",
   "metadata": {},
   "outputs": [],
   "source": [
    "chrometric_data = remove_correlated_features(all_chrometric_data, threshold=0.8)"
   ]
  },
  {
   "cell_type": "markdown",
   "id": "published-utilization",
   "metadata": {},
   "source": [
    "---\n",
    "\n",
    "## 3. Panels\n",
    "\n",
    "Now we generate the individual panels for figure 4 of the paper."
   ]
  },
  {
   "cell_type": "markdown",
   "id": "apart-atmosphere",
   "metadata": {},
   "source": [
    "---\n",
    "\n",
    "### 3b. Parametric analysis captures captures differences of PBMCs at different timepoints of the proton therapy treatment"
   ]
  },
  {
   "cell_type": "markdown",
   "id": "olympic-organ",
   "metadata": {},
   "source": [
    "The montage already indicate significant changes in particular between the chrometric pheontype of the PBMCs prior the treatment and the end of it. We will now turn to the assessment of the parametric descriptions of the nuclear phenotypes of the PBMCs at those different timepoints. To this end, we first visualize the data set using a tSNE plot to assess potential large-scale differences between the timepoint populations and individual patient samples."
   ]
  },
  {
   "cell_type": "code",
   "execution_count": null,
   "id": "crude-palestine",
   "metadata": {},
   "outputs": [],
   "source": [
    "chrometric_embs = get_tsne_embs(chrometric_data)\n",
    "chrometric_embs[\"timepoint\"] = np.array(tp_labels)\n",
    "chrometric_embs[\"sample\"] = np.array(sample_labels)\n",
    "chrometric_embs[\"cancer\"] = np.array(cancer_labels)"
   ]
  },
  {
   "cell_type": "code",
   "execution_count": null,
   "id": "juvenile-charge",
   "metadata": {},
   "outputs": [],
   "source": [
    "fig, ax = plt.subplots(figsize=[18, 16])\n",
    "ax = sns.scatterplot(\n",
    "    data=chrometric_embs,\n",
    "    x=\"tSNE 1\",\n",
    "    y=\"tSNE 2\",\n",
    "    hue=\"cancer\",\n",
    "    hue_order=cancer_order,\n",
    "    ax=ax,\n",
    "    s=15,\n",
    "    style=\"timepoint\",\n",
    "    style_order=tp_order,\n",
    "    palette=color_palette,\n",
    ")\n",
    "ax.set_xlim([-50, 50])\n",
    "ax.set_ylim([-55, 55])\n",
    "plt.show()"
   ]
  },
  {
   "cell_type": "markdown",
   "id": "grand-elevation",
   "metadata": {},
   "source": [
    "Note that the above plot excluds one outlier for better visualization."
   ]
  },
  {
   "cell_type": "code",
   "execution_count": null,
   "id": "sharing-leader",
   "metadata": {},
   "outputs": [],
   "source": [
    "fig, ax = plt.subplots(figsize=[18, 16])\n",
    "ax = sns.scatterplot(\n",
    "    data=chrometric_embs,\n",
    "    x=\"tSNE 1\",\n",
    "    y=\"tSNE 2\",\n",
    "    hue=\"sample\",\n",
    "    style=\"timepoint\",\n",
    "    style_order=tp_order,\n",
    "    hue_order=sample_order,\n",
    "    ax=ax,\n",
    "    s=15,\n",
    "    marker=\"o\",\n",
    "    palette=\"tab20\",\n",
    ")\n",
    "ax.set_xlim([-50, 50])\n",
    "ax.set_ylim([-55, 55])\n",
    "plt.legend(\n",
    "    bbox_to_anchor=(1.02, 0.5), loc=\"center left\", borderaxespad=0, title=\"sample\"\n",
    ")\n",
    "plt.show()"
   ]
  },
  {
   "cell_type": "markdown",
   "id": "official-ottawa",
   "metadata": {},
   "source": [
    "The tSNE plot also shows that especially the chrometric phenotypes of the PBMCs at the intermediate timepoint of the proton therapy look different from the prior and the end of treatment population.\n",
    "The patient samples are fairly well mixed with probably the small exception of the PBMCs of P29 and P22."
   ]
  },
  {
   "cell_type": "code",
   "execution_count": null,
   "id": "proved-pepper",
   "metadata": {
    "scrolled": false
   },
   "outputs": [],
   "source": [
    "cancer_groups = [\"Meningioma\", \"Glioma\", \"Head & Neck\"]\n",
    "tps = [\"prior\", \"during\", \"end\"]\n",
    "for cg in cancer_groups:\n",
    "    for tp in tps:\n",
    "        fig, ax = plt.subplots(figsize=[8, 6])\n",
    "        ax = sns.scatterplot(\n",
    "            data=chrometric_embs.loc[\n",
    "                (chrometric_embs.cancer == cg) & (chrometric_embs.timepoint == tp)\n",
    "            ],\n",
    "            x=\"tSNE 1\",\n",
    "            y=\"tSNE 2\",\n",
    "            hue=\"sample\",\n",
    "            hue_order=np.unique(\n",
    "                chrometric_embs.loc[\n",
    "                    (chrometric_embs.cancer == cg) & (chrometric_embs.timepoint == tp),\n",
    "                    \"sample\",\n",
    "                ]\n",
    "            ),\n",
    "            ax=ax,\n",
    "            s=12,\n",
    "            marker=\"o\",\n",
    "            palette=\"tab10\",\n",
    "        )\n",
    "        plt.legend(\n",
    "            bbox_to_anchor=(0.5, 1.05),\n",
    "            loc=\"center\",\n",
    "            borderaxespad=0,\n",
    "            title=\"\",\n",
    "            ncol=10,\n",
    "            fancybox=False,\n",
    "            frameon=False,\n",
    "            columnspacing=0.1,\n",
    "        )\n",
    "        ax.set_xlim([-60, 60])\n",
    "        ax.set_ylim([-60, 60])\n",
    "        ax.set_xlabel(\"\")\n",
    "        ax.set_ylabel(\"\")\n",
    "        plt.show()"
   ]
  },
  {
   "cell_type": "markdown",
   "id": "encouraging-average",
   "metadata": {},
   "source": [
    "---\n",
    "\n",
    "#### Classification of the different cancer types."
   ]
  },
  {
   "cell_type": "markdown",
   "id": "likely-straight",
   "metadata": {},
   "source": [
    "To quantify the separability of the timepoint populations using the chrometric phenotypes of the PBMCs of the different cancer patients we perform a 10-fold stratified cross-validation analysis using a RandomForest classifier. The classifier provides a simple non-linear classification model which also yields an importance measure for the individual chrometric features indicating which ones are most different between the three populations."
   ]
  },
  {
   "cell_type": "markdown",
   "id": "adaptive-hierarchy",
   "metadata": {},
   "source": [
    "##### Nuclei split\n",
    "\n",
    "At first we will split the data randomly on a nuclei-basis, i.e. nuclei of the same patient will be likely included in both the training and the test sets."
   ]
  },
  {
   "cell_type": "code",
   "execution_count": null,
   "id": "introductory-ability",
   "metadata": {},
   "outputs": [],
   "source": [
    "rfc = RandomForestClassifier(\n",
    "    n_estimators=500, n_jobs=10, random_state=seed, class_weight=\"balanced\"\n",
    ")"
   ]
  },
  {
   "cell_type": "code",
   "execution_count": null,
   "id": "common-telescope",
   "metadata": {},
   "outputs": [],
   "source": [
    "tp_cv_conf_mtx_nuclei = get_cv_conf_mtx(\n",
    "    estimator=rfc,\n",
    "    features=chrometric_data,\n",
    "    labels=tp_labels,\n",
    "    scale_features=False,\n",
    "    n_folds=10,\n",
    "    order=tp_order,\n",
    ")\n",
    "normalized_cv_conf_mtx_nuclei = tp_cv_conf_mtx_nuclei.divide(\n",
    "    tp_cv_conf_mtx_nuclei.sum(axis=1), axis=0\n",
    ")"
   ]
  },
  {
   "cell_type": "code",
   "execution_count": null,
   "id": "stone-jewel",
   "metadata": {},
   "outputs": [],
   "source": [
    "fig, ax = plt.subplots(figsize=[5, 4])\n",
    "ax = sns.heatmap(\n",
    "    normalized_cv_conf_mtx_nuclei,\n",
    "    annot=True,\n",
    "    fmt=\".4f\",\n",
    "    cmap=\"viridis\",\n",
    "    vmin=0,\n",
    "    vmax=1,\n",
    "    # cbar=False,\n",
    "    annot_kws={\"size\": 12, \"weight\": \"bold\"},\n",
    ")\n",
    "ax.set_xlabel(\"Predicted treatment timepoint\")\n",
    "ax.set_ylabel(\"True treatment timepoint\")\n",
    "plt.show()"
   ]
  },
  {
   "cell_type": "code",
   "execution_count": null,
   "id": "distinct-communist",
   "metadata": {},
   "outputs": [],
   "source": [
    "cancer_cv_conf_mtx_nuclei = get_cv_conf_mtx(\n",
    "    estimator=rfc,\n",
    "    features=chrometric_data,\n",
    "    labels=cancer_labels,\n",
    "    scale_features=False,\n",
    "    n_folds=10,\n",
    "    order=cancer_order,\n",
    ")\n",
    "normalized_cv_conf_mtx_nuclei = cancer_cv_conf_mtx_nuclei.divide(\n",
    "    cancer_cv_conf_mtx_nuclei.sum(axis=1), axis=0\n",
    ")"
   ]
  },
  {
   "cell_type": "code",
   "execution_count": null,
   "id": "affiliated-processor",
   "metadata": {},
   "outputs": [],
   "source": [
    "fig, ax = plt.subplots(figsize=[5, 4])\n",
    "ax = sns.heatmap(\n",
    "    normalized_cv_conf_mtx_nuclei,\n",
    "    annot=True,\n",
    "    fmt=\".4f\",\n",
    "    cmap=\"viridis\",\n",
    "    vmin=0,\n",
    "    vmax=1,\n",
    "    # cbar=False,\n",
    "    annot_kws={\"size\": 12, \"weight\": \"bold\"},\n",
    ")\n",
    "ax.set_xlabel(\"Predicted cancer type\")\n",
    "ax.set_ylabel(\"True cancer type\")\n",
    "plt.show()"
   ]
  },
  {
   "cell_type": "markdown",
   "id": "failing-communications",
   "metadata": {},
   "source": [
    "To further assess the similarity of the different timepoint  and cancer type distribution and their linear separability we run two linear discriminant analysis using a single component."
   ]
  },
  {
   "cell_type": "code",
   "execution_count": null,
   "id": "respiratory-credit",
   "metadata": {},
   "outputs": [],
   "source": [
    "lda = LinearDiscriminantAnalysis(n_components=1)\n",
    "lda_tp_cv_conf_mtx_nuclei = get_cv_conf_mtx(\n",
    "    estimator=lda,\n",
    "    features=chrometric_data,\n",
    "    labels=tp_labels,\n",
    "    scale_features=True,\n",
    "    n_folds=10,\n",
    "    order=tp_order,\n",
    ")\n",
    "lda_normalized_cv_conf_mtx_nuclei = lda_tp_cv_conf_mtx_nuclei.divide(\n",
    "    lda_tp_cv_conf_mtx_nuclei.sum(axis=1), axis=0\n",
    ")"
   ]
  },
  {
   "cell_type": "code",
   "execution_count": null,
   "id": "sharp-fight",
   "metadata": {},
   "outputs": [],
   "source": [
    "fig, ax = plt.subplots(figsize=[5, 4])\n",
    "ax = sns.heatmap(\n",
    "    lda_normalized_cv_conf_mtx_nuclei,\n",
    "    annot=True,\n",
    "    fmt=\".4f\",\n",
    "    cmap=\"viridis\",\n",
    "    vmin=0,\n",
    "    vmax=1,\n",
    "    # cbar=False,\n",
    "    annot_kws={\"size\": 12, \"weight\": \"bold\"},\n",
    ")\n",
    "ax.set_xlabel(\"Predicted treatment timepoint\")\n",
    "ax.set_ylabel(\"True treatment timepoint\")\n",
    "plt.show()"
   ]
  },
  {
   "cell_type": "code",
   "execution_count": null,
   "id": "preceding-morning",
   "metadata": {},
   "outputs": [],
   "source": [
    "lda = LinearDiscriminantAnalysis(n_components=1)\n",
    "lda_cancer_cv_conf_mtx_nuclei = get_cv_conf_mtx(\n",
    "    estimator=lda,\n",
    "    features=chrometric_data,\n",
    "    labels=cancer_labels,\n",
    "    scale_features=True,\n",
    "    n_folds=10,\n",
    "    order=cancer_order,\n",
    ")\n",
    "lda_normalized_cv_conf_mtx_nuclei = lda_cancer_cv_conf_mtx_nuclei.divide(\n",
    "    lda_cancer_cv_conf_mtx_nuclei.sum(axis=1), axis=0\n",
    ")"
   ]
  },
  {
   "cell_type": "code",
   "execution_count": null,
   "id": "sudden-wildlife",
   "metadata": {},
   "outputs": [],
   "source": [
    "fig, ax = plt.subplots(figsize=[5, 4])\n",
    "ax = sns.heatmap(\n",
    "    lda_normalized_cv_conf_mtx_nuclei,\n",
    "    annot=True,\n",
    "    fmt=\".4f\",\n",
    "    cmap=\"viridis\",\n",
    "    vmin=0,\n",
    "    vmax=1,\n",
    "    # cbar=False,\n",
    "    annot_kws={\"size\": 12, \"weight\": \"bold\"},\n",
    ")\n",
    "ax.set_xlabel(\"Predicted cancer type\")\n",
    "ax.set_ylabel(\"True cancer type\")\n",
    "plt.show()"
   ]
  },
  {
   "cell_type": "code",
   "execution_count": null,
   "id": "governmental-telescope",
   "metadata": {},
   "outputs": [],
   "source": [
    "lda_transformed = pd.DataFrame(\n",
    "    lda.fit(chrometric_data, tp_labels).transform(chrometric_data),\n",
    "    columns=[\"LD 1 (timepoint)\"],\n",
    "    index=chrometric_data.index,\n",
    ")\n",
    "lda_transformed[\"LD 1 (cancer type)\"] = lda.fit(\n",
    "    chrometric_data, cancer_labels\n",
    ").transform(chrometric_data)\n",
    "lda_transformed[\"timepoint\"] = np.array(tp_labels)\n",
    "lda_transformed[\"sample\"] = np.array(sample_labels)\n",
    "lda_transformed[\"cancer\"] = np.array(cancer_labels)\n",
    "g = sns.jointplot(\n",
    "    data=lda_transformed,\n",
    "    x=\"LD 1 (timepoint)\",\n",
    "    y=\"LD 1 (cancer type)\",\n",
    "    hue=\"cancer\",\n",
    "    s=2,\n",
    "    hue_order=cancer_order,\n",
    "    height=6,\n",
    "    palette=color_palette,\n",
    "    xlim=[-4, 4],\n",
    "    ylim=[-4, 4],\n",
    ")"
   ]
  },
  {
   "cell_type": "code",
   "execution_count": null,
   "id": "guilty-holocaust",
   "metadata": {},
   "outputs": [],
   "source": [
    "g = sns.jointplot(\n",
    "    data=lda_transformed,\n",
    "    x=\"LD 1 (timepoint)\",\n",
    "    y=\"LD 1 (cancer type)\",\n",
    "    hue=\"timepoint\",\n",
    "    s=2,\n",
    "    hue_order=tp_order,\n",
    "    height=6,\n",
    "    palette=\"gray\",\n",
    "    xlim=[-4, 4],\n",
    "    ylim=[-4, 4],\n",
    ")"
   ]
  },
  {
   "cell_type": "code",
   "execution_count": null,
   "id": "handled-feelings",
   "metadata": {},
   "outputs": [],
   "source": [
    "np.sum(np.abs(lda_transformed.loc[:, \"LD 1 (timepoint)\"]) > 4) + np.sum(\n",
    "    np.abs(lda_transformed.loc[:, \"LD 1 (cancer type)\"]) > 4\n",
    ")"
   ]
  },
  {
   "cell_type": "code",
   "execution_count": null,
   "id": "informed-atlanta",
   "metadata": {},
   "outputs": [],
   "source": [
    "len(lda_transformed)"
   ]
  },
  {
   "cell_type": "markdown",
   "id": "gentle-haven",
   "metadata": {},
   "source": [
    "Note that in the above plot 102/21600 outlier sample is excluded for better visualization of the population differences."
   ]
  },
  {
   "cell_type": "markdown",
   "id": "black-quarterly",
   "metadata": {},
   "source": [
    "---\n",
    "#### Patient split\n",
    "\n",
    "\n",
    "While the previous analysis assess the level of differences of the chrometric phenotypes of the PBMCs between the different treatment timepoints, the classifier can make use of patient specific characteristics during the classification. In a diagnostic use case such information would not be available. To evaluate how well a classifier would be able to predict for unseen patient the corresponding treatment timepoint simply based on the chrometric phenotypes of the PBMCs, we also assess the class separability using a stratified 10-fold patient-cross-validation approach. Thereby at each iteration 1 of the patients of each timepoint are hold out for the test set."
   ]
  },
  {
   "cell_type": "code",
   "execution_count": null,
   "id": "baking-reduction",
   "metadata": {},
   "outputs": [],
   "source": [
    "tp_cv_conf_mtx_patient = get_cv_conf_mtx(\n",
    "    estimator=rfc,\n",
    "    features=chrometric_data,\n",
    "    labels=tp_labels,\n",
    "    groups=sample_labels,\n",
    "    scale_features=False,\n",
    "    n_folds=10,\n",
    "    order=tp_order,\n",
    ")\n",
    "normalized_cv_conf_mtx_patient = tp_cv_conf_mtx_patient.divide(\n",
    "    tp_cv_conf_mtx_patient.sum(axis=1), axis=0\n",
    ")"
   ]
  },
  {
   "cell_type": "code",
   "execution_count": null,
   "id": "prime-immigration",
   "metadata": {},
   "outputs": [],
   "source": [
    "fig, ax = plt.subplots(figsize=[5, 4])\n",
    "ax = sns.heatmap(\n",
    "    normalized_cv_conf_mtx_patient,\n",
    "    annot=True,\n",
    "    fmt=\".4f\",\n",
    "    cmap=\"viridis\",\n",
    "    vmin=0,\n",
    "    vmax=1,\n",
    "    # cbar=False,\n",
    ")\n",
    "ax.set_xlabel(\"Predicted treatment timepoint\")\n",
    "ax.set_ylabel(\"True treatment timepoint\")\n",
    "plt.show()"
   ]
  },
  {
   "cell_type": "code",
   "execution_count": null,
   "id": "sapphire-technical",
   "metadata": {},
   "outputs": [],
   "source": [
    "cancer_cv_conf_mtx_patient = get_cv_conf_mtx(\n",
    "    estimator=rfc,\n",
    "    features=chrometric_data,\n",
    "    labels=cancer_labels,\n",
    "    groups=sample_labels,\n",
    "    scale_features=False,\n",
    "    n_folds=10,\n",
    "    order=cancer_order,\n",
    ")\n",
    "normalized_cv_conf_mtx_patient = cancer_cv_conf_mtx_patient.divide(\n",
    "    cancer_cv_conf_mtx_patient.sum(axis=1), axis=0\n",
    ")"
   ]
  },
  {
   "cell_type": "code",
   "execution_count": null,
   "id": "australian-nothing",
   "metadata": {},
   "outputs": [],
   "source": [
    "fig, ax = plt.subplots(figsize=[5, 4])\n",
    "ax = sns.heatmap(\n",
    "    normalized_cv_conf_mtx_patient,\n",
    "    annot=True,\n",
    "    fmt=\".4f\",\n",
    "    cmap=\"viridis\",\n",
    "    vmin=0,\n",
    "    vmax=1,\n",
    "    # cbar=False,\n",
    ")\n",
    "ax.set_xlabel(\"Predicted cancer type\")\n",
    "ax.set_ylabel(\"True cancer type\")\n",
    "plt.show()"
   ]
  },
  {
   "cell_type": "markdown",
   "id": "empty-nursing",
   "metadata": {},
   "source": [
    "In general the confusion matrix again shows a similar picture as seen for the nuclei-based split showing that end of treatment population show phenotypes of the PBMCs significantly different from the other two treatment timepoints."
   ]
  },
  {
   "cell_type": "markdown",
   "id": "composed-whale",
   "metadata": {},
   "source": [
    "---"
   ]
  },
  {
   "cell_type": "markdown",
   "id": "textile-johnston",
   "metadata": {},
   "source": [
    "### Cancer type separability over the treatment course"
   ]
  },
  {
   "cell_type": "markdown",
   "id": "seasonal-isolation",
   "metadata": {},
   "source": [
    "We notice that the separability between the different cancer types is significantly smaller than what we observed when only considering samples prior the treatment. We thus now assess similarly the separability of the different cancer types for each of the treatment timepoints individually."
   ]
  },
  {
   "cell_type": "markdown",
   "id": "piano-telescope",
   "metadata": {},
   "source": [
    "#### Prior treatment: Leave-on-per-category-out"
   ]
  },
  {
   "cell_type": "code",
   "execution_count": null,
   "id": "latter-trance",
   "metadata": {},
   "outputs": [],
   "source": [
    "prior_idc = tp_labels.loc[tp_labels == \"prior\"].index\n",
    "prior_cancer_labels = cancer_labels.loc[prior_idc]\n",
    "prior_chrometric_data = chrometric_data.loc[prior_idc]\n",
    "prior_sample_labels = sample_labels.loc[prior_idc]"
   ]
  },
  {
   "cell_type": "code",
   "execution_count": null,
   "id": "reported-delta",
   "metadata": {},
   "outputs": [],
   "source": [
    "prior_cancer_cv_conf_mtx_patient = get_cv_conf_mtx(\n",
    "    estimator=rfc,\n",
    "    features=prior_chrometric_data,\n",
    "    labels=prior_cancer_labels,\n",
    "    groups=prior_sample_labels,\n",
    "    scale_features=False,\n",
    "    n_folds=10,\n",
    "    order=cancer_order,\n",
    ")\n",
    "normalized_cv_conf_mtx_patient = prior_cancer_cv_conf_mtx_patient.divide(\n",
    "    prior_cancer_cv_conf_mtx_patient.sum(axis=1), axis=0\n",
    ")"
   ]
  },
  {
   "cell_type": "code",
   "execution_count": null,
   "id": "whole-accused",
   "metadata": {},
   "outputs": [],
   "source": [
    "fig, ax = plt.subplots(figsize=[5, 4])\n",
    "ax = sns.heatmap(\n",
    "    normalized_cv_conf_mtx_patient,\n",
    "    annot=True,\n",
    "    fmt=\".4f\",\n",
    "    cmap=\"viridis\",\n",
    "    vmin=0,\n",
    "    vmax=1,\n",
    "    # cbar=False,\n",
    ")\n",
    "ax.set_xlabel(\"Predicted cancer type\")\n",
    "ax.set_ylabel(\"True cancer type\")\n",
    "plt.show()"
   ]
  },
  {
   "cell_type": "code",
   "execution_count": null,
   "id": "metric-percentage",
   "metadata": {},
   "outputs": [],
   "source": [
    "groupkfold = StratifiedGroupKFold(n_splits=10)\n",
    "prior_cv_bacs = cross_val_score(\n",
    "    rfc,\n",
    "    cv=groupkfold,\n",
    "    X=prior_chrometric_data,\n",
    "    y=prior_cancer_labels,\n",
    "    groups=prior_sample_labels,\n",
    "    scoring=\"balanced_accuracy\",\n",
    "    n_jobs=10,\n",
    ")\n",
    "print(\n",
    "    \"Balanced accuracy: {} (+/- {})\".format(\n",
    "        np.mean(prior_cv_bacs), np.std(prior_cv_bacs)\n",
    "    )\n",
    ")"
   ]
  },
  {
   "cell_type": "markdown",
   "id": "creative-armstrong",
   "metadata": {},
   "source": [
    "___\n",
    "\n",
    "#### During: Leave-one-per-category-out"
   ]
  },
  {
   "cell_type": "code",
   "execution_count": null,
   "id": "facial-sensitivity",
   "metadata": {},
   "outputs": [],
   "source": [
    "during_idc = tp_labels.loc[tp_labels == \"during\"].index\n",
    "during_cancer_labels = cancer_labels.loc[during_idc]\n",
    "during_chrometric_data = chrometric_data.loc[during_idc]\n",
    "during_sample_labels = sample_labels.loc[during_idc]"
   ]
  },
  {
   "cell_type": "code",
   "execution_count": null,
   "id": "activated-connection",
   "metadata": {},
   "outputs": [],
   "source": [
    "during_cancer_cv_conf_mtx_patient = get_cv_conf_mtx(\n",
    "    estimator=rfc,\n",
    "    features=during_chrometric_data,\n",
    "    labels=during_cancer_labels,\n",
    "    groups=during_sample_labels,\n",
    "    scale_features=False,\n",
    "    n_folds=10,\n",
    "    order=cancer_order,\n",
    ")\n",
    "normalized_cv_conf_mtx_patient = during_cancer_cv_conf_mtx_patient.divide(\n",
    "    during_cancer_cv_conf_mtx_patient.sum(axis=1), axis=0\n",
    ")"
   ]
  },
  {
   "cell_type": "code",
   "execution_count": null,
   "id": "separated-weather",
   "metadata": {},
   "outputs": [],
   "source": [
    "fig, ax = plt.subplots(figsize=[5, 4])\n",
    "ax = sns.heatmap(\n",
    "    normalized_cv_conf_mtx_patient,\n",
    "    annot=True,\n",
    "    fmt=\".4f\",\n",
    "    cmap=\"viridis\",\n",
    "    vmin=0,\n",
    "    vmax=1,\n",
    "    # cbar=False,\n",
    ")\n",
    "ax.set_xlabel(\"Predicted cancer type\")\n",
    "ax.set_ylabel(\"True cancer type\")\n",
    "plt.show()"
   ]
  },
  {
   "cell_type": "code",
   "execution_count": null,
   "id": "burning-richards",
   "metadata": {},
   "outputs": [],
   "source": [
    "groupkfold = StratifiedGroupKFold(n_splits=10)\n",
    "during_cv_bacs = cross_val_score(\n",
    "    rfc,\n",
    "    cv=groupkfold,\n",
    "    X=during_chrometric_data,\n",
    "    y=during_cancer_labels,\n",
    "    groups=during_sample_labels,\n",
    "    scoring=\"balanced_accuracy\",\n",
    "    n_jobs=10,\n",
    ")\n",
    "print(\n",
    "    \"Balanced accuracy: {} (+/- {})\".format(\n",
    "        np.mean(during_cv_bacs), np.std(during_cv_bacs)\n",
    "    )\n",
    ")"
   ]
  },
  {
   "cell_type": "markdown",
   "id": "undefined-energy",
   "metadata": {},
   "source": [
    "---"
   ]
  },
  {
   "cell_type": "markdown",
   "id": "rising-indication",
   "metadata": {},
   "source": [
    "#### End of therapy: Leave-one-per-category out"
   ]
  },
  {
   "cell_type": "code",
   "execution_count": null,
   "id": "declared-belle",
   "metadata": {},
   "outputs": [],
   "source": [
    "end_idc = tp_labels.loc[tp_labels == \"end\"].index\n",
    "end_cancer_labels = cancer_labels.loc[end_idc]\n",
    "end_chrometric_data = chrometric_data.loc[end_idc]\n",
    "end_sample_labels = sample_labels.loc[end_idc]"
   ]
  },
  {
   "cell_type": "code",
   "execution_count": null,
   "id": "ambient-fellow",
   "metadata": {},
   "outputs": [],
   "source": [
    "end_cancer_cv_conf_mtx_patient = get_cv_conf_mtx(\n",
    "    estimator=rfc,\n",
    "    features=end_chrometric_data,\n",
    "    labels=end_cancer_labels,\n",
    "    groups=end_sample_labels,\n",
    "    scale_features=False,\n",
    "    n_folds=10,\n",
    "    order=cancer_order,\n",
    ")\n",
    "normalized_cv_conf_mtx_patient = end_cancer_cv_conf_mtx_patient.divide(\n",
    "    end_cancer_cv_conf_mtx_patient.sum(axis=1), axis=0\n",
    ")"
   ]
  },
  {
   "cell_type": "code",
   "execution_count": null,
   "id": "different-spiritual",
   "metadata": {},
   "outputs": [],
   "source": [
    "fig, ax = plt.subplots(figsize=[5, 4])\n",
    "ax = sns.heatmap(\n",
    "    normalized_cv_conf_mtx_patient,\n",
    "    annot=True,\n",
    "    fmt=\".4f\",\n",
    "    cmap=\"viridis\",\n",
    "    vmin=0,\n",
    "    vmax=1,\n",
    "    # cbar=False,\n",
    ")\n",
    "ax.set_xlabel(\"Predicted cancer type\")\n",
    "ax.set_ylabel(\"True cancer type\")\n",
    "plt.show()"
   ]
  },
  {
   "cell_type": "code",
   "execution_count": null,
   "id": "sustained-indianapolis",
   "metadata": {},
   "outputs": [],
   "source": [
    "groupkfold = StratifiedGroupKFold(n_splits=10)\n",
    "end_cv_bacs = cross_val_score(\n",
    "    rfc,\n",
    "    cv=groupkfold,\n",
    "    X=end_chrometric_data,\n",
    "    y=end_cancer_labels,\n",
    "    groups=end_sample_labels,\n",
    "    scoring=\"balanced_accuracy\",\n",
    "    n_jobs=10,\n",
    ")\n",
    "print(\n",
    "    \"Balanced accuracy: {} (+/- {})\".format(np.mean(end_cv_bacs), np.std(end_cv_bacs))\n",
    ")"
   ]
  },
  {
   "cell_type": "markdown",
   "id": "functioning-damage",
   "metadata": {},
   "source": [
    "---\n",
    "#### Summary: Leave-one-per-category out"
   ]
  },
  {
   "cell_type": "code",
   "execution_count": null,
   "id": "grand-bhutan",
   "metadata": {},
   "outputs": [],
   "source": [
    "cv_bacs_summary = pd.DataFrame(\n",
    "    np.concatenate([prior_cv_bacs, during_cv_bacs, end_cv_bacs]), columns=[\"BAC\"]\n",
    ")\n",
    "cv_bacs_summary[\"timepoint\"] = (\n",
    "    [\"prior\"] * len(prior_cv_bacs)\n",
    "    + [\"during\"] * len(during_cv_bacs)\n",
    "    + [\"end\"] * len(end_cv_bacs)\n",
    ")"
   ]
  },
  {
   "cell_type": "code",
   "execution_count": null,
   "id": "designed-commons",
   "metadata": {},
   "outputs": [],
   "source": [
    "fig, ax = plt.subplots(figsize=[5, 4])\n",
    "ax = sns.violinplot(data=cv_bacs_summary, x=\"timepoint\", y=\"BAC\", palette=\"gray\")\n",
    "annotator = Annotator(\n",
    "    ax,\n",
    "    [(\"prior\", \"during\"), (\"prior\", \"end\"), (\"during\", \"end\")],\n",
    "    data=cv_bacs_summary,\n",
    "    x=\"timepoint\",\n",
    "    y=\"BAC\",\n",
    "    order=[\"prior\", \"during\", \"end\"],\n",
    "    plot=\"violinplot\",\n",
    ")\n",
    "annotator.configure(\n",
    "    test=\"Wilcoxon\",\n",
    "    text_format=\"star\",\n",
    "    loc=\"inside\",\n",
    "    comparisons_correction=\"Benjamini-Hochberg\",\n",
    ")\n",
    "annotator.apply_test()\n",
    "annotator.annotate()\n",
    "plt.show()\n",
    "plt.close()"
   ]
  },
  {
   "cell_type": "markdown",
   "id": "funded-foster",
   "metadata": {},
   "source": [
    "---\n",
    "\n",
    "As an alternative to the previous procedure, we also evaluate the separability of the cancer types at each treatment timepoint using a leave-one-patient-out cross-validation scheme. Thereby, the training fold data is randomly subsampled to ensure equal representation of the different cancer types. To obtain a random baseline, we also apply the procedure to a setup, where the individual cancer type labels were randomly permuted for 10 times."
   ]
  },
  {
   "cell_type": "markdown",
   "id": "tested-render",
   "metadata": {},
   "source": [
    "#### Prior: Leave-one-patient-out"
   ]
  },
  {
   "cell_type": "code",
   "execution_count": null,
   "id": "prescription-license",
   "metadata": {},
   "outputs": [],
   "source": [
    "lopo_prior_cv_result = summarize_group_cv_results_by_fold(\n",
    "    model=rfc,\n",
    "    features=prior_chrometric_data,\n",
    "    labels=prior_cancer_labels,\n",
    "    groups=prior_sample_labels,\n",
    "    balance_train=True,\n",
    ")\n",
    "\n",
    "np.random.seed(seed)\n",
    "bs = range(10)\n",
    "\n",
    "lopo_prior_perm_cv_results = []\n",
    "\n",
    "for b in tqdm(bs):\n",
    "    prior_perm_cancer_labels = get_permute_group_labels(\n",
    "        prior_cancer_labels, prior_sample_labels\n",
    "    )[0]\n",
    "    lopo_perm_cv_result = summarize_group_cv_results_by_fold(\n",
    "        model=rfc,\n",
    "        features=prior_chrometric_data,\n",
    "        labels=prior_perm_cancer_labels,\n",
    "        groups=prior_sample_labels,\n",
    "        balance_train=True,\n",
    "    )\n",
    "    lopo_perm_cv_result[\"permutation\"] = b\n",
    "    lopo_prior_perm_cv_results.append(lopo_perm_cv_result)\n",
    "\n",
    "lopo_prior_perm_cv_results = pd.concat(lopo_prior_perm_cv_results)\n",
    "lopo_prior_perm_cv_results[\"condition\"] = \"Permuted\"\n",
    "lopo_prior_cv_result[\"condition\"] = \"Observed\"\n",
    "all_lopo_prior_results = lopo_prior_cv_result.append(lopo_prior_perm_cv_results)\n",
    "all_lopo_prior_results[\"timepoint\"] = \"prior\""
   ]
  },
  {
   "cell_type": "code",
   "execution_count": null,
   "id": "allied-empty",
   "metadata": {},
   "outputs": [],
   "source": [
    "fig, ax = plot_lopo_cv_results_by_class(\n",
    "    all_lopo_prior_results,\n",
    "    cancer_order,\n",
    "    x=\"majority_class\",\n",
    "    y=\"score\",\n",
    "    hue=\"condition\",\n",
    "    figsize=[6, 4],\n",
    "    test=\"Mann-Whitney\",\n",
    "    pval_text_format=\"star\",\n",
    "    alpha=0.5,\n",
    ")\n",
    "ax.set_xlabel(\"Cancer types\")\n",
    "ax.set_ylabel(\"Classification accuracy by patient\")\n",
    "plt.show()"
   ]
  },
  {
   "cell_type": "markdown",
   "id": "registered-exercise",
   "metadata": {},
   "source": [
    "---\n",
    "\n",
    "#### During: Leave-one-patient-out"
   ]
  },
  {
   "cell_type": "code",
   "execution_count": null,
   "id": "color-stake",
   "metadata": {},
   "outputs": [],
   "source": [
    "lopo_during_cv_result = summarize_group_cv_results_by_fold(\n",
    "    model=rfc,\n",
    "    features=during_chrometric_data,\n",
    "    labels=during_cancer_labels,\n",
    "    groups=during_sample_labels,\n",
    "    balance_train=True,\n",
    ")\n",
    "\n",
    "np.random.seed(seed)\n",
    "bs = range(10)\n",
    "\n",
    "lopo_during_perm_cv_results = []\n",
    "\n",
    "for b in tqdm(bs):\n",
    "    during_perm_cancer_labels = get_permute_group_labels(\n",
    "        during_cancer_labels, during_sample_labels\n",
    "    )[0]\n",
    "    lopo_perm_cv_result = summarize_group_cv_results_by_fold(\n",
    "        model=rfc,\n",
    "        features=during_chrometric_data,\n",
    "        labels=during_perm_cancer_labels,\n",
    "        groups=during_sample_labels,\n",
    "        balance_train=True,\n",
    "    )\n",
    "    lopo_perm_cv_result[\"permutation\"] = b\n",
    "    lopo_during_perm_cv_results.append(lopo_perm_cv_result)\n",
    "\n",
    "lopo_during_perm_cv_results = pd.concat(lopo_during_perm_cv_results)\n",
    "lopo_during_perm_cv_results[\"condition\"] = \"Permuted\"\n",
    "lopo_during_cv_result[\"condition\"] = \"Observed\"\n",
    "all_lopo_during_results = lopo_during_cv_result.append(lopo_during_perm_cv_results)\n",
    "all_lopo_during_results[\"timepoint\"] = \"during\""
   ]
  },
  {
   "cell_type": "code",
   "execution_count": null,
   "id": "armed-narrow",
   "metadata": {},
   "outputs": [],
   "source": [
    "fig, ax = plot_lopo_cv_results_by_class(\n",
    "    all_lopo_during_results,\n",
    "    cancer_order,\n",
    "    x=\"majority_class\",\n",
    "    y=\"score\",\n",
    "    hue=\"condition\",\n",
    "    figsize=[6, 4],\n",
    "    test=\"Mann-Whitney\",\n",
    "    pval_text_format=\"star\",\n",
    "    alpha=0.5,\n",
    ")\n",
    "ax.set_xlabel(\"Cancer types\")\n",
    "ax.set_ylabel(\"Classification accuracy by patient\")\n",
    "plt.show()"
   ]
  },
  {
   "cell_type": "markdown",
   "id": "missing-cannon",
   "metadata": {},
   "source": [
    "---\n",
    "#### End of treatment: Leave-one-patient-out"
   ]
  },
  {
   "cell_type": "code",
   "execution_count": null,
   "id": "vertical-framework",
   "metadata": {},
   "outputs": [],
   "source": [
    "lopo_end_cv_result = summarize_group_cv_results_by_fold(\n",
    "    model=rfc,\n",
    "    features=end_chrometric_data,\n",
    "    labels=end_cancer_labels,\n",
    "    groups=end_sample_labels,\n",
    "    balance_train=True,\n",
    ")\n",
    "\n",
    "np.random.seed(seed)\n",
    "bs = range(10)\n",
    "\n",
    "lopo_end_perm_cv_results = []\n",
    "\n",
    "for b in tqdm(bs):\n",
    "    end_perm_cancer_labels = get_permute_group_labels(\n",
    "        end_cancer_labels, end_sample_labels\n",
    "    )[0]\n",
    "    lopo_perm_cv_result = summarize_group_cv_results_by_fold(\n",
    "        model=rfc,\n",
    "        features=end_chrometric_data,\n",
    "        labels=end_perm_cancer_labels,\n",
    "        groups=end_sample_labels,\n",
    "        balance_train=True,\n",
    "    )\n",
    "    lopo_perm_cv_result[\"permutation\"] = b\n",
    "    lopo_end_perm_cv_results.append(lopo_perm_cv_result)\n",
    "\n",
    "lopo_end_perm_cv_results = pd.concat(lopo_end_perm_cv_results)\n",
    "lopo_end_perm_cv_results[\"condition\"] = \"Permuted\"\n",
    "lopo_end_cv_result[\"condition\"] = \"Observed\"\n",
    "all_lopo_end_results = lopo_end_cv_result.append(lopo_end_perm_cv_results)\n",
    "all_lopo_end_results[\"timepoint\"] = \"end\""
   ]
  },
  {
   "cell_type": "code",
   "execution_count": null,
   "id": "practical-jewelry",
   "metadata": {},
   "outputs": [],
   "source": [
    "fig, ax = plot_lopo_cv_results_by_class(\n",
    "    all_lopo_end_results,\n",
    "    cancer_order,\n",
    "    x=\"majority_class\",\n",
    "    y=\"score\",\n",
    "    hue=\"condition\",\n",
    "    figsize=[6, 4],\n",
    "    test=\"Mann-Whitney\",\n",
    "    pval_text_format=\"star\",\n",
    "    alpha=0.5,\n",
    ")\n",
    "ax.set_xlabel(\"Cancer types\")\n",
    "ax.set_ylabel(\"Classification accuracy by patient\")\n",
    "plt.show()"
   ]
  },
  {
   "cell_type": "markdown",
   "id": "obvious-checklist",
   "metadata": {},
   "source": [
    "#### Summary: Leave-one-patient-out"
   ]
  },
  {
   "cell_type": "code",
   "execution_count": null,
   "id": "historic-referral",
   "metadata": {},
   "outputs": [],
   "source": [
    "all_lopo_tp_results = all_lopo_prior_results.append(all_lopo_during_results).append(\n",
    "    all_lopo_end_results\n",
    ")\n",
    "all_lopo_tp_results.loc[:, \"tp\"] = all_lopo_tp_results.loc[:, \"timepoint\"]\n",
    "all_lopo_tp_results.loc[\n",
    "    all_lopo_tp_results.condition == \"Permuted\", \"tp\"\n",
    "] = \"permutation\""
   ]
  },
  {
   "cell_type": "code",
   "execution_count": null,
   "id": "lightweight-blackjack",
   "metadata": {},
   "outputs": [],
   "source": [
    "fig, ax = plot_lopo_cv_results_by_class(\n",
    "    all_lopo_tp_results,\n",
    "    tp_order,\n",
    "    x=\"timepoint\",\n",
    "    y=\"score\",\n",
    "    hue=\"condition\",\n",
    "    figsize=[6, 4],\n",
    "    test=\"Mann-Whitney\",\n",
    "    pval_text_format=\"star\",\n",
    "    alpha=0.5,\n",
    ")\n",
    "ax.set_xlabel(\"Treatment timepoint\")\n",
    "ax.set_ylabel(\"Classification accuracy by patient\")\n",
    "plt.show()"
   ]
  },
  {
   "cell_type": "code",
   "execution_count": null,
   "id": "flexible-limitation",
   "metadata": {
    "scrolled": false
   },
   "outputs": [],
   "source": [
    "fig, ax = plot_lopo_cv_results_timepoints(\n",
    "    all_lopo_tp_results,\n",
    "    order=[\"prior\", \"during\", \"end\", \"permutation\"],\n",
    "    class_palette=color_palette,\n",
    "    box_palette=[\"lightgray\"],\n",
    "    figsize=[6, 6],\n",
    ")\n",
    "ax.set_ylabel(\"Classification accuracy\")\n",
    "ax.set_xlabel(\"Timepoint\")\n",
    "plt.show()"
   ]
  },
  {
   "cell_type": "code",
   "execution_count": null,
   "id": "hazardous-racing",
   "metadata": {
    "scrolled": false
   },
   "outputs": [],
   "source": [
    "fig, ax = plt.subplots(figsize=[3.5, 8])\n",
    "ax = sns.barplot(\n",
    "    data=all_lopo_tp_results,\n",
    "    x=\"tp\",\n",
    "    y=\"score\",\n",
    "    order=[\"prior\", \"during\", \"end\", \"permutation\"],\n",
    "    # fliersize=2,\n",
    "    palette=[\"gray\"],\n",
    "    ax=ax,\n",
    ")\n",
    "\n",
    "box_pairs = [\n",
    "    (\"prior\", \"during\"),\n",
    "    (\"during\", \"end\"),\n",
    "    (\"prior\", \"end\"),\n",
    "    (\"prior\", \"permutation\"),\n",
    "    (\"during\", \"permutation\"),\n",
    "    (\"end\", \"permutation\"),\n",
    "]\n",
    "\n",
    "annotator = Annotator(\n",
    "    ax,\n",
    "    box_pairs,\n",
    "    data=all_lopo_tp_results,\n",
    "    x=\"tp\",\n",
    "    y=\"score\",\n",
    "    order=[\"prior\", \"during\", \"end\", \"permutation\"],\n",
    "    plot=\"barplot\",\n",
    ")\n",
    "annotator.configure(\n",
    "    test=\"Mann-Whitney\",\n",
    "    text_format=\"star\",\n",
    "    loc=\"inside\",\n",
    "    comparisons_correction=\"Benjamini-Hochberg\",\n",
    ")\n",
    "annotator.apply_test()\n",
    "annotator.annotate()\n",
    "ax.set_xlabel(\"\")\n",
    "ax.set_ylabel(\"\")\n",
    "# ax.set_ylim([0, 1])\n",
    "# fig.savefig(\n",
    "#     os.path.join(output_dir, \"cancer_separation_accuracy.png\"),\n",
    "#     dpi=1200,\n",
    "#     transparent=True,\n",
    "# )\n",
    "plt.show()"
   ]
  },
  {
   "cell_type": "markdown",
   "id": "sudden-schedule",
   "metadata": {},
   "source": [
    "---\n",
    "\n",
    "### 3c. Nuclear chromatin biomarkers identifying cancer populations"
   ]
  },
  {
   "cell_type": "markdown",
   "id": "smaller-breed",
   "metadata": {},
   "source": [
    "#### Feature importance\n",
    "\n",
    "We have validated that there are significant differences between the individual treatment timepoints in particular when comparing PBMCs at the end of the treatment with those of during respectively prior the treatment. We next assess the implicit feature importance of a RandomForest classifier trained on the task to distinguish between the timepoint populations types in order to get an idea of the features are most indicative for the treatment effect."
   ]
  },
  {
   "cell_type": "code",
   "execution_count": null,
   "id": "informative-opera",
   "metadata": {},
   "outputs": [],
   "source": [
    "fig, ax = plot_feature_importance_for_estimator(\n",
    "    rfc,\n",
    "    chrometric_data,\n",
    "    tp_labels,\n",
    "    cmap=[\"gray\"],\n",
    "    figsize=[2, 3],\n",
    "    feature_color_dict=feature_color_dict,\n",
    "    n_features=15,\n",
    ")\n"
   ]
  },
  {
   "cell_type": "code",
   "execution_count": null,
   "id": "touched-turtle",
   "metadata": {},
   "outputs": [],
   "source": [
    "fig, ax = plot_feature_importance_for_estimator(\n",
    "    rfc,\n",
    "    chrometric_data,\n",
    "    cancer_labels,\n",
    "    cmap=[\"gray\"],\n",
    "    figsize=[2, 3],\n",
    "    feature_color_dict=feature_color_dict,\n",
    "    n_features=15,\n",
    ")"
   ]
  },
  {
   "cell_type": "code",
   "execution_count": null,
   "id": "fitting-three",
   "metadata": {},
   "outputs": [],
   "source": [
    "marker_screen_results_tp = find_markers(chrometric_data, tp_labels)\n",
    "marker_screen_results_cancer = find_markers(chrometric_data, cancer_labels)"
   ]
  },
  {
   "cell_type": "markdown",
   "id": "entire-fairy",
   "metadata": {},
   "source": [
    "#### Prior treatment"
   ]
  },
  {
   "cell_type": "code",
   "execution_count": null,
   "id": "forty-schema",
   "metadata": {},
   "outputs": [],
   "source": [
    "marker_screen_results_tp.loc[marker_screen_results_tp.label == \"prior\"].head(10)"
   ]
  },
  {
   "cell_type": "markdown",
   "id": "straight-nicaragua",
   "metadata": {},
   "source": [
    "---"
   ]
  },
  {
   "cell_type": "markdown",
   "id": "focal-symposium",
   "metadata": {},
   "source": [
    "#### During treatment"
   ]
  },
  {
   "cell_type": "markdown",
   "id": "configured-suspect",
   "metadata": {},
   "source": [
    "Next we look at the features whose mean is significantly different in the during treatment population."
   ]
  },
  {
   "cell_type": "code",
   "execution_count": null,
   "id": "progressive-england",
   "metadata": {},
   "outputs": [],
   "source": [
    "marker_screen_results_tp.loc[marker_screen_results_tp.label == \"during\"].head(10)"
   ]
  },
  {
   "cell_type": "markdown",
   "id": "random-paragraph",
   "metadata": {},
   "source": [
    "---\n",
    "\n",
    "#### End of treatment\n",
    "\n",
    "Finally, we also evaluate the chrometric phenotype of PBMCs at the end of the proton therapy treatment."
   ]
  },
  {
   "cell_type": "code",
   "execution_count": null,
   "id": "electronic-variation",
   "metadata": {},
   "outputs": [],
   "source": [
    "marker_screen_results_tp.loc[marker_screen_results_tp.label == \"end\"].head(10)"
   ]
  },
  {
   "cell_type": "markdown",
   "id": "nervous-occasion",
   "metadata": {},
   "source": [
    "---\n",
    "\n",
    "#### Meningioma"
   ]
  },
  {
   "cell_type": "code",
   "execution_count": null,
   "id": "noticed-plumbing",
   "metadata": {},
   "outputs": [],
   "source": [
    "marker_screen_results_cancer.loc[\n",
    "    marker_screen_results_cancer.label == \"Meningioma\"\n",
    "].head(10)"
   ]
  },
  {
   "cell_type": "markdown",
   "id": "broadband-danger",
   "metadata": {},
   "source": [
    "#### Glioma"
   ]
  },
  {
   "cell_type": "code",
   "execution_count": null,
   "id": "nominated-solid",
   "metadata": {},
   "outputs": [],
   "source": [
    "marker_screen_results_cancer.loc[marker_screen_results_cancer.label == \"Glioma\"].head(\n",
    "    10\n",
    ")"
   ]
  },
  {
   "cell_type": "markdown",
   "id": "basic-neighborhood",
   "metadata": {},
   "source": [
    "#### Head & Neck cancers"
   ]
  },
  {
   "cell_type": "code",
   "execution_count": null,
   "id": "continental-export",
   "metadata": {},
   "outputs": [],
   "source": [
    "marker_screen_results_cancer.loc[\n",
    "    marker_screen_results_cancer.label == \"Head & Neck\"\n",
    "].head(10)"
   ]
  },
  {
   "cell_type": "code",
   "execution_count": null,
   "id": "loving-congress",
   "metadata": {},
   "outputs": [],
   "source": [
    "color_palette"
   ]
  },
  {
   "cell_type": "markdown",
   "id": "substantial-cheese",
   "metadata": {},
   "source": [
    "---"
   ]
  },
  {
   "cell_type": "code",
   "execution_count": null,
   "id": "differential-satisfaction",
   "metadata": {},
   "outputs": [],
   "source": [
    "markers = [\n",
    "    \"volume\",\n",
    "    \"hetero_to_euchromatin_area_ratio\",\n",
    "    \"radial_chromatin_content_p10\",\n",
    "    \"std_curvature\",\n",
    "    \"glcm_contrast_5px\",\n",
    "    \"glcm_correlation_5px\",\n",
    "]\n",
    "marker_labels = [\n",
    "    r\"Nuclear volume in px$^3$\",\n",
    "    \"relative HC/EC ratio\",\n",
    "    \"Fraction of the overall DNA intensity \\n within the inner 10% of the nuclear volume\",\n",
    "    \"Standard deviation of the curvature\",\n",
    "    \"Contrast of the GLCM \\n with a shift of 5px (2D)\",\n",
    "    \"Correlation of the GLCM \\n with a shift of 5px (2D)\",\n",
    "]\n",
    "plot_timepoint_cancer_markers_dist(\n",
    "    data, markers, marker_labels, cut=0, palette=color_palette, figsize=[6.5, 3.5]\n",
    ")"
   ]
  },
  {
   "cell_type": "code",
   "execution_count": null,
   "id": "republican-acrobat",
   "metadata": {},
   "outputs": [],
   "source": [
    "plot_timepoint_cancer_markers_dist(\n",
    "    data,\n",
    "    markers,\n",
    "    marker_labels,\n",
    "    cut=0,\n",
    "    plot_type=\"bar\",\n",
    "    palette=color_palette,\n",
    "    figsize=[5, 4],\n",
    ")"
   ]
  },
  {
   "cell_type": "markdown",
   "id": "innocent-scratch",
   "metadata": {},
   "source": [
    "---\n",
    "\n",
    "### 3d. Proteomic differences of PBMCs in cancer"
   ]
  },
  {
   "cell_type": "markdown",
   "id": "chinese-family",
   "metadata": {},
   "source": [
    "Finally, we also assess the proteomic differences between the different treatment timepoint populations. To this end, we plot the relative Lamin and gH2AX expression measured by the sum of the intensities of the corresponding imaging channels normalized by the nuclear volume. Additionally, we plot the number of identified gH2AX foci which are computed as the local maxima peaks found in the corresponding channel images."
   ]
  },
  {
   "cell_type": "markdown",
   "id": "reported-upgrade",
   "metadata": {},
   "source": [
    "Note that those features are only available for the first data set that was stained for those proteins."
   ]
  },
  {
   "cell_type": "code",
   "execution_count": null,
   "id": "closed-isaac",
   "metadata": {
    "scrolled": true
   },
   "outputs": [],
   "source": [
    "markers = [\n",
    "    \"rel_lamin_3d_int\",\n",
    "    \"rel_gh2ax_3d_int\",\n",
    "    \"gh2ax_foci_count\",\n",
    "    \"gh2ax_sum_foci_area\",\n",
    "    \"gh2ax_avg_foci_area\",\n",
    "]\n",
    "marker_labels = [\n",
    "    \"Volume-normalized nuclear\\nLamin A/C intensity\",\n",
    "    \"Normalized nuclear\\n\" r\"$\\gamma$H2AX intensity\",\n",
    "    r\"Number of $\\gamma$H2AX foci\",\n",
    "    r\"Sum of the $\\gamma$H2AX foci area\",\n",
    "    r\"Average size of the $\\gamma$H2AX foci\",\n",
    "]\n",
    "plot_timepoint_cancer_markers_dist(\n",
    "    data,\n",
    "    markers,\n",
    "    marker_labels,\n",
    "    quantiles=None,\n",
    "    cut=0,\n",
    "    plot_type=\"bar\",\n",
    "    palette=color_palette,\n",
    "    figsize=[6, 4],\n",
    ")"
   ]
  },
  {
   "cell_type": "code",
   "execution_count": null,
   "id": "controlled-functionality",
   "metadata": {
    "scrolled": true
   },
   "outputs": [],
   "source": [
    "markers = [\n",
    "    \"rel_lamin_3d_int\",\n",
    "    \"rel_gh2ax_3d_int\",\n",
    "    \"gh2ax_foci_count\",\n",
    "    \"gh2ax_sum_foci_area\",\n",
    "    \"gh2ax_avg_foci_area\",\n",
    "]\n",
    "marker_labels = [\n",
    "    \"Volume-normalized nuclear\\nLamin A/C intensity\",\n",
    "    \"Normalized nuclear\\n\" r\"$\\gamma$H2AX intensity\",\n",
    "    r\"Number of $\\gamma$H2AX foci\",\n",
    "    r\"Sum of the $\\gamma$H2AX foci area\",\n",
    "    r\"Average size of the $\\gamma$H2AX foci\",\n",
    "]\n",
    "plot_timepoint_cancer_markers_dist(\n",
    "    data,\n",
    "    markers,\n",
    "    marker_labels,\n",
    "    quantiles=None,\n",
    "    cut=0,\n",
    "    plot_type=\"violin\",\n",
    "    palette=color_palette,\n",
    "    figsize=[5, 4],\n",
    ")"
   ]
  },
  {
   "cell_type": "markdown",
   "id": "anonymous-state",
   "metadata": {},
   "source": [
    "---\n",
    "\n",
    "## 4. Supplemental"
   ]
  },
  {
   "cell_type": "markdown",
   "id": "adopted-engagement",
   "metadata": {},
   "source": [
    "### 4.1. Toxicity assessment\n",
    "\n",
    "Hereinafter we assess the toxicity of the treatment for the selected cancer patient population. To this end, we use an assessment of the well-being of the patients during/after the treatment using the CTCAE terminology and grading scheme."
   ]
  },
  {
   "cell_type": "code",
   "execution_count": null,
   "id": "sapphire-saver",
   "metadata": {},
   "outputs": [],
   "source": [
    "tox_data = pd.read_csv(\"../../data/patient_toxicity.csv\")\n",
    "tox_data.patient_id = \"p\" + tox_data.loc[:, \"patient_id\"].astype(\"str\")\n",
    "tox_data = tox_data.loc[tox_data.patient_id.isin(np.unique(data.loc[:, \"sample\"]))]\n",
    "tox_data[\"cancer\"] = \"Meningioma\"\n",
    "tox_data.loc[\n",
    "    tox_data.patient_id.isin(data.loc[data.cancer == \"Glioma\", \"sample\"]), \"cancer\"\n",
    "] = \"Glioma\"\n",
    "tox_data.loc[\n",
    "    tox_data.patient_id.isin(data.loc[data.cancer == \"Head & Neck\", \"sample\"]), \"cancer\"\n",
    "] = \"Head & Neck\"\n",
    "tox_data[\"fatigue\"] = \"no\"\n",
    "tox_data.head()"
   ]
  },
  {
   "cell_type": "code",
   "execution_count": null,
   "id": "chemical-yugoslavia",
   "metadata": {},
   "outputs": [],
   "source": [
    "set(sample_labels) - set(np.unique(tox_data.patient_id))"
   ]
  },
  {
   "cell_type": "markdown",
   "id": "front-marketing",
   "metadata": {},
   "source": [
    "---\n",
    "#### 4.1.a. EDA\n",
    "\n",
    "A closer look at the data shows that for all except for the Meningioma patient P52 CTCAE assessment information are available.\n",
    "We now will look at the distribution of a number of key characteristics which are of special interest from a clinical perspective. Namely, the occurence of fatigue, skin lesion (in particular dermatitis) and in general the grade distribution."
   ]
  },
  {
   "cell_type": "code",
   "execution_count": null,
   "id": "strange-hacker",
   "metadata": {},
   "outputs": [],
   "source": [
    "fig, ax = plt.subplots(figsize=[6, 4])\n",
    "ax = sns.countplot(data=tox_data, x=\"grade\", hue=\"cancer\", palette=color_palette)\n",
    "ax.set_yticks(np.arange(0, 30, 2))\n",
    "plt.legend(loc=\"upper right\")\n",
    "plt.show()\n",
    "plt.close()"
   ]
  },
  {
   "cell_type": "markdown",
   "id": "expressed-honduras",
   "metadata": {},
   "source": [
    "To assess if there are significant differences between the PBMC population of cancer patients that experienced fatigue during the treatment and/or dermatitis, or any other severe symptom (grade >= 3), we add corresponding labels to the PBMC data. Note that all labels are binary and thus neglect the different grades for dermatitis."
   ]
  },
  {
   "cell_type": "code",
   "execution_count": null,
   "id": "sound-letter",
   "metadata": {},
   "outputs": [],
   "source": [
    "data.loc[:, \"fatigue\"] = 0\n",
    "data.loc[:, \"dermatitis radiation\"] = 0\n",
    "data.loc[:, \"toxic\"] = \"no\"\n",
    "for cat in [\"fatigue\", \"dermatitis radiation\"]:\n",
    "    cat_patients = np.unique(tox_data.loc[tox_data.category == cat, \"patient_id\"])\n",
    "    for cat_patient in cat_patients:\n",
    "        data.loc[data.loc[:, \"sample\"] == cat_patient, cat] = np.array(\n",
    "            tox_data.loc[\n",
    "                (tox_data.patient_id == cat_patient) & (tox_data.category == cat),\n",
    "                \"grade\",\n",
    "            ]\n",
    "        )[0]\n",
    "\n",
    "toxic_patients = np.unique(tox_data.loc[tox_data.grade > 2, \"patient_id\"])\n",
    "for toxic_patient in toxic_patients:\n",
    "    data.loc[data.loc[:, \"sample\"] == toxic_patient, \"toxic\"] = \"yes\""
   ]
  },
  {
   "cell_type": "markdown",
   "id": "forced-praise",
   "metadata": {},
   "source": [
    "---"
   ]
  },
  {
   "cell_type": "markdown",
   "id": "north-virginia",
   "metadata": {},
   "source": [
    "#### 4.1.b. Assessment of the chrometric differences for patients with high toxicity\n",
    "\n",
    "We first, will assess the distribution of the previously identified chromatin and proteomic biomarkers when comparing patients that for which we observed CTCAE grades of 3 to those with smaller grades. Since all grade 3 patients are patients with Head & Neck tumors, we will restrict our analyses to those."
   ]
  },
  {
   "cell_type": "code",
   "execution_count": null,
   "id": "powered-integral",
   "metadata": {},
   "outputs": [],
   "source": [
    "markers = [\n",
    "    \"volume\",\n",
    "    \"hetero_to_euchromatin_area_ratio\",\n",
    "    \"radial_chromatin_content_p10\",\n",
    "    \"std_curvature\",\n",
    "    \"glcm_contrast_5px\",\n",
    "    \"glcm_correlation_5px\",\n",
    "]\n",
    "marker_labels = [\n",
    "    r\"Nuclear volume in px$^3$\",\n",
    "    \"relative HC/EC ratio\",\n",
    "    \"Fraction of the overall DNA intensity \\n within the inner 10% of the nuclear volume\",\n",
    "    \"Standard deviation of the curvature\",\n",
    "    \"Contrast of the GLCM \\n with a shift of 5px (2D)\",\n",
    "    \"Correlation of the GLCM \\n with a shift of 5px (2D)\",\n",
    "]\n",
    "hn_data = data.loc[data.cancer == \"Head & Neck\"]\n",
    "for i in range(len(markers)):\n",
    "    fig, ax = plt.subplots(figsize=[6, 4])\n",
    "    ax = sns.violinplot(data=hn_data, x=\"toxic\", y=markers[i], order=[\"no\", \"yes\"])\n",
    "    ax.set_ylabel(marker_labels[i])\n",
    "    ax.set_xlabel(\"CTCAE grade >= 3\")\n",
    "    annotator = Annotator(\n",
    "        ax,\n",
    "        [(\"no\", \"yes\")],\n",
    "        data=data,\n",
    "        x=\"toxic\",\n",
    "        y=markers[i],\n",
    "        order=[\"no\", \"yes\"],\n",
    "        plot=\"violinplot\",\n",
    "    )\n",
    "    annotator.configure(\n",
    "        test=\"t-test_welch\",\n",
    "        text_format=\"simple\",\n",
    "        loc=\"inside\",\n",
    "        comparisons_correction=\"Benjamini-Hochberg\",\n",
    "    )\n",
    "    annotator.apply_test()\n",
    "    annotator.annotate()\n",
    "    plt.show()\n",
    "    plt.close()"
   ]
  },
  {
   "cell_type": "code",
   "execution_count": null,
   "id": "amended-october",
   "metadata": {
    "scrolled": true
   },
   "outputs": [],
   "source": [
    "markers = [\n",
    "    \"rel_lamin_3d_int\",\n",
    "    \"rel_gh2ax_3d_int\",\n",
    "    \"gh2ax_foci_count\",\n",
    "    \"gh2ax_sum_foci_area\",\n",
    "    \"gh2ax_avg_foci_area\",\n",
    "]\n",
    "marker_labels = [\n",
    "    \"Volume-normalized nuclear\\nLamin A/C intensity\",\n",
    "    \"Normalized nuclear\\n\" r\"$\\gamma$H2AX intensity\",\n",
    "    r\"Number of $\\gamma$H2AX foci\",\n",
    "    r\"Sum of the $\\gamma$H2AX foci area\",\n",
    "    r\"Average size of the $\\gamma$H2AX foci\",\n",
    "]\n",
    "hn_data = data.loc[data.cancer == \"Head & Neck\"]\n",
    "for i in range(len(markers)):\n",
    "    fig, ax = plt.subplots(figsize=[6, 4])\n",
    "    ax = sns.barplot(data=hn_data, x=\"toxic\", y=markers[i], order=[\"no\", \"yes\"])\n",
    "    ax.set_ylabel(marker_labels[i])\n",
    "    ax.set_xlabel(\"CTCAE grade >= 3\")\n",
    "    annotator = Annotator(\n",
    "        ax,\n",
    "        [(\"no\", \"yes\")],\n",
    "        data=data,\n",
    "        x=\"toxic\",\n",
    "        y=markers[i],\n",
    "        order=[\"no\", \"yes\"],\n",
    "        plot=\"barplot\",\n",
    "    )\n",
    "    annotator.configure(\n",
    "        test=\"t-test_welch\",\n",
    "        text_format=\"simple\",\n",
    "        loc=\"inside\",\n",
    "        comparisons_correction=\"Benjamini-Hochberg\",\n",
    "    )\n",
    "    annotator.apply_test()\n",
    "    annotator.annotate()"
   ]
  },
  {
   "cell_type": "code",
   "execution_count": null,
   "id": "every-chamber",
   "metadata": {},
   "outputs": [],
   "source": [
    "groupkfold = StratifiedGroupKFold(n_splits=5)\n",
    "rfc = RandomForestClassifier(\n",
    "    n_estimators=500, n_jobs=10, random_state=seed, class_weight=\"balanced\"\n",
    ")\n",
    "\n",
    "hn_data = chrometric_data.loc[\n",
    "    np.logical_and(cancer_labels == \"Head & Neck\", tp_labels != \"prior\")\n",
    "]\n",
    "hn_toxic_labels = data.loc[hn_data.index, \"toxic\"]\n",
    "hn_sample_labels = data.loc[hn_data.index, \"sample\"]\n",
    "\n",
    "toxic_hn_cv_bacs = cross_val_score(\n",
    "    rfc,\n",
    "    cv=groupkfold,\n",
    "    X=np.array(hn_data),\n",
    "    y=np.array(hn_toxic_labels),\n",
    "    groups=np.array(hn_sample_labels),\n",
    "    scoring=\"balanced_accuracy\",\n",
    "    n_jobs=10,\n",
    ")\n",
    "print(\n",
    "    \"Balanced accuracy: {} (+/- {})\".format(\n",
    "        np.mean(toxic_hn_cv_bacs), np.std(toxic_hn_cv_bacs)\n",
    "    )\n",
    ")"
   ]
  },
  {
   "cell_type": "code",
   "execution_count": null,
   "id": "tribal-lightning",
   "metadata": {},
   "outputs": [],
   "source": [
    "test_samples = []\n",
    "for train_idx, test_idx in groupkfold.split(hn_data, hn_toxic_labels, hn_sample_labels):\n",
    "    test_samples.append(\"_\".join(np.unique(hn_sample_labels[test_idx])))\n",
    "cv_bac_df = pd.DataFrame(toxic_hn_cv_bacs, columns=[\"BAC\"])\n",
    "cv_bac_df[\"Test samples\"] = test_samples\n",
    "fig, ax = plt.subplots(figsize=[4, 4])\n",
    "ax = sns.barplot(x=\"Test samples\", y=\"BAC\", data=cv_bac_df, palette=[\"gray\"], ax=ax)\n",
    "ax.set_xticklabels(ax.get_xticklabels(), rotation=90)\n",
    "plt.title(\"Test set performance by fold\")\n",
    "plt.yticks(np.arange(0, 1, 0.1))\n",
    "plt.show()"
   ]
  },
  {
   "cell_type": "code",
   "execution_count": null,
   "id": "crude-integration",
   "metadata": {},
   "outputs": [],
   "source": [
    "toxic_patients"
   ]
  },
  {
   "cell_type": "markdown",
   "id": "temporal-reducing",
   "metadata": {},
   "source": [
    "---\n",
    "\n",
    "#### 4.1.b. Assessment of the chrometric differences for patients with experiencing fatigue\n",
    "\n",
    "We next will assess whether or not the chrometric data enables the distinction between patients that experience fatigue an those that do not. To assess that we will train a RandomForest classifier on trying to predict whether or not the CTCAE grade for fatigue of a patient is greater than 0 from the chrometric profiles of a given PBMC."
   ]
  },
  {
   "cell_type": "markdown",
   "id": "composite-motivation",
   "metadata": {},
   "source": [
    "Note that we only observe patients suffering from fatigue among the Meningioma and Glioma but not among the Head & Neck cancer patients. We thus subset the data to those. Since, we observe in total 9 of the 20 Glioma and Meningioma patients to suffer from fatigue and thus the data is approximately balanced we do not further subsample the data."
   ]
  },
  {
   "cell_type": "code",
   "execution_count": null,
   "id": "union-potential",
   "metadata": {},
   "outputs": [],
   "source": [
    "mggl_data = chrometric_data.loc[\n",
    "    np.logical_and(cancer_labels != \"Head & Neck\", tp_labels != \"prior\")\n",
    "]\n",
    "mggl_fatigue_labels = data.loc[mggl_data.index, \"fatigue\"] > 0\n",
    "mggl_sample_labels = data.loc[mggl_data.index, \"sample\"]"
   ]
  },
  {
   "cell_type": "code",
   "execution_count": null,
   "id": "driven-nurse",
   "metadata": {},
   "outputs": [],
   "source": [
    "fatigue_cv_conf_mtx_patient = get_cv_conf_mtx(\n",
    "    estimator=rfc,\n",
    "    features=mggl_data,\n",
    "    labels=np.array(mggl_fatigue_labels),\n",
    "    groups=np.array(mggl_sample_labels),\n",
    "    scale_features=False,\n",
    "    n_folds=5,\n",
    "    # order=[False, True],\n",
    ")\n",
    "normalized_cv_conf_mtx_patient = fatigue_cv_conf_mtx_patient.divide(\n",
    "    fatigue_cv_conf_mtx_patient.sum(axis=1), axis=0\n",
    ")"
   ]
  },
  {
   "cell_type": "code",
   "execution_count": null,
   "id": "scenic-thailand",
   "metadata": {},
   "outputs": [],
   "source": [
    "fig, ax = plt.subplots(figsize=[5, 4])\n",
    "ax = sns.heatmap(\n",
    "    normalized_cv_conf_mtx_patient,\n",
    "    annot=True,\n",
    "    fmt=\".4f\",\n",
    "    cmap=\"viridis\",\n",
    "    vmin=0,\n",
    "    vmax=1,\n",
    "    # cbar=False,\n",
    ")\n",
    "ax.set_xlabel(\"Predicted fatigue\")\n",
    "ax.set_ylabel(\"True fatigue\")\n",
    "plt.show()"
   ]
  },
  {
   "cell_type": "code",
   "execution_count": null,
   "id": "catholic-remark",
   "metadata": {},
   "outputs": [],
   "source": [
    "groupkfold = StratifiedGroupKFold(n_splits=5)\n",
    "fatigue_cv_bacs = cross_val_score(\n",
    "    rfc,\n",
    "    cv=groupkfold,\n",
    "    X=np.array(mggl_data),\n",
    "    y=np.array(mggl_fatigue_labels),\n",
    "    groups=np.array(mggl_sample_labels),\n",
    "    scoring=\"balanced_accuracy\",\n",
    "    n_jobs=10,\n",
    ")\n",
    "print(\n",
    "    \"Balanced accuracy: {} (+/- {})\".format(\n",
    "        np.mean(fatigue_cv_bacs), np.std(fatigue_cv_bacs)\n",
    "    )\n",
    ")"
   ]
  },
  {
   "cell_type": "code",
   "execution_count": null,
   "id": "mediterranean-solid",
   "metadata": {},
   "outputs": [],
   "source": [
    "test_samples = []\n",
    "for train_idx, test_idx in groupkfold.split(\n",
    "    mggl_data, mggl_fatigue_labels, mggl_sample_labels\n",
    "):\n",
    "    test_samples.append(\"_\".join(np.unique(mggl_sample_labels[test_idx])))\n",
    "cv_bac_df = pd.DataFrame(fatigue_cv_bacs, columns=[\"BAC\"])\n",
    "cv_bac_df[\"Test samples\"] = test_samples\n",
    "fig, ax = plt.subplots(figsize=[4, 4])\n",
    "ax = sns.barplot(x=\"Test samples\", y=\"BAC\", data=cv_bac_df, palette=[\"gray\"], ax=ax)\n",
    "ax.set_xticklabels(ax.get_xticklabels(), rotation=90)\n",
    "plt.title(\"Test set performance by fold\")\n",
    "plt.yticks(np.arange(0, 1, 0.1))\n",
    "plt.show()"
   ]
  },
  {
   "cell_type": "code",
   "execution_count": null,
   "id": "harmful-craps",
   "metadata": {},
   "outputs": [],
   "source": [
    "set(mggl_sample_labels[mggl_fatigue_labels == True])"
   ]
  },
  {
   "cell_type": "markdown",
   "id": "portable-flower",
   "metadata": {},
   "source": [
    "---\n",
    "\n",
    "#### 4.1.b. Assessment of the chrometric differences for patients with experiencing dermatitis radiation\n",
    "\n",
    "We next will assess whether or not the chrometric data enables the distinction between patients that experience dermatitis an those that do not. To assess that we will train a RandomForest classifier on trying to predict whether or not the CTCAE grade for dermatitis of a patient is greater than 0 from the chrometric profiles of a given PBMC.\n",
    "\n",
    "To this end, we again exclude all Head & Neck cancer patient samples as 9/10 of those have experienced dermatitis."
   ]
  },
  {
   "cell_type": "code",
   "execution_count": null,
   "id": "fluid-white",
   "metadata": {},
   "outputs": [],
   "source": [
    "mggl_derm_labels = data.loc[mggl_data.index, \"dermatitis radiation\"] > 0"
   ]
  },
  {
   "cell_type": "code",
   "execution_count": null,
   "id": "exotic-stamp",
   "metadata": {},
   "outputs": [],
   "source": [
    "derm_cv_conf_mtx_patient = get_cv_conf_mtx(\n",
    "    estimator=rfc,\n",
    "    features=mggl_data,\n",
    "    labels=np.array(mggl_derm_labels),\n",
    "    groups=np.array(mggl_sample_labels),\n",
    "    scale_features=False,\n",
    "    n_folds=5,\n",
    "    # order=[False, True],\n",
    ")\n",
    "normalized_cv_conf_mtx_patient = derm_cv_conf_mtx_patient.divide(\n",
    "    derm_cv_conf_mtx_patient.sum(axis=1), axis=0\n",
    ")"
   ]
  },
  {
   "cell_type": "code",
   "execution_count": null,
   "id": "protected-marine",
   "metadata": {},
   "outputs": [],
   "source": [
    "fig, ax = plt.subplots(figsize=[5, 4])\n",
    "ax = sns.heatmap(\n",
    "    normalized_cv_conf_mtx_patient,\n",
    "    annot=True,\n",
    "    fmt=\".4f\",\n",
    "    cmap=\"viridis\",\n",
    "    vmin=0,\n",
    "    vmax=1,\n",
    "    # cbar=False,\n",
    ")\n",
    "ax.set_xlabel(\"Predicted dermatitis\")\n",
    "ax.set_ylabel(\"True dermatitis\")\n",
    "plt.show()"
   ]
  },
  {
   "cell_type": "code",
   "execution_count": null,
   "id": "affiliated-arthritis",
   "metadata": {},
   "outputs": [],
   "source": [
    "derm_cv_bacs = cross_val_score(\n",
    "    rfc,\n",
    "    cv=groupkfold,\n",
    "    X=np.array(mggl_data),\n",
    "    y=np.array(mggl_derm_labels),\n",
    "    groups=np.array(mggl_sample_labels),\n",
    "    scoring=\"balanced_accuracy\",\n",
    "    n_jobs=10,\n",
    ")\n",
    "print(\n",
    "    \"Balanced accuracy: {} (+/- {})\".format(np.mean(derm_cv_bacs), np.std(derm_cv_bacs))\n",
    ")"
   ]
  },
  {
   "cell_type": "code",
   "execution_count": null,
   "id": "binary-hours",
   "metadata": {},
   "outputs": [],
   "source": [
    "test_samples = []\n",
    "for train_idx, test_idx in groupkfold.split(\n",
    "    mggl_data, mggl_derm_labels, mggl_sample_labels\n",
    "):\n",
    "    test_samples.append(\"_\".join(np.unique(mggl_sample_labels[test_idx])))\n",
    "cv_bac_df = pd.DataFrame(derm_cv_bacs, columns=[\"BAC\"])\n",
    "cv_bac_df[\"Test samples\"] = test_samples\n",
    "fig, ax = plt.subplots(figsize=[4, 4])\n",
    "ax = sns.barplot(x=\"Test samples\", y=\"BAC\", data=cv_bac_df, palette=[\"gray\"], ax=ax)\n",
    "ax.set_xticklabels(ax.get_xticklabels(), rotation=90)\n",
    "plt.title(\"Test set performance by fold\")\n",
    "plt.yticks(np.arange(0, 1, 0.1))\n",
    "plt.show()"
   ]
  },
  {
   "cell_type": "code",
   "execution_count": null,
   "id": "laughing-sympathy",
   "metadata": {},
   "outputs": [],
   "source": [
    "set(mggl_sample_labels[mggl_derm_labels == True])"
   ]
  }
 ],
 "metadata": {
  "kernelspec": {
   "display_name": "Python 3",
   "language": "python",
   "name": "python3"
  },
  "language_info": {
   "codemirror_mode": {
    "name": "ipython",
    "version": 3
   },
   "file_extension": ".py",
   "mimetype": "text/x-python",
   "name": "python",
   "nbconvert_exporter": "python",
   "pygments_lexer": "ipython3",
   "version": "3.8.8"
  },
  "toc": {
   "base_numbering": 1,
   "nav_menu": {},
   "number_sections": true,
   "sideBar": true,
   "skip_h1_title": false,
   "title_cell": "Table of Contents",
   "title_sidebar": "Contents",
   "toc_cell": false,
   "toc_position": {},
   "toc_section_display": true,
   "toc_window_display": false
  }
 },
 "nbformat": 4,
 "nbformat_minor": 5
}
