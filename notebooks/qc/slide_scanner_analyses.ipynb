{
 "cells": [
  {
   "cell_type": "markdown",
   "id": "regulation-cameroon",
   "metadata": {},
   "source": [
    "# Analysis of the slide scanner quality\n",
    "\n",
    "---\n",
    "\n",
    "This notebook assesses the quality of the slide scanner images for PBMCs by comparing it to images from the confocal microscopy setup. Note that there are several differences between the image characteristics that we aim to correct for before further analyses are conducted.\n",
    "1. X-Y resolution is 0.324 microns compared to 0.09 microns, i.e. the resolution is 3.6 times better from the confocal setup. So while on average the size of a PBMC nucleus is roughly 36 square microns that corresponds to roughly 83 pixels in the slide scanner setup and 300 in the confocal setup.\n",
    "2. The imaging depth for the sample images was set to 8bit for the slide scanner as opposed to the 12bit imaging depth for the confocal setup.\n",
    "\n",
    "To compare the two setups we will artificially reduce the imaging depth of the confocal images. To compare the two setups we will a) provide a visual evaluation of the image quality for number of randomly sampled nuclei and b) extract features in 2D from both setups, compare the respective distributions.\n",
    "\n",
    "---"
   ]
  },
  {
   "cell_type": "markdown",
   "id": "different-bhutan",
   "metadata": {},
   "source": [
    "## 0. Environmental setup"
   ]
  },
  {
   "cell_type": "code",
   "execution_count": 1,
   "id": "vocational-dependence",
   "metadata": {},
   "outputs": [],
   "source": [
    "import pandas as pd\n",
    "import numpy as np\n",
    "import seaborn as sns\n",
    "import matplotlib.pyplot as plt\n",
    "from skimage import io"
   ]
  },
  {
   "cell_type": "markdown",
   "id": "separate-chess",
   "metadata": {},
   "source": [
    "---\n",
    "## 1. Read in data"
   ]
  },
  {
   "cell_type": "code",
   "execution_count": null,
   "id": "passive-lover",
   "metadata": {},
   "outputs": [],
   "source": [
    "ss_dapi_lamin_gh2ax = io.imread(\"../../../data/\")"
   ]
  }
 ],
 "metadata": {
  "kernelspec": {
   "display_name": "Python 3",
   "language": "python",
   "name": "python3"
  },
  "language_info": {
   "codemirror_mode": {
    "name": "ipython",
    "version": 3
   },
   "file_extension": ".py",
   "mimetype": "text/x-python",
   "name": "python",
   "nbconvert_exporter": "python",
   "pygments_lexer": "ipython3",
   "version": "3.8.8"
  }
 },
 "nbformat": 4,
 "nbformat_minor": 5
}
