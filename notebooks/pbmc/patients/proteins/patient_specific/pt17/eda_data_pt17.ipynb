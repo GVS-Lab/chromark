{
 "cells": [
  {
   "cell_type": "markdown",
   "id": "eight-british",
   "metadata": {},
   "source": [
    "# Exploratory data analysis of the data from patient 17\n",
    "\n",
    "---\n",
    "\n",
    "In this notebook we will analyze PBMC data set from patient 17 obtained from blood samples taken at 3 different time points before, during and after the proton therapy treatment. The treatment takes approximately 6 weeks with multiple sessions.\n",
    "\n",
    "The patient is 21 year old female that has Hodgkin's disease. At each time point 10ml blood were taken and the PBMCs were purifried, stained with DAPI, gH2AX and Lamin A/C and imaged with 16bit at a resolution of 0.09 micron in x-y direction, respectively 0.5 micron in z-direction. Each FoV is of the size of (1024x1024x40) pixels.\n",
    "\n",
    "The data will be compared with a control data set of PBMCs purified from blood of 10 healthy volunteers of varying sex and age (24-60). In this analyses we will use features extracted that describe the nuclear morphology and chromatin organization in 2D/3D and the gH2AX and Lamin A/C expression.\n",
    "\n",
    "---"
   ]
  },
  {
   "cell_type": "markdown",
   "id": "south-video",
   "metadata": {},
   "source": [
    "## 0. Environmental setup"
   ]
  },
  {
   "cell_type": "markdown",
   "id": "liquid-puzzle",
   "metadata": {},
   "source": [
    "First, we load the required libraries and define functions, that we will use later on for the analyses."
   ]
  },
  {
   "cell_type": "code",
   "execution_count": 1,
   "id": "forward-newcastle",
   "metadata": {},
   "outputs": [
    {
     "data": {
      "application/javascript": [
       "\n",
       "            setTimeout(function() {\n",
       "                var nbb_cell_id = 1;\n",
       "                var nbb_unformatted_code = \"import pandas as pd\\nimport numpy as np\\nimport seaborn as sns\\nimport random\\nimport os\\nimport matplotlib.pyplot as plt\\nimport tifffile\\nfrom sklearn.manifold import TSNE\\nfrom sklearn.preprocessing import StandardScaler, LabelEncoder\\nfrom sklearn.ensemble import RandomForestClassifier\\nfrom sklearn.model_selection import cross_validate, StratifiedKFold\\nfrom sklearn.metrics import confusion_matrix\\nfrom sklearn.metrics import auc\\nfrom sklearn.metrics import plot_roc_curve\\nfrom sklearn.metrics import roc_curve, roc_auc_score, RocCurveDisplay\\nfrom tqdm import tqdm\\nfrom statsmodels.stats.outliers_influence import variance_inflation_factor\\nfrom statannot import add_stat_annotation\\n\\nimport sys\\nimport cv2 as cv\\n\\nsys.path.append(\\\"../../../../..\\\")\\nfrom src.utils.notebooks.eda import *\\n\\nseed = 1234\\nrandom.seed(1234)\\nnp.random.seed(1234)\\n\\n%load_ext nb_black\";\n",
       "                var nbb_formatted_code = \"import pandas as pd\\nimport numpy as np\\nimport seaborn as sns\\nimport random\\nimport os\\nimport matplotlib.pyplot as plt\\nimport tifffile\\nfrom sklearn.manifold import TSNE\\nfrom sklearn.preprocessing import StandardScaler, LabelEncoder\\nfrom sklearn.ensemble import RandomForestClassifier\\nfrom sklearn.model_selection import cross_validate, StratifiedKFold\\nfrom sklearn.metrics import confusion_matrix\\nfrom sklearn.metrics import auc\\nfrom sklearn.metrics import plot_roc_curve\\nfrom sklearn.metrics import roc_curve, roc_auc_score, RocCurveDisplay\\nfrom tqdm import tqdm\\nfrom statsmodels.stats.outliers_influence import variance_inflation_factor\\nfrom statannot import add_stat_annotation\\n\\nimport sys\\nimport cv2 as cv\\n\\nsys.path.append(\\\"../../../../..\\\")\\nfrom src.utils.notebooks.eda import *\\n\\nseed = 1234\\nrandom.seed(1234)\\nnp.random.seed(1234)\\n\\n%load_ext nb_black\";\n",
       "                var nbb_cells = Jupyter.notebook.get_cells();\n",
       "                for (var i = 0; i < nbb_cells.length; ++i) {\n",
       "                    if (nbb_cells[i].input_prompt_number == nbb_cell_id) {\n",
       "                        if (nbb_cells[i].get_text() == nbb_unformatted_code) {\n",
       "                             nbb_cells[i].set_text(nbb_formatted_code);\n",
       "                        }\n",
       "                        break;\n",
       "                    }\n",
       "                }\n",
       "            }, 500);\n",
       "            "
      ],
      "text/plain": [
       "<IPython.core.display.Javascript object>"
      ]
     },
     "metadata": {},
     "output_type": "display_data"
    }
   ],
   "source": [
    "import pandas as pd\n",
    "import numpy as np\n",
    "import seaborn as sns\n",
    "import random\n",
    "import os\n",
    "import matplotlib.pyplot as plt\n",
    "import tifffile\n",
    "from sklearn.manifold import TSNE\n",
    "from sklearn.preprocessing import StandardScaler, LabelEncoder\n",
    "from sklearn.ensemble import RandomForestClassifier\n",
    "from sklearn.model_selection import cross_validate, StratifiedKFold\n",
    "from sklearn.metrics import confusion_matrix\n",
    "from sklearn.metrics import auc\n",
    "from sklearn.metrics import plot_roc_curve\n",
    "from sklearn.metrics import roc_curve, roc_auc_score, RocCurveDisplay\n",
    "from tqdm import tqdm\n",
    "from statsmodels.stats.outliers_influence import variance_inflation_factor\n",
    "from statannot import add_stat_annotation\n",
    "\n",
    "import sys\n",
    "import cv2 as cv\n",
    "\n",
    "sys.path.append(\"../../../../..\")\n",
    "from src.utils.notebooks.eda import *\n",
    "\n",
    "seed = 1234\n",
    "random.seed(1234)\n",
    "np.random.seed(1234)\n",
    "\n",
    "%load_ext nb_black"
   ]
  },
  {
   "cell_type": "markdown",
   "id": "acknowledged-ghana",
   "metadata": {},
   "source": [
    "---\n",
    "\n",
    "## 1. Read in data\n",
    "\n",
    "Next, we read in the data sets that describe the PBMC population of the healthy controls as well as of patient 17 at the different time points over the course of the treatment."
   ]
  },
  {
   "cell_type": "code",
   "execution_count": 2,
   "id": "adapted-adjustment",
   "metadata": {},
   "outputs": [
    {
     "data": {
      "application/javascript": [
       "\n",
       "            setTimeout(function() {\n",
       "                var nbb_cell_id = 2;\n",
       "                var nbb_unformatted_code = \"hv_basedir = \\\"../../../../../data/pbmc_hv/proteins/\\\"\\nhv_subdirs = [f.path for f in os.scandir(hv_basedir) if f.is_dir()]\\nhv_datas = []\\nfor hv_subdir in hv_subdirs:\\n    sample = os.path.split(hv_subdir)[1].split(\\\"_\\\")[0].lower()\\n    hv_datas.append(\\n        read_in_data(\\n            feature_file_path=hv_subdir\\n            + \\\"/preprocessed/full_pipeline/nuclear_features.csv\\\",\\n            qc_file_path=hv_subdir\\n            + \\\"/preprocessed/full_pipeline/segmentation/qc_results.csv\\\",\\n            sample=sample,\\n        )\\n    )\\nhv_data = hv_datas[0].copy()\\nfor i in range(1, len(hv_datas)):\\n    hv_data = hv_data.append(hv_datas[i])\\nhv_data[\\\"condition\\\"] = \\\"ctrl\\\"\";\n",
       "                var nbb_formatted_code = \"hv_basedir = \\\"../../../../../data/pbmc_hv/proteins/\\\"\\nhv_subdirs = [f.path for f in os.scandir(hv_basedir) if f.is_dir()]\\nhv_datas = []\\nfor hv_subdir in hv_subdirs:\\n    sample = os.path.split(hv_subdir)[1].split(\\\"_\\\")[0].lower()\\n    hv_datas.append(\\n        read_in_data(\\n            feature_file_path=hv_subdir\\n            + \\\"/preprocessed/full_pipeline/nuclear_features.csv\\\",\\n            qc_file_path=hv_subdir\\n            + \\\"/preprocessed/full_pipeline/segmentation/qc_results.csv\\\",\\n            sample=sample,\\n        )\\n    )\\nhv_data = hv_datas[0].copy()\\nfor i in range(1, len(hv_datas)):\\n    hv_data = hv_data.append(hv_datas[i])\\nhv_data[\\\"condition\\\"] = \\\"ctrl\\\"\";\n",
       "                var nbb_cells = Jupyter.notebook.get_cells();\n",
       "                for (var i = 0; i < nbb_cells.length; ++i) {\n",
       "                    if (nbb_cells[i].input_prompt_number == nbb_cell_id) {\n",
       "                        if (nbb_cells[i].get_text() == nbb_unformatted_code) {\n",
       "                             nbb_cells[i].set_text(nbb_formatted_code);\n",
       "                        }\n",
       "                        break;\n",
       "                    }\n",
       "                }\n",
       "            }, 500);\n",
       "            "
      ],
      "text/plain": [
       "<IPython.core.display.Javascript object>"
      ]
     },
     "metadata": {},
     "output_type": "display_data"
    }
   ],
   "source": [
    "hv_basedir = \"../../../../../data/pbmc_hv/proteins/\"\n",
    "hv_subdirs = [f.path for f in os.scandir(hv_basedir) if f.is_dir()]\n",
    "hv_datas = []\n",
    "for hv_subdir in hv_subdirs:\n",
    "    sample = os.path.split(hv_subdir)[1].split(\"_\")[0].lower()\n",
    "    hv_datas.append(\n",
    "        read_in_data(\n",
    "            feature_file_path=hv_subdir\n",
    "            + \"/preprocessed/full_pipeline/nuclear_features.csv\",\n",
    "            qc_file_path=hv_subdir\n",
    "            + \"/preprocessed/full_pipeline/segmentation/qc_results.csv\",\n",
    "            sample=sample,\n",
    "        )\n",
    "    )\n",
    "hv_data = hv_datas[0].copy()\n",
    "for i in range(1, len(hv_datas)):\n",
    "    hv_data = hv_data.append(hv_datas[i])\n",
    "hv_data[\"condition\"] = \"ctrl\""
   ]
  },
  {
   "cell_type": "code",
   "execution_count": 3,
   "id": "touched-lunch",
   "metadata": {},
   "outputs": [
    {
     "data": {
      "application/javascript": [
       "\n",
       "            setTimeout(function() {\n",
       "                var nbb_cell_id = 3;\n",
       "                var nbb_unformatted_code = \"p17_1_basedir = \\\"../../../../../data/pbmc_pt/proteins/timepoint_1/P17_1_PBMCs_Dapi_gH2AX_Lamin_8_09_21_2X_16bit_poly\\\"\\np17_1_data = read_in_data(\\n    feature_file_path=p17_1_basedir\\n    + \\\"/preprocessed/full_pipeline/nuclear_features.csv\\\",\\n    qc_file_path=p17_1_basedir\\n    + \\\"/preprocessed/full_pipeline/segmentation/qc_results.csv\\\",\\n    sample=\\\"p17_1\\\",\\n)\\np17_1_data[\\\"condition\\\"] = \\\"tp1\\\"\";\n",
       "                var nbb_formatted_code = \"p17_1_basedir = \\\"../../../../../data/pbmc_pt/proteins/timepoint_1/P17_1_PBMCs_Dapi_gH2AX_Lamin_8_09_21_2X_16bit_poly\\\"\\np17_1_data = read_in_data(\\n    feature_file_path=p17_1_basedir\\n    + \\\"/preprocessed/full_pipeline/nuclear_features.csv\\\",\\n    qc_file_path=p17_1_basedir\\n    + \\\"/preprocessed/full_pipeline/segmentation/qc_results.csv\\\",\\n    sample=\\\"p17_1\\\",\\n)\\np17_1_data[\\\"condition\\\"] = \\\"tp1\\\"\";\n",
       "                var nbb_cells = Jupyter.notebook.get_cells();\n",
       "                for (var i = 0; i < nbb_cells.length; ++i) {\n",
       "                    if (nbb_cells[i].input_prompt_number == nbb_cell_id) {\n",
       "                        if (nbb_cells[i].get_text() == nbb_unformatted_code) {\n",
       "                             nbb_cells[i].set_text(nbb_formatted_code);\n",
       "                        }\n",
       "                        break;\n",
       "                    }\n",
       "                }\n",
       "            }, 500);\n",
       "            "
      ],
      "text/plain": [
       "<IPython.core.display.Javascript object>"
      ]
     },
     "metadata": {},
     "output_type": "display_data"
    }
   ],
   "source": [
    "p17_1_basedir = \"../../../../../data/pbmc_pt/proteins/timepoint_1/P17_1_PBMCs_Dapi_gH2AX_Lamin_8_09_21_2X_16bit_poly\"\n",
    "p17_1_data = read_in_data(\n",
    "    feature_file_path=p17_1_basedir\n",
    "    + \"/preprocessed/full_pipeline/nuclear_features.csv\",\n",
    "    qc_file_path=p17_1_basedir\n",
    "    + \"/preprocessed/full_pipeline/segmentation/qc_results.csv\",\n",
    "    sample=\"p17_1\",\n",
    ")\n",
    "p17_1_data[\"condition\"] = \"tp1\""
   ]
  },
  {
   "cell_type": "code",
   "execution_count": 4,
   "id": "recorded-oakland",
   "metadata": {},
   "outputs": [
    {
     "data": {
      "application/javascript": [
       "\n",
       "            setTimeout(function() {\n",
       "                var nbb_cell_id = 4;\n",
       "                var nbb_unformatted_code = \"p17_2_basedir = \\\"../../../../../data/pbmc_pt/proteins/timepoint_2/P17_2_PBMCs_Dapi_gH2AX_Lamin_15_09_21_2X_16bit_poly\\\"\\np17_2_data = read_in_data(\\n    feature_file_path=p17_2_basedir\\n    + \\\"/preprocessed/full_pipeline/nuclear_features.csv\\\",\\n    qc_file_path=p17_2_basedir\\n    + \\\"/preprocessed/full_pipeline/segmentation/qc_results.csv\\\",\\n    sample=\\\"p17_2\\\",\\n)\\np17_2_data[\\\"condition\\\"] = \\\"tp2\\\"\";\n",
       "                var nbb_formatted_code = \"p17_2_basedir = \\\"../../../../../data/pbmc_pt/proteins/timepoint_2/P17_2_PBMCs_Dapi_gH2AX_Lamin_15_09_21_2X_16bit_poly\\\"\\np17_2_data = read_in_data(\\n    feature_file_path=p17_2_basedir\\n    + \\\"/preprocessed/full_pipeline/nuclear_features.csv\\\",\\n    qc_file_path=p17_2_basedir\\n    + \\\"/preprocessed/full_pipeline/segmentation/qc_results.csv\\\",\\n    sample=\\\"p17_2\\\",\\n)\\np17_2_data[\\\"condition\\\"] = \\\"tp2\\\"\";\n",
       "                var nbb_cells = Jupyter.notebook.get_cells();\n",
       "                for (var i = 0; i < nbb_cells.length; ++i) {\n",
       "                    if (nbb_cells[i].input_prompt_number == nbb_cell_id) {\n",
       "                        if (nbb_cells[i].get_text() == nbb_unformatted_code) {\n",
       "                             nbb_cells[i].set_text(nbb_formatted_code);\n",
       "                        }\n",
       "                        break;\n",
       "                    }\n",
       "                }\n",
       "            }, 500);\n",
       "            "
      ],
      "text/plain": [
       "<IPython.core.display.Javascript object>"
      ]
     },
     "metadata": {},
     "output_type": "display_data"
    }
   ],
   "source": [
    "p17_2_basedir = \"../../../../../data/pbmc_pt/proteins/timepoint_2/P17_2_PBMCs_Dapi_gH2AX_Lamin_15_09_21_2X_16bit_poly\"\n",
    "p17_2_data = read_in_data(\n",
    "    feature_file_path=p17_2_basedir\n",
    "    + \"/preprocessed/full_pipeline/nuclear_features.csv\",\n",
    "    qc_file_path=p17_2_basedir\n",
    "    + \"/preprocessed/full_pipeline/segmentation/qc_results.csv\",\n",
    "    sample=\"p17_2\",\n",
    ")\n",
    "p17_2_data[\"condition\"] = \"tp2\""
   ]
  },
  {
   "cell_type": "code",
   "execution_count": 5,
   "id": "arranged-toner",
   "metadata": {},
   "outputs": [
    {
     "data": {
      "application/javascript": [
       "\n",
       "            setTimeout(function() {\n",
       "                var nbb_cell_id = 5;\n",
       "                var nbb_unformatted_code = \"p17_3_basedir = \\\"../../../../../data/pbmc_pt/proteins/timepoint_3/P17_3_PBMCs_Dapi_gH2AX_Lamin_23_09_21_2X_16bit_poly\\\"\\np17_3_data = read_in_data(\\n    feature_file_path=p17_3_basedir\\n    + \\\"/preprocessed/full_pipeline/nuclear_features.csv\\\",\\n    qc_file_path=p17_3_basedir\\n    + \\\"/preprocessed/full_pipeline/segmentation/qc_results.csv\\\",\\n    sample=\\\"p17_3\\\",\\n)\\np17_3_data[\\\"condition\\\"] = \\\"tp3\\\"\";\n",
       "                var nbb_formatted_code = \"p17_3_basedir = \\\"../../../../../data/pbmc_pt/proteins/timepoint_3/P17_3_PBMCs_Dapi_gH2AX_Lamin_23_09_21_2X_16bit_poly\\\"\\np17_3_data = read_in_data(\\n    feature_file_path=p17_3_basedir\\n    + \\\"/preprocessed/full_pipeline/nuclear_features.csv\\\",\\n    qc_file_path=p17_3_basedir\\n    + \\\"/preprocessed/full_pipeline/segmentation/qc_results.csv\\\",\\n    sample=\\\"p17_3\\\",\\n)\\np17_3_data[\\\"condition\\\"] = \\\"tp3\\\"\";\n",
       "                var nbb_cells = Jupyter.notebook.get_cells();\n",
       "                for (var i = 0; i < nbb_cells.length; ++i) {\n",
       "                    if (nbb_cells[i].input_prompt_number == nbb_cell_id) {\n",
       "                        if (nbb_cells[i].get_text() == nbb_unformatted_code) {\n",
       "                             nbb_cells[i].set_text(nbb_formatted_code);\n",
       "                        }\n",
       "                        break;\n",
       "                    }\n",
       "                }\n",
       "            }, 500);\n",
       "            "
      ],
      "text/plain": [
       "<IPython.core.display.Javascript object>"
      ]
     },
     "metadata": {},
     "output_type": "display_data"
    }
   ],
   "source": [
    "p17_3_basedir = \"../../../../../data/pbmc_pt/proteins/timepoint_3/P17_3_PBMCs_Dapi_gH2AX_Lamin_23_09_21_2X_16bit_poly\"\n",
    "p17_3_data = read_in_data(\n",
    "    feature_file_path=p17_3_basedir\n",
    "    + \"/preprocessed/full_pipeline/nuclear_features.csv\",\n",
    "    qc_file_path=p17_3_basedir\n",
    "    + \"/preprocessed/full_pipeline/segmentation/qc_results.csv\",\n",
    "    sample=\"p17_3\",\n",
    ")\n",
    "p17_3_data[\"condition\"] = \"tp3\""
   ]
  },
  {
   "cell_type": "markdown",
   "id": "canadian-picking",
   "metadata": {},
   "source": [
    "We will randomly subsample the data from each condition to the same sample size that is the minimum number of samples in any of the conditions."
   ]
  },
  {
   "cell_type": "code",
   "execution_count": 6,
   "id": "aging-daily",
   "metadata": {},
   "outputs": [
    {
     "data": {
      "text/html": [
       "<div>\n",
       "<style scoped>\n",
       "    .dataframe tbody tr th:only-of-type {\n",
       "        vertical-align: middle;\n",
       "    }\n",
       "\n",
       "    .dataframe tbody tr th {\n",
       "        vertical-align: top;\n",
       "    }\n",
       "\n",
       "    .dataframe thead th {\n",
       "        text-align: right;\n",
       "    }\n",
       "</style>\n",
       "<table border=\"1\" class=\"dataframe\">\n",
       "  <thead>\n",
       "    <tr style=\"text-align: right;\">\n",
       "      <th></th>\n",
       "      <th>label</th>\n",
       "      <th>min_calliper</th>\n",
       "      <th>max_calliper</th>\n",
       "      <th>smallest_largest_calliper</th>\n",
       "      <th>min_radius</th>\n",
       "      <th>max_radius</th>\n",
       "      <th>med_radius</th>\n",
       "      <th>avg_radius</th>\n",
       "      <th>mode_radius</th>\n",
       "      <th>d25_radius</th>\n",
       "      <th>...</th>\n",
       "      <th>rel_lamin_3d_int</th>\n",
       "      <th>min_lamin_3d_int</th>\n",
       "      <th>max_lamin_3d_int</th>\n",
       "      <th>mean_lamin_3d_int</th>\n",
       "      <th>std_lamin_3d_int</th>\n",
       "      <th>q25_lamin_3d_int</th>\n",
       "      <th>q75_lamin_3d_int</th>\n",
       "      <th>median_lamin_3d_int</th>\n",
       "      <th>kurtosis_lamin_3d_int</th>\n",
       "      <th>skewness_lamin_3d_int</th>\n",
       "    </tr>\n",
       "  </thead>\n",
       "  <tbody>\n",
       "    <tr>\n",
       "      <th>count</th>\n",
       "      <td>1424.000000</td>\n",
       "      <td>1424.000000</td>\n",
       "      <td>1424.000000</td>\n",
       "      <td>1424.000000</td>\n",
       "      <td>1424.000000</td>\n",
       "      <td>1424.000000</td>\n",
       "      <td>1424.000000</td>\n",
       "      <td>1424.000000</td>\n",
       "      <td>1424.000000</td>\n",
       "      <td>1424.000000</td>\n",
       "      <td>...</td>\n",
       "      <td>1424.000000</td>\n",
       "      <td>1424.0</td>\n",
       "      <td>1424.000000</td>\n",
       "      <td>1424.000000</td>\n",
       "      <td>1424.000000</td>\n",
       "      <td>1424.0</td>\n",
       "      <td>1424.000000</td>\n",
       "      <td>1424.000000</td>\n",
       "      <td>1424.000000</td>\n",
       "      <td>1424.000000</td>\n",
       "    </tr>\n",
       "    <tr>\n",
       "      <th>mean</th>\n",
       "      <td>5.166433</td>\n",
       "      <td>61.049860</td>\n",
       "      <td>78.066713</td>\n",
       "      <td>0.788088</td>\n",
       "      <td>24.665151</td>\n",
       "      <td>39.940776</td>\n",
       "      <td>33.453910</td>\n",
       "      <td>33.210207</td>\n",
       "      <td>24.740944</td>\n",
       "      <td>30.555314</td>\n",
       "      <td>...</td>\n",
       "      <td>1089.498342</td>\n",
       "      <td>0.0</td>\n",
       "      <td>12810.949438</td>\n",
       "      <td>1089.498342</td>\n",
       "      <td>1300.026391</td>\n",
       "      <td>0.0</td>\n",
       "      <td>185.551440</td>\n",
       "      <td>636.151334</td>\n",
       "      <td>62.519346</td>\n",
       "      <td>6.449200</td>\n",
       "    </tr>\n",
       "    <tr>\n",
       "      <th>std</th>\n",
       "      <td>3.230167</td>\n",
       "      <td>6.199963</td>\n",
       "      <td>8.595978</td>\n",
       "      <td>0.091177</td>\n",
       "      <td>4.500293</td>\n",
       "      <td>4.753760</td>\n",
       "      <td>2.737215</td>\n",
       "      <td>2.647583</td>\n",
       "      <td>4.621154</td>\n",
       "      <td>2.787718</td>\n",
       "      <td>...</td>\n",
       "      <td>2948.327023</td>\n",
       "      <td>0.0</td>\n",
       "      <td>12201.340538</td>\n",
       "      <td>2948.327023</td>\n",
       "      <td>2294.196831</td>\n",
       "      <td>0.0</td>\n",
       "      <td>699.380011</td>\n",
       "      <td>2434.821799</td>\n",
       "      <td>31.623161</td>\n",
       "      <td>1.604571</td>\n",
       "    </tr>\n",
       "    <tr>\n",
       "      <th>min</th>\n",
       "      <td>1.000000</td>\n",
       "      <td>30.000000</td>\n",
       "      <td>52.000000</td>\n",
       "      <td>0.435185</td>\n",
       "      <td>0.415663</td>\n",
       "      <td>27.022002</td>\n",
       "      <td>20.927688</td>\n",
       "      <td>20.807390</td>\n",
       "      <td>0.415663</td>\n",
       "      <td>15.027079</td>\n",
       "      <td>...</td>\n",
       "      <td>64.243603</td>\n",
       "      <td>0.0</td>\n",
       "      <td>4396.000000</td>\n",
       "      <td>64.243603</td>\n",
       "      <td>219.386111</td>\n",
       "      <td>0.0</td>\n",
       "      <td>14.000000</td>\n",
       "      <td>0.000000</td>\n",
       "      <td>1.420457</td>\n",
       "      <td>1.683288</td>\n",
       "    </tr>\n",
       "    <tr>\n",
       "      <th>25%</th>\n",
       "      <td>3.000000</td>\n",
       "      <td>57.000000</td>\n",
       "      <td>72.000000</td>\n",
       "      <td>0.736842</td>\n",
       "      <td>22.443748</td>\n",
       "      <td>36.572066</td>\n",
       "      <td>31.571308</td>\n",
       "      <td>31.396855</td>\n",
       "      <td>22.443748</td>\n",
       "      <td>28.817548</td>\n",
       "      <td>...</td>\n",
       "      <td>163.107421</td>\n",
       "      <td>0.0</td>\n",
       "      <td>6703.250000</td>\n",
       "      <td>163.107421</td>\n",
       "      <td>417.531410</td>\n",
       "      <td>0.0</td>\n",
       "      <td>61.000000</td>\n",
       "      <td>15.000000</td>\n",
       "      <td>36.534873</td>\n",
       "      <td>5.158551</td>\n",
       "    </tr>\n",
       "    <tr>\n",
       "      <th>50%</th>\n",
       "      <td>5.000000</td>\n",
       "      <td>61.500000</td>\n",
       "      <td>76.000000</td>\n",
       "      <td>0.797619</td>\n",
       "      <td>25.333165</td>\n",
       "      <td>38.980439</td>\n",
       "      <td>33.378945</td>\n",
       "      <td>33.082403</td>\n",
       "      <td>25.375418</td>\n",
       "      <td>30.736469</td>\n",
       "      <td>...</td>\n",
       "      <td>259.406243</td>\n",
       "      <td>0.0</td>\n",
       "      <td>8330.500000</td>\n",
       "      <td>259.406243</td>\n",
       "      <td>565.930458</td>\n",
       "      <td>0.0</td>\n",
       "      <td>72.000000</td>\n",
       "      <td>34.000000</td>\n",
       "      <td>59.992412</td>\n",
       "      <td>6.549740</td>\n",
       "    </tr>\n",
       "    <tr>\n",
       "      <th>75%</th>\n",
       "      <td>7.000000</td>\n",
       "      <td>65.000000</td>\n",
       "      <td>83.000000</td>\n",
       "      <td>0.857143</td>\n",
       "      <td>27.762720</td>\n",
       "      <td>42.684938</td>\n",
       "      <td>35.126151</td>\n",
       "      <td>34.910387</td>\n",
       "      <td>27.801492</td>\n",
       "      <td>32.447954</td>\n",
       "      <td>...</td>\n",
       "      <td>594.809419</td>\n",
       "      <td>0.0</td>\n",
       "      <td>12124.250000</td>\n",
       "      <td>594.809419</td>\n",
       "      <td>993.584786</td>\n",
       "      <td>0.0</td>\n",
       "      <td>94.000000</td>\n",
       "      <td>92.250000</td>\n",
       "      <td>85.736976</td>\n",
       "      <td>7.760398</td>\n",
       "    </tr>\n",
       "    <tr>\n",
       "      <th>max</th>\n",
       "      <td>16.000000</td>\n",
       "      <td>78.000000</td>\n",
       "      <td>119.000000</td>\n",
       "      <td>0.971429</td>\n",
       "      <td>33.467380</td>\n",
       "      <td>63.274289</td>\n",
       "      <td>41.652721</td>\n",
       "      <td>39.966195</td>\n",
       "      <td>41.152291</td>\n",
       "      <td>37.126013</td>\n",
       "      <td>...</td>\n",
       "      <td>40518.370788</td>\n",
       "      <td>0.0</td>\n",
       "      <td>65535.000000</td>\n",
       "      <td>40518.370788</td>\n",
       "      <td>22434.417853</td>\n",
       "      <td>0.0</td>\n",
       "      <td>15149.250000</td>\n",
       "      <td>39861.500000</td>\n",
       "      <td>359.231645</td>\n",
       "      <td>13.604844</td>\n",
       "    </tr>\n",
       "  </tbody>\n",
       "</table>\n",
       "<p>8 rows × 275 columns</p>\n",
       "</div>"
      ],
      "text/plain": [
       "             label  min_calliper  max_calliper  smallest_largest_calliper  \\\n",
       "count  1424.000000   1424.000000   1424.000000                1424.000000   \n",
       "mean      5.166433     61.049860     78.066713                   0.788088   \n",
       "std       3.230167      6.199963      8.595978                   0.091177   \n",
       "min       1.000000     30.000000     52.000000                   0.435185   \n",
       "25%       3.000000     57.000000     72.000000                   0.736842   \n",
       "50%       5.000000     61.500000     76.000000                   0.797619   \n",
       "75%       7.000000     65.000000     83.000000                   0.857143   \n",
       "max      16.000000     78.000000    119.000000                   0.971429   \n",
       "\n",
       "        min_radius   max_radius   med_radius   avg_radius  mode_radius  \\\n",
       "count  1424.000000  1424.000000  1424.000000  1424.000000  1424.000000   \n",
       "mean     24.665151    39.940776    33.453910    33.210207    24.740944   \n",
       "std       4.500293     4.753760     2.737215     2.647583     4.621154   \n",
       "min       0.415663    27.022002    20.927688    20.807390     0.415663   \n",
       "25%      22.443748    36.572066    31.571308    31.396855    22.443748   \n",
       "50%      25.333165    38.980439    33.378945    33.082403    25.375418   \n",
       "75%      27.762720    42.684938    35.126151    34.910387    27.801492   \n",
       "max      33.467380    63.274289    41.652721    39.966195    41.152291   \n",
       "\n",
       "        d25_radius  ...  rel_lamin_3d_int  min_lamin_3d_int  max_lamin_3d_int  \\\n",
       "count  1424.000000  ...       1424.000000            1424.0       1424.000000   \n",
       "mean     30.555314  ...       1089.498342               0.0      12810.949438   \n",
       "std       2.787718  ...       2948.327023               0.0      12201.340538   \n",
       "min      15.027079  ...         64.243603               0.0       4396.000000   \n",
       "25%      28.817548  ...        163.107421               0.0       6703.250000   \n",
       "50%      30.736469  ...        259.406243               0.0       8330.500000   \n",
       "75%      32.447954  ...        594.809419               0.0      12124.250000   \n",
       "max      37.126013  ...      40518.370788               0.0      65535.000000   \n",
       "\n",
       "       mean_lamin_3d_int  std_lamin_3d_int  q25_lamin_3d_int  \\\n",
       "count        1424.000000       1424.000000            1424.0   \n",
       "mean         1089.498342       1300.026391               0.0   \n",
       "std          2948.327023       2294.196831               0.0   \n",
       "min            64.243603        219.386111               0.0   \n",
       "25%           163.107421        417.531410               0.0   \n",
       "50%           259.406243        565.930458               0.0   \n",
       "75%           594.809419        993.584786               0.0   \n",
       "max         40518.370788      22434.417853               0.0   \n",
       "\n",
       "       q75_lamin_3d_int  median_lamin_3d_int  kurtosis_lamin_3d_int  \\\n",
       "count       1424.000000          1424.000000            1424.000000   \n",
       "mean         185.551440           636.151334              62.519346   \n",
       "std          699.380011          2434.821799              31.623161   \n",
       "min           14.000000             0.000000               1.420457   \n",
       "25%           61.000000            15.000000              36.534873   \n",
       "50%           72.000000            34.000000              59.992412   \n",
       "75%           94.000000            92.250000              85.736976   \n",
       "max        15149.250000         39861.500000             359.231645   \n",
       "\n",
       "       skewness_lamin_3d_int  \n",
       "count            1424.000000  \n",
       "mean                6.449200  \n",
       "std                 1.604571  \n",
       "min                 1.683288  \n",
       "25%                 5.158551  \n",
       "50%                 6.549740  \n",
       "75%                 7.760398  \n",
       "max                13.604844  \n",
       "\n",
       "[8 rows x 275 columns]"
      ]
     },
     "execution_count": 6,
     "metadata": {},
     "output_type": "execute_result"
    },
    {
     "data": {
      "application/javascript": [
       "\n",
       "            setTimeout(function() {\n",
       "                var nbb_cell_id = 6;\n",
       "                var nbb_unformatted_code = \"np.random.seed(seed)\\nn_control_samples = np.min(\\n    [len(hv_data), len(p17_1_data), len(p17_2_data), len(p17_3_data)]\\n)\\ndata = (\\n    hv_data.iloc[np.random.choice(len(hv_data), size=n_control_samples, replace=False)]\\n    .append(\\n        p17_1_data.iloc[\\n            np.random.choice(len(p17_1_data), size=n_control_samples, replace=False)\\n        ]\\n    )\\n    .append(\\n        p17_2_data.iloc[\\n            np.random.choice(len(p17_2_data), size=n_control_samples, replace=False)\\n        ]\\n    )\\n    .append(\\n        p17_3_data.iloc[\\n            np.random.choice(len(p17_3_data), size=n_control_samples, replace=False)\\n        ]\\n    )\\n)\\ndata.describe()\";\n",
       "                var nbb_formatted_code = \"np.random.seed(seed)\\nn_control_samples = np.min(\\n    [len(hv_data), len(p17_1_data), len(p17_2_data), len(p17_3_data)]\\n)\\ndata = (\\n    hv_data.iloc[np.random.choice(len(hv_data), size=n_control_samples, replace=False)]\\n    .append(\\n        p17_1_data.iloc[\\n            np.random.choice(len(p17_1_data), size=n_control_samples, replace=False)\\n        ]\\n    )\\n    .append(\\n        p17_2_data.iloc[\\n            np.random.choice(len(p17_2_data), size=n_control_samples, replace=False)\\n        ]\\n    )\\n    .append(\\n        p17_3_data.iloc[\\n            np.random.choice(len(p17_3_data), size=n_control_samples, replace=False)\\n        ]\\n    )\\n)\\ndata.describe()\";\n",
       "                var nbb_cells = Jupyter.notebook.get_cells();\n",
       "                for (var i = 0; i < nbb_cells.length; ++i) {\n",
       "                    if (nbb_cells[i].input_prompt_number == nbb_cell_id) {\n",
       "                        if (nbb_cells[i].get_text() == nbb_unformatted_code) {\n",
       "                             nbb_cells[i].set_text(nbb_formatted_code);\n",
       "                        }\n",
       "                        break;\n",
       "                    }\n",
       "                }\n",
       "            }, 500);\n",
       "            "
      ],
      "text/plain": [
       "<IPython.core.display.Javascript object>"
      ]
     },
     "metadata": {},
     "output_type": "display_data"
    }
   ],
   "source": [
    "np.random.seed(seed)\n",
    "n_control_samples = np.min(\n",
    "    [len(hv_data), len(p17_1_data), len(p17_2_data), len(p17_3_data)]\n",
    ")\n",
    "data = (\n",
    "    hv_data.iloc[np.random.choice(len(hv_data), size=n_control_samples, replace=False)]\n",
    "    .append(\n",
    "        p17_1_data.iloc[\n",
    "            np.random.choice(len(p17_1_data), size=n_control_samples, replace=False)\n",
    "        ]\n",
    "    )\n",
    "    .append(\n",
    "        p17_2_data.iloc[\n",
    "            np.random.choice(len(p17_2_data), size=n_control_samples, replace=False)\n",
    "        ]\n",
    "    )\n",
    "    .append(\n",
    "        p17_3_data.iloc[\n",
    "            np.random.choice(len(p17_3_data), size=n_control_samples, replace=False)\n",
    "        ]\n",
    "    )\n",
    ")\n",
    "data.describe()"
   ]
  },
  {
   "cell_type": "markdown",
   "id": "suspended-absolute",
   "metadata": {},
   "source": [
    "---\n",
    "\n",
    "## 2. Dimensionality reduction\n",
    "\n",
    "Next, we will clean the data and remove samples with missing values, constant features, as well as those samples that were flagged for not passing our quality checks."
   ]
  },
  {
   "cell_type": "code",
   "execution_count": 7,
   "id": "knowing-count",
   "metadata": {},
   "outputs": [
    {
     "name": "stdout",
     "output_type": "stream",
     "text": [
      "Nuclei that did not pass the quality check: 95/1424. Remaining: 1329.\n",
      "Removed 14 constant or features with missing values. Remaining: 264.\n",
      "Removed additional 6 features. Remaining: 258.\n"
     ]
    },
    {
     "data": {
      "application/javascript": [
       "\n",
       "            setTimeout(function() {\n",
       "                var nbb_cell_id = 7;\n",
       "                var nbb_unformatted_code = \"data = preprocess_data(data)\";\n",
       "                var nbb_formatted_code = \"data = preprocess_data(data)\";\n",
       "                var nbb_cells = Jupyter.notebook.get_cells();\n",
       "                for (var i = 0; i < nbb_cells.length; ++i) {\n",
       "                    if (nbb_cells[i].input_prompt_number == nbb_cell_id) {\n",
       "                        if (nbb_cells[i].get_text() == nbb_unformatted_code) {\n",
       "                             nbb_cells[i].set_text(nbb_formatted_code);\n",
       "                        }\n",
       "                        break;\n",
       "                    }\n",
       "                }\n",
       "            }, 500);\n",
       "            "
      ],
      "text/plain": [
       "<IPython.core.display.Javascript object>"
      ]
     },
     "metadata": {},
     "output_type": "display_data"
    }
   ],
   "source": [
    "data = preprocess_data(data)"
   ]
  },
  {
   "cell_type": "code",
   "execution_count": 8,
   "id": "documentary-kansas",
   "metadata": {},
   "outputs": [
    {
     "data": {
      "application/javascript": [
       "\n",
       "            setTimeout(function() {\n",
       "                var nbb_cell_id = 8;\n",
       "                var nbb_unformatted_code = \"features = data.iloc[:, :-2]\\nsample_labels = data.loc[:, \\\"sample\\\"]\\ncondition_labels = data.loc[:, \\\"condition\\\"]\";\n",
       "                var nbb_formatted_code = \"features = data.iloc[:, :-2]\\nsample_labels = data.loc[:, \\\"sample\\\"]\\ncondition_labels = data.loc[:, \\\"condition\\\"]\";\n",
       "                var nbb_cells = Jupyter.notebook.get_cells();\n",
       "                for (var i = 0; i < nbb_cells.length; ++i) {\n",
       "                    if (nbb_cells[i].input_prompt_number == nbb_cell_id) {\n",
       "                        if (nbb_cells[i].get_text() == nbb_unformatted_code) {\n",
       "                             nbb_cells[i].set_text(nbb_formatted_code);\n",
       "                        }\n",
       "                        break;\n",
       "                    }\n",
       "                }\n",
       "            }, 500);\n",
       "            "
      ],
      "text/plain": [
       "<IPython.core.display.Javascript object>"
      ]
     },
     "metadata": {},
     "output_type": "display_data"
    }
   ],
   "source": [
    "features = data.iloc[:, :-2]\n",
    "sample_labels = data.loc[:, \"sample\"]\n",
    "condition_labels = data.loc[:, \"condition\"]"
   ]
  },
  {
   "cell_type": "markdown",
   "id": "resident-validation",
   "metadata": {},
   "source": [
    "Finally, we will reduce the dimensionality of the data set further by removing highly correlated features ($\\rho > 0.8$)."
   ]
  },
  {
   "cell_type": "code",
   "execution_count": 9,
   "id": "growing-training",
   "metadata": {},
   "outputs": [
    {
     "name": "stdout",
     "output_type": "stream",
     "text": [
      "Removed 193/256 features with a Pearson correlation above 0.8. Remaining: 63\n"
     ]
    },
    {
     "data": {
      "application/javascript": [
       "\n",
       "            setTimeout(function() {\n",
       "                var nbb_cell_id = 9;\n",
       "                var nbb_unformatted_code = \"# features = remove_collinear_features(features, threshold=5)\\nfeatures = remove_correlated_features(features, threshold=0.8)\";\n",
       "                var nbb_formatted_code = \"# features = remove_collinear_features(features, threshold=5)\\nfeatures = remove_correlated_features(features, threshold=0.8)\";\n",
       "                var nbb_cells = Jupyter.notebook.get_cells();\n",
       "                for (var i = 0; i < nbb_cells.length; ++i) {\n",
       "                    if (nbb_cells[i].input_prompt_number == nbb_cell_id) {\n",
       "                        if (nbb_cells[i].get_text() == nbb_unformatted_code) {\n",
       "                             nbb_cells[i].set_text(nbb_formatted_code);\n",
       "                        }\n",
       "                        break;\n",
       "                    }\n",
       "                }\n",
       "            }, 500);\n",
       "            "
      ],
      "text/plain": [
       "<IPython.core.display.Javascript object>"
      ]
     },
     "metadata": {},
     "output_type": "display_data"
    }
   ],
   "source": [
    "# features = remove_collinear_features(features, threshold=5)\n",
    "features = remove_correlated_features(features, threshold=0.8)"
   ]
  },
  {
   "cell_type": "markdown",
   "id": "foreign-frequency",
   "metadata": {},
   "source": [
    "There are 57 features that remain which have a correlation of less than 0.8 to any other feature."
   ]
  },
  {
   "cell_type": "markdown",
   "id": "irish-carolina",
   "metadata": {},
   "source": [
    "---\n",
    "\n",
    "## 3. Data visualization\n",
    "\n",
    "Next, we will visualize the data set using TSNE. To this end, we will first z-score the data."
   ]
  },
  {
   "cell_type": "code",
   "execution_count": 10,
   "id": "collected-initial",
   "metadata": {},
   "outputs": [
    {
     "data": {
      "text/html": [
       "<div>\n",
       "<style scoped>\n",
       "    .dataframe tbody tr th:only-of-type {\n",
       "        vertical-align: middle;\n",
       "    }\n",
       "\n",
       "    .dataframe tbody tr th {\n",
       "        vertical-align: top;\n",
       "    }\n",
       "\n",
       "    .dataframe thead th {\n",
       "        text-align: right;\n",
       "    }\n",
       "</style>\n",
       "<table border=\"1\" class=\"dataframe\">\n",
       "  <thead>\n",
       "    <tr style=\"text-align: right;\">\n",
       "      <th></th>\n",
       "      <th>min_calliper</th>\n",
       "      <th>max_calliper</th>\n",
       "      <th>smallest_largest_calliper</th>\n",
       "      <th>min_radius</th>\n",
       "      <th>med_radius</th>\n",
       "      <th>concavity</th>\n",
       "      <th>area_bbarea</th>\n",
       "      <th>std_curvature</th>\n",
       "      <th>npolarity_changes</th>\n",
       "      <th>max_posi_curv</th>\n",
       "      <th>...</th>\n",
       "      <th>rel_gh2ax_2d_int</th>\n",
       "      <th>max_gh2ax_2d_int</th>\n",
       "      <th>std_gh2ax_2d_int</th>\n",
       "      <th>q25_gh2ax_2d_int</th>\n",
       "      <th>kurtosis_gh2ax_2d_int</th>\n",
       "      <th>min_gh2ax_3d_int</th>\n",
       "      <th>q25_gh2ax_3d_int</th>\n",
       "      <th>q75_gh2ax_3d_int</th>\n",
       "      <th>rel_lamin_2d_int</th>\n",
       "      <th>kurtosis_lamin_2d_int</th>\n",
       "    </tr>\n",
       "  </thead>\n",
       "  <tbody>\n",
       "    <tr>\n",
       "      <th>count</th>\n",
       "      <td>1.329000e+03</td>\n",
       "      <td>1.329000e+03</td>\n",
       "      <td>1.329000e+03</td>\n",
       "      <td>1.329000e+03</td>\n",
       "      <td>1.329000e+03</td>\n",
       "      <td>1.329000e+03</td>\n",
       "      <td>1.329000e+03</td>\n",
       "      <td>1.329000e+03</td>\n",
       "      <td>1.329000e+03</td>\n",
       "      <td>1.329000e+03</td>\n",
       "      <td>...</td>\n",
       "      <td>1.329000e+03</td>\n",
       "      <td>1.329000e+03</td>\n",
       "      <td>1.329000e+03</td>\n",
       "      <td>1.329000e+03</td>\n",
       "      <td>1.329000e+03</td>\n",
       "      <td>1.329000e+03</td>\n",
       "      <td>1.329000e+03</td>\n",
       "      <td>1.329000e+03</td>\n",
       "      <td>1.329000e+03</td>\n",
       "      <td>1.329000e+03</td>\n",
       "    </tr>\n",
       "    <tr>\n",
       "      <th>mean</th>\n",
       "      <td>3.207868e-16</td>\n",
       "      <td>-4.918731e-16</td>\n",
       "      <td>-1.406115e-15</td>\n",
       "      <td>-6.683058e-17</td>\n",
       "      <td>1.133447e-15</td>\n",
       "      <td>1.710863e-16</td>\n",
       "      <td>-1.315226e-15</td>\n",
       "      <td>-2.994010e-16</td>\n",
       "      <td>1.924721e-16</td>\n",
       "      <td>4.651408e-16</td>\n",
       "      <td>...</td>\n",
       "      <td>-1.924721e-16</td>\n",
       "      <td>-2.138579e-17</td>\n",
       "      <td>-1.069289e-17</td>\n",
       "      <td>-3.207868e-17</td>\n",
       "      <td>-2.138579e-17</td>\n",
       "      <td>2.138579e-17</td>\n",
       "      <td>1.069289e-17</td>\n",
       "      <td>6.415736e-17</td>\n",
       "      <td>8.019670e-17</td>\n",
       "      <td>-2.138579e-17</td>\n",
       "    </tr>\n",
       "    <tr>\n",
       "      <th>std</th>\n",
       "      <td>1.000376e+00</td>\n",
       "      <td>1.000376e+00</td>\n",
       "      <td>1.000376e+00</td>\n",
       "      <td>1.000376e+00</td>\n",
       "      <td>1.000376e+00</td>\n",
       "      <td>1.000376e+00</td>\n",
       "      <td>1.000376e+00</td>\n",
       "      <td>1.000376e+00</td>\n",
       "      <td>1.000376e+00</td>\n",
       "      <td>1.000376e+00</td>\n",
       "      <td>...</td>\n",
       "      <td>1.000376e+00</td>\n",
       "      <td>1.000376e+00</td>\n",
       "      <td>1.000376e+00</td>\n",
       "      <td>1.000376e+00</td>\n",
       "      <td>1.000376e+00</td>\n",
       "      <td>1.000376e+00</td>\n",
       "      <td>1.000376e+00</td>\n",
       "      <td>1.000376e+00</td>\n",
       "      <td>1.000376e+00</td>\n",
       "      <td>1.000376e+00</td>\n",
       "    </tr>\n",
       "    <tr>\n",
       "      <th>min</th>\n",
       "      <td>-4.829007e+00</td>\n",
       "      <td>-2.191924e+00</td>\n",
       "      <td>-4.004633e+00</td>\n",
       "      <td>-5.617979e+00</td>\n",
       "      <td>-4.701047e+00</td>\n",
       "      <td>-1.308469e+00</td>\n",
       "      <td>-5.832178e+00</td>\n",
       "      <td>-2.212895e+00</td>\n",
       "      <td>-2.524495e+00</td>\n",
       "      <td>-1.397619e+00</td>\n",
       "      <td>...</td>\n",
       "      <td>-1.270399e+00</td>\n",
       "      <td>-1.696803e+00</td>\n",
       "      <td>-1.117571e+00</td>\n",
       "      <td>-9.041046e-01</td>\n",
       "      <td>-7.598347e-01</td>\n",
       "      <td>-7.032319e-01</td>\n",
       "      <td>-3.765602e-02</td>\n",
       "      <td>-1.005172e+00</td>\n",
       "      <td>-4.432259e-01</td>\n",
       "      <td>-1.730950e+00</td>\n",
       "    </tr>\n",
       "    <tr>\n",
       "      <th>25%</th>\n",
       "      <td>-7.384454e-01</td>\n",
       "      <td>-7.447969e-01</td>\n",
       "      <td>-5.811749e-01</td>\n",
       "      <td>-5.229082e-01</td>\n",
       "      <td>-7.655880e-01</td>\n",
       "      <td>-6.485254e-01</td>\n",
       "      <td>-5.600774e-01</td>\n",
       "      <td>-7.176371e-01</td>\n",
       "      <td>-7.006788e-01</td>\n",
       "      <td>-5.566392e-01</td>\n",
       "      <td>...</td>\n",
       "      <td>-6.205438e-01</td>\n",
       "      <td>-8.236394e-01</td>\n",
       "      <td>-5.869038e-01</td>\n",
       "      <td>-9.041046e-01</td>\n",
       "      <td>-5.094673e-01</td>\n",
       "      <td>-6.999100e-01</td>\n",
       "      <td>-3.765602e-02</td>\n",
       "      <td>-5.041855e-01</td>\n",
       "      <td>-3.778707e-01</td>\n",
       "      <td>-6.034511e-01</td>\n",
       "    </tr>\n",
       "    <tr>\n",
       "      <th>50%</th>\n",
       "      <td>1.137550e-01</td>\n",
       "      <td>-1.418272e-01</td>\n",
       "      <td>1.084844e-01</td>\n",
       "      <td>1.331584e-01</td>\n",
       "      <td>-5.083390e-02</td>\n",
       "      <td>-2.844753e-01</td>\n",
       "      <td>9.939547e-02</td>\n",
       "      <td>-1.076708e-01</td>\n",
       "      <td>-1.247369e-01</td>\n",
       "      <td>-2.763172e-01</td>\n",
       "      <td>...</td>\n",
       "      <td>-1.763716e-01</td>\n",
       "      <td>-2.192618e-01</td>\n",
       "      <td>-2.860285e-01</td>\n",
       "      <td>-6.052833e-02</td>\n",
       "      <td>-2.859870e-01</td>\n",
       "      <td>-4.275097e-01</td>\n",
       "      <td>-3.765602e-02</td>\n",
       "      <td>-3.317147e-01</td>\n",
       "      <td>-3.163100e-01</td>\n",
       "      <td>-6.577449e-02</td>\n",
       "    </tr>\n",
       "    <tr>\n",
       "      <th>75%</th>\n",
       "      <td>7.955152e-01</td>\n",
       "      <td>5.817365e-01</td>\n",
       "      <td>7.559196e-01</td>\n",
       "      <td>7.082631e-01</td>\n",
       "      <td>6.198475e-01</td>\n",
       "      <td>3.419467e-01</td>\n",
       "      <td>6.849311e-01</td>\n",
       "      <td>6.345061e-01</td>\n",
       "      <td>4.512051e-01</td>\n",
       "      <td>3.141783e-01</td>\n",
       "      <td>...</td>\n",
       "      <td>2.378837e-01</td>\n",
       "      <td>7.099536e-01</td>\n",
       "      <td>1.949935e-01</td>\n",
       "      <td>4.641842e-01</td>\n",
       "      <td>8.138566e-02</td>\n",
       "      <td>1.604761e-01</td>\n",
       "      <td>-3.765602e-02</td>\n",
       "      <td>-1.654500e-02</td>\n",
       "      <td>-1.576375e-01</td>\n",
       "      <td>5.153246e-01</td>\n",
       "    </tr>\n",
       "    <tr>\n",
       "      <th>max</th>\n",
       "      <td>2.840796e+00</td>\n",
       "      <td>4.923119e+00</td>\n",
       "      <td>2.050790e+00</td>\n",
       "      <td>2.026963e+00</td>\n",
       "      <td>3.153475e+00</td>\n",
       "      <td>7.177768e+00</td>\n",
       "      <td>2.331798e+00</td>\n",
       "      <td>5.087849e+00</td>\n",
       "      <td>6.306615e+00</td>\n",
       "      <td>8.074290e+00</td>\n",
       "      <td>...</td>\n",
       "      <td>1.435674e+01</td>\n",
       "      <td>1.844273e+00</td>\n",
       "      <td>8.927538e+00</td>\n",
       "      <td>7.992722e+00</td>\n",
       "      <td>1.318202e+01</td>\n",
       "      <td>6.080198e+00</td>\n",
       "      <td>3.549419e+01</td>\n",
       "      <td>1.452199e+01</td>\n",
       "      <td>9.336372e+00</td>\n",
       "      <td>1.235830e+01</td>\n",
       "    </tr>\n",
       "  </tbody>\n",
       "</table>\n",
       "<p>8 rows × 63 columns</p>\n",
       "</div>"
      ],
      "text/plain": [
       "       min_calliper  max_calliper  smallest_largest_calliper    min_radius  \\\n",
       "count  1.329000e+03  1.329000e+03               1.329000e+03  1.329000e+03   \n",
       "mean   3.207868e-16 -4.918731e-16              -1.406115e-15 -6.683058e-17   \n",
       "std    1.000376e+00  1.000376e+00               1.000376e+00  1.000376e+00   \n",
       "min   -4.829007e+00 -2.191924e+00              -4.004633e+00 -5.617979e+00   \n",
       "25%   -7.384454e-01 -7.447969e-01              -5.811749e-01 -5.229082e-01   \n",
       "50%    1.137550e-01 -1.418272e-01               1.084844e-01  1.331584e-01   \n",
       "75%    7.955152e-01  5.817365e-01               7.559196e-01  7.082631e-01   \n",
       "max    2.840796e+00  4.923119e+00               2.050790e+00  2.026963e+00   \n",
       "\n",
       "         med_radius     concavity   area_bbarea  std_curvature  \\\n",
       "count  1.329000e+03  1.329000e+03  1.329000e+03   1.329000e+03   \n",
       "mean   1.133447e-15  1.710863e-16 -1.315226e-15  -2.994010e-16   \n",
       "std    1.000376e+00  1.000376e+00  1.000376e+00   1.000376e+00   \n",
       "min   -4.701047e+00 -1.308469e+00 -5.832178e+00  -2.212895e+00   \n",
       "25%   -7.655880e-01 -6.485254e-01 -5.600774e-01  -7.176371e-01   \n",
       "50%   -5.083390e-02 -2.844753e-01  9.939547e-02  -1.076708e-01   \n",
       "75%    6.198475e-01  3.419467e-01  6.849311e-01   6.345061e-01   \n",
       "max    3.153475e+00  7.177768e+00  2.331798e+00   5.087849e+00   \n",
       "\n",
       "       npolarity_changes  max_posi_curv  ...  rel_gh2ax_2d_int  \\\n",
       "count       1.329000e+03   1.329000e+03  ...      1.329000e+03   \n",
       "mean        1.924721e-16   4.651408e-16  ...     -1.924721e-16   \n",
       "std         1.000376e+00   1.000376e+00  ...      1.000376e+00   \n",
       "min        -2.524495e+00  -1.397619e+00  ...     -1.270399e+00   \n",
       "25%        -7.006788e-01  -5.566392e-01  ...     -6.205438e-01   \n",
       "50%        -1.247369e-01  -2.763172e-01  ...     -1.763716e-01   \n",
       "75%         4.512051e-01   3.141783e-01  ...      2.378837e-01   \n",
       "max         6.306615e+00   8.074290e+00  ...      1.435674e+01   \n",
       "\n",
       "       max_gh2ax_2d_int  std_gh2ax_2d_int  q25_gh2ax_2d_int  \\\n",
       "count      1.329000e+03      1.329000e+03      1.329000e+03   \n",
       "mean      -2.138579e-17     -1.069289e-17     -3.207868e-17   \n",
       "std        1.000376e+00      1.000376e+00      1.000376e+00   \n",
       "min       -1.696803e+00     -1.117571e+00     -9.041046e-01   \n",
       "25%       -8.236394e-01     -5.869038e-01     -9.041046e-01   \n",
       "50%       -2.192618e-01     -2.860285e-01     -6.052833e-02   \n",
       "75%        7.099536e-01      1.949935e-01      4.641842e-01   \n",
       "max        1.844273e+00      8.927538e+00      7.992722e+00   \n",
       "\n",
       "       kurtosis_gh2ax_2d_int  min_gh2ax_3d_int  q25_gh2ax_3d_int  \\\n",
       "count           1.329000e+03      1.329000e+03      1.329000e+03   \n",
       "mean           -2.138579e-17      2.138579e-17      1.069289e-17   \n",
       "std             1.000376e+00      1.000376e+00      1.000376e+00   \n",
       "min            -7.598347e-01     -7.032319e-01     -3.765602e-02   \n",
       "25%            -5.094673e-01     -6.999100e-01     -3.765602e-02   \n",
       "50%            -2.859870e-01     -4.275097e-01     -3.765602e-02   \n",
       "75%             8.138566e-02      1.604761e-01     -3.765602e-02   \n",
       "max             1.318202e+01      6.080198e+00      3.549419e+01   \n",
       "\n",
       "       q75_gh2ax_3d_int  rel_lamin_2d_int  kurtosis_lamin_2d_int  \n",
       "count      1.329000e+03      1.329000e+03           1.329000e+03  \n",
       "mean       6.415736e-17      8.019670e-17          -2.138579e-17  \n",
       "std        1.000376e+00      1.000376e+00           1.000376e+00  \n",
       "min       -1.005172e+00     -4.432259e-01          -1.730950e+00  \n",
       "25%       -5.041855e-01     -3.778707e-01          -6.034511e-01  \n",
       "50%       -3.317147e-01     -3.163100e-01          -6.577449e-02  \n",
       "75%       -1.654500e-02     -1.576375e-01           5.153246e-01  \n",
       "max        1.452199e+01      9.336372e+00           1.235830e+01  \n",
       "\n",
       "[8 rows x 63 columns]"
      ]
     },
     "execution_count": 10,
     "metadata": {},
     "output_type": "execute_result"
    },
    {
     "data": {
      "application/javascript": [
       "\n",
       "            setTimeout(function() {\n",
       "                var nbb_cell_id = 10;\n",
       "                var nbb_unformatted_code = \"features_sc = pd.DataFrame(\\n    StandardScaler().fit_transform(features),\\n    index=features.index,\\n    columns=features.columns,\\n)\\nfeatures_sc.describe()\";\n",
       "                var nbb_formatted_code = \"features_sc = pd.DataFrame(\\n    StandardScaler().fit_transform(features),\\n    index=features.index,\\n    columns=features.columns,\\n)\\nfeatures_sc.describe()\";\n",
       "                var nbb_cells = Jupyter.notebook.get_cells();\n",
       "                for (var i = 0; i < nbb_cells.length; ++i) {\n",
       "                    if (nbb_cells[i].input_prompt_number == nbb_cell_id) {\n",
       "                        if (nbb_cells[i].get_text() == nbb_unformatted_code) {\n",
       "                             nbb_cells[i].set_text(nbb_formatted_code);\n",
       "                        }\n",
       "                        break;\n",
       "                    }\n",
       "                }\n",
       "            }, 500);\n",
       "            "
      ],
      "text/plain": [
       "<IPython.core.display.Javascript object>"
      ]
     },
     "metadata": {},
     "output_type": "display_data"
    }
   ],
   "source": [
    "features_sc = pd.DataFrame(\n",
    "    StandardScaler().fit_transform(features),\n",
    "    index=features.index,\n",
    "    columns=features.columns,\n",
    ")\n",
    "features_sc.describe()"
   ]
  },
  {
   "cell_type": "markdown",
   "id": "stopped-portal",
   "metadata": {},
   "source": [
    "Next, we compute the TSNE."
   ]
  },
  {
   "cell_type": "code",
   "execution_count": 11,
   "id": "destroyed-trail",
   "metadata": {},
   "outputs": [
    {
     "data": {
      "application/javascript": [
       "\n",
       "            setTimeout(function() {\n",
       "                var nbb_cell_id = 11;\n",
       "                var nbb_unformatted_code = \"tsne = TSNE(random_state=seed)\\ntsne_embs = tsne.fit_transform(features_sc)\\ntsne_embs = pd.DataFrame(\\n    tsne_embs, columns=[\\\"tsne_0\\\", \\\"tsne_1\\\"], index=features_sc.index\\n)\\ntsne_embs.loc[:, \\\"sample\\\"] = np.array(data.loc[tsne_embs.index, \\\"sample\\\"])\\ntsne_embs.loc[:, \\\"condition\\\"] = np.array(data.loc[tsne_embs.index, \\\"condition\\\"])\";\n",
       "                var nbb_formatted_code = \"tsne = TSNE(random_state=seed)\\ntsne_embs = tsne.fit_transform(features_sc)\\ntsne_embs = pd.DataFrame(\\n    tsne_embs, columns=[\\\"tsne_0\\\", \\\"tsne_1\\\"], index=features_sc.index\\n)\\ntsne_embs.loc[:, \\\"sample\\\"] = np.array(data.loc[tsne_embs.index, \\\"sample\\\"])\\ntsne_embs.loc[:, \\\"condition\\\"] = np.array(data.loc[tsne_embs.index, \\\"condition\\\"])\";\n",
       "                var nbb_cells = Jupyter.notebook.get_cells();\n",
       "                for (var i = 0; i < nbb_cells.length; ++i) {\n",
       "                    if (nbb_cells[i].input_prompt_number == nbb_cell_id) {\n",
       "                        if (nbb_cells[i].get_text() == nbb_unformatted_code) {\n",
       "                             nbb_cells[i].set_text(nbb_formatted_code);\n",
       "                        }\n",
       "                        break;\n",
       "                    }\n",
       "                }\n",
       "            }, 500);\n",
       "            "
      ],
      "text/plain": [
       "<IPython.core.display.Javascript object>"
      ]
     },
     "metadata": {},
     "output_type": "display_data"
    }
   ],
   "source": [
    "tsne = TSNE(random_state=seed)\n",
    "tsne_embs = tsne.fit_transform(features_sc)\n",
    "tsne_embs = pd.DataFrame(\n",
    "    tsne_embs, columns=[\"tsne_0\", \"tsne_1\"], index=features_sc.index\n",
    ")\n",
    "tsne_embs.loc[:, \"sample\"] = np.array(data.loc[tsne_embs.index, \"sample\"])\n",
    "tsne_embs.loc[:, \"condition\"] = np.array(data.loc[tsne_embs.index, \"condition\"])"
   ]
  },
  {
   "cell_type": "code",
   "execution_count": 12,
   "id": "olympic-tissue",
   "metadata": {},
   "outputs": [
    {
     "data": {
      "image/png": "[encoded data removed]",
      "text/plain": [
       "<Figure size 576x432 with 1 Axes>"
      ]
     },
     "metadata": {
      "needs_background": "light"
     },
     "output_type": "display_data"
    },
    {
     "data": {
      "application/javascript": [
       "\n",
       "            setTimeout(function() {\n",
       "                var nbb_cell_id = 12;\n",
       "                var nbb_unformatted_code = \"fig, ax = plt.subplots(figsize=[8, 6])\\nax = sns.scatterplot(data=tsne_embs, x=\\\"tsne_0\\\", y=\\\"tsne_1\\\", hue=\\\"condition\\\", ax=ax)\\nplt.title(\\\"TSNE of the nuclei by condition\\\")\\nplt.show()\";\n",
       "                var nbb_formatted_code = \"fig, ax = plt.subplots(figsize=[8, 6])\\nax = sns.scatterplot(data=tsne_embs, x=\\\"tsne_0\\\", y=\\\"tsne_1\\\", hue=\\\"condition\\\", ax=ax)\\nplt.title(\\\"TSNE of the nuclei by condition\\\")\\nplt.show()\";\n",
       "                var nbb_cells = Jupyter.notebook.get_cells();\n",
       "                for (var i = 0; i < nbb_cells.length; ++i) {\n",
       "                    if (nbb_cells[i].input_prompt_number == nbb_cell_id) {\n",
       "                        if (nbb_cells[i].get_text() == nbb_unformatted_code) {\n",
       "                             nbb_cells[i].set_text(nbb_formatted_code);\n",
       "                        }\n",
       "                        break;\n",
       "                    }\n",
       "                }\n",
       "            }, 500);\n",
       "            "
      ],
      "text/plain": [
       "<IPython.core.display.Javascript object>"
      ]
     },
     "metadata": {},
     "output_type": "display_data"
    }
   ],
   "source": [
    "fig, ax = plt.subplots(figsize=[8, 6])\n",
    "ax = sns.scatterplot(data=tsne_embs, x=\"tsne_0\", y=\"tsne_1\", hue=\"condition\", ax=ax)\n",
    "plt.title(\"TSNE of the nuclei by condition\")\n",
    "plt.show()"
   ]
  },
  {
   "cell_type": "markdown",
   "id": "alone-respect",
   "metadata": {},
   "source": [
    "As you can see the blood cells before the first treatment are very different from those of the healthy control population. Interestingly the samples from the intermediate time point of the treament and the post-treatment time point cluster together with the samples from the pre-treatment condition. There does not seem to be any strong treatment effect in that biological sample."
   ]
  },
  {
   "cell_type": "markdown",
   "id": "greek-satin",
   "metadata": {},
   "source": [
    "---\n",
    "\n",
    "## 4. Separability of the time points\n",
    "\n",
    "Next, we will look more into the differences of the PBMC phenotypes at the different time points of the treatment in comparison to the healthy controls. To this end, we will train a RandomForest classifier model on distinguishing between the different data conditions."
   ]
  },
  {
   "cell_type": "markdown",
   "id": "champion-bryan",
   "metadata": {},
   "source": [
    "To this end, we perform a 10-fold Stratified cross-validation approach and look at the average confusion matrix of the individual folds."
   ]
  },
  {
   "cell_type": "code",
   "execution_count": 13,
   "id": "hourly-banner",
   "metadata": {},
   "outputs": [
    {
     "data": {
      "application/javascript": [
       "\n",
       "            setTimeout(function() {\n",
       "                var nbb_cell_id = 13;\n",
       "                var nbb_unformatted_code = \"rfc = RandomForestClassifier(\\n    n_estimators=500, n_jobs=10, random_state=seed, class_weight=\\\"balanced\\\"\\n)\\navg_conf_mtx = compute_avg_conf_mtx(\\n    model=rfc, n_folds=10, features=features_sc, labels=condition_labels\\n)\";\n",
       "                var nbb_formatted_code = \"rfc = RandomForestClassifier(\\n    n_estimators=500, n_jobs=10, random_state=seed, class_weight=\\\"balanced\\\"\\n)\\navg_conf_mtx = compute_avg_conf_mtx(\\n    model=rfc, n_folds=10, features=features_sc, labels=condition_labels\\n)\";\n",
       "                var nbb_cells = Jupyter.notebook.get_cells();\n",
       "                for (var i = 0; i < nbb_cells.length; ++i) {\n",
       "                    if (nbb_cells[i].input_prompt_number == nbb_cell_id) {\n",
       "                        if (nbb_cells[i].get_text() == nbb_unformatted_code) {\n",
       "                             nbb_cells[i].set_text(nbb_formatted_code);\n",
       "                        }\n",
       "                        break;\n",
       "                    }\n",
       "                }\n",
       "            }, 500);\n",
       "            "
      ],
      "text/plain": [
       "<IPython.core.display.Javascript object>"
      ]
     },
     "metadata": {},
     "output_type": "display_data"
    }
   ],
   "source": [
    "rfc = RandomForestClassifier(\n",
    "    n_estimators=500, n_jobs=10, random_state=seed, class_weight=\"balanced\"\n",
    ")\n",
    "avg_conf_mtx = compute_avg_conf_mtx(\n",
    "    model=rfc, n_folds=10, features=features_sc, labels=condition_labels\n",
    ")"
   ]
  },
  {
   "cell_type": "code",
   "execution_count": 14,
   "id": "happy-audience",
   "metadata": {},
   "outputs": [
    {
     "data": {
      "image/png": "[encoded data removed]",
      "text/plain": [
       "<Figure size 432x288 with 2 Axes>"
      ]
     },
     "metadata": {
      "needs_background": "light"
     },
     "output_type": "display_data"
    },
    {
     "data": {
      "application/javascript": [
       "\n",
       "            setTimeout(function() {\n",
       "                var nbb_cell_id = 14;\n",
       "                var nbb_unformatted_code = \"fig, ax = plt.subplots(figsize=[6, 4])\\nax = sns.heatmap(avg_conf_mtx, annot=True, cmap=\\\"viridis\\\", ax=ax)\\nax.set_xlabel(\\\"Predicted\\\")\\nax.set_ylabel(\\\"True\\\")\\nplt.title(\\\"Average confusion matrix from {}-fold stratified CV\\\".format(10))\\nplt.show()\";\n",
       "                var nbb_formatted_code = \"fig, ax = plt.subplots(figsize=[6, 4])\\nax = sns.heatmap(avg_conf_mtx, annot=True, cmap=\\\"viridis\\\", ax=ax)\\nax.set_xlabel(\\\"Predicted\\\")\\nax.set_ylabel(\\\"True\\\")\\nplt.title(\\\"Average confusion matrix from {}-fold stratified CV\\\".format(10))\\nplt.show()\";\n",
       "                var nbb_cells = Jupyter.notebook.get_cells();\n",
       "                for (var i = 0; i < nbb_cells.length; ++i) {\n",
       "                    if (nbb_cells[i].input_prompt_number == nbb_cell_id) {\n",
       "                        if (nbb_cells[i].get_text() == nbb_unformatted_code) {\n",
       "                             nbb_cells[i].set_text(nbb_formatted_code);\n",
       "                        }\n",
       "                        break;\n",
       "                    }\n",
       "                }\n",
       "            }, 500);\n",
       "            "
      ],
      "text/plain": [
       "<IPython.core.display.Javascript object>"
      ]
     },
     "metadata": {},
     "output_type": "display_data"
    }
   ],
   "source": [
    "fig, ax = plt.subplots(figsize=[6, 4])\n",
    "ax = sns.heatmap(avg_conf_mtx, annot=True, cmap=\"viridis\", ax=ax)\n",
    "ax.set_xlabel(\"Predicted\")\n",
    "ax.set_ylabel(\"True\")\n",
    "plt.title(\"Average confusion matrix from {}-fold stratified CV\".format(10))\n",
    "plt.show()"
   ]
  },
  {
   "cell_type": "markdown",
   "id": "plastic-surprise",
   "metadata": {},
   "source": [
    "The confusion matrix further emphasizes the previous statements. For all cases we can fairly well distinguish the samples from the cancer patient at the different time points from the halthy controls. However, we can less well distinguish between the different time points."
   ]
  },
  {
   "cell_type": "code",
   "execution_count": 15,
   "id": "peripheral-figure",
   "metadata": {},
   "outputs": [
    {
     "data": {
      "image/png": "[encoded data removed]",
      "text/plain": [
       "<Figure size 576x432 with 1 Axes>"
      ]
     },
     "metadata": {
      "needs_background": "light"
     },
     "output_type": "display_data"
    },
    {
     "data": {
      "application/javascript": [
       "\n",
       "            setTimeout(function() {\n",
       "                var nbb_cell_id = 15;\n",
       "                var nbb_unformatted_code = \"rfc = rfc.fit(features_sc, condition_labels)\\nplot_feature_importance(rfc.feature_importances_, features_sc.columns, \\\"RFC \\\")\";\n",
       "                var nbb_formatted_code = \"rfc = rfc.fit(features_sc, condition_labels)\\nplot_feature_importance(rfc.feature_importances_, features_sc.columns, \\\"RFC \\\")\";\n",
       "                var nbb_cells = Jupyter.notebook.get_cells();\n",
       "                for (var i = 0; i < nbb_cells.length; ++i) {\n",
       "                    if (nbb_cells[i].input_prompt_number == nbb_cell_id) {\n",
       "                        if (nbb_cells[i].get_text() == nbb_unformatted_code) {\n",
       "                             nbb_cells[i].set_text(nbb_formatted_code);\n",
       "                        }\n",
       "                        break;\n",
       "                    }\n",
       "                }\n",
       "            }, 500);\n",
       "            "
      ],
      "text/plain": [
       "<IPython.core.display.Javascript object>"
      ]
     },
     "metadata": {},
     "output_type": "display_data"
    }
   ],
   "source": [
    "rfc = rfc.fit(features_sc, condition_labels)\n",
    "plot_feature_importance(rfc.feature_importances_, features_sc.columns, \"RFC \")"
   ]
  },
  {
   "cell_type": "markdown",
   "id": "encouraging-guyana",
   "metadata": {},
   "source": [
    "When we look at the features that got the highest importance we see that many of these are related to intensity features of the protein channels."
   ]
  },
  {
   "cell_type": "code",
   "execution_count": 16,
   "id": "cultural-fraud",
   "metadata": {},
   "outputs": [
    {
     "data": {
      "image/png": "[encoded data removed]",
      "text/plain": [
       "<Figure size 432x288 with 1 Axes>"
      ]
     },
     "metadata": {
      "needs_background": "light"
     },
     "output_type": "display_data"
    },
    {
     "data": {
      "application/javascript": [
       "\n",
       "            setTimeout(function() {\n",
       "                var nbb_cell_id = 16;\n",
       "                var nbb_unformatted_code = \"fig, ax = plt.subplots(figsize=[6, 4])\\nsns.boxplot(data=data, x=\\\"condition\\\", y=\\\"std_curvature\\\", ax=ax)\\nadd_stat_annotation(\\n    ax,\\n    data=data,\\n    x=\\\"condition\\\",\\n    y=\\\"std_curvature\\\",\\n    box_pairs=[\\n        (\\\"ctrl\\\", \\\"tp1\\\"),\\n        (\\\"ctrl\\\", \\\"tp2\\\"),\\n        (\\\"ctrl\\\", \\\"tp3\\\"),\\n        (\\\"tp1\\\", \\\"tp2\\\"),\\n        (\\\"tp1\\\", \\\"tp3\\\"),\\n        (\\\"tp2\\\", \\\"tp3\\\"),\\n    ],\\n    test=\\\"Mann-Whitney\\\",\\n    loc=\\\"inside\\\",\\n    verbose=0,\\n)\\nplt.show()\";\n",
       "                var nbb_formatted_code = \"fig, ax = plt.subplots(figsize=[6, 4])\\nsns.boxplot(data=data, x=\\\"condition\\\", y=\\\"std_curvature\\\", ax=ax)\\nadd_stat_annotation(\\n    ax,\\n    data=data,\\n    x=\\\"condition\\\",\\n    y=\\\"std_curvature\\\",\\n    box_pairs=[\\n        (\\\"ctrl\\\", \\\"tp1\\\"),\\n        (\\\"ctrl\\\", \\\"tp2\\\"),\\n        (\\\"ctrl\\\", \\\"tp3\\\"),\\n        (\\\"tp1\\\", \\\"tp2\\\"),\\n        (\\\"tp1\\\", \\\"tp3\\\"),\\n        (\\\"tp2\\\", \\\"tp3\\\"),\\n    ],\\n    test=\\\"Mann-Whitney\\\",\\n    loc=\\\"inside\\\",\\n    verbose=0,\\n)\\nplt.show()\";\n",
       "                var nbb_cells = Jupyter.notebook.get_cells();\n",
       "                for (var i = 0; i < nbb_cells.length; ++i) {\n",
       "                    if (nbb_cells[i].input_prompt_number == nbb_cell_id) {\n",
       "                        if (nbb_cells[i].get_text() == nbb_unformatted_code) {\n",
       "                             nbb_cells[i].set_text(nbb_formatted_code);\n",
       "                        }\n",
       "                        break;\n",
       "                    }\n",
       "                }\n",
       "            }, 500);\n",
       "            "
      ],
      "text/plain": [
       "<IPython.core.display.Javascript object>"
      ]
     },
     "metadata": {},
     "output_type": "display_data"
    }
   ],
   "source": [
    "fig, ax = plt.subplots(figsize=[6, 4])\n",
    "sns.boxplot(data=data, x=\"condition\", y=\"std_curvature\", ax=ax)\n",
    "add_stat_annotation(\n",
    "    ax,\n",
    "    data=data,\n",
    "    x=\"condition\",\n",
    "    y=\"std_curvature\",\n",
    "    box_pairs=[\n",
    "        (\"ctrl\", \"tp1\"),\n",
    "        (\"ctrl\", \"tp2\"),\n",
    "        (\"ctrl\", \"tp3\"),\n",
    "        (\"tp1\", \"tp2\"),\n",
    "        (\"tp1\", \"tp3\"),\n",
    "        (\"tp2\", \"tp3\"),\n",
    "    ],\n",
    "    test=\"Mann-Whitney\",\n",
    "    loc=\"inside\",\n",
    "    verbose=0,\n",
    ")\n",
    "plt.show()"
   ]
  },
  {
   "cell_type": "code",
   "execution_count": 17,
   "id": "individual-michigan",
   "metadata": {},
   "outputs": [
    {
     "data": {
      "text/plain": [
       "['min_calliper',\n",
       " 'max_calliper',\n",
       " 'smallest_largest_calliper',\n",
       " 'min_radius',\n",
       " 'max_radius',\n",
       " 'med_radius',\n",
       " 'avg_radius',\n",
       " 'mode_radius',\n",
       " 'd25_radius',\n",
       " 'd75_radius',\n",
       " 'std_radius',\n",
       " 'feret_max',\n",
       " 'area',\n",
       " 'perimeter',\n",
       " 'bbox_area',\n",
       " 'convex_area',\n",
       " 'equivalent_diameter',\n",
       " 'major_axis_length',\n",
       " 'minor_axis_length',\n",
       " 'eccentricity',\n",
       " 'concavity',\n",
       " 'solidity',\n",
       " 'a_r',\n",
       " 'shape_factor',\n",
       " 'area_bbarea',\n",
       " 'avg_curvature',\n",
       " 'std_curvature',\n",
       " 'npolarity_changes',\n",
       " 'max_posi_curv',\n",
       " 'avg_posi_curv',\n",
       " 'med_posi_curv',\n",
       " 'std_posi_curv',\n",
       " 'sum_posi_curv',\n",
       " 'len_posi_curv',\n",
       " 'max_neg_curv',\n",
       " 'avg_neg_curv',\n",
       " 'med_neg_curv',\n",
       " 'std_neg_curv',\n",
       " 'sum_neg_curv',\n",
       " 'len_neg_curv',\n",
       " 'num_prominant_pos_curv',\n",
       " 'prominance_prominant_pos_curv',\n",
       " 'width_prominant_pos_curv',\n",
       " 'prominant_pos_curv',\n",
       " 'num_prominant_neg_curv',\n",
       " 'frac_peri_w_posi_curvature',\n",
       " 'frac_peri_w_neg_curvature',\n",
       " 'frac_peri_w_polarity_changes',\n",
       " 'int_min',\n",
       " 'int_d25',\n",
       " 'int_median',\n",
       " 'int_d75',\n",
       " 'int_max',\n",
       " 'int_mean',\n",
       " 'int_mode',\n",
       " 'int_sd',\n",
       " 'kurtosis',\n",
       " 'skewness',\n",
       " 'entropy',\n",
       " 'i80_i20',\n",
       " 'nhigh_nlow',\n",
       " 'hc_area_ec_area',\n",
       " 'hc_area_nuc_area',\n",
       " 'hc_content_ec_content',\n",
       " 'hc_content_dna_content',\n",
       " 'contrast_5',\n",
       " 'contrast_25',\n",
       " 'contrast_100',\n",
       " 'dissimilarity_5',\n",
       " 'dissimilarity_25',\n",
       " 'dissimilarity_100',\n",
       " 'homogeneity_5',\n",
       " 'homogeneity_25',\n",
       " 'homogeneity_100',\n",
       " 'asm_5',\n",
       " 'asm_25',\n",
       " 'asm_100',\n",
       " 'energy_5',\n",
       " 'energy_25',\n",
       " 'energy_100',\n",
       " 'correlation_5',\n",
       " 'correlation_25',\n",
       " 'correlation_100',\n",
       " 'weighted_moments-0-0',\n",
       " 'weighted_moments-0-1',\n",
       " 'weighted_moments-0-2',\n",
       " 'weighted_moments-0-3',\n",
       " 'weighted_moments-1-0',\n",
       " 'weighted_moments-1-1',\n",
       " 'weighted_moments-1-2',\n",
       " 'weighted_moments-1-3',\n",
       " 'weighted_moments-2-0',\n",
       " 'weighted_moments-2-1',\n",
       " 'weighted_moments-2-2',\n",
       " 'weighted_moments-2-3',\n",
       " 'weighted_moments-3-0',\n",
       " 'weighted_moments-3-1',\n",
       " 'weighted_moments-3-2',\n",
       " 'weighted_moments-3-3',\n",
       " 'weighted_moments_normalized-0-2',\n",
       " 'weighted_moments_normalized-0-3',\n",
       " 'weighted_moments_normalized-1-1',\n",
       " 'weighted_moments_normalized-1-2',\n",
       " 'weighted_moments_normalized-1-3',\n",
       " 'weighted_moments_normalized-2-0',\n",
       " 'weighted_moments_normalized-2-1',\n",
       " 'weighted_moments_normalized-2-2',\n",
       " 'weighted_moments_normalized-2-3',\n",
       " 'weighted_moments_normalized-3-0',\n",
       " 'weighted_moments_normalized-3-1',\n",
       " 'weighted_moments_normalized-3-2',\n",
       " 'weighted_moments_normalized-3-3',\n",
       " 'weighted_moments_central-0-0',\n",
       " 'weighted_moments_central-0-1',\n",
       " 'weighted_moments_central-0-2',\n",
       " 'weighted_moments_central-0-3',\n",
       " 'weighted_moments_central-1-0',\n",
       " 'weighted_moments_central-1-1',\n",
       " 'weighted_moments_central-1-2',\n",
       " 'weighted_moments_central-1-3',\n",
       " 'weighted_moments_central-2-0',\n",
       " 'weighted_moments_central-2-1',\n",
       " 'weighted_moments_central-2-2',\n",
       " 'weighted_moments_central-2-3',\n",
       " 'weighted_moments_central-3-0',\n",
       " 'weighted_moments_central-3-1',\n",
       " 'weighted_moments_central-3-2',\n",
       " 'weighted_moments_central-3-3',\n",
       " 'weighted_moments_hu-0',\n",
       " 'weighted_moments_hu-1',\n",
       " 'weighted_moments_hu-2',\n",
       " 'weighted_moments_hu-3',\n",
       " 'weighted_moments_hu-4',\n",
       " 'weighted_moments_hu-5',\n",
       " 'weighted_moments_hu-6',\n",
       " 'moments-0-0',\n",
       " 'moments-0-1',\n",
       " 'moments-0-2',\n",
       " 'moments-0-3',\n",
       " 'moments-1-0',\n",
       " 'moments-1-1',\n",
       " 'moments-1-2',\n",
       " 'moments-1-3',\n",
       " 'moments-2-0',\n",
       " 'moments-2-1',\n",
       " 'moments-2-2',\n",
       " 'moments-2-3',\n",
       " 'moments-3-0',\n",
       " 'moments-3-1',\n",
       " 'moments-3-2',\n",
       " 'moments-3-3',\n",
       " 'moments_normalized-0-2',\n",
       " 'moments_normalized-0-3',\n",
       " 'moments_normalized-1-1',\n",
       " 'moments_normalized-1-2',\n",
       " 'moments_normalized-1-3',\n",
       " 'moments_normalized-2-0',\n",
       " 'moments_normalized-2-1',\n",
       " 'moments_normalized-2-2',\n",
       " 'moments_normalized-2-3',\n",
       " 'moments_normalized-3-0',\n",
       " 'moments_normalized-3-1',\n",
       " 'moments_normalized-3-2',\n",
       " 'moments_normalized-3-3',\n",
       " 'moments_central-0-0',\n",
       " 'moments_central-0-1',\n",
       " 'moments_central-0-2',\n",
       " 'moments_central-0-3',\n",
       " 'moments_central-1-0',\n",
       " 'moments_central-1-1',\n",
       " 'moments_central-1-2',\n",
       " 'moments_central-1-3',\n",
       " 'moments_central-2-0',\n",
       " 'moments_central-2-1',\n",
       " 'moments_central-2-2',\n",
       " 'moments_central-2-3',\n",
       " 'moments_central-3-0',\n",
       " 'moments_central-3-1',\n",
       " 'moments_central-3-2',\n",
       " 'moments_central-3-3',\n",
       " 'moments_hu-0',\n",
       " 'moments_hu-1',\n",
       " 'moments_hu-2',\n",
       " 'moments_hu-3',\n",
       " 'moments_hu-4',\n",
       " 'moments_hu-5',\n",
       " 'moments_hu-6',\n",
       " 'equivalent_diameter.1',\n",
       " 'extent',\n",
       " 'major_axis_length.1',\n",
       " 'minor_axis_length.1',\n",
       " 'solidity.1',\n",
       " 'nuclear_volume',\n",
       " 'convex_hull_vol',\n",
       " 'concavity_3d',\n",
       " 'rel_hc_volume',\n",
       " 'rel_ec_volume',\n",
       " 'hc_ec_ratio_3d',\n",
       " 'nuclear_mean_int',\n",
       " 'nuclear_std_int',\n",
       " 'rdp_1',\n",
       " 'rdp_2',\n",
       " 'rdp_3',\n",
       " 'rdp_4',\n",
       " 'rdp_5',\n",
       " 'rdp_6',\n",
       " 'rdp_7',\n",
       " 'rdp_8',\n",
       " 'rel_dna_3d_int',\n",
       " 'min_dna_3d_int',\n",
       " 'max_dna_3d_int',\n",
       " 'mean_dna_3d_int',\n",
       " 'std_dna_3d_int',\n",
       " 'q25_dna_3d_int',\n",
       " 'q75_dna_3d_int',\n",
       " 'median_dna_3d_int',\n",
       " 'kurtosis_dna_3d_int',\n",
       " 'skewness_dna_3d_int',\n",
       " 'rel_gh2ax_2d_int',\n",
       " 'min_gh2ax_2d_int',\n",
       " 'max_gh2ax_2d_int',\n",
       " 'mean_gh2ax_2d_int',\n",
       " 'std_gh2ax_2d_int',\n",
       " 'q25_gh2ax_2d_int',\n",
       " 'q75_gh2ax_2d_int',\n",
       " 'median_gh2ax_2d_int',\n",
       " 'kurtosis_gh2ax_2d_int',\n",
       " 'skewness_gh2ax_2d_int',\n",
       " 'rel_gh2ax_3d_int',\n",
       " 'min_gh2ax_3d_int',\n",
       " 'max_gh2ax_3d_int',\n",
       " 'mean_gh2ax_3d_int',\n",
       " 'std_gh2ax_3d_int',\n",
       " 'q25_gh2ax_3d_int',\n",
       " 'q75_gh2ax_3d_int',\n",
       " 'median_gh2ax_3d_int',\n",
       " 'kurtosis_gh2ax_3d_int',\n",
       " 'skewness_gh2ax_3d_int',\n",
       " 'rel_lamin_2d_int',\n",
       " 'min_lamin_2d_int',\n",
       " 'max_lamin_2d_int',\n",
       " 'mean_lamin_2d_int',\n",
       " 'std_lamin_2d_int',\n",
       " 'q25_lamin_2d_int',\n",
       " 'q75_lamin_2d_int',\n",
       " 'median_lamin_2d_int',\n",
       " 'kurtosis_lamin_2d_int',\n",
       " 'skewness_lamin_2d_int',\n",
       " 'rel_lamin_3d_int',\n",
       " 'max_lamin_3d_int',\n",
       " 'mean_lamin_3d_int',\n",
       " 'std_lamin_3d_int',\n",
       " 'q75_lamin_3d_int',\n",
       " 'median_lamin_3d_int',\n",
       " 'kurtosis_lamin_3d_int',\n",
       " 'skewness_lamin_3d_int',\n",
       " 'sample',\n",
       " 'condition']"
      ]
     },
     "execution_count": 17,
     "metadata": {},
     "output_type": "execute_result"
    },
    {
     "data": {
      "application/javascript": [
       "\n",
       "            setTimeout(function() {\n",
       "                var nbb_cell_id = 17;\n",
       "                var nbb_unformatted_code = \"list(data.columns)\";\n",
       "                var nbb_formatted_code = \"list(data.columns)\";\n",
       "                var nbb_cells = Jupyter.notebook.get_cells();\n",
       "                for (var i = 0; i < nbb_cells.length; ++i) {\n",
       "                    if (nbb_cells[i].input_prompt_number == nbb_cell_id) {\n",
       "                        if (nbb_cells[i].get_text() == nbb_unformatted_code) {\n",
       "                             nbb_cells[i].set_text(nbb_formatted_code);\n",
       "                        }\n",
       "                        break;\n",
       "                    }\n",
       "                }\n",
       "            }, 500);\n",
       "            "
      ],
      "text/plain": [
       "<IPython.core.display.Javascript object>"
      ]
     },
     "metadata": {},
     "output_type": "display_data"
    }
   ],
   "source": [
    "list(data.columns)"
   ]
  },
  {
   "cell_type": "code",
   "execution_count": 18,
   "id": "golden-anniversary",
   "metadata": {},
   "outputs": [
    {
     "data": {
      "image/png": "[encoded data removed]",
      "text/plain": [
       "<Figure size 432x288 with 1 Axes>"
      ]
     },
     "metadata": {
      "needs_background": "light"
     },
     "output_type": "display_data"
    },
    {
     "data": {
      "application/javascript": [
       "\n",
       "            setTimeout(function() {\n",
       "                var nbb_cell_id = 18;\n",
       "                var nbb_unformatted_code = \"fig, ax = plt.subplots(figsize=[6, 4])\\nsns.boxplot(data=data, x=\\\"condition\\\", y=\\\"area\\\", ax=ax)\\nadd_stat_annotation(\\n    ax,\\n    data=data,\\n    x=\\\"condition\\\",\\n    y=\\\"area\\\",\\n    box_pairs=[\\n        (\\\"ctrl\\\", \\\"tp1\\\"),\\n        (\\\"ctrl\\\", \\\"tp2\\\"),\\n        (\\\"ctrl\\\", \\\"tp3\\\"),\\n        (\\\"tp1\\\", \\\"tp2\\\"),\\n        (\\\"tp1\\\", \\\"tp3\\\"),\\n        (\\\"tp2\\\", \\\"tp3\\\"),\\n    ],\\n    test=\\\"Mann-Whitney\\\",\\n    loc=\\\"inside\\\",\\n    verbose=0,\\n)\\nplt.show()\";\n",
       "                var nbb_formatted_code = \"fig, ax = plt.subplots(figsize=[6, 4])\\nsns.boxplot(data=data, x=\\\"condition\\\", y=\\\"area\\\", ax=ax)\\nadd_stat_annotation(\\n    ax,\\n    data=data,\\n    x=\\\"condition\\\",\\n    y=\\\"area\\\",\\n    box_pairs=[\\n        (\\\"ctrl\\\", \\\"tp1\\\"),\\n        (\\\"ctrl\\\", \\\"tp2\\\"),\\n        (\\\"ctrl\\\", \\\"tp3\\\"),\\n        (\\\"tp1\\\", \\\"tp2\\\"),\\n        (\\\"tp1\\\", \\\"tp3\\\"),\\n        (\\\"tp2\\\", \\\"tp3\\\"),\\n    ],\\n    test=\\\"Mann-Whitney\\\",\\n    loc=\\\"inside\\\",\\n    verbose=0,\\n)\\nplt.show()\";\n",
       "                var nbb_cells = Jupyter.notebook.get_cells();\n",
       "                for (var i = 0; i < nbb_cells.length; ++i) {\n",
       "                    if (nbb_cells[i].input_prompt_number == nbb_cell_id) {\n",
       "                        if (nbb_cells[i].get_text() == nbb_unformatted_code) {\n",
       "                             nbb_cells[i].set_text(nbb_formatted_code);\n",
       "                        }\n",
       "                        break;\n",
       "                    }\n",
       "                }\n",
       "            }, 500);\n",
       "            "
      ],
      "text/plain": [
       "<IPython.core.display.Javascript object>"
      ]
     },
     "metadata": {},
     "output_type": "display_data"
    }
   ],
   "source": [
    "fig, ax = plt.subplots(figsize=[6, 4])\n",
    "sns.boxplot(data=data, x=\"condition\", y=\"area\", ax=ax)\n",
    "add_stat_annotation(\n",
    "    ax,\n",
    "    data=data,\n",
    "    x=\"condition\",\n",
    "    y=\"area\",\n",
    "    box_pairs=[\n",
    "        (\"ctrl\", \"tp1\"),\n",
    "        (\"ctrl\", \"tp2\"),\n",
    "        (\"ctrl\", \"tp3\"),\n",
    "        (\"tp1\", \"tp2\"),\n",
    "        (\"tp1\", \"tp3\"),\n",
    "        (\"tp2\", \"tp3\"),\n",
    "    ],\n",
    "    test=\"Mann-Whitney\",\n",
    "    loc=\"inside\",\n",
    "    verbose=0,\n",
    ")\n",
    "plt.show()"
   ]
  },
  {
   "cell_type": "code",
   "execution_count": 19,
   "id": "infectious-zambia",
   "metadata": {},
   "outputs": [
    {
     "data": {
      "image/png": "[encoded data removed]",
      "text/plain": [
       "<Figure size 432x288 with 1 Axes>"
      ]
     },
     "metadata": {
      "needs_background": "light"
     },
     "output_type": "display_data"
    },
    {
     "data": {
      "application/javascript": [
       "\n",
       "            setTimeout(function() {\n",
       "                var nbb_cell_id = 19;\n",
       "                var nbb_unformatted_code = \"fig, ax = plt.subplots(figsize=[6, 4])\\nsns.boxplot(data=data, x=\\\"condition\\\", y=\\\"med_radius\\\", ax=ax)\\nadd_stat_annotation(\\n    ax,\\n    data=data,\\n    x=\\\"condition\\\",\\n    y=\\\"med_radius\\\",\\n    box_pairs=[\\n        (\\\"ctrl\\\", \\\"tp1\\\"),\\n        (\\\"ctrl\\\", \\\"tp2\\\"),\\n        (\\\"ctrl\\\", \\\"tp3\\\"),\\n        (\\\"tp1\\\", \\\"tp2\\\"),\\n        (\\\"tp1\\\", \\\"tp3\\\"),\\n        (\\\"tp2\\\", \\\"tp3\\\"),\\n    ],\\n    test=\\\"Mann-Whitney\\\",\\n    loc=\\\"inside\\\",\\n    verbose=0,\\n)\\nplt.show()\";\n",
       "                var nbb_formatted_code = \"fig, ax = plt.subplots(figsize=[6, 4])\\nsns.boxplot(data=data, x=\\\"condition\\\", y=\\\"med_radius\\\", ax=ax)\\nadd_stat_annotation(\\n    ax,\\n    data=data,\\n    x=\\\"condition\\\",\\n    y=\\\"med_radius\\\",\\n    box_pairs=[\\n        (\\\"ctrl\\\", \\\"tp1\\\"),\\n        (\\\"ctrl\\\", \\\"tp2\\\"),\\n        (\\\"ctrl\\\", \\\"tp3\\\"),\\n        (\\\"tp1\\\", \\\"tp2\\\"),\\n        (\\\"tp1\\\", \\\"tp3\\\"),\\n        (\\\"tp2\\\", \\\"tp3\\\"),\\n    ],\\n    test=\\\"Mann-Whitney\\\",\\n    loc=\\\"inside\\\",\\n    verbose=0,\\n)\\nplt.show()\";\n",
       "                var nbb_cells = Jupyter.notebook.get_cells();\n",
       "                for (var i = 0; i < nbb_cells.length; ++i) {\n",
       "                    if (nbb_cells[i].input_prompt_number == nbb_cell_id) {\n",
       "                        if (nbb_cells[i].get_text() == nbb_unformatted_code) {\n",
       "                             nbb_cells[i].set_text(nbb_formatted_code);\n",
       "                        }\n",
       "                        break;\n",
       "                    }\n",
       "                }\n",
       "            }, 500);\n",
       "            "
      ],
      "text/plain": [
       "<IPython.core.display.Javascript object>"
      ]
     },
     "metadata": {},
     "output_type": "display_data"
    }
   ],
   "source": [
    "fig, ax = plt.subplots(figsize=[6, 4])\n",
    "sns.boxplot(data=data, x=\"condition\", y=\"med_radius\", ax=ax)\n",
    "add_stat_annotation(\n",
    "    ax,\n",
    "    data=data,\n",
    "    x=\"condition\",\n",
    "    y=\"med_radius\",\n",
    "    box_pairs=[\n",
    "        (\"ctrl\", \"tp1\"),\n",
    "        (\"ctrl\", \"tp2\"),\n",
    "        (\"ctrl\", \"tp3\"),\n",
    "        (\"tp1\", \"tp2\"),\n",
    "        (\"tp1\", \"tp3\"),\n",
    "        (\"tp2\", \"tp3\"),\n",
    "    ],\n",
    "    test=\"Mann-Whitney\",\n",
    "    loc=\"inside\",\n",
    "    verbose=0,\n",
    ")\n",
    "plt.show()"
   ]
  },
  {
   "cell_type": "code",
   "execution_count": 20,
   "id": "unusual-sculpture",
   "metadata": {},
   "outputs": [
    {
     "data": {
      "image/png": "[encoded data removed]",
      "text/plain": [
       "<Figure size 432x288 with 1 Axes>"
      ]
     },
     "metadata": {
      "needs_background": "light"
     },
     "output_type": "display_data"
    },
    {
     "data": {
      "application/javascript": [
       "\n",
       "            setTimeout(function() {\n",
       "                var nbb_cell_id = 20;\n",
       "                var nbb_unformatted_code = \"fig, ax = plt.subplots(figsize=[6, 4])\\nsns.boxplot(data=data, x=\\\"condition\\\", y=\\\"concavity_3d\\\", ax=ax)\\nadd_stat_annotation(\\n    ax,\\n    data=data,\\n    x=\\\"condition\\\",\\n    y=\\\"concavity_3d\\\",\\n    box_pairs=[\\n        (\\\"ctrl\\\", \\\"tp1\\\"),\\n        (\\\"ctrl\\\", \\\"tp2\\\"),\\n        (\\\"ctrl\\\", \\\"tp3\\\"),\\n        (\\\"tp1\\\", \\\"tp2\\\"),\\n        (\\\"tp1\\\", \\\"tp3\\\"),\\n        (\\\"tp2\\\", \\\"tp3\\\"),\\n    ],\\n    test=\\\"Mann-Whitney\\\",\\n    loc=\\\"inside\\\",\\n    verbose=0,\\n)\\nplt.show()\";\n",
       "                var nbb_formatted_code = \"fig, ax = plt.subplots(figsize=[6, 4])\\nsns.boxplot(data=data, x=\\\"condition\\\", y=\\\"concavity_3d\\\", ax=ax)\\nadd_stat_annotation(\\n    ax,\\n    data=data,\\n    x=\\\"condition\\\",\\n    y=\\\"concavity_3d\\\",\\n    box_pairs=[\\n        (\\\"ctrl\\\", \\\"tp1\\\"),\\n        (\\\"ctrl\\\", \\\"tp2\\\"),\\n        (\\\"ctrl\\\", \\\"tp3\\\"),\\n        (\\\"tp1\\\", \\\"tp2\\\"),\\n        (\\\"tp1\\\", \\\"tp3\\\"),\\n        (\\\"tp2\\\", \\\"tp3\\\"),\\n    ],\\n    test=\\\"Mann-Whitney\\\",\\n    loc=\\\"inside\\\",\\n    verbose=0,\\n)\\nplt.show()\";\n",
       "                var nbb_cells = Jupyter.notebook.get_cells();\n",
       "                for (var i = 0; i < nbb_cells.length; ++i) {\n",
       "                    if (nbb_cells[i].input_prompt_number == nbb_cell_id) {\n",
       "                        if (nbb_cells[i].get_text() == nbb_unformatted_code) {\n",
       "                             nbb_cells[i].set_text(nbb_formatted_code);\n",
       "                        }\n",
       "                        break;\n",
       "                    }\n",
       "                }\n",
       "            }, 500);\n",
       "            "
      ],
      "text/plain": [
       "<IPython.core.display.Javascript object>"
      ]
     },
     "metadata": {},
     "output_type": "display_data"
    }
   ],
   "source": [
    "fig, ax = plt.subplots(figsize=[6, 4])\n",
    "sns.boxplot(data=data, x=\"condition\", y=\"concavity_3d\", ax=ax)\n",
    "add_stat_annotation(\n",
    "    ax,\n",
    "    data=data,\n",
    "    x=\"condition\",\n",
    "    y=\"concavity_3d\",\n",
    "    box_pairs=[\n",
    "        (\"ctrl\", \"tp1\"),\n",
    "        (\"ctrl\", \"tp2\"),\n",
    "        (\"ctrl\", \"tp3\"),\n",
    "        (\"tp1\", \"tp2\"),\n",
    "        (\"tp1\", \"tp3\"),\n",
    "        (\"tp2\", \"tp3\"),\n",
    "    ],\n",
    "    test=\"Mann-Whitney\",\n",
    "    loc=\"inside\",\n",
    "    verbose=0,\n",
    ")\n",
    "plt.show()"
   ]
  },
  {
   "cell_type": "code",
   "execution_count": 21,
   "id": "jewish-helen",
   "metadata": {},
   "outputs": [
    {
     "data": {
      "image/png": "[encoded data removed]",
      "text/plain": [
       "<Figure size 432x432 with 1 Axes>"
      ]
     },
     "metadata": {
      "needs_background": "light"
     },
     "output_type": "display_data"
    },
    {
     "data": {
      "application/javascript": [
       "\n",
       "            setTimeout(function() {\n",
       "                var nbb_cell_id = 21;\n",
       "                var nbb_unformatted_code = \"fig, ax = plt.subplots(figsize=[6, 6])\\nsns.boxplot(data=data, x=\\\"condition\\\", y=\\\"rel_gh2ax_3d_int\\\", ax=ax)\\nax.set_ylim([0, 20000])\\nadd_stat_annotation(\\n    ax,\\n    data=data,\\n    x=\\\"condition\\\",\\n    y=\\\"rel_gh2ax_3d_int\\\",\\n    box_pairs=[\\n        (\\\"ctrl\\\", \\\"tp1\\\"),\\n        (\\\"ctrl\\\", \\\"tp2\\\"),\\n        (\\\"ctrl\\\", \\\"tp3\\\"),\\n        (\\\"tp1\\\", \\\"tp2\\\"),\\n        (\\\"tp1\\\", \\\"tp3\\\"),\\n        (\\\"tp2\\\", \\\"tp3\\\"),\\n    ],\\n    test=\\\"Mann-Whitney\\\",\\n    loc=\\\"outside\\\",\\n    verbose=0,\\n)\\nplt.show()\";\n",
       "                var nbb_formatted_code = \"fig, ax = plt.subplots(figsize=[6, 6])\\nsns.boxplot(data=data, x=\\\"condition\\\", y=\\\"rel_gh2ax_3d_int\\\", ax=ax)\\nax.set_ylim([0, 20000])\\nadd_stat_annotation(\\n    ax,\\n    data=data,\\n    x=\\\"condition\\\",\\n    y=\\\"rel_gh2ax_3d_int\\\",\\n    box_pairs=[\\n        (\\\"ctrl\\\", \\\"tp1\\\"),\\n        (\\\"ctrl\\\", \\\"tp2\\\"),\\n        (\\\"ctrl\\\", \\\"tp3\\\"),\\n        (\\\"tp1\\\", \\\"tp2\\\"),\\n        (\\\"tp1\\\", \\\"tp3\\\"),\\n        (\\\"tp2\\\", \\\"tp3\\\"),\\n    ],\\n    test=\\\"Mann-Whitney\\\",\\n    loc=\\\"outside\\\",\\n    verbose=0,\\n)\\nplt.show()\";\n",
       "                var nbb_cells = Jupyter.notebook.get_cells();\n",
       "                for (var i = 0; i < nbb_cells.length; ++i) {\n",
       "                    if (nbb_cells[i].input_prompt_number == nbb_cell_id) {\n",
       "                        if (nbb_cells[i].get_text() == nbb_unformatted_code) {\n",
       "                             nbb_cells[i].set_text(nbb_formatted_code);\n",
       "                        }\n",
       "                        break;\n",
       "                    }\n",
       "                }\n",
       "            }, 500);\n",
       "            "
      ],
      "text/plain": [
       "<IPython.core.display.Javascript object>"
      ]
     },
     "metadata": {},
     "output_type": "display_data"
    }
   ],
   "source": [
    "fig, ax = plt.subplots(figsize=[6, 6])\n",
    "sns.boxplot(data=data, x=\"condition\", y=\"rel_gh2ax_3d_int\", ax=ax)\n",
    "ax.set_ylim([0, 20000])\n",
    "add_stat_annotation(\n",
    "    ax,\n",
    "    data=data,\n",
    "    x=\"condition\",\n",
    "    y=\"rel_gh2ax_3d_int\",\n",
    "    box_pairs=[\n",
    "        (\"ctrl\", \"tp1\"),\n",
    "        (\"ctrl\", \"tp2\"),\n",
    "        (\"ctrl\", \"tp3\"),\n",
    "        (\"tp1\", \"tp2\"),\n",
    "        (\"tp1\", \"tp3\"),\n",
    "        (\"tp2\", \"tp3\"),\n",
    "    ],\n",
    "    test=\"Mann-Whitney\",\n",
    "    loc=\"outside\",\n",
    "    verbose=0,\n",
    ")\n",
    "plt.show()"
   ]
  },
  {
   "cell_type": "code",
   "execution_count": 22,
   "id": "precious-speech",
   "metadata": {},
   "outputs": [
    {
     "data": {
      "image/png": "[encoded data removed]",
      "text/plain": [
       "<Figure size 432x288 with 1 Axes>"
      ]
     },
     "metadata": {
      "needs_background": "light"
     },
     "output_type": "display_data"
    },
    {
     "data": {
      "application/javascript": [
       "\n",
       "            setTimeout(function() {\n",
       "                var nbb_cell_id = 22;\n",
       "                var nbb_unformatted_code = \"fig, ax = plt.subplots(figsize=[6, 4])\\nsns.boxplot(data=data, x=\\\"condition\\\", y=\\\"rel_lamin_3d_int\\\", ax=ax)\\nax.set_ylim([0, 3000])\\nadd_stat_annotation(\\n    ax,\\n    data=data,\\n    x=\\\"condition\\\",\\n    y=\\\"rel_lamin_3d_int\\\",\\n    box_pairs=[\\n        (\\\"ctrl\\\", \\\"tp1\\\"),\\n        (\\\"ctrl\\\", \\\"tp2\\\"),\\n        (\\\"ctrl\\\", \\\"tp3\\\"),\\n        (\\\"tp1\\\", \\\"tp2\\\"),\\n        (\\\"tp1\\\", \\\"tp3\\\"),\\n        (\\\"tp2\\\", \\\"tp3\\\"),\\n    ],\\n    test=\\\"Mann-Whitney\\\",\\n    loc=\\\"outside\\\",\\n    verbose=0,\\n)\\nplt.show()\";\n",
       "                var nbb_formatted_code = \"fig, ax = plt.subplots(figsize=[6, 4])\\nsns.boxplot(data=data, x=\\\"condition\\\", y=\\\"rel_lamin_3d_int\\\", ax=ax)\\nax.set_ylim([0, 3000])\\nadd_stat_annotation(\\n    ax,\\n    data=data,\\n    x=\\\"condition\\\",\\n    y=\\\"rel_lamin_3d_int\\\",\\n    box_pairs=[\\n        (\\\"ctrl\\\", \\\"tp1\\\"),\\n        (\\\"ctrl\\\", \\\"tp2\\\"),\\n        (\\\"ctrl\\\", \\\"tp3\\\"),\\n        (\\\"tp1\\\", \\\"tp2\\\"),\\n        (\\\"tp1\\\", \\\"tp3\\\"),\\n        (\\\"tp2\\\", \\\"tp3\\\"),\\n    ],\\n    test=\\\"Mann-Whitney\\\",\\n    loc=\\\"outside\\\",\\n    verbose=0,\\n)\\nplt.show()\";\n",
       "                var nbb_cells = Jupyter.notebook.get_cells();\n",
       "                for (var i = 0; i < nbb_cells.length; ++i) {\n",
       "                    if (nbb_cells[i].input_prompt_number == nbb_cell_id) {\n",
       "                        if (nbb_cells[i].get_text() == nbb_unformatted_code) {\n",
       "                             nbb_cells[i].set_text(nbb_formatted_code);\n",
       "                        }\n",
       "                        break;\n",
       "                    }\n",
       "                }\n",
       "            }, 500);\n",
       "            "
      ],
      "text/plain": [
       "<IPython.core.display.Javascript object>"
      ]
     },
     "metadata": {},
     "output_type": "display_data"
    }
   ],
   "source": [
    "fig, ax = plt.subplots(figsize=[6, 4])\n",
    "sns.boxplot(data=data, x=\"condition\", y=\"rel_lamin_3d_int\", ax=ax)\n",
    "ax.set_ylim([0, 3000])\n",
    "add_stat_annotation(\n",
    "    ax,\n",
    "    data=data,\n",
    "    x=\"condition\",\n",
    "    y=\"rel_lamin_3d_int\",\n",
    "    box_pairs=[\n",
    "        (\"ctrl\", \"tp1\"),\n",
    "        (\"ctrl\", \"tp2\"),\n",
    "        (\"ctrl\", \"tp3\"),\n",
    "        (\"tp1\", \"tp2\"),\n",
    "        (\"tp1\", \"tp3\"),\n",
    "        (\"tp2\", \"tp3\"),\n",
    "    ],\n",
    "    test=\"Mann-Whitney\",\n",
    "    loc=\"outside\",\n",
    "    verbose=0,\n",
    ")\n",
    "plt.show()"
   ]
  },
  {
   "cell_type": "code",
   "execution_count": null,
   "id": "honest-plastic",
   "metadata": {},
   "outputs": [],
   "source": []
  },
  {
   "cell_type": "code",
   "execution_count": null,
   "id": "disturbed-convert",
   "metadata": {},
   "outputs": [],
   "source": []
  }
 ],
 "metadata": {
  "kernelspec": {
   "display_name": "Python 3",
   "language": "python",
   "name": "python3"
  },
  "language_info": {
   "codemirror_mode": {
    "name": "ipython",
    "version": 3
   },
   "file_extension": ".py",
   "mimetype": "text/x-python",
   "name": "python",
   "nbconvert_exporter": "python",
   "pygments_lexer": "ipython3",
   "version": "3.8.8"
  }
 },
 "nbformat": 4,
 "nbformat_minor": 5
}
