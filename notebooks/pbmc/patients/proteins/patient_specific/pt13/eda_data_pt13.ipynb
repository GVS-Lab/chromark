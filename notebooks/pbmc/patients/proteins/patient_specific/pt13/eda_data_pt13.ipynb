{
 "cells": [
  {
   "cell_type": "markdown",
   "id": "eight-british",
   "metadata": {},
   "source": [
    "# Exploratory data analysis of the data from patient 13\n",
    "\n",
    "---\n",
    "\n",
    "In this notebook we will analyze PBMC data set from patient 13 obtained from blood samples taken at 3 different time points before, during and after the proton therapy treatment. The treatment takes approximately 6 weeks with multiple sessions.\n",
    "\n",
    "The patient is 10 year old male that has Hodgkin's disease. At each time point 3ml blood were taken and the PBMCs were purifried, stained with DAPI, gH2AX and Lamin A/C and imaged with 16bit at a resolution of 0.09 micron in x-y direction, respectively 0.5 micron in z-direction. Each FoV is of the size of (1024x1024x40) pixels.\n",
    "\n",
    "The data will be compared with a control data set of PBMCs purified from blood of 10 healthy volunteers of varying sex and age (24-60). In this analyses we will use features extracted that describe the nuclear morphology and chromatin organization in 2D/3D and the gH2AX and Lamin A/C expression.\n",
    "\n",
    "---"
   ]
  },
  {
   "cell_type": "markdown",
   "id": "south-video",
   "metadata": {},
   "source": [
    "## 0. Environmental setup"
   ]
  },
  {
   "cell_type": "markdown",
   "id": "liquid-puzzle",
   "metadata": {},
   "source": [
    "First, we load the required libraries and define functions, that we will use later on for the analyses."
   ]
  },
  {
   "cell_type": "code",
   "execution_count": 1,
   "id": "forward-newcastle",
   "metadata": {},
   "outputs": [
    {
     "data": {
      "application/javascript": [
       "\n",
       "            setTimeout(function() {\n",
       "                var nbb_cell_id = 1;\n",
       "                var nbb_unformatted_code = \"import pandas as pd\\nimport numpy as np\\nimport seaborn as sns\\nimport random\\nimport os\\nimport matplotlib.pyplot as plt\\nimport tifffile\\nfrom sklearn.manifold import TSNE\\nfrom sklearn.preprocessing import StandardScaler, LabelEncoder\\nfrom sklearn.ensemble import RandomForestClassifier\\nfrom sklearn.model_selection import cross_validate, StratifiedKFold\\nfrom sklearn.metrics import confusion_matrix\\nfrom sklearn.metrics import auc\\nfrom sklearn.metrics import plot_roc_curve\\nfrom sklearn.metrics import roc_curve, roc_auc_score, RocCurveDisplay\\nfrom tqdm import tqdm\\nfrom statsmodels.stats.outliers_influence import variance_inflation_factor\\nfrom statannot import add_stat_annotation\\n\\nimport sys\\nimport cv2 as cv\\n\\nseed = 1234\\nrandom.seed(1234)\\nnp.random.seed(1234)\\n\\n%load_ext nb_black\";\n",
       "                var nbb_formatted_code = \"import pandas as pd\\nimport numpy as np\\nimport seaborn as sns\\nimport random\\nimport os\\nimport matplotlib.pyplot as plt\\nimport tifffile\\nfrom sklearn.manifold import TSNE\\nfrom sklearn.preprocessing import StandardScaler, LabelEncoder\\nfrom sklearn.ensemble import RandomForestClassifier\\nfrom sklearn.model_selection import cross_validate, StratifiedKFold\\nfrom sklearn.metrics import confusion_matrix\\nfrom sklearn.metrics import auc\\nfrom sklearn.metrics import plot_roc_curve\\nfrom sklearn.metrics import roc_curve, roc_auc_score, RocCurveDisplay\\nfrom tqdm import tqdm\\nfrom statsmodels.stats.outliers_influence import variance_inflation_factor\\nfrom statannot import add_stat_annotation\\n\\nimport sys\\nimport cv2 as cv\\n\\nseed = 1234\\nrandom.seed(1234)\\nnp.random.seed(1234)\\n\\n%load_ext nb_black\";\n",
       "                var nbb_cells = Jupyter.notebook.get_cells();\n",
       "                for (var i = 0; i < nbb_cells.length; ++i) {\n",
       "                    if (nbb_cells[i].input_prompt_number == nbb_cell_id) {\n",
       "                        if (nbb_cells[i].get_text() == nbb_unformatted_code) {\n",
       "                             nbb_cells[i].set_text(nbb_formatted_code);\n",
       "                        }\n",
       "                        break;\n",
       "                    }\n",
       "                }\n",
       "            }, 500);\n",
       "            "
      ],
      "text/plain": [
       "<IPython.core.display.Javascript object>"
      ]
     },
     "metadata": {},
     "output_type": "display_data"
    }
   ],
   "source": [
    "import pandas as pd\n",
    "import numpy as np\n",
    "import seaborn as sns\n",
    "import random\n",
    "import os\n",
    "import matplotlib.pyplot as plt\n",
    "import tifffile\n",
    "from sklearn.manifold import TSNE\n",
    "from sklearn.preprocessing import StandardScaler, LabelEncoder\n",
    "from sklearn.ensemble import RandomForestClassifier\n",
    "from sklearn.model_selection import cross_validate, StratifiedKFold\n",
    "from sklearn.metrics import confusion_matrix\n",
    "from sklearn.metrics import auc\n",
    "from sklearn.metrics import plot_roc_curve\n",
    "from sklearn.metrics import roc_curve, roc_auc_score, RocCurveDisplay\n",
    "from tqdm import tqdm\n",
    "from statsmodels.stats.outliers_influence import variance_inflation_factor\n",
    "from statannot import add_stat_annotation\n",
    "\n",
    "import sys\n",
    "import cv2 as cv\n",
    "\n",
    "seed = 1234\n",
    "random.seed(1234)\n",
    "np.random.seed(1234)\n",
    "\n",
    "%load_ext nb_black"
   ]
  },
  {
   "cell_type": "code",
   "execution_count": 2,
   "id": "bright-integrity",
   "metadata": {},
   "outputs": [
    {
     "data": {
      "application/javascript": [
       "\n",
       "            setTimeout(function() {\n",
       "                var nbb_cell_id = 2;\n",
       "                var nbb_unformatted_code = \"def read_in_data(feature_file_path: str, qc_file_path: str, sample: str):\\n    features = pd.read_csv(feature_file_path, index_col=0)\\n    qc_results = pd.read_csv(qc_file_path, index_col=0)\\n    features.loc[qc_results.index, \\\"qc_pass\\\"] = qc_results.loc[\\n        qc_results.index, \\\"qc_pass\\\"\\n    ]\\n    features[\\\"sample\\\"] = sample\\n    return features\";\n",
       "                var nbb_formatted_code = \"def read_in_data(feature_file_path: str, qc_file_path: str, sample: str):\\n    features = pd.read_csv(feature_file_path, index_col=0)\\n    qc_results = pd.read_csv(qc_file_path, index_col=0)\\n    features.loc[qc_results.index, \\\"qc_pass\\\"] = qc_results.loc[\\n        qc_results.index, \\\"qc_pass\\\"\\n    ]\\n    features[\\\"sample\\\"] = sample\\n    return features\";\n",
       "                var nbb_cells = Jupyter.notebook.get_cells();\n",
       "                for (var i = 0; i < nbb_cells.length; ++i) {\n",
       "                    if (nbb_cells[i].input_prompt_number == nbb_cell_id) {\n",
       "                        if (nbb_cells[i].get_text() == nbb_unformatted_code) {\n",
       "                             nbb_cells[i].set_text(nbb_formatted_code);\n",
       "                        }\n",
       "                        break;\n",
       "                    }\n",
       "                }\n",
       "            }, 500);\n",
       "            "
      ],
      "text/plain": [
       "<IPython.core.display.Javascript object>"
      ]
     },
     "metadata": {},
     "output_type": "display_data"
    }
   ],
   "source": [
    "def read_in_data(feature_file_path: str, qc_file_path: str, sample: str):\n",
    "    features = pd.read_csv(feature_file_path, index_col=0)\n",
    "    qc_results = pd.read_csv(qc_file_path, index_col=0)\n",
    "    features.loc[qc_results.index, \"qc_pass\"] = qc_results.loc[\n",
    "        qc_results.index, \"qc_pass\"\n",
    "    ]\n",
    "    features[\"sample\"] = sample\n",
    "    return features"
   ]
  },
  {
   "cell_type": "code",
   "execution_count": 3,
   "id": "operating-conservation",
   "metadata": {},
   "outputs": [
    {
     "data": {
      "application/javascript": [
       "\n",
       "            setTimeout(function() {\n",
       "                var nbb_cell_id = 3;\n",
       "                var nbb_unformatted_code = \"def preprocess_data(\\n    data,\\n    drop_columns=[\\n        \\\"label\\\",\\n        \\\"centroid-0\\\",\\n        \\\"centroid-1\\\",\\n        \\\"orientation\\\",\\n        \\\"weighted_centroid-0\\\",\\n        \\\"weighted_centroid-1\\\",\\n    ],\\n):\\n    filtered_data = data.loc[data[\\\"qc_pass\\\"] == True]\\n    print(\\n        \\\"Nuclei that did not pass the quality check: {}/{}. Remaining: {}.\\\".format(\\n            len(data) - len(filtered_data),\\n            len(data),\\n            len(filtered_data),\\n        )\\n    )\\n    data = filtered_data.loc[:, (filtered_data != filtered_data.iloc[0]).any()]\\n    data = data.dropna(axis=1)\\n    print(\\n        \\\"Removed {} constant or features with missing values. Remaining: {}.\\\".format(\\n            len(filtered_data.columns) - len(data.columns), len(data.columns)\\n        )\\n    )\\n    cleaned_data = data.drop(\\n        columns=list(set(drop_columns).intersection(set(data.columns)))\\n    )\\n    print(\\n        \\\"Removed additional {} features. Remaining: {}.\\\".format(\\n            len(data.columns) - len(cleaned_data.columns), len(cleaned_data.columns)\\n        )\\n    )\\n    return cleaned_data\";\n",
       "                var nbb_formatted_code = \"def preprocess_data(\\n    data,\\n    drop_columns=[\\n        \\\"label\\\",\\n        \\\"centroid-0\\\",\\n        \\\"centroid-1\\\",\\n        \\\"orientation\\\",\\n        \\\"weighted_centroid-0\\\",\\n        \\\"weighted_centroid-1\\\",\\n    ],\\n):\\n    filtered_data = data.loc[data[\\\"qc_pass\\\"] == True]\\n    print(\\n        \\\"Nuclei that did not pass the quality check: {}/{}. Remaining: {}.\\\".format(\\n            len(data) - len(filtered_data),\\n            len(data),\\n            len(filtered_data),\\n        )\\n    )\\n    data = filtered_data.loc[:, (filtered_data != filtered_data.iloc[0]).any()]\\n    data = data.dropna(axis=1)\\n    print(\\n        \\\"Removed {} constant or features with missing values. Remaining: {}.\\\".format(\\n            len(filtered_data.columns) - len(data.columns), len(data.columns)\\n        )\\n    )\\n    cleaned_data = data.drop(\\n        columns=list(set(drop_columns).intersection(set(data.columns)))\\n    )\\n    print(\\n        \\\"Removed additional {} features. Remaining: {}.\\\".format(\\n            len(data.columns) - len(cleaned_data.columns), len(cleaned_data.columns)\\n        )\\n    )\\n    return cleaned_data\";\n",
       "                var nbb_cells = Jupyter.notebook.get_cells();\n",
       "                for (var i = 0; i < nbb_cells.length; ++i) {\n",
       "                    if (nbb_cells[i].input_prompt_number == nbb_cell_id) {\n",
       "                        if (nbb_cells[i].get_text() == nbb_unformatted_code) {\n",
       "                             nbb_cells[i].set_text(nbb_formatted_code);\n",
       "                        }\n",
       "                        break;\n",
       "                    }\n",
       "                }\n",
       "            }, 500);\n",
       "            "
      ],
      "text/plain": [
       "<IPython.core.display.Javascript object>"
      ]
     },
     "metadata": {},
     "output_type": "display_data"
    }
   ],
   "source": [
    "def preprocess_data(\n",
    "    data,\n",
    "    drop_columns=[\n",
    "        \"label\",\n",
    "        \"centroid-0\",\n",
    "        \"centroid-1\",\n",
    "        \"orientation\",\n",
    "        \"weighted_centroid-0\",\n",
    "        \"weighted_centroid-1\",\n",
    "    ],\n",
    "):\n",
    "    filtered_data = data.loc[data[\"qc_pass\"] == True]\n",
    "    print(\n",
    "        \"Nuclei that did not pass the quality check: {}/{}. Remaining: {}.\".format(\n",
    "            len(data) - len(filtered_data),\n",
    "            len(data),\n",
    "            len(filtered_data),\n",
    "        )\n",
    "    )\n",
    "    data = filtered_data.loc[:, (filtered_data != filtered_data.iloc[0]).any()]\n",
    "    data = data.dropna(axis=1)\n",
    "    print(\n",
    "        \"Removed {} constant or features with missing values. Remaining: {}.\".format(\n",
    "            len(filtered_data.columns) - len(data.columns), len(data.columns)\n",
    "        )\n",
    "    )\n",
    "    cleaned_data = data.drop(\n",
    "        columns=list(set(drop_columns).intersection(set(data.columns)))\n",
    "    )\n",
    "    print(\n",
    "        \"Removed additional {} features. Remaining: {}.\".format(\n",
    "            len(data.columns) - len(cleaned_data.columns), len(cleaned_data.columns)\n",
    "        )\n",
    "    )\n",
    "    return cleaned_data"
   ]
  },
  {
   "cell_type": "code",
   "execution_count": 4,
   "id": "greek-finnish",
   "metadata": {},
   "outputs": [
    {
     "data": {
      "application/javascript": [
       "\n",
       "            setTimeout(function() {\n",
       "                var nbb_cell_id = 4;\n",
       "                var nbb_unformatted_code = \"def compute_vif(data):\\n    vifs = pd.DataFrame()\\n    vifs[\\\"feature\\\"] = data.columns\\n    vifs[\\\"vif\\\"] = [\\n        variance_inflation_factor(data.values, i) for i in range(data.shape[1])\\n    ]\\n    return vifs.sort_values(\\\"vif\\\", ascending=False)\";\n",
       "                var nbb_formatted_code = \"def compute_vif(data):\\n    vifs = pd.DataFrame()\\n    vifs[\\\"feature\\\"] = data.columns\\n    vifs[\\\"vif\\\"] = [\\n        variance_inflation_factor(data.values, i) for i in range(data.shape[1])\\n    ]\\n    return vifs.sort_values(\\\"vif\\\", ascending=False)\";\n",
       "                var nbb_cells = Jupyter.notebook.get_cells();\n",
       "                for (var i = 0; i < nbb_cells.length; ++i) {\n",
       "                    if (nbb_cells[i].input_prompt_number == nbb_cell_id) {\n",
       "                        if (nbb_cells[i].get_text() == nbb_unformatted_code) {\n",
       "                             nbb_cells[i].set_text(nbb_formatted_code);\n",
       "                        }\n",
       "                        break;\n",
       "                    }\n",
       "                }\n",
       "            }, 500);\n",
       "            "
      ],
      "text/plain": [
       "<IPython.core.display.Javascript object>"
      ]
     },
     "metadata": {},
     "output_type": "display_data"
    }
   ],
   "source": [
    "def compute_vif(data):\n",
    "    vifs = pd.DataFrame()\n",
    "    vifs[\"feature\"] = data.columns\n",
    "    vifs[\"vif\"] = [\n",
    "        variance_inflation_factor(data.values, i) for i in range(data.shape[1])\n",
    "    ]\n",
    "    return vifs.sort_values(\"vif\", ascending=False)"
   ]
  },
  {
   "cell_type": "code",
   "execution_count": 5,
   "id": "professional-logan",
   "metadata": {},
   "outputs": [
    {
     "data": {
      "application/javascript": [
       "\n",
       "            setTimeout(function() {\n",
       "                var nbb_cell_id = 5;\n",
       "                var nbb_unformatted_code = \"def remove_collinear_features(data, threshold=5):\\n    to_drop = []\\n    # Sequentially drop features with VIF > threshold\\n    vifs = compute_vif(data)\\n    print(vifs.head(5))\\n    while np.max(vifs.loc[:, \\\"vif\\\"]) > threshold:\\n        to_drop.append(vifs.loc[vifs[\\\"vif\\\"] == np.max(vifs.loc[:, \\\"vif\\\"]), \\\"feature\\\"])\\n        vifs = compute_vif(data.drop(columns=[to_drop[-1]]))\\n\\n    print(\\n        \\\"Removed {}/{} features with a VIF above {}. Remaining: {}\\\".format(\\n            len(to_drop),\\n            len(data.columns),\\n            threshold,\\n            len(data.columns) - len(to_drop),\\n        )\\n    )\\n    return data.drop(to_drop, axis=1)\";\n",
       "                var nbb_formatted_code = \"def remove_collinear_features(data, threshold=5):\\n    to_drop = []\\n    # Sequentially drop features with VIF > threshold\\n    vifs = compute_vif(data)\\n    print(vifs.head(5))\\n    while np.max(vifs.loc[:, \\\"vif\\\"]) > threshold:\\n        to_drop.append(vifs.loc[vifs[\\\"vif\\\"] == np.max(vifs.loc[:, \\\"vif\\\"]), \\\"feature\\\"])\\n        vifs = compute_vif(data.drop(columns=[to_drop[-1]]))\\n\\n    print(\\n        \\\"Removed {}/{} features with a VIF above {}. Remaining: {}\\\".format(\\n            len(to_drop),\\n            len(data.columns),\\n            threshold,\\n            len(data.columns) - len(to_drop),\\n        )\\n    )\\n    return data.drop(to_drop, axis=1)\";\n",
       "                var nbb_cells = Jupyter.notebook.get_cells();\n",
       "                for (var i = 0; i < nbb_cells.length; ++i) {\n",
       "                    if (nbb_cells[i].input_prompt_number == nbb_cell_id) {\n",
       "                        if (nbb_cells[i].get_text() == nbb_unformatted_code) {\n",
       "                             nbb_cells[i].set_text(nbb_formatted_code);\n",
       "                        }\n",
       "                        break;\n",
       "                    }\n",
       "                }\n",
       "            }, 500);\n",
       "            "
      ],
      "text/plain": [
       "<IPython.core.display.Javascript object>"
      ]
     },
     "metadata": {},
     "output_type": "display_data"
    }
   ],
   "source": [
    "def remove_collinear_features(data, threshold=5):\n",
    "    to_drop = []\n",
    "    # Sequentially drop features with VIF > threshold\n",
    "    vifs = compute_vif(data)\n",
    "    print(vifs.head(5))\n",
    "    while np.max(vifs.loc[:, \"vif\"]) > threshold:\n",
    "        to_drop.append(vifs.loc[vifs[\"vif\"] == np.max(vifs.loc[:, \"vif\"]), \"feature\"])\n",
    "        vifs = compute_vif(data.drop(columns=[to_drop[-1]]))\n",
    "\n",
    "    print(\n",
    "        \"Removed {}/{} features with a VIF above {}. Remaining: {}\".format(\n",
    "            len(to_drop),\n",
    "            len(data.columns),\n",
    "            threshold,\n",
    "            len(data.columns) - len(to_drop),\n",
    "        )\n",
    "    )\n",
    "    return data.drop(to_drop, axis=1)"
   ]
  },
  {
   "cell_type": "code",
   "execution_count": 6,
   "id": "least-ceremony",
   "metadata": {},
   "outputs": [
    {
     "data": {
      "application/javascript": [
       "\n",
       "            setTimeout(function() {\n",
       "                var nbb_cell_id = 6;\n",
       "                var nbb_unformatted_code = \"def remove_correlated_features(data, threshold):\\n    data_corr = data.corr().abs()\\n    upper = data_corr.where(np.triu(np.ones(data_corr.shape), k=1).astype(bool))\\n\\n    # Find features with correlation greater than threshold\\n    to_drop = [column for column in upper.columns if any(upper[column] > threshold)]\\n    print(\\n        \\\"Removed {}/{} features with a Pearson correlation above {}. Remaining: {}\\\".format(\\n            len(to_drop),\\n            len(data.columns),\\n            threshold,\\n            len(data.columns) - len(to_drop),\\n        )\\n    )\\n    return data.drop(to_drop, axis=1)\";\n",
       "                var nbb_formatted_code = \"def remove_correlated_features(data, threshold):\\n    data_corr = data.corr().abs()\\n    upper = data_corr.where(np.triu(np.ones(data_corr.shape), k=1).astype(bool))\\n\\n    # Find features with correlation greater than threshold\\n    to_drop = [column for column in upper.columns if any(upper[column] > threshold)]\\n    print(\\n        \\\"Removed {}/{} features with a Pearson correlation above {}. Remaining: {}\\\".format(\\n            len(to_drop),\\n            len(data.columns),\\n            threshold,\\n            len(data.columns) - len(to_drop),\\n        )\\n    )\\n    return data.drop(to_drop, axis=1)\";\n",
       "                var nbb_cells = Jupyter.notebook.get_cells();\n",
       "                for (var i = 0; i < nbb_cells.length; ++i) {\n",
       "                    if (nbb_cells[i].input_prompt_number == nbb_cell_id) {\n",
       "                        if (nbb_cells[i].get_text() == nbb_unformatted_code) {\n",
       "                             nbb_cells[i].set_text(nbb_formatted_code);\n",
       "                        }\n",
       "                        break;\n",
       "                    }\n",
       "                }\n",
       "            }, 500);\n",
       "            "
      ],
      "text/plain": [
       "<IPython.core.display.Javascript object>"
      ]
     },
     "metadata": {},
     "output_type": "display_data"
    }
   ],
   "source": [
    "def remove_correlated_features(data, threshold):\n",
    "    data_corr = data.corr().abs()\n",
    "    upper = data_corr.where(np.triu(np.ones(data_corr.shape), k=1).astype(bool))\n",
    "\n",
    "    # Find features with correlation greater than threshold\n",
    "    to_drop = [column for column in upper.columns if any(upper[column] > threshold)]\n",
    "    print(\n",
    "        \"Removed {}/{} features with a Pearson correlation above {}. Remaining: {}\".format(\n",
    "            len(to_drop),\n",
    "            len(data.columns),\n",
    "            threshold,\n",
    "            len(data.columns) - len(to_drop),\n",
    "        )\n",
    "    )\n",
    "    return data.drop(to_drop, axis=1)"
   ]
  },
  {
   "cell_type": "code",
   "execution_count": 7,
   "id": "developmental-glory",
   "metadata": {},
   "outputs": [
    {
     "data": {
      "application/javascript": [
       "\n",
       "            setTimeout(function() {\n",
       "                var nbb_cell_id = 7;\n",
       "                var nbb_unformatted_code = \"def plot_feature_importance(importance, names, model_type):\\n    # Create arrays from feature importance and feature names\\n    feature_importance = np.array(importance)\\n    feature_names = np.array(names)\\n\\n    # Create a DataFrame using a Dictionary\\n    data = {\\\"feature_names\\\": feature_names, \\\"feature_importance\\\": feature_importance}\\n    fi_df = pd.DataFrame(data)\\n\\n    # Sort the DataFrame in order decreasing feature importance\\n    fi_df.sort_values(by=[\\\"feature_importance\\\"], ascending=False, inplace=True)\\n    fi_df = fi_df.head(20)\\n    # Define size of bar plot\\n    plt.figure(figsize=(8, 6))\\n    # Plot Searborn bar chart\\n    sns.barplot(x=fi_df[\\\"feature_importance\\\"], y=fi_df[\\\"feature_names\\\"])\\n    # Add chart labels\\n    plt.title(model_type + \\\"FEATURE IMPORTANCE\\\")\\n    plt.xlabel(\\\"FEATURE IMPORTANCE\\\")\\n    plt.ylabel(\\\"FEATURE NAMES\\\")\\n    plt.show()\";\n",
       "                var nbb_formatted_code = \"def plot_feature_importance(importance, names, model_type):\\n    # Create arrays from feature importance and feature names\\n    feature_importance = np.array(importance)\\n    feature_names = np.array(names)\\n\\n    # Create a DataFrame using a Dictionary\\n    data = {\\\"feature_names\\\": feature_names, \\\"feature_importance\\\": feature_importance}\\n    fi_df = pd.DataFrame(data)\\n\\n    # Sort the DataFrame in order decreasing feature importance\\n    fi_df.sort_values(by=[\\\"feature_importance\\\"], ascending=False, inplace=True)\\n    fi_df = fi_df.head(20)\\n    # Define size of bar plot\\n    plt.figure(figsize=(8, 6))\\n    # Plot Searborn bar chart\\n    sns.barplot(x=fi_df[\\\"feature_importance\\\"], y=fi_df[\\\"feature_names\\\"])\\n    # Add chart labels\\n    plt.title(model_type + \\\"FEATURE IMPORTANCE\\\")\\n    plt.xlabel(\\\"FEATURE IMPORTANCE\\\")\\n    plt.ylabel(\\\"FEATURE NAMES\\\")\\n    plt.show()\";\n",
       "                var nbb_cells = Jupyter.notebook.get_cells();\n",
       "                for (var i = 0; i < nbb_cells.length; ++i) {\n",
       "                    if (nbb_cells[i].input_prompt_number == nbb_cell_id) {\n",
       "                        if (nbb_cells[i].get_text() == nbb_unformatted_code) {\n",
       "                             nbb_cells[i].set_text(nbb_formatted_code);\n",
       "                        }\n",
       "                        break;\n",
       "                    }\n",
       "                }\n",
       "            }, 500);\n",
       "            "
      ],
      "text/plain": [
       "<IPython.core.display.Javascript object>"
      ]
     },
     "metadata": {},
     "output_type": "display_data"
    }
   ],
   "source": [
    "def plot_feature_importance(importance, names, model_type):\n",
    "    # Create arrays from feature importance and feature names\n",
    "    feature_importance = np.array(importance)\n",
    "    feature_names = np.array(names)\n",
    "\n",
    "    # Create a DataFrame using a Dictionary\n",
    "    data = {\"feature_names\": feature_names, \"feature_importance\": feature_importance}\n",
    "    fi_df = pd.DataFrame(data)\n",
    "\n",
    "    # Sort the DataFrame in order decreasing feature importance\n",
    "    fi_df.sort_values(by=[\"feature_importance\"], ascending=False, inplace=True)\n",
    "    fi_df = fi_df.head(20)\n",
    "    # Define size of bar plot\n",
    "    plt.figure(figsize=(8, 6))\n",
    "    # Plot Searborn bar chart\n",
    "    sns.barplot(x=fi_df[\"feature_importance\"], y=fi_df[\"feature_names\"])\n",
    "    # Add chart labels\n",
    "    plt.title(model_type + \"FEATURE IMPORTANCE\")\n",
    "    plt.xlabel(\"FEATURE IMPORTANCE\")\n",
    "    plt.ylabel(\"FEATURE NAMES\")\n",
    "    plt.show()"
   ]
  },
  {
   "cell_type": "code",
   "execution_count": 8,
   "id": "concrete-extraction",
   "metadata": {},
   "outputs": [
    {
     "data": {
      "application/javascript": [
       "\n",
       "            setTimeout(function() {\n",
       "                var nbb_cell_id = 8;\n",
       "                var nbb_unformatted_code = \"def plot_roc_for_stratified_cv(X, y, n_splits, classifier, title, pos_label=None):\\n    cv = StratifiedKFold(n_splits=n_splits)\\n    tprs = []\\n    aucs = []\\n    mean_fpr = np.linspace(0, 1, 100)\\n\\n    fig, ax = plt.subplots(figsize=(8, 8))\\n    for i, (train, test) in enumerate(cv.split(X, y)):\\n        classifier.fit(X[train], y[train])\\n        viz = plot_roc_curve(\\n            classifier,\\n            X[test],\\n            y[test],\\n            name=\\\"ROC fold {}\\\".format(i),\\n            alpha=0.3,\\n            lw=1,\\n            ax=ax,\\n            pos_label=pos_label,\\n        )\\n        interp_tpr = np.interp(mean_fpr, viz.fpr, viz.tpr)\\n        interp_tpr[0] = 0.0\\n        tprs.append(interp_tpr)\\n        aucs.append(viz.roc_auc)\\n\\n    ax.plot([0, 1], [0, 1], linestyle=\\\"--\\\", lw=2, color=\\\"r\\\", label=\\\"Chance\\\", alpha=0.8)\\n\\n    mean_tpr = np.mean(tprs, axis=0)\\n    mean_tpr[-1] = 1.0\\n    mean_auc = auc(mean_fpr, mean_tpr)\\n    std_auc = np.std(aucs)\\n    ax.plot(\\n        mean_fpr,\\n        mean_tpr,\\n        color=\\\"b\\\",\\n        label=r\\\"Mean ROC (AUC = %0.2f $\\\\pm$ %0.2f)\\\" % (mean_auc, std_auc),\\n        lw=2,\\n        alpha=0.8,\\n    )\\n\\n    std_tpr = np.std(tprs, axis=0)\\n    tprs_upper = np.minimum(mean_tpr + std_tpr, 1)\\n    tprs_lower = np.maximum(mean_tpr - std_tpr, 0)\\n    ax.fill_between(\\n        mean_fpr,\\n        tprs_lower,\\n        tprs_upper,\\n        color=\\\"grey\\\",\\n        alpha=0.2,\\n        label=r\\\"$\\\\pm$ 1 std. dev.\\\",\\n    )\\n\\n    ax.set(xlim=[-0.05, 1.05], ylim=[-0.05, 1.05], title=title)\\n    ax.legend(loc=\\\"lower right\\\")\\n    return fig, ax, classifier\";\n",
       "                var nbb_formatted_code = \"def plot_roc_for_stratified_cv(X, y, n_splits, classifier, title, pos_label=None):\\n    cv = StratifiedKFold(n_splits=n_splits)\\n    tprs = []\\n    aucs = []\\n    mean_fpr = np.linspace(0, 1, 100)\\n\\n    fig, ax = plt.subplots(figsize=(8, 8))\\n    for i, (train, test) in enumerate(cv.split(X, y)):\\n        classifier.fit(X[train], y[train])\\n        viz = plot_roc_curve(\\n            classifier,\\n            X[test],\\n            y[test],\\n            name=\\\"ROC fold {}\\\".format(i),\\n            alpha=0.3,\\n            lw=1,\\n            ax=ax,\\n            pos_label=pos_label,\\n        )\\n        interp_tpr = np.interp(mean_fpr, viz.fpr, viz.tpr)\\n        interp_tpr[0] = 0.0\\n        tprs.append(interp_tpr)\\n        aucs.append(viz.roc_auc)\\n\\n    ax.plot([0, 1], [0, 1], linestyle=\\\"--\\\", lw=2, color=\\\"r\\\", label=\\\"Chance\\\", alpha=0.8)\\n\\n    mean_tpr = np.mean(tprs, axis=0)\\n    mean_tpr[-1] = 1.0\\n    mean_auc = auc(mean_fpr, mean_tpr)\\n    std_auc = np.std(aucs)\\n    ax.plot(\\n        mean_fpr,\\n        mean_tpr,\\n        color=\\\"b\\\",\\n        label=r\\\"Mean ROC (AUC = %0.2f $\\\\pm$ %0.2f)\\\" % (mean_auc, std_auc),\\n        lw=2,\\n        alpha=0.8,\\n    )\\n\\n    std_tpr = np.std(tprs, axis=0)\\n    tprs_upper = np.minimum(mean_tpr + std_tpr, 1)\\n    tprs_lower = np.maximum(mean_tpr - std_tpr, 0)\\n    ax.fill_between(\\n        mean_fpr,\\n        tprs_lower,\\n        tprs_upper,\\n        color=\\\"grey\\\",\\n        alpha=0.2,\\n        label=r\\\"$\\\\pm$ 1 std. dev.\\\",\\n    )\\n\\n    ax.set(xlim=[-0.05, 1.05], ylim=[-0.05, 1.05], title=title)\\n    ax.legend(loc=\\\"lower right\\\")\\n    return fig, ax, classifier\";\n",
       "                var nbb_cells = Jupyter.notebook.get_cells();\n",
       "                for (var i = 0; i < nbb_cells.length; ++i) {\n",
       "                    if (nbb_cells[i].input_prompt_number == nbb_cell_id) {\n",
       "                        if (nbb_cells[i].get_text() == nbb_unformatted_code) {\n",
       "                             nbb_cells[i].set_text(nbb_formatted_code);\n",
       "                        }\n",
       "                        break;\n",
       "                    }\n",
       "                }\n",
       "            }, 500);\n",
       "            "
      ],
      "text/plain": [
       "<IPython.core.display.Javascript object>"
      ]
     },
     "metadata": {},
     "output_type": "display_data"
    }
   ],
   "source": [
    "def plot_roc_for_stratified_cv(X, y, n_splits, classifier, title, pos_label=None):\n",
    "    cv = StratifiedKFold(n_splits=n_splits)\n",
    "    tprs = []\n",
    "    aucs = []\n",
    "    mean_fpr = np.linspace(0, 1, 100)\n",
    "\n",
    "    fig, ax = plt.subplots(figsize=(8, 8))\n",
    "    for i, (train, test) in enumerate(cv.split(X, y)):\n",
    "        classifier.fit(X[train], y[train])\n",
    "        viz = plot_roc_curve(\n",
    "            classifier,\n",
    "            X[test],\n",
    "            y[test],\n",
    "            name=\"ROC fold {}\".format(i),\n",
    "            alpha=0.3,\n",
    "            lw=1,\n",
    "            ax=ax,\n",
    "            pos_label=pos_label,\n",
    "        )\n",
    "        interp_tpr = np.interp(mean_fpr, viz.fpr, viz.tpr)\n",
    "        interp_tpr[0] = 0.0\n",
    "        tprs.append(interp_tpr)\n",
    "        aucs.append(viz.roc_auc)\n",
    "\n",
    "    ax.plot([0, 1], [0, 1], linestyle=\"--\", lw=2, color=\"r\", label=\"Chance\", alpha=0.8)\n",
    "\n",
    "    mean_tpr = np.mean(tprs, axis=0)\n",
    "    mean_tpr[-1] = 1.0\n",
    "    mean_auc = auc(mean_fpr, mean_tpr)\n",
    "    std_auc = np.std(aucs)\n",
    "    ax.plot(\n",
    "        mean_fpr,\n",
    "        mean_tpr,\n",
    "        color=\"b\",\n",
    "        label=r\"Mean ROC (AUC = %0.2f $\\pm$ %0.2f)\" % (mean_auc, std_auc),\n",
    "        lw=2,\n",
    "        alpha=0.8,\n",
    "    )\n",
    "\n",
    "    std_tpr = np.std(tprs, axis=0)\n",
    "    tprs_upper = np.minimum(mean_tpr + std_tpr, 1)\n",
    "    tprs_lower = np.maximum(mean_tpr - std_tpr, 0)\n",
    "    ax.fill_between(\n",
    "        mean_fpr,\n",
    "        tprs_lower,\n",
    "        tprs_upper,\n",
    "        color=\"grey\",\n",
    "        alpha=0.2,\n",
    "        label=r\"$\\pm$ 1 std. dev.\",\n",
    "    )\n",
    "\n",
    "    ax.set(xlim=[-0.05, 1.05], ylim=[-0.05, 1.05], title=title)\n",
    "    ax.legend(loc=\"lower right\")\n",
    "    return fig, ax, classifier"
   ]
  },
  {
   "cell_type": "code",
   "execution_count": 9,
   "id": "monthly-study",
   "metadata": {},
   "outputs": [
    {
     "data": {
      "application/javascript": [
       "\n",
       "            setTimeout(function() {\n",
       "                var nbb_cell_id = 9;\n",
       "                var nbb_unformatted_code = \"def compute_avg_conf_mtx(model, n_folds, features, labels):\\n    skf = StratifiedKFold(n_folds)\\n    features = np.array(features)\\n    labels = np.array(labels)\\n    n_classes = len(np.unique(labels))\\n\\n    confusion_mtx = np.zeros([n_classes, n_classes])\\n    for train_index, test_index in skf.split(features, labels):\\n        X_train, X_test = features[train_index], features[test_index]\\n        y_train, y_test = labels[train_index], labels[test_index]\\n        model.fit(X_train, y_train)\\n        confusion_mtx += confusion_matrix(\\n            y_test, model.predict(X_test), normalize=\\\"true\\\"\\n        )\\n    confusion_mtx = confusion_mtx / n_folds\\n    return pd.DataFrame(\\n        confusion_mtx, index=sorted(set(labels)), columns=sorted(set(labels))\\n    )\";\n",
       "                var nbb_formatted_code = \"def compute_avg_conf_mtx(model, n_folds, features, labels):\\n    skf = StratifiedKFold(n_folds)\\n    features = np.array(features)\\n    labels = np.array(labels)\\n    n_classes = len(np.unique(labels))\\n\\n    confusion_mtx = np.zeros([n_classes, n_classes])\\n    for train_index, test_index in skf.split(features, labels):\\n        X_train, X_test = features[train_index], features[test_index]\\n        y_train, y_test = labels[train_index], labels[test_index]\\n        model.fit(X_train, y_train)\\n        confusion_mtx += confusion_matrix(\\n            y_test, model.predict(X_test), normalize=\\\"true\\\"\\n        )\\n    confusion_mtx = confusion_mtx / n_folds\\n    return pd.DataFrame(\\n        confusion_mtx, index=sorted(set(labels)), columns=sorted(set(labels))\\n    )\";\n",
       "                var nbb_cells = Jupyter.notebook.get_cells();\n",
       "                for (var i = 0; i < nbb_cells.length; ++i) {\n",
       "                    if (nbb_cells[i].input_prompt_number == nbb_cell_id) {\n",
       "                        if (nbb_cells[i].get_text() == nbb_unformatted_code) {\n",
       "                             nbb_cells[i].set_text(nbb_formatted_code);\n",
       "                        }\n",
       "                        break;\n",
       "                    }\n",
       "                }\n",
       "            }, 500);\n",
       "            "
      ],
      "text/plain": [
       "<IPython.core.display.Javascript object>"
      ]
     },
     "metadata": {},
     "output_type": "display_data"
    }
   ],
   "source": [
    "def compute_avg_conf_mtx(model, n_folds, features, labels):\n",
    "    skf = StratifiedKFold(n_folds)\n",
    "    features = np.array(features)\n",
    "    labels = np.array(labels)\n",
    "    n_classes = len(np.unique(labels))\n",
    "\n",
    "    confusion_mtx = np.zeros([n_classes, n_classes])\n",
    "    for train_index, test_index in skf.split(features, labels):\n",
    "        X_train, X_test = features[train_index], features[test_index]\n",
    "        y_train, y_test = labels[train_index], labels[test_index]\n",
    "        model.fit(X_train, y_train)\n",
    "        confusion_mtx += confusion_matrix(\n",
    "            y_test, model.predict(X_test), normalize=\"true\"\n",
    "        )\n",
    "    confusion_mtx = confusion_mtx / n_folds\n",
    "    return pd.DataFrame(\n",
    "        confusion_mtx, index=sorted(set(labels)), columns=sorted(set(labels))\n",
    "    )"
   ]
  },
  {
   "cell_type": "markdown",
   "id": "acknowledged-ghana",
   "metadata": {},
   "source": [
    "---\n",
    "\n",
    "## 1. Read in data\n",
    "\n",
    "Next, we read in the data sets that describe the PBMC population of the healthy controls as well as of patient 13 at the different time points over the course of the treatment."
   ]
  },
  {
   "cell_type": "code",
   "execution_count": 10,
   "id": "adapted-adjustment",
   "metadata": {},
   "outputs": [
    {
     "data": {
      "application/javascript": [
       "\n",
       "            setTimeout(function() {\n",
       "                var nbb_cell_id = 10;\n",
       "                var nbb_unformatted_code = \"hv_basedir = \\\"../../../../../data/pbmc_hv/proteins/\\\"\\nhv_subdirs = [f.path for f in os.scandir(hv_basedir) if f.is_dir()]\\nhv_datas = []\\nfor hv_subdir in hv_subdirs:\\n    sample = os.path.split(hv_subdir)[1].split(\\\"_\\\")[0].lower()\\n    hv_datas.append(\\n        read_in_data(\\n            feature_file_path=hv_subdir\\n            + \\\"/preprocessed/full_pipeline/nuclear_features.csv\\\",\\n            qc_file_path=hv_subdir\\n            + \\\"/preprocessed/full_pipeline/segmentation/qc_results.csv\\\",\\n            sample=sample,\\n        )\\n    )\\nhv_data = hv_datas[0].copy()\\nfor i in range(1, len(hv_datas)):\\n    hv_data = hv_data.append(hv_datas[i])\\nhv_data[\\\"condition\\\"] = \\\"ctrl\\\"\";\n",
       "                var nbb_formatted_code = \"hv_basedir = \\\"../../../../../data/pbmc_hv/proteins/\\\"\\nhv_subdirs = [f.path for f in os.scandir(hv_basedir) if f.is_dir()]\\nhv_datas = []\\nfor hv_subdir in hv_subdirs:\\n    sample = os.path.split(hv_subdir)[1].split(\\\"_\\\")[0].lower()\\n    hv_datas.append(\\n        read_in_data(\\n            feature_file_path=hv_subdir\\n            + \\\"/preprocessed/full_pipeline/nuclear_features.csv\\\",\\n            qc_file_path=hv_subdir\\n            + \\\"/preprocessed/full_pipeline/segmentation/qc_results.csv\\\",\\n            sample=sample,\\n        )\\n    )\\nhv_data = hv_datas[0].copy()\\nfor i in range(1, len(hv_datas)):\\n    hv_data = hv_data.append(hv_datas[i])\\nhv_data[\\\"condition\\\"] = \\\"ctrl\\\"\";\n",
       "                var nbb_cells = Jupyter.notebook.get_cells();\n",
       "                for (var i = 0; i < nbb_cells.length; ++i) {\n",
       "                    if (nbb_cells[i].input_prompt_number == nbb_cell_id) {\n",
       "                        if (nbb_cells[i].get_text() == nbb_unformatted_code) {\n",
       "                             nbb_cells[i].set_text(nbb_formatted_code);\n",
       "                        }\n",
       "                        break;\n",
       "                    }\n",
       "                }\n",
       "            }, 500);\n",
       "            "
      ],
      "text/plain": [
       "<IPython.core.display.Javascript object>"
      ]
     },
     "metadata": {},
     "output_type": "display_data"
    }
   ],
   "source": [
    "hv_basedir = \"../../../../../data/pbmc_hv/proteins/\"\n",
    "hv_subdirs = [f.path for f in os.scandir(hv_basedir) if f.is_dir()]\n",
    "hv_datas = []\n",
    "for hv_subdir in hv_subdirs:\n",
    "    sample = os.path.split(hv_subdir)[1].split(\"_\")[0].lower()\n",
    "    hv_datas.append(\n",
    "        read_in_data(\n",
    "            feature_file_path=hv_subdir\n",
    "            + \"/preprocessed/full_pipeline/nuclear_features.csv\",\n",
    "            qc_file_path=hv_subdir\n",
    "            + \"/preprocessed/full_pipeline/segmentation/qc_results.csv\",\n",
    "            sample=sample,\n",
    "        )\n",
    "    )\n",
    "hv_data = hv_datas[0].copy()\n",
    "for i in range(1, len(hv_datas)):\n",
    "    hv_data = hv_data.append(hv_datas[i])\n",
    "hv_data[\"condition\"] = \"ctrl\""
   ]
  },
  {
   "cell_type": "code",
   "execution_count": 11,
   "id": "touched-lunch",
   "metadata": {},
   "outputs": [
    {
     "data": {
      "application/javascript": [
       "\n",
       "            setTimeout(function() {\n",
       "                var nbb_cell_id = 11;\n",
       "                var nbb_unformatted_code = \"p13_1_basedir = \\\"../../../../../data/pbmc_pt/proteins/timepoint_1/P13_1_PBMCs_Dapi_gH2AX_Lamin_18_08_21_2X_16bit_poly\\\"\\np13_1_data = read_in_data(\\n    feature_file_path=p13_1_basedir\\n    + \\\"/preprocessed/full_pipeline/nuclear_features.csv\\\",\\n    qc_file_path=p13_1_basedir\\n    + \\\"/preprocessed/full_pipeline/segmentation/qc_results.csv\\\",\\n    sample=\\\"p13_1\\\",\\n)\\np13_1_data[\\\"condition\\\"] = \\\"tp1\\\"\";\n",
       "                var nbb_formatted_code = \"p13_1_basedir = \\\"../../../../../data/pbmc_pt/proteins/timepoint_1/P13_1_PBMCs_Dapi_gH2AX_Lamin_18_08_21_2X_16bit_poly\\\"\\np13_1_data = read_in_data(\\n    feature_file_path=p13_1_basedir\\n    + \\\"/preprocessed/full_pipeline/nuclear_features.csv\\\",\\n    qc_file_path=p13_1_basedir\\n    + \\\"/preprocessed/full_pipeline/segmentation/qc_results.csv\\\",\\n    sample=\\\"p13_1\\\",\\n)\\np13_1_data[\\\"condition\\\"] = \\\"tp1\\\"\";\n",
       "                var nbb_cells = Jupyter.notebook.get_cells();\n",
       "                for (var i = 0; i < nbb_cells.length; ++i) {\n",
       "                    if (nbb_cells[i].input_prompt_number == nbb_cell_id) {\n",
       "                        if (nbb_cells[i].get_text() == nbb_unformatted_code) {\n",
       "                             nbb_cells[i].set_text(nbb_formatted_code);\n",
       "                        }\n",
       "                        break;\n",
       "                    }\n",
       "                }\n",
       "            }, 500);\n",
       "            "
      ],
      "text/plain": [
       "<IPython.core.display.Javascript object>"
      ]
     },
     "metadata": {},
     "output_type": "display_data"
    }
   ],
   "source": [
    "p13_1_basedir = \"../../../../../data/pbmc_pt/proteins/timepoint_1/P13_1_PBMCs_Dapi_gH2AX_Lamin_18_08_21_2X_16bit_poly\"\n",
    "p13_1_data = read_in_data(\n",
    "    feature_file_path=p13_1_basedir\n",
    "    + \"/preprocessed/full_pipeline/nuclear_features.csv\",\n",
    "    qc_file_path=p13_1_basedir\n",
    "    + \"/preprocessed/full_pipeline/segmentation/qc_results.csv\",\n",
    "    sample=\"p13_1\",\n",
    ")\n",
    "p13_1_data[\"condition\"] = \"tp1\""
   ]
  },
  {
   "cell_type": "code",
   "execution_count": 12,
   "id": "recorded-oakland",
   "metadata": {},
   "outputs": [
    {
     "data": {
      "application/javascript": [
       "\n",
       "            setTimeout(function() {\n",
       "                var nbb_cell_id = 12;\n",
       "                var nbb_unformatted_code = \"p13_2_basedir = \\\"../../../../../data/pbmc_pt/proteins/timepoint_2/P13_2_PBMCs_Dapi_gH2AX_Lamin_30_08_21_2X_16bit_poly\\\"\\np13_2_data = read_in_data(\\n    feature_file_path=p13_2_basedir\\n    + \\\"/preprocessed/full_pipeline/nuclear_features.csv\\\",\\n    qc_file_path=p13_2_basedir\\n    + \\\"/preprocessed/full_pipeline/segmentation/qc_results.csv\\\",\\n    sample=\\\"p13_2\\\",\\n)\\np13_2_data[\\\"condition\\\"] = \\\"tp2\\\"\";\n",
       "                var nbb_formatted_code = \"p13_2_basedir = \\\"../../../../../data/pbmc_pt/proteins/timepoint_2/P13_2_PBMCs_Dapi_gH2AX_Lamin_30_08_21_2X_16bit_poly\\\"\\np13_2_data = read_in_data(\\n    feature_file_path=p13_2_basedir\\n    + \\\"/preprocessed/full_pipeline/nuclear_features.csv\\\",\\n    qc_file_path=p13_2_basedir\\n    + \\\"/preprocessed/full_pipeline/segmentation/qc_results.csv\\\",\\n    sample=\\\"p13_2\\\",\\n)\\np13_2_data[\\\"condition\\\"] = \\\"tp2\\\"\";\n",
       "                var nbb_cells = Jupyter.notebook.get_cells();\n",
       "                for (var i = 0; i < nbb_cells.length; ++i) {\n",
       "                    if (nbb_cells[i].input_prompt_number == nbb_cell_id) {\n",
       "                        if (nbb_cells[i].get_text() == nbb_unformatted_code) {\n",
       "                             nbb_cells[i].set_text(nbb_formatted_code);\n",
       "                        }\n",
       "                        break;\n",
       "                    }\n",
       "                }\n",
       "            }, 500);\n",
       "            "
      ],
      "text/plain": [
       "<IPython.core.display.Javascript object>"
      ]
     },
     "metadata": {},
     "output_type": "display_data"
    }
   ],
   "source": [
    "p13_2_basedir = \"../../../../../data/pbmc_pt/proteins/timepoint_2/P13_2_PBMCs_Dapi_gH2AX_Lamin_30_08_21_2X_16bit_poly\"\n",
    "p13_2_data = read_in_data(\n",
    "    feature_file_path=p13_2_basedir\n",
    "    + \"/preprocessed/full_pipeline/nuclear_features.csv\",\n",
    "    qc_file_path=p13_2_basedir\n",
    "    + \"/preprocessed/full_pipeline/segmentation/qc_results.csv\",\n",
    "    sample=\"p13_2\",\n",
    ")\n",
    "p13_2_data[\"condition\"] = \"tp2\""
   ]
  },
  {
   "cell_type": "code",
   "execution_count": 13,
   "id": "arranged-toner",
   "metadata": {},
   "outputs": [
    {
     "data": {
      "application/javascript": [
       "\n",
       "            setTimeout(function() {\n",
       "                var nbb_cell_id = 13;\n",
       "                var nbb_unformatted_code = \"p13_3_basedir = \\\"../../../../../data/pbmc_pt/proteins/timepoint_3/P13_3_PBMCs_Dapi_gH2AX_Lamin_1_09_21_2X_16bit_poly\\\"\\np13_3_data = read_in_data(\\n    feature_file_path=p13_3_basedir\\n    + \\\"/preprocessed/full_pipeline/nuclear_features.csv\\\",\\n    qc_file_path=p13_3_basedir\\n    + \\\"/preprocessed/full_pipeline/segmentation/qc_results.csv\\\",\\n    sample=\\\"p13_3\\\",\\n)\\np13_3_data[\\\"condition\\\"] = \\\"tp3\\\"\";\n",
       "                var nbb_formatted_code = \"p13_3_basedir = \\\"../../../../../data/pbmc_pt/proteins/timepoint_3/P13_3_PBMCs_Dapi_gH2AX_Lamin_1_09_21_2X_16bit_poly\\\"\\np13_3_data = read_in_data(\\n    feature_file_path=p13_3_basedir\\n    + \\\"/preprocessed/full_pipeline/nuclear_features.csv\\\",\\n    qc_file_path=p13_3_basedir\\n    + \\\"/preprocessed/full_pipeline/segmentation/qc_results.csv\\\",\\n    sample=\\\"p13_3\\\",\\n)\\np13_3_data[\\\"condition\\\"] = \\\"tp3\\\"\";\n",
       "                var nbb_cells = Jupyter.notebook.get_cells();\n",
       "                for (var i = 0; i < nbb_cells.length; ++i) {\n",
       "                    if (nbb_cells[i].input_prompt_number == nbb_cell_id) {\n",
       "                        if (nbb_cells[i].get_text() == nbb_unformatted_code) {\n",
       "                             nbb_cells[i].set_text(nbb_formatted_code);\n",
       "                        }\n",
       "                        break;\n",
       "                    }\n",
       "                }\n",
       "            }, 500);\n",
       "            "
      ],
      "text/plain": [
       "<IPython.core.display.Javascript object>"
      ]
     },
     "metadata": {},
     "output_type": "display_data"
    }
   ],
   "source": [
    "p13_3_basedir = \"../../../../../data/pbmc_pt/proteins/timepoint_3/P13_3_PBMCs_Dapi_gH2AX_Lamin_1_09_21_2X_16bit_poly\"\n",
    "p13_3_data = read_in_data(\n",
    "    feature_file_path=p13_3_basedir\n",
    "    + \"/preprocessed/full_pipeline/nuclear_features.csv\",\n",
    "    qc_file_path=p13_3_basedir\n",
    "    + \"/preprocessed/full_pipeline/segmentation/qc_results.csv\",\n",
    "    sample=\"p13_3\",\n",
    ")\n",
    "p13_3_data[\"condition\"] = \"tp3\""
   ]
  },
  {
   "cell_type": "markdown",
   "id": "canadian-picking",
   "metadata": {},
   "source": [
    "We will randomly subsample the data from each condition to the same sample size that is the minimum number of samples in any of the conditions."
   ]
  },
  {
   "cell_type": "code",
   "execution_count": 14,
   "id": "aging-daily",
   "metadata": {},
   "outputs": [
    {
     "data": {
      "text/html": [
       "<div>\n",
       "<style scoped>\n",
       "    .dataframe tbody tr th:only-of-type {\n",
       "        vertical-align: middle;\n",
       "    }\n",
       "\n",
       "    .dataframe tbody tr th {\n",
       "        vertical-align: top;\n",
       "    }\n",
       "\n",
       "    .dataframe thead th {\n",
       "        text-align: right;\n",
       "    }\n",
       "</style>\n",
       "<table border=\"1\" class=\"dataframe\">\n",
       "  <thead>\n",
       "    <tr style=\"text-align: right;\">\n",
       "      <th></th>\n",
       "      <th>label</th>\n",
       "      <th>min_calliper</th>\n",
       "      <th>max_calliper</th>\n",
       "      <th>smallest_largest_calliper</th>\n",
       "      <th>min_radius</th>\n",
       "      <th>max_radius</th>\n",
       "      <th>med_radius</th>\n",
       "      <th>avg_radius</th>\n",
       "      <th>mode_radius</th>\n",
       "      <th>d25_radius</th>\n",
       "      <th>...</th>\n",
       "      <th>rel_lamin_3d_int</th>\n",
       "      <th>min_lamin_3d_int</th>\n",
       "      <th>max_lamin_3d_int</th>\n",
       "      <th>mean_lamin_3d_int</th>\n",
       "      <th>std_lamin_3d_int</th>\n",
       "      <th>q25_lamin_3d_int</th>\n",
       "      <th>q75_lamin_3d_int</th>\n",
       "      <th>median_lamin_3d_int</th>\n",
       "      <th>kurtosis_lamin_3d_int</th>\n",
       "      <th>skewness_lamin_3d_int</th>\n",
       "    </tr>\n",
       "  </thead>\n",
       "  <tbody>\n",
       "    <tr>\n",
       "      <th>count</th>\n",
       "      <td>888.000000</td>\n",
       "      <td>888.000000</td>\n",
       "      <td>888.00000</td>\n",
       "      <td>888.000000</td>\n",
       "      <td>888.000000</td>\n",
       "      <td>888.000000</td>\n",
       "      <td>888.000000</td>\n",
       "      <td>888.000000</td>\n",
       "      <td>888.000000</td>\n",
       "      <td>888.000000</td>\n",
       "      <td>...</td>\n",
       "      <td>888.000000</td>\n",
       "      <td>888.0</td>\n",
       "      <td>888.000000</td>\n",
       "      <td>888.000000</td>\n",
       "      <td>888.000000</td>\n",
       "      <td>888.0</td>\n",
       "      <td>888.000000</td>\n",
       "      <td>888.000000</td>\n",
       "      <td>888.000000</td>\n",
       "      <td>888.000000</td>\n",
       "    </tr>\n",
       "    <tr>\n",
       "      <th>mean</th>\n",
       "      <td>5.468468</td>\n",
       "      <td>59.948198</td>\n",
       "      <td>79.13964</td>\n",
       "      <td>0.767041</td>\n",
       "      <td>23.187526</td>\n",
       "      <td>40.694246</td>\n",
       "      <td>33.331316</td>\n",
       "      <td>33.010315</td>\n",
       "      <td>23.329079</td>\n",
       "      <td>29.939714</td>\n",
       "      <td>...</td>\n",
       "      <td>894.688517</td>\n",
       "      <td>0.0</td>\n",
       "      <td>11910.022523</td>\n",
       "      <td>894.688517</td>\n",
       "      <td>1151.992083</td>\n",
       "      <td>0.0</td>\n",
       "      <td>151.367399</td>\n",
       "      <td>476.275901</td>\n",
       "      <td>67.874095</td>\n",
       "      <td>6.687415</td>\n",
       "    </tr>\n",
       "    <tr>\n",
       "      <th>std</th>\n",
       "      <td>3.740620</td>\n",
       "      <td>6.068160</td>\n",
       "      <td>10.00218</td>\n",
       "      <td>0.104731</td>\n",
       "      <td>5.482400</td>\n",
       "      <td>5.646978</td>\n",
       "      <td>2.709549</td>\n",
       "      <td>2.611858</td>\n",
       "      <td>5.629199</td>\n",
       "      <td>2.796798</td>\n",
       "      <td>...</td>\n",
       "      <td>2356.910467</td>\n",
       "      <td>0.0</td>\n",
       "      <td>10619.438719</td>\n",
       "      <td>2356.910467</td>\n",
       "      <td>1986.820170</td>\n",
       "      <td>0.0</td>\n",
       "      <td>509.281565</td>\n",
       "      <td>1796.142401</td>\n",
       "      <td>40.869788</td>\n",
       "      <td>1.657038</td>\n",
       "    </tr>\n",
       "    <tr>\n",
       "      <th>min</th>\n",
       "      <td>1.000000</td>\n",
       "      <td>31.000000</td>\n",
       "      <td>49.00000</td>\n",
       "      <td>0.261194</td>\n",
       "      <td>0.496690</td>\n",
       "      <td>24.604310</td>\n",
       "      <td>18.326082</td>\n",
       "      <td>19.033401</td>\n",
       "      <td>0.496690</td>\n",
       "      <td>13.912455</td>\n",
       "      <td>...</td>\n",
       "      <td>64.243603</td>\n",
       "      <td>0.0</td>\n",
       "      <td>4393.000000</td>\n",
       "      <td>64.243603</td>\n",
       "      <td>219.386111</td>\n",
       "      <td>0.0</td>\n",
       "      <td>0.000000</td>\n",
       "      <td>0.000000</td>\n",
       "      <td>3.596008</td>\n",
       "      <td>2.164751</td>\n",
       "    </tr>\n",
       "    <tr>\n",
       "      <th>25%</th>\n",
       "      <td>3.000000</td>\n",
       "      <td>56.000000</td>\n",
       "      <td>72.00000</td>\n",
       "      <td>0.703453</td>\n",
       "      <td>20.684307</td>\n",
       "      <td>36.720214</td>\n",
       "      <td>31.724123</td>\n",
       "      <td>31.454265</td>\n",
       "      <td>20.703680</td>\n",
       "      <td>28.220218</td>\n",
       "      <td>...</td>\n",
       "      <td>187.547924</td>\n",
       "      <td>0.0</td>\n",
       "      <td>7003.000000</td>\n",
       "      <td>187.547924</td>\n",
       "      <td>464.490415</td>\n",
       "      <td>0.0</td>\n",
       "      <td>62.000000</td>\n",
       "      <td>16.000000</td>\n",
       "      <td>39.455976</td>\n",
       "      <td>5.354106</td>\n",
       "    </tr>\n",
       "    <tr>\n",
       "      <th>50%</th>\n",
       "      <td>5.000000</td>\n",
       "      <td>60.000000</td>\n",
       "      <td>77.00000</td>\n",
       "      <td>0.780822</td>\n",
       "      <td>24.241735</td>\n",
       "      <td>39.533129</td>\n",
       "      <td>33.370465</td>\n",
       "      <td>33.051540</td>\n",
       "      <td>24.395628</td>\n",
       "      <td>30.144194</td>\n",
       "      <td>...</td>\n",
       "      <td>261.338011</td>\n",
       "      <td>0.0</td>\n",
       "      <td>8216.500000</td>\n",
       "      <td>261.338011</td>\n",
       "      <td>572.987648</td>\n",
       "      <td>0.0</td>\n",
       "      <td>74.000000</td>\n",
       "      <td>34.000000</td>\n",
       "      <td>63.884428</td>\n",
       "      <td>6.762099</td>\n",
       "    </tr>\n",
       "    <tr>\n",
       "      <th>75%</th>\n",
       "      <td>7.000000</td>\n",
       "      <td>64.000000</td>\n",
       "      <td>84.00000</td>\n",
       "      <td>0.848405</td>\n",
       "      <td>26.879846</td>\n",
       "      <td>43.276434</td>\n",
       "      <td>35.048458</td>\n",
       "      <td>34.676520</td>\n",
       "      <td>26.932585</td>\n",
       "      <td>31.841240</td>\n",
       "      <td>...</td>\n",
       "      <td>531.025525</td>\n",
       "      <td>0.0</td>\n",
       "      <td>11024.750000</td>\n",
       "      <td>531.025525</td>\n",
       "      <td>895.085836</td>\n",
       "      <td>0.0</td>\n",
       "      <td>90.000000</td>\n",
       "      <td>79.250000</td>\n",
       "      <td>90.188814</td>\n",
       "      <td>7.948097</td>\n",
       "    </tr>\n",
       "    <tr>\n",
       "      <th>max</th>\n",
       "      <td>22.000000</td>\n",
       "      <td>74.000000</td>\n",
       "      <td>134.00000</td>\n",
       "      <td>0.956522</td>\n",
       "      <td>33.804783</td>\n",
       "      <td>68.729251</td>\n",
       "      <td>41.043127</td>\n",
       "      <td>40.033934</td>\n",
       "      <td>45.695499</td>\n",
       "      <td>36.829361</td>\n",
       "      <td>...</td>\n",
       "      <td>34327.142518</td>\n",
       "      <td>0.0</td>\n",
       "      <td>65535.000000</td>\n",
       "      <td>34327.142518</td>\n",
       "      <td>22434.417853</td>\n",
       "      <td>0.0</td>\n",
       "      <td>8796.000000</td>\n",
       "      <td>30148.000000</td>\n",
       "      <td>744.613292</td>\n",
       "      <td>13.125525</td>\n",
       "    </tr>\n",
       "  </tbody>\n",
       "</table>\n",
       "<p>8 rows × 275 columns</p>\n",
       "</div>"
      ],
      "text/plain": [
       "            label  min_calliper  max_calliper  smallest_largest_calliper  \\\n",
       "count  888.000000    888.000000     888.00000                 888.000000   \n",
       "mean     5.468468     59.948198      79.13964                   0.767041   \n",
       "std      3.740620      6.068160      10.00218                   0.104731   \n",
       "min      1.000000     31.000000      49.00000                   0.261194   \n",
       "25%      3.000000     56.000000      72.00000                   0.703453   \n",
       "50%      5.000000     60.000000      77.00000                   0.780822   \n",
       "75%      7.000000     64.000000      84.00000                   0.848405   \n",
       "max     22.000000     74.000000     134.00000                   0.956522   \n",
       "\n",
       "       min_radius  max_radius  med_radius  avg_radius  mode_radius  \\\n",
       "count  888.000000  888.000000  888.000000  888.000000   888.000000   \n",
       "mean    23.187526   40.694246   33.331316   33.010315    23.329079   \n",
       "std      5.482400    5.646978    2.709549    2.611858     5.629199   \n",
       "min      0.496690   24.604310   18.326082   19.033401     0.496690   \n",
       "25%     20.684307   36.720214   31.724123   31.454265    20.703680   \n",
       "50%     24.241735   39.533129   33.370465   33.051540    24.395628   \n",
       "75%     26.879846   43.276434   35.048458   34.676520    26.932585   \n",
       "max     33.804783   68.729251   41.043127   40.033934    45.695499   \n",
       "\n",
       "       d25_radius  ...  rel_lamin_3d_int  min_lamin_3d_int  max_lamin_3d_int  \\\n",
       "count  888.000000  ...        888.000000             888.0        888.000000   \n",
       "mean    29.939714  ...        894.688517               0.0      11910.022523   \n",
       "std      2.796798  ...       2356.910467               0.0      10619.438719   \n",
       "min     13.912455  ...         64.243603               0.0       4393.000000   \n",
       "25%     28.220218  ...        187.547924               0.0       7003.000000   \n",
       "50%     30.144194  ...        261.338011               0.0       8216.500000   \n",
       "75%     31.841240  ...        531.025525               0.0      11024.750000   \n",
       "max     36.829361  ...      34327.142518               0.0      65535.000000   \n",
       "\n",
       "       mean_lamin_3d_int  std_lamin_3d_int  q25_lamin_3d_int  \\\n",
       "count         888.000000        888.000000             888.0   \n",
       "mean          894.688517       1151.992083               0.0   \n",
       "std          2356.910467       1986.820170               0.0   \n",
       "min            64.243603        219.386111               0.0   \n",
       "25%           187.547924        464.490415               0.0   \n",
       "50%           261.338011        572.987648               0.0   \n",
       "75%           531.025525        895.085836               0.0   \n",
       "max         34327.142518      22434.417853               0.0   \n",
       "\n",
       "       q75_lamin_3d_int  median_lamin_3d_int  kurtosis_lamin_3d_int  \\\n",
       "count        888.000000           888.000000             888.000000   \n",
       "mean         151.367399           476.275901              67.874095   \n",
       "std          509.281565          1796.142401              40.869788   \n",
       "min            0.000000             0.000000               3.596008   \n",
       "25%           62.000000            16.000000              39.455976   \n",
       "50%           74.000000            34.000000              63.884428   \n",
       "75%           90.000000            79.250000              90.188814   \n",
       "max         8796.000000         30148.000000             744.613292   \n",
       "\n",
       "       skewness_lamin_3d_int  \n",
       "count             888.000000  \n",
       "mean                6.687415  \n",
       "std                 1.657038  \n",
       "min                 2.164751  \n",
       "25%                 5.354106  \n",
       "50%                 6.762099  \n",
       "75%                 7.948097  \n",
       "max                13.125525  \n",
       "\n",
       "[8 rows x 275 columns]"
      ]
     },
     "execution_count": 14,
     "metadata": {},
     "output_type": "execute_result"
    },
    {
     "data": {
      "application/javascript": [
       "\n",
       "            setTimeout(function() {\n",
       "                var nbb_cell_id = 14;\n",
       "                var nbb_unformatted_code = \"np.random.seed(seed)\\nn_control_samples = np.min(\\n    [len(hv_data), len(p13_1_data), len(p13_2_data), len(p13_3_data)]\\n)\\ndata = (\\n    hv_data.iloc[np.random.choice(len(hv_data), size=n_control_samples, replace=False)]\\n    .append(\\n        p13_1_data.iloc[\\n            np.random.choice(len(p13_1_data), size=n_control_samples, replace=False)\\n        ]\\n    )\\n    .append(\\n        p13_2_data.iloc[\\n            np.random.choice(len(p13_2_data), size=n_control_samples, replace=False)\\n        ]\\n    )\\n    .append(\\n        p13_3_data.iloc[\\n            np.random.choice(len(p13_3_data), size=n_control_samples, replace=False)\\n        ]\\n    )\\n)\\ndata.describe()\";\n",
       "                var nbb_formatted_code = \"np.random.seed(seed)\\nn_control_samples = np.min(\\n    [len(hv_data), len(p13_1_data), len(p13_2_data), len(p13_3_data)]\\n)\\ndata = (\\n    hv_data.iloc[np.random.choice(len(hv_data), size=n_control_samples, replace=False)]\\n    .append(\\n        p13_1_data.iloc[\\n            np.random.choice(len(p13_1_data), size=n_control_samples, replace=False)\\n        ]\\n    )\\n    .append(\\n        p13_2_data.iloc[\\n            np.random.choice(len(p13_2_data), size=n_control_samples, replace=False)\\n        ]\\n    )\\n    .append(\\n        p13_3_data.iloc[\\n            np.random.choice(len(p13_3_data), size=n_control_samples, replace=False)\\n        ]\\n    )\\n)\\ndata.describe()\";\n",
       "                var nbb_cells = Jupyter.notebook.get_cells();\n",
       "                for (var i = 0; i < nbb_cells.length; ++i) {\n",
       "                    if (nbb_cells[i].input_prompt_number == nbb_cell_id) {\n",
       "                        if (nbb_cells[i].get_text() == nbb_unformatted_code) {\n",
       "                             nbb_cells[i].set_text(nbb_formatted_code);\n",
       "                        }\n",
       "                        break;\n",
       "                    }\n",
       "                }\n",
       "            }, 500);\n",
       "            "
      ],
      "text/plain": [
       "<IPython.core.display.Javascript object>"
      ]
     },
     "metadata": {},
     "output_type": "display_data"
    }
   ],
   "source": [
    "np.random.seed(seed)\n",
    "n_control_samples = np.min(\n",
    "    [len(hv_data), len(p13_1_data), len(p13_2_data), len(p13_3_data)]\n",
    ")\n",
    "data = (\n",
    "    hv_data.iloc[np.random.choice(len(hv_data), size=n_control_samples, replace=False)]\n",
    "    .append(\n",
    "        p13_1_data.iloc[\n",
    "            np.random.choice(len(p13_1_data), size=n_control_samples, replace=False)\n",
    "        ]\n",
    "    )\n",
    "    .append(\n",
    "        p13_2_data.iloc[\n",
    "            np.random.choice(len(p13_2_data), size=n_control_samples, replace=False)\n",
    "        ]\n",
    "    )\n",
    "    .append(\n",
    "        p13_3_data.iloc[\n",
    "            np.random.choice(len(p13_3_data), size=n_control_samples, replace=False)\n",
    "        ]\n",
    "    )\n",
    ")\n",
    "data.describe()"
   ]
  },
  {
   "cell_type": "markdown",
   "id": "suspended-absolute",
   "metadata": {},
   "source": [
    "---\n",
    "\n",
    "## 2. Dimensionality reduction\n",
    "\n",
    "Next, we will clean the data and remove samples with missing values, constant features, as well as those samples that were flagged for not passing our quality checks."
   ]
  },
  {
   "cell_type": "code",
   "execution_count": 15,
   "id": "knowing-count",
   "metadata": {},
   "outputs": [
    {
     "name": "stdout",
     "output_type": "stream",
     "text": [
      "Nuclei that did not pass the quality check: 40/888. Remaining: 848.\n",
      "Removed 14 constant or features with missing values. Remaining: 264.\n",
      "Removed additional 6 features. Remaining: 258.\n"
     ]
    },
    {
     "data": {
      "application/javascript": [
       "\n",
       "            setTimeout(function() {\n",
       "                var nbb_cell_id = 15;\n",
       "                var nbb_unformatted_code = \"data = preprocess_data(data)\";\n",
       "                var nbb_formatted_code = \"data = preprocess_data(data)\";\n",
       "                var nbb_cells = Jupyter.notebook.get_cells();\n",
       "                for (var i = 0; i < nbb_cells.length; ++i) {\n",
       "                    if (nbb_cells[i].input_prompt_number == nbb_cell_id) {\n",
       "                        if (nbb_cells[i].get_text() == nbb_unformatted_code) {\n",
       "                             nbb_cells[i].set_text(nbb_formatted_code);\n",
       "                        }\n",
       "                        break;\n",
       "                    }\n",
       "                }\n",
       "            }, 500);\n",
       "            "
      ],
      "text/plain": [
       "<IPython.core.display.Javascript object>"
      ]
     },
     "metadata": {},
     "output_type": "display_data"
    }
   ],
   "source": [
    "data = preprocess_data(data)"
   ]
  },
  {
   "cell_type": "code",
   "execution_count": 16,
   "id": "documentary-kansas",
   "metadata": {},
   "outputs": [
    {
     "data": {
      "application/javascript": [
       "\n",
       "            setTimeout(function() {\n",
       "                var nbb_cell_id = 16;\n",
       "                var nbb_unformatted_code = \"features = data.iloc[:, :-2]\\nsample_labels = data.loc[:, \\\"sample\\\"]\\ncondition_labels = data.loc[:, \\\"condition\\\"]\";\n",
       "                var nbb_formatted_code = \"features = data.iloc[:, :-2]\\nsample_labels = data.loc[:, \\\"sample\\\"]\\ncondition_labels = data.loc[:, \\\"condition\\\"]\";\n",
       "                var nbb_cells = Jupyter.notebook.get_cells();\n",
       "                for (var i = 0; i < nbb_cells.length; ++i) {\n",
       "                    if (nbb_cells[i].input_prompt_number == nbb_cell_id) {\n",
       "                        if (nbb_cells[i].get_text() == nbb_unformatted_code) {\n",
       "                             nbb_cells[i].set_text(nbb_formatted_code);\n",
       "                        }\n",
       "                        break;\n",
       "                    }\n",
       "                }\n",
       "            }, 500);\n",
       "            "
      ],
      "text/plain": [
       "<IPython.core.display.Javascript object>"
      ]
     },
     "metadata": {},
     "output_type": "display_data"
    }
   ],
   "source": [
    "features = data.iloc[:, :-2]\n",
    "sample_labels = data.loc[:, \"sample\"]\n",
    "condition_labels = data.loc[:, \"condition\"]"
   ]
  },
  {
   "cell_type": "markdown",
   "id": "resident-validation",
   "metadata": {},
   "source": [
    "Finally, we will reduce the dimensionality of the data set further by removing highly correlated features ($\\rho > 0.8$)."
   ]
  },
  {
   "cell_type": "code",
   "execution_count": 17,
   "id": "growing-training",
   "metadata": {},
   "outputs": [
    {
     "name": "stdout",
     "output_type": "stream",
     "text": [
      "Removed 180/256 features with a Pearson correlation above 0.8. Remaining: 76\n"
     ]
    },
    {
     "data": {
      "application/javascript": [
       "\n",
       "            setTimeout(function() {\n",
       "                var nbb_cell_id = 17;\n",
       "                var nbb_unformatted_code = \"# features = remove_collinear_features(features, threshold=5)\\nfeatures = remove_correlated_features(features, threshold=0.8)\";\n",
       "                var nbb_formatted_code = \"# features = remove_collinear_features(features, threshold=5)\\nfeatures = remove_correlated_features(features, threshold=0.8)\";\n",
       "                var nbb_cells = Jupyter.notebook.get_cells();\n",
       "                for (var i = 0; i < nbb_cells.length; ++i) {\n",
       "                    if (nbb_cells[i].input_prompt_number == nbb_cell_id) {\n",
       "                        if (nbb_cells[i].get_text() == nbb_unformatted_code) {\n",
       "                             nbb_cells[i].set_text(nbb_formatted_code);\n",
       "                        }\n",
       "                        break;\n",
       "                    }\n",
       "                }\n",
       "            }, 500);\n",
       "            "
      ],
      "text/plain": [
       "<IPython.core.display.Javascript object>"
      ]
     },
     "metadata": {},
     "output_type": "display_data"
    }
   ],
   "source": [
    "# features = remove_collinear_features(features, threshold=5)\n",
    "features = remove_correlated_features(features, threshold=0.8)"
   ]
  },
  {
   "cell_type": "markdown",
   "id": "foreign-frequency",
   "metadata": {},
   "source": [
    "There are 57 features that remain which have a correlation of less than 0.8 to any other feature."
   ]
  },
  {
   "cell_type": "markdown",
   "id": "irish-carolina",
   "metadata": {},
   "source": [
    "---\n",
    "\n",
    "## 3. Data visualization\n",
    "\n",
    "Next, we will visualize the data set using TSNE. To this end, we will first z-score the data."
   ]
  },
  {
   "cell_type": "code",
   "execution_count": 18,
   "id": "collected-initial",
   "metadata": {},
   "outputs": [
    {
     "data": {
      "text/html": [
       "<div>\n",
       "<style scoped>\n",
       "    .dataframe tbody tr th:only-of-type {\n",
       "        vertical-align: middle;\n",
       "    }\n",
       "\n",
       "    .dataframe tbody tr th {\n",
       "        vertical-align: top;\n",
       "    }\n",
       "\n",
       "    .dataframe thead th {\n",
       "        text-align: right;\n",
       "    }\n",
       "</style>\n",
       "<table border=\"1\" class=\"dataframe\">\n",
       "  <thead>\n",
       "    <tr style=\"text-align: right;\">\n",
       "      <th></th>\n",
       "      <th>min_calliper</th>\n",
       "      <th>max_calliper</th>\n",
       "      <th>smallest_largest_calliper</th>\n",
       "      <th>min_radius</th>\n",
       "      <th>med_radius</th>\n",
       "      <th>concavity</th>\n",
       "      <th>area_bbarea</th>\n",
       "      <th>avg_curvature</th>\n",
       "      <th>std_curvature</th>\n",
       "      <th>npolarity_changes</th>\n",
       "      <th>...</th>\n",
       "      <th>min_gh2ax_2d_int</th>\n",
       "      <th>max_gh2ax_2d_int</th>\n",
       "      <th>std_gh2ax_2d_int</th>\n",
       "      <th>q25_gh2ax_2d_int</th>\n",
       "      <th>kurtosis_gh2ax_2d_int</th>\n",
       "      <th>q25_gh2ax_3d_int</th>\n",
       "      <th>q75_gh2ax_3d_int</th>\n",
       "      <th>rel_lamin_2d_int</th>\n",
       "      <th>kurtosis_lamin_2d_int</th>\n",
       "      <th>skewness_lamin_2d_int</th>\n",
       "    </tr>\n",
       "  </thead>\n",
       "  <tbody>\n",
       "    <tr>\n",
       "      <th>count</th>\n",
       "      <td>8.480000e+02</td>\n",
       "      <td>8.480000e+02</td>\n",
       "      <td>8.480000e+02</td>\n",
       "      <td>8.480000e+02</td>\n",
       "      <td>8.480000e+02</td>\n",
       "      <td>848.000000</td>\n",
       "      <td>8.480000e+02</td>\n",
       "      <td>8.480000e+02</td>\n",
       "      <td>8.480000e+02</td>\n",
       "      <td>8.480000e+02</td>\n",
       "      <td>...</td>\n",
       "      <td>8.480000e+02</td>\n",
       "      <td>8.480000e+02</td>\n",
       "      <td>848.000000</td>\n",
       "      <td>8.480000e+02</td>\n",
       "      <td>8.480000e+02</td>\n",
       "      <td>8.480000e+02</td>\n",
       "      <td>8.480000e+02</td>\n",
       "      <td>8.480000e+02</td>\n",
       "      <td>8.480000e+02</td>\n",
       "      <td>8.480000e+02</td>\n",
       "    </tr>\n",
       "    <tr>\n",
       "      <th>mean</th>\n",
       "      <td>4.482787e-16</td>\n",
       "      <td>-1.675808e-16</td>\n",
       "      <td>7.038395e-16</td>\n",
       "      <td>-1.759599e-16</td>\n",
       "      <td>-1.642292e-15</td>\n",
       "      <td>0.000000</td>\n",
       "      <td>3.351617e-17</td>\n",
       "      <td>-4.189521e-16</td>\n",
       "      <td>-7.122185e-16</td>\n",
       "      <td>1.675808e-17</td>\n",
       "      <td>...</td>\n",
       "      <td>8.797994e-17</td>\n",
       "      <td>1.340647e-16</td>\n",
       "      <td>0.000000</td>\n",
       "      <td>-6.703233e-17</td>\n",
       "      <td>-3.351617e-17</td>\n",
       "      <td>1.675808e-17</td>\n",
       "      <td>1.173066e-16</td>\n",
       "      <td>1.675808e-17</td>\n",
       "      <td>-4.608473e-17</td>\n",
       "      <td>2.597503e-16</td>\n",
       "    </tr>\n",
       "    <tr>\n",
       "      <th>std</th>\n",
       "      <td>1.000590e+00</td>\n",
       "      <td>1.000590e+00</td>\n",
       "      <td>1.000590e+00</td>\n",
       "      <td>1.000590e+00</td>\n",
       "      <td>1.000590e+00</td>\n",
       "      <td>1.000590</td>\n",
       "      <td>1.000590e+00</td>\n",
       "      <td>1.000590e+00</td>\n",
       "      <td>1.000590e+00</td>\n",
       "      <td>1.000590e+00</td>\n",
       "      <td>...</td>\n",
       "      <td>1.000590e+00</td>\n",
       "      <td>1.000590e+00</td>\n",
       "      <td>1.000590</td>\n",
       "      <td>1.000590e+00</td>\n",
       "      <td>1.000590e+00</td>\n",
       "      <td>1.000590e+00</td>\n",
       "      <td>1.000590e+00</td>\n",
       "      <td>1.000590e+00</td>\n",
       "      <td>1.000590e+00</td>\n",
       "      <td>1.000590e+00</td>\n",
       "    </tr>\n",
       "    <tr>\n",
       "      <th>min</th>\n",
       "      <td>-4.406124e+00</td>\n",
       "      <td>-2.096539e+00</td>\n",
       "      <td>-4.849575e+00</td>\n",
       "      <td>-4.205701e+00</td>\n",
       "      <td>-3.981110e+00</td>\n",
       "      <td>-1.082933</td>\n",
       "      <td>-6.340841e+00</td>\n",
       "      <td>-6.010315e+00</td>\n",
       "      <td>-2.279007e+00</td>\n",
       "      <td>-2.096433e+00</td>\n",
       "      <td>...</td>\n",
       "      <td>-9.293815e-01</td>\n",
       "      <td>-2.232720e+00</td>\n",
       "      <td>-1.540611</td>\n",
       "      <td>-7.058960e-01</td>\n",
       "      <td>-8.892789e-01</td>\n",
       "      <td>-5.441466e-02</td>\n",
       "      <td>-1.122166e+00</td>\n",
       "      <td>-4.043785e-01</td>\n",
       "      <td>-6.891199e-01</td>\n",
       "      <td>-4.515589e+00</td>\n",
       "    </tr>\n",
       "    <tr>\n",
       "      <th>25%</th>\n",
       "      <td>-7.375128e-01</td>\n",
       "      <td>-7.550654e-01</td>\n",
       "      <td>-5.937646e-01</td>\n",
       "      <td>-4.660424e-01</td>\n",
       "      <td>-6.724250e-01</td>\n",
       "      <td>-0.641091</td>\n",
       "      <td>-4.245219e-01</td>\n",
       "      <td>-5.553346e-01</td>\n",
       "      <td>-7.124793e-01</td>\n",
       "      <td>-6.068160e-01</td>\n",
       "      <td>...</td>\n",
       "      <td>-3.033267e-01</td>\n",
       "      <td>-7.510823e-01</td>\n",
       "      <td>-0.627224</td>\n",
       "      <td>-7.058960e-01</td>\n",
       "      <td>-5.983459e-01</td>\n",
       "      <td>-5.441466e-02</td>\n",
       "      <td>-4.810298e-01</td>\n",
       "      <td>-3.389207e-01</td>\n",
       "      <td>-2.582474e-01</td>\n",
       "      <td>-5.118516e-01</td>\n",
       "    </tr>\n",
       "    <tr>\n",
       "      <th>50%</th>\n",
       "      <td>-3.872972e-02</td>\n",
       "      <td>-2.391142e-01</td>\n",
       "      <td>1.279300e-01</td>\n",
       "      <td>1.975265e-01</td>\n",
       "      <td>-1.967573e-02</td>\n",
       "      <td>-0.262611</td>\n",
       "      <td>1.763429e-01</td>\n",
       "      <td>1.919554e-02</td>\n",
       "      <td>-4.092606e-02</td>\n",
       "      <td>-1.102769e-01</td>\n",
       "      <td>...</td>\n",
       "      <td>-1.054404e-01</td>\n",
       "      <td>-4.638109e-02</td>\n",
       "      <td>-0.265889</td>\n",
       "      <td>-5.905819e-02</td>\n",
       "      <td>-3.913438e-01</td>\n",
       "      <td>-5.441466e-02</td>\n",
       "      <td>-2.455541e-01</td>\n",
       "      <td>-2.940269e-01</td>\n",
       "      <td>-8.788489e-02</td>\n",
       "      <td>2.909132e-02</td>\n",
       "    </tr>\n",
       "    <tr>\n",
       "      <th>75%</th>\n",
       "      <td>7.037273e-01</td>\n",
       "      <td>4.832175e-01</td>\n",
       "      <td>7.756362e-01</td>\n",
       "      <td>6.639726e-01</td>\n",
       "      <td>6.635532e-01</td>\n",
       "      <td>0.283752</td>\n",
       "      <td>6.599104e-01</td>\n",
       "      <td>6.463442e-01</td>\n",
       "      <td>6.502323e-01</td>\n",
       "      <td>4.690186e-01</td>\n",
       "      <td>...</td>\n",
       "      <td>1.647507e-01</td>\n",
       "      <td>1.045765e+00</td>\n",
       "      <td>0.273616</td>\n",
       "      <td>5.002794e-01</td>\n",
       "      <td>2.190879e-01</td>\n",
       "      <td>-5.441466e-02</td>\n",
       "      <td>1.411747e-01</td>\n",
       "      <td>-1.462285e-01</td>\n",
       "      <td>1.489393e-01</td>\n",
       "      <td>6.068540e-01</td>\n",
       "    </tr>\n",
       "    <tr>\n",
       "      <th>max</th>\n",
       "      <td>2.407011e+00</td>\n",
       "      <td>5.642730e+00</td>\n",
       "      <td>1.791681e+00</td>\n",
       "      <td>1.929879e+00</td>\n",
       "      <td>3.093054e+00</td>\n",
       "      <td>9.589616</td>\n",
       "      <td>2.016945e+00</td>\n",
       "      <td>4.669077e+00</td>\n",
       "      <td>4.646380e+00</td>\n",
       "      <td>5.020626e+00</td>\n",
       "      <td>...</td>\n",
       "      <td>2.403943e+01</td>\n",
       "      <td>1.314604e+00</td>\n",
       "      <td>4.829374</td>\n",
       "      <td>1.856684e+01</td>\n",
       "      <td>5.889339e+00</td>\n",
       "      <td>2.724723e+01</td>\n",
       "      <td>1.350757e+01</td>\n",
       "      <td>1.079296e+01</td>\n",
       "      <td>2.620725e+01</td>\n",
       "      <td>9.235005e+00</td>\n",
       "    </tr>\n",
       "  </tbody>\n",
       "</table>\n",
       "<p>8 rows × 76 columns</p>\n",
       "</div>"
      ],
      "text/plain": [
       "       min_calliper  max_calliper  smallest_largest_calliper    min_radius  \\\n",
       "count  8.480000e+02  8.480000e+02               8.480000e+02  8.480000e+02   \n",
       "mean   4.482787e-16 -1.675808e-16               7.038395e-16 -1.759599e-16   \n",
       "std    1.000590e+00  1.000590e+00               1.000590e+00  1.000590e+00   \n",
       "min   -4.406124e+00 -2.096539e+00              -4.849575e+00 -4.205701e+00   \n",
       "25%   -7.375128e-01 -7.550654e-01              -5.937646e-01 -4.660424e-01   \n",
       "50%   -3.872972e-02 -2.391142e-01               1.279300e-01  1.975265e-01   \n",
       "75%    7.037273e-01  4.832175e-01               7.756362e-01  6.639726e-01   \n",
       "max    2.407011e+00  5.642730e+00               1.791681e+00  1.929879e+00   \n",
       "\n",
       "         med_radius   concavity   area_bbarea  avg_curvature  std_curvature  \\\n",
       "count  8.480000e+02  848.000000  8.480000e+02   8.480000e+02   8.480000e+02   \n",
       "mean  -1.642292e-15    0.000000  3.351617e-17  -4.189521e-16  -7.122185e-16   \n",
       "std    1.000590e+00    1.000590  1.000590e+00   1.000590e+00   1.000590e+00   \n",
       "min   -3.981110e+00   -1.082933 -6.340841e+00  -6.010315e+00  -2.279007e+00   \n",
       "25%   -6.724250e-01   -0.641091 -4.245219e-01  -5.553346e-01  -7.124793e-01   \n",
       "50%   -1.967573e-02   -0.262611  1.763429e-01   1.919554e-02  -4.092606e-02   \n",
       "75%    6.635532e-01    0.283752  6.599104e-01   6.463442e-01   6.502323e-01   \n",
       "max    3.093054e+00    9.589616  2.016945e+00   4.669077e+00   4.646380e+00   \n",
       "\n",
       "       npolarity_changes  ...  min_gh2ax_2d_int  max_gh2ax_2d_int  \\\n",
       "count       8.480000e+02  ...      8.480000e+02      8.480000e+02   \n",
       "mean        1.675808e-17  ...      8.797994e-17      1.340647e-16   \n",
       "std         1.000590e+00  ...      1.000590e+00      1.000590e+00   \n",
       "min        -2.096433e+00  ...     -9.293815e-01     -2.232720e+00   \n",
       "25%        -6.068160e-01  ...     -3.033267e-01     -7.510823e-01   \n",
       "50%        -1.102769e-01  ...     -1.054404e-01     -4.638109e-02   \n",
       "75%         4.690186e-01  ...      1.647507e-01      1.045765e+00   \n",
       "max         5.020626e+00  ...      2.403943e+01      1.314604e+00   \n",
       "\n",
       "       std_gh2ax_2d_int  q25_gh2ax_2d_int  kurtosis_gh2ax_2d_int  \\\n",
       "count        848.000000      8.480000e+02           8.480000e+02   \n",
       "mean           0.000000     -6.703233e-17          -3.351617e-17   \n",
       "std            1.000590      1.000590e+00           1.000590e+00   \n",
       "min           -1.540611     -7.058960e-01          -8.892789e-01   \n",
       "25%           -0.627224     -7.058960e-01          -5.983459e-01   \n",
       "50%           -0.265889     -5.905819e-02          -3.913438e-01   \n",
       "75%            0.273616      5.002794e-01           2.190879e-01   \n",
       "max            4.829374      1.856684e+01           5.889339e+00   \n",
       "\n",
       "       q25_gh2ax_3d_int  q75_gh2ax_3d_int  rel_lamin_2d_int  \\\n",
       "count      8.480000e+02      8.480000e+02      8.480000e+02   \n",
       "mean       1.675808e-17      1.173066e-16      1.675808e-17   \n",
       "std        1.000590e+00      1.000590e+00      1.000590e+00   \n",
       "min       -5.441466e-02     -1.122166e+00     -4.043785e-01   \n",
       "25%       -5.441466e-02     -4.810298e-01     -3.389207e-01   \n",
       "50%       -5.441466e-02     -2.455541e-01     -2.940269e-01   \n",
       "75%       -5.441466e-02      1.411747e-01     -1.462285e-01   \n",
       "max        2.724723e+01      1.350757e+01      1.079296e+01   \n",
       "\n",
       "       kurtosis_lamin_2d_int  skewness_lamin_2d_int  \n",
       "count           8.480000e+02           8.480000e+02  \n",
       "mean           -4.608473e-17           2.597503e-16  \n",
       "std             1.000590e+00           1.000590e+00  \n",
       "min            -6.891199e-01          -4.515589e+00  \n",
       "25%            -2.582474e-01          -5.118516e-01  \n",
       "50%            -8.788489e-02           2.909132e-02  \n",
       "75%             1.489393e-01           6.068540e-01  \n",
       "max             2.620725e+01           9.235005e+00  \n",
       "\n",
       "[8 rows x 76 columns]"
      ]
     },
     "execution_count": 18,
     "metadata": {},
     "output_type": "execute_result"
    },
    {
     "data": {
      "application/javascript": [
       "\n",
       "            setTimeout(function() {\n",
       "                var nbb_cell_id = 18;\n",
       "                var nbb_unformatted_code = \"features_sc = pd.DataFrame(\\n    StandardScaler().fit_transform(features),\\n    index=features.index,\\n    columns=features.columns,\\n)\\nfeatures_sc.describe()\";\n",
       "                var nbb_formatted_code = \"features_sc = pd.DataFrame(\\n    StandardScaler().fit_transform(features),\\n    index=features.index,\\n    columns=features.columns,\\n)\\nfeatures_sc.describe()\";\n",
       "                var nbb_cells = Jupyter.notebook.get_cells();\n",
       "                for (var i = 0; i < nbb_cells.length; ++i) {\n",
       "                    if (nbb_cells[i].input_prompt_number == nbb_cell_id) {\n",
       "                        if (nbb_cells[i].get_text() == nbb_unformatted_code) {\n",
       "                             nbb_cells[i].set_text(nbb_formatted_code);\n",
       "                        }\n",
       "                        break;\n",
       "                    }\n",
       "                }\n",
       "            }, 500);\n",
       "            "
      ],
      "text/plain": [
       "<IPython.core.display.Javascript object>"
      ]
     },
     "metadata": {},
     "output_type": "display_data"
    }
   ],
   "source": [
    "features_sc = pd.DataFrame(\n",
    "    StandardScaler().fit_transform(features),\n",
    "    index=features.index,\n",
    "    columns=features.columns,\n",
    ")\n",
    "features_sc.describe()"
   ]
  },
  {
   "cell_type": "markdown",
   "id": "stopped-portal",
   "metadata": {},
   "source": [
    "Next, we compute the TSNE."
   ]
  },
  {
   "cell_type": "code",
   "execution_count": 19,
   "id": "destroyed-trail",
   "metadata": {},
   "outputs": [
    {
     "data": {
      "application/javascript": [
       "\n",
       "            setTimeout(function() {\n",
       "                var nbb_cell_id = 19;\n",
       "                var nbb_unformatted_code = \"tsne = TSNE(random_state=seed)\\ntsne_embs = tsne.fit_transform(features_sc)\\ntsne_embs = pd.DataFrame(\\n    tsne_embs, columns=[\\\"tsne_0\\\", \\\"tsne_1\\\"], index=features_sc.index\\n)\\ntsne_embs.loc[:, \\\"sample\\\"] = np.array(data.loc[tsne_embs.index, \\\"sample\\\"])\\ntsne_embs.loc[:, \\\"condition\\\"] = np.array(data.loc[tsne_embs.index, \\\"condition\\\"])\";\n",
       "                var nbb_formatted_code = \"tsne = TSNE(random_state=seed)\\ntsne_embs = tsne.fit_transform(features_sc)\\ntsne_embs = pd.DataFrame(\\n    tsne_embs, columns=[\\\"tsne_0\\\", \\\"tsne_1\\\"], index=features_sc.index\\n)\\ntsne_embs.loc[:, \\\"sample\\\"] = np.array(data.loc[tsne_embs.index, \\\"sample\\\"])\\ntsne_embs.loc[:, \\\"condition\\\"] = np.array(data.loc[tsne_embs.index, \\\"condition\\\"])\";\n",
       "                var nbb_cells = Jupyter.notebook.get_cells();\n",
       "                for (var i = 0; i < nbb_cells.length; ++i) {\n",
       "                    if (nbb_cells[i].input_prompt_number == nbb_cell_id) {\n",
       "                        if (nbb_cells[i].get_text() == nbb_unformatted_code) {\n",
       "                             nbb_cells[i].set_text(nbb_formatted_code);\n",
       "                        }\n",
       "                        break;\n",
       "                    }\n",
       "                }\n",
       "            }, 500);\n",
       "            "
      ],
      "text/plain": [
       "<IPython.core.display.Javascript object>"
      ]
     },
     "metadata": {},
     "output_type": "display_data"
    }
   ],
   "source": [
    "tsne = TSNE(random_state=seed)\n",
    "tsne_embs = tsne.fit_transform(features_sc)\n",
    "tsne_embs = pd.DataFrame(\n",
    "    tsne_embs, columns=[\"tsne_0\", \"tsne_1\"], index=features_sc.index\n",
    ")\n",
    "tsne_embs.loc[:, \"sample\"] = np.array(data.loc[tsne_embs.index, \"sample\"])\n",
    "tsne_embs.loc[:, \"condition\"] = np.array(data.loc[tsne_embs.index, \"condition\"])"
   ]
  },
  {
   "cell_type": "code",
   "execution_count": 20,
   "id": "olympic-tissue",
   "metadata": {},
   "outputs": [
    {
     "data": {
      "image/png": "[encoded data removed]",
      "text/plain": [
       "<Figure size 576x432 with 1 Axes>"
      ]
     },
     "metadata": {
      "needs_background": "light"
     },
     "output_type": "display_data"
    },
    {
     "data": {
      "application/javascript": [
       "\n",
       "            setTimeout(function() {\n",
       "                var nbb_cell_id = 20;\n",
       "                var nbb_unformatted_code = \"fig, ax = plt.subplots(figsize=[8, 6])\\nax = sns.scatterplot(data=tsne_embs, x=\\\"tsne_0\\\", y=\\\"tsne_1\\\", hue=\\\"condition\\\", ax=ax)\\nplt.title(\\\"TSNE of the nuclei by condition\\\")\\nplt.show()\";\n",
       "                var nbb_formatted_code = \"fig, ax = plt.subplots(figsize=[8, 6])\\nax = sns.scatterplot(data=tsne_embs, x=\\\"tsne_0\\\", y=\\\"tsne_1\\\", hue=\\\"condition\\\", ax=ax)\\nplt.title(\\\"TSNE of the nuclei by condition\\\")\\nplt.show()\";\n",
       "                var nbb_cells = Jupyter.notebook.get_cells();\n",
       "                for (var i = 0; i < nbb_cells.length; ++i) {\n",
       "                    if (nbb_cells[i].input_prompt_number == nbb_cell_id) {\n",
       "                        if (nbb_cells[i].get_text() == nbb_unformatted_code) {\n",
       "                             nbb_cells[i].set_text(nbb_formatted_code);\n",
       "                        }\n",
       "                        break;\n",
       "                    }\n",
       "                }\n",
       "            }, 500);\n",
       "            "
      ],
      "text/plain": [
       "<IPython.core.display.Javascript object>"
      ]
     },
     "metadata": {},
     "output_type": "display_data"
    }
   ],
   "source": [
    "fig, ax = plt.subplots(figsize=[8, 6])\n",
    "ax = sns.scatterplot(data=tsne_embs, x=\"tsne_0\", y=\"tsne_1\", hue=\"condition\", ax=ax)\n",
    "plt.title(\"TSNE of the nuclei by condition\")\n",
    "plt.show()"
   ]
  },
  {
   "cell_type": "markdown",
   "id": "alone-respect",
   "metadata": {},
   "source": [
    "As you can see the blood cells before the first treatment are very different from those of the healthy control population. Interestingly the samples from the intermediate time point of the treament and the post-treatment time point cluster together with the samples from the pre-treatment condition. There does not seem to be any strong treatment effect in that biological sample."
   ]
  },
  {
   "cell_type": "markdown",
   "id": "greek-satin",
   "metadata": {},
   "source": [
    "---\n",
    "\n",
    "## 4. Separability of the time points\n",
    "\n",
    "Next, we will look more into the differences of the PBMC phenotypes at the different time points of the treatment in comparison to the healthy controls. To this end, we will train a RandomForest classifier model on distinguishing between the different data conditions."
   ]
  },
  {
   "cell_type": "markdown",
   "id": "champion-bryan",
   "metadata": {},
   "source": [
    "To this end, we perform a 10-fold Stratified cross-validation approach and look at the average confusion matrix of the individual folds."
   ]
  },
  {
   "cell_type": "code",
   "execution_count": 21,
   "id": "hourly-banner",
   "metadata": {},
   "outputs": [
    {
     "data": {
      "application/javascript": [
       "\n",
       "            setTimeout(function() {\n",
       "                var nbb_cell_id = 21;\n",
       "                var nbb_unformatted_code = \"rfc = RandomForestClassifier(\\n    n_estimators=500, n_jobs=10, random_state=seed, class_weight=\\\"balanced\\\"\\n)\\navg_conf_mtx = compute_avg_conf_mtx(\\n    model=rfc, n_folds=10, features=features_sc, labels=condition_labels\\n)\";\n",
       "                var nbb_formatted_code = \"rfc = RandomForestClassifier(\\n    n_estimators=500, n_jobs=10, random_state=seed, class_weight=\\\"balanced\\\"\\n)\\navg_conf_mtx = compute_avg_conf_mtx(\\n    model=rfc, n_folds=10, features=features_sc, labels=condition_labels\\n)\";\n",
       "                var nbb_cells = Jupyter.notebook.get_cells();\n",
       "                for (var i = 0; i < nbb_cells.length; ++i) {\n",
       "                    if (nbb_cells[i].input_prompt_number == nbb_cell_id) {\n",
       "                        if (nbb_cells[i].get_text() == nbb_unformatted_code) {\n",
       "                             nbb_cells[i].set_text(nbb_formatted_code);\n",
       "                        }\n",
       "                        break;\n",
       "                    }\n",
       "                }\n",
       "            }, 500);\n",
       "            "
      ],
      "text/plain": [
       "<IPython.core.display.Javascript object>"
      ]
     },
     "metadata": {},
     "output_type": "display_data"
    }
   ],
   "source": [
    "rfc = RandomForestClassifier(\n",
    "    n_estimators=500, n_jobs=10, random_state=seed, class_weight=\"balanced\"\n",
    ")\n",
    "avg_conf_mtx = compute_avg_conf_mtx(\n",
    "    model=rfc, n_folds=10, features=features_sc, labels=condition_labels\n",
    ")"
   ]
  },
  {
   "cell_type": "code",
   "execution_count": 22,
   "id": "happy-audience",
   "metadata": {},
   "outputs": [
    {
     "data": {
      "image/png": "[encoded data removed]",
      "text/plain": [
       "<Figure size 432x288 with 2 Axes>"
      ]
     },
     "metadata": {
      "needs_background": "light"
     },
     "output_type": "display_data"
    },
    {
     "data": {
      "application/javascript": [
       "\n",
       "            setTimeout(function() {\n",
       "                var nbb_cell_id = 22;\n",
       "                var nbb_unformatted_code = \"fig, ax = plt.subplots(figsize=[6, 4])\\nax = sns.heatmap(avg_conf_mtx, annot=True, cmap=\\\"viridis\\\", ax=ax)\\nax.set_xlabel(\\\"Predicted\\\")\\nax.set_ylabel(\\\"True\\\")\\nplt.title(\\\"Average confusion matrix from {}-fold stratified CV\\\".format(10))\\nplt.show()\";\n",
       "                var nbb_formatted_code = \"fig, ax = plt.subplots(figsize=[6, 4])\\nax = sns.heatmap(avg_conf_mtx, annot=True, cmap=\\\"viridis\\\", ax=ax)\\nax.set_xlabel(\\\"Predicted\\\")\\nax.set_ylabel(\\\"True\\\")\\nplt.title(\\\"Average confusion matrix from {}-fold stratified CV\\\".format(10))\\nplt.show()\";\n",
       "                var nbb_cells = Jupyter.notebook.get_cells();\n",
       "                for (var i = 0; i < nbb_cells.length; ++i) {\n",
       "                    if (nbb_cells[i].input_prompt_number == nbb_cell_id) {\n",
       "                        if (nbb_cells[i].get_text() == nbb_unformatted_code) {\n",
       "                             nbb_cells[i].set_text(nbb_formatted_code);\n",
       "                        }\n",
       "                        break;\n",
       "                    }\n",
       "                }\n",
       "            }, 500);\n",
       "            "
      ],
      "text/plain": [
       "<IPython.core.display.Javascript object>"
      ]
     },
     "metadata": {},
     "output_type": "display_data"
    }
   ],
   "source": [
    "fig, ax = plt.subplots(figsize=[6, 4])\n",
    "ax = sns.heatmap(avg_conf_mtx, annot=True, cmap=\"viridis\", ax=ax)\n",
    "ax.set_xlabel(\"Predicted\")\n",
    "ax.set_ylabel(\"True\")\n",
    "plt.title(\"Average confusion matrix from {}-fold stratified CV\".format(10))\n",
    "plt.show()"
   ]
  },
  {
   "cell_type": "markdown",
   "id": "plastic-surprise",
   "metadata": {},
   "source": [
    "The confusion matrix further emphasizes the previous statements. For all cases we can fairly well distinguish the samples from the cancer patient at the different time points from the halthy controls. However, we can less well distinguish between the different time points."
   ]
  },
  {
   "cell_type": "code",
   "execution_count": 23,
   "id": "peripheral-figure",
   "metadata": {},
   "outputs": [
    {
     "data": {
      "image/png": "[encoded data removed]",
      "text/plain": [
       "<Figure size 576x432 with 1 Axes>"
      ]
     },
     "metadata": {
      "needs_background": "light"
     },
     "output_type": "display_data"
    },
    {
     "data": {
      "application/javascript": [
       "\n",
       "            setTimeout(function() {\n",
       "                var nbb_cell_id = 23;\n",
       "                var nbb_unformatted_code = \"rfc = rfc.fit(features_sc, condition_labels)\\nplot_feature_importance(rfc.feature_importances_, features_sc.columns, \\\"RFC \\\")\";\n",
       "                var nbb_formatted_code = \"rfc = rfc.fit(features_sc, condition_labels)\\nplot_feature_importance(rfc.feature_importances_, features_sc.columns, \\\"RFC \\\")\";\n",
       "                var nbb_cells = Jupyter.notebook.get_cells();\n",
       "                for (var i = 0; i < nbb_cells.length; ++i) {\n",
       "                    if (nbb_cells[i].input_prompt_number == nbb_cell_id) {\n",
       "                        if (nbb_cells[i].get_text() == nbb_unformatted_code) {\n",
       "                             nbb_cells[i].set_text(nbb_formatted_code);\n",
       "                        }\n",
       "                        break;\n",
       "                    }\n",
       "                }\n",
       "            }, 500);\n",
       "            "
      ],
      "text/plain": [
       "<IPython.core.display.Javascript object>"
      ]
     },
     "metadata": {},
     "output_type": "display_data"
    }
   ],
   "source": [
    "rfc = rfc.fit(features_sc, condition_labels)\n",
    "plot_feature_importance(rfc.feature_importances_, features_sc.columns, \"RFC \")"
   ]
  },
  {
   "cell_type": "markdown",
   "id": "encouraging-guyana",
   "metadata": {},
   "source": [
    "When we look at the features that got the highest importance we see that many of these are related to intensity features of the protein channels."
   ]
  },
  {
   "cell_type": "code",
   "execution_count": 24,
   "id": "cultural-fraud",
   "metadata": {},
   "outputs": [
    {
     "data": {
      "image/png": "[encoded data removed]",
      "text/plain": [
       "<Figure size 432x288 with 1 Axes>"
      ]
     },
     "metadata": {
      "needs_background": "light"
     },
     "output_type": "display_data"
    },
    {
     "data": {
      "application/javascript": [
       "\n",
       "            setTimeout(function() {\n",
       "                var nbb_cell_id = 24;\n",
       "                var nbb_unformatted_code = \"fig, ax = plt.subplots(figsize=[6, 4])\\nsns.boxplot(data=data, x=\\\"condition\\\", y=\\\"std_curvature\\\", ax=ax)\\nadd_stat_annotation(\\n    ax,\\n    data=data,\\n    x=\\\"condition\\\",\\n    y=\\\"std_curvature\\\",\\n    box_pairs=[\\n        (\\\"ctrl\\\", \\\"tp1\\\"),\\n        (\\\"ctrl\\\", \\\"tp2\\\"),\\n        (\\\"ctrl\\\", \\\"tp3\\\"),\\n        (\\\"tp1\\\", \\\"tp2\\\"),\\n        (\\\"tp1\\\", \\\"tp3\\\"),\\n        (\\\"tp2\\\", \\\"tp3\\\"),\\n    ],\\n    test=\\\"Mann-Whitney\\\",\\n    loc=\\\"inside\\\",\\n    verbose=0,\\n)\\nplt.show()\";\n",
       "                var nbb_formatted_code = \"fig, ax = plt.subplots(figsize=[6, 4])\\nsns.boxplot(data=data, x=\\\"condition\\\", y=\\\"std_curvature\\\", ax=ax)\\nadd_stat_annotation(\\n    ax,\\n    data=data,\\n    x=\\\"condition\\\",\\n    y=\\\"std_curvature\\\",\\n    box_pairs=[\\n        (\\\"ctrl\\\", \\\"tp1\\\"),\\n        (\\\"ctrl\\\", \\\"tp2\\\"),\\n        (\\\"ctrl\\\", \\\"tp3\\\"),\\n        (\\\"tp1\\\", \\\"tp2\\\"),\\n        (\\\"tp1\\\", \\\"tp3\\\"),\\n        (\\\"tp2\\\", \\\"tp3\\\"),\\n    ],\\n    test=\\\"Mann-Whitney\\\",\\n    loc=\\\"inside\\\",\\n    verbose=0,\\n)\\nplt.show()\";\n",
       "                var nbb_cells = Jupyter.notebook.get_cells();\n",
       "                for (var i = 0; i < nbb_cells.length; ++i) {\n",
       "                    if (nbb_cells[i].input_prompt_number == nbb_cell_id) {\n",
       "                        if (nbb_cells[i].get_text() == nbb_unformatted_code) {\n",
       "                             nbb_cells[i].set_text(nbb_formatted_code);\n",
       "                        }\n",
       "                        break;\n",
       "                    }\n",
       "                }\n",
       "            }, 500);\n",
       "            "
      ],
      "text/plain": [
       "<IPython.core.display.Javascript object>"
      ]
     },
     "metadata": {},
     "output_type": "display_data"
    }
   ],
   "source": [
    "fig, ax = plt.subplots(figsize=[6, 4])\n",
    "sns.boxplot(data=data, x=\"condition\", y=\"std_curvature\", ax=ax)\n",
    "add_stat_annotation(\n",
    "    ax,\n",
    "    data=data,\n",
    "    x=\"condition\",\n",
    "    y=\"std_curvature\",\n",
    "    box_pairs=[\n",
    "        (\"ctrl\", \"tp1\"),\n",
    "        (\"ctrl\", \"tp2\"),\n",
    "        (\"ctrl\", \"tp3\"),\n",
    "        (\"tp1\", \"tp2\"),\n",
    "        (\"tp1\", \"tp3\"),\n",
    "        (\"tp2\", \"tp3\"),\n",
    "    ],\n",
    "    test=\"Mann-Whitney\",\n",
    "    loc=\"inside\",\n",
    "    verbose=0,\n",
    ")\n",
    "plt.show()"
   ]
  },
  {
   "cell_type": "code",
   "execution_count": 25,
   "id": "individual-michigan",
   "metadata": {},
   "outputs": [
    {
     "data": {
      "text/plain": [
       "['min_calliper',\n",
       " 'max_calliper',\n",
       " 'smallest_largest_calliper',\n",
       " 'min_radius',\n",
       " 'max_radius',\n",
       " 'med_radius',\n",
       " 'avg_radius',\n",
       " 'mode_radius',\n",
       " 'd25_radius',\n",
       " 'd75_radius',\n",
       " 'std_radius',\n",
       " 'feret_max',\n",
       " 'area',\n",
       " 'perimeter',\n",
       " 'bbox_area',\n",
       " 'convex_area',\n",
       " 'equivalent_diameter',\n",
       " 'major_axis_length',\n",
       " 'minor_axis_length',\n",
       " 'eccentricity',\n",
       " 'concavity',\n",
       " 'solidity',\n",
       " 'a_r',\n",
       " 'shape_factor',\n",
       " 'area_bbarea',\n",
       " 'avg_curvature',\n",
       " 'std_curvature',\n",
       " 'npolarity_changes',\n",
       " 'max_posi_curv',\n",
       " 'avg_posi_curv',\n",
       " 'med_posi_curv',\n",
       " 'std_posi_curv',\n",
       " 'sum_posi_curv',\n",
       " 'len_posi_curv',\n",
       " 'max_neg_curv',\n",
       " 'avg_neg_curv',\n",
       " 'med_neg_curv',\n",
       " 'std_neg_curv',\n",
       " 'sum_neg_curv',\n",
       " 'len_neg_curv',\n",
       " 'num_prominant_pos_curv',\n",
       " 'prominance_prominant_pos_curv',\n",
       " 'width_prominant_pos_curv',\n",
       " 'prominant_pos_curv',\n",
       " 'num_prominant_neg_curv',\n",
       " 'frac_peri_w_posi_curvature',\n",
       " 'frac_peri_w_neg_curvature',\n",
       " 'frac_peri_w_polarity_changes',\n",
       " 'int_min',\n",
       " 'int_d25',\n",
       " 'int_median',\n",
       " 'int_d75',\n",
       " 'int_max',\n",
       " 'int_mean',\n",
       " 'int_mode',\n",
       " 'int_sd',\n",
       " 'kurtosis',\n",
       " 'skewness',\n",
       " 'entropy',\n",
       " 'i80_i20',\n",
       " 'nhigh_nlow',\n",
       " 'hc_area_ec_area',\n",
       " 'hc_area_nuc_area',\n",
       " 'hc_content_ec_content',\n",
       " 'hc_content_dna_content',\n",
       " 'contrast_5',\n",
       " 'contrast_25',\n",
       " 'contrast_100',\n",
       " 'dissimilarity_5',\n",
       " 'dissimilarity_25',\n",
       " 'dissimilarity_100',\n",
       " 'homogeneity_5',\n",
       " 'homogeneity_25',\n",
       " 'homogeneity_100',\n",
       " 'asm_5',\n",
       " 'asm_25',\n",
       " 'asm_100',\n",
       " 'energy_5',\n",
       " 'energy_25',\n",
       " 'energy_100',\n",
       " 'correlation_5',\n",
       " 'correlation_25',\n",
       " 'correlation_100',\n",
       " 'weighted_moments-0-0',\n",
       " 'weighted_moments-0-1',\n",
       " 'weighted_moments-0-2',\n",
       " 'weighted_moments-0-3',\n",
       " 'weighted_moments-1-0',\n",
       " 'weighted_moments-1-1',\n",
       " 'weighted_moments-1-2',\n",
       " 'weighted_moments-1-3',\n",
       " 'weighted_moments-2-0',\n",
       " 'weighted_moments-2-1',\n",
       " 'weighted_moments-2-2',\n",
       " 'weighted_moments-2-3',\n",
       " 'weighted_moments-3-0',\n",
       " 'weighted_moments-3-1',\n",
       " 'weighted_moments-3-2',\n",
       " 'weighted_moments-3-3',\n",
       " 'weighted_moments_normalized-0-2',\n",
       " 'weighted_moments_normalized-0-3',\n",
       " 'weighted_moments_normalized-1-1',\n",
       " 'weighted_moments_normalized-1-2',\n",
       " 'weighted_moments_normalized-1-3',\n",
       " 'weighted_moments_normalized-2-0',\n",
       " 'weighted_moments_normalized-2-1',\n",
       " 'weighted_moments_normalized-2-2',\n",
       " 'weighted_moments_normalized-2-3',\n",
       " 'weighted_moments_normalized-3-0',\n",
       " 'weighted_moments_normalized-3-1',\n",
       " 'weighted_moments_normalized-3-2',\n",
       " 'weighted_moments_normalized-3-3',\n",
       " 'weighted_moments_central-0-0',\n",
       " 'weighted_moments_central-0-1',\n",
       " 'weighted_moments_central-0-2',\n",
       " 'weighted_moments_central-0-3',\n",
       " 'weighted_moments_central-1-0',\n",
       " 'weighted_moments_central-1-1',\n",
       " 'weighted_moments_central-1-2',\n",
       " 'weighted_moments_central-1-3',\n",
       " 'weighted_moments_central-2-0',\n",
       " 'weighted_moments_central-2-1',\n",
       " 'weighted_moments_central-2-2',\n",
       " 'weighted_moments_central-2-3',\n",
       " 'weighted_moments_central-3-0',\n",
       " 'weighted_moments_central-3-1',\n",
       " 'weighted_moments_central-3-2',\n",
       " 'weighted_moments_central-3-3',\n",
       " 'weighted_moments_hu-0',\n",
       " 'weighted_moments_hu-1',\n",
       " 'weighted_moments_hu-2',\n",
       " 'weighted_moments_hu-3',\n",
       " 'weighted_moments_hu-4',\n",
       " 'weighted_moments_hu-5',\n",
       " 'weighted_moments_hu-6',\n",
       " 'moments-0-0',\n",
       " 'moments-0-1',\n",
       " 'moments-0-2',\n",
       " 'moments-0-3',\n",
       " 'moments-1-0',\n",
       " 'moments-1-1',\n",
       " 'moments-1-2',\n",
       " 'moments-1-3',\n",
       " 'moments-2-0',\n",
       " 'moments-2-1',\n",
       " 'moments-2-2',\n",
       " 'moments-2-3',\n",
       " 'moments-3-0',\n",
       " 'moments-3-1',\n",
       " 'moments-3-2',\n",
       " 'moments-3-3',\n",
       " 'moments_normalized-0-2',\n",
       " 'moments_normalized-0-3',\n",
       " 'moments_normalized-1-1',\n",
       " 'moments_normalized-1-2',\n",
       " 'moments_normalized-1-3',\n",
       " 'moments_normalized-2-0',\n",
       " 'moments_normalized-2-1',\n",
       " 'moments_normalized-2-2',\n",
       " 'moments_normalized-2-3',\n",
       " 'moments_normalized-3-0',\n",
       " 'moments_normalized-3-1',\n",
       " 'moments_normalized-3-2',\n",
       " 'moments_normalized-3-3',\n",
       " 'moments_central-0-0',\n",
       " 'moments_central-0-1',\n",
       " 'moments_central-0-2',\n",
       " 'moments_central-0-3',\n",
       " 'moments_central-1-0',\n",
       " 'moments_central-1-1',\n",
       " 'moments_central-1-2',\n",
       " 'moments_central-1-3',\n",
       " 'moments_central-2-0',\n",
       " 'moments_central-2-1',\n",
       " 'moments_central-2-2',\n",
       " 'moments_central-2-3',\n",
       " 'moments_central-3-0',\n",
       " 'moments_central-3-1',\n",
       " 'moments_central-3-2',\n",
       " 'moments_central-3-3',\n",
       " 'moments_hu-0',\n",
       " 'moments_hu-1',\n",
       " 'moments_hu-2',\n",
       " 'moments_hu-3',\n",
       " 'moments_hu-4',\n",
       " 'moments_hu-5',\n",
       " 'moments_hu-6',\n",
       " 'equivalent_diameter.1',\n",
       " 'extent',\n",
       " 'major_axis_length.1',\n",
       " 'minor_axis_length.1',\n",
       " 'solidity.1',\n",
       " 'nuclear_volume',\n",
       " 'convex_hull_vol',\n",
       " 'concavity_3d',\n",
       " 'rel_hc_volume',\n",
       " 'rel_ec_volume',\n",
       " 'hc_ec_ratio_3d',\n",
       " 'nuclear_mean_int',\n",
       " 'nuclear_std_int',\n",
       " 'rdp_1',\n",
       " 'rdp_2',\n",
       " 'rdp_3',\n",
       " 'rdp_4',\n",
       " 'rdp_5',\n",
       " 'rdp_6',\n",
       " 'rdp_7',\n",
       " 'rdp_8',\n",
       " 'rel_dna_3d_int',\n",
       " 'min_dna_3d_int',\n",
       " 'max_dna_3d_int',\n",
       " 'mean_dna_3d_int',\n",
       " 'std_dna_3d_int',\n",
       " 'q25_dna_3d_int',\n",
       " 'q75_dna_3d_int',\n",
       " 'median_dna_3d_int',\n",
       " 'kurtosis_dna_3d_int',\n",
       " 'skewness_dna_3d_int',\n",
       " 'rel_gh2ax_2d_int',\n",
       " 'min_gh2ax_2d_int',\n",
       " 'max_gh2ax_2d_int',\n",
       " 'mean_gh2ax_2d_int',\n",
       " 'std_gh2ax_2d_int',\n",
       " 'q25_gh2ax_2d_int',\n",
       " 'q75_gh2ax_2d_int',\n",
       " 'median_gh2ax_2d_int',\n",
       " 'kurtosis_gh2ax_2d_int',\n",
       " 'skewness_gh2ax_2d_int',\n",
       " 'rel_gh2ax_3d_int',\n",
       " 'min_gh2ax_3d_int',\n",
       " 'max_gh2ax_3d_int',\n",
       " 'mean_gh2ax_3d_int',\n",
       " 'std_gh2ax_3d_int',\n",
       " 'q25_gh2ax_3d_int',\n",
       " 'q75_gh2ax_3d_int',\n",
       " 'median_gh2ax_3d_int',\n",
       " 'kurtosis_gh2ax_3d_int',\n",
       " 'skewness_gh2ax_3d_int',\n",
       " 'rel_lamin_2d_int',\n",
       " 'min_lamin_2d_int',\n",
       " 'max_lamin_2d_int',\n",
       " 'mean_lamin_2d_int',\n",
       " 'std_lamin_2d_int',\n",
       " 'q25_lamin_2d_int',\n",
       " 'q75_lamin_2d_int',\n",
       " 'median_lamin_2d_int',\n",
       " 'kurtosis_lamin_2d_int',\n",
       " 'skewness_lamin_2d_int',\n",
       " 'rel_lamin_3d_int',\n",
       " 'max_lamin_3d_int',\n",
       " 'mean_lamin_3d_int',\n",
       " 'std_lamin_3d_int',\n",
       " 'q75_lamin_3d_int',\n",
       " 'median_lamin_3d_int',\n",
       " 'kurtosis_lamin_3d_int',\n",
       " 'skewness_lamin_3d_int',\n",
       " 'sample',\n",
       " 'condition']"
      ]
     },
     "execution_count": 25,
     "metadata": {},
     "output_type": "execute_result"
    },
    {
     "data": {
      "application/javascript": [
       "\n",
       "            setTimeout(function() {\n",
       "                var nbb_cell_id = 25;\n",
       "                var nbb_unformatted_code = \"list(data.columns)\";\n",
       "                var nbb_formatted_code = \"list(data.columns)\";\n",
       "                var nbb_cells = Jupyter.notebook.get_cells();\n",
       "                for (var i = 0; i < nbb_cells.length; ++i) {\n",
       "                    if (nbb_cells[i].input_prompt_number == nbb_cell_id) {\n",
       "                        if (nbb_cells[i].get_text() == nbb_unformatted_code) {\n",
       "                             nbb_cells[i].set_text(nbb_formatted_code);\n",
       "                        }\n",
       "                        break;\n",
       "                    }\n",
       "                }\n",
       "            }, 500);\n",
       "            "
      ],
      "text/plain": [
       "<IPython.core.display.Javascript object>"
      ]
     },
     "metadata": {},
     "output_type": "display_data"
    }
   ],
   "source": [
    "list(data.columns)"
   ]
  },
  {
   "cell_type": "code",
   "execution_count": 26,
   "id": "golden-anniversary",
   "metadata": {},
   "outputs": [
    {
     "data": {
      "image/png": "[encoded data removed]",
      "text/plain": [
       "<Figure size 432x288 with 1 Axes>"
      ]
     },
     "metadata": {
      "needs_background": "light"
     },
     "output_type": "display_data"
    },
    {
     "data": {
      "application/javascript": [
       "\n",
       "            setTimeout(function() {\n",
       "                var nbb_cell_id = 26;\n",
       "                var nbb_unformatted_code = \"fig, ax = plt.subplots(figsize=[6, 4])\\nsns.boxplot(data=data, x=\\\"condition\\\", y=\\\"area\\\", ax=ax)\\nadd_stat_annotation(\\n    ax,\\n    data=data,\\n    x=\\\"condition\\\",\\n    y=\\\"area\\\",\\n    box_pairs=[\\n        (\\\"ctrl\\\", \\\"tp1\\\"),\\n        (\\\"ctrl\\\", \\\"tp2\\\"),\\n        (\\\"ctrl\\\", \\\"tp3\\\"),\\n        (\\\"tp1\\\", \\\"tp2\\\"),\\n        (\\\"tp1\\\", \\\"tp3\\\"),\\n        (\\\"tp2\\\", \\\"tp3\\\"),\\n    ],\\n    test=\\\"Mann-Whitney\\\",\\n    loc=\\\"inside\\\",\\n    verbose=0,\\n)\\nplt.show()\";\n",
       "                var nbb_formatted_code = \"fig, ax = plt.subplots(figsize=[6, 4])\\nsns.boxplot(data=data, x=\\\"condition\\\", y=\\\"area\\\", ax=ax)\\nadd_stat_annotation(\\n    ax,\\n    data=data,\\n    x=\\\"condition\\\",\\n    y=\\\"area\\\",\\n    box_pairs=[\\n        (\\\"ctrl\\\", \\\"tp1\\\"),\\n        (\\\"ctrl\\\", \\\"tp2\\\"),\\n        (\\\"ctrl\\\", \\\"tp3\\\"),\\n        (\\\"tp1\\\", \\\"tp2\\\"),\\n        (\\\"tp1\\\", \\\"tp3\\\"),\\n        (\\\"tp2\\\", \\\"tp3\\\"),\\n    ],\\n    test=\\\"Mann-Whitney\\\",\\n    loc=\\\"inside\\\",\\n    verbose=0,\\n)\\nplt.show()\";\n",
       "                var nbb_cells = Jupyter.notebook.get_cells();\n",
       "                for (var i = 0; i < nbb_cells.length; ++i) {\n",
       "                    if (nbb_cells[i].input_prompt_number == nbb_cell_id) {\n",
       "                        if (nbb_cells[i].get_text() == nbb_unformatted_code) {\n",
       "                             nbb_cells[i].set_text(nbb_formatted_code);\n",
       "                        }\n",
       "                        break;\n",
       "                    }\n",
       "                }\n",
       "            }, 500);\n",
       "            "
      ],
      "text/plain": [
       "<IPython.core.display.Javascript object>"
      ]
     },
     "metadata": {},
     "output_type": "display_data"
    }
   ],
   "source": [
    "fig, ax = plt.subplots(figsize=[6, 4])\n",
    "sns.boxplot(data=data, x=\"condition\", y=\"area\", ax=ax)\n",
    "add_stat_annotation(\n",
    "    ax,\n",
    "    data=data,\n",
    "    x=\"condition\",\n",
    "    y=\"area\",\n",
    "    box_pairs=[\n",
    "        (\"ctrl\", \"tp1\"),\n",
    "        (\"ctrl\", \"tp2\"),\n",
    "        (\"ctrl\", \"tp3\"),\n",
    "        (\"tp1\", \"tp2\"),\n",
    "        (\"tp1\", \"tp3\"),\n",
    "        (\"tp2\", \"tp3\"),\n",
    "    ],\n",
    "    test=\"Mann-Whitney\",\n",
    "    loc=\"inside\",\n",
    "    verbose=0,\n",
    ")\n",
    "plt.show()"
   ]
  },
  {
   "cell_type": "code",
   "execution_count": 27,
   "id": "infectious-zambia",
   "metadata": {},
   "outputs": [
    {
     "data": {
      "image/png": "[encoded data removed]",
      "text/plain": [
       "<Figure size 432x288 with 1 Axes>"
      ]
     },
     "metadata": {
      "needs_background": "light"
     },
     "output_type": "display_data"
    },
    {
     "data": {
      "application/javascript": [
       "\n",
       "            setTimeout(function() {\n",
       "                var nbb_cell_id = 27;\n",
       "                var nbb_unformatted_code = \"fig, ax = plt.subplots(figsize=[6, 4])\\nsns.boxplot(data=data, x=\\\"condition\\\", y=\\\"med_radius\\\", ax=ax)\\nadd_stat_annotation(\\n    ax,\\n    data=data,\\n    x=\\\"condition\\\",\\n    y=\\\"med_radius\\\",\\n    box_pairs=[\\n        (\\\"ctrl\\\", \\\"tp1\\\"),\\n        (\\\"ctrl\\\", \\\"tp2\\\"),\\n        (\\\"ctrl\\\", \\\"tp3\\\"),\\n        (\\\"tp1\\\", \\\"tp2\\\"),\\n        (\\\"tp1\\\", \\\"tp3\\\"),\\n        (\\\"tp2\\\", \\\"tp3\\\"),\\n    ],\\n    test=\\\"Mann-Whitney\\\",\\n    loc=\\\"inside\\\",\\n    verbose=0,\\n)\\nplt.show()\";\n",
       "                var nbb_formatted_code = \"fig, ax = plt.subplots(figsize=[6, 4])\\nsns.boxplot(data=data, x=\\\"condition\\\", y=\\\"med_radius\\\", ax=ax)\\nadd_stat_annotation(\\n    ax,\\n    data=data,\\n    x=\\\"condition\\\",\\n    y=\\\"med_radius\\\",\\n    box_pairs=[\\n        (\\\"ctrl\\\", \\\"tp1\\\"),\\n        (\\\"ctrl\\\", \\\"tp2\\\"),\\n        (\\\"ctrl\\\", \\\"tp3\\\"),\\n        (\\\"tp1\\\", \\\"tp2\\\"),\\n        (\\\"tp1\\\", \\\"tp3\\\"),\\n        (\\\"tp2\\\", \\\"tp3\\\"),\\n    ],\\n    test=\\\"Mann-Whitney\\\",\\n    loc=\\\"inside\\\",\\n    verbose=0,\\n)\\nplt.show()\";\n",
       "                var nbb_cells = Jupyter.notebook.get_cells();\n",
       "                for (var i = 0; i < nbb_cells.length; ++i) {\n",
       "                    if (nbb_cells[i].input_prompt_number == nbb_cell_id) {\n",
       "                        if (nbb_cells[i].get_text() == nbb_unformatted_code) {\n",
       "                             nbb_cells[i].set_text(nbb_formatted_code);\n",
       "                        }\n",
       "                        break;\n",
       "                    }\n",
       "                }\n",
       "            }, 500);\n",
       "            "
      ],
      "text/plain": [
       "<IPython.core.display.Javascript object>"
      ]
     },
     "metadata": {},
     "output_type": "display_data"
    }
   ],
   "source": [
    "fig, ax = plt.subplots(figsize=[6, 4])\n",
    "sns.boxplot(data=data, x=\"condition\", y=\"med_radius\", ax=ax)\n",
    "add_stat_annotation(\n",
    "    ax,\n",
    "    data=data,\n",
    "    x=\"condition\",\n",
    "    y=\"med_radius\",\n",
    "    box_pairs=[\n",
    "        (\"ctrl\", \"tp1\"),\n",
    "        (\"ctrl\", \"tp2\"),\n",
    "        (\"ctrl\", \"tp3\"),\n",
    "        (\"tp1\", \"tp2\"),\n",
    "        (\"tp1\", \"tp3\"),\n",
    "        (\"tp2\", \"tp3\"),\n",
    "    ],\n",
    "    test=\"Mann-Whitney\",\n",
    "    loc=\"inside\",\n",
    "    verbose=0,\n",
    ")\n",
    "plt.show()"
   ]
  },
  {
   "cell_type": "code",
   "execution_count": 28,
   "id": "unusual-sculpture",
   "metadata": {},
   "outputs": [
    {
     "data": {
      "image/png": "[encoded data removed]",
      "text/plain": [
       "<Figure size 432x288 with 1 Axes>"
      ]
     },
     "metadata": {
      "needs_background": "light"
     },
     "output_type": "display_data"
    },
    {
     "data": {
      "application/javascript": [
       "\n",
       "            setTimeout(function() {\n",
       "                var nbb_cell_id = 28;\n",
       "                var nbb_unformatted_code = \"fig, ax = plt.subplots(figsize=[6, 4])\\nsns.boxplot(data=data, x=\\\"condition\\\", y=\\\"concavity_3d\\\", ax=ax)\\nadd_stat_annotation(\\n    ax,\\n    data=data,\\n    x=\\\"condition\\\",\\n    y=\\\"concavity_3d\\\",\\n    box_pairs=[\\n        (\\\"ctrl\\\", \\\"tp1\\\"),\\n        (\\\"ctrl\\\", \\\"tp2\\\"),\\n        (\\\"ctrl\\\", \\\"tp3\\\"),\\n        (\\\"tp1\\\", \\\"tp2\\\"),\\n        (\\\"tp1\\\", \\\"tp3\\\"),\\n        (\\\"tp2\\\", \\\"tp3\\\"),\\n    ],\\n    test=\\\"Mann-Whitney\\\",\\n    loc=\\\"inside\\\",\\n    verbose=0,\\n)\\nplt.show()\";\n",
       "                var nbb_formatted_code = \"fig, ax = plt.subplots(figsize=[6, 4])\\nsns.boxplot(data=data, x=\\\"condition\\\", y=\\\"concavity_3d\\\", ax=ax)\\nadd_stat_annotation(\\n    ax,\\n    data=data,\\n    x=\\\"condition\\\",\\n    y=\\\"concavity_3d\\\",\\n    box_pairs=[\\n        (\\\"ctrl\\\", \\\"tp1\\\"),\\n        (\\\"ctrl\\\", \\\"tp2\\\"),\\n        (\\\"ctrl\\\", \\\"tp3\\\"),\\n        (\\\"tp1\\\", \\\"tp2\\\"),\\n        (\\\"tp1\\\", \\\"tp3\\\"),\\n        (\\\"tp2\\\", \\\"tp3\\\"),\\n    ],\\n    test=\\\"Mann-Whitney\\\",\\n    loc=\\\"inside\\\",\\n    verbose=0,\\n)\\nplt.show()\";\n",
       "                var nbb_cells = Jupyter.notebook.get_cells();\n",
       "                for (var i = 0; i < nbb_cells.length; ++i) {\n",
       "                    if (nbb_cells[i].input_prompt_number == nbb_cell_id) {\n",
       "                        if (nbb_cells[i].get_text() == nbb_unformatted_code) {\n",
       "                             nbb_cells[i].set_text(nbb_formatted_code);\n",
       "                        }\n",
       "                        break;\n",
       "                    }\n",
       "                }\n",
       "            }, 500);\n",
       "            "
      ],
      "text/plain": [
       "<IPython.core.display.Javascript object>"
      ]
     },
     "metadata": {},
     "output_type": "display_data"
    }
   ],
   "source": [
    "fig, ax = plt.subplots(figsize=[6, 4])\n",
    "sns.boxplot(data=data, x=\"condition\", y=\"concavity_3d\", ax=ax)\n",
    "add_stat_annotation(\n",
    "    ax,\n",
    "    data=data,\n",
    "    x=\"condition\",\n",
    "    y=\"concavity_3d\",\n",
    "    box_pairs=[\n",
    "        (\"ctrl\", \"tp1\"),\n",
    "        (\"ctrl\", \"tp2\"),\n",
    "        (\"ctrl\", \"tp3\"),\n",
    "        (\"tp1\", \"tp2\"),\n",
    "        (\"tp1\", \"tp3\"),\n",
    "        (\"tp2\", \"tp3\"),\n",
    "    ],\n",
    "    test=\"Mann-Whitney\",\n",
    "    loc=\"inside\",\n",
    "    verbose=0,\n",
    ")\n",
    "plt.show()"
   ]
  },
  {
   "cell_type": "code",
   "execution_count": 29,
   "id": "jewish-helen",
   "metadata": {},
   "outputs": [
    {
     "data": {
      "image/png": "[encoded data removed]",
      "text/plain": [
       "<Figure size 432x432 with 1 Axes>"
      ]
     },
     "metadata": {
      "needs_background": "light"
     },
     "output_type": "display_data"
    },
    {
     "data": {
      "application/javascript": [
       "\n",
       "            setTimeout(function() {\n",
       "                var nbb_cell_id = 29;\n",
       "                var nbb_unformatted_code = \"fig, ax = plt.subplots(figsize=[6, 6])\\nsns.boxplot(data=data, x=\\\"condition\\\", y=\\\"rel_gh2ax_3d_int\\\", ax=ax)\\nax.set_ylim([0, 20000])\\nadd_stat_annotation(\\n    ax,\\n    data=data,\\n    x=\\\"condition\\\",\\n    y=\\\"rel_gh2ax_3d_int\\\",\\n    box_pairs=[\\n        (\\\"ctrl\\\", \\\"tp1\\\"),\\n        (\\\"ctrl\\\", \\\"tp2\\\"),\\n        (\\\"ctrl\\\", \\\"tp3\\\"),\\n        (\\\"tp1\\\", \\\"tp2\\\"),\\n        (\\\"tp1\\\", \\\"tp3\\\"),\\n        (\\\"tp2\\\", \\\"tp3\\\"),\\n    ],\\n    test=\\\"Mann-Whitney\\\",\\n    loc=\\\"outside\\\",\\n    verbose=0,\\n)\\nplt.show()\";\n",
       "                var nbb_formatted_code = \"fig, ax = plt.subplots(figsize=[6, 6])\\nsns.boxplot(data=data, x=\\\"condition\\\", y=\\\"rel_gh2ax_3d_int\\\", ax=ax)\\nax.set_ylim([0, 20000])\\nadd_stat_annotation(\\n    ax,\\n    data=data,\\n    x=\\\"condition\\\",\\n    y=\\\"rel_gh2ax_3d_int\\\",\\n    box_pairs=[\\n        (\\\"ctrl\\\", \\\"tp1\\\"),\\n        (\\\"ctrl\\\", \\\"tp2\\\"),\\n        (\\\"ctrl\\\", \\\"tp3\\\"),\\n        (\\\"tp1\\\", \\\"tp2\\\"),\\n        (\\\"tp1\\\", \\\"tp3\\\"),\\n        (\\\"tp2\\\", \\\"tp3\\\"),\\n    ],\\n    test=\\\"Mann-Whitney\\\",\\n    loc=\\\"outside\\\",\\n    verbose=0,\\n)\\nplt.show()\";\n",
       "                var nbb_cells = Jupyter.notebook.get_cells();\n",
       "                for (var i = 0; i < nbb_cells.length; ++i) {\n",
       "                    if (nbb_cells[i].input_prompt_number == nbb_cell_id) {\n",
       "                        if (nbb_cells[i].get_text() == nbb_unformatted_code) {\n",
       "                             nbb_cells[i].set_text(nbb_formatted_code);\n",
       "                        }\n",
       "                        break;\n",
       "                    }\n",
       "                }\n",
       "            }, 500);\n",
       "            "
      ],
      "text/plain": [
       "<IPython.core.display.Javascript object>"
      ]
     },
     "metadata": {},
     "output_type": "display_data"
    }
   ],
   "source": [
    "fig, ax = plt.subplots(figsize=[6, 6])\n",
    "sns.boxplot(data=data, x=\"condition\", y=\"rel_gh2ax_3d_int\", ax=ax)\n",
    "ax.set_ylim([0, 20000])\n",
    "add_stat_annotation(\n",
    "    ax,\n",
    "    data=data,\n",
    "    x=\"condition\",\n",
    "    y=\"rel_gh2ax_3d_int\",\n",
    "    box_pairs=[\n",
    "        (\"ctrl\", \"tp1\"),\n",
    "        (\"ctrl\", \"tp2\"),\n",
    "        (\"ctrl\", \"tp3\"),\n",
    "        (\"tp1\", \"tp2\"),\n",
    "        (\"tp1\", \"tp3\"),\n",
    "        (\"tp2\", \"tp3\"),\n",
    "    ],\n",
    "    test=\"Mann-Whitney\",\n",
    "    loc=\"outside\",\n",
    "    verbose=0,\n",
    ")\n",
    "plt.show()"
   ]
  },
  {
   "cell_type": "code",
   "execution_count": 30,
   "id": "precious-speech",
   "metadata": {},
   "outputs": [
    {
     "data": {
      "image/png": "[encoded data removed]",
      "text/plain": [
       "<Figure size 432x288 with 1 Axes>"
      ]
     },
     "metadata": {
      "needs_background": "light"
     },
     "output_type": "display_data"
    },
    {
     "data": {
      "application/javascript": [
       "\n",
       "            setTimeout(function() {\n",
       "                var nbb_cell_id = 30;\n",
       "                var nbb_unformatted_code = \"fig, ax = plt.subplots(figsize=[6, 4])\\nsns.boxplot(data=data, x=\\\"condition\\\", y=\\\"rel_lamin_3d_int\\\", ax=ax)\\nax.set_ylim([0, 3000])\\nadd_stat_annotation(\\n    ax,\\n    data=data,\\n    x=\\\"condition\\\",\\n    y=\\\"rel_lamin_3d_int\\\",\\n    box_pairs=[\\n        (\\\"ctrl\\\", \\\"tp1\\\"),\\n        (\\\"ctrl\\\", \\\"tp2\\\"),\\n        (\\\"ctrl\\\", \\\"tp3\\\"),\\n        (\\\"tp1\\\", \\\"tp2\\\"),\\n        (\\\"tp1\\\", \\\"tp3\\\"),\\n        (\\\"tp2\\\", \\\"tp3\\\"),\\n    ],\\n    test=\\\"Mann-Whitney\\\",\\n    loc=\\\"outside\\\",\\n    verbose=0,\\n)\\nplt.show()\";\n",
       "                var nbb_formatted_code = \"fig, ax = plt.subplots(figsize=[6, 4])\\nsns.boxplot(data=data, x=\\\"condition\\\", y=\\\"rel_lamin_3d_int\\\", ax=ax)\\nax.set_ylim([0, 3000])\\nadd_stat_annotation(\\n    ax,\\n    data=data,\\n    x=\\\"condition\\\",\\n    y=\\\"rel_lamin_3d_int\\\",\\n    box_pairs=[\\n        (\\\"ctrl\\\", \\\"tp1\\\"),\\n        (\\\"ctrl\\\", \\\"tp2\\\"),\\n        (\\\"ctrl\\\", \\\"tp3\\\"),\\n        (\\\"tp1\\\", \\\"tp2\\\"),\\n        (\\\"tp1\\\", \\\"tp3\\\"),\\n        (\\\"tp2\\\", \\\"tp3\\\"),\\n    ],\\n    test=\\\"Mann-Whitney\\\",\\n    loc=\\\"outside\\\",\\n    verbose=0,\\n)\\nplt.show()\";\n",
       "                var nbb_cells = Jupyter.notebook.get_cells();\n",
       "                for (var i = 0; i < nbb_cells.length; ++i) {\n",
       "                    if (nbb_cells[i].input_prompt_number == nbb_cell_id) {\n",
       "                        if (nbb_cells[i].get_text() == nbb_unformatted_code) {\n",
       "                             nbb_cells[i].set_text(nbb_formatted_code);\n",
       "                        }\n",
       "                        break;\n",
       "                    }\n",
       "                }\n",
       "            }, 500);\n",
       "            "
      ],
      "text/plain": [
       "<IPython.core.display.Javascript object>"
      ]
     },
     "metadata": {},
     "output_type": "display_data"
    }
   ],
   "source": [
    "fig, ax = plt.subplots(figsize=[6, 4])\n",
    "sns.boxplot(data=data, x=\"condition\", y=\"rel_lamin_3d_int\", ax=ax)\n",
    "ax.set_ylim([0, 3000])\n",
    "add_stat_annotation(\n",
    "    ax,\n",
    "    data=data,\n",
    "    x=\"condition\",\n",
    "    y=\"rel_lamin_3d_int\",\n",
    "    box_pairs=[\n",
    "        (\"ctrl\", \"tp1\"),\n",
    "        (\"ctrl\", \"tp2\"),\n",
    "        (\"ctrl\", \"tp3\"),\n",
    "        (\"tp1\", \"tp2\"),\n",
    "        (\"tp1\", \"tp3\"),\n",
    "        (\"tp2\", \"tp3\"),\n",
    "    ],\n",
    "    test=\"Mann-Whitney\",\n",
    "    loc=\"outside\",\n",
    "    verbose=0,\n",
    ")\n",
    "plt.show()"
   ]
  },
  {
   "cell_type": "code",
   "execution_count": null,
   "id": "honest-plastic",
   "metadata": {},
   "outputs": [],
   "source": []
  },
  {
   "cell_type": "code",
   "execution_count": null,
   "id": "disturbed-convert",
   "metadata": {},
   "outputs": [],
   "source": []
  }
 ],
 "metadata": {
  "kernelspec": {
   "display_name": "Python 3",
   "language": "python",
   "name": "python3"
  },
  "language_info": {
   "codemirror_mode": {
    "name": "ipython",
    "version": 3
   },
   "file_extension": ".py",
   "mimetype": "text/x-python",
   "name": "python",
   "nbconvert_exporter": "python",
   "pygments_lexer": "ipython3",
   "version": "3.8.8"
  }
 },
 "nbformat": 4,
 "nbformat_minor": 5
}
