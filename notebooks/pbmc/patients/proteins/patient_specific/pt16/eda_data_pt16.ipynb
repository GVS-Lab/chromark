{
 "cells": [
  {
   "cell_type": "markdown",
   "id": "eight-british",
   "metadata": {},
   "source": [
    "# Exploratory data analysis of the data from patient 16\n",
    "\n",
    "---\n",
    "\n",
    "In this notebook we will analyze PBMC data set from patient 16 obtained from blood samples taken at 3 different time points before, during and after the proton therapy treatment. The treatment takes approximately 6 weeks with multiple sessions.\n",
    "\n",
    "The patient is 37 year old female that has Glioma. At each time point 10ml blood were taken and the PBMCs were purifried, stained with DAPI, gH2AX and Lamin A/C and imaged with 16bit at a resolution of 0.09 micron in x-y direction, respectively 0.5 micron in z-direction. Each FoV is of the size of (1024x1024x40) pixels.\n",
    "\n",
    "The data will be compared with a control data set of PBMCs purified from blood of 10 healthy volunteers of varying sex and age (24-60). In this analyses we will use features extracted that describe the nuclear morphology and chromatin organization in 2D/3D and the gH2AX and Lamin A/C expression.\n",
    "\n",
    "---"
   ]
  },
  {
   "cell_type": "markdown",
   "id": "south-video",
   "metadata": {},
   "source": [
    "## 0. Environmental setup"
   ]
  },
  {
   "cell_type": "markdown",
   "id": "liquid-puzzle",
   "metadata": {},
   "source": [
    "First, we load the required libraries and define functions, that we will use later on for the analyses."
   ]
  },
  {
   "cell_type": "code",
   "execution_count": 3,
   "id": "forward-newcastle",
   "metadata": {},
   "outputs": [
    {
     "data": {
      "application/javascript": [
       "\n",
       "            setTimeout(function() {\n",
       "                var nbb_cell_id = 3;\n",
       "                var nbb_unformatted_code = \"import pandas as pd\\nimport numpy as np\\nimport seaborn as sns\\nimport random\\nimport os\\nimport matplotlib.pyplot as plt\\nimport tifffile\\nfrom sklearn.manifold import TSNE\\nfrom sklearn.preprocessing import StandardScaler, LabelEncoder\\nfrom sklearn.ensemble import RandomForestClassifier\\nfrom sklearn.model_selection import cross_validate, StratifiedKFold\\nfrom sklearn.metrics import confusion_matrix\\nfrom sklearn.metrics import auc\\nfrom sklearn.metrics import plot_roc_curve\\nfrom sklearn.metrics import roc_curve, roc_auc_score, RocCurveDisplay\\nfrom tqdm import tqdm\\nfrom statsmodels.stats.outliers_influence import variance_inflation_factor\\nfrom statannot import add_stat_annotation\\n\\nimport sys\\nimport cv2 as cv\\n\\nsys.path.append(\\\"../../../../..\\\")\\nfrom src.utils.notebooks.eda import *\\n\\nseed = 1234\\nrandom.seed(1234)\\nnp.random.seed(1234)\\n\\n%load_ext nb_black\";\n",
       "                var nbb_formatted_code = \"import pandas as pd\\nimport numpy as np\\nimport seaborn as sns\\nimport random\\nimport os\\nimport matplotlib.pyplot as plt\\nimport tifffile\\nfrom sklearn.manifold import TSNE\\nfrom sklearn.preprocessing import StandardScaler, LabelEncoder\\nfrom sklearn.ensemble import RandomForestClassifier\\nfrom sklearn.model_selection import cross_validate, StratifiedKFold\\nfrom sklearn.metrics import confusion_matrix\\nfrom sklearn.metrics import auc\\nfrom sklearn.metrics import plot_roc_curve\\nfrom sklearn.metrics import roc_curve, roc_auc_score, RocCurveDisplay\\nfrom tqdm import tqdm\\nfrom statsmodels.stats.outliers_influence import variance_inflation_factor\\nfrom statannot import add_stat_annotation\\n\\nimport sys\\nimport cv2 as cv\\n\\nsys.path.append(\\\"../../../../..\\\")\\nfrom src.utils.notebooks.eda import *\\n\\nseed = 1234\\nrandom.seed(1234)\\nnp.random.seed(1234)\\n\\n%load_ext nb_black\";\n",
       "                var nbb_cells = Jupyter.notebook.get_cells();\n",
       "                for (var i = 0; i < nbb_cells.length; ++i) {\n",
       "                    if (nbb_cells[i].input_prompt_number == nbb_cell_id) {\n",
       "                        if (nbb_cells[i].get_text() == nbb_unformatted_code) {\n",
       "                             nbb_cells[i].set_text(nbb_formatted_code);\n",
       "                        }\n",
       "                        break;\n",
       "                    }\n",
       "                }\n",
       "            }, 500);\n",
       "            "
      ],
      "text/plain": [
       "<IPython.core.display.Javascript object>"
      ]
     },
     "metadata": {},
     "output_type": "display_data"
    }
   ],
   "source": [
    "import pandas as pd\n",
    "import numpy as np\n",
    "import seaborn as sns\n",
    "import random\n",
    "import os\n",
    "import matplotlib.pyplot as plt\n",
    "import tifffile\n",
    "from sklearn.manifold import TSNE\n",
    "from sklearn.preprocessing import StandardScaler, LabelEncoder\n",
    "from sklearn.ensemble import RandomForestClassifier\n",
    "from sklearn.model_selection import cross_validate, StratifiedKFold\n",
    "from sklearn.metrics import confusion_matrix\n",
    "from sklearn.metrics import auc\n",
    "from sklearn.metrics import plot_roc_curve\n",
    "from sklearn.metrics import roc_curve, roc_auc_score, RocCurveDisplay\n",
    "from tqdm import tqdm\n",
    "from statsmodels.stats.outliers_influence import variance_inflation_factor\n",
    "from statannot import add_stat_annotation\n",
    "\n",
    "import sys\n",
    "import cv2 as cv\n",
    "\n",
    "sys.path.append(\"../../../../..\")\n",
    "from src.utils.notebooks.eda import *\n",
    "\n",
    "seed = 1234\n",
    "random.seed(1234)\n",
    "np.random.seed(1234)\n",
    "\n",
    "%load_ext nb_black"
   ]
  },
  {
   "cell_type": "markdown",
   "id": "acknowledged-ghana",
   "metadata": {},
   "source": [
    "---\n",
    "\n",
    "## 1. Read in data\n",
    "\n",
    "Next, we read in the data sets that describe the PBMC population of the healthy controls as well as of patient 17 at the different time points over the course of the treatment."
   ]
  },
  {
   "cell_type": "code",
   "execution_count": 4,
   "id": "adapted-adjustment",
   "metadata": {},
   "outputs": [
    {
     "data": {
      "application/javascript": [
       "\n",
       "            setTimeout(function() {\n",
       "                var nbb_cell_id = 4;\n",
       "                var nbb_unformatted_code = \"hv_basedir = \\\"../../../../../data/pbmc_hv/proteins/\\\"\\nhv_subdirs = [f.path for f in os.scandir(hv_basedir) if f.is_dir()]\\nhv_datas = []\\nfor hv_subdir in hv_subdirs:\\n    sample = os.path.split(hv_subdir)[1].split(\\\"_\\\")[0].lower()\\n    hv_datas.append(\\n        read_in_data(\\n            feature_file_path=hv_subdir\\n            + \\\"/preprocessed/full_pipeline/nuclear_features.csv\\\",\\n            qc_file_path=hv_subdir\\n            + \\\"/preprocessed/full_pipeline/segmentation/qc_results.csv\\\",\\n            sample=sample,\\n        )\\n    )\\nhv_data = hv_datas[0].copy()\\nfor i in range(1, len(hv_datas)):\\n    hv_data = hv_data.append(hv_datas[i])\\nhv_data[\\\"condition\\\"] = \\\"ctrl\\\"\";\n",
       "                var nbb_formatted_code = \"hv_basedir = \\\"../../../../../data/pbmc_hv/proteins/\\\"\\nhv_subdirs = [f.path for f in os.scandir(hv_basedir) if f.is_dir()]\\nhv_datas = []\\nfor hv_subdir in hv_subdirs:\\n    sample = os.path.split(hv_subdir)[1].split(\\\"_\\\")[0].lower()\\n    hv_datas.append(\\n        read_in_data(\\n            feature_file_path=hv_subdir\\n            + \\\"/preprocessed/full_pipeline/nuclear_features.csv\\\",\\n            qc_file_path=hv_subdir\\n            + \\\"/preprocessed/full_pipeline/segmentation/qc_results.csv\\\",\\n            sample=sample,\\n        )\\n    )\\nhv_data = hv_datas[0].copy()\\nfor i in range(1, len(hv_datas)):\\n    hv_data = hv_data.append(hv_datas[i])\\nhv_data[\\\"condition\\\"] = \\\"ctrl\\\"\";\n",
       "                var nbb_cells = Jupyter.notebook.get_cells();\n",
       "                for (var i = 0; i < nbb_cells.length; ++i) {\n",
       "                    if (nbb_cells[i].input_prompt_number == nbb_cell_id) {\n",
       "                        if (nbb_cells[i].get_text() == nbb_unformatted_code) {\n",
       "                             nbb_cells[i].set_text(nbb_formatted_code);\n",
       "                        }\n",
       "                        break;\n",
       "                    }\n",
       "                }\n",
       "            }, 500);\n",
       "            "
      ],
      "text/plain": [
       "<IPython.core.display.Javascript object>"
      ]
     },
     "metadata": {},
     "output_type": "display_data"
    }
   ],
   "source": [
    "hv_basedir = \"../../../../../data/pbmc_hv/proteins/\"\n",
    "hv_subdirs = [f.path for f in os.scandir(hv_basedir) if f.is_dir()]\n",
    "hv_datas = []\n",
    "for hv_subdir in hv_subdirs:\n",
    "    sample = os.path.split(hv_subdir)[1].split(\"_\")[0].lower()\n",
    "    hv_datas.append(\n",
    "        read_in_data(\n",
    "            feature_file_path=hv_subdir\n",
    "            + \"/preprocessed/full_pipeline/nuclear_features.csv\",\n",
    "            qc_file_path=hv_subdir\n",
    "            + \"/preprocessed/full_pipeline/segmentation/qc_results.csv\",\n",
    "            sample=sample,\n",
    "        )\n",
    "    )\n",
    "hv_data = hv_datas[0].copy()\n",
    "for i in range(1, len(hv_datas)):\n",
    "    hv_data = hv_data.append(hv_datas[i])\n",
    "hv_data[\"condition\"] = \"ctrl\""
   ]
  },
  {
   "cell_type": "code",
   "execution_count": 5,
   "id": "touched-lunch",
   "metadata": {},
   "outputs": [
    {
     "data": {
      "application/javascript": [
       "\n",
       "            setTimeout(function() {\n",
       "                var nbb_cell_id = 5;\n",
       "                var nbb_unformatted_code = \"p16_1_basedir = \\\"../../../../../data/pbmc_pt/proteins/timepoint_1/P16_1_PBMCs_Dapi_gH2AX_Lamin_19_08_21_2X_16bit_poly\\\"\\np16_1_data = read_in_data(\\n    feature_file_path=p16_1_basedir\\n    + \\\"/preprocessed/full_pipeline/nuclear_features.csv\\\",\\n    qc_file_path=p16_1_basedir\\n    + \\\"/preprocessed/full_pipeline/segmentation/qc_results.csv\\\",\\n    sample=\\\"p16_1\\\",\\n)\\np16_1_data[\\\"condition\\\"] = \\\"tp1\\\"\";\n",
       "                var nbb_formatted_code = \"p16_1_basedir = \\\"../../../../../data/pbmc_pt/proteins/timepoint_1/P16_1_PBMCs_Dapi_gH2AX_Lamin_19_08_21_2X_16bit_poly\\\"\\np16_1_data = read_in_data(\\n    feature_file_path=p16_1_basedir\\n    + \\\"/preprocessed/full_pipeline/nuclear_features.csv\\\",\\n    qc_file_path=p16_1_basedir\\n    + \\\"/preprocessed/full_pipeline/segmentation/qc_results.csv\\\",\\n    sample=\\\"p16_1\\\",\\n)\\np16_1_data[\\\"condition\\\"] = \\\"tp1\\\"\";\n",
       "                var nbb_cells = Jupyter.notebook.get_cells();\n",
       "                for (var i = 0; i < nbb_cells.length; ++i) {\n",
       "                    if (nbb_cells[i].input_prompt_number == nbb_cell_id) {\n",
       "                        if (nbb_cells[i].get_text() == nbb_unformatted_code) {\n",
       "                             nbb_cells[i].set_text(nbb_formatted_code);\n",
       "                        }\n",
       "                        break;\n",
       "                    }\n",
       "                }\n",
       "            }, 500);\n",
       "            "
      ],
      "text/plain": [
       "<IPython.core.display.Javascript object>"
      ]
     },
     "metadata": {},
     "output_type": "display_data"
    }
   ],
   "source": [
    "p16_1_basedir = \"../../../../../data/pbmc_pt/proteins/timepoint_1/P16_1_PBMCs_Dapi_gH2AX_Lamin_19_08_21_2X_16bit_poly\"\n",
    "p16_1_data = read_in_data(\n",
    "    feature_file_path=p16_1_basedir\n",
    "    + \"/preprocessed/full_pipeline/nuclear_features.csv\",\n",
    "    qc_file_path=p16_1_basedir\n",
    "    + \"/preprocessed/full_pipeline/segmentation/qc_results.csv\",\n",
    "    sample=\"p16_1\",\n",
    ")\n",
    "p16_1_data[\"condition\"] = \"tp1\""
   ]
  },
  {
   "cell_type": "code",
   "execution_count": 6,
   "id": "recorded-oakland",
   "metadata": {},
   "outputs": [
    {
     "data": {
      "application/javascript": [
       "\n",
       "            setTimeout(function() {\n",
       "                var nbb_cell_id = 6;\n",
       "                var nbb_unformatted_code = \"p16_2_basedir = \\\"../../../../../data/pbmc_pt/proteins/timepoint_2/P16_2_PBMCs_Dapi_gH2AX_Lamin_16_09_21_2X_16bit_poly\\\"\\np16_2_data = read_in_data(\\n    feature_file_path=p16_2_basedir\\n    + \\\"/preprocessed/full_pipeline/nuclear_features.csv\\\",\\n    qc_file_path=p16_2_basedir\\n    + \\\"/preprocessed/full_pipeline/segmentation/qc_results.csv\\\",\\n    sample=\\\"p16_2\\\",\\n)\\np16_2_data[\\\"condition\\\"] = \\\"tp2\\\"\";\n",
       "                var nbb_formatted_code = \"p16_2_basedir = \\\"../../../../../data/pbmc_pt/proteins/timepoint_2/P16_2_PBMCs_Dapi_gH2AX_Lamin_16_09_21_2X_16bit_poly\\\"\\np16_2_data = read_in_data(\\n    feature_file_path=p16_2_basedir\\n    + \\\"/preprocessed/full_pipeline/nuclear_features.csv\\\",\\n    qc_file_path=p16_2_basedir\\n    + \\\"/preprocessed/full_pipeline/segmentation/qc_results.csv\\\",\\n    sample=\\\"p16_2\\\",\\n)\\np16_2_data[\\\"condition\\\"] = \\\"tp2\\\"\";\n",
       "                var nbb_cells = Jupyter.notebook.get_cells();\n",
       "                for (var i = 0; i < nbb_cells.length; ++i) {\n",
       "                    if (nbb_cells[i].input_prompt_number == nbb_cell_id) {\n",
       "                        if (nbb_cells[i].get_text() == nbb_unformatted_code) {\n",
       "                             nbb_cells[i].set_text(nbb_formatted_code);\n",
       "                        }\n",
       "                        break;\n",
       "                    }\n",
       "                }\n",
       "            }, 500);\n",
       "            "
      ],
      "text/plain": [
       "<IPython.core.display.Javascript object>"
      ]
     },
     "metadata": {},
     "output_type": "display_data"
    }
   ],
   "source": [
    "p16_2_basedir = \"../../../../../data/pbmc_pt/proteins/timepoint_2/P16_2_PBMCs_Dapi_gH2AX_Lamin_16_09_21_2X_16bit_poly\"\n",
    "p16_2_data = read_in_data(\n",
    "    feature_file_path=p16_2_basedir\n",
    "    + \"/preprocessed/full_pipeline/nuclear_features.csv\",\n",
    "    qc_file_path=p16_2_basedir\n",
    "    + \"/preprocessed/full_pipeline/segmentation/qc_results.csv\",\n",
    "    sample=\"p16_2\",\n",
    ")\n",
    "p16_2_data[\"condition\"] = \"tp2\""
   ]
  },
  {
   "cell_type": "code",
   "execution_count": 7,
   "id": "arranged-toner",
   "metadata": {},
   "outputs": [
    {
     "data": {
      "application/javascript": [
       "\n",
       "            setTimeout(function() {\n",
       "                var nbb_cell_id = 7;\n",
       "                var nbb_unformatted_code = \"p16_3_basedir = \\\"../../../../../data/pbmc_pt/proteins/timepoint_3/P16_3_PBMCs_Dapi_gH2AX_Lamin_11_10_21_2X_16bit_poly\\\"\\np16_3_data = read_in_data(\\n    feature_file_path=p16_3_basedir\\n    + \\\"/preprocessed/full_pipeline/nuclear_features.csv\\\",\\n    qc_file_path=p16_3_basedir\\n    + \\\"/preprocessed/full_pipeline/segmentation/qc_results.csv\\\",\\n    sample=\\\"p16_3\\\",\\n)\\np16_3_data[\\\"condition\\\"] = \\\"tp3\\\"\";\n",
       "                var nbb_formatted_code = \"p16_3_basedir = \\\"../../../../../data/pbmc_pt/proteins/timepoint_3/P16_3_PBMCs_Dapi_gH2AX_Lamin_11_10_21_2X_16bit_poly\\\"\\np16_3_data = read_in_data(\\n    feature_file_path=p16_3_basedir\\n    + \\\"/preprocessed/full_pipeline/nuclear_features.csv\\\",\\n    qc_file_path=p16_3_basedir\\n    + \\\"/preprocessed/full_pipeline/segmentation/qc_results.csv\\\",\\n    sample=\\\"p16_3\\\",\\n)\\np16_3_data[\\\"condition\\\"] = \\\"tp3\\\"\";\n",
       "                var nbb_cells = Jupyter.notebook.get_cells();\n",
       "                for (var i = 0; i < nbb_cells.length; ++i) {\n",
       "                    if (nbb_cells[i].input_prompt_number == nbb_cell_id) {\n",
       "                        if (nbb_cells[i].get_text() == nbb_unformatted_code) {\n",
       "                             nbb_cells[i].set_text(nbb_formatted_code);\n",
       "                        }\n",
       "                        break;\n",
       "                    }\n",
       "                }\n",
       "            }, 500);\n",
       "            "
      ],
      "text/plain": [
       "<IPython.core.display.Javascript object>"
      ]
     },
     "metadata": {},
     "output_type": "display_data"
    }
   ],
   "source": [
    "p16_3_basedir = \"../../../../../data/pbmc_pt/proteins/timepoint_3/P16_3_PBMCs_Dapi_gH2AX_Lamin_11_10_21_2X_16bit_poly\"\n",
    "p16_3_data = read_in_data(\n",
    "    feature_file_path=p16_3_basedir\n",
    "    + \"/preprocessed/full_pipeline/nuclear_features.csv\",\n",
    "    qc_file_path=p16_3_basedir\n",
    "    + \"/preprocessed/full_pipeline/segmentation/qc_results.csv\",\n",
    "    sample=\"p16_3\",\n",
    ")\n",
    "p16_3_data[\"condition\"] = \"tp3\""
   ]
  },
  {
   "cell_type": "markdown",
   "id": "canadian-picking",
   "metadata": {},
   "source": [
    "For the following analyses we will subsample randomly each time point to the minimum number of samples which is 442 for the data from time point 3."
   ]
  },
  {
   "cell_type": "code",
   "execution_count": 9,
   "id": "aging-daily",
   "metadata": {},
   "outputs": [
    {
     "data": {
      "text/html": [
       "<div>\n",
       "<style scoped>\n",
       "    .dataframe tbody tr th:only-of-type {\n",
       "        vertical-align: middle;\n",
       "    }\n",
       "\n",
       "    .dataframe tbody tr th {\n",
       "        vertical-align: top;\n",
       "    }\n",
       "\n",
       "    .dataframe thead th {\n",
       "        text-align: right;\n",
       "    }\n",
       "</style>\n",
       "<table border=\"1\" class=\"dataframe\">\n",
       "  <thead>\n",
       "    <tr style=\"text-align: right;\">\n",
       "      <th></th>\n",
       "      <th>label</th>\n",
       "      <th>min_calliper</th>\n",
       "      <th>max_calliper</th>\n",
       "      <th>smallest_largest_calliper</th>\n",
       "      <th>min_radius</th>\n",
       "      <th>max_radius</th>\n",
       "      <th>med_radius</th>\n",
       "      <th>avg_radius</th>\n",
       "      <th>mode_radius</th>\n",
       "      <th>d25_radius</th>\n",
       "      <th>...</th>\n",
       "      <th>rel_lamin_3d_int</th>\n",
       "      <th>min_lamin_3d_int</th>\n",
       "      <th>max_lamin_3d_int</th>\n",
       "      <th>mean_lamin_3d_int</th>\n",
       "      <th>std_lamin_3d_int</th>\n",
       "      <th>q25_lamin_3d_int</th>\n",
       "      <th>q75_lamin_3d_int</th>\n",
       "      <th>median_lamin_3d_int</th>\n",
       "      <th>kurtosis_lamin_3d_int</th>\n",
       "      <th>skewness_lamin_3d_int</th>\n",
       "    </tr>\n",
       "  </thead>\n",
       "  <tbody>\n",
       "    <tr>\n",
       "      <th>count</th>\n",
       "      <td>1468.000000</td>\n",
       "      <td>1468.000000</td>\n",
       "      <td>1468.000000</td>\n",
       "      <td>1468.000000</td>\n",
       "      <td>1468.000000</td>\n",
       "      <td>1468.000000</td>\n",
       "      <td>1468.000000</td>\n",
       "      <td>1468.000000</td>\n",
       "      <td>1468.000000</td>\n",
       "      <td>1468.000000</td>\n",
       "      <td>...</td>\n",
       "      <td>1468.000000</td>\n",
       "      <td>1468.0</td>\n",
       "      <td>1468.000000</td>\n",
       "      <td>1468.000000</td>\n",
       "      <td>1468.000000</td>\n",
       "      <td>1468.0</td>\n",
       "      <td>1468.000000</td>\n",
       "      <td>1468.000000</td>\n",
       "      <td>1468.000000</td>\n",
       "      <td>1468.000000</td>\n",
       "    </tr>\n",
       "    <tr>\n",
       "      <th>mean</th>\n",
       "      <td>6.262262</td>\n",
       "      <td>60.241144</td>\n",
       "      <td>77.983651</td>\n",
       "      <td>0.778582</td>\n",
       "      <td>23.665660</td>\n",
       "      <td>39.980499</td>\n",
       "      <td>33.189118</td>\n",
       "      <td>32.883922</td>\n",
       "      <td>23.781602</td>\n",
       "      <td>30.091679</td>\n",
       "      <td>...</td>\n",
       "      <td>737.493608</td>\n",
       "      <td>0.0</td>\n",
       "      <td>10813.299046</td>\n",
       "      <td>737.493608</td>\n",
       "      <td>984.417239</td>\n",
       "      <td>0.0</td>\n",
       "      <td>152.657868</td>\n",
       "      <td>384.647480</td>\n",
       "      <td>77.045222</td>\n",
       "      <td>7.075465</td>\n",
       "    </tr>\n",
       "    <tr>\n",
       "      <th>std</th>\n",
       "      <td>4.134088</td>\n",
       "      <td>5.910871</td>\n",
       "      <td>8.219037</td>\n",
       "      <td>0.091286</td>\n",
       "      <td>5.006466</td>\n",
       "      <td>4.491145</td>\n",
       "      <td>2.507614</td>\n",
       "      <td>2.433480</td>\n",
       "      <td>5.120365</td>\n",
       "      <td>2.670344</td>\n",
       "      <td>...</td>\n",
       "      <td>2521.027747</td>\n",
       "      <td>0.0</td>\n",
       "      <td>9612.989591</td>\n",
       "      <td>2521.027747</td>\n",
       "      <td>1925.182036</td>\n",
       "      <td>0.0</td>\n",
       "      <td>663.056975</td>\n",
       "      <td>2118.290401</td>\n",
       "      <td>42.146443</td>\n",
       "      <td>1.822323</td>\n",
       "    </tr>\n",
       "    <tr>\n",
       "      <th>min</th>\n",
       "      <td>1.000000</td>\n",
       "      <td>27.000000</td>\n",
       "      <td>50.000000</td>\n",
       "      <td>0.389831</td>\n",
       "      <td>0.524335</td>\n",
       "      <td>27.483140</td>\n",
       "      <td>18.001318</td>\n",
       "      <td>18.315217</td>\n",
       "      <td>0.524335</td>\n",
       "      <td>12.116787</td>\n",
       "      <td>...</td>\n",
       "      <td>57.036970</td>\n",
       "      <td>0.0</td>\n",
       "      <td>3158.000000</td>\n",
       "      <td>57.036970</td>\n",
       "      <td>151.768033</td>\n",
       "      <td>0.0</td>\n",
       "      <td>8.000000</td>\n",
       "      <td>0.000000</td>\n",
       "      <td>1.420457</td>\n",
       "      <td>1.683288</td>\n",
       "    </tr>\n",
       "    <tr>\n",
       "      <th>25%</th>\n",
       "      <td>3.000000</td>\n",
       "      <td>56.000000</td>\n",
       "      <td>72.000000</td>\n",
       "      <td>0.722892</td>\n",
       "      <td>21.362861</td>\n",
       "      <td>36.760476</td>\n",
       "      <td>31.602786</td>\n",
       "      <td>31.280924</td>\n",
       "      <td>21.451861</td>\n",
       "      <td>28.538995</td>\n",
       "      <td>...</td>\n",
       "      <td>143.086310</td>\n",
       "      <td>0.0</td>\n",
       "      <td>6280.000000</td>\n",
       "      <td>143.086310</td>\n",
       "      <td>383.025196</td>\n",
       "      <td>0.0</td>\n",
       "      <td>60.000000</td>\n",
       "      <td>8.000000</td>\n",
       "      <td>45.343290</td>\n",
       "      <td>5.728219</td>\n",
       "    </tr>\n",
       "    <tr>\n",
       "      <th>50%</th>\n",
       "      <td>5.000000</td>\n",
       "      <td>60.000000</td>\n",
       "      <td>77.000000</td>\n",
       "      <td>0.790223</td>\n",
       "      <td>24.633308</td>\n",
       "      <td>39.278912</td>\n",
       "      <td>33.001030</td>\n",
       "      <td>32.746922</td>\n",
       "      <td>24.681818</td>\n",
       "      <td>30.233930</td>\n",
       "      <td>...</td>\n",
       "      <td>229.083343</td>\n",
       "      <td>0.0</td>\n",
       "      <td>8187.000000</td>\n",
       "      <td>229.083343</td>\n",
       "      <td>568.913743</td>\n",
       "      <td>0.0</td>\n",
       "      <td>74.500000</td>\n",
       "      <td>26.000000</td>\n",
       "      <td>71.022229</td>\n",
       "      <td>7.146091</td>\n",
       "    </tr>\n",
       "    <tr>\n",
       "      <th>75%</th>\n",
       "      <td>9.000000</td>\n",
       "      <td>64.000000</td>\n",
       "      <td>83.000000</td>\n",
       "      <td>0.847222</td>\n",
       "      <td>27.017106</td>\n",
       "      <td>42.548955</td>\n",
       "      <td>34.769576</td>\n",
       "      <td>34.369915</td>\n",
       "      <td>27.097224</td>\n",
       "      <td>31.751433</td>\n",
       "      <td>...</td>\n",
       "      <td>414.320650</td>\n",
       "      <td>0.0</td>\n",
       "      <td>10631.000000</td>\n",
       "      <td>414.320650</td>\n",
       "      <td>799.447085</td>\n",
       "      <td>0.0</td>\n",
       "      <td>95.000000</td>\n",
       "      <td>59.000000</td>\n",
       "      <td>97.369725</td>\n",
       "      <td>8.205417</td>\n",
       "    </tr>\n",
       "    <tr>\n",
       "      <th>max</th>\n",
       "      <td>23.000000</td>\n",
       "      <td>77.000000</td>\n",
       "      <td>118.000000</td>\n",
       "      <td>0.956522</td>\n",
       "      <td>34.362178</td>\n",
       "      <td>63.318876</td>\n",
       "      <td>41.181440</td>\n",
       "      <td>39.364508</td>\n",
       "      <td>47.072383</td>\n",
       "      <td>37.943241</td>\n",
       "      <td>...</td>\n",
       "      <td>40518.370788</td>\n",
       "      <td>0.0</td>\n",
       "      <td>65535.000000</td>\n",
       "      <td>40518.370788</td>\n",
       "      <td>22434.417853</td>\n",
       "      <td>0.0</td>\n",
       "      <td>15149.250000</td>\n",
       "      <td>39861.500000</td>\n",
       "      <td>320.421209</td>\n",
       "      <td>11.940663</td>\n",
       "    </tr>\n",
       "  </tbody>\n",
       "</table>\n",
       "<p>8 rows × 275 columns</p>\n",
       "</div>"
      ],
      "text/plain": [
       "             label  min_calliper  max_calliper  smallest_largest_calliper  \\\n",
       "count  1468.000000   1468.000000   1468.000000                1468.000000   \n",
       "mean      6.262262     60.241144     77.983651                   0.778582   \n",
       "std       4.134088      5.910871      8.219037                   0.091286   \n",
       "min       1.000000     27.000000     50.000000                   0.389831   \n",
       "25%       3.000000     56.000000     72.000000                   0.722892   \n",
       "50%       5.000000     60.000000     77.000000                   0.790223   \n",
       "75%       9.000000     64.000000     83.000000                   0.847222   \n",
       "max      23.000000     77.000000    118.000000                   0.956522   \n",
       "\n",
       "        min_radius   max_radius   med_radius   avg_radius  mode_radius  \\\n",
       "count  1468.000000  1468.000000  1468.000000  1468.000000  1468.000000   \n",
       "mean     23.665660    39.980499    33.189118    32.883922    23.781602   \n",
       "std       5.006466     4.491145     2.507614     2.433480     5.120365   \n",
       "min       0.524335    27.483140    18.001318    18.315217     0.524335   \n",
       "25%      21.362861    36.760476    31.602786    31.280924    21.451861   \n",
       "50%      24.633308    39.278912    33.001030    32.746922    24.681818   \n",
       "75%      27.017106    42.548955    34.769576    34.369915    27.097224   \n",
       "max      34.362178    63.318876    41.181440    39.364508    47.072383   \n",
       "\n",
       "        d25_radius  ...  rel_lamin_3d_int  min_lamin_3d_int  max_lamin_3d_int  \\\n",
       "count  1468.000000  ...       1468.000000            1468.0       1468.000000   \n",
       "mean     30.091679  ...        737.493608               0.0      10813.299046   \n",
       "std       2.670344  ...       2521.027747               0.0       9612.989591   \n",
       "min      12.116787  ...         57.036970               0.0       3158.000000   \n",
       "25%      28.538995  ...        143.086310               0.0       6280.000000   \n",
       "50%      30.233930  ...        229.083343               0.0       8187.000000   \n",
       "75%      31.751433  ...        414.320650               0.0      10631.000000   \n",
       "max      37.943241  ...      40518.370788               0.0      65535.000000   \n",
       "\n",
       "       mean_lamin_3d_int  std_lamin_3d_int  q25_lamin_3d_int  \\\n",
       "count        1468.000000       1468.000000            1468.0   \n",
       "mean          737.493608        984.417239               0.0   \n",
       "std          2521.027747       1925.182036               0.0   \n",
       "min            57.036970        151.768033               0.0   \n",
       "25%           143.086310        383.025196               0.0   \n",
       "50%           229.083343        568.913743               0.0   \n",
       "75%           414.320650        799.447085               0.0   \n",
       "max         40518.370788      22434.417853               0.0   \n",
       "\n",
       "       q75_lamin_3d_int  median_lamin_3d_int  kurtosis_lamin_3d_int  \\\n",
       "count       1468.000000          1468.000000            1468.000000   \n",
       "mean         152.657868           384.647480              77.045222   \n",
       "std          663.056975          2118.290401              42.146443   \n",
       "min            8.000000             0.000000               1.420457   \n",
       "25%           60.000000             8.000000              45.343290   \n",
       "50%           74.500000            26.000000              71.022229   \n",
       "75%           95.000000            59.000000              97.369725   \n",
       "max        15149.250000         39861.500000             320.421209   \n",
       "\n",
       "       skewness_lamin_3d_int  \n",
       "count            1468.000000  \n",
       "mean                7.075465  \n",
       "std                 1.822323  \n",
       "min                 1.683288  \n",
       "25%                 5.728219  \n",
       "50%                 7.146091  \n",
       "75%                 8.205417  \n",
       "max                11.940663  \n",
       "\n",
       "[8 rows x 275 columns]"
      ]
     },
     "execution_count": 9,
     "metadata": {},
     "output_type": "execute_result"
    },
    {
     "data": {
      "application/javascript": [
       "\n",
       "            setTimeout(function() {\n",
       "                var nbb_cell_id = 9;\n",
       "                var nbb_unformatted_code = \"np.random.seed(seed)\\nn_control_samples = np.min(\\n    [len(hv_data), len(p16_1_data), len(p16_2_data), len(p16_3_data)]\\n)\\ndata = (\\n    hv_data.iloc[np.random.choice(len(hv_data), size=n_control_samples, replace=False)]\\n    .append(\\n        p16_1_data.iloc[\\n            np.random.choice(len(p16_1_data), size=n_control_samples, replace=False)\\n        ]\\n    )\\n    .append(\\n        p16_2_data.iloc[\\n            np.random.choice(len(p16_2_data), size=n_control_samples, replace=False)\\n        ]\\n    )\\n    .append(\\n        p16_3_data.iloc[\\n            np.random.choice(len(p16_3_data), size=n_control_samples, replace=False)\\n        ]\\n    )\\n)\\ndata.describe()\";\n",
       "                var nbb_formatted_code = \"np.random.seed(seed)\\nn_control_samples = np.min(\\n    [len(hv_data), len(p16_1_data), len(p16_2_data), len(p16_3_data)]\\n)\\ndata = (\\n    hv_data.iloc[np.random.choice(len(hv_data), size=n_control_samples, replace=False)]\\n    .append(\\n        p16_1_data.iloc[\\n            np.random.choice(len(p16_1_data), size=n_control_samples, replace=False)\\n        ]\\n    )\\n    .append(\\n        p16_2_data.iloc[\\n            np.random.choice(len(p16_2_data), size=n_control_samples, replace=False)\\n        ]\\n    )\\n    .append(\\n        p16_3_data.iloc[\\n            np.random.choice(len(p16_3_data), size=n_control_samples, replace=False)\\n        ]\\n    )\\n)\\ndata.describe()\";\n",
       "                var nbb_cells = Jupyter.notebook.get_cells();\n",
       "                for (var i = 0; i < nbb_cells.length; ++i) {\n",
       "                    if (nbb_cells[i].input_prompt_number == nbb_cell_id) {\n",
       "                        if (nbb_cells[i].get_text() == nbb_unformatted_code) {\n",
       "                             nbb_cells[i].set_text(nbb_formatted_code);\n",
       "                        }\n",
       "                        break;\n",
       "                    }\n",
       "                }\n",
       "            }, 500);\n",
       "            "
      ],
      "text/plain": [
       "<IPython.core.display.Javascript object>"
      ]
     },
     "metadata": {},
     "output_type": "display_data"
    }
   ],
   "source": [
    "np.random.seed(seed)\n",
    "n_control_samples = np.min(\n",
    "    [len(hv_data), len(p16_1_data), len(p16_2_data), len(p16_3_data)]\n",
    ")\n",
    "data = (\n",
    "    hv_data.iloc[np.random.choice(len(hv_data), size=n_control_samples, replace=False)]\n",
    "    .append(\n",
    "        p16_1_data.iloc[\n",
    "            np.random.choice(len(p16_1_data), size=n_control_samples, replace=False)\n",
    "        ]\n",
    "    )\n",
    "    .append(\n",
    "        p16_2_data.iloc[\n",
    "            np.random.choice(len(p16_2_data), size=n_control_samples, replace=False)\n",
    "        ]\n",
    "    )\n",
    "    .append(\n",
    "        p16_3_data.iloc[\n",
    "            np.random.choice(len(p16_3_data), size=n_control_samples, replace=False)\n",
    "        ]\n",
    "    )\n",
    ")\n",
    "data.describe()"
   ]
  },
  {
   "cell_type": "markdown",
   "id": "suspended-absolute",
   "metadata": {},
   "source": [
    "---\n",
    "\n",
    "## 2. Dimensionality reduction\n",
    "\n",
    "Next, we will clean the data and remove samples with missing values, constant features, as well as those samples that were flagged for not passing our quality checks."
   ]
  },
  {
   "cell_type": "code",
   "execution_count": 10,
   "id": "knowing-count",
   "metadata": {},
   "outputs": [
    {
     "name": "stdout",
     "output_type": "stream",
     "text": [
      "Nuclei that did not pass the quality check: 72/1468. Remaining: 1396.\n",
      "Removed 14 constant or features with missing values. Remaining: 264.\n",
      "Removed additional 6 features. Remaining: 258.\n"
     ]
    },
    {
     "data": {
      "application/javascript": [
       "\n",
       "            setTimeout(function() {\n",
       "                var nbb_cell_id = 10;\n",
       "                var nbb_unformatted_code = \"data = preprocess_data(data)\";\n",
       "                var nbb_formatted_code = \"data = preprocess_data(data)\";\n",
       "                var nbb_cells = Jupyter.notebook.get_cells();\n",
       "                for (var i = 0; i < nbb_cells.length; ++i) {\n",
       "                    if (nbb_cells[i].input_prompt_number == nbb_cell_id) {\n",
       "                        if (nbb_cells[i].get_text() == nbb_unformatted_code) {\n",
       "                             nbb_cells[i].set_text(nbb_formatted_code);\n",
       "                        }\n",
       "                        break;\n",
       "                    }\n",
       "                }\n",
       "            }, 500);\n",
       "            "
      ],
      "text/plain": [
       "<IPython.core.display.Javascript object>"
      ]
     },
     "metadata": {},
     "output_type": "display_data"
    }
   ],
   "source": [
    "data = preprocess_data(data)"
   ]
  },
  {
   "cell_type": "code",
   "execution_count": 11,
   "id": "documentary-kansas",
   "metadata": {},
   "outputs": [
    {
     "data": {
      "application/javascript": [
       "\n",
       "            setTimeout(function() {\n",
       "                var nbb_cell_id = 11;\n",
       "                var nbb_unformatted_code = \"features = data.iloc[:, :-2]\\nsample_labels = data.loc[:, \\\"sample\\\"]\\ncondition_labels = data.loc[:, \\\"condition\\\"]\";\n",
       "                var nbb_formatted_code = \"features = data.iloc[:, :-2]\\nsample_labels = data.loc[:, \\\"sample\\\"]\\ncondition_labels = data.loc[:, \\\"condition\\\"]\";\n",
       "                var nbb_cells = Jupyter.notebook.get_cells();\n",
       "                for (var i = 0; i < nbb_cells.length; ++i) {\n",
       "                    if (nbb_cells[i].input_prompt_number == nbb_cell_id) {\n",
       "                        if (nbb_cells[i].get_text() == nbb_unformatted_code) {\n",
       "                             nbb_cells[i].set_text(nbb_formatted_code);\n",
       "                        }\n",
       "                        break;\n",
       "                    }\n",
       "                }\n",
       "            }, 500);\n",
       "            "
      ],
      "text/plain": [
       "<IPython.core.display.Javascript object>"
      ]
     },
     "metadata": {},
     "output_type": "display_data"
    }
   ],
   "source": [
    "features = data.iloc[:, :-2]\n",
    "sample_labels = data.loc[:, \"sample\"]\n",
    "condition_labels = data.loc[:, \"condition\"]"
   ]
  },
  {
   "cell_type": "markdown",
   "id": "resident-validation",
   "metadata": {},
   "source": [
    "Finally, we will reduce the dimensionality of the data set further by removing highly correlated features ($\\rho > 0.8$)."
   ]
  },
  {
   "cell_type": "code",
   "execution_count": 12,
   "id": "growing-training",
   "metadata": {},
   "outputs": [
    {
     "name": "stdout",
     "output_type": "stream",
     "text": [
      "Removed 189/256 features with a Pearson correlation above 0.8. Remaining: 67\n"
     ]
    },
    {
     "data": {
      "application/javascript": [
       "\n",
       "            setTimeout(function() {\n",
       "                var nbb_cell_id = 12;\n",
       "                var nbb_unformatted_code = \"# features = remove_collinear_features(features, threshold=5)\\nfeatures = remove_correlated_features(features, threshold=0.8)\";\n",
       "                var nbb_formatted_code = \"# features = remove_collinear_features(features, threshold=5)\\nfeatures = remove_correlated_features(features, threshold=0.8)\";\n",
       "                var nbb_cells = Jupyter.notebook.get_cells();\n",
       "                for (var i = 0; i < nbb_cells.length; ++i) {\n",
       "                    if (nbb_cells[i].input_prompt_number == nbb_cell_id) {\n",
       "                        if (nbb_cells[i].get_text() == nbb_unformatted_code) {\n",
       "                             nbb_cells[i].set_text(nbb_formatted_code);\n",
       "                        }\n",
       "                        break;\n",
       "                    }\n",
       "                }\n",
       "            }, 500);\n",
       "            "
      ],
      "text/plain": [
       "<IPython.core.display.Javascript object>"
      ]
     },
     "metadata": {},
     "output_type": "display_data"
    }
   ],
   "source": [
    "# features = remove_collinear_features(features, threshold=5)\n",
    "features = remove_correlated_features(features, threshold=0.8)"
   ]
  },
  {
   "cell_type": "markdown",
   "id": "foreign-frequency",
   "metadata": {},
   "source": [
    "There are 57 features that remain which have a correlation of less than 0.8 to any other feature."
   ]
  },
  {
   "cell_type": "markdown",
   "id": "irish-carolina",
   "metadata": {},
   "source": [
    "---\n",
    "\n",
    "## 3. Data visualization\n",
    "\n",
    "Next, we will visualize the data set using TSNE. To this end, we will first z-score the data."
   ]
  },
  {
   "cell_type": "code",
   "execution_count": 13,
   "id": "collected-initial",
   "metadata": {},
   "outputs": [
    {
     "data": {
      "text/html": [
       "<div>\n",
       "<style scoped>\n",
       "    .dataframe tbody tr th:only-of-type {\n",
       "        vertical-align: middle;\n",
       "    }\n",
       "\n",
       "    .dataframe tbody tr th {\n",
       "        vertical-align: top;\n",
       "    }\n",
       "\n",
       "    .dataframe thead th {\n",
       "        text-align: right;\n",
       "    }\n",
       "</style>\n",
       "<table border=\"1\" class=\"dataframe\">\n",
       "  <thead>\n",
       "    <tr style=\"text-align: right;\">\n",
       "      <th></th>\n",
       "      <th>min_calliper</th>\n",
       "      <th>max_calliper</th>\n",
       "      <th>smallest_largest_calliper</th>\n",
       "      <th>min_radius</th>\n",
       "      <th>med_radius</th>\n",
       "      <th>concavity</th>\n",
       "      <th>area_bbarea</th>\n",
       "      <th>avg_curvature</th>\n",
       "      <th>std_curvature</th>\n",
       "      <th>npolarity_changes</th>\n",
       "      <th>...</th>\n",
       "      <th>kurtosis_dna_3d_int</th>\n",
       "      <th>rel_gh2ax_2d_int</th>\n",
       "      <th>max_gh2ax_2d_int</th>\n",
       "      <th>q25_gh2ax_2d_int</th>\n",
       "      <th>kurtosis_gh2ax_2d_int</th>\n",
       "      <th>min_gh2ax_3d_int</th>\n",
       "      <th>q25_gh2ax_3d_int</th>\n",
       "      <th>q75_gh2ax_3d_int</th>\n",
       "      <th>rel_lamin_2d_int</th>\n",
       "      <th>kurtosis_lamin_2d_int</th>\n",
       "    </tr>\n",
       "  </thead>\n",
       "  <tbody>\n",
       "    <tr>\n",
       "      <th>count</th>\n",
       "      <td>1.396000e+03</td>\n",
       "      <td>1.396000e+03</td>\n",
       "      <td>1.396000e+03</td>\n",
       "      <td>1.396000e+03</td>\n",
       "      <td>1.396000e+03</td>\n",
       "      <td>1.396000e+03</td>\n",
       "      <td>1.396000e+03</td>\n",
       "      <td>1.396000e+03</td>\n",
       "      <td>1.396000e+03</td>\n",
       "      <td>1.396000e+03</td>\n",
       "      <td>...</td>\n",
       "      <td>1.396000e+03</td>\n",
       "      <td>1.396000e+03</td>\n",
       "      <td>1.396000e+03</td>\n",
       "      <td>1.396000e+03</td>\n",
       "      <td>1.396000e+03</td>\n",
       "      <td>1396.000000</td>\n",
       "      <td>1.396000e+03</td>\n",
       "      <td>1.396000e+03</td>\n",
       "      <td>1396.000000</td>\n",
       "      <td>1.396000e+03</td>\n",
       "    </tr>\n",
       "    <tr>\n",
       "      <th>mean</th>\n",
       "      <td>3.613792e-16</td>\n",
       "      <td>-8.449147e-16</td>\n",
       "      <td>-7.125787e-17</td>\n",
       "      <td>-1.832345e-16</td>\n",
       "      <td>-1.628751e-15</td>\n",
       "      <td>-3.053909e-17</td>\n",
       "      <td>-1.608392e-15</td>\n",
       "      <td>2.117377e-15</td>\n",
       "      <td>-1.883244e-16</td>\n",
       "      <td>-1.730548e-16</td>\n",
       "      <td>...</td>\n",
       "      <td>2.443127e-16</td>\n",
       "      <td>-3.257503e-16</td>\n",
       "      <td>2.035939e-17</td>\n",
       "      <td>-4.071878e-17</td>\n",
       "      <td>4.071878e-17</td>\n",
       "      <td>0.000000</td>\n",
       "      <td>-2.544924e-18</td>\n",
       "      <td>-8.143756e-17</td>\n",
       "      <td>0.000000</td>\n",
       "      <td>-8.143756e-17</td>\n",
       "    </tr>\n",
       "    <tr>\n",
       "      <th>std</th>\n",
       "      <td>1.000358e+00</td>\n",
       "      <td>1.000358e+00</td>\n",
       "      <td>1.000358e+00</td>\n",
       "      <td>1.000358e+00</td>\n",
       "      <td>1.000358e+00</td>\n",
       "      <td>1.000358e+00</td>\n",
       "      <td>1.000358e+00</td>\n",
       "      <td>1.000358e+00</td>\n",
       "      <td>1.000358e+00</td>\n",
       "      <td>1.000358e+00</td>\n",
       "      <td>...</td>\n",
       "      <td>1.000358e+00</td>\n",
       "      <td>1.000358e+00</td>\n",
       "      <td>1.000358e+00</td>\n",
       "      <td>1.000358e+00</td>\n",
       "      <td>1.000358e+00</td>\n",
       "      <td>1.000358</td>\n",
       "      <td>1.000358e+00</td>\n",
       "      <td>1.000358e+00</td>\n",
       "      <td>1.000358</td>\n",
       "      <td>1.000358e+00</td>\n",
       "    </tr>\n",
       "    <tr>\n",
       "      <th>min</th>\n",
       "      <td>-3.290473e+00</td>\n",
       "      <td>-2.377614e+00</td>\n",
       "      <td>-4.306783e+00</td>\n",
       "      <td>-4.774415e+00</td>\n",
       "      <td>-3.095963e+00</td>\n",
       "      <td>-1.310623e+00</td>\n",
       "      <td>-5.544616e+00</td>\n",
       "      <td>-7.274275e+00</td>\n",
       "      <td>-2.425683e+00</td>\n",
       "      <td>-2.332623e+00</td>\n",
       "      <td>...</td>\n",
       "      <td>-2.100976e+00</td>\n",
       "      <td>-1.559060e+00</td>\n",
       "      <td>-1.872002e+00</td>\n",
       "      <td>-8.450110e-01</td>\n",
       "      <td>-4.491451e-01</td>\n",
       "      <td>-0.936345</td>\n",
       "      <td>-4.367540e-02</td>\n",
       "      <td>-1.228571e+00</td>\n",
       "      <td>-0.409407</td>\n",
       "      <td>-1.617821e+00</td>\n",
       "    </tr>\n",
       "    <tr>\n",
       "      <th>25%</th>\n",
       "      <td>-6.182797e-01</td>\n",
       "      <td>-7.631813e-01</td>\n",
       "      <td>-5.998261e-01</td>\n",
       "      <td>-4.572343e-01</td>\n",
       "      <td>-6.871245e-01</td>\n",
       "      <td>-7.108279e-01</td>\n",
       "      <td>-5.742339e-01</td>\n",
       "      <td>-6.642084e-01</td>\n",
       "      <td>-7.411270e-01</td>\n",
       "      <td>-6.702346e-01</td>\n",
       "      <td>...</td>\n",
       "      <td>-6.992758e-01</td>\n",
       "      <td>-7.506877e-01</td>\n",
       "      <td>-6.997514e-01</td>\n",
       "      <td>-8.450110e-01</td>\n",
       "      <td>-3.969826e-01</td>\n",
       "      <td>-0.936345</td>\n",
       "      <td>-4.367540e-02</td>\n",
       "      <td>-6.264992e-01</td>\n",
       "      <td>-0.302040</td>\n",
       "      <td>-5.541481e-01</td>\n",
       "    </tr>\n",
       "    <tr>\n",
       "      <th>50%</th>\n",
       "      <td>-8.384102e-02</td>\n",
       "      <td>-1.422458e-01</td>\n",
       "      <td>1.359022e-01</td>\n",
       "      <td>1.826791e-01</td>\n",
       "      <td>-1.060638e-01</td>\n",
       "      <td>-2.577395e-01</td>\n",
       "      <td>8.983730e-02</td>\n",
       "      <td>5.185144e-02</td>\n",
       "      <td>-2.357879e-02</td>\n",
       "      <td>-1.161052e-01</td>\n",
       "      <td>...</td>\n",
       "      <td>-7.424551e-02</td>\n",
       "      <td>-2.002528e-01</td>\n",
       "      <td>-2.135700e-01</td>\n",
       "      <td>-1.593475e-01</td>\n",
       "      <td>-3.287598e-01</td>\n",
       "      <td>-0.350341</td>\n",
       "      <td>-4.367540e-02</td>\n",
       "      <td>-2.711518e-01</td>\n",
       "      <td>-0.202345</td>\n",
       "      <td>-1.628658e-01</td>\n",
       "    </tr>\n",
       "    <tr>\n",
       "      <th>75%</th>\n",
       "      <td>6.287439e-01</td>\n",
       "      <td>6.028768e-01</td>\n",
       "      <td>7.634354e-01</td>\n",
       "      <td>6.644261e-01</td>\n",
       "      <td>6.502094e-01</td>\n",
       "      <td>4.276694e-01</td>\n",
       "      <td>7.025608e-01</td>\n",
       "      <td>6.582789e-01</td>\n",
       "      <td>7.041909e-01</td>\n",
       "      <td>4.380242e-01</td>\n",
       "      <td>...</td>\n",
       "      <td>5.767194e-01</td>\n",
       "      <td>7.113009e-01</td>\n",
       "      <td>5.412646e-01</td>\n",
       "      <td>5.603628e-01</td>\n",
       "      <td>-5.570359e-02</td>\n",
       "      <td>0.791092</td>\n",
       "      <td>-4.367540e-02</td>\n",
       "      <td>3.116948e-01</td>\n",
       "      <td>-0.109773</td>\n",
       "      <td>3.724315e-01</td>\n",
       "    </tr>\n",
       "    <tr>\n",
       "      <th>max</th>\n",
       "      <td>2.944645e+00</td>\n",
       "      <td>4.949425e+00</td>\n",
       "      <td>1.946416e+00</td>\n",
       "      <td>2.165097e+00</td>\n",
       "      <td>3.413366e+00</td>\n",
       "      <td>6.120035e+00</td>\n",
       "      <td>2.660149e+00</td>\n",
       "      <td>5.275197e+00</td>\n",
       "      <td>5.696856e+00</td>\n",
       "      <td>8.934675e+00</td>\n",
       "      <td>...</td>\n",
       "      <td>4.665228e+00</td>\n",
       "      <td>1.476162e+01</td>\n",
       "      <td>2.278708e+00</td>\n",
       "      <td>6.681397e+00</td>\n",
       "      <td>1.230314e+01</td>\n",
       "      <td>4.388644</td>\n",
       "      <td>3.543937e+01</td>\n",
       "      <td>1.334612e+01</td>\n",
       "      <td>11.440582</td>\n",
       "      <td>1.808607e+01</td>\n",
       "    </tr>\n",
       "  </tbody>\n",
       "</table>\n",
       "<p>8 rows × 67 columns</p>\n",
       "</div>"
      ],
      "text/plain": [
       "       min_calliper  max_calliper  smallest_largest_calliper    min_radius  \\\n",
       "count  1.396000e+03  1.396000e+03               1.396000e+03  1.396000e+03   \n",
       "mean   3.613792e-16 -8.449147e-16              -7.125787e-17 -1.832345e-16   \n",
       "std    1.000358e+00  1.000358e+00               1.000358e+00  1.000358e+00   \n",
       "min   -3.290473e+00 -2.377614e+00              -4.306783e+00 -4.774415e+00   \n",
       "25%   -6.182797e-01 -7.631813e-01              -5.998261e-01 -4.572343e-01   \n",
       "50%   -8.384102e-02 -1.422458e-01               1.359022e-01  1.826791e-01   \n",
       "75%    6.287439e-01  6.028768e-01               7.634354e-01  6.644261e-01   \n",
       "max    2.944645e+00  4.949425e+00               1.946416e+00  2.165097e+00   \n",
       "\n",
       "         med_radius     concavity   area_bbarea  avg_curvature  std_curvature  \\\n",
       "count  1.396000e+03  1.396000e+03  1.396000e+03   1.396000e+03   1.396000e+03   \n",
       "mean  -1.628751e-15 -3.053909e-17 -1.608392e-15   2.117377e-15  -1.883244e-16   \n",
       "std    1.000358e+00  1.000358e+00  1.000358e+00   1.000358e+00   1.000358e+00   \n",
       "min   -3.095963e+00 -1.310623e+00 -5.544616e+00  -7.274275e+00  -2.425683e+00   \n",
       "25%   -6.871245e-01 -7.108279e-01 -5.742339e-01  -6.642084e-01  -7.411270e-01   \n",
       "50%   -1.060638e-01 -2.577395e-01  8.983730e-02   5.185144e-02  -2.357879e-02   \n",
       "75%    6.502094e-01  4.276694e-01  7.025608e-01   6.582789e-01   7.041909e-01   \n",
       "max    3.413366e+00  6.120035e+00  2.660149e+00   5.275197e+00   5.696856e+00   \n",
       "\n",
       "       npolarity_changes  ...  kurtosis_dna_3d_int  rel_gh2ax_2d_int  \\\n",
       "count       1.396000e+03  ...         1.396000e+03      1.396000e+03   \n",
       "mean       -1.730548e-16  ...         2.443127e-16     -3.257503e-16   \n",
       "std         1.000358e+00  ...         1.000358e+00      1.000358e+00   \n",
       "min        -2.332623e+00  ...        -2.100976e+00     -1.559060e+00   \n",
       "25%        -6.702346e-01  ...        -6.992758e-01     -7.506877e-01   \n",
       "50%        -1.161052e-01  ...        -7.424551e-02     -2.002528e-01   \n",
       "75%         4.380242e-01  ...         5.767194e-01      7.113009e-01   \n",
       "max         8.934675e+00  ...         4.665228e+00      1.476162e+01   \n",
       "\n",
       "       max_gh2ax_2d_int  q25_gh2ax_2d_int  kurtosis_gh2ax_2d_int  \\\n",
       "count      1.396000e+03      1.396000e+03           1.396000e+03   \n",
       "mean       2.035939e-17     -4.071878e-17           4.071878e-17   \n",
       "std        1.000358e+00      1.000358e+00           1.000358e+00   \n",
       "min       -1.872002e+00     -8.450110e-01          -4.491451e-01   \n",
       "25%       -6.997514e-01     -8.450110e-01          -3.969826e-01   \n",
       "50%       -2.135700e-01     -1.593475e-01          -3.287598e-01   \n",
       "75%        5.412646e-01      5.603628e-01          -5.570359e-02   \n",
       "max        2.278708e+00      6.681397e+00           1.230314e+01   \n",
       "\n",
       "       min_gh2ax_3d_int  q25_gh2ax_3d_int  q75_gh2ax_3d_int  rel_lamin_2d_int  \\\n",
       "count       1396.000000      1.396000e+03      1.396000e+03       1396.000000   \n",
       "mean           0.000000     -2.544924e-18     -8.143756e-17          0.000000   \n",
       "std            1.000358      1.000358e+00      1.000358e+00          1.000358   \n",
       "min           -0.936345     -4.367540e-02     -1.228571e+00         -0.409407   \n",
       "25%           -0.936345     -4.367540e-02     -6.264992e-01         -0.302040   \n",
       "50%           -0.350341     -4.367540e-02     -2.711518e-01         -0.202345   \n",
       "75%            0.791092     -4.367540e-02      3.116948e-01         -0.109773   \n",
       "max            4.388644      3.543937e+01      1.334612e+01         11.440582   \n",
       "\n",
       "       kurtosis_lamin_2d_int  \n",
       "count           1.396000e+03  \n",
       "mean           -8.143756e-17  \n",
       "std             1.000358e+00  \n",
       "min            -1.617821e+00  \n",
       "25%            -5.541481e-01  \n",
       "50%            -1.628658e-01  \n",
       "75%             3.724315e-01  \n",
       "max             1.808607e+01  \n",
       "\n",
       "[8 rows x 67 columns]"
      ]
     },
     "execution_count": 13,
     "metadata": {},
     "output_type": "execute_result"
    },
    {
     "data": {
      "application/javascript": [
       "\n",
       "            setTimeout(function() {\n",
       "                var nbb_cell_id = 13;\n",
       "                var nbb_unformatted_code = \"features_sc = pd.DataFrame(\\n    StandardScaler().fit_transform(features),\\n    index=features.index,\\n    columns=features.columns,\\n)\\nfeatures_sc.describe()\";\n",
       "                var nbb_formatted_code = \"features_sc = pd.DataFrame(\\n    StandardScaler().fit_transform(features),\\n    index=features.index,\\n    columns=features.columns,\\n)\\nfeatures_sc.describe()\";\n",
       "                var nbb_cells = Jupyter.notebook.get_cells();\n",
       "                for (var i = 0; i < nbb_cells.length; ++i) {\n",
       "                    if (nbb_cells[i].input_prompt_number == nbb_cell_id) {\n",
       "                        if (nbb_cells[i].get_text() == nbb_unformatted_code) {\n",
       "                             nbb_cells[i].set_text(nbb_formatted_code);\n",
       "                        }\n",
       "                        break;\n",
       "                    }\n",
       "                }\n",
       "            }, 500);\n",
       "            "
      ],
      "text/plain": [
       "<IPython.core.display.Javascript object>"
      ]
     },
     "metadata": {},
     "output_type": "display_data"
    }
   ],
   "source": [
    "features_sc = pd.DataFrame(\n",
    "    StandardScaler().fit_transform(features),\n",
    "    index=features.index,\n",
    "    columns=features.columns,\n",
    ")\n",
    "features_sc.describe()"
   ]
  },
  {
   "cell_type": "markdown",
   "id": "stopped-portal",
   "metadata": {},
   "source": [
    "Next, we compute the TSNE."
   ]
  },
  {
   "cell_type": "code",
   "execution_count": 14,
   "id": "destroyed-trail",
   "metadata": {},
   "outputs": [
    {
     "data": {
      "application/javascript": [
       "\n",
       "            setTimeout(function() {\n",
       "                var nbb_cell_id = 14;\n",
       "                var nbb_unformatted_code = \"tsne = TSNE(random_state=seed)\\ntsne_embs = tsne.fit_transform(features_sc)\\ntsne_embs = pd.DataFrame(\\n    tsne_embs, columns=[\\\"tsne_0\\\", \\\"tsne_1\\\"], index=features_sc.index\\n)\\ntsne_embs.loc[:, \\\"sample\\\"] = np.array(data.loc[tsne_embs.index, \\\"sample\\\"])\\ntsne_embs.loc[:, \\\"condition\\\"] = np.array(data.loc[tsne_embs.index, \\\"condition\\\"])\";\n",
       "                var nbb_formatted_code = \"tsne = TSNE(random_state=seed)\\ntsne_embs = tsne.fit_transform(features_sc)\\ntsne_embs = pd.DataFrame(\\n    tsne_embs, columns=[\\\"tsne_0\\\", \\\"tsne_1\\\"], index=features_sc.index\\n)\\ntsne_embs.loc[:, \\\"sample\\\"] = np.array(data.loc[tsne_embs.index, \\\"sample\\\"])\\ntsne_embs.loc[:, \\\"condition\\\"] = np.array(data.loc[tsne_embs.index, \\\"condition\\\"])\";\n",
       "                var nbb_cells = Jupyter.notebook.get_cells();\n",
       "                for (var i = 0; i < nbb_cells.length; ++i) {\n",
       "                    if (nbb_cells[i].input_prompt_number == nbb_cell_id) {\n",
       "                        if (nbb_cells[i].get_text() == nbb_unformatted_code) {\n",
       "                             nbb_cells[i].set_text(nbb_formatted_code);\n",
       "                        }\n",
       "                        break;\n",
       "                    }\n",
       "                }\n",
       "            }, 500);\n",
       "            "
      ],
      "text/plain": [
       "<IPython.core.display.Javascript object>"
      ]
     },
     "metadata": {},
     "output_type": "display_data"
    }
   ],
   "source": [
    "tsne = TSNE(random_state=seed)\n",
    "tsne_embs = tsne.fit_transform(features_sc)\n",
    "tsne_embs = pd.DataFrame(\n",
    "    tsne_embs, columns=[\"tsne_0\", \"tsne_1\"], index=features_sc.index\n",
    ")\n",
    "tsne_embs.loc[:, \"sample\"] = np.array(data.loc[tsne_embs.index, \"sample\"])\n",
    "tsne_embs.loc[:, \"condition\"] = np.array(data.loc[tsne_embs.index, \"condition\"])"
   ]
  },
  {
   "cell_type": "code",
   "execution_count": 15,
   "id": "olympic-tissue",
   "metadata": {},
   "outputs": [
    {
     "data": {
      "image/png": "[encoded data removed]",
      "text/plain": [
       "<Figure size 576x432 with 1 Axes>"
      ]
     },
     "metadata": {
      "needs_background": "light"
     },
     "output_type": "display_data"
    },
    {
     "data": {
      "application/javascript": [
       "\n",
       "            setTimeout(function() {\n",
       "                var nbb_cell_id = 15;\n",
       "                var nbb_unformatted_code = \"fig, ax = plt.subplots(figsize=[8, 6])\\nax = sns.scatterplot(data=tsne_embs, x=\\\"tsne_0\\\", y=\\\"tsne_1\\\", hue=\\\"condition\\\", ax=ax)\\nplt.title(\\\"TSNE of the nuclei by condition\\\")\\nplt.show()\";\n",
       "                var nbb_formatted_code = \"fig, ax = plt.subplots(figsize=[8, 6])\\nax = sns.scatterplot(data=tsne_embs, x=\\\"tsne_0\\\", y=\\\"tsne_1\\\", hue=\\\"condition\\\", ax=ax)\\nplt.title(\\\"TSNE of the nuclei by condition\\\")\\nplt.show()\";\n",
       "                var nbb_cells = Jupyter.notebook.get_cells();\n",
       "                for (var i = 0; i < nbb_cells.length; ++i) {\n",
       "                    if (nbb_cells[i].input_prompt_number == nbb_cell_id) {\n",
       "                        if (nbb_cells[i].get_text() == nbb_unformatted_code) {\n",
       "                             nbb_cells[i].set_text(nbb_formatted_code);\n",
       "                        }\n",
       "                        break;\n",
       "                    }\n",
       "                }\n",
       "            }, 500);\n",
       "            "
      ],
      "text/plain": [
       "<IPython.core.display.Javascript object>"
      ]
     },
     "metadata": {},
     "output_type": "display_data"
    }
   ],
   "source": [
    "fig, ax = plt.subplots(figsize=[8, 6])\n",
    "ax = sns.scatterplot(data=tsne_embs, x=\"tsne_0\", y=\"tsne_1\", hue=\"condition\", ax=ax)\n",
    "plt.title(\"TSNE of the nuclei by condition\")\n",
    "plt.show()"
   ]
  },
  {
   "cell_type": "markdown",
   "id": "alone-respect",
   "metadata": {},
   "source": [
    "As you can see the blood cells before the first treatment are very different from those of the healthy control population. Interestingly the samples from the intermediate time point of the treament and the post-treatment time point cluster together with the samples from the pre-treatment condition. There does not seem to be any strong treatment effect in that biological sample."
   ]
  },
  {
   "cell_type": "markdown",
   "id": "greek-satin",
   "metadata": {},
   "source": [
    "---\n",
    "\n",
    "## 4. Separability of the time points\n",
    "\n",
    "Next, we will look more into the differences of the PBMC phenotypes at the different time points of the treatment in comparison to the healthy controls. To this end, we will train a RandomForest classifier model on distinguishing between the different data conditions."
   ]
  },
  {
   "cell_type": "markdown",
   "id": "champion-bryan",
   "metadata": {},
   "source": [
    "To this end, we perform a 10-fold Stratified cross-validation approach and look at the average confusion matrix of the individual folds."
   ]
  },
  {
   "cell_type": "code",
   "execution_count": 16,
   "id": "hourly-banner",
   "metadata": {},
   "outputs": [
    {
     "data": {
      "application/javascript": [
       "\n",
       "            setTimeout(function() {\n",
       "                var nbb_cell_id = 16;\n",
       "                var nbb_unformatted_code = \"rfc = RandomForestClassifier(\\n    n_estimators=500, n_jobs=10, random_state=seed, class_weight=\\\"balanced\\\"\\n)\\navg_conf_mtx = compute_avg_conf_mtx(\\n    model=rfc, n_folds=10, features=features_sc, labels=condition_labels\\n)\";\n",
       "                var nbb_formatted_code = \"rfc = RandomForestClassifier(\\n    n_estimators=500, n_jobs=10, random_state=seed, class_weight=\\\"balanced\\\"\\n)\\navg_conf_mtx = compute_avg_conf_mtx(\\n    model=rfc, n_folds=10, features=features_sc, labels=condition_labels\\n)\";\n",
       "                var nbb_cells = Jupyter.notebook.get_cells();\n",
       "                for (var i = 0; i < nbb_cells.length; ++i) {\n",
       "                    if (nbb_cells[i].input_prompt_number == nbb_cell_id) {\n",
       "                        if (nbb_cells[i].get_text() == nbb_unformatted_code) {\n",
       "                             nbb_cells[i].set_text(nbb_formatted_code);\n",
       "                        }\n",
       "                        break;\n",
       "                    }\n",
       "                }\n",
       "            }, 500);\n",
       "            "
      ],
      "text/plain": [
       "<IPython.core.display.Javascript object>"
      ]
     },
     "metadata": {},
     "output_type": "display_data"
    }
   ],
   "source": [
    "rfc = RandomForestClassifier(\n",
    "    n_estimators=500, n_jobs=10, random_state=seed, class_weight=\"balanced\"\n",
    ")\n",
    "avg_conf_mtx = compute_avg_conf_mtx(\n",
    "    model=rfc, n_folds=10, features=features_sc, labels=condition_labels\n",
    ")"
   ]
  },
  {
   "cell_type": "code",
   "execution_count": 17,
   "id": "happy-audience",
   "metadata": {},
   "outputs": [
    {
     "data": {
      "image/png": "[encoded data removed]",
      "text/plain": [
       "<Figure size 432x288 with 2 Axes>"
      ]
     },
     "metadata": {
      "needs_background": "light"
     },
     "output_type": "display_data"
    },
    {
     "data": {
      "application/javascript": [
       "\n",
       "            setTimeout(function() {\n",
       "                var nbb_cell_id = 17;\n",
       "                var nbb_unformatted_code = \"fig, ax = plt.subplots(figsize=[6, 4])\\nax = sns.heatmap(avg_conf_mtx, annot=True, cmap=\\\"viridis\\\", ax=ax)\\nax.set_xlabel(\\\"Predicted\\\")\\nax.set_ylabel(\\\"True\\\")\\nplt.title(\\\"Average confusion matrix from {}-fold stratified CV\\\".format(10))\\nplt.show()\";\n",
       "                var nbb_formatted_code = \"fig, ax = plt.subplots(figsize=[6, 4])\\nax = sns.heatmap(avg_conf_mtx, annot=True, cmap=\\\"viridis\\\", ax=ax)\\nax.set_xlabel(\\\"Predicted\\\")\\nax.set_ylabel(\\\"True\\\")\\nplt.title(\\\"Average confusion matrix from {}-fold stratified CV\\\".format(10))\\nplt.show()\";\n",
       "                var nbb_cells = Jupyter.notebook.get_cells();\n",
       "                for (var i = 0; i < nbb_cells.length; ++i) {\n",
       "                    if (nbb_cells[i].input_prompt_number == nbb_cell_id) {\n",
       "                        if (nbb_cells[i].get_text() == nbb_unformatted_code) {\n",
       "                             nbb_cells[i].set_text(nbb_formatted_code);\n",
       "                        }\n",
       "                        break;\n",
       "                    }\n",
       "                }\n",
       "            }, 500);\n",
       "            "
      ],
      "text/plain": [
       "<IPython.core.display.Javascript object>"
      ]
     },
     "metadata": {},
     "output_type": "display_data"
    }
   ],
   "source": [
    "fig, ax = plt.subplots(figsize=[6, 4])\n",
    "ax = sns.heatmap(avg_conf_mtx, annot=True, cmap=\"viridis\", ax=ax)\n",
    "ax.set_xlabel(\"Predicted\")\n",
    "ax.set_ylabel(\"True\")\n",
    "plt.title(\"Average confusion matrix from {}-fold stratified CV\".format(10))\n",
    "plt.show()"
   ]
  },
  {
   "cell_type": "markdown",
   "id": "plastic-surprise",
   "metadata": {},
   "source": [
    "The confusion matrix further emphasizes the previous statements. For all cases we can fairly well distinguish the samples from the cancer patient at the different time points from the halthy controls. However, we can less well distinguish between the different time points."
   ]
  },
  {
   "cell_type": "code",
   "execution_count": 18,
   "id": "peripheral-figure",
   "metadata": {},
   "outputs": [
    {
     "data": {
      "image/png": "[encoded data removed]",
      "text/plain": [
       "<Figure size 576x432 with 1 Axes>"
      ]
     },
     "metadata": {
      "needs_background": "light"
     },
     "output_type": "display_data"
    },
    {
     "data": {
      "application/javascript": [
       "\n",
       "            setTimeout(function() {\n",
       "                var nbb_cell_id = 18;\n",
       "                var nbb_unformatted_code = \"rfc = rfc.fit(features_sc, condition_labels)\\nplot_feature_importance(rfc.feature_importances_, features_sc.columns, \\\"RFC \\\")\";\n",
       "                var nbb_formatted_code = \"rfc = rfc.fit(features_sc, condition_labels)\\nplot_feature_importance(rfc.feature_importances_, features_sc.columns, \\\"RFC \\\")\";\n",
       "                var nbb_cells = Jupyter.notebook.get_cells();\n",
       "                for (var i = 0; i < nbb_cells.length; ++i) {\n",
       "                    if (nbb_cells[i].input_prompt_number == nbb_cell_id) {\n",
       "                        if (nbb_cells[i].get_text() == nbb_unformatted_code) {\n",
       "                             nbb_cells[i].set_text(nbb_formatted_code);\n",
       "                        }\n",
       "                        break;\n",
       "                    }\n",
       "                }\n",
       "            }, 500);\n",
       "            "
      ],
      "text/plain": [
       "<IPython.core.display.Javascript object>"
      ]
     },
     "metadata": {},
     "output_type": "display_data"
    }
   ],
   "source": [
    "rfc = rfc.fit(features_sc, condition_labels)\n",
    "plot_feature_importance(rfc.feature_importances_, features_sc.columns, \"RFC \")"
   ]
  },
  {
   "cell_type": "markdown",
   "id": "encouraging-guyana",
   "metadata": {},
   "source": [
    "When we look at the features that got the highest importance we see that many of these are related to intensity features of the protein channels."
   ]
  },
  {
   "cell_type": "code",
   "execution_count": 19,
   "id": "cultural-fraud",
   "metadata": {},
   "outputs": [
    {
     "data": {
      "image/png": "[encoded data removed]",
      "text/plain": [
       "<Figure size 432x288 with 1 Axes>"
      ]
     },
     "metadata": {
      "needs_background": "light"
     },
     "output_type": "display_data"
    },
    {
     "data": {
      "application/javascript": [
       "\n",
       "            setTimeout(function() {\n",
       "                var nbb_cell_id = 19;\n",
       "                var nbb_unformatted_code = \"fig, ax = plt.subplots(figsize=[6, 4])\\nsns.boxplot(data=data, x=\\\"condition\\\", y=\\\"std_curvature\\\", ax=ax)\\nadd_stat_annotation(\\n    ax,\\n    data=data,\\n    x=\\\"condition\\\",\\n    y=\\\"std_curvature\\\",\\n    box_pairs=[\\n        (\\\"ctrl\\\", \\\"tp1\\\"),\\n        (\\\"ctrl\\\", \\\"tp2\\\"),\\n        (\\\"ctrl\\\", \\\"tp3\\\"),\\n        (\\\"tp1\\\", \\\"tp2\\\"),\\n        (\\\"tp1\\\", \\\"tp3\\\"),\\n        (\\\"tp2\\\", \\\"tp3\\\"),\\n    ],\\n    test=\\\"Mann-Whitney\\\",\\n    loc=\\\"inside\\\",\\n    verbose=0,\\n)\\nplt.show()\";\n",
       "                var nbb_formatted_code = \"fig, ax = plt.subplots(figsize=[6, 4])\\nsns.boxplot(data=data, x=\\\"condition\\\", y=\\\"std_curvature\\\", ax=ax)\\nadd_stat_annotation(\\n    ax,\\n    data=data,\\n    x=\\\"condition\\\",\\n    y=\\\"std_curvature\\\",\\n    box_pairs=[\\n        (\\\"ctrl\\\", \\\"tp1\\\"),\\n        (\\\"ctrl\\\", \\\"tp2\\\"),\\n        (\\\"ctrl\\\", \\\"tp3\\\"),\\n        (\\\"tp1\\\", \\\"tp2\\\"),\\n        (\\\"tp1\\\", \\\"tp3\\\"),\\n        (\\\"tp2\\\", \\\"tp3\\\"),\\n    ],\\n    test=\\\"Mann-Whitney\\\",\\n    loc=\\\"inside\\\",\\n    verbose=0,\\n)\\nplt.show()\";\n",
       "                var nbb_cells = Jupyter.notebook.get_cells();\n",
       "                for (var i = 0; i < nbb_cells.length; ++i) {\n",
       "                    if (nbb_cells[i].input_prompt_number == nbb_cell_id) {\n",
       "                        if (nbb_cells[i].get_text() == nbb_unformatted_code) {\n",
       "                             nbb_cells[i].set_text(nbb_formatted_code);\n",
       "                        }\n",
       "                        break;\n",
       "                    }\n",
       "                }\n",
       "            }, 500);\n",
       "            "
      ],
      "text/plain": [
       "<IPython.core.display.Javascript object>"
      ]
     },
     "metadata": {},
     "output_type": "display_data"
    }
   ],
   "source": [
    "fig, ax = plt.subplots(figsize=[6, 4])\n",
    "sns.boxplot(data=data, x=\"condition\", y=\"std_curvature\", ax=ax)\n",
    "add_stat_annotation(\n",
    "    ax,\n",
    "    data=data,\n",
    "    x=\"condition\",\n",
    "    y=\"std_curvature\",\n",
    "    box_pairs=[\n",
    "        (\"ctrl\", \"tp1\"),\n",
    "        (\"ctrl\", \"tp2\"),\n",
    "        (\"ctrl\", \"tp3\"),\n",
    "        (\"tp1\", \"tp2\"),\n",
    "        (\"tp1\", \"tp3\"),\n",
    "        (\"tp2\", \"tp3\"),\n",
    "    ],\n",
    "    test=\"Mann-Whitney\",\n",
    "    loc=\"inside\",\n",
    "    verbose=0,\n",
    ")\n",
    "plt.show()"
   ]
  },
  {
   "cell_type": "code",
   "execution_count": 20,
   "id": "golden-anniversary",
   "metadata": {},
   "outputs": [
    {
     "data": {
      "image/png": "[encoded data removed]",
      "text/plain": [
       "<Figure size 432x288 with 1 Axes>"
      ]
     },
     "metadata": {
      "needs_background": "light"
     },
     "output_type": "display_data"
    },
    {
     "data": {
      "application/javascript": [
       "\n",
       "            setTimeout(function() {\n",
       "                var nbb_cell_id = 20;\n",
       "                var nbb_unformatted_code = \"fig, ax = plt.subplots(figsize=[6, 4])\\nsns.boxplot(data=data, x=\\\"condition\\\", y=\\\"area\\\", ax=ax)\\nadd_stat_annotation(\\n    ax,\\n    data=data,\\n    x=\\\"condition\\\",\\n    y=\\\"area\\\",\\n    box_pairs=[\\n        (\\\"ctrl\\\", \\\"tp1\\\"),\\n        (\\\"ctrl\\\", \\\"tp2\\\"),\\n        (\\\"ctrl\\\", \\\"tp3\\\"),\\n        (\\\"tp1\\\", \\\"tp2\\\"),\\n        (\\\"tp1\\\", \\\"tp3\\\"),\\n        (\\\"tp2\\\", \\\"tp3\\\"),\\n    ],\\n    test=\\\"Mann-Whitney\\\",\\n    loc=\\\"inside\\\",\\n    verbose=0,\\n)\\nplt.show()\";\n",
       "                var nbb_formatted_code = \"fig, ax = plt.subplots(figsize=[6, 4])\\nsns.boxplot(data=data, x=\\\"condition\\\", y=\\\"area\\\", ax=ax)\\nadd_stat_annotation(\\n    ax,\\n    data=data,\\n    x=\\\"condition\\\",\\n    y=\\\"area\\\",\\n    box_pairs=[\\n        (\\\"ctrl\\\", \\\"tp1\\\"),\\n        (\\\"ctrl\\\", \\\"tp2\\\"),\\n        (\\\"ctrl\\\", \\\"tp3\\\"),\\n        (\\\"tp1\\\", \\\"tp2\\\"),\\n        (\\\"tp1\\\", \\\"tp3\\\"),\\n        (\\\"tp2\\\", \\\"tp3\\\"),\\n    ],\\n    test=\\\"Mann-Whitney\\\",\\n    loc=\\\"inside\\\",\\n    verbose=0,\\n)\\nplt.show()\";\n",
       "                var nbb_cells = Jupyter.notebook.get_cells();\n",
       "                for (var i = 0; i < nbb_cells.length; ++i) {\n",
       "                    if (nbb_cells[i].input_prompt_number == nbb_cell_id) {\n",
       "                        if (nbb_cells[i].get_text() == nbb_unformatted_code) {\n",
       "                             nbb_cells[i].set_text(nbb_formatted_code);\n",
       "                        }\n",
       "                        break;\n",
       "                    }\n",
       "                }\n",
       "            }, 500);\n",
       "            "
      ],
      "text/plain": [
       "<IPython.core.display.Javascript object>"
      ]
     },
     "metadata": {},
     "output_type": "display_data"
    }
   ],
   "source": [
    "fig, ax = plt.subplots(figsize=[6, 4])\n",
    "sns.boxplot(data=data, x=\"condition\", y=\"area\", ax=ax)\n",
    "add_stat_annotation(\n",
    "    ax,\n",
    "    data=data,\n",
    "    x=\"condition\",\n",
    "    y=\"area\",\n",
    "    box_pairs=[\n",
    "        (\"ctrl\", \"tp1\"),\n",
    "        (\"ctrl\", \"tp2\"),\n",
    "        (\"ctrl\", \"tp3\"),\n",
    "        (\"tp1\", \"tp2\"),\n",
    "        (\"tp1\", \"tp3\"),\n",
    "        (\"tp2\", \"tp3\"),\n",
    "    ],\n",
    "    test=\"Mann-Whitney\",\n",
    "    loc=\"inside\",\n",
    "    verbose=0,\n",
    ")\n",
    "plt.show()"
   ]
  },
  {
   "cell_type": "code",
   "execution_count": 21,
   "id": "infectious-zambia",
   "metadata": {},
   "outputs": [
    {
     "data": {
      "image/png": "[encoded data removed]",
      "text/plain": [
       "<Figure size 432x288 with 1 Axes>"
      ]
     },
     "metadata": {
      "needs_background": "light"
     },
     "output_type": "display_data"
    },
    {
     "data": {
      "application/javascript": [
       "\n",
       "            setTimeout(function() {\n",
       "                var nbb_cell_id = 21;\n",
       "                var nbb_unformatted_code = \"fig, ax = plt.subplots(figsize=[6, 4])\\nsns.boxplot(data=data, x=\\\"condition\\\", y=\\\"med_radius\\\", ax=ax)\\nadd_stat_annotation(\\n    ax,\\n    data=data,\\n    x=\\\"condition\\\",\\n    y=\\\"med_radius\\\",\\n    box_pairs=[\\n        (\\\"ctrl\\\", \\\"tp1\\\"),\\n        (\\\"ctrl\\\", \\\"tp2\\\"),\\n        (\\\"ctrl\\\", \\\"tp3\\\"),\\n        (\\\"tp1\\\", \\\"tp2\\\"),\\n        (\\\"tp1\\\", \\\"tp3\\\"),\\n        (\\\"tp2\\\", \\\"tp3\\\"),\\n    ],\\n    test=\\\"Mann-Whitney\\\",\\n    loc=\\\"inside\\\",\\n    verbose=0,\\n)\\nplt.show()\";\n",
       "                var nbb_formatted_code = \"fig, ax = plt.subplots(figsize=[6, 4])\\nsns.boxplot(data=data, x=\\\"condition\\\", y=\\\"med_radius\\\", ax=ax)\\nadd_stat_annotation(\\n    ax,\\n    data=data,\\n    x=\\\"condition\\\",\\n    y=\\\"med_radius\\\",\\n    box_pairs=[\\n        (\\\"ctrl\\\", \\\"tp1\\\"),\\n        (\\\"ctrl\\\", \\\"tp2\\\"),\\n        (\\\"ctrl\\\", \\\"tp3\\\"),\\n        (\\\"tp1\\\", \\\"tp2\\\"),\\n        (\\\"tp1\\\", \\\"tp3\\\"),\\n        (\\\"tp2\\\", \\\"tp3\\\"),\\n    ],\\n    test=\\\"Mann-Whitney\\\",\\n    loc=\\\"inside\\\",\\n    verbose=0,\\n)\\nplt.show()\";\n",
       "                var nbb_cells = Jupyter.notebook.get_cells();\n",
       "                for (var i = 0; i < nbb_cells.length; ++i) {\n",
       "                    if (nbb_cells[i].input_prompt_number == nbb_cell_id) {\n",
       "                        if (nbb_cells[i].get_text() == nbb_unformatted_code) {\n",
       "                             nbb_cells[i].set_text(nbb_formatted_code);\n",
       "                        }\n",
       "                        break;\n",
       "                    }\n",
       "                }\n",
       "            }, 500);\n",
       "            "
      ],
      "text/plain": [
       "<IPython.core.display.Javascript object>"
      ]
     },
     "metadata": {},
     "output_type": "display_data"
    }
   ],
   "source": [
    "fig, ax = plt.subplots(figsize=[6, 4])\n",
    "sns.boxplot(data=data, x=\"condition\", y=\"med_radius\", ax=ax)\n",
    "add_stat_annotation(\n",
    "    ax,\n",
    "    data=data,\n",
    "    x=\"condition\",\n",
    "    y=\"med_radius\",\n",
    "    box_pairs=[\n",
    "        (\"ctrl\", \"tp1\"),\n",
    "        (\"ctrl\", \"tp2\"),\n",
    "        (\"ctrl\", \"tp3\"),\n",
    "        (\"tp1\", \"tp2\"),\n",
    "        (\"tp1\", \"tp3\"),\n",
    "        (\"tp2\", \"tp3\"),\n",
    "    ],\n",
    "    test=\"Mann-Whitney\",\n",
    "    loc=\"inside\",\n",
    "    verbose=0,\n",
    ")\n",
    "plt.show()"
   ]
  },
  {
   "cell_type": "code",
   "execution_count": 22,
   "id": "unusual-sculpture",
   "metadata": {},
   "outputs": [
    {
     "data": {
      "image/png": "[encoded data removed]",
      "text/plain": [
       "<Figure size 432x288 with 1 Axes>"
      ]
     },
     "metadata": {
      "needs_background": "light"
     },
     "output_type": "display_data"
    },
    {
     "data": {
      "application/javascript": [
       "\n",
       "            setTimeout(function() {\n",
       "                var nbb_cell_id = 22;\n",
       "                var nbb_unformatted_code = \"fig, ax = plt.subplots(figsize=[6, 4])\\nsns.boxplot(data=data, x=\\\"condition\\\", y=\\\"concavity_3d\\\", ax=ax)\\nadd_stat_annotation(\\n    ax,\\n    data=data,\\n    x=\\\"condition\\\",\\n    y=\\\"concavity_3d\\\",\\n    box_pairs=[\\n        (\\\"ctrl\\\", \\\"tp1\\\"),\\n        (\\\"ctrl\\\", \\\"tp2\\\"),\\n        (\\\"ctrl\\\", \\\"tp3\\\"),\\n        (\\\"tp1\\\", \\\"tp2\\\"),\\n        (\\\"tp1\\\", \\\"tp3\\\"),\\n        (\\\"tp2\\\", \\\"tp3\\\"),\\n    ],\\n    test=\\\"Mann-Whitney\\\",\\n    loc=\\\"inside\\\",\\n    verbose=0,\\n)\\nplt.show()\";\n",
       "                var nbb_formatted_code = \"fig, ax = plt.subplots(figsize=[6, 4])\\nsns.boxplot(data=data, x=\\\"condition\\\", y=\\\"concavity_3d\\\", ax=ax)\\nadd_stat_annotation(\\n    ax,\\n    data=data,\\n    x=\\\"condition\\\",\\n    y=\\\"concavity_3d\\\",\\n    box_pairs=[\\n        (\\\"ctrl\\\", \\\"tp1\\\"),\\n        (\\\"ctrl\\\", \\\"tp2\\\"),\\n        (\\\"ctrl\\\", \\\"tp3\\\"),\\n        (\\\"tp1\\\", \\\"tp2\\\"),\\n        (\\\"tp1\\\", \\\"tp3\\\"),\\n        (\\\"tp2\\\", \\\"tp3\\\"),\\n    ],\\n    test=\\\"Mann-Whitney\\\",\\n    loc=\\\"inside\\\",\\n    verbose=0,\\n)\\nplt.show()\";\n",
       "                var nbb_cells = Jupyter.notebook.get_cells();\n",
       "                for (var i = 0; i < nbb_cells.length; ++i) {\n",
       "                    if (nbb_cells[i].input_prompt_number == nbb_cell_id) {\n",
       "                        if (nbb_cells[i].get_text() == nbb_unformatted_code) {\n",
       "                             nbb_cells[i].set_text(nbb_formatted_code);\n",
       "                        }\n",
       "                        break;\n",
       "                    }\n",
       "                }\n",
       "            }, 500);\n",
       "            "
      ],
      "text/plain": [
       "<IPython.core.display.Javascript object>"
      ]
     },
     "metadata": {},
     "output_type": "display_data"
    }
   ],
   "source": [
    "fig, ax = plt.subplots(figsize=[6, 4])\n",
    "sns.boxplot(data=data, x=\"condition\", y=\"concavity_3d\", ax=ax)\n",
    "add_stat_annotation(\n",
    "    ax,\n",
    "    data=data,\n",
    "    x=\"condition\",\n",
    "    y=\"concavity_3d\",\n",
    "    box_pairs=[\n",
    "        (\"ctrl\", \"tp1\"),\n",
    "        (\"ctrl\", \"tp2\"),\n",
    "        (\"ctrl\", \"tp3\"),\n",
    "        (\"tp1\", \"tp2\"),\n",
    "        (\"tp1\", \"tp3\"),\n",
    "        (\"tp2\", \"tp3\"),\n",
    "    ],\n",
    "    test=\"Mann-Whitney\",\n",
    "    loc=\"inside\",\n",
    "    verbose=0,\n",
    ")\n",
    "plt.show()"
   ]
  },
  {
   "cell_type": "code",
   "execution_count": 23,
   "id": "jewish-helen",
   "metadata": {},
   "outputs": [
    {
     "data": {
      "image/png": "[encoded data removed]",
      "text/plain": [
       "<Figure size 432x432 with 1 Axes>"
      ]
     },
     "metadata": {
      "needs_background": "light"
     },
     "output_type": "display_data"
    },
    {
     "data": {
      "application/javascript": [
       "\n",
       "            setTimeout(function() {\n",
       "                var nbb_cell_id = 23;\n",
       "                var nbb_unformatted_code = \"fig, ax = plt.subplots(figsize=[6, 6])\\nsns.boxplot(data=data, x=\\\"condition\\\", y=\\\"rel_gh2ax_3d_int\\\", ax=ax)\\nax.set_ylim([0, 20000])\\nadd_stat_annotation(\\n    ax,\\n    data=data,\\n    x=\\\"condition\\\",\\n    y=\\\"rel_gh2ax_3d_int\\\",\\n    box_pairs=[\\n        (\\\"ctrl\\\", \\\"tp1\\\"),\\n        (\\\"ctrl\\\", \\\"tp2\\\"),\\n        (\\\"ctrl\\\", \\\"tp3\\\"),\\n        (\\\"tp1\\\", \\\"tp2\\\"),\\n        (\\\"tp1\\\", \\\"tp3\\\"),\\n        (\\\"tp2\\\", \\\"tp3\\\"),\\n    ],\\n    test=\\\"Mann-Whitney\\\",\\n    loc=\\\"outside\\\",\\n    verbose=0,\\n)\\nplt.show()\";\n",
       "                var nbb_formatted_code = \"fig, ax = plt.subplots(figsize=[6, 6])\\nsns.boxplot(data=data, x=\\\"condition\\\", y=\\\"rel_gh2ax_3d_int\\\", ax=ax)\\nax.set_ylim([0, 20000])\\nadd_stat_annotation(\\n    ax,\\n    data=data,\\n    x=\\\"condition\\\",\\n    y=\\\"rel_gh2ax_3d_int\\\",\\n    box_pairs=[\\n        (\\\"ctrl\\\", \\\"tp1\\\"),\\n        (\\\"ctrl\\\", \\\"tp2\\\"),\\n        (\\\"ctrl\\\", \\\"tp3\\\"),\\n        (\\\"tp1\\\", \\\"tp2\\\"),\\n        (\\\"tp1\\\", \\\"tp3\\\"),\\n        (\\\"tp2\\\", \\\"tp3\\\"),\\n    ],\\n    test=\\\"Mann-Whitney\\\",\\n    loc=\\\"outside\\\",\\n    verbose=0,\\n)\\nplt.show()\";\n",
       "                var nbb_cells = Jupyter.notebook.get_cells();\n",
       "                for (var i = 0; i < nbb_cells.length; ++i) {\n",
       "                    if (nbb_cells[i].input_prompt_number == nbb_cell_id) {\n",
       "                        if (nbb_cells[i].get_text() == nbb_unformatted_code) {\n",
       "                             nbb_cells[i].set_text(nbb_formatted_code);\n",
       "                        }\n",
       "                        break;\n",
       "                    }\n",
       "                }\n",
       "            }, 500);\n",
       "            "
      ],
      "text/plain": [
       "<IPython.core.display.Javascript object>"
      ]
     },
     "metadata": {},
     "output_type": "display_data"
    }
   ],
   "source": [
    "fig, ax = plt.subplots(figsize=[6, 6])\n",
    "sns.boxplot(data=data, x=\"condition\", y=\"rel_gh2ax_3d_int\", ax=ax)\n",
    "ax.set_ylim([0, 20000])\n",
    "add_stat_annotation(\n",
    "    ax,\n",
    "    data=data,\n",
    "    x=\"condition\",\n",
    "    y=\"rel_gh2ax_3d_int\",\n",
    "    box_pairs=[\n",
    "        (\"ctrl\", \"tp1\"),\n",
    "        (\"ctrl\", \"tp2\"),\n",
    "        (\"ctrl\", \"tp3\"),\n",
    "        (\"tp1\", \"tp2\"),\n",
    "        (\"tp1\", \"tp3\"),\n",
    "        (\"tp2\", \"tp3\"),\n",
    "    ],\n",
    "    test=\"Mann-Whitney\",\n",
    "    loc=\"outside\",\n",
    "    verbose=0,\n",
    ")\n",
    "plt.show()"
   ]
  },
  {
   "cell_type": "code",
   "execution_count": 24,
   "id": "precious-speech",
   "metadata": {},
   "outputs": [
    {
     "data": {
      "image/png": "[encoded data removed]",
      "text/plain": [
       "<Figure size 432x288 with 1 Axes>"
      ]
     },
     "metadata": {
      "needs_background": "light"
     },
     "output_type": "display_data"
    },
    {
     "data": {
      "application/javascript": [
       "\n",
       "            setTimeout(function() {\n",
       "                var nbb_cell_id = 24;\n",
       "                var nbb_unformatted_code = \"fig, ax = plt.subplots(figsize=[6, 4])\\nsns.boxplot(data=data, x=\\\"condition\\\", y=\\\"rel_lamin_3d_int\\\", ax=ax)\\nax.set_ylim([0, 3000])\\nadd_stat_annotation(\\n    ax,\\n    data=data,\\n    x=\\\"condition\\\",\\n    y=\\\"rel_lamin_3d_int\\\",\\n    box_pairs=[\\n        (\\\"ctrl\\\", \\\"tp1\\\"),\\n        (\\\"ctrl\\\", \\\"tp2\\\"),\\n        (\\\"ctrl\\\", \\\"tp3\\\"),\\n        (\\\"tp1\\\", \\\"tp2\\\"),\\n        (\\\"tp1\\\", \\\"tp3\\\"),\\n        (\\\"tp2\\\", \\\"tp3\\\"),\\n    ],\\n    test=\\\"Mann-Whitney\\\",\\n    loc=\\\"outside\\\",\\n    verbose=0,\\n)\\nplt.show()\";\n",
       "                var nbb_formatted_code = \"fig, ax = plt.subplots(figsize=[6, 4])\\nsns.boxplot(data=data, x=\\\"condition\\\", y=\\\"rel_lamin_3d_int\\\", ax=ax)\\nax.set_ylim([0, 3000])\\nadd_stat_annotation(\\n    ax,\\n    data=data,\\n    x=\\\"condition\\\",\\n    y=\\\"rel_lamin_3d_int\\\",\\n    box_pairs=[\\n        (\\\"ctrl\\\", \\\"tp1\\\"),\\n        (\\\"ctrl\\\", \\\"tp2\\\"),\\n        (\\\"ctrl\\\", \\\"tp3\\\"),\\n        (\\\"tp1\\\", \\\"tp2\\\"),\\n        (\\\"tp1\\\", \\\"tp3\\\"),\\n        (\\\"tp2\\\", \\\"tp3\\\"),\\n    ],\\n    test=\\\"Mann-Whitney\\\",\\n    loc=\\\"outside\\\",\\n    verbose=0,\\n)\\nplt.show()\";\n",
       "                var nbb_cells = Jupyter.notebook.get_cells();\n",
       "                for (var i = 0; i < nbb_cells.length; ++i) {\n",
       "                    if (nbb_cells[i].input_prompt_number == nbb_cell_id) {\n",
       "                        if (nbb_cells[i].get_text() == nbb_unformatted_code) {\n",
       "                             nbb_cells[i].set_text(nbb_formatted_code);\n",
       "                        }\n",
       "                        break;\n",
       "                    }\n",
       "                }\n",
       "            }, 500);\n",
       "            "
      ],
      "text/plain": [
       "<IPython.core.display.Javascript object>"
      ]
     },
     "metadata": {},
     "output_type": "display_data"
    }
   ],
   "source": [
    "fig, ax = plt.subplots(figsize=[6, 4])\n",
    "sns.boxplot(data=data, x=\"condition\", y=\"rel_lamin_3d_int\", ax=ax)\n",
    "ax.set_ylim([0, 3000])\n",
    "add_stat_annotation(\n",
    "    ax,\n",
    "    data=data,\n",
    "    x=\"condition\",\n",
    "    y=\"rel_lamin_3d_int\",\n",
    "    box_pairs=[\n",
    "        (\"ctrl\", \"tp1\"),\n",
    "        (\"ctrl\", \"tp2\"),\n",
    "        (\"ctrl\", \"tp3\"),\n",
    "        (\"tp1\", \"tp2\"),\n",
    "        (\"tp1\", \"tp3\"),\n",
    "        (\"tp2\", \"tp3\"),\n",
    "    ],\n",
    "    test=\"Mann-Whitney\",\n",
    "    loc=\"outside\",\n",
    "    verbose=0,\n",
    ")\n",
    "plt.show()"
   ]
  },
  {
   "cell_type": "code",
   "execution_count": null,
   "id": "honest-plastic",
   "metadata": {},
   "outputs": [],
   "source": []
  },
  {
   "cell_type": "code",
   "execution_count": null,
   "id": "disturbed-convert",
   "metadata": {},
   "outputs": [],
   "source": []
  }
 ],
 "metadata": {
  "kernelspec": {
   "display_name": "Python 3",
   "language": "python",
   "name": "python3"
  },
  "language_info": {
   "codemirror_mode": {
    "name": "ipython",
    "version": 3
   },
   "file_extension": ".py",
   "mimetype": "text/x-python",
   "name": "python",
   "nbconvert_exporter": "python",
   "pygments_lexer": "ipython3",
   "version": "3.8.8"
  }
 },
 "nbformat": 4,
 "nbformat_minor": 5
}
