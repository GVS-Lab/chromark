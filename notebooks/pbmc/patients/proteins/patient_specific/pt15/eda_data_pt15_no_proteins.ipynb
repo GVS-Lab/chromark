{
 "cells": [
  {
   "cell_type": "markdown",
   "id": "eight-british",
   "metadata": {},
   "source": [
    "# Exploratory data analysis of the data from patient 15\n",
    "\n",
    "---\n",
    "\n",
    "In this notebook we will analyze PBMC data set from patient 15 obtained from blood samples taken at 3 different time points before, during and after the proton therapy treatment. The treatment takes approximately 6 weeks with multiple sessions.\n",
    "\n",
    "The patient is 37 year old female that has Glioma. At each time point 10ml blood were taken and the PBMCs were purifried, stained with DAPI, gH2AX and Lamin A/C and imaged with 16bit at a resolution of 0.09 micron in x-y direction, respectively 0.5 micron in z-direction. Each FoV is of the size of (1024x1024x40) pixels.\n",
    "\n",
    "The data will be compared with a control data set of PBMCs purified from blood of 10 healthy volunteers of varying sex and age (24-60). In this analyses we will use features extracted that describe the nuclear morphology and chromatin organization in 2D/3D and the gH2AX and Lamin A/C expression.\n",
    "\n",
    "---"
   ]
  },
  {
   "cell_type": "markdown",
   "id": "south-video",
   "metadata": {},
   "source": [
    "## 0. Environmental setup"
   ]
  },
  {
   "cell_type": "markdown",
   "id": "liquid-puzzle",
   "metadata": {},
   "source": [
    "First, we load the required libraries and define functions, that we will use later on for the analyses."
   ]
  },
  {
   "cell_type": "code",
   "execution_count": 1,
   "id": "forward-newcastle",
   "metadata": {},
   "outputs": [
    {
     "data": {
      "application/javascript": [
       "\n",
       "            setTimeout(function() {\n",
       "                var nbb_cell_id = 1;\n",
       "                var nbb_unformatted_code = \"import pandas as pd\\nimport numpy as np\\nimport seaborn as sns\\nimport random\\nimport os\\nimport matplotlib.pyplot as plt\\nimport tifffile\\nfrom sklearn.manifold import TSNE\\nfrom sklearn.preprocessing import StandardScaler, LabelEncoder\\nfrom sklearn.ensemble import RandomForestClassifier\\nfrom sklearn.model_selection import cross_validate, StratifiedKFold\\nfrom sklearn.metrics import confusion_matrix\\nfrom sklearn.metrics import auc\\nfrom sklearn.metrics import plot_roc_curve\\nfrom sklearn.metrics import roc_curve, roc_auc_score, RocCurveDisplay\\nfrom tqdm import tqdm\\nfrom statsmodels.stats.outliers_influence import variance_inflation_factor\\nfrom statannot import add_stat_annotation\\n\\nimport sys\\nimport cv2 as cv\\n\\nsys.path.append(\\\"../../../../..\\\")\\nfrom src.utils.notebooks.eda import *\\n\\nseed = 1234\\nrandom.seed(1234)\\nnp.random.seed(1234)\\n\\n%load_ext nb_black\";\n",
       "                var nbb_formatted_code = \"import pandas as pd\\nimport numpy as np\\nimport seaborn as sns\\nimport random\\nimport os\\nimport matplotlib.pyplot as plt\\nimport tifffile\\nfrom sklearn.manifold import TSNE\\nfrom sklearn.preprocessing import StandardScaler, LabelEncoder\\nfrom sklearn.ensemble import RandomForestClassifier\\nfrom sklearn.model_selection import cross_validate, StratifiedKFold\\nfrom sklearn.metrics import confusion_matrix\\nfrom sklearn.metrics import auc\\nfrom sklearn.metrics import plot_roc_curve\\nfrom sklearn.metrics import roc_curve, roc_auc_score, RocCurveDisplay\\nfrom tqdm import tqdm\\nfrom statsmodels.stats.outliers_influence import variance_inflation_factor\\nfrom statannot import add_stat_annotation\\n\\nimport sys\\nimport cv2 as cv\\n\\nsys.path.append(\\\"../../../../..\\\")\\nfrom src.utils.notebooks.eda import *\\n\\nseed = 1234\\nrandom.seed(1234)\\nnp.random.seed(1234)\\n\\n%load_ext nb_black\";\n",
       "                var nbb_cells = Jupyter.notebook.get_cells();\n",
       "                for (var i = 0; i < nbb_cells.length; ++i) {\n",
       "                    if (nbb_cells[i].input_prompt_number == nbb_cell_id) {\n",
       "                        if (nbb_cells[i].get_text() == nbb_unformatted_code) {\n",
       "                             nbb_cells[i].set_text(nbb_formatted_code);\n",
       "                        }\n",
       "                        break;\n",
       "                    }\n",
       "                }\n",
       "            }, 500);\n",
       "            "
      ],
      "text/plain": [
       "<IPython.core.display.Javascript object>"
      ]
     },
     "metadata": {},
     "output_type": "display_data"
    }
   ],
   "source": [
    "import pandas as pd\n",
    "import numpy as np\n",
    "import seaborn as sns\n",
    "import random\n",
    "import os\n",
    "import matplotlib.pyplot as plt\n",
    "import tifffile\n",
    "from sklearn.manifold import TSNE\n",
    "from sklearn.preprocessing import StandardScaler, LabelEncoder\n",
    "from sklearn.ensemble import RandomForestClassifier\n",
    "from sklearn.model_selection import cross_validate, StratifiedKFold\n",
    "from sklearn.metrics import confusion_matrix\n",
    "from sklearn.metrics import auc\n",
    "from sklearn.metrics import plot_roc_curve\n",
    "from sklearn.metrics import roc_curve, roc_auc_score, RocCurveDisplay\n",
    "from tqdm import tqdm\n",
    "from statsmodels.stats.outliers_influence import variance_inflation_factor\n",
    "from statannot import add_stat_annotation\n",
    "\n",
    "import sys\n",
    "import cv2 as cv\n",
    "\n",
    "sys.path.append(\"../../../../..\")\n",
    "from src.utils.notebooks.eda import *\n",
    "\n",
    "seed = 1234\n",
    "random.seed(1234)\n",
    "np.random.seed(1234)\n",
    "\n",
    "%load_ext nb_black"
   ]
  },
  {
   "cell_type": "markdown",
   "id": "acknowledged-ghana",
   "metadata": {},
   "source": [
    "---\n",
    "\n",
    "## 1. Read in data\n",
    "\n",
    "Next, we read in the data sets that describe the PBMC population of the healthy controls as well as of patient 17 at the different time points over the course of the treatment."
   ]
  },
  {
   "cell_type": "code",
   "execution_count": 2,
   "id": "adapted-adjustment",
   "metadata": {},
   "outputs": [
    {
     "data": {
      "application/javascript": [
       "\n",
       "            setTimeout(function() {\n",
       "                var nbb_cell_id = 2;\n",
       "                var nbb_unformatted_code = \"hv_basedir = \\\"../../../../../data/pbmc_hv/proteins/\\\"\\nhv_subdirs = [f.path for f in os.scandir(hv_basedir) if f.is_dir()]\\nhv_datas = []\\nfor hv_subdir in hv_subdirs:\\n    sample = os.path.split(hv_subdir)[1].split(\\\"_\\\")[0].lower()\\n    hv_datas.append(\\n        read_in_data(\\n            feature_file_path=hv_subdir\\n            + \\\"/preprocessed/full_pipeline/nuclear_features.csv\\\",\\n            qc_file_path=hv_subdir\\n            + \\\"/preprocessed/full_pipeline/segmentation/qc_results.csv\\\",\\n            sample=sample,\\n        )\\n    )\\nhv_data = hv_datas[0].copy()\\nfor i in range(1, len(hv_datas)):\\n    hv_data = hv_data.append(hv_datas[i])\\nhv_data[\\\"condition\\\"] = \\\"ctrl\\\"\";\n",
       "                var nbb_formatted_code = \"hv_basedir = \\\"../../../../../data/pbmc_hv/proteins/\\\"\\nhv_subdirs = [f.path for f in os.scandir(hv_basedir) if f.is_dir()]\\nhv_datas = []\\nfor hv_subdir in hv_subdirs:\\n    sample = os.path.split(hv_subdir)[1].split(\\\"_\\\")[0].lower()\\n    hv_datas.append(\\n        read_in_data(\\n            feature_file_path=hv_subdir\\n            + \\\"/preprocessed/full_pipeline/nuclear_features.csv\\\",\\n            qc_file_path=hv_subdir\\n            + \\\"/preprocessed/full_pipeline/segmentation/qc_results.csv\\\",\\n            sample=sample,\\n        )\\n    )\\nhv_data = hv_datas[0].copy()\\nfor i in range(1, len(hv_datas)):\\n    hv_data = hv_data.append(hv_datas[i])\\nhv_data[\\\"condition\\\"] = \\\"ctrl\\\"\";\n",
       "                var nbb_cells = Jupyter.notebook.get_cells();\n",
       "                for (var i = 0; i < nbb_cells.length; ++i) {\n",
       "                    if (nbb_cells[i].input_prompt_number == nbb_cell_id) {\n",
       "                        if (nbb_cells[i].get_text() == nbb_unformatted_code) {\n",
       "                             nbb_cells[i].set_text(nbb_formatted_code);\n",
       "                        }\n",
       "                        break;\n",
       "                    }\n",
       "                }\n",
       "            }, 500);\n",
       "            "
      ],
      "text/plain": [
       "<IPython.core.display.Javascript object>"
      ]
     },
     "metadata": {},
     "output_type": "display_data"
    }
   ],
   "source": [
    "hv_basedir = \"../../../../../data/pbmc_hv/proteins/\"\n",
    "hv_subdirs = [f.path for f in os.scandir(hv_basedir) if f.is_dir()]\n",
    "hv_datas = []\n",
    "for hv_subdir in hv_subdirs:\n",
    "    sample = os.path.split(hv_subdir)[1].split(\"_\")[0].lower()\n",
    "    hv_datas.append(\n",
    "        read_in_data(\n",
    "            feature_file_path=hv_subdir\n",
    "            + \"/preprocessed/full_pipeline/nuclear_features.csv\",\n",
    "            qc_file_path=hv_subdir\n",
    "            + \"/preprocessed/full_pipeline/segmentation/qc_results.csv\",\n",
    "            sample=sample,\n",
    "        )\n",
    "    )\n",
    "hv_data = hv_datas[0].copy()\n",
    "for i in range(1, len(hv_datas)):\n",
    "    hv_data = hv_data.append(hv_datas[i])\n",
    "hv_data[\"condition\"] = \"ctrl\""
   ]
  },
  {
   "cell_type": "code",
   "execution_count": 3,
   "id": "touched-lunch",
   "metadata": {},
   "outputs": [
    {
     "data": {
      "application/javascript": [
       "\n",
       "            setTimeout(function() {\n",
       "                var nbb_cell_id = 3;\n",
       "                var nbb_unformatted_code = \"p15_1_basedir = \\\"../../../../../data/pbmc_pt/proteins/timepoint_1/P15_1_PBMCs_Dapi_gH2AX_Lamin_18_08_21_2X_16bit_poly\\\"\\np15_1_data = read_in_data(\\n    feature_file_path=p15_1_basedir\\n    + \\\"/preprocessed/full_pipeline/nuclear_features.csv\\\",\\n    qc_file_path=p15_1_basedir\\n    + \\\"/preprocessed/full_pipeline/segmentation/qc_results.csv\\\",\\n    sample=\\\"p15_1\\\",\\n)\\np15_1_data[\\\"condition\\\"] = \\\"tp1\\\"\";\n",
       "                var nbb_formatted_code = \"p15_1_basedir = \\\"../../../../../data/pbmc_pt/proteins/timepoint_1/P15_1_PBMCs_Dapi_gH2AX_Lamin_18_08_21_2X_16bit_poly\\\"\\np15_1_data = read_in_data(\\n    feature_file_path=p15_1_basedir\\n    + \\\"/preprocessed/full_pipeline/nuclear_features.csv\\\",\\n    qc_file_path=p15_1_basedir\\n    + \\\"/preprocessed/full_pipeline/segmentation/qc_results.csv\\\",\\n    sample=\\\"p15_1\\\",\\n)\\np15_1_data[\\\"condition\\\"] = \\\"tp1\\\"\";\n",
       "                var nbb_cells = Jupyter.notebook.get_cells();\n",
       "                for (var i = 0; i < nbb_cells.length; ++i) {\n",
       "                    if (nbb_cells[i].input_prompt_number == nbb_cell_id) {\n",
       "                        if (nbb_cells[i].get_text() == nbb_unformatted_code) {\n",
       "                             nbb_cells[i].set_text(nbb_formatted_code);\n",
       "                        }\n",
       "                        break;\n",
       "                    }\n",
       "                }\n",
       "            }, 500);\n",
       "            "
      ],
      "text/plain": [
       "<IPython.core.display.Javascript object>"
      ]
     },
     "metadata": {},
     "output_type": "display_data"
    }
   ],
   "source": [
    "p15_1_basedir = \"../../../../../data/pbmc_pt/proteins/timepoint_1/P15_1_PBMCs_Dapi_gH2AX_Lamin_18_08_21_2X_16bit_poly\"\n",
    "p15_1_data = read_in_data(\n",
    "    feature_file_path=p15_1_basedir\n",
    "    + \"/preprocessed/full_pipeline/nuclear_features.csv\",\n",
    "    qc_file_path=p15_1_basedir\n",
    "    + \"/preprocessed/full_pipeline/segmentation/qc_results.csv\",\n",
    "    sample=\"p15_1\",\n",
    ")\n",
    "p15_1_data[\"condition\"] = \"tp1\""
   ]
  },
  {
   "cell_type": "code",
   "execution_count": 4,
   "id": "recorded-oakland",
   "metadata": {},
   "outputs": [
    {
     "data": {
      "application/javascript": [
       "\n",
       "            setTimeout(function() {\n",
       "                var nbb_cell_id = 4;\n",
       "                var nbb_unformatted_code = \"p15_2_basedir = \\\"../../../../../data/pbmc_pt/proteins/timepoint_2/P15_2_PBMCs_Dapi_gH2AX_Lamin_04_10_21_2X_16bit_poly\\\"\\np15_2_data = read_in_data(\\n    feature_file_path=p15_2_basedir\\n    + \\\"/preprocessed/full_pipeline/nuclear_features.csv\\\",\\n    qc_file_path=p15_2_basedir\\n    + \\\"/preprocessed/full_pipeline/segmentation/qc_results.csv\\\",\\n    sample=\\\"p15_2\\\",\\n)\\np15_2_data[\\\"condition\\\"] = \\\"tp2\\\"\";\n",
       "                var nbb_formatted_code = \"p15_2_basedir = \\\"../../../../../data/pbmc_pt/proteins/timepoint_2/P15_2_PBMCs_Dapi_gH2AX_Lamin_04_10_21_2X_16bit_poly\\\"\\np15_2_data = read_in_data(\\n    feature_file_path=p15_2_basedir\\n    + \\\"/preprocessed/full_pipeline/nuclear_features.csv\\\",\\n    qc_file_path=p15_2_basedir\\n    + \\\"/preprocessed/full_pipeline/segmentation/qc_results.csv\\\",\\n    sample=\\\"p15_2\\\",\\n)\\np15_2_data[\\\"condition\\\"] = \\\"tp2\\\"\";\n",
       "                var nbb_cells = Jupyter.notebook.get_cells();\n",
       "                for (var i = 0; i < nbb_cells.length; ++i) {\n",
       "                    if (nbb_cells[i].input_prompt_number == nbb_cell_id) {\n",
       "                        if (nbb_cells[i].get_text() == nbb_unformatted_code) {\n",
       "                             nbb_cells[i].set_text(nbb_formatted_code);\n",
       "                        }\n",
       "                        break;\n",
       "                    }\n",
       "                }\n",
       "            }, 500);\n",
       "            "
      ],
      "text/plain": [
       "<IPython.core.display.Javascript object>"
      ]
     },
     "metadata": {},
     "output_type": "display_data"
    }
   ],
   "source": [
    "p15_2_basedir = \"../../../../../data/pbmc_pt/proteins/timepoint_2/P15_2_PBMCs_Dapi_gH2AX_Lamin_04_10_21_2X_16bit_poly\"\n",
    "p15_2_data = read_in_data(\n",
    "    feature_file_path=p15_2_basedir\n",
    "    + \"/preprocessed/full_pipeline/nuclear_features.csv\",\n",
    "    qc_file_path=p15_2_basedir\n",
    "    + \"/preprocessed/full_pipeline/segmentation/qc_results.csv\",\n",
    "    sample=\"p15_2\",\n",
    ")\n",
    "p15_2_data[\"condition\"] = \"tp2\""
   ]
  },
  {
   "cell_type": "code",
   "execution_count": 5,
   "id": "arranged-toner",
   "metadata": {},
   "outputs": [
    {
     "data": {
      "application/javascript": [
       "\n",
       "            setTimeout(function() {\n",
       "                var nbb_cell_id = 5;\n",
       "                var nbb_unformatted_code = \"p15_3_basedir = \\\"../../../../../data/pbmc_pt/proteins/timepoint_3/P15_3_PBMCs_Dapi_gH2AX_Lamin_04_10_21_2X_16bit_poly\\\"\\np15_3_data = read_in_data(\\n    feature_file_path=p15_3_basedir\\n    + \\\"/preprocessed/full_pipeline/nuclear_features.csv\\\",\\n    qc_file_path=p15_3_basedir\\n    + \\\"/preprocessed/full_pipeline/segmentation/qc_results.csv\\\",\\n    sample=\\\"p15_3\\\",\\n)\\np15_3_data[\\\"condition\\\"] = \\\"tp3\\\"\";\n",
       "                var nbb_formatted_code = \"p15_3_basedir = \\\"../../../../../data/pbmc_pt/proteins/timepoint_3/P15_3_PBMCs_Dapi_gH2AX_Lamin_04_10_21_2X_16bit_poly\\\"\\np15_3_data = read_in_data(\\n    feature_file_path=p15_3_basedir\\n    + \\\"/preprocessed/full_pipeline/nuclear_features.csv\\\",\\n    qc_file_path=p15_3_basedir\\n    + \\\"/preprocessed/full_pipeline/segmentation/qc_results.csv\\\",\\n    sample=\\\"p15_3\\\",\\n)\\np15_3_data[\\\"condition\\\"] = \\\"tp3\\\"\";\n",
       "                var nbb_cells = Jupyter.notebook.get_cells();\n",
       "                for (var i = 0; i < nbb_cells.length; ++i) {\n",
       "                    if (nbb_cells[i].input_prompt_number == nbb_cell_id) {\n",
       "                        if (nbb_cells[i].get_text() == nbb_unformatted_code) {\n",
       "                             nbb_cells[i].set_text(nbb_formatted_code);\n",
       "                        }\n",
       "                        break;\n",
       "                    }\n",
       "                }\n",
       "            }, 500);\n",
       "            "
      ],
      "text/plain": [
       "<IPython.core.display.Javascript object>"
      ]
     },
     "metadata": {},
     "output_type": "display_data"
    }
   ],
   "source": [
    "p15_3_basedir = \"../../../../../data/pbmc_pt/proteins/timepoint_3/P15_3_PBMCs_Dapi_gH2AX_Lamin_04_10_21_2X_16bit_poly\"\n",
    "p15_3_data = read_in_data(\n",
    "    feature_file_path=p15_3_basedir\n",
    "    + \"/preprocessed/full_pipeline/nuclear_features.csv\",\n",
    "    qc_file_path=p15_3_basedir\n",
    "    + \"/preprocessed/full_pipeline/segmentation/qc_results.csv\",\n",
    "    sample=\"p15_3\",\n",
    ")\n",
    "p15_3_data[\"condition\"] = \"tp3\""
   ]
  },
  {
   "cell_type": "markdown",
   "id": "canadian-picking",
   "metadata": {},
   "source": [
    "We will randomly subsample the data from each condition to the same sample size that is the minimum number of samples in any of the conditions."
   ]
  },
  {
   "cell_type": "code",
   "execution_count": 6,
   "id": "aging-daily",
   "metadata": {},
   "outputs": [
    {
     "data": {
      "text/html": [
       "<div>\n",
       "<style scoped>\n",
       "    .dataframe tbody tr th:only-of-type {\n",
       "        vertical-align: middle;\n",
       "    }\n",
       "\n",
       "    .dataframe tbody tr th {\n",
       "        vertical-align: top;\n",
       "    }\n",
       "\n",
       "    .dataframe thead th {\n",
       "        text-align: right;\n",
       "    }\n",
       "</style>\n",
       "<table border=\"1\" class=\"dataframe\">\n",
       "  <thead>\n",
       "    <tr style=\"text-align: right;\">\n",
       "      <th></th>\n",
       "      <th>label</th>\n",
       "      <th>min_calliper</th>\n",
       "      <th>max_calliper</th>\n",
       "      <th>smallest_largest_calliper</th>\n",
       "      <th>min_radius</th>\n",
       "      <th>max_radius</th>\n",
       "      <th>med_radius</th>\n",
       "      <th>avg_radius</th>\n",
       "      <th>mode_radius</th>\n",
       "      <th>d25_radius</th>\n",
       "      <th>...</th>\n",
       "      <th>rel_lamin_3d_int</th>\n",
       "      <th>min_lamin_3d_int</th>\n",
       "      <th>max_lamin_3d_int</th>\n",
       "      <th>mean_lamin_3d_int</th>\n",
       "      <th>std_lamin_3d_int</th>\n",
       "      <th>q25_lamin_3d_int</th>\n",
       "      <th>q75_lamin_3d_int</th>\n",
       "      <th>median_lamin_3d_int</th>\n",
       "      <th>kurtosis_lamin_3d_int</th>\n",
       "      <th>skewness_lamin_3d_int</th>\n",
       "    </tr>\n",
       "  </thead>\n",
       "  <tbody>\n",
       "    <tr>\n",
       "      <th>count</th>\n",
       "      <td>1768.000000</td>\n",
       "      <td>1768.000000</td>\n",
       "      <td>1768.000000</td>\n",
       "      <td>1768.000000</td>\n",
       "      <td>1768.000000</td>\n",
       "      <td>1768.000000</td>\n",
       "      <td>1768.000000</td>\n",
       "      <td>1768.000000</td>\n",
       "      <td>1768.000000</td>\n",
       "      <td>1768.000000</td>\n",
       "      <td>...</td>\n",
       "      <td>1768.000000</td>\n",
       "      <td>1768.0</td>\n",
       "      <td>1768.000000</td>\n",
       "      <td>1768.000000</td>\n",
       "      <td>1768.000000</td>\n",
       "      <td>1768.0</td>\n",
       "      <td>1768.000000</td>\n",
       "      <td>1768.000000</td>\n",
       "      <td>1768.000000</td>\n",
       "      <td>1768.000000</td>\n",
       "    </tr>\n",
       "    <tr>\n",
       "      <th>mean</th>\n",
       "      <td>10.298077</td>\n",
       "      <td>58.870475</td>\n",
       "      <td>74.881222</td>\n",
       "      <td>0.791995</td>\n",
       "      <td>24.088529</td>\n",
       "      <td>38.304169</td>\n",
       "      <td>32.178877</td>\n",
       "      <td>31.950401</td>\n",
       "      <td>24.158752</td>\n",
       "      <td>29.426356</td>\n",
       "      <td>...</td>\n",
       "      <td>774.878711</td>\n",
       "      <td>0.0</td>\n",
       "      <td>10475.712104</td>\n",
       "      <td>774.878711</td>\n",
       "      <td>995.866968</td>\n",
       "      <td>0.0</td>\n",
       "      <td>157.533937</td>\n",
       "      <td>423.578054</td>\n",
       "      <td>79.066403</td>\n",
       "      <td>7.178226</td>\n",
       "    </tr>\n",
       "    <tr>\n",
       "      <th>std</th>\n",
       "      <td>9.757209</td>\n",
       "      <td>5.480084</td>\n",
       "      <td>7.745202</td>\n",
       "      <td>0.088503</td>\n",
       "      <td>4.034168</td>\n",
       "      <td>4.335129</td>\n",
       "      <td>2.396130</td>\n",
       "      <td>2.272444</td>\n",
       "      <td>4.104424</td>\n",
       "      <td>2.426791</td>\n",
       "      <td>...</td>\n",
       "      <td>2641.599566</td>\n",
       "      <td>0.0</td>\n",
       "      <td>9590.191469</td>\n",
       "      <td>2641.599566</td>\n",
       "      <td>1983.316097</td>\n",
       "      <td>0.0</td>\n",
       "      <td>714.109897</td>\n",
       "      <td>2259.587088</td>\n",
       "      <td>39.630190</td>\n",
       "      <td>1.866966</td>\n",
       "    </tr>\n",
       "    <tr>\n",
       "      <th>min</th>\n",
       "      <td>1.000000</td>\n",
       "      <td>31.000000</td>\n",
       "      <td>44.000000</td>\n",
       "      <td>0.373913</td>\n",
       "      <td>0.564438</td>\n",
       "      <td>24.670030</td>\n",
       "      <td>17.771313</td>\n",
       "      <td>16.957123</td>\n",
       "      <td>0.564438</td>\n",
       "      <td>13.068556</td>\n",
       "      <td>...</td>\n",
       "      <td>60.691377</td>\n",
       "      <td>0.0</td>\n",
       "      <td>3899.000000</td>\n",
       "      <td>60.691377</td>\n",
       "      <td>191.202991</td>\n",
       "      <td>0.0</td>\n",
       "      <td>23.000000</td>\n",
       "      <td>0.000000</td>\n",
       "      <td>1.420457</td>\n",
       "      <td>1.683288</td>\n",
       "    </tr>\n",
       "    <tr>\n",
       "      <th>25%</th>\n",
       "      <td>4.000000</td>\n",
       "      <td>55.000000</td>\n",
       "      <td>70.000000</td>\n",
       "      <td>0.735991</td>\n",
       "      <td>22.089872</td>\n",
       "      <td>35.388392</td>\n",
       "      <td>30.604095</td>\n",
       "      <td>30.456564</td>\n",
       "      <td>22.116951</td>\n",
       "      <td>27.962194</td>\n",
       "      <td>...</td>\n",
       "      <td>123.457085</td>\n",
       "      <td>0.0</td>\n",
       "      <td>6021.750000</td>\n",
       "      <td>123.457085</td>\n",
       "      <td>337.825080</td>\n",
       "      <td>0.0</td>\n",
       "      <td>58.000000</td>\n",
       "      <td>10.000000</td>\n",
       "      <td>42.344782</td>\n",
       "      <td>5.562929</td>\n",
       "    </tr>\n",
       "    <tr>\n",
       "      <th>50%</th>\n",
       "      <td>7.000000</td>\n",
       "      <td>59.000000</td>\n",
       "      <td>73.500000</td>\n",
       "      <td>0.802550</td>\n",
       "      <td>24.692826</td>\n",
       "      <td>37.407324</td>\n",
       "      <td>32.019384</td>\n",
       "      <td>31.800091</td>\n",
       "      <td>24.725283</td>\n",
       "      <td>29.509043</td>\n",
       "      <td>...</td>\n",
       "      <td>172.787336</td>\n",
       "      <td>0.0</td>\n",
       "      <td>7261.500000</td>\n",
       "      <td>172.787336</td>\n",
       "      <td>435.472307</td>\n",
       "      <td>0.0</td>\n",
       "      <td>68.000000</td>\n",
       "      <td>25.000000</td>\n",
       "      <td>81.490155</td>\n",
       "      <td>7.594268</td>\n",
       "    </tr>\n",
       "    <tr>\n",
       "      <th>75%</th>\n",
       "      <td>13.000000</td>\n",
       "      <td>62.000000</td>\n",
       "      <td>78.000000</td>\n",
       "      <td>0.861111</td>\n",
       "      <td>26.848480</td>\n",
       "      <td>40.108415</td>\n",
       "      <td>33.515296</td>\n",
       "      <td>33.231756</td>\n",
       "      <td>26.904628</td>\n",
       "      <td>30.989830</td>\n",
       "      <td>...</td>\n",
       "      <td>457.849193</td>\n",
       "      <td>0.0</td>\n",
       "      <td>10346.750000</td>\n",
       "      <td>457.849193</td>\n",
       "      <td>814.174627</td>\n",
       "      <td>0.0</td>\n",
       "      <td>84.250000</td>\n",
       "      <td>69.000000</td>\n",
       "      <td>112.658361</td>\n",
       "      <td>8.812410</td>\n",
       "    </tr>\n",
       "    <tr>\n",
       "      <th>max</th>\n",
       "      <td>51.000000</td>\n",
       "      <td>78.000000</td>\n",
       "      <td>115.000000</td>\n",
       "      <td>0.957746</td>\n",
       "      <td>32.931749</td>\n",
       "      <td>67.164248</td>\n",
       "      <td>40.496140</td>\n",
       "      <td>39.725830</td>\n",
       "      <td>36.742734</td>\n",
       "      <td>37.061471</td>\n",
       "      <td>...</td>\n",
       "      <td>40549.326232</td>\n",
       "      <td>0.0</td>\n",
       "      <td>65535.000000</td>\n",
       "      <td>40549.326232</td>\n",
       "      <td>22434.417853</td>\n",
       "      <td>0.0</td>\n",
       "      <td>15149.250000</td>\n",
       "      <td>41026.500000</td>\n",
       "      <td>232.199513</td>\n",
       "      <td>11.210767</td>\n",
       "    </tr>\n",
       "  </tbody>\n",
       "</table>\n",
       "<p>8 rows × 275 columns</p>\n",
       "</div>"
      ],
      "text/plain": [
       "             label  min_calliper  max_calliper  smallest_largest_calliper  \\\n",
       "count  1768.000000   1768.000000   1768.000000                1768.000000   \n",
       "mean     10.298077     58.870475     74.881222                   0.791995   \n",
       "std       9.757209      5.480084      7.745202                   0.088503   \n",
       "min       1.000000     31.000000     44.000000                   0.373913   \n",
       "25%       4.000000     55.000000     70.000000                   0.735991   \n",
       "50%       7.000000     59.000000     73.500000                   0.802550   \n",
       "75%      13.000000     62.000000     78.000000                   0.861111   \n",
       "max      51.000000     78.000000    115.000000                   0.957746   \n",
       "\n",
       "        min_radius   max_radius   med_radius   avg_radius  mode_radius  \\\n",
       "count  1768.000000  1768.000000  1768.000000  1768.000000  1768.000000   \n",
       "mean     24.088529    38.304169    32.178877    31.950401    24.158752   \n",
       "std       4.034168     4.335129     2.396130     2.272444     4.104424   \n",
       "min       0.564438    24.670030    17.771313    16.957123     0.564438   \n",
       "25%      22.089872    35.388392    30.604095    30.456564    22.116951   \n",
       "50%      24.692826    37.407324    32.019384    31.800091    24.725283   \n",
       "75%      26.848480    40.108415    33.515296    33.231756    26.904628   \n",
       "max      32.931749    67.164248    40.496140    39.725830    36.742734   \n",
       "\n",
       "        d25_radius  ...  rel_lamin_3d_int  min_lamin_3d_int  max_lamin_3d_int  \\\n",
       "count  1768.000000  ...       1768.000000            1768.0       1768.000000   \n",
       "mean     29.426356  ...        774.878711               0.0      10475.712104   \n",
       "std       2.426791  ...       2641.599566               0.0       9590.191469   \n",
       "min      13.068556  ...         60.691377               0.0       3899.000000   \n",
       "25%      27.962194  ...        123.457085               0.0       6021.750000   \n",
       "50%      29.509043  ...        172.787336               0.0       7261.500000   \n",
       "75%      30.989830  ...        457.849193               0.0      10346.750000   \n",
       "max      37.061471  ...      40549.326232               0.0      65535.000000   \n",
       "\n",
       "       mean_lamin_3d_int  std_lamin_3d_int  q25_lamin_3d_int  \\\n",
       "count        1768.000000       1768.000000            1768.0   \n",
       "mean          774.878711        995.866968               0.0   \n",
       "std          2641.599566       1983.316097               0.0   \n",
       "min            60.691377        191.202991               0.0   \n",
       "25%           123.457085        337.825080               0.0   \n",
       "50%           172.787336        435.472307               0.0   \n",
       "75%           457.849193        814.174627               0.0   \n",
       "max         40549.326232      22434.417853               0.0   \n",
       "\n",
       "       q75_lamin_3d_int  median_lamin_3d_int  kurtosis_lamin_3d_int  \\\n",
       "count       1768.000000          1768.000000            1768.000000   \n",
       "mean         157.533937           423.578054              79.066403   \n",
       "std          714.109897          2259.587088              39.630190   \n",
       "min           23.000000             0.000000               1.420457   \n",
       "25%           58.000000            10.000000              42.344782   \n",
       "50%           68.000000            25.000000              81.490155   \n",
       "75%           84.250000            69.000000             112.658361   \n",
       "max        15149.250000         41026.500000             232.199513   \n",
       "\n",
       "       skewness_lamin_3d_int  \n",
       "count            1768.000000  \n",
       "mean                7.178226  \n",
       "std                 1.866966  \n",
       "min                 1.683288  \n",
       "25%                 5.562929  \n",
       "50%                 7.594268  \n",
       "75%                 8.812410  \n",
       "max                11.210767  \n",
       "\n",
       "[8 rows x 275 columns]"
      ]
     },
     "execution_count": 6,
     "metadata": {},
     "output_type": "execute_result"
    },
    {
     "data": {
      "application/javascript": [
       "\n",
       "            setTimeout(function() {\n",
       "                var nbb_cell_id = 6;\n",
       "                var nbb_unformatted_code = \"np.random.seed(seed)\\nn_control_samples = np.min(\\n    [len(hv_data), len(p15_1_data), len(p15_2_data), len(p15_3_data)]\\n)\\ndata = (\\n    hv_data.iloc[np.random.choice(len(hv_data), size=n_control_samples, replace=False)]\\n    .append(\\n        p15_1_data.iloc[\\n            np.random.choice(len(p15_1_data), size=n_control_samples, replace=False)\\n        ]\\n    )\\n    .append(\\n        p15_2_data.iloc[\\n            np.random.choice(len(p15_2_data), size=n_control_samples, replace=False)\\n        ]\\n    )\\n    .append(\\n        p15_3_data.iloc[\\n            np.random.choice(len(p15_3_data), size=n_control_samples, replace=False)\\n        ]\\n    )\\n)\\ndata.describe()\";\n",
       "                var nbb_formatted_code = \"np.random.seed(seed)\\nn_control_samples = np.min(\\n    [len(hv_data), len(p15_1_data), len(p15_2_data), len(p15_3_data)]\\n)\\ndata = (\\n    hv_data.iloc[np.random.choice(len(hv_data), size=n_control_samples, replace=False)]\\n    .append(\\n        p15_1_data.iloc[\\n            np.random.choice(len(p15_1_data), size=n_control_samples, replace=False)\\n        ]\\n    )\\n    .append(\\n        p15_2_data.iloc[\\n            np.random.choice(len(p15_2_data), size=n_control_samples, replace=False)\\n        ]\\n    )\\n    .append(\\n        p15_3_data.iloc[\\n            np.random.choice(len(p15_3_data), size=n_control_samples, replace=False)\\n        ]\\n    )\\n)\\ndata.describe()\";\n",
       "                var nbb_cells = Jupyter.notebook.get_cells();\n",
       "                for (var i = 0; i < nbb_cells.length; ++i) {\n",
       "                    if (nbb_cells[i].input_prompt_number == nbb_cell_id) {\n",
       "                        if (nbb_cells[i].get_text() == nbb_unformatted_code) {\n",
       "                             nbb_cells[i].set_text(nbb_formatted_code);\n",
       "                        }\n",
       "                        break;\n",
       "                    }\n",
       "                }\n",
       "            }, 500);\n",
       "            "
      ],
      "text/plain": [
       "<IPython.core.display.Javascript object>"
      ]
     },
     "metadata": {},
     "output_type": "display_data"
    }
   ],
   "source": [
    "np.random.seed(seed)\n",
    "n_control_samples = np.min(\n",
    "    [len(hv_data), len(p15_1_data), len(p15_2_data), len(p15_3_data)]\n",
    ")\n",
    "data = (\n",
    "    hv_data.iloc[np.random.choice(len(hv_data), size=n_control_samples, replace=False)]\n",
    "    .append(\n",
    "        p15_1_data.iloc[\n",
    "            np.random.choice(len(p15_1_data), size=n_control_samples, replace=False)\n",
    "        ]\n",
    "    )\n",
    "    .append(\n",
    "        p15_2_data.iloc[\n",
    "            np.random.choice(len(p15_2_data), size=n_control_samples, replace=False)\n",
    "        ]\n",
    "    )\n",
    "    .append(\n",
    "        p15_3_data.iloc[\n",
    "            np.random.choice(len(p15_3_data), size=n_control_samples, replace=False)\n",
    "        ]\n",
    "    )\n",
    ")\n",
    "data.describe()"
   ]
  },
  {
   "cell_type": "markdown",
   "id": "suspended-absolute",
   "metadata": {},
   "source": [
    "---\n",
    "\n",
    "## 2. Dimensionality reduction\n",
    "\n",
    "Next, we will clean the data and remove samples with missing values, constant features, as well as those samples that were flagged for not passing our quality checks."
   ]
  },
  {
   "cell_type": "code",
   "execution_count": 7,
   "id": "knowing-count",
   "metadata": {},
   "outputs": [
    {
     "name": "stdout",
     "output_type": "stream",
     "text": [
      "Nuclei that did not pass the quality check: 55/1768. Remaining: 1713.\n",
      "Removed 14 constant or features with missing values. Remaining: 264.\n",
      "Removed additional 6 features. Remaining: 258.\n"
     ]
    },
    {
     "data": {
      "application/javascript": [
       "\n",
       "            setTimeout(function() {\n",
       "                var nbb_cell_id = 7;\n",
       "                var nbb_unformatted_code = \"data = preprocess_data(data)\";\n",
       "                var nbb_formatted_code = \"data = preprocess_data(data)\";\n",
       "                var nbb_cells = Jupyter.notebook.get_cells();\n",
       "                for (var i = 0; i < nbb_cells.length; ++i) {\n",
       "                    if (nbb_cells[i].input_prompt_number == nbb_cell_id) {\n",
       "                        if (nbb_cells[i].get_text() == nbb_unformatted_code) {\n",
       "                             nbb_cells[i].set_text(nbb_formatted_code);\n",
       "                        }\n",
       "                        break;\n",
       "                    }\n",
       "                }\n",
       "            }, 500);\n",
       "            "
      ],
      "text/plain": [
       "<IPython.core.display.Javascript object>"
      ]
     },
     "metadata": {},
     "output_type": "display_data"
    }
   ],
   "source": [
    "data = preprocess_data(data)"
   ]
  },
  {
   "cell_type": "code",
   "execution_count": 8,
   "id": "documentary-kansas",
   "metadata": {},
   "outputs": [
    {
     "data": {
      "application/javascript": [
       "\n",
       "            setTimeout(function() {\n",
       "                var nbb_cell_id = 8;\n",
       "                var nbb_unformatted_code = \"features = data.iloc[:, :-2]\\nsample_labels = data.loc[:, \\\"sample\\\"]\\ncondition_labels = data.loc[:, \\\"condition\\\"]\";\n",
       "                var nbb_formatted_code = \"features = data.iloc[:, :-2]\\nsample_labels = data.loc[:, \\\"sample\\\"]\\ncondition_labels = data.loc[:, \\\"condition\\\"]\";\n",
       "                var nbb_cells = Jupyter.notebook.get_cells();\n",
       "                for (var i = 0; i < nbb_cells.length; ++i) {\n",
       "                    if (nbb_cells[i].input_prompt_number == nbb_cell_id) {\n",
       "                        if (nbb_cells[i].get_text() == nbb_unformatted_code) {\n",
       "                             nbb_cells[i].set_text(nbb_formatted_code);\n",
       "                        }\n",
       "                        break;\n",
       "                    }\n",
       "                }\n",
       "            }, 500);\n",
       "            "
      ],
      "text/plain": [
       "<IPython.core.display.Javascript object>"
      ]
     },
     "metadata": {},
     "output_type": "display_data"
    }
   ],
   "source": [
    "features = data.iloc[:, :-2]\n",
    "sample_labels = data.loc[:, \"sample\"]\n",
    "condition_labels = data.loc[:, \"condition\"]"
   ]
  },
  {
   "cell_type": "markdown",
   "id": "resident-validation",
   "metadata": {},
   "source": [
    "Finally, we will remove any intensity features as the comparability between batches might be difficult to exactly compare.\n",
    "We will further reduce the dimensionality of the data set further by removing highly correlated features ($\\rho > 0.8$)."
   ]
  },
  {
   "cell_type": "code",
   "execution_count": 9,
   "id": "stylish-guitar",
   "metadata": {},
   "outputs": [
    {
     "data": {
      "application/javascript": [
       "\n",
       "            setTimeout(function() {\n",
       "                var nbb_cell_id = 9;\n",
       "                var nbb_unformatted_code = \"features = features[features.columns.drop(list(features.filter(regex=\\\"gh2ax\\\")))]\\nfeatures = features[features.columns.drop(list(features.filter(regex=\\\"lamin\\\")))]\";\n",
       "                var nbb_formatted_code = \"features = features[features.columns.drop(list(features.filter(regex=\\\"gh2ax\\\")))]\\nfeatures = features[features.columns.drop(list(features.filter(regex=\\\"lamin\\\")))]\";\n",
       "                var nbb_cells = Jupyter.notebook.get_cells();\n",
       "                for (var i = 0; i < nbb_cells.length; ++i) {\n",
       "                    if (nbb_cells[i].input_prompt_number == nbb_cell_id) {\n",
       "                        if (nbb_cells[i].get_text() == nbb_unformatted_code) {\n",
       "                             nbb_cells[i].set_text(nbb_formatted_code);\n",
       "                        }\n",
       "                        break;\n",
       "                    }\n",
       "                }\n",
       "            }, 500);\n",
       "            "
      ],
      "text/plain": [
       "<IPython.core.display.Javascript object>"
      ]
     },
     "metadata": {},
     "output_type": "display_data"
    }
   ],
   "source": [
    "features = features[features.columns.drop(list(features.filter(regex=\"gh2ax\")))]\n",
    "features = features[features.columns.drop(list(features.filter(regex=\"lamin\")))]"
   ]
  },
  {
   "cell_type": "code",
   "execution_count": 10,
   "id": "growing-training",
   "metadata": {},
   "outputs": [
    {
     "name": "stdout",
     "output_type": "stream",
     "text": [
      "Removed 161/218 features with a Pearson correlation above 0.8. Remaining: 57\n"
     ]
    },
    {
     "data": {
      "application/javascript": [
       "\n",
       "            setTimeout(function() {\n",
       "                var nbb_cell_id = 10;\n",
       "                var nbb_unformatted_code = \"# features = remove_collinear_features(features, threshold=5)\\nfeatures = remove_correlated_features(features, threshold=0.8)\";\n",
       "                var nbb_formatted_code = \"# features = remove_collinear_features(features, threshold=5)\\nfeatures = remove_correlated_features(features, threshold=0.8)\";\n",
       "                var nbb_cells = Jupyter.notebook.get_cells();\n",
       "                for (var i = 0; i < nbb_cells.length; ++i) {\n",
       "                    if (nbb_cells[i].input_prompt_number == nbb_cell_id) {\n",
       "                        if (nbb_cells[i].get_text() == nbb_unformatted_code) {\n",
       "                             nbb_cells[i].set_text(nbb_formatted_code);\n",
       "                        }\n",
       "                        break;\n",
       "                    }\n",
       "                }\n",
       "            }, 500);\n",
       "            "
      ],
      "text/plain": [
       "<IPython.core.display.Javascript object>"
      ]
     },
     "metadata": {},
     "output_type": "display_data"
    }
   ],
   "source": [
    "# features = remove_collinear_features(features, threshold=5)\n",
    "features = remove_correlated_features(features, threshold=0.8)"
   ]
  },
  {
   "cell_type": "markdown",
   "id": "foreign-frequency",
   "metadata": {},
   "source": [
    "There are 57 features that remain which have a correlation of less than 0.8 to any other feature."
   ]
  },
  {
   "cell_type": "markdown",
   "id": "irish-carolina",
   "metadata": {},
   "source": [
    "---\n",
    "\n",
    "## 3. Data visualization\n",
    "\n",
    "Next, we will visualize the data set using TSNE. To this end, we will first z-score the data."
   ]
  },
  {
   "cell_type": "code",
   "execution_count": 11,
   "id": "collected-initial",
   "metadata": {},
   "outputs": [
    {
     "data": {
      "text/html": [
       "<div>\n",
       "<style scoped>\n",
       "    .dataframe tbody tr th:only-of-type {\n",
       "        vertical-align: middle;\n",
       "    }\n",
       "\n",
       "    .dataframe tbody tr th {\n",
       "        vertical-align: top;\n",
       "    }\n",
       "\n",
       "    .dataframe thead th {\n",
       "        text-align: right;\n",
       "    }\n",
       "</style>\n",
       "<table border=\"1\" class=\"dataframe\">\n",
       "  <thead>\n",
       "    <tr style=\"text-align: right;\">\n",
       "      <th></th>\n",
       "      <th>min_calliper</th>\n",
       "      <th>max_calliper</th>\n",
       "      <th>smallest_largest_calliper</th>\n",
       "      <th>min_radius</th>\n",
       "      <th>med_radius</th>\n",
       "      <th>concavity</th>\n",
       "      <th>area_bbarea</th>\n",
       "      <th>std_curvature</th>\n",
       "      <th>npolarity_changes</th>\n",
       "      <th>max_posi_curv</th>\n",
       "      <th>...</th>\n",
       "      <th>moments_hu-2</th>\n",
       "      <th>moments_hu-3</th>\n",
       "      <th>equivalent_diameter.1</th>\n",
       "      <th>extent</th>\n",
       "      <th>rel_hc_volume</th>\n",
       "      <th>rdp_1</th>\n",
       "      <th>min_dna_3d_int</th>\n",
       "      <th>q25_dna_3d_int</th>\n",
       "      <th>q75_dna_3d_int</th>\n",
       "      <th>kurtosis_dna_3d_int</th>\n",
       "    </tr>\n",
       "  </thead>\n",
       "  <tbody>\n",
       "    <tr>\n",
       "      <th>count</th>\n",
       "      <td>1.713000e+03</td>\n",
       "      <td>1.713000e+03</td>\n",
       "      <td>1.713000e+03</td>\n",
       "      <td>1.713000e+03</td>\n",
       "      <td>1.713000e+03</td>\n",
       "      <td>1.713000e+03</td>\n",
       "      <td>1.713000e+03</td>\n",
       "      <td>1.713000e+03</td>\n",
       "      <td>1.713000e+03</td>\n",
       "      <td>1.713000e+03</td>\n",
       "      <td>...</td>\n",
       "      <td>1.713000e+03</td>\n",
       "      <td>1.713000e+03</td>\n",
       "      <td>1.713000e+03</td>\n",
       "      <td>1.713000e+03</td>\n",
       "      <td>1.713000e+03</td>\n",
       "      <td>1.713000e+03</td>\n",
       "      <td>1.713000e+03</td>\n",
       "      <td>1.713000e+03</td>\n",
       "      <td>1.713000e+03</td>\n",
       "      <td>1.713000e+03</td>\n",
       "    </tr>\n",
       "    <tr>\n",
       "      <th>mean</th>\n",
       "      <td>1.410301e-16</td>\n",
       "      <td>8.793640e-16</td>\n",
       "      <td>-8.710682e-17</td>\n",
       "      <td>-1.559627e-15</td>\n",
       "      <td>5.641203e-16</td>\n",
       "      <td>1.825095e-16</td>\n",
       "      <td>-1.256827e-15</td>\n",
       "      <td>-3.069478e-16</td>\n",
       "      <td>-3.525752e-16</td>\n",
       "      <td>-8.295887e-17</td>\n",
       "      <td>...</td>\n",
       "      <td>-6.221915e-18</td>\n",
       "      <td>-1.451780e-17</td>\n",
       "      <td>6.968545e-16</td>\n",
       "      <td>-3.484273e-16</td>\n",
       "      <td>3.534048e-15</td>\n",
       "      <td>6.221915e-17</td>\n",
       "      <td>1.659177e-17</td>\n",
       "      <td>1.659177e-17</td>\n",
       "      <td>1.991013e-16</td>\n",
       "      <td>-1.991013e-16</td>\n",
       "    </tr>\n",
       "    <tr>\n",
       "      <th>std</th>\n",
       "      <td>1.000292e+00</td>\n",
       "      <td>1.000292e+00</td>\n",
       "      <td>1.000292e+00</td>\n",
       "      <td>1.000292e+00</td>\n",
       "      <td>1.000292e+00</td>\n",
       "      <td>1.000292e+00</td>\n",
       "      <td>1.000292e+00</td>\n",
       "      <td>1.000292e+00</td>\n",
       "      <td>1.000292e+00</td>\n",
       "      <td>1.000292e+00</td>\n",
       "      <td>...</td>\n",
       "      <td>1.000292e+00</td>\n",
       "      <td>1.000292e+00</td>\n",
       "      <td>1.000292e+00</td>\n",
       "      <td>1.000292e+00</td>\n",
       "      <td>1.000292e+00</td>\n",
       "      <td>1.000292e+00</td>\n",
       "      <td>1.000292e+00</td>\n",
       "      <td>1.000292e+00</td>\n",
       "      <td>1.000292e+00</td>\n",
       "      <td>1.000292e+00</td>\n",
       "    </tr>\n",
       "    <tr>\n",
       "      <th>min</th>\n",
       "      <td>-3.105476e+00</td>\n",
       "      <td>-2.255368e+00</td>\n",
       "      <td>-4.840587e+00</td>\n",
       "      <td>-6.163319e+00</td>\n",
       "      <td>-2.462152e+00</td>\n",
       "      <td>-1.253317e+00</td>\n",
       "      <td>-5.125905e+00</td>\n",
       "      <td>-2.296453e+00</td>\n",
       "      <td>-2.971594e+00</td>\n",
       "      <td>-1.707177e+00</td>\n",
       "      <td>...</td>\n",
       "      <td>-5.394217e-01</td>\n",
       "      <td>-1.535412e-01</td>\n",
       "      <td>-2.539909e+00</td>\n",
       "      <td>-4.773371e+00</td>\n",
       "      <td>-4.288170e+00</td>\n",
       "      <td>-8.968938e-01</td>\n",
       "      <td>-2.101324e+00</td>\n",
       "      <td>-3.352460e-02</td>\n",
       "      <td>-1.567727e+00</td>\n",
       "      <td>-2.238039e+00</td>\n",
       "    </tr>\n",
       "    <tr>\n",
       "      <th>25%</th>\n",
       "      <td>-7.855951e-01</td>\n",
       "      <td>-6.556529e-01</td>\n",
       "      <td>-6.525765e-01</td>\n",
       "      <td>-5.180937e-01</td>\n",
       "      <td>-7.229435e-01</td>\n",
       "      <td>-6.571359e-01</td>\n",
       "      <td>-5.142709e-01</td>\n",
       "      <td>-7.453469e-01</td>\n",
       "      <td>-6.392500e-01</td>\n",
       "      <td>-6.284661e-01</td>\n",
       "      <td>...</td>\n",
       "      <td>-4.363944e-01</td>\n",
       "      <td>-1.485979e-01</td>\n",
       "      <td>-6.494858e-01</td>\n",
       "      <td>-5.391554e-01</td>\n",
       "      <td>-6.877143e-01</td>\n",
       "      <td>-7.330890e-01</td>\n",
       "      <td>-7.025593e-01</td>\n",
       "      <td>-3.352460e-02</td>\n",
       "      <td>-6.012244e-01</td>\n",
       "      <td>-6.829356e-01</td>\n",
       "    </tr>\n",
       "    <tr>\n",
       "      <th>50%</th>\n",
       "      <td>-1.230137e-02</td>\n",
       "      <td>-1.224145e-01</td>\n",
       "      <td>1.202946e-01</td>\n",
       "      <td>1.307645e-01</td>\n",
       "      <td>-9.842823e-02</td>\n",
       "      <td>-2.537924e-01</td>\n",
       "      <td>1.006687e-01</td>\n",
       "      <td>-9.575990e-02</td>\n",
       "      <td>-1.091719e-01</td>\n",
       "      <td>-2.675206e-01</td>\n",
       "      <td>...</td>\n",
       "      <td>-2.694981e-01</td>\n",
       "      <td>-1.327193e-01</td>\n",
       "      <td>-1.691375e-01</td>\n",
       "      <td>1.023915e-01</td>\n",
       "      <td>7.150636e-02</td>\n",
       "      <td>-3.390361e-01</td>\n",
       "      <td>-1.707048e-01</td>\n",
       "      <td>-3.352460e-02</td>\n",
       "      <td>-2.561890e-01</td>\n",
       "      <td>-6.338575e-02</td>\n",
       "    </tr>\n",
       "    <tr>\n",
       "      <th>75%</th>\n",
       "      <td>7.609924e-01</td>\n",
       "      <td>4.108239e-01</td>\n",
       "      <td>7.761720e-01</td>\n",
       "      <td>6.919361e-01</td>\n",
       "      <td>5.673036e-01</td>\n",
       "      <td>3.602615e-01</td>\n",
       "      <td>6.619334e-01</td>\n",
       "      <td>6.778607e-01</td>\n",
       "      <td>5.269217e-01</td>\n",
       "      <td>4.580296e-01</td>\n",
       "      <td>...</td>\n",
       "      <td>4.639577e-02</td>\n",
       "      <td>-7.721011e-02</td>\n",
       "      <td>3.861731e-01</td>\n",
       "      <td>6.546917e-01</td>\n",
       "      <td>6.742888e-01</td>\n",
       "      <td>4.062755e-01</td>\n",
       "      <td>6.183582e-01</td>\n",
       "      <td>-3.352460e-02</td>\n",
       "      <td>2.764973e-01</td>\n",
       "      <td>5.629154e-01</td>\n",
       "    </tr>\n",
       "    <tr>\n",
       "      <th>max</th>\n",
       "      <td>3.660844e+00</td>\n",
       "      <td>5.343279e+00</td>\n",
       "      <td>1.884353e+00</td>\n",
       "      <td>2.273257e+00</td>\n",
       "      <td>3.701133e+00</td>\n",
       "      <td>7.753486e+00</td>\n",
       "      <td>2.598261e+00</td>\n",
       "      <td>4.147960e+00</td>\n",
       "      <td>6.675827e+00</td>\n",
       "      <td>9.752444e+00</td>\n",
       "      <td>...</td>\n",
       "      <td>1.523640e+01</td>\n",
       "      <td>3.365923e+01</td>\n",
       "      <td>4.025224e+00</td>\n",
       "      <td>2.802086e+00</td>\n",
       "      <td>2.610532e+00</td>\n",
       "      <td>5.923974e+00</td>\n",
       "      <td>4.441608e+00</td>\n",
       "      <td>4.016582e+01</td>\n",
       "      <td>6.430385e+00</td>\n",
       "      <td>6.787459e+00</td>\n",
       "    </tr>\n",
       "  </tbody>\n",
       "</table>\n",
       "<p>8 rows × 57 columns</p>\n",
       "</div>"
      ],
      "text/plain": [
       "       min_calliper  max_calliper  smallest_largest_calliper    min_radius  \\\n",
       "count  1.713000e+03  1.713000e+03               1.713000e+03  1.713000e+03   \n",
       "mean   1.410301e-16  8.793640e-16              -8.710682e-17 -1.559627e-15   \n",
       "std    1.000292e+00  1.000292e+00               1.000292e+00  1.000292e+00   \n",
       "min   -3.105476e+00 -2.255368e+00              -4.840587e+00 -6.163319e+00   \n",
       "25%   -7.855951e-01 -6.556529e-01              -6.525765e-01 -5.180937e-01   \n",
       "50%   -1.230137e-02 -1.224145e-01               1.202946e-01  1.307645e-01   \n",
       "75%    7.609924e-01  4.108239e-01               7.761720e-01  6.919361e-01   \n",
       "max    3.660844e+00  5.343279e+00               1.884353e+00  2.273257e+00   \n",
       "\n",
       "         med_radius     concavity   area_bbarea  std_curvature  \\\n",
       "count  1.713000e+03  1.713000e+03  1.713000e+03   1.713000e+03   \n",
       "mean   5.641203e-16  1.825095e-16 -1.256827e-15  -3.069478e-16   \n",
       "std    1.000292e+00  1.000292e+00  1.000292e+00   1.000292e+00   \n",
       "min   -2.462152e+00 -1.253317e+00 -5.125905e+00  -2.296453e+00   \n",
       "25%   -7.229435e-01 -6.571359e-01 -5.142709e-01  -7.453469e-01   \n",
       "50%   -9.842823e-02 -2.537924e-01  1.006687e-01  -9.575990e-02   \n",
       "75%    5.673036e-01  3.602615e-01  6.619334e-01   6.778607e-01   \n",
       "max    3.701133e+00  7.753486e+00  2.598261e+00   4.147960e+00   \n",
       "\n",
       "       npolarity_changes  max_posi_curv  ...  moments_hu-2  moments_hu-3  \\\n",
       "count       1.713000e+03   1.713000e+03  ...  1.713000e+03  1.713000e+03   \n",
       "mean       -3.525752e-16  -8.295887e-17  ... -6.221915e-18 -1.451780e-17   \n",
       "std         1.000292e+00   1.000292e+00  ...  1.000292e+00  1.000292e+00   \n",
       "min        -2.971594e+00  -1.707177e+00  ... -5.394217e-01 -1.535412e-01   \n",
       "25%        -6.392500e-01  -6.284661e-01  ... -4.363944e-01 -1.485979e-01   \n",
       "50%        -1.091719e-01  -2.675206e-01  ... -2.694981e-01 -1.327193e-01   \n",
       "75%         5.269217e-01   4.580296e-01  ...  4.639577e-02 -7.721011e-02   \n",
       "max         6.675827e+00   9.752444e+00  ...  1.523640e+01  3.365923e+01   \n",
       "\n",
       "       equivalent_diameter.1        extent  rel_hc_volume         rdp_1  \\\n",
       "count           1.713000e+03  1.713000e+03   1.713000e+03  1.713000e+03   \n",
       "mean            6.968545e-16 -3.484273e-16   3.534048e-15  6.221915e-17   \n",
       "std             1.000292e+00  1.000292e+00   1.000292e+00  1.000292e+00   \n",
       "min            -2.539909e+00 -4.773371e+00  -4.288170e+00 -8.968938e-01   \n",
       "25%            -6.494858e-01 -5.391554e-01  -6.877143e-01 -7.330890e-01   \n",
       "50%            -1.691375e-01  1.023915e-01   7.150636e-02 -3.390361e-01   \n",
       "75%             3.861731e-01  6.546917e-01   6.742888e-01  4.062755e-01   \n",
       "max             4.025224e+00  2.802086e+00   2.610532e+00  5.923974e+00   \n",
       "\n",
       "       min_dna_3d_int  q25_dna_3d_int  q75_dna_3d_int  kurtosis_dna_3d_int  \n",
       "count    1.713000e+03    1.713000e+03    1.713000e+03         1.713000e+03  \n",
       "mean     1.659177e-17    1.659177e-17    1.991013e-16        -1.991013e-16  \n",
       "std      1.000292e+00    1.000292e+00    1.000292e+00         1.000292e+00  \n",
       "min     -2.101324e+00   -3.352460e-02   -1.567727e+00        -2.238039e+00  \n",
       "25%     -7.025593e-01   -3.352460e-02   -6.012244e-01        -6.829356e-01  \n",
       "50%     -1.707048e-01   -3.352460e-02   -2.561890e-01        -6.338575e-02  \n",
       "75%      6.183582e-01   -3.352460e-02    2.764973e-01         5.629154e-01  \n",
       "max      4.441608e+00    4.016582e+01    6.430385e+00         6.787459e+00  \n",
       "\n",
       "[8 rows x 57 columns]"
      ]
     },
     "execution_count": 11,
     "metadata": {},
     "output_type": "execute_result"
    },
    {
     "data": {
      "application/javascript": [
       "\n",
       "            setTimeout(function() {\n",
       "                var nbb_cell_id = 11;\n",
       "                var nbb_unformatted_code = \"features_sc = pd.DataFrame(\\n    StandardScaler().fit_transform(features),\\n    index=features.index,\\n    columns=features.columns,\\n)\\nfeatures_sc.describe()\";\n",
       "                var nbb_formatted_code = \"features_sc = pd.DataFrame(\\n    StandardScaler().fit_transform(features),\\n    index=features.index,\\n    columns=features.columns,\\n)\\nfeatures_sc.describe()\";\n",
       "                var nbb_cells = Jupyter.notebook.get_cells();\n",
       "                for (var i = 0; i < nbb_cells.length; ++i) {\n",
       "                    if (nbb_cells[i].input_prompt_number == nbb_cell_id) {\n",
       "                        if (nbb_cells[i].get_text() == nbb_unformatted_code) {\n",
       "                             nbb_cells[i].set_text(nbb_formatted_code);\n",
       "                        }\n",
       "                        break;\n",
       "                    }\n",
       "                }\n",
       "            }, 500);\n",
       "            "
      ],
      "text/plain": [
       "<IPython.core.display.Javascript object>"
      ]
     },
     "metadata": {},
     "output_type": "display_data"
    }
   ],
   "source": [
    "features_sc = pd.DataFrame(\n",
    "    StandardScaler().fit_transform(features),\n",
    "    index=features.index,\n",
    "    columns=features.columns,\n",
    ")\n",
    "features_sc.describe()"
   ]
  },
  {
   "cell_type": "markdown",
   "id": "stopped-portal",
   "metadata": {},
   "source": [
    "Next, we compute the TSNE."
   ]
  },
  {
   "cell_type": "code",
   "execution_count": 12,
   "id": "destroyed-trail",
   "metadata": {},
   "outputs": [
    {
     "data": {
      "application/javascript": [
       "\n",
       "            setTimeout(function() {\n",
       "                var nbb_cell_id = 12;\n",
       "                var nbb_unformatted_code = \"tsne = TSNE(random_state=seed)\\ntsne_embs = tsne.fit_transform(features_sc)\\ntsne_embs = pd.DataFrame(\\n    tsne_embs, columns=[\\\"tsne_0\\\", \\\"tsne_1\\\"], index=features_sc.index\\n)\\ntsne_embs.loc[:, \\\"sample\\\"] = np.array(data.loc[tsne_embs.index, \\\"sample\\\"])\\ntsne_embs.loc[:, \\\"condition\\\"] = np.array(data.loc[tsne_embs.index, \\\"condition\\\"])\";\n",
       "                var nbb_formatted_code = \"tsne = TSNE(random_state=seed)\\ntsne_embs = tsne.fit_transform(features_sc)\\ntsne_embs = pd.DataFrame(\\n    tsne_embs, columns=[\\\"tsne_0\\\", \\\"tsne_1\\\"], index=features_sc.index\\n)\\ntsne_embs.loc[:, \\\"sample\\\"] = np.array(data.loc[tsne_embs.index, \\\"sample\\\"])\\ntsne_embs.loc[:, \\\"condition\\\"] = np.array(data.loc[tsne_embs.index, \\\"condition\\\"])\";\n",
       "                var nbb_cells = Jupyter.notebook.get_cells();\n",
       "                for (var i = 0; i < nbb_cells.length; ++i) {\n",
       "                    if (nbb_cells[i].input_prompt_number == nbb_cell_id) {\n",
       "                        if (nbb_cells[i].get_text() == nbb_unformatted_code) {\n",
       "                             nbb_cells[i].set_text(nbb_formatted_code);\n",
       "                        }\n",
       "                        break;\n",
       "                    }\n",
       "                }\n",
       "            }, 500);\n",
       "            "
      ],
      "text/plain": [
       "<IPython.core.display.Javascript object>"
      ]
     },
     "metadata": {},
     "output_type": "display_data"
    }
   ],
   "source": [
    "tsne = TSNE(random_state=seed)\n",
    "tsne_embs = tsne.fit_transform(features_sc)\n",
    "tsne_embs = pd.DataFrame(\n",
    "    tsne_embs, columns=[\"tsne_0\", \"tsne_1\"], index=features_sc.index\n",
    ")\n",
    "tsne_embs.loc[:, \"sample\"] = np.array(data.loc[tsne_embs.index, \"sample\"])\n",
    "tsne_embs.loc[:, \"condition\"] = np.array(data.loc[tsne_embs.index, \"condition\"])"
   ]
  },
  {
   "cell_type": "code",
   "execution_count": 13,
   "id": "olympic-tissue",
   "metadata": {},
   "outputs": [
    {
     "data": {
      "image/png": "[encoded data removed]",
      "text/plain": [
       "<Figure size 576x432 with 1 Axes>"
      ]
     },
     "metadata": {
      "needs_background": "light"
     },
     "output_type": "display_data"
    },
    {
     "data": {
      "application/javascript": [
       "\n",
       "            setTimeout(function() {\n",
       "                var nbb_cell_id = 13;\n",
       "                var nbb_unformatted_code = \"fig, ax = plt.subplots(figsize=[8, 6])\\nax = sns.scatterplot(data=tsne_embs, x=\\\"tsne_0\\\", y=\\\"tsne_1\\\", hue=\\\"condition\\\", ax=ax)\\nplt.title(\\\"TSNE of the nuclei by condition\\\")\\nplt.show()\";\n",
       "                var nbb_formatted_code = \"fig, ax = plt.subplots(figsize=[8, 6])\\nax = sns.scatterplot(data=tsne_embs, x=\\\"tsne_0\\\", y=\\\"tsne_1\\\", hue=\\\"condition\\\", ax=ax)\\nplt.title(\\\"TSNE of the nuclei by condition\\\")\\nplt.show()\";\n",
       "                var nbb_cells = Jupyter.notebook.get_cells();\n",
       "                for (var i = 0; i < nbb_cells.length; ++i) {\n",
       "                    if (nbb_cells[i].input_prompt_number == nbb_cell_id) {\n",
       "                        if (nbb_cells[i].get_text() == nbb_unformatted_code) {\n",
       "                             nbb_cells[i].set_text(nbb_formatted_code);\n",
       "                        }\n",
       "                        break;\n",
       "                    }\n",
       "                }\n",
       "            }, 500);\n",
       "            "
      ],
      "text/plain": [
       "<IPython.core.display.Javascript object>"
      ]
     },
     "metadata": {},
     "output_type": "display_data"
    }
   ],
   "source": [
    "fig, ax = plt.subplots(figsize=[8, 6])\n",
    "ax = sns.scatterplot(data=tsne_embs, x=\"tsne_0\", y=\"tsne_1\", hue=\"condition\", ax=ax)\n",
    "plt.title(\"TSNE of the nuclei by condition\")\n",
    "plt.show()"
   ]
  },
  {
   "cell_type": "markdown",
   "id": "alone-respect",
   "metadata": {},
   "source": [
    "As you can see the blood cells before the first treatment are very different from those of the healthy control population. Interestingly the samples from the intermediate time point of the treament and the post-treatment time point cluster together with the samples from the pre-treatment condition. There does not seem to be any strong treatment effect in that biological sample."
   ]
  },
  {
   "cell_type": "markdown",
   "id": "greek-satin",
   "metadata": {},
   "source": [
    "---\n",
    "\n",
    "## 4. Separability of the time points\n",
    "\n",
    "Next, we will look more into the differences of the PBMC phenotypes at the different time points of the treatment in comparison to the healthy controls. To this end, we will train a RandomForest classifier model on distinguishing between the different data conditions."
   ]
  },
  {
   "cell_type": "markdown",
   "id": "champion-bryan",
   "metadata": {},
   "source": [
    "To this end, we perform a 10-fold Stratified cross-validation approach and look at the average confusion matrix of the individual folds."
   ]
  },
  {
   "cell_type": "code",
   "execution_count": 14,
   "id": "hourly-banner",
   "metadata": {},
   "outputs": [
    {
     "data": {
      "application/javascript": [
       "\n",
       "            setTimeout(function() {\n",
       "                var nbb_cell_id = 14;\n",
       "                var nbb_unformatted_code = \"rfc = RandomForestClassifier(\\n    n_estimators=500, n_jobs=10, random_state=seed, class_weight=\\\"balanced\\\"\\n)\\navg_conf_mtx = compute_avg_conf_mtx(\\n    model=rfc, n_folds=10, features=features_sc, labels=condition_labels\\n)\";\n",
       "                var nbb_formatted_code = \"rfc = RandomForestClassifier(\\n    n_estimators=500, n_jobs=10, random_state=seed, class_weight=\\\"balanced\\\"\\n)\\navg_conf_mtx = compute_avg_conf_mtx(\\n    model=rfc, n_folds=10, features=features_sc, labels=condition_labels\\n)\";\n",
       "                var nbb_cells = Jupyter.notebook.get_cells();\n",
       "                for (var i = 0; i < nbb_cells.length; ++i) {\n",
       "                    if (nbb_cells[i].input_prompt_number == nbb_cell_id) {\n",
       "                        if (nbb_cells[i].get_text() == nbb_unformatted_code) {\n",
       "                             nbb_cells[i].set_text(nbb_formatted_code);\n",
       "                        }\n",
       "                        break;\n",
       "                    }\n",
       "                }\n",
       "            }, 500);\n",
       "            "
      ],
      "text/plain": [
       "<IPython.core.display.Javascript object>"
      ]
     },
     "metadata": {},
     "output_type": "display_data"
    }
   ],
   "source": [
    "rfc = RandomForestClassifier(\n",
    "    n_estimators=500, n_jobs=10, random_state=seed, class_weight=\"balanced\"\n",
    ")\n",
    "avg_conf_mtx = compute_avg_conf_mtx(\n",
    "    model=rfc, n_folds=10, features=features_sc, labels=condition_labels\n",
    ")"
   ]
  },
  {
   "cell_type": "code",
   "execution_count": 15,
   "id": "happy-audience",
   "metadata": {},
   "outputs": [
    {
     "data": {
      "image/png": "[encoded data removed]",
      "text/plain": [
       "<Figure size 432x288 with 2 Axes>"
      ]
     },
     "metadata": {
      "needs_background": "light"
     },
     "output_type": "display_data"
    },
    {
     "data": {
      "application/javascript": [
       "\n",
       "            setTimeout(function() {\n",
       "                var nbb_cell_id = 15;\n",
       "                var nbb_unformatted_code = \"fig, ax = plt.subplots(figsize=[6, 4])\\nax = sns.heatmap(avg_conf_mtx, annot=True, cmap=\\\"viridis\\\", ax=ax)\\nax.set_xlabel(\\\"Predicted\\\")\\nax.set_ylabel(\\\"True\\\")\\nplt.title(\\\"Average confusion matrix from {}-fold stratified CV\\\".format(10))\\nplt.show()\";\n",
       "                var nbb_formatted_code = \"fig, ax = plt.subplots(figsize=[6, 4])\\nax = sns.heatmap(avg_conf_mtx, annot=True, cmap=\\\"viridis\\\", ax=ax)\\nax.set_xlabel(\\\"Predicted\\\")\\nax.set_ylabel(\\\"True\\\")\\nplt.title(\\\"Average confusion matrix from {}-fold stratified CV\\\".format(10))\\nplt.show()\";\n",
       "                var nbb_cells = Jupyter.notebook.get_cells();\n",
       "                for (var i = 0; i < nbb_cells.length; ++i) {\n",
       "                    if (nbb_cells[i].input_prompt_number == nbb_cell_id) {\n",
       "                        if (nbb_cells[i].get_text() == nbb_unformatted_code) {\n",
       "                             nbb_cells[i].set_text(nbb_formatted_code);\n",
       "                        }\n",
       "                        break;\n",
       "                    }\n",
       "                }\n",
       "            }, 500);\n",
       "            "
      ],
      "text/plain": [
       "<IPython.core.display.Javascript object>"
      ]
     },
     "metadata": {},
     "output_type": "display_data"
    }
   ],
   "source": [
    "fig, ax = plt.subplots(figsize=[6, 4])\n",
    "ax = sns.heatmap(avg_conf_mtx, annot=True, cmap=\"viridis\", ax=ax)\n",
    "ax.set_xlabel(\"Predicted\")\n",
    "ax.set_ylabel(\"True\")\n",
    "plt.title(\"Average confusion matrix from {}-fold stratified CV\".format(10))\n",
    "plt.show()"
   ]
  },
  {
   "cell_type": "markdown",
   "id": "plastic-surprise",
   "metadata": {},
   "source": [
    "The confusion matrix further emphasizes the previous statements. For all cases we can fairly well distinguish the samples from the cancer patient at the different time points from the halthy controls. However, we can less well distinguish between the different time points."
   ]
  },
  {
   "cell_type": "code",
   "execution_count": 16,
   "id": "peripheral-figure",
   "metadata": {},
   "outputs": [
    {
     "data": {
      "image/png": "[encoded data removed]",
      "text/plain": [
       "<Figure size 576x432 with 1 Axes>"
      ]
     },
     "metadata": {
      "needs_background": "light"
     },
     "output_type": "display_data"
    },
    {
     "data": {
      "application/javascript": [
       "\n",
       "            setTimeout(function() {\n",
       "                var nbb_cell_id = 16;\n",
       "                var nbb_unformatted_code = \"rfc = rfc.fit(features_sc, condition_labels)\\nplot_feature_importance(rfc.feature_importances_, features_sc.columns, \\\"RFC \\\")\";\n",
       "                var nbb_formatted_code = \"rfc = rfc.fit(features_sc, condition_labels)\\nplot_feature_importance(rfc.feature_importances_, features_sc.columns, \\\"RFC \\\")\";\n",
       "                var nbb_cells = Jupyter.notebook.get_cells();\n",
       "                for (var i = 0; i < nbb_cells.length; ++i) {\n",
       "                    if (nbb_cells[i].input_prompt_number == nbb_cell_id) {\n",
       "                        if (nbb_cells[i].get_text() == nbb_unformatted_code) {\n",
       "                             nbb_cells[i].set_text(nbb_formatted_code);\n",
       "                        }\n",
       "                        break;\n",
       "                    }\n",
       "                }\n",
       "            }, 500);\n",
       "            "
      ],
      "text/plain": [
       "<IPython.core.display.Javascript object>"
      ]
     },
     "metadata": {},
     "output_type": "display_data"
    }
   ],
   "source": [
    "rfc = rfc.fit(features_sc, condition_labels)\n",
    "plot_feature_importance(rfc.feature_importances_, features_sc.columns, \"RFC \")"
   ]
  },
  {
   "cell_type": "markdown",
   "id": "encouraging-guyana",
   "metadata": {},
   "source": [
    "When we look at the features that got the highest importance we see that many of these are related to intensity features of the protein channels."
   ]
  },
  {
   "cell_type": "code",
   "execution_count": 17,
   "id": "cultural-fraud",
   "metadata": {},
   "outputs": [
    {
     "data": {
      "image/png": "[encoded data removed]",
      "text/plain": [
       "<Figure size 432x288 with 1 Axes>"
      ]
     },
     "metadata": {
      "needs_background": "light"
     },
     "output_type": "display_data"
    },
    {
     "data": {
      "application/javascript": [
       "\n",
       "            setTimeout(function() {\n",
       "                var nbb_cell_id = 17;\n",
       "                var nbb_unformatted_code = \"fig, ax = plt.subplots(figsize=[6, 4])\\nsns.boxplot(data=data, x=\\\"condition\\\", y=\\\"std_curvature\\\", ax=ax)\\nadd_stat_annotation(\\n    ax,\\n    data=data,\\n    x=\\\"condition\\\",\\n    y=\\\"std_curvature\\\",\\n    box_pairs=[\\n        (\\\"ctrl\\\", \\\"tp1\\\"),\\n        (\\\"ctrl\\\", \\\"tp2\\\"),\\n        (\\\"ctrl\\\", \\\"tp3\\\"),\\n        (\\\"tp1\\\", \\\"tp2\\\"),\\n        (\\\"tp1\\\", \\\"tp3\\\"),\\n        (\\\"tp2\\\", \\\"tp3\\\"),\\n    ],\\n    test=\\\"Mann-Whitney\\\",\\n    loc=\\\"inside\\\",\\n    verbose=0,\\n)\\nplt.show()\";\n",
       "                var nbb_formatted_code = \"fig, ax = plt.subplots(figsize=[6, 4])\\nsns.boxplot(data=data, x=\\\"condition\\\", y=\\\"std_curvature\\\", ax=ax)\\nadd_stat_annotation(\\n    ax,\\n    data=data,\\n    x=\\\"condition\\\",\\n    y=\\\"std_curvature\\\",\\n    box_pairs=[\\n        (\\\"ctrl\\\", \\\"tp1\\\"),\\n        (\\\"ctrl\\\", \\\"tp2\\\"),\\n        (\\\"ctrl\\\", \\\"tp3\\\"),\\n        (\\\"tp1\\\", \\\"tp2\\\"),\\n        (\\\"tp1\\\", \\\"tp3\\\"),\\n        (\\\"tp2\\\", \\\"tp3\\\"),\\n    ],\\n    test=\\\"Mann-Whitney\\\",\\n    loc=\\\"inside\\\",\\n    verbose=0,\\n)\\nplt.show()\";\n",
       "                var nbb_cells = Jupyter.notebook.get_cells();\n",
       "                for (var i = 0; i < nbb_cells.length; ++i) {\n",
       "                    if (nbb_cells[i].input_prompt_number == nbb_cell_id) {\n",
       "                        if (nbb_cells[i].get_text() == nbb_unformatted_code) {\n",
       "                             nbb_cells[i].set_text(nbb_formatted_code);\n",
       "                        }\n",
       "                        break;\n",
       "                    }\n",
       "                }\n",
       "            }, 500);\n",
       "            "
      ],
      "text/plain": [
       "<IPython.core.display.Javascript object>"
      ]
     },
     "metadata": {},
     "output_type": "display_data"
    }
   ],
   "source": [
    "fig, ax = plt.subplots(figsize=[6, 4])\n",
    "sns.boxplot(data=data, x=\"condition\", y=\"std_curvature\", ax=ax)\n",
    "add_stat_annotation(\n",
    "    ax,\n",
    "    data=data,\n",
    "    x=\"condition\",\n",
    "    y=\"std_curvature\",\n",
    "    box_pairs=[\n",
    "        (\"ctrl\", \"tp1\"),\n",
    "        (\"ctrl\", \"tp2\"),\n",
    "        (\"ctrl\", \"tp3\"),\n",
    "        (\"tp1\", \"tp2\"),\n",
    "        (\"tp1\", \"tp3\"),\n",
    "        (\"tp2\", \"tp3\"),\n",
    "    ],\n",
    "    test=\"Mann-Whitney\",\n",
    "    loc=\"inside\",\n",
    "    verbose=0,\n",
    ")\n",
    "plt.show()"
   ]
  },
  {
   "cell_type": "code",
   "execution_count": 18,
   "id": "individual-michigan",
   "metadata": {},
   "outputs": [
    {
     "data": {
      "text/plain": [
       "['min_calliper',\n",
       " 'max_calliper',\n",
       " 'smallest_largest_calliper',\n",
       " 'min_radius',\n",
       " 'max_radius',\n",
       " 'med_radius',\n",
       " 'avg_radius',\n",
       " 'mode_radius',\n",
       " 'd25_radius',\n",
       " 'd75_radius',\n",
       " 'std_radius',\n",
       " 'feret_max',\n",
       " 'area',\n",
       " 'perimeter',\n",
       " 'bbox_area',\n",
       " 'convex_area',\n",
       " 'equivalent_diameter',\n",
       " 'major_axis_length',\n",
       " 'minor_axis_length',\n",
       " 'eccentricity',\n",
       " 'concavity',\n",
       " 'solidity',\n",
       " 'a_r',\n",
       " 'shape_factor',\n",
       " 'area_bbarea',\n",
       " 'avg_curvature',\n",
       " 'std_curvature',\n",
       " 'npolarity_changes',\n",
       " 'max_posi_curv',\n",
       " 'avg_posi_curv',\n",
       " 'med_posi_curv',\n",
       " 'std_posi_curv',\n",
       " 'sum_posi_curv',\n",
       " 'len_posi_curv',\n",
       " 'max_neg_curv',\n",
       " 'avg_neg_curv',\n",
       " 'med_neg_curv',\n",
       " 'std_neg_curv',\n",
       " 'sum_neg_curv',\n",
       " 'len_neg_curv',\n",
       " 'num_prominant_pos_curv',\n",
       " 'prominance_prominant_pos_curv',\n",
       " 'width_prominant_pos_curv',\n",
       " 'prominant_pos_curv',\n",
       " 'num_prominant_neg_curv',\n",
       " 'frac_peri_w_posi_curvature',\n",
       " 'frac_peri_w_neg_curvature',\n",
       " 'frac_peri_w_polarity_changes',\n",
       " 'int_min',\n",
       " 'int_d25',\n",
       " 'int_median',\n",
       " 'int_d75',\n",
       " 'int_max',\n",
       " 'int_mean',\n",
       " 'int_mode',\n",
       " 'int_sd',\n",
       " 'kurtosis',\n",
       " 'skewness',\n",
       " 'entropy',\n",
       " 'i80_i20',\n",
       " 'nhigh_nlow',\n",
       " 'hc_area_ec_area',\n",
       " 'hc_area_nuc_area',\n",
       " 'hc_content_ec_content',\n",
       " 'hc_content_dna_content',\n",
       " 'contrast_5',\n",
       " 'contrast_25',\n",
       " 'contrast_100',\n",
       " 'dissimilarity_5',\n",
       " 'dissimilarity_25',\n",
       " 'dissimilarity_100',\n",
       " 'homogeneity_5',\n",
       " 'homogeneity_25',\n",
       " 'homogeneity_100',\n",
       " 'asm_5',\n",
       " 'asm_25',\n",
       " 'asm_100',\n",
       " 'energy_5',\n",
       " 'energy_25',\n",
       " 'energy_100',\n",
       " 'correlation_5',\n",
       " 'correlation_25',\n",
       " 'correlation_100',\n",
       " 'weighted_moments-0-0',\n",
       " 'weighted_moments-0-1',\n",
       " 'weighted_moments-0-2',\n",
       " 'weighted_moments-0-3',\n",
       " 'weighted_moments-1-0',\n",
       " 'weighted_moments-1-1',\n",
       " 'weighted_moments-1-2',\n",
       " 'weighted_moments-1-3',\n",
       " 'weighted_moments-2-0',\n",
       " 'weighted_moments-2-1',\n",
       " 'weighted_moments-2-2',\n",
       " 'weighted_moments-2-3',\n",
       " 'weighted_moments-3-0',\n",
       " 'weighted_moments-3-1',\n",
       " 'weighted_moments-3-2',\n",
       " 'weighted_moments-3-3',\n",
       " 'weighted_moments_normalized-0-2',\n",
       " 'weighted_moments_normalized-0-3',\n",
       " 'weighted_moments_normalized-1-1',\n",
       " 'weighted_moments_normalized-1-2',\n",
       " 'weighted_moments_normalized-1-3',\n",
       " 'weighted_moments_normalized-2-0',\n",
       " 'weighted_moments_normalized-2-1',\n",
       " 'weighted_moments_normalized-2-2',\n",
       " 'weighted_moments_normalized-2-3',\n",
       " 'weighted_moments_normalized-3-0',\n",
       " 'weighted_moments_normalized-3-1',\n",
       " 'weighted_moments_normalized-3-2',\n",
       " 'weighted_moments_normalized-3-3',\n",
       " 'weighted_moments_central-0-0',\n",
       " 'weighted_moments_central-0-1',\n",
       " 'weighted_moments_central-0-2',\n",
       " 'weighted_moments_central-0-3',\n",
       " 'weighted_moments_central-1-0',\n",
       " 'weighted_moments_central-1-1',\n",
       " 'weighted_moments_central-1-2',\n",
       " 'weighted_moments_central-1-3',\n",
       " 'weighted_moments_central-2-0',\n",
       " 'weighted_moments_central-2-1',\n",
       " 'weighted_moments_central-2-2',\n",
       " 'weighted_moments_central-2-3',\n",
       " 'weighted_moments_central-3-0',\n",
       " 'weighted_moments_central-3-1',\n",
       " 'weighted_moments_central-3-2',\n",
       " 'weighted_moments_central-3-3',\n",
       " 'weighted_moments_hu-0',\n",
       " 'weighted_moments_hu-1',\n",
       " 'weighted_moments_hu-2',\n",
       " 'weighted_moments_hu-3',\n",
       " 'weighted_moments_hu-4',\n",
       " 'weighted_moments_hu-5',\n",
       " 'weighted_moments_hu-6',\n",
       " 'moments-0-0',\n",
       " 'moments-0-1',\n",
       " 'moments-0-2',\n",
       " 'moments-0-3',\n",
       " 'moments-1-0',\n",
       " 'moments-1-1',\n",
       " 'moments-1-2',\n",
       " 'moments-1-3',\n",
       " 'moments-2-0',\n",
       " 'moments-2-1',\n",
       " 'moments-2-2',\n",
       " 'moments-2-3',\n",
       " 'moments-3-0',\n",
       " 'moments-3-1',\n",
       " 'moments-3-2',\n",
       " 'moments-3-3',\n",
       " 'moments_normalized-0-2',\n",
       " 'moments_normalized-0-3',\n",
       " 'moments_normalized-1-1',\n",
       " 'moments_normalized-1-2',\n",
       " 'moments_normalized-1-3',\n",
       " 'moments_normalized-2-0',\n",
       " 'moments_normalized-2-1',\n",
       " 'moments_normalized-2-2',\n",
       " 'moments_normalized-2-3',\n",
       " 'moments_normalized-3-0',\n",
       " 'moments_normalized-3-1',\n",
       " 'moments_normalized-3-2',\n",
       " 'moments_normalized-3-3',\n",
       " 'moments_central-0-0',\n",
       " 'moments_central-0-1',\n",
       " 'moments_central-0-2',\n",
       " 'moments_central-0-3',\n",
       " 'moments_central-1-0',\n",
       " 'moments_central-1-1',\n",
       " 'moments_central-1-2',\n",
       " 'moments_central-1-3',\n",
       " 'moments_central-2-0',\n",
       " 'moments_central-2-1',\n",
       " 'moments_central-2-2',\n",
       " 'moments_central-2-3',\n",
       " 'moments_central-3-0',\n",
       " 'moments_central-3-1',\n",
       " 'moments_central-3-2',\n",
       " 'moments_central-3-3',\n",
       " 'moments_hu-0',\n",
       " 'moments_hu-1',\n",
       " 'moments_hu-2',\n",
       " 'moments_hu-3',\n",
       " 'moments_hu-4',\n",
       " 'moments_hu-5',\n",
       " 'moments_hu-6',\n",
       " 'equivalent_diameter.1',\n",
       " 'extent',\n",
       " 'major_axis_length.1',\n",
       " 'minor_axis_length.1',\n",
       " 'solidity.1',\n",
       " 'nuclear_volume',\n",
       " 'convex_hull_vol',\n",
       " 'concavity_3d',\n",
       " 'rel_hc_volume',\n",
       " 'rel_ec_volume',\n",
       " 'hc_ec_ratio_3d',\n",
       " 'nuclear_mean_int',\n",
       " 'nuclear_std_int',\n",
       " 'rdp_1',\n",
       " 'rdp_2',\n",
       " 'rdp_3',\n",
       " 'rdp_4',\n",
       " 'rdp_5',\n",
       " 'rdp_6',\n",
       " 'rdp_7',\n",
       " 'rdp_8',\n",
       " 'rel_dna_3d_int',\n",
       " 'min_dna_3d_int',\n",
       " 'max_dna_3d_int',\n",
       " 'mean_dna_3d_int',\n",
       " 'std_dna_3d_int',\n",
       " 'q25_dna_3d_int',\n",
       " 'q75_dna_3d_int',\n",
       " 'median_dna_3d_int',\n",
       " 'kurtosis_dna_3d_int',\n",
       " 'skewness_dna_3d_int',\n",
       " 'rel_gh2ax_2d_int',\n",
       " 'min_gh2ax_2d_int',\n",
       " 'max_gh2ax_2d_int',\n",
       " 'mean_gh2ax_2d_int',\n",
       " 'std_gh2ax_2d_int',\n",
       " 'q25_gh2ax_2d_int',\n",
       " 'q75_gh2ax_2d_int',\n",
       " 'median_gh2ax_2d_int',\n",
       " 'kurtosis_gh2ax_2d_int',\n",
       " 'skewness_gh2ax_2d_int',\n",
       " 'rel_gh2ax_3d_int',\n",
       " 'min_gh2ax_3d_int',\n",
       " 'max_gh2ax_3d_int',\n",
       " 'mean_gh2ax_3d_int',\n",
       " 'std_gh2ax_3d_int',\n",
       " 'q25_gh2ax_3d_int',\n",
       " 'q75_gh2ax_3d_int',\n",
       " 'median_gh2ax_3d_int',\n",
       " 'kurtosis_gh2ax_3d_int',\n",
       " 'skewness_gh2ax_3d_int',\n",
       " 'rel_lamin_2d_int',\n",
       " 'min_lamin_2d_int',\n",
       " 'max_lamin_2d_int',\n",
       " 'mean_lamin_2d_int',\n",
       " 'std_lamin_2d_int',\n",
       " 'q25_lamin_2d_int',\n",
       " 'q75_lamin_2d_int',\n",
       " 'median_lamin_2d_int',\n",
       " 'kurtosis_lamin_2d_int',\n",
       " 'skewness_lamin_2d_int',\n",
       " 'rel_lamin_3d_int',\n",
       " 'max_lamin_3d_int',\n",
       " 'mean_lamin_3d_int',\n",
       " 'std_lamin_3d_int',\n",
       " 'q75_lamin_3d_int',\n",
       " 'median_lamin_3d_int',\n",
       " 'kurtosis_lamin_3d_int',\n",
       " 'skewness_lamin_3d_int',\n",
       " 'sample',\n",
       " 'condition']"
      ]
     },
     "execution_count": 18,
     "metadata": {},
     "output_type": "execute_result"
    },
    {
     "data": {
      "application/javascript": [
       "\n",
       "            setTimeout(function() {\n",
       "                var nbb_cell_id = 18;\n",
       "                var nbb_unformatted_code = \"list(data.columns)\";\n",
       "                var nbb_formatted_code = \"list(data.columns)\";\n",
       "                var nbb_cells = Jupyter.notebook.get_cells();\n",
       "                for (var i = 0; i < nbb_cells.length; ++i) {\n",
       "                    if (nbb_cells[i].input_prompt_number == nbb_cell_id) {\n",
       "                        if (nbb_cells[i].get_text() == nbb_unformatted_code) {\n",
       "                             nbb_cells[i].set_text(nbb_formatted_code);\n",
       "                        }\n",
       "                        break;\n",
       "                    }\n",
       "                }\n",
       "            }, 500);\n",
       "            "
      ],
      "text/plain": [
       "<IPython.core.display.Javascript object>"
      ]
     },
     "metadata": {},
     "output_type": "display_data"
    }
   ],
   "source": [
    "list(data.columns)"
   ]
  },
  {
   "cell_type": "code",
   "execution_count": 19,
   "id": "golden-anniversary",
   "metadata": {},
   "outputs": [
    {
     "data": {
      "image/png": "[encoded data removed]",
      "text/plain": [
       "<Figure size 432x288 with 1 Axes>"
      ]
     },
     "metadata": {
      "needs_background": "light"
     },
     "output_type": "display_data"
    },
    {
     "data": {
      "application/javascript": [
       "\n",
       "            setTimeout(function() {\n",
       "                var nbb_cell_id = 19;\n",
       "                var nbb_unformatted_code = \"fig, ax = plt.subplots(figsize=[6, 4])\\nsns.boxplot(data=data, x=\\\"condition\\\", y=\\\"area\\\", ax=ax)\\nadd_stat_annotation(\\n    ax,\\n    data=data,\\n    x=\\\"condition\\\",\\n    y=\\\"area\\\",\\n    box_pairs=[\\n        (\\\"ctrl\\\", \\\"tp1\\\"),\\n        (\\\"ctrl\\\", \\\"tp2\\\"),\\n        (\\\"ctrl\\\", \\\"tp3\\\"),\\n        (\\\"tp1\\\", \\\"tp2\\\"),\\n        (\\\"tp1\\\", \\\"tp3\\\"),\\n        (\\\"tp2\\\", \\\"tp3\\\"),\\n    ],\\n    test=\\\"Mann-Whitney\\\",\\n    loc=\\\"inside\\\",\\n    verbose=0,\\n)\\nplt.show()\";\n",
       "                var nbb_formatted_code = \"fig, ax = plt.subplots(figsize=[6, 4])\\nsns.boxplot(data=data, x=\\\"condition\\\", y=\\\"area\\\", ax=ax)\\nadd_stat_annotation(\\n    ax,\\n    data=data,\\n    x=\\\"condition\\\",\\n    y=\\\"area\\\",\\n    box_pairs=[\\n        (\\\"ctrl\\\", \\\"tp1\\\"),\\n        (\\\"ctrl\\\", \\\"tp2\\\"),\\n        (\\\"ctrl\\\", \\\"tp3\\\"),\\n        (\\\"tp1\\\", \\\"tp2\\\"),\\n        (\\\"tp1\\\", \\\"tp3\\\"),\\n        (\\\"tp2\\\", \\\"tp3\\\"),\\n    ],\\n    test=\\\"Mann-Whitney\\\",\\n    loc=\\\"inside\\\",\\n    verbose=0,\\n)\\nplt.show()\";\n",
       "                var nbb_cells = Jupyter.notebook.get_cells();\n",
       "                for (var i = 0; i < nbb_cells.length; ++i) {\n",
       "                    if (nbb_cells[i].input_prompt_number == nbb_cell_id) {\n",
       "                        if (nbb_cells[i].get_text() == nbb_unformatted_code) {\n",
       "                             nbb_cells[i].set_text(nbb_formatted_code);\n",
       "                        }\n",
       "                        break;\n",
       "                    }\n",
       "                }\n",
       "            }, 500);\n",
       "            "
      ],
      "text/plain": [
       "<IPython.core.display.Javascript object>"
      ]
     },
     "metadata": {},
     "output_type": "display_data"
    }
   ],
   "source": [
    "fig, ax = plt.subplots(figsize=[6, 4])\n",
    "sns.boxplot(data=data, x=\"condition\", y=\"area\", ax=ax)\n",
    "add_stat_annotation(\n",
    "    ax,\n",
    "    data=data,\n",
    "    x=\"condition\",\n",
    "    y=\"area\",\n",
    "    box_pairs=[\n",
    "        (\"ctrl\", \"tp1\"),\n",
    "        (\"ctrl\", \"tp2\"),\n",
    "        (\"ctrl\", \"tp3\"),\n",
    "        (\"tp1\", \"tp2\"),\n",
    "        (\"tp1\", \"tp3\"),\n",
    "        (\"tp2\", \"tp3\"),\n",
    "    ],\n",
    "    test=\"Mann-Whitney\",\n",
    "    loc=\"inside\",\n",
    "    verbose=0,\n",
    ")\n",
    "plt.show()"
   ]
  },
  {
   "cell_type": "code",
   "execution_count": 20,
   "id": "infectious-zambia",
   "metadata": {},
   "outputs": [
    {
     "data": {
      "image/png": "[encoded data removed]",
      "text/plain": [
       "<Figure size 432x288 with 1 Axes>"
      ]
     },
     "metadata": {
      "needs_background": "light"
     },
     "output_type": "display_data"
    },
    {
     "data": {
      "application/javascript": [
       "\n",
       "            setTimeout(function() {\n",
       "                var nbb_cell_id = 20;\n",
       "                var nbb_unformatted_code = \"fig, ax = plt.subplots(figsize=[6, 4])\\nsns.boxplot(data=data, x=\\\"condition\\\", y=\\\"med_radius\\\", ax=ax)\\nadd_stat_annotation(\\n    ax,\\n    data=data,\\n    x=\\\"condition\\\",\\n    y=\\\"med_radius\\\",\\n    box_pairs=[\\n        (\\\"ctrl\\\", \\\"tp1\\\"),\\n        (\\\"ctrl\\\", \\\"tp2\\\"),\\n        (\\\"ctrl\\\", \\\"tp3\\\"),\\n        (\\\"tp1\\\", \\\"tp2\\\"),\\n        (\\\"tp1\\\", \\\"tp3\\\"),\\n        (\\\"tp2\\\", \\\"tp3\\\"),\\n    ],\\n    test=\\\"Mann-Whitney\\\",\\n    loc=\\\"inside\\\",\\n    verbose=0,\\n)\\nplt.show()\";\n",
       "                var nbb_formatted_code = \"fig, ax = plt.subplots(figsize=[6, 4])\\nsns.boxplot(data=data, x=\\\"condition\\\", y=\\\"med_radius\\\", ax=ax)\\nadd_stat_annotation(\\n    ax,\\n    data=data,\\n    x=\\\"condition\\\",\\n    y=\\\"med_radius\\\",\\n    box_pairs=[\\n        (\\\"ctrl\\\", \\\"tp1\\\"),\\n        (\\\"ctrl\\\", \\\"tp2\\\"),\\n        (\\\"ctrl\\\", \\\"tp3\\\"),\\n        (\\\"tp1\\\", \\\"tp2\\\"),\\n        (\\\"tp1\\\", \\\"tp3\\\"),\\n        (\\\"tp2\\\", \\\"tp3\\\"),\\n    ],\\n    test=\\\"Mann-Whitney\\\",\\n    loc=\\\"inside\\\",\\n    verbose=0,\\n)\\nplt.show()\";\n",
       "                var nbb_cells = Jupyter.notebook.get_cells();\n",
       "                for (var i = 0; i < nbb_cells.length; ++i) {\n",
       "                    if (nbb_cells[i].input_prompt_number == nbb_cell_id) {\n",
       "                        if (nbb_cells[i].get_text() == nbb_unformatted_code) {\n",
       "                             nbb_cells[i].set_text(nbb_formatted_code);\n",
       "                        }\n",
       "                        break;\n",
       "                    }\n",
       "                }\n",
       "            }, 500);\n",
       "            "
      ],
      "text/plain": [
       "<IPython.core.display.Javascript object>"
      ]
     },
     "metadata": {},
     "output_type": "display_data"
    }
   ],
   "source": [
    "fig, ax = plt.subplots(figsize=[6, 4])\n",
    "sns.boxplot(data=data, x=\"condition\", y=\"med_radius\", ax=ax)\n",
    "add_stat_annotation(\n",
    "    ax,\n",
    "    data=data,\n",
    "    x=\"condition\",\n",
    "    y=\"med_radius\",\n",
    "    box_pairs=[\n",
    "        (\"ctrl\", \"tp1\"),\n",
    "        (\"ctrl\", \"tp2\"),\n",
    "        (\"ctrl\", \"tp3\"),\n",
    "        (\"tp1\", \"tp2\"),\n",
    "        (\"tp1\", \"tp3\"),\n",
    "        (\"tp2\", \"tp3\"),\n",
    "    ],\n",
    "    test=\"Mann-Whitney\",\n",
    "    loc=\"inside\",\n",
    "    verbose=0,\n",
    ")\n",
    "plt.show()"
   ]
  },
  {
   "cell_type": "code",
   "execution_count": 21,
   "id": "unusual-sculpture",
   "metadata": {},
   "outputs": [
    {
     "data": {
      "image/png": "[encoded data removed]",
      "text/plain": [
       "<Figure size 432x288 with 1 Axes>"
      ]
     },
     "metadata": {
      "needs_background": "light"
     },
     "output_type": "display_data"
    },
    {
     "data": {
      "application/javascript": [
       "\n",
       "            setTimeout(function() {\n",
       "                var nbb_cell_id = 21;\n",
       "                var nbb_unformatted_code = \"fig, ax = plt.subplots(figsize=[6, 4])\\nsns.boxplot(data=data, x=\\\"condition\\\", y=\\\"concavity_3d\\\", ax=ax)\\nadd_stat_annotation(\\n    ax,\\n    data=data,\\n    x=\\\"condition\\\",\\n    y=\\\"concavity_3d\\\",\\n    box_pairs=[\\n        (\\\"ctrl\\\", \\\"tp1\\\"),\\n        (\\\"ctrl\\\", \\\"tp2\\\"),\\n        (\\\"ctrl\\\", \\\"tp3\\\"),\\n        (\\\"tp1\\\", \\\"tp2\\\"),\\n        (\\\"tp1\\\", \\\"tp3\\\"),\\n        (\\\"tp2\\\", \\\"tp3\\\"),\\n    ],\\n    test=\\\"Mann-Whitney\\\",\\n    loc=\\\"inside\\\",\\n    verbose=0,\\n)\\nplt.show()\";\n",
       "                var nbb_formatted_code = \"fig, ax = plt.subplots(figsize=[6, 4])\\nsns.boxplot(data=data, x=\\\"condition\\\", y=\\\"concavity_3d\\\", ax=ax)\\nadd_stat_annotation(\\n    ax,\\n    data=data,\\n    x=\\\"condition\\\",\\n    y=\\\"concavity_3d\\\",\\n    box_pairs=[\\n        (\\\"ctrl\\\", \\\"tp1\\\"),\\n        (\\\"ctrl\\\", \\\"tp2\\\"),\\n        (\\\"ctrl\\\", \\\"tp3\\\"),\\n        (\\\"tp1\\\", \\\"tp2\\\"),\\n        (\\\"tp1\\\", \\\"tp3\\\"),\\n        (\\\"tp2\\\", \\\"tp3\\\"),\\n    ],\\n    test=\\\"Mann-Whitney\\\",\\n    loc=\\\"inside\\\",\\n    verbose=0,\\n)\\nplt.show()\";\n",
       "                var nbb_cells = Jupyter.notebook.get_cells();\n",
       "                for (var i = 0; i < nbb_cells.length; ++i) {\n",
       "                    if (nbb_cells[i].input_prompt_number == nbb_cell_id) {\n",
       "                        if (nbb_cells[i].get_text() == nbb_unformatted_code) {\n",
       "                             nbb_cells[i].set_text(nbb_formatted_code);\n",
       "                        }\n",
       "                        break;\n",
       "                    }\n",
       "                }\n",
       "            }, 500);\n",
       "            "
      ],
      "text/plain": [
       "<IPython.core.display.Javascript object>"
      ]
     },
     "metadata": {},
     "output_type": "display_data"
    }
   ],
   "source": [
    "fig, ax = plt.subplots(figsize=[6, 4])\n",
    "sns.boxplot(data=data, x=\"condition\", y=\"concavity_3d\", ax=ax)\n",
    "add_stat_annotation(\n",
    "    ax,\n",
    "    data=data,\n",
    "    x=\"condition\",\n",
    "    y=\"concavity_3d\",\n",
    "    box_pairs=[\n",
    "        (\"ctrl\", \"tp1\"),\n",
    "        (\"ctrl\", \"tp2\"),\n",
    "        (\"ctrl\", \"tp3\"),\n",
    "        (\"tp1\", \"tp2\"),\n",
    "        (\"tp1\", \"tp3\"),\n",
    "        (\"tp2\", \"tp3\"),\n",
    "    ],\n",
    "    test=\"Mann-Whitney\",\n",
    "    loc=\"inside\",\n",
    "    verbose=0,\n",
    ")\n",
    "plt.show()"
   ]
  },
  {
   "cell_type": "code",
   "execution_count": 22,
   "id": "jewish-helen",
   "metadata": {},
   "outputs": [
    {
     "data": {
      "image/png": "[encoded data removed]",
      "text/plain": [
       "<Figure size 432x432 with 1 Axes>"
      ]
     },
     "metadata": {
      "needs_background": "light"
     },
     "output_type": "display_data"
    },
    {
     "data": {
      "application/javascript": [
       "\n",
       "            setTimeout(function() {\n",
       "                var nbb_cell_id = 22;\n",
       "                var nbb_unformatted_code = \"fig, ax = plt.subplots(figsize=[6, 6])\\nsns.boxplot(data=data, x=\\\"condition\\\", y=\\\"rel_gh2ax_3d_int\\\", ax=ax)\\nax.set_ylim([0, 20000])\\nadd_stat_annotation(\\n    ax,\\n    data=data,\\n    x=\\\"condition\\\",\\n    y=\\\"rel_gh2ax_3d_int\\\",\\n    box_pairs=[\\n        (\\\"ctrl\\\", \\\"tp1\\\"),\\n        (\\\"ctrl\\\", \\\"tp2\\\"),\\n        (\\\"ctrl\\\", \\\"tp3\\\"),\\n        (\\\"tp1\\\", \\\"tp2\\\"),\\n        (\\\"tp1\\\", \\\"tp3\\\"),\\n        (\\\"tp2\\\", \\\"tp3\\\"),\\n    ],\\n    test=\\\"Mann-Whitney\\\",\\n    loc=\\\"outside\\\",\\n    verbose=0,\\n)\\nplt.show()\";\n",
       "                var nbb_formatted_code = \"fig, ax = plt.subplots(figsize=[6, 6])\\nsns.boxplot(data=data, x=\\\"condition\\\", y=\\\"rel_gh2ax_3d_int\\\", ax=ax)\\nax.set_ylim([0, 20000])\\nadd_stat_annotation(\\n    ax,\\n    data=data,\\n    x=\\\"condition\\\",\\n    y=\\\"rel_gh2ax_3d_int\\\",\\n    box_pairs=[\\n        (\\\"ctrl\\\", \\\"tp1\\\"),\\n        (\\\"ctrl\\\", \\\"tp2\\\"),\\n        (\\\"ctrl\\\", \\\"tp3\\\"),\\n        (\\\"tp1\\\", \\\"tp2\\\"),\\n        (\\\"tp1\\\", \\\"tp3\\\"),\\n        (\\\"tp2\\\", \\\"tp3\\\"),\\n    ],\\n    test=\\\"Mann-Whitney\\\",\\n    loc=\\\"outside\\\",\\n    verbose=0,\\n)\\nplt.show()\";\n",
       "                var nbb_cells = Jupyter.notebook.get_cells();\n",
       "                for (var i = 0; i < nbb_cells.length; ++i) {\n",
       "                    if (nbb_cells[i].input_prompt_number == nbb_cell_id) {\n",
       "                        if (nbb_cells[i].get_text() == nbb_unformatted_code) {\n",
       "                             nbb_cells[i].set_text(nbb_formatted_code);\n",
       "                        }\n",
       "                        break;\n",
       "                    }\n",
       "                }\n",
       "            }, 500);\n",
       "            "
      ],
      "text/plain": [
       "<IPython.core.display.Javascript object>"
      ]
     },
     "metadata": {},
     "output_type": "display_data"
    }
   ],
   "source": [
    "fig, ax = plt.subplots(figsize=[6, 6])\n",
    "sns.boxplot(data=data, x=\"condition\", y=\"rel_gh2ax_3d_int\", ax=ax)\n",
    "ax.set_ylim([0, 20000])\n",
    "add_stat_annotation(\n",
    "    ax,\n",
    "    data=data,\n",
    "    x=\"condition\",\n",
    "    y=\"rel_gh2ax_3d_int\",\n",
    "    box_pairs=[\n",
    "        (\"ctrl\", \"tp1\"),\n",
    "        (\"ctrl\", \"tp2\"),\n",
    "        (\"ctrl\", \"tp3\"),\n",
    "        (\"tp1\", \"tp2\"),\n",
    "        (\"tp1\", \"tp3\"),\n",
    "        (\"tp2\", \"tp3\"),\n",
    "    ],\n",
    "    test=\"Mann-Whitney\",\n",
    "    loc=\"outside\",\n",
    "    verbose=0,\n",
    ")\n",
    "plt.show()"
   ]
  },
  {
   "cell_type": "code",
   "execution_count": 23,
   "id": "precious-speech",
   "metadata": {},
   "outputs": [
    {
     "data": {
      "image/png": "[encoded data removed]",
      "text/plain": [
       "<Figure size 432x288 with 1 Axes>"
      ]
     },
     "metadata": {
      "needs_background": "light"
     },
     "output_type": "display_data"
    },
    {
     "data": {
      "application/javascript": [
       "\n",
       "            setTimeout(function() {\n",
       "                var nbb_cell_id = 23;\n",
       "                var nbb_unformatted_code = \"fig, ax = plt.subplots(figsize=[6, 4])\\nsns.boxplot(data=data, x=\\\"condition\\\", y=\\\"rel_lamin_3d_int\\\", ax=ax)\\nax.set_ylim([0, 3000])\\nadd_stat_annotation(\\n    ax,\\n    data=data,\\n    x=\\\"condition\\\",\\n    y=\\\"rel_lamin_3d_int\\\",\\n    box_pairs=[\\n        (\\\"ctrl\\\", \\\"tp1\\\"),\\n        (\\\"ctrl\\\", \\\"tp2\\\"),\\n        (\\\"ctrl\\\", \\\"tp3\\\"),\\n        (\\\"tp1\\\", \\\"tp2\\\"),\\n        (\\\"tp1\\\", \\\"tp3\\\"),\\n        (\\\"tp2\\\", \\\"tp3\\\"),\\n    ],\\n    test=\\\"Mann-Whitney\\\",\\n    loc=\\\"outside\\\",\\n    verbose=0,\\n)\\nplt.show()\";\n",
       "                var nbb_formatted_code = \"fig, ax = plt.subplots(figsize=[6, 4])\\nsns.boxplot(data=data, x=\\\"condition\\\", y=\\\"rel_lamin_3d_int\\\", ax=ax)\\nax.set_ylim([0, 3000])\\nadd_stat_annotation(\\n    ax,\\n    data=data,\\n    x=\\\"condition\\\",\\n    y=\\\"rel_lamin_3d_int\\\",\\n    box_pairs=[\\n        (\\\"ctrl\\\", \\\"tp1\\\"),\\n        (\\\"ctrl\\\", \\\"tp2\\\"),\\n        (\\\"ctrl\\\", \\\"tp3\\\"),\\n        (\\\"tp1\\\", \\\"tp2\\\"),\\n        (\\\"tp1\\\", \\\"tp3\\\"),\\n        (\\\"tp2\\\", \\\"tp3\\\"),\\n    ],\\n    test=\\\"Mann-Whitney\\\",\\n    loc=\\\"outside\\\",\\n    verbose=0,\\n)\\nplt.show()\";\n",
       "                var nbb_cells = Jupyter.notebook.get_cells();\n",
       "                for (var i = 0; i < nbb_cells.length; ++i) {\n",
       "                    if (nbb_cells[i].input_prompt_number == nbb_cell_id) {\n",
       "                        if (nbb_cells[i].get_text() == nbb_unformatted_code) {\n",
       "                             nbb_cells[i].set_text(nbb_formatted_code);\n",
       "                        }\n",
       "                        break;\n",
       "                    }\n",
       "                }\n",
       "            }, 500);\n",
       "            "
      ],
      "text/plain": [
       "<IPython.core.display.Javascript object>"
      ]
     },
     "metadata": {},
     "output_type": "display_data"
    }
   ],
   "source": [
    "fig, ax = plt.subplots(figsize=[6, 4])\n",
    "sns.boxplot(data=data, x=\"condition\", y=\"rel_lamin_3d_int\", ax=ax)\n",
    "ax.set_ylim([0, 3000])\n",
    "add_stat_annotation(\n",
    "    ax,\n",
    "    data=data,\n",
    "    x=\"condition\",\n",
    "    y=\"rel_lamin_3d_int\",\n",
    "    box_pairs=[\n",
    "        (\"ctrl\", \"tp1\"),\n",
    "        (\"ctrl\", \"tp2\"),\n",
    "        (\"ctrl\", \"tp3\"),\n",
    "        (\"tp1\", \"tp2\"),\n",
    "        (\"tp1\", \"tp3\"),\n",
    "        (\"tp2\", \"tp3\"),\n",
    "    ],\n",
    "    test=\"Mann-Whitney\",\n",
    "    loc=\"outside\",\n",
    "    verbose=0,\n",
    ")\n",
    "plt.show()"
   ]
  },
  {
   "cell_type": "code",
   "execution_count": null,
   "id": "honest-plastic",
   "metadata": {},
   "outputs": [],
   "source": []
  },
  {
   "cell_type": "code",
   "execution_count": null,
   "id": "disturbed-convert",
   "metadata": {},
   "outputs": [],
   "source": []
  }
 ],
 "metadata": {
  "kernelspec": {
   "display_name": "Python 3",
   "language": "python",
   "name": "python3"
  },
  "language_info": {
   "codemirror_mode": {
    "name": "ipython",
    "version": 3
   },
   "file_extension": ".py",
   "mimetype": "text/x-python",
   "name": "python",
   "nbconvert_exporter": "python",
   "pygments_lexer": "ipython3",
   "version": "3.8.8"
  }
 },
 "nbformat": 4,
 "nbformat_minor": 5
}
