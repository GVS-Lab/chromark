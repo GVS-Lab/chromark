{
 "cells": [
  {
   "cell_type": "markdown",
   "id": "eight-british",
   "metadata": {},
   "source": [
    "# Exploratory data analysis of the data from patient 11\n",
    "\n",
    "---\n",
    "\n",
    "In this notebook we will analyze PBMC data set from patient 11 obtained from blood samples taken at 3 different time points before, during and after the proton therapy treatment. The treatment takes approximately 6 weeks with multiple sessions.\n",
    "\n",
    "The patient is 5 year old female that has an embryonal rhabdomyosarcoma. At each time point 3ml blood were taken and the PBMCs were purifried, stained with DAPI, gH2AX and Lamin A/C and imaged with 16bit at a resolution of 0.09 micron in x-y direction, respectively 0.5 micron in z-direction. Each FoV is of the size of (1024x1024x40) pixels.\n",
    "\n",
    "The data will be compared with a control data set of PBMCs purified from blood of 10 healthy volunteers of varying sex and age (24-60). In this analyses we will use features extracted that describe the nuclear morphology and chromatin organization in 2D/3D and the gH2AX and Lamin A/C expression.\n",
    "\n",
    "---"
   ]
  },
  {
   "cell_type": "markdown",
   "id": "south-video",
   "metadata": {},
   "source": [
    "## 0. Environmental setup"
   ]
  },
  {
   "cell_type": "markdown",
   "id": "liquid-puzzle",
   "metadata": {},
   "source": [
    "First, we load the required libraries and define functions, that we will use later on for the analyses."
   ]
  },
  {
   "cell_type": "code",
   "execution_count": 190,
   "id": "forward-newcastle",
   "metadata": {},
   "outputs": [
    {
     "name": "stdout",
     "output_type": "stream",
     "text": [
      "The nb_black extension is already loaded. To reload it, use:\n",
      "  %reload_ext nb_black\n"
     ]
    },
    {
     "data": {
      "application/javascript": [
       "\n",
       "            setTimeout(function() {\n",
       "                var nbb_cell_id = 190;\n",
       "                var nbb_unformatted_code = \"import pandas as pd\\nimport numpy as np\\nimport seaborn as sns\\nimport random\\nimport os\\nimport matplotlib.pyplot as plt\\nimport tifffile\\nfrom sklearn.manifold import TSNE\\nfrom sklearn.preprocessing import StandardScaler, LabelEncoder\\nfrom sklearn.ensemble import RandomForestClassifier\\nfrom sklearn.model_selection import cross_validate, StratifiedKFold\\nfrom sklearn.metrics import confusion_matrix\\nfrom sklearn.metrics import auc\\nfrom sklearn.metrics import plot_roc_curve\\nfrom sklearn.metrics import roc_curve, roc_auc_score, RocCurveDisplay\\nfrom tqdm import tqdm\\nfrom statsmodels.stats.outliers_influence import variance_inflation_factor\\nfrom statannot import add_stat_annotation\\n\\nimport sys\\nimport cv2 as cv\\n\\nseed = 1234\\nrandom.seed(1234)\\nnp.random.seed(1234)\\n\\n%load_ext nb_black\";\n",
       "                var nbb_formatted_code = \"import pandas as pd\\nimport numpy as np\\nimport seaborn as sns\\nimport random\\nimport os\\nimport matplotlib.pyplot as plt\\nimport tifffile\\nfrom sklearn.manifold import TSNE\\nfrom sklearn.preprocessing import StandardScaler, LabelEncoder\\nfrom sklearn.ensemble import RandomForestClassifier\\nfrom sklearn.model_selection import cross_validate, StratifiedKFold\\nfrom sklearn.metrics import confusion_matrix\\nfrom sklearn.metrics import auc\\nfrom sklearn.metrics import plot_roc_curve\\nfrom sklearn.metrics import roc_curve, roc_auc_score, RocCurveDisplay\\nfrom tqdm import tqdm\\nfrom statsmodels.stats.outliers_influence import variance_inflation_factor\\nfrom statannot import add_stat_annotation\\n\\nimport sys\\nimport cv2 as cv\\n\\nseed = 1234\\nrandom.seed(1234)\\nnp.random.seed(1234)\\n\\n%load_ext nb_black\";\n",
       "                var nbb_cells = Jupyter.notebook.get_cells();\n",
       "                for (var i = 0; i < nbb_cells.length; ++i) {\n",
       "                    if (nbb_cells[i].input_prompt_number == nbb_cell_id) {\n",
       "                        if (nbb_cells[i].get_text() == nbb_unformatted_code) {\n",
       "                             nbb_cells[i].set_text(nbb_formatted_code);\n",
       "                        }\n",
       "                        break;\n",
       "                    }\n",
       "                }\n",
       "            }, 500);\n",
       "            "
      ],
      "text/plain": [
       "<IPython.core.display.Javascript object>"
      ]
     },
     "metadata": {},
     "output_type": "display_data"
    }
   ],
   "source": [
    "import pandas as pd\n",
    "import numpy as np\n",
    "import seaborn as sns\n",
    "import random\n",
    "import os\n",
    "import matplotlib.pyplot as plt\n",
    "import tifffile\n",
    "from sklearn.manifold import TSNE\n",
    "from sklearn.preprocessing import StandardScaler, LabelEncoder\n",
    "from sklearn.ensemble import RandomForestClassifier\n",
    "from sklearn.model_selection import cross_validate, StratifiedKFold\n",
    "from sklearn.metrics import confusion_matrix\n",
    "from sklearn.metrics import auc\n",
    "from sklearn.metrics import plot_roc_curve\n",
    "from sklearn.metrics import roc_curve, roc_auc_score, RocCurveDisplay\n",
    "from tqdm import tqdm\n",
    "from statsmodels.stats.outliers_influence import variance_inflation_factor\n",
    "from statannot import add_stat_annotation\n",
    "\n",
    "import sys\n",
    "import cv2 as cv\n",
    "\n",
    "seed = 1234\n",
    "random.seed(1234)\n",
    "np.random.seed(1234)\n",
    "\n",
    "%load_ext nb_black"
   ]
  },
  {
   "cell_type": "code",
   "execution_count": 2,
   "id": "bright-integrity",
   "metadata": {},
   "outputs": [
    {
     "data": {
      "application/javascript": [
       "\n",
       "            setTimeout(function() {\n",
       "                var nbb_cell_id = 2;\n",
       "                var nbb_unformatted_code = \"def read_in_data(feature_file_path: str, qc_file_path: str, sample: str):\\n    features = pd.read_csv(feature_file_path, index_col=0)\\n    qc_results = pd.read_csv(qc_file_path, index_col=0)\\n    features.loc[qc_results.index, \\\"qc_pass\\\"] = qc_results.loc[\\n        qc_results.index, \\\"qc_pass\\\"\\n    ]\\n    features[\\\"sample\\\"] = sample\\n    return features\";\n",
       "                var nbb_formatted_code = \"def read_in_data(feature_file_path: str, qc_file_path: str, sample: str):\\n    features = pd.read_csv(feature_file_path, index_col=0)\\n    qc_results = pd.read_csv(qc_file_path, index_col=0)\\n    features.loc[qc_results.index, \\\"qc_pass\\\"] = qc_results.loc[\\n        qc_results.index, \\\"qc_pass\\\"\\n    ]\\n    features[\\\"sample\\\"] = sample\\n    return features\";\n",
       "                var nbb_cells = Jupyter.notebook.get_cells();\n",
       "                for (var i = 0; i < nbb_cells.length; ++i) {\n",
       "                    if (nbb_cells[i].input_prompt_number == nbb_cell_id) {\n",
       "                        if (nbb_cells[i].get_text() == nbb_unformatted_code) {\n",
       "                             nbb_cells[i].set_text(nbb_formatted_code);\n",
       "                        }\n",
       "                        break;\n",
       "                    }\n",
       "                }\n",
       "            }, 500);\n",
       "            "
      ],
      "text/plain": [
       "<IPython.core.display.Javascript object>"
      ]
     },
     "metadata": {},
     "output_type": "display_data"
    }
   ],
   "source": [
    "def read_in_data(feature_file_path: str, qc_file_path: str, sample: str):\n",
    "    features = pd.read_csv(feature_file_path, index_col=0)\n",
    "    qc_results = pd.read_csv(qc_file_path, index_col=0)\n",
    "    features.loc[qc_results.index, \"qc_pass\"] = qc_results.loc[\n",
    "        qc_results.index, \"qc_pass\"\n",
    "    ]\n",
    "    features[\"sample\"] = sample\n",
    "    return features"
   ]
  },
  {
   "cell_type": "code",
   "execution_count": 3,
   "id": "operating-conservation",
   "metadata": {},
   "outputs": [
    {
     "data": {
      "application/javascript": [
       "\n",
       "            setTimeout(function() {\n",
       "                var nbb_cell_id = 3;\n",
       "                var nbb_unformatted_code = \"def preprocess_data(\\n    data,\\n    drop_columns=[\\n        \\\"label\\\",\\n        \\\"centroid-0\\\",\\n        \\\"centroid-1\\\",\\n        \\\"orientation\\\",\\n        \\\"weighted_centroid-0\\\",\\n        \\\"weighted_centroid-1\\\",\\n    ],\\n):\\n    filtered_data = data.loc[data[\\\"qc_pass\\\"] == True]\\n    print(\\n        \\\"Nuclei that did not pass the quality check: {}/{}. Remaining: {}.\\\".format(\\n            len(data) - len(filtered_data),\\n            len(data),\\n            len(filtered_data),\\n        )\\n    )\\n    data = filtered_data.loc[:, (filtered_data != filtered_data.iloc[0]).any()]\\n    data = data.dropna(axis=1)\\n    print(\\n        \\\"Removed {} constant or features with missing values. Remaining: {}.\\\".format(\\n            len(filtered_data.columns) - len(data.columns), len(data.columns)\\n        )\\n    )\\n    cleaned_data = data.drop(\\n        columns=list(set(drop_columns).intersection(set(data.columns)))\\n    )\\n    print(\\n        \\\"Removed additional {} features. Remaining: {}.\\\".format(\\n            len(data.columns) - len(cleaned_data.columns), len(cleaned_data.columns)\\n        )\\n    )\\n    return cleaned_data\";\n",
       "                var nbb_formatted_code = \"def preprocess_data(\\n    data,\\n    drop_columns=[\\n        \\\"label\\\",\\n        \\\"centroid-0\\\",\\n        \\\"centroid-1\\\",\\n        \\\"orientation\\\",\\n        \\\"weighted_centroid-0\\\",\\n        \\\"weighted_centroid-1\\\",\\n    ],\\n):\\n    filtered_data = data.loc[data[\\\"qc_pass\\\"] == True]\\n    print(\\n        \\\"Nuclei that did not pass the quality check: {}/{}. Remaining: {}.\\\".format(\\n            len(data) - len(filtered_data),\\n            len(data),\\n            len(filtered_data),\\n        )\\n    )\\n    data = filtered_data.loc[:, (filtered_data != filtered_data.iloc[0]).any()]\\n    data = data.dropna(axis=1)\\n    print(\\n        \\\"Removed {} constant or features with missing values. Remaining: {}.\\\".format(\\n            len(filtered_data.columns) - len(data.columns), len(data.columns)\\n        )\\n    )\\n    cleaned_data = data.drop(\\n        columns=list(set(drop_columns).intersection(set(data.columns)))\\n    )\\n    print(\\n        \\\"Removed additional {} features. Remaining: {}.\\\".format(\\n            len(data.columns) - len(cleaned_data.columns), len(cleaned_data.columns)\\n        )\\n    )\\n    return cleaned_data\";\n",
       "                var nbb_cells = Jupyter.notebook.get_cells();\n",
       "                for (var i = 0; i < nbb_cells.length; ++i) {\n",
       "                    if (nbb_cells[i].input_prompt_number == nbb_cell_id) {\n",
       "                        if (nbb_cells[i].get_text() == nbb_unformatted_code) {\n",
       "                             nbb_cells[i].set_text(nbb_formatted_code);\n",
       "                        }\n",
       "                        break;\n",
       "                    }\n",
       "                }\n",
       "            }, 500);\n",
       "            "
      ],
      "text/plain": [
       "<IPython.core.display.Javascript object>"
      ]
     },
     "metadata": {},
     "output_type": "display_data"
    }
   ],
   "source": [
    "def preprocess_data(\n",
    "    data,\n",
    "    drop_columns=[\n",
    "        \"label\",\n",
    "        \"centroid-0\",\n",
    "        \"centroid-1\",\n",
    "        \"orientation\",\n",
    "        \"weighted_centroid-0\",\n",
    "        \"weighted_centroid-1\",\n",
    "    ],\n",
    "):\n",
    "    filtered_data = data.loc[data[\"qc_pass\"] == True]\n",
    "    print(\n",
    "        \"Nuclei that did not pass the quality check: {}/{}. Remaining: {}.\".format(\n",
    "            len(data) - len(filtered_data),\n",
    "            len(data),\n",
    "            len(filtered_data),\n",
    "        )\n",
    "    )\n",
    "    data = filtered_data.loc[:, (filtered_data != filtered_data.iloc[0]).any()]\n",
    "    data = data.dropna(axis=1)\n",
    "    print(\n",
    "        \"Removed {} constant or features with missing values. Remaining: {}.\".format(\n",
    "            len(filtered_data.columns) - len(data.columns), len(data.columns)\n",
    "        )\n",
    "    )\n",
    "    cleaned_data = data.drop(\n",
    "        columns=list(set(drop_columns).intersection(set(data.columns)))\n",
    "    )\n",
    "    print(\n",
    "        \"Removed additional {} features. Remaining: {}.\".format(\n",
    "            len(data.columns) - len(cleaned_data.columns), len(cleaned_data.columns)\n",
    "        )\n",
    "    )\n",
    "    return cleaned_data"
   ]
  },
  {
   "cell_type": "code",
   "execution_count": 4,
   "id": "greek-finnish",
   "metadata": {},
   "outputs": [
    {
     "data": {
      "application/javascript": [
       "\n",
       "            setTimeout(function() {\n",
       "                var nbb_cell_id = 4;\n",
       "                var nbb_unformatted_code = \"def compute_vif(data):\\n    vifs = pd.DataFrame()\\n    vifs[\\\"feature\\\"] = data.columns\\n    vifs[\\\"vif\\\"] = [\\n        variance_inflation_factor(data.values, i) for i in range(data.shape[1])\\n    ]\\n    return vifs.sort_values(\\\"vif\\\", ascending=False)\";\n",
       "                var nbb_formatted_code = \"def compute_vif(data):\\n    vifs = pd.DataFrame()\\n    vifs[\\\"feature\\\"] = data.columns\\n    vifs[\\\"vif\\\"] = [\\n        variance_inflation_factor(data.values, i) for i in range(data.shape[1])\\n    ]\\n    return vifs.sort_values(\\\"vif\\\", ascending=False)\";\n",
       "                var nbb_cells = Jupyter.notebook.get_cells();\n",
       "                for (var i = 0; i < nbb_cells.length; ++i) {\n",
       "                    if (nbb_cells[i].input_prompt_number == nbb_cell_id) {\n",
       "                        if (nbb_cells[i].get_text() == nbb_unformatted_code) {\n",
       "                             nbb_cells[i].set_text(nbb_formatted_code);\n",
       "                        }\n",
       "                        break;\n",
       "                    }\n",
       "                }\n",
       "            }, 500);\n",
       "            "
      ],
      "text/plain": [
       "<IPython.core.display.Javascript object>"
      ]
     },
     "metadata": {},
     "output_type": "display_data"
    }
   ],
   "source": [
    "def compute_vif(data):\n",
    "    vifs = pd.DataFrame()\n",
    "    vifs[\"feature\"] = data.columns\n",
    "    vifs[\"vif\"] = [\n",
    "        variance_inflation_factor(data.values, i) for i in range(data.shape[1])\n",
    "    ]\n",
    "    return vifs.sort_values(\"vif\", ascending=False)"
   ]
  },
  {
   "cell_type": "code",
   "execution_count": 5,
   "id": "professional-logan",
   "metadata": {},
   "outputs": [
    {
     "data": {
      "application/javascript": [
       "\n",
       "            setTimeout(function() {\n",
       "                var nbb_cell_id = 5;\n",
       "                var nbb_unformatted_code = \"def remove_collinear_features(data, threshold=5):\\n    to_drop = []\\n    # Sequentially drop features with VIF > threshold\\n    vifs = compute_vif(data)\\n    print(vifs.head(5))\\n    while np.max(vifs.loc[:, \\\"vif\\\"]) > threshold:\\n        to_drop.append(vifs.loc[vifs[\\\"vif\\\"] == np.max(vifs.loc[:, \\\"vif\\\"]), \\\"feature\\\"])\\n        vifs = compute_vif(data.drop(columns=[to_drop[-1]]))\\n\\n    print(\\n        \\\"Removed {}/{} features with a VIF above {}. Remaining: {}\\\".format(\\n            len(to_drop),\\n            len(data.columns),\\n            threshold,\\n            len(data.columns) - len(to_drop),\\n        )\\n    )\\n    return data.drop(to_drop, axis=1)\";\n",
       "                var nbb_formatted_code = \"def remove_collinear_features(data, threshold=5):\\n    to_drop = []\\n    # Sequentially drop features with VIF > threshold\\n    vifs = compute_vif(data)\\n    print(vifs.head(5))\\n    while np.max(vifs.loc[:, \\\"vif\\\"]) > threshold:\\n        to_drop.append(vifs.loc[vifs[\\\"vif\\\"] == np.max(vifs.loc[:, \\\"vif\\\"]), \\\"feature\\\"])\\n        vifs = compute_vif(data.drop(columns=[to_drop[-1]]))\\n\\n    print(\\n        \\\"Removed {}/{} features with a VIF above {}. Remaining: {}\\\".format(\\n            len(to_drop),\\n            len(data.columns),\\n            threshold,\\n            len(data.columns) - len(to_drop),\\n        )\\n    )\\n    return data.drop(to_drop, axis=1)\";\n",
       "                var nbb_cells = Jupyter.notebook.get_cells();\n",
       "                for (var i = 0; i < nbb_cells.length; ++i) {\n",
       "                    if (nbb_cells[i].input_prompt_number == nbb_cell_id) {\n",
       "                        if (nbb_cells[i].get_text() == nbb_unformatted_code) {\n",
       "                             nbb_cells[i].set_text(nbb_formatted_code);\n",
       "                        }\n",
       "                        break;\n",
       "                    }\n",
       "                }\n",
       "            }, 500);\n",
       "            "
      ],
      "text/plain": [
       "<IPython.core.display.Javascript object>"
      ]
     },
     "metadata": {},
     "output_type": "display_data"
    }
   ],
   "source": [
    "def remove_collinear_features(data, threshold=5):\n",
    "    to_drop = []\n",
    "    # Sequentially drop features with VIF > threshold\n",
    "    vifs = compute_vif(data)\n",
    "    print(vifs.head(5))\n",
    "    while np.max(vifs.loc[:, \"vif\"]) > threshold:\n",
    "        to_drop.append(vifs.loc[vifs[\"vif\"] == np.max(vifs.loc[:, \"vif\"]), \"feature\"])\n",
    "        vifs = compute_vif(data.drop(columns=[to_drop[-1]]))\n",
    "\n",
    "    print(\n",
    "        \"Removed {}/{} features with a VIF above {}. Remaining: {}\".format(\n",
    "            len(to_drop),\n",
    "            len(data.columns),\n",
    "            threshold,\n",
    "            len(data.columns) - len(to_drop),\n",
    "        )\n",
    "    )\n",
    "    return data.drop(to_drop, axis=1)"
   ]
  },
  {
   "cell_type": "code",
   "execution_count": 123,
   "id": "least-ceremony",
   "metadata": {},
   "outputs": [
    {
     "data": {
      "application/javascript": [
       "\n",
       "            setTimeout(function() {\n",
       "                var nbb_cell_id = 123;\n",
       "                var nbb_unformatted_code = \"def remove_correlated_features(data, threshold):\\n    data_corr = data.corr().abs()\\n    upper = data_corr.where(np.triu(np.ones(data_corr.shape), k=1).astype(bool))\\n\\n    # Find features with correlation greater than threshold\\n    to_drop = [column for column in upper.columns if any(upper[column] > threshold)]\\n    print(\\n        \\\"Removed {}/{} features with a Pearson correlation above {}. Remaining: {}\\\".format(\\n            len(to_drop),\\n            len(data.columns),\\n            threshold,\\n            len(data.columns) - len(to_drop),\\n        )\\n    )\\n    return data.drop(to_drop, axis=1)\";\n",
       "                var nbb_formatted_code = \"def remove_correlated_features(data, threshold):\\n    data_corr = data.corr().abs()\\n    upper = data_corr.where(np.triu(np.ones(data_corr.shape), k=1).astype(bool))\\n\\n    # Find features with correlation greater than threshold\\n    to_drop = [column for column in upper.columns if any(upper[column] > threshold)]\\n    print(\\n        \\\"Removed {}/{} features with a Pearson correlation above {}. Remaining: {}\\\".format(\\n            len(to_drop),\\n            len(data.columns),\\n            threshold,\\n            len(data.columns) - len(to_drop),\\n        )\\n    )\\n    return data.drop(to_drop, axis=1)\";\n",
       "                var nbb_cells = Jupyter.notebook.get_cells();\n",
       "                for (var i = 0; i < nbb_cells.length; ++i) {\n",
       "                    if (nbb_cells[i].input_prompt_number == nbb_cell_id) {\n",
       "                        if (nbb_cells[i].get_text() == nbb_unformatted_code) {\n",
       "                             nbb_cells[i].set_text(nbb_formatted_code);\n",
       "                        }\n",
       "                        break;\n",
       "                    }\n",
       "                }\n",
       "            }, 500);\n",
       "            "
      ],
      "text/plain": [
       "<IPython.core.display.Javascript object>"
      ]
     },
     "metadata": {},
     "output_type": "display_data"
    }
   ],
   "source": [
    "def remove_correlated_features(data, threshold):\n",
    "    data_corr = data.corr().abs()\n",
    "    upper = data_corr.where(np.triu(np.ones(data_corr.shape), k=1).astype(bool))\n",
    "\n",
    "    # Find features with correlation greater than threshold\n",
    "    to_drop = [column for column in upper.columns if any(upper[column] > threshold)]\n",
    "    print(\n",
    "        \"Removed {}/{} features with a Pearson correlation above {}. Remaining: {}\".format(\n",
    "            len(to_drop),\n",
    "            len(data.columns),\n",
    "            threshold,\n",
    "            len(data.columns) - len(to_drop),\n",
    "        )\n",
    "    )\n",
    "    return data.drop(to_drop, axis=1)"
   ]
  },
  {
   "cell_type": "code",
   "execution_count": 7,
   "id": "developmental-glory",
   "metadata": {},
   "outputs": [
    {
     "data": {
      "application/javascript": [
       "\n",
       "            setTimeout(function() {\n",
       "                var nbb_cell_id = 7;\n",
       "                var nbb_unformatted_code = \"def plot_feature_importance(importance, names, model_type):\\n    # Create arrays from feature importance and feature names\\n    feature_importance = np.array(importance)\\n    feature_names = np.array(names)\\n\\n    # Create a DataFrame using a Dictionary\\n    data = {\\\"feature_names\\\": feature_names, \\\"feature_importance\\\": feature_importance}\\n    fi_df = pd.DataFrame(data)\\n\\n    # Sort the DataFrame in order decreasing feature importance\\n    fi_df.sort_values(by=[\\\"feature_importance\\\"], ascending=False, inplace=True)\\n    fi_df = fi_df.head(20)\\n    # Define size of bar plot\\n    plt.figure(figsize=(8, 6))\\n    # Plot Searborn bar chart\\n    sns.barplot(x=fi_df[\\\"feature_importance\\\"], y=fi_df[\\\"feature_names\\\"])\\n    # Add chart labels\\n    plt.title(model_type + \\\"FEATURE IMPORTANCE\\\")\\n    plt.xlabel(\\\"FEATURE IMPORTANCE\\\")\\n    plt.ylabel(\\\"FEATURE NAMES\\\")\\n    plt.show()\";\n",
       "                var nbb_formatted_code = \"def plot_feature_importance(importance, names, model_type):\\n    # Create arrays from feature importance and feature names\\n    feature_importance = np.array(importance)\\n    feature_names = np.array(names)\\n\\n    # Create a DataFrame using a Dictionary\\n    data = {\\\"feature_names\\\": feature_names, \\\"feature_importance\\\": feature_importance}\\n    fi_df = pd.DataFrame(data)\\n\\n    # Sort the DataFrame in order decreasing feature importance\\n    fi_df.sort_values(by=[\\\"feature_importance\\\"], ascending=False, inplace=True)\\n    fi_df = fi_df.head(20)\\n    # Define size of bar plot\\n    plt.figure(figsize=(8, 6))\\n    # Plot Searborn bar chart\\n    sns.barplot(x=fi_df[\\\"feature_importance\\\"], y=fi_df[\\\"feature_names\\\"])\\n    # Add chart labels\\n    plt.title(model_type + \\\"FEATURE IMPORTANCE\\\")\\n    plt.xlabel(\\\"FEATURE IMPORTANCE\\\")\\n    plt.ylabel(\\\"FEATURE NAMES\\\")\\n    plt.show()\";\n",
       "                var nbb_cells = Jupyter.notebook.get_cells();\n",
       "                for (var i = 0; i < nbb_cells.length; ++i) {\n",
       "                    if (nbb_cells[i].input_prompt_number == nbb_cell_id) {\n",
       "                        if (nbb_cells[i].get_text() == nbb_unformatted_code) {\n",
       "                             nbb_cells[i].set_text(nbb_formatted_code);\n",
       "                        }\n",
       "                        break;\n",
       "                    }\n",
       "                }\n",
       "            }, 500);\n",
       "            "
      ],
      "text/plain": [
       "<IPython.core.display.Javascript object>"
      ]
     },
     "metadata": {},
     "output_type": "display_data"
    }
   ],
   "source": [
    "def plot_feature_importance(importance, names, model_type):\n",
    "    # Create arrays from feature importance and feature names\n",
    "    feature_importance = np.array(importance)\n",
    "    feature_names = np.array(names)\n",
    "\n",
    "    # Create a DataFrame using a Dictionary\n",
    "    data = {\"feature_names\": feature_names, \"feature_importance\": feature_importance}\n",
    "    fi_df = pd.DataFrame(data)\n",
    "\n",
    "    # Sort the DataFrame in order decreasing feature importance\n",
    "    fi_df.sort_values(by=[\"feature_importance\"], ascending=False, inplace=True)\n",
    "    fi_df = fi_df.head(20)\n",
    "    # Define size of bar plot\n",
    "    plt.figure(figsize=(8, 6))\n",
    "    # Plot Searborn bar chart\n",
    "    sns.barplot(x=fi_df[\"feature_importance\"], y=fi_df[\"feature_names\"])\n",
    "    # Add chart labels\n",
    "    plt.title(model_type + \"FEATURE IMPORTANCE\")\n",
    "    plt.xlabel(\"FEATURE IMPORTANCE\")\n",
    "    plt.ylabel(\"FEATURE NAMES\")\n",
    "    plt.show()"
   ]
  },
  {
   "cell_type": "code",
   "execution_count": 8,
   "id": "concrete-extraction",
   "metadata": {},
   "outputs": [
    {
     "data": {
      "application/javascript": [
       "\n",
       "            setTimeout(function() {\n",
       "                var nbb_cell_id = 8;\n",
       "                var nbb_unformatted_code = \"def plot_roc_for_stratified_cv(X, y, n_splits, classifier, title, pos_label=None):\\n    cv = StratifiedKFold(n_splits=n_splits)\\n    tprs = []\\n    aucs = []\\n    mean_fpr = np.linspace(0, 1, 100)\\n\\n    fig, ax = plt.subplots(figsize=(8, 8))\\n    for i, (train, test) in enumerate(cv.split(X, y)):\\n        classifier.fit(X[train], y[train])\\n        viz = plot_roc_curve(\\n            classifier,\\n            X[test],\\n            y[test],\\n            name=\\\"ROC fold {}\\\".format(i),\\n            alpha=0.3,\\n            lw=1,\\n            ax=ax,\\n            pos_label=pos_label,\\n        )\\n        interp_tpr = np.interp(mean_fpr, viz.fpr, viz.tpr)\\n        interp_tpr[0] = 0.0\\n        tprs.append(interp_tpr)\\n        aucs.append(viz.roc_auc)\\n\\n    ax.plot([0, 1], [0, 1], linestyle=\\\"--\\\", lw=2, color=\\\"r\\\", label=\\\"Chance\\\", alpha=0.8)\\n\\n    mean_tpr = np.mean(tprs, axis=0)\\n    mean_tpr[-1] = 1.0\\n    mean_auc = auc(mean_fpr, mean_tpr)\\n    std_auc = np.std(aucs)\\n    ax.plot(\\n        mean_fpr,\\n        mean_tpr,\\n        color=\\\"b\\\",\\n        label=r\\\"Mean ROC (AUC = %0.2f $\\\\pm$ %0.2f)\\\" % (mean_auc, std_auc),\\n        lw=2,\\n        alpha=0.8,\\n    )\\n\\n    std_tpr = np.std(tprs, axis=0)\\n    tprs_upper = np.minimum(mean_tpr + std_tpr, 1)\\n    tprs_lower = np.maximum(mean_tpr - std_tpr, 0)\\n    ax.fill_between(\\n        mean_fpr,\\n        tprs_lower,\\n        tprs_upper,\\n        color=\\\"grey\\\",\\n        alpha=0.2,\\n        label=r\\\"$\\\\pm$ 1 std. dev.\\\",\\n    )\\n\\n    ax.set(xlim=[-0.05, 1.05], ylim=[-0.05, 1.05], title=title)\\n    ax.legend(loc=\\\"lower right\\\")\\n    return fig, ax, classifier\";\n",
       "                var nbb_formatted_code = \"def plot_roc_for_stratified_cv(X, y, n_splits, classifier, title, pos_label=None):\\n    cv = StratifiedKFold(n_splits=n_splits)\\n    tprs = []\\n    aucs = []\\n    mean_fpr = np.linspace(0, 1, 100)\\n\\n    fig, ax = plt.subplots(figsize=(8, 8))\\n    for i, (train, test) in enumerate(cv.split(X, y)):\\n        classifier.fit(X[train], y[train])\\n        viz = plot_roc_curve(\\n            classifier,\\n            X[test],\\n            y[test],\\n            name=\\\"ROC fold {}\\\".format(i),\\n            alpha=0.3,\\n            lw=1,\\n            ax=ax,\\n            pos_label=pos_label,\\n        )\\n        interp_tpr = np.interp(mean_fpr, viz.fpr, viz.tpr)\\n        interp_tpr[0] = 0.0\\n        tprs.append(interp_tpr)\\n        aucs.append(viz.roc_auc)\\n\\n    ax.plot([0, 1], [0, 1], linestyle=\\\"--\\\", lw=2, color=\\\"r\\\", label=\\\"Chance\\\", alpha=0.8)\\n\\n    mean_tpr = np.mean(tprs, axis=0)\\n    mean_tpr[-1] = 1.0\\n    mean_auc = auc(mean_fpr, mean_tpr)\\n    std_auc = np.std(aucs)\\n    ax.plot(\\n        mean_fpr,\\n        mean_tpr,\\n        color=\\\"b\\\",\\n        label=r\\\"Mean ROC (AUC = %0.2f $\\\\pm$ %0.2f)\\\" % (mean_auc, std_auc),\\n        lw=2,\\n        alpha=0.8,\\n    )\\n\\n    std_tpr = np.std(tprs, axis=0)\\n    tprs_upper = np.minimum(mean_tpr + std_tpr, 1)\\n    tprs_lower = np.maximum(mean_tpr - std_tpr, 0)\\n    ax.fill_between(\\n        mean_fpr,\\n        tprs_lower,\\n        tprs_upper,\\n        color=\\\"grey\\\",\\n        alpha=0.2,\\n        label=r\\\"$\\\\pm$ 1 std. dev.\\\",\\n    )\\n\\n    ax.set(xlim=[-0.05, 1.05], ylim=[-0.05, 1.05], title=title)\\n    ax.legend(loc=\\\"lower right\\\")\\n    return fig, ax, classifier\";\n",
       "                var nbb_cells = Jupyter.notebook.get_cells();\n",
       "                for (var i = 0; i < nbb_cells.length; ++i) {\n",
       "                    if (nbb_cells[i].input_prompt_number == nbb_cell_id) {\n",
       "                        if (nbb_cells[i].get_text() == nbb_unformatted_code) {\n",
       "                             nbb_cells[i].set_text(nbb_formatted_code);\n",
       "                        }\n",
       "                        break;\n",
       "                    }\n",
       "                }\n",
       "            }, 500);\n",
       "            "
      ],
      "text/plain": [
       "<IPython.core.display.Javascript object>"
      ]
     },
     "metadata": {},
     "output_type": "display_data"
    }
   ],
   "source": [
    "def plot_roc_for_stratified_cv(X, y, n_splits, classifier, title, pos_label=None):\n",
    "    cv = StratifiedKFold(n_splits=n_splits)\n",
    "    tprs = []\n",
    "    aucs = []\n",
    "    mean_fpr = np.linspace(0, 1, 100)\n",
    "\n",
    "    fig, ax = plt.subplots(figsize=(8, 8))\n",
    "    for i, (train, test) in enumerate(cv.split(X, y)):\n",
    "        classifier.fit(X[train], y[train])\n",
    "        viz = plot_roc_curve(\n",
    "            classifier,\n",
    "            X[test],\n",
    "            y[test],\n",
    "            name=\"ROC fold {}\".format(i),\n",
    "            alpha=0.3,\n",
    "            lw=1,\n",
    "            ax=ax,\n",
    "            pos_label=pos_label,\n",
    "        )\n",
    "        interp_tpr = np.interp(mean_fpr, viz.fpr, viz.tpr)\n",
    "        interp_tpr[0] = 0.0\n",
    "        tprs.append(interp_tpr)\n",
    "        aucs.append(viz.roc_auc)\n",
    "\n",
    "    ax.plot([0, 1], [0, 1], linestyle=\"--\", lw=2, color=\"r\", label=\"Chance\", alpha=0.8)\n",
    "\n",
    "    mean_tpr = np.mean(tprs, axis=0)\n",
    "    mean_tpr[-1] = 1.0\n",
    "    mean_auc = auc(mean_fpr, mean_tpr)\n",
    "    std_auc = np.std(aucs)\n",
    "    ax.plot(\n",
    "        mean_fpr,\n",
    "        mean_tpr,\n",
    "        color=\"b\",\n",
    "        label=r\"Mean ROC (AUC = %0.2f $\\pm$ %0.2f)\" % (mean_auc, std_auc),\n",
    "        lw=2,\n",
    "        alpha=0.8,\n",
    "    )\n",
    "\n",
    "    std_tpr = np.std(tprs, axis=0)\n",
    "    tprs_upper = np.minimum(mean_tpr + std_tpr, 1)\n",
    "    tprs_lower = np.maximum(mean_tpr - std_tpr, 0)\n",
    "    ax.fill_between(\n",
    "        mean_fpr,\n",
    "        tprs_lower,\n",
    "        tprs_upper,\n",
    "        color=\"grey\",\n",
    "        alpha=0.2,\n",
    "        label=r\"$\\pm$ 1 std. dev.\",\n",
    "    )\n",
    "\n",
    "    ax.set(xlim=[-0.05, 1.05], ylim=[-0.05, 1.05], title=title)\n",
    "    ax.legend(loc=\"lower right\")\n",
    "    return fig, ax, classifier"
   ]
  },
  {
   "cell_type": "code",
   "execution_count": 165,
   "id": "enhanced-runner",
   "metadata": {},
   "outputs": [
    {
     "data": {
      "application/javascript": [
       "\n",
       "            setTimeout(function() {\n",
       "                var nbb_cell_id = 165;\n",
       "                var nbb_unformatted_code = \"def compute_avg_conf_mtx(model, n_folds, features, labels):\\n    skf = StratifiedKFold(n_folds)\\n    features = np.array(features)\\n    labels = np.array(labels)\\n    n_classes = len(np.unique(labels))\\n\\n    confusion_mtx = np.zeros([n_classes, n_classes])\\n    for train_index, test_index in skf.split(features, labels):\\n        X_train, X_test = features[train_index], features[test_index]\\n        y_train, y_test = labels[train_index], labels[test_index]\\n        model.fit(X_train, y_train)\\n        confusion_mtx += confusion_matrix(\\n            y_test, model.predict(X_test), normalize=\\\"true\\\"\\n        )\\n    confusion_mtx = confusion_mtx / n_folds\\n    return pd.DataFrame(\\n        confusion_mtx, index=sorted(set(labels)), columns=sorted(set(labels))\\n    )\";\n",
       "                var nbb_formatted_code = \"def compute_avg_conf_mtx(model, n_folds, features, labels):\\n    skf = StratifiedKFold(n_folds)\\n    features = np.array(features)\\n    labels = np.array(labels)\\n    n_classes = len(np.unique(labels))\\n\\n    confusion_mtx = np.zeros([n_classes, n_classes])\\n    for train_index, test_index in skf.split(features, labels):\\n        X_train, X_test = features[train_index], features[test_index]\\n        y_train, y_test = labels[train_index], labels[test_index]\\n        model.fit(X_train, y_train)\\n        confusion_mtx += confusion_matrix(\\n            y_test, model.predict(X_test), normalize=\\\"true\\\"\\n        )\\n    confusion_mtx = confusion_mtx / n_folds\\n    return pd.DataFrame(\\n        confusion_mtx, index=sorted(set(labels)), columns=sorted(set(labels))\\n    )\";\n",
       "                var nbb_cells = Jupyter.notebook.get_cells();\n",
       "                for (var i = 0; i < nbb_cells.length; ++i) {\n",
       "                    if (nbb_cells[i].input_prompt_number == nbb_cell_id) {\n",
       "                        if (nbb_cells[i].get_text() == nbb_unformatted_code) {\n",
       "                             nbb_cells[i].set_text(nbb_formatted_code);\n",
       "                        }\n",
       "                        break;\n",
       "                    }\n",
       "                }\n",
       "            }, 500);\n",
       "            "
      ],
      "text/plain": [
       "<IPython.core.display.Javascript object>"
      ]
     },
     "metadata": {},
     "output_type": "display_data"
    }
   ],
   "source": [
    "def compute_avg_conf_mtx(model, n_folds, features, labels):\n",
    "    skf = StratifiedKFold(n_folds)\n",
    "    features = np.array(features)\n",
    "    labels = np.array(labels)\n",
    "    n_classes = len(np.unique(labels))\n",
    "\n",
    "    confusion_mtx = np.zeros([n_classes, n_classes])\n",
    "    for train_index, test_index in skf.split(features, labels):\n",
    "        X_train, X_test = features[train_index], features[test_index]\n",
    "        y_train, y_test = labels[train_index], labels[test_index]\n",
    "        model.fit(X_train, y_train)\n",
    "        confusion_mtx += confusion_matrix(\n",
    "            y_test, model.predict(X_test), normalize=\"true\"\n",
    "        )\n",
    "    confusion_mtx = confusion_mtx / n_folds\n",
    "    return pd.DataFrame(\n",
    "        confusion_mtx, index=sorted(set(labels)), columns=sorted(set(labels))\n",
    "    )"
   ]
  },
  {
   "cell_type": "markdown",
   "id": "acknowledged-ghana",
   "metadata": {},
   "source": [
    "---\n",
    "\n",
    "## 1. Read in data\n",
    "\n",
    "Next, we read in the data sets that describe the PBMC population of the healthy controls as well as of patient 11 at the different time points over the course of the treatment."
   ]
  },
  {
   "cell_type": "code",
   "execution_count": 140,
   "id": "adapted-adjustment",
   "metadata": {},
   "outputs": [
    {
     "data": {
      "application/javascript": [
       "\n",
       "            setTimeout(function() {\n",
       "                var nbb_cell_id = 140;\n",
       "                var nbb_unformatted_code = \"hv_basedir = \\\"../../../../../data/pbmc_hv/proteins/\\\"\\nhv_subdirs = [f.path for f in os.scandir(hv_basedir) if f.is_dir()]\\nhv_datas = []\\nfor hv_subdir in hv_subdirs:\\n    sample = os.path.split(hv_subdir)[1].split(\\\"_\\\")[0].lower()\\n    hv_datas.append(\\n        read_in_data(\\n            feature_file_path=hv_subdir\\n            + \\\"/preprocessed/full_pipeline/nuclear_features.csv\\\",\\n            qc_file_path=hv_subdir\\n            + \\\"/preprocessed/full_pipeline/segmentation/qc_results.csv\\\",\\n            sample=sample,\\n        )\\n    )\\nhv_data = hv_datas[0].copy()\\nfor i in range(1, len(hv_datas)):\\n    hv_data = hv_data.append(hv_datas[i])\\nhv_data[\\\"condition\\\"] = \\\"ctrl\\\"\";\n",
       "                var nbb_formatted_code = \"hv_basedir = \\\"../../../../../data/pbmc_hv/proteins/\\\"\\nhv_subdirs = [f.path for f in os.scandir(hv_basedir) if f.is_dir()]\\nhv_datas = []\\nfor hv_subdir in hv_subdirs:\\n    sample = os.path.split(hv_subdir)[1].split(\\\"_\\\")[0].lower()\\n    hv_datas.append(\\n        read_in_data(\\n            feature_file_path=hv_subdir\\n            + \\\"/preprocessed/full_pipeline/nuclear_features.csv\\\",\\n            qc_file_path=hv_subdir\\n            + \\\"/preprocessed/full_pipeline/segmentation/qc_results.csv\\\",\\n            sample=sample,\\n        )\\n    )\\nhv_data = hv_datas[0].copy()\\nfor i in range(1, len(hv_datas)):\\n    hv_data = hv_data.append(hv_datas[i])\\nhv_data[\\\"condition\\\"] = \\\"ctrl\\\"\";\n",
       "                var nbb_cells = Jupyter.notebook.get_cells();\n",
       "                for (var i = 0; i < nbb_cells.length; ++i) {\n",
       "                    if (nbb_cells[i].input_prompt_number == nbb_cell_id) {\n",
       "                        if (nbb_cells[i].get_text() == nbb_unformatted_code) {\n",
       "                             nbb_cells[i].set_text(nbb_formatted_code);\n",
       "                        }\n",
       "                        break;\n",
       "                    }\n",
       "                }\n",
       "            }, 500);\n",
       "            "
      ],
      "text/plain": [
       "<IPython.core.display.Javascript object>"
      ]
     },
     "metadata": {},
     "output_type": "display_data"
    }
   ],
   "source": [
    "hv_basedir = \"../../../../../data/pbmc_hv/proteins/\"\n",
    "hv_subdirs = [f.path for f in os.scandir(hv_basedir) if f.is_dir()]\n",
    "hv_datas = []\n",
    "for hv_subdir in hv_subdirs:\n",
    "    sample = os.path.split(hv_subdir)[1].split(\"_\")[0].lower()\n",
    "    hv_datas.append(\n",
    "        read_in_data(\n",
    "            feature_file_path=hv_subdir\n",
    "            + \"/preprocessed/full_pipeline/nuclear_features.csv\",\n",
    "            qc_file_path=hv_subdir\n",
    "            + \"/preprocessed/full_pipeline/segmentation/qc_results.csv\",\n",
    "            sample=sample,\n",
    "        )\n",
    "    )\n",
    "hv_data = hv_datas[0].copy()\n",
    "for i in range(1, len(hv_datas)):\n",
    "    hv_data = hv_data.append(hv_datas[i])\n",
    "hv_data[\"condition\"] = \"ctrl\""
   ]
  },
  {
   "cell_type": "code",
   "execution_count": 141,
   "id": "touched-lunch",
   "metadata": {},
   "outputs": [
    {
     "data": {
      "application/javascript": [
       "\n",
       "            setTimeout(function() {\n",
       "                var nbb_cell_id = 141;\n",
       "                var nbb_unformatted_code = \"p11_1_basedir = \\\"../../../../../data/pbmc_pt/proteins/timepoint_1/P11_1_PBMCs_Dapi_gH2AX_Lamin_28_07_21_2X_16bit_poly\\\"\\np11_1_data = read_in_data(\\n    feature_file_path=p11_1_basedir\\n    + \\\"/preprocessed/full_pipeline/nuclear_features.csv\\\",\\n    qc_file_path=p11_1_basedir\\n    + \\\"/preprocessed/full_pipeline/segmentation/qc_results.csv\\\",\\n    sample=\\\"p11_1\\\",\\n)\\np11_1_data[\\\"condition\\\"] = \\\"tp1\\\"\";\n",
       "                var nbb_formatted_code = \"p11_1_basedir = \\\"../../../../../data/pbmc_pt/proteins/timepoint_1/P11_1_PBMCs_Dapi_gH2AX_Lamin_28_07_21_2X_16bit_poly\\\"\\np11_1_data = read_in_data(\\n    feature_file_path=p11_1_basedir\\n    + \\\"/preprocessed/full_pipeline/nuclear_features.csv\\\",\\n    qc_file_path=p11_1_basedir\\n    + \\\"/preprocessed/full_pipeline/segmentation/qc_results.csv\\\",\\n    sample=\\\"p11_1\\\",\\n)\\np11_1_data[\\\"condition\\\"] = \\\"tp1\\\"\";\n",
       "                var nbb_cells = Jupyter.notebook.get_cells();\n",
       "                for (var i = 0; i < nbb_cells.length; ++i) {\n",
       "                    if (nbb_cells[i].input_prompt_number == nbb_cell_id) {\n",
       "                        if (nbb_cells[i].get_text() == nbb_unformatted_code) {\n",
       "                             nbb_cells[i].set_text(nbb_formatted_code);\n",
       "                        }\n",
       "                        break;\n",
       "                    }\n",
       "                }\n",
       "            }, 500);\n",
       "            "
      ],
      "text/plain": [
       "<IPython.core.display.Javascript object>"
      ]
     },
     "metadata": {},
     "output_type": "display_data"
    }
   ],
   "source": [
    "p11_1_basedir = \"../../../../../data/pbmc_pt/proteins/timepoint_1/P11_1_PBMCs_Dapi_gH2AX_Lamin_28_07_21_2X_16bit_poly\"\n",
    "p11_1_data = read_in_data(\n",
    "    feature_file_path=p11_1_basedir\n",
    "    + \"/preprocessed/full_pipeline/nuclear_features.csv\",\n",
    "    qc_file_path=p11_1_basedir\n",
    "    + \"/preprocessed/full_pipeline/segmentation/qc_results.csv\",\n",
    "    sample=\"p11_1\",\n",
    ")\n",
    "p11_1_data[\"condition\"] = \"tp1\""
   ]
  },
  {
   "cell_type": "code",
   "execution_count": 142,
   "id": "recorded-oakland",
   "metadata": {},
   "outputs": [
    {
     "data": {
      "application/javascript": [
       "\n",
       "            setTimeout(function() {\n",
       "                var nbb_cell_id = 142;\n",
       "                var nbb_unformatted_code = \"p11_2_basedir = \\\"../../../../../data/pbmc_pt/proteins/timepoint_2/P11_2_PBMCs_Dapi_gH2AX_Lamin_19_08_21_2X_16bit_poly\\\"\\np11_2_data = read_in_data(\\n    feature_file_path=p11_2_basedir\\n    + \\\"/preprocessed/full_pipeline/nuclear_features.csv\\\",\\n    qc_file_path=p11_2_basedir\\n    + \\\"/preprocessed/full_pipeline/segmentation/qc_results.csv\\\",\\n    sample=\\\"p11_2\\\",\\n)\\np11_2_data[\\\"condition\\\"] = \\\"tp2\\\"\";\n",
       "                var nbb_formatted_code = \"p11_2_basedir = \\\"../../../../../data/pbmc_pt/proteins/timepoint_2/P11_2_PBMCs_Dapi_gH2AX_Lamin_19_08_21_2X_16bit_poly\\\"\\np11_2_data = read_in_data(\\n    feature_file_path=p11_2_basedir\\n    + \\\"/preprocessed/full_pipeline/nuclear_features.csv\\\",\\n    qc_file_path=p11_2_basedir\\n    + \\\"/preprocessed/full_pipeline/segmentation/qc_results.csv\\\",\\n    sample=\\\"p11_2\\\",\\n)\\np11_2_data[\\\"condition\\\"] = \\\"tp2\\\"\";\n",
       "                var nbb_cells = Jupyter.notebook.get_cells();\n",
       "                for (var i = 0; i < nbb_cells.length; ++i) {\n",
       "                    if (nbb_cells[i].input_prompt_number == nbb_cell_id) {\n",
       "                        if (nbb_cells[i].get_text() == nbb_unformatted_code) {\n",
       "                             nbb_cells[i].set_text(nbb_formatted_code);\n",
       "                        }\n",
       "                        break;\n",
       "                    }\n",
       "                }\n",
       "            }, 500);\n",
       "            "
      ],
      "text/plain": [
       "<IPython.core.display.Javascript object>"
      ]
     },
     "metadata": {},
     "output_type": "display_data"
    }
   ],
   "source": [
    "p11_2_basedir = \"../../../../../data/pbmc_pt/proteins/timepoint_2/P11_2_PBMCs_Dapi_gH2AX_Lamin_19_08_21_2X_16bit_poly\"\n",
    "p11_2_data = read_in_data(\n",
    "    feature_file_path=p11_2_basedir\n",
    "    + \"/preprocessed/full_pipeline/nuclear_features.csv\",\n",
    "    qc_file_path=p11_2_basedir\n",
    "    + \"/preprocessed/full_pipeline/segmentation/qc_results.csv\",\n",
    "    sample=\"p11_2\",\n",
    ")\n",
    "p11_2_data[\"condition\"] = \"tp2\""
   ]
  },
  {
   "cell_type": "code",
   "execution_count": 143,
   "id": "arranged-toner",
   "metadata": {},
   "outputs": [
    {
     "data": {
      "application/javascript": [
       "\n",
       "            setTimeout(function() {\n",
       "                var nbb_cell_id = 143;\n",
       "                var nbb_unformatted_code = \"p11_3_basedir = \\\"../../../../../data/pbmc_pt/proteins/timepoint_3/P11_3_PBMCs_Dapi_gH2AX_Lamin_1_09_21_2X_16bit_poly\\\"\\np11_3_data = read_in_data(\\n    feature_file_path=p11_3_basedir\\n    + \\\"/preprocessed/full_pipeline/nuclear_features.csv\\\",\\n    qc_file_path=p11_3_basedir\\n    + \\\"/preprocessed/full_pipeline/segmentation/qc_results.csv\\\",\\n    sample=\\\"p11_3\\\",\\n)\\np11_3_data[\\\"condition\\\"] = \\\"tp3\\\"\";\n",
       "                var nbb_formatted_code = \"p11_3_basedir = \\\"../../../../../data/pbmc_pt/proteins/timepoint_3/P11_3_PBMCs_Dapi_gH2AX_Lamin_1_09_21_2X_16bit_poly\\\"\\np11_3_data = read_in_data(\\n    feature_file_path=p11_3_basedir\\n    + \\\"/preprocessed/full_pipeline/nuclear_features.csv\\\",\\n    qc_file_path=p11_3_basedir\\n    + \\\"/preprocessed/full_pipeline/segmentation/qc_results.csv\\\",\\n    sample=\\\"p11_3\\\",\\n)\\np11_3_data[\\\"condition\\\"] = \\\"tp3\\\"\";\n",
       "                var nbb_cells = Jupyter.notebook.get_cells();\n",
       "                for (var i = 0; i < nbb_cells.length; ++i) {\n",
       "                    if (nbb_cells[i].input_prompt_number == nbb_cell_id) {\n",
       "                        if (nbb_cells[i].get_text() == nbb_unformatted_code) {\n",
       "                             nbb_cells[i].set_text(nbb_formatted_code);\n",
       "                        }\n",
       "                        break;\n",
       "                    }\n",
       "                }\n",
       "            }, 500);\n",
       "            "
      ],
      "text/plain": [
       "<IPython.core.display.Javascript object>"
      ]
     },
     "metadata": {},
     "output_type": "display_data"
    }
   ],
   "source": [
    "p11_3_basedir = \"../../../../../data/pbmc_pt/proteins/timepoint_3/P11_3_PBMCs_Dapi_gH2AX_Lamin_1_09_21_2X_16bit_poly\"\n",
    "p11_3_data = read_in_data(\n",
    "    feature_file_path=p11_3_basedir\n",
    "    + \"/preprocessed/full_pipeline/nuclear_features.csv\",\n",
    "    qc_file_path=p11_3_basedir\n",
    "    + \"/preprocessed/full_pipeline/segmentation/qc_results.csv\",\n",
    "    sample=\"p11_3\",\n",
    ")\n",
    "p11_3_data[\"condition\"] = \"tp3\""
   ]
  },
  {
   "cell_type": "markdown",
   "id": "canadian-picking",
   "metadata": {},
   "source": [
    "Since we have many more samples from the control condition than we have for the different treatment conditions, we will subsample the hv_data randomly to 400 nuclei which is slightly larger than maximum number of samples we have for any treatment condition."
   ]
  },
  {
   "cell_type": "code",
   "execution_count": 144,
   "id": "aging-daily",
   "metadata": {},
   "outputs": [
    {
     "data": {
      "text/html": [
       "<div>\n",
       "<style scoped>\n",
       "    .dataframe tbody tr th:only-of-type {\n",
       "        vertical-align: middle;\n",
       "    }\n",
       "\n",
       "    .dataframe tbody tr th {\n",
       "        vertical-align: top;\n",
       "    }\n",
       "\n",
       "    .dataframe thead th {\n",
       "        text-align: right;\n",
       "    }\n",
       "</style>\n",
       "<table border=\"1\" class=\"dataframe\">\n",
       "  <thead>\n",
       "    <tr style=\"text-align: right;\">\n",
       "      <th></th>\n",
       "      <th>label</th>\n",
       "      <th>min_calliper</th>\n",
       "      <th>max_calliper</th>\n",
       "      <th>smallest_largest_calliper</th>\n",
       "      <th>min_radius</th>\n",
       "      <th>max_radius</th>\n",
       "      <th>med_radius</th>\n",
       "      <th>avg_radius</th>\n",
       "      <th>mode_radius</th>\n",
       "      <th>d25_radius</th>\n",
       "      <th>...</th>\n",
       "      <th>rel_lamin_3d_int</th>\n",
       "      <th>min_lamin_3d_int</th>\n",
       "      <th>max_lamin_3d_int</th>\n",
       "      <th>mean_lamin_3d_int</th>\n",
       "      <th>std_lamin_3d_int</th>\n",
       "      <th>q25_lamin_3d_int</th>\n",
       "      <th>q75_lamin_3d_int</th>\n",
       "      <th>median_lamin_3d_int</th>\n",
       "      <th>kurtosis_lamin_3d_int</th>\n",
       "      <th>skewness_lamin_3d_int</th>\n",
       "    </tr>\n",
       "  </thead>\n",
       "  <tbody>\n",
       "    <tr>\n",
       "      <th>count</th>\n",
       "      <td>1212.000000</td>\n",
       "      <td>1212.000000</td>\n",
       "      <td>1212.000000</td>\n",
       "      <td>1212.000000</td>\n",
       "      <td>1212.000000</td>\n",
       "      <td>1212.000000</td>\n",
       "      <td>1212.000000</td>\n",
       "      <td>1212.000000</td>\n",
       "      <td>1212.000000</td>\n",
       "      <td>1212.000000</td>\n",
       "      <td>...</td>\n",
       "      <td>1212.000000</td>\n",
       "      <td>1212.0</td>\n",
       "      <td>1212.000000</td>\n",
       "      <td>1212.000000</td>\n",
       "      <td>1212.000000</td>\n",
       "      <td>1212.0</td>\n",
       "      <td>1212.000000</td>\n",
       "      <td>1212.000000</td>\n",
       "      <td>1212.000000</td>\n",
       "      <td>1212.000000</td>\n",
       "    </tr>\n",
       "    <tr>\n",
       "      <th>mean</th>\n",
       "      <td>4.066007</td>\n",
       "      <td>60.814356</td>\n",
       "      <td>79.716172</td>\n",
       "      <td>0.771457</td>\n",
       "      <td>23.270494</td>\n",
       "      <td>41.146095</td>\n",
       "      <td>33.623012</td>\n",
       "      <td>33.307588</td>\n",
       "      <td>23.342958</td>\n",
       "      <td>30.279028</td>\n",
       "      <td>...</td>\n",
       "      <td>1179.035156</td>\n",
       "      <td>0.0</td>\n",
       "      <td>13853.518152</td>\n",
       "      <td>1179.035156</td>\n",
       "      <td>1408.007108</td>\n",
       "      <td>0.0</td>\n",
       "      <td>210.258045</td>\n",
       "      <td>680.883251</td>\n",
       "      <td>57.732074</td>\n",
       "      <td>5.958331</td>\n",
       "    </tr>\n",
       "    <tr>\n",
       "      <th>std</th>\n",
       "      <td>2.902022</td>\n",
       "      <td>7.416545</td>\n",
       "      <td>10.520883</td>\n",
       "      <td>0.106143</td>\n",
       "      <td>5.659566</td>\n",
       "      <td>6.246560</td>\n",
       "      <td>3.181381</td>\n",
       "      <td>3.104407</td>\n",
       "      <td>5.739805</td>\n",
       "      <td>3.251753</td>\n",
       "      <td>...</td>\n",
       "      <td>3224.872631</td>\n",
       "      <td>0.0</td>\n",
       "      <td>12088.063441</td>\n",
       "      <td>3224.872631</td>\n",
       "      <td>2411.361532</td>\n",
       "      <td>0.0</td>\n",
       "      <td>844.342346</td>\n",
       "      <td>2765.284885</td>\n",
       "      <td>146.250551</td>\n",
       "      <td>2.239231</td>\n",
       "    </tr>\n",
       "    <tr>\n",
       "      <th>min</th>\n",
       "      <td>1.000000</td>\n",
       "      <td>24.000000</td>\n",
       "      <td>44.000000</td>\n",
       "      <td>0.314607</td>\n",
       "      <td>0.330982</td>\n",
       "      <td>26.381287</td>\n",
       "      <td>17.473910</td>\n",
       "      <td>16.826493</td>\n",
       "      <td>0.330982</td>\n",
       "      <td>13.311456</td>\n",
       "      <td>...</td>\n",
       "      <td>64.243603</td>\n",
       "      <td>0.0</td>\n",
       "      <td>3635.000000</td>\n",
       "      <td>64.243603</td>\n",
       "      <td>219.386111</td>\n",
       "      <td>0.0</td>\n",
       "      <td>14.000000</td>\n",
       "      <td>0.000000</td>\n",
       "      <td>1.420457</td>\n",
       "      <td>1.683288</td>\n",
       "    </tr>\n",
       "    <tr>\n",
       "      <th>25%</th>\n",
       "      <td>2.000000</td>\n",
       "      <td>56.000000</td>\n",
       "      <td>72.000000</td>\n",
       "      <td>0.714286</td>\n",
       "      <td>20.790083</td>\n",
       "      <td>36.584919</td>\n",
       "      <td>31.400560</td>\n",
       "      <td>31.121843</td>\n",
       "      <td>20.796847</td>\n",
       "      <td>28.309541</td>\n",
       "      <td>...</td>\n",
       "      <td>254.152303</td>\n",
       "      <td>0.0</td>\n",
       "      <td>7633.750000</td>\n",
       "      <td>254.152303</td>\n",
       "      <td>569.328265</td>\n",
       "      <td>0.0</td>\n",
       "      <td>68.000000</td>\n",
       "      <td>30.000000</td>\n",
       "      <td>34.202348</td>\n",
       "      <td>4.971860</td>\n",
       "    </tr>\n",
       "    <tr>\n",
       "      <th>50%</th>\n",
       "      <td>3.000000</td>\n",
       "      <td>61.000000</td>\n",
       "      <td>78.000000</td>\n",
       "      <td>0.789181</td>\n",
       "      <td>24.433274</td>\n",
       "      <td>39.817836</td>\n",
       "      <td>33.434647</td>\n",
       "      <td>33.044695</td>\n",
       "      <td>24.438086</td>\n",
       "      <td>30.382212</td>\n",
       "      <td>...</td>\n",
       "      <td>340.247223</td>\n",
       "      <td>0.0</td>\n",
       "      <td>9206.500000</td>\n",
       "      <td>340.247223</td>\n",
       "      <td>683.022525</td>\n",
       "      <td>0.0</td>\n",
       "      <td>83.000000</td>\n",
       "      <td>49.500000</td>\n",
       "      <td>48.708420</td>\n",
       "      <td>5.914880</td>\n",
       "    </tr>\n",
       "    <tr>\n",
       "      <th>75%</th>\n",
       "      <td>5.000000</td>\n",
       "      <td>66.000000</td>\n",
       "      <td>86.000000</td>\n",
       "      <td>0.851351</td>\n",
       "      <td>27.137186</td>\n",
       "      <td>44.749981</td>\n",
       "      <td>35.878616</td>\n",
       "      <td>35.459019</td>\n",
       "      <td>27.207508</td>\n",
       "      <td>32.469913</td>\n",
       "      <td>...</td>\n",
       "      <td>686.002699</td>\n",
       "      <td>0.0</td>\n",
       "      <td>14216.250000</td>\n",
       "      <td>686.002699</td>\n",
       "      <td>1131.733262</td>\n",
       "      <td>0.0</td>\n",
       "      <td>110.000000</td>\n",
       "      <td>108.000000</td>\n",
       "      <td>63.120750</td>\n",
       "      <td>6.640871</td>\n",
       "    </tr>\n",
       "    <tr>\n",
       "      <th>max</th>\n",
       "      <td>21.000000</td>\n",
       "      <td>77.000000</td>\n",
       "      <td>130.000000</td>\n",
       "      <td>0.956522</td>\n",
       "      <td>34.407164</td>\n",
       "      <td>94.642881</td>\n",
       "      <td>56.235780</td>\n",
       "      <td>55.673997</td>\n",
       "      <td>37.455585</td>\n",
       "      <td>37.653297</td>\n",
       "      <td>...</td>\n",
       "      <td>40549.326232</td>\n",
       "      <td>0.0</td>\n",
       "      <td>65535.000000</td>\n",
       "      <td>40549.326232</td>\n",
       "      <td>22434.417853</td>\n",
       "      <td>0.0</td>\n",
       "      <td>15149.250000</td>\n",
       "      <td>41026.500000</td>\n",
       "      <td>3538.996298</td>\n",
       "      <td>50.176261</td>\n",
       "    </tr>\n",
       "  </tbody>\n",
       "</table>\n",
       "<p>8 rows × 275 columns</p>\n",
       "</div>"
      ],
      "text/plain": [
       "             label  min_calliper  max_calliper  smallest_largest_calliper  \\\n",
       "count  1212.000000   1212.000000   1212.000000                1212.000000   \n",
       "mean      4.066007     60.814356     79.716172                   0.771457   \n",
       "std       2.902022      7.416545     10.520883                   0.106143   \n",
       "min       1.000000     24.000000     44.000000                   0.314607   \n",
       "25%       2.000000     56.000000     72.000000                   0.714286   \n",
       "50%       3.000000     61.000000     78.000000                   0.789181   \n",
       "75%       5.000000     66.000000     86.000000                   0.851351   \n",
       "max      21.000000     77.000000    130.000000                   0.956522   \n",
       "\n",
       "        min_radius   max_radius   med_radius   avg_radius  mode_radius  \\\n",
       "count  1212.000000  1212.000000  1212.000000  1212.000000  1212.000000   \n",
       "mean     23.270494    41.146095    33.623012    33.307588    23.342958   \n",
       "std       5.659566     6.246560     3.181381     3.104407     5.739805   \n",
       "min       0.330982    26.381287    17.473910    16.826493     0.330982   \n",
       "25%      20.790083    36.584919    31.400560    31.121843    20.796847   \n",
       "50%      24.433274    39.817836    33.434647    33.044695    24.438086   \n",
       "75%      27.137186    44.749981    35.878616    35.459019    27.207508   \n",
       "max      34.407164    94.642881    56.235780    55.673997    37.455585   \n",
       "\n",
       "        d25_radius  ...  rel_lamin_3d_int  min_lamin_3d_int  max_lamin_3d_int  \\\n",
       "count  1212.000000  ...       1212.000000            1212.0       1212.000000   \n",
       "mean     30.279028  ...       1179.035156               0.0      13853.518152   \n",
       "std       3.251753  ...       3224.872631               0.0      12088.063441   \n",
       "min      13.311456  ...         64.243603               0.0       3635.000000   \n",
       "25%      28.309541  ...        254.152303               0.0       7633.750000   \n",
       "50%      30.382212  ...        340.247223               0.0       9206.500000   \n",
       "75%      32.469913  ...        686.002699               0.0      14216.250000   \n",
       "max      37.653297  ...      40549.326232               0.0      65535.000000   \n",
       "\n",
       "       mean_lamin_3d_int  std_lamin_3d_int  q25_lamin_3d_int  \\\n",
       "count        1212.000000       1212.000000            1212.0   \n",
       "mean         1179.035156       1408.007108               0.0   \n",
       "std          3224.872631       2411.361532               0.0   \n",
       "min            64.243603        219.386111               0.0   \n",
       "25%           254.152303        569.328265               0.0   \n",
       "50%           340.247223        683.022525               0.0   \n",
       "75%           686.002699       1131.733262               0.0   \n",
       "max         40549.326232      22434.417853               0.0   \n",
       "\n",
       "       q75_lamin_3d_int  median_lamin_3d_int  kurtosis_lamin_3d_int  \\\n",
       "count       1212.000000          1212.000000            1212.000000   \n",
       "mean         210.258045           680.883251              57.732074   \n",
       "std          844.342346          2765.284885             146.250551   \n",
       "min           14.000000             0.000000               1.420457   \n",
       "25%           68.000000            30.000000              34.202348   \n",
       "50%           83.000000            49.500000              48.708420   \n",
       "75%          110.000000           108.000000              63.120750   \n",
       "max        15149.250000         41026.500000            3538.996298   \n",
       "\n",
       "       skewness_lamin_3d_int  \n",
       "count            1212.000000  \n",
       "mean                5.958331  \n",
       "std                 2.239231  \n",
       "min                 1.683288  \n",
       "25%                 4.971860  \n",
       "50%                 5.914880  \n",
       "75%                 6.640871  \n",
       "max                50.176261  \n",
       "\n",
       "[8 rows x 275 columns]"
      ]
     },
     "execution_count": 144,
     "metadata": {},
     "output_type": "execute_result"
    },
    {
     "data": {
      "application/javascript": [
       "\n",
       "            setTimeout(function() {\n",
       "                var nbb_cell_id = 144;\n",
       "                var nbb_unformatted_code = \"np.random.seed(seed)\\nn_control_samples = 400\\ndata = (\\n    hv_data.iloc[np.random.choice(len(hv_data), size=n_control_samples, replace=False)]\\n    .append(p11_1_data)\\n    .append(p11_2_data)\\n    .append(p11_3_data)\\n)\\ndata.describe()\";\n",
       "                var nbb_formatted_code = \"np.random.seed(seed)\\nn_control_samples = 400\\ndata = (\\n    hv_data.iloc[np.random.choice(len(hv_data), size=n_control_samples, replace=False)]\\n    .append(p11_1_data)\\n    .append(p11_2_data)\\n    .append(p11_3_data)\\n)\\ndata.describe()\";\n",
       "                var nbb_cells = Jupyter.notebook.get_cells();\n",
       "                for (var i = 0; i < nbb_cells.length; ++i) {\n",
       "                    if (nbb_cells[i].input_prompt_number == nbb_cell_id) {\n",
       "                        if (nbb_cells[i].get_text() == nbb_unformatted_code) {\n",
       "                             nbb_cells[i].set_text(nbb_formatted_code);\n",
       "                        }\n",
       "                        break;\n",
       "                    }\n",
       "                }\n",
       "            }, 500);\n",
       "            "
      ],
      "text/plain": [
       "<IPython.core.display.Javascript object>"
      ]
     },
     "metadata": {},
     "output_type": "display_data"
    }
   ],
   "source": [
    "np.random.seed(seed)\n",
    "n_control_samples = 400\n",
    "data = (\n",
    "    hv_data.iloc[np.random.choice(len(hv_data), size=n_control_samples, replace=False)]\n",
    "    .append(p11_1_data)\n",
    "    .append(p11_2_data)\n",
    "    .append(p11_3_data)\n",
    ")\n",
    "data.describe()"
   ]
  },
  {
   "cell_type": "markdown",
   "id": "suspended-absolute",
   "metadata": {},
   "source": [
    "---\n",
    "\n",
    "## 2. Dimensionality reduction\n",
    "\n",
    "Next, we will clean the data and remove samples with missing values, constant features, as well as those samples that were flagged for not passing our quality checks."
   ]
  },
  {
   "cell_type": "code",
   "execution_count": 145,
   "id": "knowing-count",
   "metadata": {},
   "outputs": [
    {
     "name": "stdout",
     "output_type": "stream",
     "text": [
      "Nuclei that did not pass the quality check: 71/1212. Remaining: 1141.\n",
      "Removed 11 constant or features with missing values. Remaining: 267.\n",
      "Removed additional 6 features. Remaining: 261.\n"
     ]
    },
    {
     "data": {
      "application/javascript": [
       "\n",
       "            setTimeout(function() {\n",
       "                var nbb_cell_id = 145;\n",
       "                var nbb_unformatted_code = \"data = preprocess_data(data)\";\n",
       "                var nbb_formatted_code = \"data = preprocess_data(data)\";\n",
       "                var nbb_cells = Jupyter.notebook.get_cells();\n",
       "                for (var i = 0; i < nbb_cells.length; ++i) {\n",
       "                    if (nbb_cells[i].input_prompt_number == nbb_cell_id) {\n",
       "                        if (nbb_cells[i].get_text() == nbb_unformatted_code) {\n",
       "                             nbb_cells[i].set_text(nbb_formatted_code);\n",
       "                        }\n",
       "                        break;\n",
       "                    }\n",
       "                }\n",
       "            }, 500);\n",
       "            "
      ],
      "text/plain": [
       "<IPython.core.display.Javascript object>"
      ]
     },
     "metadata": {},
     "output_type": "display_data"
    }
   ],
   "source": [
    "data = preprocess_data(data)"
   ]
  },
  {
   "cell_type": "code",
   "execution_count": 146,
   "id": "documentary-kansas",
   "metadata": {},
   "outputs": [
    {
     "data": {
      "application/javascript": [
       "\n",
       "            setTimeout(function() {\n",
       "                var nbb_cell_id = 146;\n",
       "                var nbb_unformatted_code = \"features = data.iloc[:, :-2]\\nsample_labels = data.loc[:, \\\"sample\\\"]\\ncondition_labels = data.loc[:, \\\"condition\\\"]\";\n",
       "                var nbb_formatted_code = \"features = data.iloc[:, :-2]\\nsample_labels = data.loc[:, \\\"sample\\\"]\\ncondition_labels = data.loc[:, \\\"condition\\\"]\";\n",
       "                var nbb_cells = Jupyter.notebook.get_cells();\n",
       "                for (var i = 0; i < nbb_cells.length; ++i) {\n",
       "                    if (nbb_cells[i].input_prompt_number == nbb_cell_id) {\n",
       "                        if (nbb_cells[i].get_text() == nbb_unformatted_code) {\n",
       "                             nbb_cells[i].set_text(nbb_formatted_code);\n",
       "                        }\n",
       "                        break;\n",
       "                    }\n",
       "                }\n",
       "            }, 500);\n",
       "            "
      ],
      "text/plain": [
       "<IPython.core.display.Javascript object>"
      ]
     },
     "metadata": {},
     "output_type": "display_data"
    }
   ],
   "source": [
    "features = data.iloc[:, :-2]\n",
    "sample_labels = data.loc[:, \"sample\"]\n",
    "condition_labels = data.loc[:, \"condition\"]"
   ]
  },
  {
   "cell_type": "markdown",
   "id": "resident-validation",
   "metadata": {},
   "source": [
    "Finally, we will reduce the dimensionality of the data set further by removing highly correlated features ($\\rho > 0.8$)."
   ]
  },
  {
   "cell_type": "code",
   "execution_count": 147,
   "id": "growing-training",
   "metadata": {},
   "outputs": [
    {
     "name": "stdout",
     "output_type": "stream",
     "text": [
      "Removed 201/259 features with a Pearson correlation above 0.8. Remaining: 58\n"
     ]
    },
    {
     "data": {
      "application/javascript": [
       "\n",
       "            setTimeout(function() {\n",
       "                var nbb_cell_id = 147;\n",
       "                var nbb_unformatted_code = \"# features = remove_collinear_features(features, threshold=5)\\nfeatures = remove_correlated_features(features, threshold=0.8)\";\n",
       "                var nbb_formatted_code = \"# features = remove_collinear_features(features, threshold=5)\\nfeatures = remove_correlated_features(features, threshold=0.8)\";\n",
       "                var nbb_cells = Jupyter.notebook.get_cells();\n",
       "                for (var i = 0; i < nbb_cells.length; ++i) {\n",
       "                    if (nbb_cells[i].input_prompt_number == nbb_cell_id) {\n",
       "                        if (nbb_cells[i].get_text() == nbb_unformatted_code) {\n",
       "                             nbb_cells[i].set_text(nbb_formatted_code);\n",
       "                        }\n",
       "                        break;\n",
       "                    }\n",
       "                }\n",
       "            }, 500);\n",
       "            "
      ],
      "text/plain": [
       "<IPython.core.display.Javascript object>"
      ]
     },
     "metadata": {},
     "output_type": "display_data"
    }
   ],
   "source": [
    "# features = remove_collinear_features(features, threshold=5)\n",
    "features = remove_correlated_features(features, threshold=0.8)"
   ]
  },
  {
   "cell_type": "markdown",
   "id": "foreign-frequency",
   "metadata": {},
   "source": [
    "There are 57 features that remain which have a correlation of less than 0.8 to any other feature."
   ]
  },
  {
   "cell_type": "markdown",
   "id": "irish-carolina",
   "metadata": {},
   "source": [
    "---\n",
    "\n",
    "## 3. Data visualization\n",
    "\n",
    "Next, we will visualize the data set using TSNE. To this end, we will first z-score the data."
   ]
  },
  {
   "cell_type": "code",
   "execution_count": 148,
   "id": "collected-initial",
   "metadata": {},
   "outputs": [
    {
     "data": {
      "text/html": [
       "<div>\n",
       "<style scoped>\n",
       "    .dataframe tbody tr th:only-of-type {\n",
       "        vertical-align: middle;\n",
       "    }\n",
       "\n",
       "    .dataframe tbody tr th {\n",
       "        vertical-align: top;\n",
       "    }\n",
       "\n",
       "    .dataframe thead th {\n",
       "        text-align: right;\n",
       "    }\n",
       "</style>\n",
       "<table border=\"1\" class=\"dataframe\">\n",
       "  <thead>\n",
       "    <tr style=\"text-align: right;\">\n",
       "      <th></th>\n",
       "      <th>min_calliper</th>\n",
       "      <th>max_calliper</th>\n",
       "      <th>smallest_largest_calliper</th>\n",
       "      <th>min_radius</th>\n",
       "      <th>med_radius</th>\n",
       "      <th>concavity</th>\n",
       "      <th>area_bbarea</th>\n",
       "      <th>std_curvature</th>\n",
       "      <th>npolarity_changes</th>\n",
       "      <th>max_posi_curv</th>\n",
       "      <th>...</th>\n",
       "      <th>q75_dna_3d_int</th>\n",
       "      <th>rel_gh2ax_2d_int</th>\n",
       "      <th>min_gh2ax_2d_int</th>\n",
       "      <th>max_gh2ax_2d_int</th>\n",
       "      <th>q25_gh2ax_2d_int</th>\n",
       "      <th>kurtosis_gh2ax_2d_int</th>\n",
       "      <th>q25_gh2ax_3d_int</th>\n",
       "      <th>q75_gh2ax_3d_int</th>\n",
       "      <th>rel_lamin_2d_int</th>\n",
       "      <th>kurtosis_lamin_2d_int</th>\n",
       "    </tr>\n",
       "  </thead>\n",
       "  <tbody>\n",
       "    <tr>\n",
       "      <th>count</th>\n",
       "      <td>1.141000e+03</td>\n",
       "      <td>1.141000e+03</td>\n",
       "      <td>1.141000e+03</td>\n",
       "      <td>1.141000e+03</td>\n",
       "      <td>1.141000e+03</td>\n",
       "      <td>1.141000e+03</td>\n",
       "      <td>1.141000e+03</td>\n",
       "      <td>1.141000e+03</td>\n",
       "      <td>1.141000e+03</td>\n",
       "      <td>1.141000e+03</td>\n",
       "      <td>...</td>\n",
       "      <td>1141.000000</td>\n",
       "      <td>1.141000e+03</td>\n",
       "      <td>1.141000e+03</td>\n",
       "      <td>1.141000e+03</td>\n",
       "      <td>1.141000e+03</td>\n",
       "      <td>1.141000e+03</td>\n",
       "      <td>1.141000e+03</td>\n",
       "      <td>1.141000e+03</td>\n",
       "      <td>1.141000e+03</td>\n",
       "      <td>1141.000000</td>\n",
       "    </tr>\n",
       "    <tr>\n",
       "      <th>mean</th>\n",
       "      <td>4.608253e-16</td>\n",
       "      <td>1.245474e-16</td>\n",
       "      <td>3.985516e-16</td>\n",
       "      <td>4.981895e-17</td>\n",
       "      <td>-1.120926e-16</td>\n",
       "      <td>-2.490947e-17</td>\n",
       "      <td>1.918029e-15</td>\n",
       "      <td>-6.601011e-16</td>\n",
       "      <td>-1.619116e-16</td>\n",
       "      <td>3.238232e-16</td>\n",
       "      <td>...</td>\n",
       "      <td>0.000000</td>\n",
       "      <td>3.736421e-17</td>\n",
       "      <td>-1.245474e-17</td>\n",
       "      <td>7.472842e-17</td>\n",
       "      <td>6.227368e-17</td>\n",
       "      <td>-2.490947e-17</td>\n",
       "      <td>3.113684e-18</td>\n",
       "      <td>-4.981895e-17</td>\n",
       "      <td>-1.245474e-16</td>\n",
       "      <td>0.000000</td>\n",
       "    </tr>\n",
       "    <tr>\n",
       "      <th>std</th>\n",
       "      <td>1.000439e+00</td>\n",
       "      <td>1.000439e+00</td>\n",
       "      <td>1.000439e+00</td>\n",
       "      <td>1.000439e+00</td>\n",
       "      <td>1.000439e+00</td>\n",
       "      <td>1.000439e+00</td>\n",
       "      <td>1.000439e+00</td>\n",
       "      <td>1.000439e+00</td>\n",
       "      <td>1.000439e+00</td>\n",
       "      <td>1.000439e+00</td>\n",
       "      <td>...</td>\n",
       "      <td>1.000439</td>\n",
       "      <td>1.000439e+00</td>\n",
       "      <td>1.000439e+00</td>\n",
       "      <td>1.000439e+00</td>\n",
       "      <td>1.000439e+00</td>\n",
       "      <td>1.000439e+00</td>\n",
       "      <td>1.000439e+00</td>\n",
       "      <td>1.000439e+00</td>\n",
       "      <td>1.000439e+00</td>\n",
       "      <td>1.000439</td>\n",
       "    </tr>\n",
       "    <tr>\n",
       "      <th>min</th>\n",
       "      <td>-5.294260e+00</td>\n",
       "      <td>-2.834650e+00</td>\n",
       "      <td>-4.008595e+00</td>\n",
       "      <td>-4.222083e+00</td>\n",
       "      <td>-4.748973e+00</td>\n",
       "      <td>-1.054141e+00</td>\n",
       "      <td>-9.229246e+00</td>\n",
       "      <td>-2.219011e+00</td>\n",
       "      <td>-2.111019e+00</td>\n",
       "      <td>-1.334673e+00</td>\n",
       "      <td>...</td>\n",
       "      <td>-1.640443</td>\n",
       "      <td>-1.325878e+00</td>\n",
       "      <td>-1.121893e+00</td>\n",
       "      <td>-2.257098e+00</td>\n",
       "      <td>-9.390906e-01</td>\n",
       "      <td>-9.759503e-01</td>\n",
       "      <td>-4.454100e-02</td>\n",
       "      <td>-1.267167e+00</td>\n",
       "      <td>-4.495869e-01</td>\n",
       "      <td>-0.406525</td>\n",
       "    </tr>\n",
       "    <tr>\n",
       "      <th>25%</th>\n",
       "      <td>-6.008131e-01</td>\n",
       "      <td>-7.699922e-01</td>\n",
       "      <td>-5.430713e-01</td>\n",
       "      <td>-4.408482e-01</td>\n",
       "      <td>-7.471047e-01</td>\n",
       "      <td>-5.860715e-01</td>\n",
       "      <td>-4.136349e-01</td>\n",
       "      <td>-7.283617e-01</td>\n",
       "      <td>-6.488856e-01</td>\n",
       "      <td>-4.940452e-01</td>\n",
       "      <td>...</td>\n",
       "      <td>-0.638641</td>\n",
       "      <td>-5.802065e-01</td>\n",
       "      <td>-4.798095e-01</td>\n",
       "      <td>-7.659479e-01</td>\n",
       "      <td>-9.390906e-01</td>\n",
       "      <td>-6.706519e-01</td>\n",
       "      <td>-4.454100e-02</td>\n",
       "      <td>-6.040523e-01</td>\n",
       "      <td>-3.353640e-01</td>\n",
       "      <td>-0.156246</td>\n",
       "    </tr>\n",
       "    <tr>\n",
       "      <th>50%</th>\n",
       "      <td>-3.191041e-02</td>\n",
       "      <td>-1.800899e-01</td>\n",
       "      <td>1.648393e-01</td>\n",
       "      <td>1.806939e-01</td>\n",
       "      <td>-8.619563e-02</td>\n",
       "      <td>-2.279142e-01</td>\n",
       "      <td>1.620469e-01</td>\n",
       "      <td>-1.603566e-02</td>\n",
       "      <td>-1.871591e-01</td>\n",
       "      <td>-2.992408e-01</td>\n",
       "      <td>...</td>\n",
       "      <td>-0.296275</td>\n",
       "      <td>-2.247055e-01</td>\n",
       "      <td>-2.020009e-01</td>\n",
       "      <td>1.273850e-01</td>\n",
       "      <td>1.938289e-03</td>\n",
       "      <td>-3.838808e-01</td>\n",
       "      <td>-4.454100e-02</td>\n",
       "      <td>-2.858035e-01</td>\n",
       "      <td>-2.927038e-01</td>\n",
       "      <td>-0.081173</td>\n",
       "    </tr>\n",
       "    <tr>\n",
       "      <th>75%</th>\n",
       "      <td>6.792180e-01</td>\n",
       "      <td>6.064464e-01</td>\n",
       "      <td>7.456539e-01</td>\n",
       "      <td>6.757060e-01</td>\n",
       "      <td>7.385035e-01</td>\n",
       "      <td>2.958899e-01</td>\n",
       "      <td>6.373229e-01</td>\n",
       "      <td>6.286729e-01</td>\n",
       "      <td>4.284762e-01</td>\n",
       "      <td>1.508023e-01</td>\n",
       "      <td>...</td>\n",
       "      <td>0.293169</td>\n",
       "      <td>3.903167e-01</td>\n",
       "      <td>2.186170e-01</td>\n",
       "      <td>1.104206e+00</td>\n",
       "      <td>6.706672e-01</td>\n",
       "      <td>3.150948e-01</td>\n",
       "      <td>-4.454100e-02</td>\n",
       "      <td>3.101898e-01</td>\n",
       "      <td>-1.354250e-01</td>\n",
       "      <td>0.006301</td>\n",
       "    </tr>\n",
       "    <tr>\n",
       "      <th>max</th>\n",
       "      <td>2.243700e+00</td>\n",
       "      <td>4.440811e+00</td>\n",
       "      <td>1.764931e+00</td>\n",
       "      <td>1.986366e+00</td>\n",
       "      <td>2.490292e+00</td>\n",
       "      <td>1.629034e+01</td>\n",
       "      <td>2.157813e+00</td>\n",
       "      <td>6.885728e+00</td>\n",
       "      <td>5.507468e+00</td>\n",
       "      <td>6.791979e+00</td>\n",
       "      <td>...</td>\n",
       "      <td>5.453755</td>\n",
       "      <td>1.053387e+01</td>\n",
       "      <td>1.479130e+01</td>\n",
       "      <td>1.104206e+00</td>\n",
       "      <td>6.549158e+00</td>\n",
       "      <td>5.574250e+00</td>\n",
       "      <td>3.275828e+01</td>\n",
       "      <td>1.212706e+01</td>\n",
       "      <td>8.910790e+00</td>\n",
       "      <td>21.840752</td>\n",
       "    </tr>\n",
       "  </tbody>\n",
       "</table>\n",
       "<p>8 rows × 58 columns</p>\n",
       "</div>"
      ],
      "text/plain": [
       "       min_calliper  max_calliper  smallest_largest_calliper    min_radius  \\\n",
       "count  1.141000e+03  1.141000e+03               1.141000e+03  1.141000e+03   \n",
       "mean   4.608253e-16  1.245474e-16               3.985516e-16  4.981895e-17   \n",
       "std    1.000439e+00  1.000439e+00               1.000439e+00  1.000439e+00   \n",
       "min   -5.294260e+00 -2.834650e+00              -4.008595e+00 -4.222083e+00   \n",
       "25%   -6.008131e-01 -7.699922e-01              -5.430713e-01 -4.408482e-01   \n",
       "50%   -3.191041e-02 -1.800899e-01               1.648393e-01  1.806939e-01   \n",
       "75%    6.792180e-01  6.064464e-01               7.456539e-01  6.757060e-01   \n",
       "max    2.243700e+00  4.440811e+00               1.764931e+00  1.986366e+00   \n",
       "\n",
       "         med_radius     concavity   area_bbarea  std_curvature  \\\n",
       "count  1.141000e+03  1.141000e+03  1.141000e+03   1.141000e+03   \n",
       "mean  -1.120926e-16 -2.490947e-17  1.918029e-15  -6.601011e-16   \n",
       "std    1.000439e+00  1.000439e+00  1.000439e+00   1.000439e+00   \n",
       "min   -4.748973e+00 -1.054141e+00 -9.229246e+00  -2.219011e+00   \n",
       "25%   -7.471047e-01 -5.860715e-01 -4.136349e-01  -7.283617e-01   \n",
       "50%   -8.619563e-02 -2.279142e-01  1.620469e-01  -1.603566e-02   \n",
       "75%    7.385035e-01  2.958899e-01  6.373229e-01   6.286729e-01   \n",
       "max    2.490292e+00  1.629034e+01  2.157813e+00   6.885728e+00   \n",
       "\n",
       "       npolarity_changes  max_posi_curv  ...  q75_dna_3d_int  \\\n",
       "count       1.141000e+03   1.141000e+03  ...     1141.000000   \n",
       "mean       -1.619116e-16   3.238232e-16  ...        0.000000   \n",
       "std         1.000439e+00   1.000439e+00  ...        1.000439   \n",
       "min        -2.111019e+00  -1.334673e+00  ...       -1.640443   \n",
       "25%        -6.488856e-01  -4.940452e-01  ...       -0.638641   \n",
       "50%        -1.871591e-01  -2.992408e-01  ...       -0.296275   \n",
       "75%         4.284762e-01   1.508023e-01  ...        0.293169   \n",
       "max         5.507468e+00   6.791979e+00  ...        5.453755   \n",
       "\n",
       "       rel_gh2ax_2d_int  min_gh2ax_2d_int  max_gh2ax_2d_int  q25_gh2ax_2d_int  \\\n",
       "count      1.141000e+03      1.141000e+03      1.141000e+03      1.141000e+03   \n",
       "mean       3.736421e-17     -1.245474e-17      7.472842e-17      6.227368e-17   \n",
       "std        1.000439e+00      1.000439e+00      1.000439e+00      1.000439e+00   \n",
       "min       -1.325878e+00     -1.121893e+00     -2.257098e+00     -9.390906e-01   \n",
       "25%       -5.802065e-01     -4.798095e-01     -7.659479e-01     -9.390906e-01   \n",
       "50%       -2.247055e-01     -2.020009e-01      1.273850e-01      1.938289e-03   \n",
       "75%        3.903167e-01      2.186170e-01      1.104206e+00      6.706672e-01   \n",
       "max        1.053387e+01      1.479130e+01      1.104206e+00      6.549158e+00   \n",
       "\n",
       "       kurtosis_gh2ax_2d_int  q25_gh2ax_3d_int  q75_gh2ax_3d_int  \\\n",
       "count           1.141000e+03      1.141000e+03      1.141000e+03   \n",
       "mean           -2.490947e-17      3.113684e-18     -4.981895e-17   \n",
       "std             1.000439e+00      1.000439e+00      1.000439e+00   \n",
       "min            -9.759503e-01     -4.454100e-02     -1.267167e+00   \n",
       "25%            -6.706519e-01     -4.454100e-02     -6.040523e-01   \n",
       "50%            -3.838808e-01     -4.454100e-02     -2.858035e-01   \n",
       "75%             3.150948e-01     -4.454100e-02      3.101898e-01   \n",
       "max             5.574250e+00      3.275828e+01      1.212706e+01   \n",
       "\n",
       "       rel_lamin_2d_int  kurtosis_lamin_2d_int  \n",
       "count      1.141000e+03            1141.000000  \n",
       "mean      -1.245474e-16               0.000000  \n",
       "std        1.000439e+00               1.000439  \n",
       "min       -4.495869e-01              -0.406525  \n",
       "25%       -3.353640e-01              -0.156246  \n",
       "50%       -2.927038e-01              -0.081173  \n",
       "75%       -1.354250e-01               0.006301  \n",
       "max        8.910790e+00              21.840752  \n",
       "\n",
       "[8 rows x 58 columns]"
      ]
     },
     "execution_count": 148,
     "metadata": {},
     "output_type": "execute_result"
    },
    {
     "data": {
      "application/javascript": [
       "\n",
       "            setTimeout(function() {\n",
       "                var nbb_cell_id = 148;\n",
       "                var nbb_unformatted_code = \"features_sc = pd.DataFrame(\\n    StandardScaler().fit_transform(features),\\n    index=features.index,\\n    columns=features.columns,\\n)\\nfeatures_sc.describe()\";\n",
       "                var nbb_formatted_code = \"features_sc = pd.DataFrame(\\n    StandardScaler().fit_transform(features),\\n    index=features.index,\\n    columns=features.columns,\\n)\\nfeatures_sc.describe()\";\n",
       "                var nbb_cells = Jupyter.notebook.get_cells();\n",
       "                for (var i = 0; i < nbb_cells.length; ++i) {\n",
       "                    if (nbb_cells[i].input_prompt_number == nbb_cell_id) {\n",
       "                        if (nbb_cells[i].get_text() == nbb_unformatted_code) {\n",
       "                             nbb_cells[i].set_text(nbb_formatted_code);\n",
       "                        }\n",
       "                        break;\n",
       "                    }\n",
       "                }\n",
       "            }, 500);\n",
       "            "
      ],
      "text/plain": [
       "<IPython.core.display.Javascript object>"
      ]
     },
     "metadata": {},
     "output_type": "display_data"
    }
   ],
   "source": [
    "features_sc = pd.DataFrame(\n",
    "    StandardScaler().fit_transform(features),\n",
    "    index=features.index,\n",
    "    columns=features.columns,\n",
    ")\n",
    "features_sc.describe()"
   ]
  },
  {
   "cell_type": "markdown",
   "id": "stopped-portal",
   "metadata": {},
   "source": [
    "Next, we compute the TSNE."
   ]
  },
  {
   "cell_type": "code",
   "execution_count": 149,
   "id": "destroyed-trail",
   "metadata": {},
   "outputs": [
    {
     "data": {
      "application/javascript": [
       "\n",
       "            setTimeout(function() {\n",
       "                var nbb_cell_id = 149;\n",
       "                var nbb_unformatted_code = \"tsne = TSNE(random_state=seed)\\ntsne_embs = tsne.fit_transform(features_sc)\\ntsne_embs = pd.DataFrame(\\n    tsne_embs, columns=[\\\"tsne_0\\\", \\\"tsne_1\\\"], index=features_sc.index\\n)\\ntsne_embs.loc[:, \\\"sample\\\"] = np.array(data.loc[tsne_embs.index, \\\"sample\\\"])\\ntsne_embs.loc[:, \\\"condition\\\"] = np.array(data.loc[tsne_embs.index, \\\"condition\\\"])\";\n",
       "                var nbb_formatted_code = \"tsne = TSNE(random_state=seed)\\ntsne_embs = tsne.fit_transform(features_sc)\\ntsne_embs = pd.DataFrame(\\n    tsne_embs, columns=[\\\"tsne_0\\\", \\\"tsne_1\\\"], index=features_sc.index\\n)\\ntsne_embs.loc[:, \\\"sample\\\"] = np.array(data.loc[tsne_embs.index, \\\"sample\\\"])\\ntsne_embs.loc[:, \\\"condition\\\"] = np.array(data.loc[tsne_embs.index, \\\"condition\\\"])\";\n",
       "                var nbb_cells = Jupyter.notebook.get_cells();\n",
       "                for (var i = 0; i < nbb_cells.length; ++i) {\n",
       "                    if (nbb_cells[i].input_prompt_number == nbb_cell_id) {\n",
       "                        if (nbb_cells[i].get_text() == nbb_unformatted_code) {\n",
       "                             nbb_cells[i].set_text(nbb_formatted_code);\n",
       "                        }\n",
       "                        break;\n",
       "                    }\n",
       "                }\n",
       "            }, 500);\n",
       "            "
      ],
      "text/plain": [
       "<IPython.core.display.Javascript object>"
      ]
     },
     "metadata": {},
     "output_type": "display_data"
    }
   ],
   "source": [
    "tsne = TSNE(random_state=seed)\n",
    "tsne_embs = tsne.fit_transform(features_sc)\n",
    "tsne_embs = pd.DataFrame(\n",
    "    tsne_embs, columns=[\"tsne_0\", \"tsne_1\"], index=features_sc.index\n",
    ")\n",
    "tsne_embs.loc[:, \"sample\"] = np.array(data.loc[tsne_embs.index, \"sample\"])\n",
    "tsne_embs.loc[:, \"condition\"] = np.array(data.loc[tsne_embs.index, \"condition\"])"
   ]
  },
  {
   "cell_type": "code",
   "execution_count": 150,
   "id": "olympic-tissue",
   "metadata": {},
   "outputs": [
    {
     "data": {
      "image/png": "[encoded data removed]",
      "text/plain": [
       "<Figure size 576x432 with 1 Axes>"
      ]
     },
     "metadata": {
      "needs_background": "light"
     },
     "output_type": "display_data"
    },
    {
     "data": {
      "application/javascript": [
       "\n",
       "            setTimeout(function() {\n",
       "                var nbb_cell_id = 150;\n",
       "                var nbb_unformatted_code = \"fig, ax = plt.subplots(figsize=[8, 6])\\nax = sns.scatterplot(data=tsne_embs, x=\\\"tsne_0\\\", y=\\\"tsne_1\\\", hue=\\\"condition\\\", ax=ax)\\nplt.title(\\\"TSNE of the nuclei by condition\\\")\\nplt.show()\";\n",
       "                var nbb_formatted_code = \"fig, ax = plt.subplots(figsize=[8, 6])\\nax = sns.scatterplot(data=tsne_embs, x=\\\"tsne_0\\\", y=\\\"tsne_1\\\", hue=\\\"condition\\\", ax=ax)\\nplt.title(\\\"TSNE of the nuclei by condition\\\")\\nplt.show()\";\n",
       "                var nbb_cells = Jupyter.notebook.get_cells();\n",
       "                for (var i = 0; i < nbb_cells.length; ++i) {\n",
       "                    if (nbb_cells[i].input_prompt_number == nbb_cell_id) {\n",
       "                        if (nbb_cells[i].get_text() == nbb_unformatted_code) {\n",
       "                             nbb_cells[i].set_text(nbb_formatted_code);\n",
       "                        }\n",
       "                        break;\n",
       "                    }\n",
       "                }\n",
       "            }, 500);\n",
       "            "
      ],
      "text/plain": [
       "<IPython.core.display.Javascript object>"
      ]
     },
     "metadata": {},
     "output_type": "display_data"
    }
   ],
   "source": [
    "fig, ax = plt.subplots(figsize=[8, 6])\n",
    "ax = sns.scatterplot(data=tsne_embs, x=\"tsne_0\", y=\"tsne_1\", hue=\"condition\", ax=ax)\n",
    "plt.title(\"TSNE of the nuclei by condition\")\n",
    "plt.show()"
   ]
  },
  {
   "cell_type": "markdown",
   "id": "latest-allen",
   "metadata": {},
   "source": [
    "As you can see the blood cells before the first treatment are very different from those of the healthy control population. Interestingly the samples from the intermediate time point of the treament and the post-treatment time point are somewhat in the middle of the those two. This suggests that the treatment-induced reduction of the cancer signal is reflected in the state of the PBMCs. However, we see that the cells from the post-treatment time point are not necessarly closer clustering with the healthy population but seem to be well spread out in the whole space of the PBMCs. This could be for instance due to toxicity of the treatment."
   ]
  },
  {
   "cell_type": "markdown",
   "id": "soviet-burst",
   "metadata": {},
   "source": [
    "---\n",
    "\n",
    "## 4. Separability of the time points\n",
    "\n",
    "Next, we will look more into the differences of the PBMC phenotypes at the different time points of the treatment in comparison to the healthy controls. To this end, we will train a RandomForest classifier model on distinguishing between the different data conditions."
   ]
  },
  {
   "cell_type": "markdown",
   "id": "proof-proxy",
   "metadata": {},
   "source": [
    "To this end, we perform a 10-fold Stratified cross-validation approach and look at the average confusion matrix of the individual folds."
   ]
  },
  {
   "cell_type": "code",
   "execution_count": 177,
   "id": "massive-phase",
   "metadata": {},
   "outputs": [
    {
     "data": {
      "application/javascript": [
       "\n",
       "            setTimeout(function() {\n",
       "                var nbb_cell_id = 177;\n",
       "                var nbb_unformatted_code = \"rfc = RandomForestClassifier(n_estimators=500, n_jobs=10, random_state=seed, class_weight=\\\"balanced\\\")\\navg_conf_mtx = compute_avg_conf_mtx(\\n    model=rfc, n_folds=10, features=features_sc, labels=condition_labels\\n)\";\n",
       "                var nbb_formatted_code = \"rfc = RandomForestClassifier(\\n    n_estimators=500, n_jobs=10, random_state=seed, class_weight=\\\"balanced\\\"\\n)\\navg_conf_mtx = compute_avg_conf_mtx(\\n    model=rfc, n_folds=10, features=features_sc, labels=condition_labels\\n)\";\n",
       "                var nbb_cells = Jupyter.notebook.get_cells();\n",
       "                for (var i = 0; i < nbb_cells.length; ++i) {\n",
       "                    if (nbb_cells[i].input_prompt_number == nbb_cell_id) {\n",
       "                        if (nbb_cells[i].get_text() == nbb_unformatted_code) {\n",
       "                             nbb_cells[i].set_text(nbb_formatted_code);\n",
       "                        }\n",
       "                        break;\n",
       "                    }\n",
       "                }\n",
       "            }, 500);\n",
       "            "
      ],
      "text/plain": [
       "<IPython.core.display.Javascript object>"
      ]
     },
     "metadata": {},
     "output_type": "display_data"
    }
   ],
   "source": [
    "rfc = RandomForestClassifier(\n",
    "    n_estimators=500, n_jobs=10, random_state=seed, class_weight=\"balanced\"\n",
    ")\n",
    "avg_conf_mtx = compute_avg_conf_mtx(\n",
    "    model=rfc, n_folds=10, features=features_sc, labels=condition_labels\n",
    ")"
   ]
  },
  {
   "cell_type": "code",
   "execution_count": 178,
   "id": "nominated-carnival",
   "metadata": {},
   "outputs": [
    {
     "data": {
      "image/png": "[encoded data removed]",
      "text/plain": [
       "<Figure size 432x288 with 2 Axes>"
      ]
     },
     "metadata": {
      "needs_background": "light"
     },
     "output_type": "display_data"
    },
    {
     "data": {
      "application/javascript": [
       "\n",
       "            setTimeout(function() {\n",
       "                var nbb_cell_id = 178;\n",
       "                var nbb_unformatted_code = \"fig, ax = plt.subplots(figsize=[6, 4])\\nax = sns.heatmap(avg_confusion_matrix, annot=True, cmap=\\\"viridis\\\", ax=ax)\\nax.set_xlabel(\\\"Predicted\\\")\\nax.set_ylabel(\\\"True\\\")\\nplt.title(\\\"Average confusion matrix from {}-fold stratified CV\\\".format(10))\\nplt.show()\";\n",
       "                var nbb_formatted_code = \"fig, ax = plt.subplots(figsize=[6, 4])\\nax = sns.heatmap(avg_confusion_matrix, annot=True, cmap=\\\"viridis\\\", ax=ax)\\nax.set_xlabel(\\\"Predicted\\\")\\nax.set_ylabel(\\\"True\\\")\\nplt.title(\\\"Average confusion matrix from {}-fold stratified CV\\\".format(10))\\nplt.show()\";\n",
       "                var nbb_cells = Jupyter.notebook.get_cells();\n",
       "                for (var i = 0; i < nbb_cells.length; ++i) {\n",
       "                    if (nbb_cells[i].input_prompt_number == nbb_cell_id) {\n",
       "                        if (nbb_cells[i].get_text() == nbb_unformatted_code) {\n",
       "                             nbb_cells[i].set_text(nbb_formatted_code);\n",
       "                        }\n",
       "                        break;\n",
       "                    }\n",
       "                }\n",
       "            }, 500);\n",
       "            "
      ],
      "text/plain": [
       "<IPython.core.display.Javascript object>"
      ]
     },
     "metadata": {},
     "output_type": "display_data"
    }
   ],
   "source": [
    "fig, ax = plt.subplots(figsize=[6, 4])\n",
    "ax = sns.heatmap(avg_confusion_matrix, annot=True, cmap=\"viridis\", ax=ax)\n",
    "ax.set_xlabel(\"Predicted\")\n",
    "ax.set_ylabel(\"True\")\n",
    "plt.title(\"Average confusion matrix from {}-fold stratified CV\".format(10))\n",
    "plt.show()"
   ]
  },
  {
   "cell_type": "markdown",
   "id": "signal-universal",
   "metadata": {},
   "source": [
    "The confusion matrix further emphasizes the previous statements. We see that overall each time point is relatively distinct from the other and from the negative control. However, for the later time points (intermediate and post-treatment) the phenotypes of the models become more heterogenous some showing features more similar to the healthy control especially for the intermediate time point that is visible. Whereas, for the later we see a relative uniform distribution of the predicted classes for the missclassified samples."
   ]
  },
  {
   "cell_type": "code",
   "execution_count": 185,
   "id": "worthy-smile",
   "metadata": {},
   "outputs": [
    {
     "data": {
      "image/png": "[encoded data removed]",
      "text/plain": [
       "<Figure size 576x432 with 1 Axes>"
      ]
     },
     "metadata": {
      "needs_background": "light"
     },
     "output_type": "display_data"
    },
    {
     "data": {
      "application/javascript": [
       "\n",
       "            setTimeout(function() {\n",
       "                var nbb_cell_id = 185;\n",
       "                var nbb_unformatted_code = \"rfc = rfc.fit(features_sc, condition_labels)\\nplot_feature_importance(rfc.feature_importances_, features_sc.columns, \\\"RFC \\\")\";\n",
       "                var nbb_formatted_code = \"rfc = rfc.fit(features_sc, condition_labels)\\nplot_feature_importance(rfc.feature_importances_, features_sc.columns, \\\"RFC \\\")\";\n",
       "                var nbb_cells = Jupyter.notebook.get_cells();\n",
       "                for (var i = 0; i < nbb_cells.length; ++i) {\n",
       "                    if (nbb_cells[i].input_prompt_number == nbb_cell_id) {\n",
       "                        if (nbb_cells[i].get_text() == nbb_unformatted_code) {\n",
       "                             nbb_cells[i].set_text(nbb_formatted_code);\n",
       "                        }\n",
       "                        break;\n",
       "                    }\n",
       "                }\n",
       "            }, 500);\n",
       "            "
      ],
      "text/plain": [
       "<IPython.core.display.Javascript object>"
      ]
     },
     "metadata": {},
     "output_type": "display_data"
    }
   ],
   "source": [
    "rfc = rfc.fit(features_sc, condition_labels)\n",
    "plot_feature_importance(rfc.feature_importances_, features_sc.columns, \"RFC \")"
   ]
  },
  {
   "cell_type": "markdown",
   "id": "necessary-number",
   "metadata": {},
   "source": [
    "When we look at the features that got the highest importance we see that many of these are related to intensity features of the protein and 2D projected DAPI channel. Additionally some structural features like the equivalent diameter and the curvature are changing."
   ]
  },
  {
   "cell_type": "code",
   "execution_count": 196,
   "id": "patient-messaging",
   "metadata": {},
   "outputs": [
    {
     "data": {
      "image/png": "[encoded data removed]",
      "text/plain": [
       "<Figure size 432x288 with 1 Axes>"
      ]
     },
     "metadata": {
      "needs_background": "light"
     },
     "output_type": "display_data"
    },
    {
     "data": {
      "application/javascript": [
       "\n",
       "            setTimeout(function() {\n",
       "                var nbb_cell_id = 196;\n",
       "                var nbb_unformatted_code = \"fig, ax = plt.subplots(figsize=[6, 4])\\nsns.boxplot(data=data, x=\\\"condition\\\", y=\\\"std_curvature\\\", ax=ax)\\nadd_stat_annotation(\\n    ax,\\n    data=data,\\n    x=\\\"condition\\\",\\n    y=\\\"std_curvature\\\",\\n    box_pairs=[\\n        (\\\"ctrl\\\", \\\"tp1\\\"),\\n        (\\\"ctrl\\\", \\\"tp2\\\"),\\n        (\\\"ctrl\\\", \\\"tp3\\\"),\\n        (\\\"tp1\\\", \\\"tp2\\\"),\\n        (\\\"tp1\\\", \\\"tp3\\\"),\\n        (\\\"tp2\\\", \\\"tp3\\\"),\\n    ],\\n    test=\\\"Mann-Whitney\\\",\\n    loc=\\\"inside\\\",\\n    verbose=0,\\n)\\nplt.show()\";\n",
       "                var nbb_formatted_code = \"fig, ax = plt.subplots(figsize=[6, 4])\\nsns.boxplot(data=data, x=\\\"condition\\\", y=\\\"std_curvature\\\", ax=ax)\\nadd_stat_annotation(\\n    ax,\\n    data=data,\\n    x=\\\"condition\\\",\\n    y=\\\"std_curvature\\\",\\n    box_pairs=[\\n        (\\\"ctrl\\\", \\\"tp1\\\"),\\n        (\\\"ctrl\\\", \\\"tp2\\\"),\\n        (\\\"ctrl\\\", \\\"tp3\\\"),\\n        (\\\"tp1\\\", \\\"tp2\\\"),\\n        (\\\"tp1\\\", \\\"tp3\\\"),\\n        (\\\"tp2\\\", \\\"tp3\\\"),\\n    ],\\n    test=\\\"Mann-Whitney\\\",\\n    loc=\\\"inside\\\",\\n    verbose=0,\\n)\\nplt.show()\";\n",
       "                var nbb_cells = Jupyter.notebook.get_cells();\n",
       "                for (var i = 0; i < nbb_cells.length; ++i) {\n",
       "                    if (nbb_cells[i].input_prompt_number == nbb_cell_id) {\n",
       "                        if (nbb_cells[i].get_text() == nbb_unformatted_code) {\n",
       "                             nbb_cells[i].set_text(nbb_formatted_code);\n",
       "                        }\n",
       "                        break;\n",
       "                    }\n",
       "                }\n",
       "            }, 500);\n",
       "            "
      ],
      "text/plain": [
       "<IPython.core.display.Javascript object>"
      ]
     },
     "metadata": {},
     "output_type": "display_data"
    }
   ],
   "source": [
    "fig, ax = plt.subplots(figsize=[6, 4])\n",
    "sns.boxplot(data=data, x=\"condition\", y=\"std_curvature\", ax=ax)\n",
    "add_stat_annotation(\n",
    "    ax,\n",
    "    data=data,\n",
    "    x=\"condition\",\n",
    "    y=\"std_curvature\",\n",
    "    box_pairs=[\n",
    "        (\"ctrl\", \"tp1\"),\n",
    "        (\"ctrl\", \"tp2\"),\n",
    "        (\"ctrl\", \"tp3\"),\n",
    "        (\"tp1\", \"tp2\"),\n",
    "        (\"tp1\", \"tp3\"),\n",
    "        (\"tp2\", \"tp3\"),\n",
    "    ],\n",
    "    test=\"Mann-Whitney\",\n",
    "    loc=\"inside\",\n",
    "    verbose=0,\n",
    ")\n",
    "plt.show()"
   ]
  },
  {
   "cell_type": "code",
   "execution_count": 225,
   "id": "broadband-costume",
   "metadata": {},
   "outputs": [
    {
     "data": {
      "text/plain": [
       "['min_calliper',\n",
       " 'max_calliper',\n",
       " 'smallest_largest_calliper',\n",
       " 'min_radius',\n",
       " 'max_radius',\n",
       " 'med_radius',\n",
       " 'avg_radius',\n",
       " 'mode_radius',\n",
       " 'd25_radius',\n",
       " 'd75_radius',\n",
       " 'std_radius',\n",
       " 'feret_max',\n",
       " 'area',\n",
       " 'perimeter',\n",
       " 'bbox_area',\n",
       " 'convex_area',\n",
       " 'equivalent_diameter',\n",
       " 'major_axis_length',\n",
       " 'minor_axis_length',\n",
       " 'eccentricity',\n",
       " 'concavity',\n",
       " 'solidity',\n",
       " 'a_r',\n",
       " 'shape_factor',\n",
       " 'area_bbarea',\n",
       " 'avg_curvature',\n",
       " 'std_curvature',\n",
       " 'npolarity_changes',\n",
       " 'max_posi_curv',\n",
       " 'avg_posi_curv',\n",
       " 'med_posi_curv',\n",
       " 'std_posi_curv',\n",
       " 'sum_posi_curv',\n",
       " 'len_posi_curv',\n",
       " 'max_neg_curv',\n",
       " 'avg_neg_curv',\n",
       " 'med_neg_curv',\n",
       " 'std_neg_curv',\n",
       " 'sum_neg_curv',\n",
       " 'len_neg_curv',\n",
       " 'num_prominant_pos_curv',\n",
       " 'prominance_prominant_pos_curv',\n",
       " 'width_prominant_pos_curv',\n",
       " 'prominant_pos_curv',\n",
       " 'num_prominant_neg_curv',\n",
       " 'prominance_prominant_neg_curv',\n",
       " 'width_prominant_neg_curv',\n",
       " 'prominant_neg_curv',\n",
       " 'frac_peri_w_posi_curvature',\n",
       " 'frac_peri_w_neg_curvature',\n",
       " 'frac_peri_w_polarity_changes',\n",
       " 'int_min',\n",
       " 'int_d25',\n",
       " 'int_median',\n",
       " 'int_d75',\n",
       " 'int_max',\n",
       " 'int_mean',\n",
       " 'int_mode',\n",
       " 'int_sd',\n",
       " 'kurtosis',\n",
       " 'skewness',\n",
       " 'entropy',\n",
       " 'i80_i20',\n",
       " 'nhigh_nlow',\n",
       " 'hc_area_ec_area',\n",
       " 'hc_area_nuc_area',\n",
       " 'hc_content_ec_content',\n",
       " 'hc_content_dna_content',\n",
       " 'contrast_5',\n",
       " 'contrast_25',\n",
       " 'contrast_100',\n",
       " 'dissimilarity_5',\n",
       " 'dissimilarity_25',\n",
       " 'dissimilarity_100',\n",
       " 'homogeneity_5',\n",
       " 'homogeneity_25',\n",
       " 'homogeneity_100',\n",
       " 'asm_5',\n",
       " 'asm_25',\n",
       " 'asm_100',\n",
       " 'energy_5',\n",
       " 'energy_25',\n",
       " 'energy_100',\n",
       " 'correlation_5',\n",
       " 'correlation_25',\n",
       " 'correlation_100',\n",
       " 'weighted_moments-0-0',\n",
       " 'weighted_moments-0-1',\n",
       " 'weighted_moments-0-2',\n",
       " 'weighted_moments-0-3',\n",
       " 'weighted_moments-1-0',\n",
       " 'weighted_moments-1-1',\n",
       " 'weighted_moments-1-2',\n",
       " 'weighted_moments-1-3',\n",
       " 'weighted_moments-2-0',\n",
       " 'weighted_moments-2-1',\n",
       " 'weighted_moments-2-2',\n",
       " 'weighted_moments-2-3',\n",
       " 'weighted_moments-3-0',\n",
       " 'weighted_moments-3-1',\n",
       " 'weighted_moments-3-2',\n",
       " 'weighted_moments-3-3',\n",
       " 'weighted_moments_normalized-0-2',\n",
       " 'weighted_moments_normalized-0-3',\n",
       " 'weighted_moments_normalized-1-1',\n",
       " 'weighted_moments_normalized-1-2',\n",
       " 'weighted_moments_normalized-1-3',\n",
       " 'weighted_moments_normalized-2-0',\n",
       " 'weighted_moments_normalized-2-1',\n",
       " 'weighted_moments_normalized-2-2',\n",
       " 'weighted_moments_normalized-2-3',\n",
       " 'weighted_moments_normalized-3-0',\n",
       " 'weighted_moments_normalized-3-1',\n",
       " 'weighted_moments_normalized-3-2',\n",
       " 'weighted_moments_normalized-3-3',\n",
       " 'weighted_moments_central-0-0',\n",
       " 'weighted_moments_central-0-1',\n",
       " 'weighted_moments_central-0-2',\n",
       " 'weighted_moments_central-0-3',\n",
       " 'weighted_moments_central-1-0',\n",
       " 'weighted_moments_central-1-1',\n",
       " 'weighted_moments_central-1-2',\n",
       " 'weighted_moments_central-1-3',\n",
       " 'weighted_moments_central-2-0',\n",
       " 'weighted_moments_central-2-1',\n",
       " 'weighted_moments_central-2-2',\n",
       " 'weighted_moments_central-2-3',\n",
       " 'weighted_moments_central-3-0',\n",
       " 'weighted_moments_central-3-1',\n",
       " 'weighted_moments_central-3-2',\n",
       " 'weighted_moments_central-3-3',\n",
       " 'weighted_moments_hu-0',\n",
       " 'weighted_moments_hu-1',\n",
       " 'weighted_moments_hu-2',\n",
       " 'weighted_moments_hu-3',\n",
       " 'weighted_moments_hu-4',\n",
       " 'weighted_moments_hu-5',\n",
       " 'weighted_moments_hu-6',\n",
       " 'moments-0-0',\n",
       " 'moments-0-1',\n",
       " 'moments-0-2',\n",
       " 'moments-0-3',\n",
       " 'moments-1-0',\n",
       " 'moments-1-1',\n",
       " 'moments-1-2',\n",
       " 'moments-1-3',\n",
       " 'moments-2-0',\n",
       " 'moments-2-1',\n",
       " 'moments-2-2',\n",
       " 'moments-2-3',\n",
       " 'moments-3-0',\n",
       " 'moments-3-1',\n",
       " 'moments-3-2',\n",
       " 'moments-3-3',\n",
       " 'moments_normalized-0-2',\n",
       " 'moments_normalized-0-3',\n",
       " 'moments_normalized-1-1',\n",
       " 'moments_normalized-1-2',\n",
       " 'moments_normalized-1-3',\n",
       " 'moments_normalized-2-0',\n",
       " 'moments_normalized-2-1',\n",
       " 'moments_normalized-2-2',\n",
       " 'moments_normalized-2-3',\n",
       " 'moments_normalized-3-0',\n",
       " 'moments_normalized-3-1',\n",
       " 'moments_normalized-3-2',\n",
       " 'moments_normalized-3-3',\n",
       " 'moments_central-0-0',\n",
       " 'moments_central-0-1',\n",
       " 'moments_central-0-2',\n",
       " 'moments_central-0-3',\n",
       " 'moments_central-1-0',\n",
       " 'moments_central-1-1',\n",
       " 'moments_central-1-2',\n",
       " 'moments_central-1-3',\n",
       " 'moments_central-2-0',\n",
       " 'moments_central-2-1',\n",
       " 'moments_central-2-2',\n",
       " 'moments_central-2-3',\n",
       " 'moments_central-3-0',\n",
       " 'moments_central-3-1',\n",
       " 'moments_central-3-2',\n",
       " 'moments_central-3-3',\n",
       " 'moments_hu-0',\n",
       " 'moments_hu-1',\n",
       " 'moments_hu-2',\n",
       " 'moments_hu-3',\n",
       " 'moments_hu-4',\n",
       " 'moments_hu-5',\n",
       " 'moments_hu-6',\n",
       " 'equivalent_diameter.1',\n",
       " 'extent',\n",
       " 'major_axis_length.1',\n",
       " 'minor_axis_length.1',\n",
       " 'solidity.1',\n",
       " 'nuclear_volume',\n",
       " 'convex_hull_vol',\n",
       " 'concavity_3d',\n",
       " 'rel_hc_volume',\n",
       " 'rel_ec_volume',\n",
       " 'hc_ec_ratio_3d',\n",
       " 'nuclear_mean_int',\n",
       " 'nuclear_std_int',\n",
       " 'rdp_1',\n",
       " 'rdp_2',\n",
       " 'rdp_3',\n",
       " 'rdp_4',\n",
       " 'rdp_5',\n",
       " 'rdp_6',\n",
       " 'rdp_7',\n",
       " 'rdp_8',\n",
       " 'rel_dna_3d_int',\n",
       " 'min_dna_3d_int',\n",
       " 'max_dna_3d_int',\n",
       " 'mean_dna_3d_int',\n",
       " 'std_dna_3d_int',\n",
       " 'q25_dna_3d_int',\n",
       " 'q75_dna_3d_int',\n",
       " 'median_dna_3d_int',\n",
       " 'kurtosis_dna_3d_int',\n",
       " 'skewness_dna_3d_int',\n",
       " 'rel_gh2ax_2d_int',\n",
       " 'min_gh2ax_2d_int',\n",
       " 'max_gh2ax_2d_int',\n",
       " 'mean_gh2ax_2d_int',\n",
       " 'std_gh2ax_2d_int',\n",
       " 'q25_gh2ax_2d_int',\n",
       " 'q75_gh2ax_2d_int',\n",
       " 'median_gh2ax_2d_int',\n",
       " 'kurtosis_gh2ax_2d_int',\n",
       " 'skewness_gh2ax_2d_int',\n",
       " 'rel_gh2ax_3d_int',\n",
       " 'min_gh2ax_3d_int',\n",
       " 'max_gh2ax_3d_int',\n",
       " 'mean_gh2ax_3d_int',\n",
       " 'std_gh2ax_3d_int',\n",
       " 'q25_gh2ax_3d_int',\n",
       " 'q75_gh2ax_3d_int',\n",
       " 'median_gh2ax_3d_int',\n",
       " 'kurtosis_gh2ax_3d_int',\n",
       " 'skewness_gh2ax_3d_int',\n",
       " 'rel_lamin_2d_int',\n",
       " 'min_lamin_2d_int',\n",
       " 'max_lamin_2d_int',\n",
       " 'mean_lamin_2d_int',\n",
       " 'std_lamin_2d_int',\n",
       " 'q25_lamin_2d_int',\n",
       " 'q75_lamin_2d_int',\n",
       " 'median_lamin_2d_int',\n",
       " 'kurtosis_lamin_2d_int',\n",
       " 'skewness_lamin_2d_int',\n",
       " 'rel_lamin_3d_int',\n",
       " 'max_lamin_3d_int',\n",
       " 'mean_lamin_3d_int',\n",
       " 'std_lamin_3d_int',\n",
       " 'q75_lamin_3d_int',\n",
       " 'median_lamin_3d_int',\n",
       " 'kurtosis_lamin_3d_int',\n",
       " 'skewness_lamin_3d_int',\n",
       " 'sample',\n",
       " 'condition']"
      ]
     },
     "execution_count": 225,
     "metadata": {},
     "output_type": "execute_result"
    },
    {
     "data": {
      "application/javascript": [
       "\n",
       "            setTimeout(function() {\n",
       "                var nbb_cell_id = 225;\n",
       "                var nbb_unformatted_code = \"list(data.columns)\";\n",
       "                var nbb_formatted_code = \"list(data.columns)\";\n",
       "                var nbb_cells = Jupyter.notebook.get_cells();\n",
       "                for (var i = 0; i < nbb_cells.length; ++i) {\n",
       "                    if (nbb_cells[i].input_prompt_number == nbb_cell_id) {\n",
       "                        if (nbb_cells[i].get_text() == nbb_unformatted_code) {\n",
       "                             nbb_cells[i].set_text(nbb_formatted_code);\n",
       "                        }\n",
       "                        break;\n",
       "                    }\n",
       "                }\n",
       "            }, 500);\n",
       "            "
      ],
      "text/plain": [
       "<IPython.core.display.Javascript object>"
      ]
     },
     "metadata": {},
     "output_type": "display_data"
    }
   ],
   "source": [
    "list(data.columns)"
   ]
  },
  {
   "cell_type": "code",
   "execution_count": 223,
   "id": "peripheral-builder",
   "metadata": {},
   "outputs": [
    {
     "data": {
      "image/png": "[encoded data removed]",
      "text/plain": [
       "<Figure size 432x288 with 1 Axes>"
      ]
     },
     "metadata": {
      "needs_background": "light"
     },
     "output_type": "display_data"
    },
    {
     "data": {
      "application/javascript": [
       "\n",
       "            setTimeout(function() {\n",
       "                var nbb_cell_id = 223;\n",
       "                var nbb_unformatted_code = \"fig, ax = plt.subplots(figsize=[6, 4])\\nsns.boxplot(data=data, x=\\\"condition\\\", y=\\\"area\\\", ax=ax)\\nadd_stat_annotation(\\n    ax,\\n    data=data,\\n    x=\\\"condition\\\",\\n    y=\\\"area\\\",\\n    box_pairs=[\\n        (\\\"ctrl\\\", \\\"tp1\\\"),\\n        (\\\"ctrl\\\", \\\"tp2\\\"),\\n        (\\\"ctrl\\\", \\\"tp3\\\"),\\n        (\\\"tp1\\\", \\\"tp2\\\"),\\n        (\\\"tp1\\\", \\\"tp3\\\"),\\n        (\\\"tp2\\\", \\\"tp3\\\"),\\n    ],\\n    test=\\\"Mann-Whitney\\\",\\n    loc=\\\"inside\\\",\\n    verbose=0,\\n)\\nplt.show()\";\n",
       "                var nbb_formatted_code = \"fig, ax = plt.subplots(figsize=[6, 4])\\nsns.boxplot(data=data, x=\\\"condition\\\", y=\\\"area\\\", ax=ax)\\nadd_stat_annotation(\\n    ax,\\n    data=data,\\n    x=\\\"condition\\\",\\n    y=\\\"area\\\",\\n    box_pairs=[\\n        (\\\"ctrl\\\", \\\"tp1\\\"),\\n        (\\\"ctrl\\\", \\\"tp2\\\"),\\n        (\\\"ctrl\\\", \\\"tp3\\\"),\\n        (\\\"tp1\\\", \\\"tp2\\\"),\\n        (\\\"tp1\\\", \\\"tp3\\\"),\\n        (\\\"tp2\\\", \\\"tp3\\\"),\\n    ],\\n    test=\\\"Mann-Whitney\\\",\\n    loc=\\\"inside\\\",\\n    verbose=0,\\n)\\nplt.show()\";\n",
       "                var nbb_cells = Jupyter.notebook.get_cells();\n",
       "                for (var i = 0; i < nbb_cells.length; ++i) {\n",
       "                    if (nbb_cells[i].input_prompt_number == nbb_cell_id) {\n",
       "                        if (nbb_cells[i].get_text() == nbb_unformatted_code) {\n",
       "                             nbb_cells[i].set_text(nbb_formatted_code);\n",
       "                        }\n",
       "                        break;\n",
       "                    }\n",
       "                }\n",
       "            }, 500);\n",
       "            "
      ],
      "text/plain": [
       "<IPython.core.display.Javascript object>"
      ]
     },
     "metadata": {},
     "output_type": "display_data"
    }
   ],
   "source": [
    "fig, ax = plt.subplots(figsize=[6, 4])\n",
    "sns.boxplot(data=data, x=\"condition\", y=\"area\", ax=ax)\n",
    "add_stat_annotation(\n",
    "    ax,\n",
    "    data=data,\n",
    "    x=\"condition\",\n",
    "    y=\"area\",\n",
    "    box_pairs=[\n",
    "        (\"ctrl\", \"tp1\"),\n",
    "        (\"ctrl\", \"tp2\"),\n",
    "        (\"ctrl\", \"tp3\"),\n",
    "        (\"tp1\", \"tp2\"),\n",
    "        (\"tp1\", \"tp3\"),\n",
    "        (\"tp2\", \"tp3\"),\n",
    "    ],\n",
    "    test=\"Mann-Whitney\",\n",
    "    loc=\"inside\",\n",
    "    verbose=0,\n",
    ")\n",
    "plt.show()"
   ]
  },
  {
   "cell_type": "code",
   "execution_count": 226,
   "id": "innocent-prospect",
   "metadata": {},
   "outputs": [
    {
     "data": {
      "image/png": "[encoded data removed]",
      "text/plain": [
       "<Figure size 432x288 with 1 Axes>"
      ]
     },
     "metadata": {
      "needs_background": "light"
     },
     "output_type": "display_data"
    },
    {
     "data": {
      "application/javascript": [
       "\n",
       "            setTimeout(function() {\n",
       "                var nbb_cell_id = 226;\n",
       "                var nbb_unformatted_code = \"fig, ax = plt.subplots(figsize=[6, 4])\\nsns.boxplot(data=data, x=\\\"condition\\\", y=\\\"med_radius\\\", ax=ax)\\nadd_stat_annotation(\\n    ax,\\n    data=data,\\n    x=\\\"condition\\\",\\n    y=\\\"med_radius\\\",\\n    box_pairs=[\\n        (\\\"ctrl\\\", \\\"tp1\\\"),\\n        (\\\"ctrl\\\", \\\"tp2\\\"),\\n        (\\\"ctrl\\\", \\\"tp3\\\"),\\n        (\\\"tp1\\\", \\\"tp2\\\"),\\n        (\\\"tp1\\\", \\\"tp3\\\"),\\n        (\\\"tp2\\\", \\\"tp3\\\"),\\n    ],\\n    test=\\\"Mann-Whitney\\\",\\n    loc=\\\"inside\\\",\\n    verbose=0,\\n)\\nplt.show()\";\n",
       "                var nbb_formatted_code = \"fig, ax = plt.subplots(figsize=[6, 4])\\nsns.boxplot(data=data, x=\\\"condition\\\", y=\\\"med_radius\\\", ax=ax)\\nadd_stat_annotation(\\n    ax,\\n    data=data,\\n    x=\\\"condition\\\",\\n    y=\\\"med_radius\\\",\\n    box_pairs=[\\n        (\\\"ctrl\\\", \\\"tp1\\\"),\\n        (\\\"ctrl\\\", \\\"tp2\\\"),\\n        (\\\"ctrl\\\", \\\"tp3\\\"),\\n        (\\\"tp1\\\", \\\"tp2\\\"),\\n        (\\\"tp1\\\", \\\"tp3\\\"),\\n        (\\\"tp2\\\", \\\"tp3\\\"),\\n    ],\\n    test=\\\"Mann-Whitney\\\",\\n    loc=\\\"inside\\\",\\n    verbose=0,\\n)\\nplt.show()\";\n",
       "                var nbb_cells = Jupyter.notebook.get_cells();\n",
       "                for (var i = 0; i < nbb_cells.length; ++i) {\n",
       "                    if (nbb_cells[i].input_prompt_number == nbb_cell_id) {\n",
       "                        if (nbb_cells[i].get_text() == nbb_unformatted_code) {\n",
       "                             nbb_cells[i].set_text(nbb_formatted_code);\n",
       "                        }\n",
       "                        break;\n",
       "                    }\n",
       "                }\n",
       "            }, 500);\n",
       "            "
      ],
      "text/plain": [
       "<IPython.core.display.Javascript object>"
      ]
     },
     "metadata": {},
     "output_type": "display_data"
    }
   ],
   "source": [
    "fig, ax = plt.subplots(figsize=[6, 4])\n",
    "sns.boxplot(data=data, x=\"condition\", y=\"med_radius\", ax=ax)\n",
    "add_stat_annotation(\n",
    "    ax,\n",
    "    data=data,\n",
    "    x=\"condition\",\n",
    "    y=\"med_radius\",\n",
    "    box_pairs=[\n",
    "        (\"ctrl\", \"tp1\"),\n",
    "        (\"ctrl\", \"tp2\"),\n",
    "        (\"ctrl\", \"tp3\"),\n",
    "        (\"tp1\", \"tp2\"),\n",
    "        (\"tp1\", \"tp3\"),\n",
    "        (\"tp2\", \"tp3\"),\n",
    "    ],\n",
    "    test=\"Mann-Whitney\",\n",
    "    loc=\"inside\",\n",
    "    verbose=0,\n",
    ")\n",
    "plt.show()"
   ]
  },
  {
   "cell_type": "code",
   "execution_count": 230,
   "id": "favorite-birth",
   "metadata": {},
   "outputs": [
    {
     "data": {
      "image/png": "[encoded data removed]",
      "text/plain": [
       "<Figure size 432x288 with 1 Axes>"
      ]
     },
     "metadata": {
      "needs_background": "light"
     },
     "output_type": "display_data"
    },
    {
     "data": {
      "application/javascript": [
       "\n",
       "            setTimeout(function() {\n",
       "                var nbb_cell_id = 230;\n",
       "                var nbb_unformatted_code = \"fig, ax = plt.subplots(figsize=[6, 4])\\nsns.boxplot(data=data, x=\\\"condition\\\", y=\\\"concavity_3d\\\", ax=ax)\\nadd_stat_annotation(\\n    ax,\\n    data=data,\\n    x=\\\"condition\\\",\\n    y=\\\"concavity_3d\\\",\\n    box_pairs=[\\n        (\\\"ctrl\\\", \\\"tp1\\\"),\\n        (\\\"ctrl\\\", \\\"tp2\\\"),\\n        (\\\"ctrl\\\", \\\"tp3\\\"),\\n        (\\\"tp1\\\", \\\"tp2\\\"),\\n        (\\\"tp1\\\", \\\"tp3\\\"),\\n        (\\\"tp2\\\", \\\"tp3\\\"),\\n    ],\\n    test=\\\"Mann-Whitney\\\",\\n    loc=\\\"inside\\\",\\n    verbose=0,\\n)\\nplt.show()\";\n",
       "                var nbb_formatted_code = \"fig, ax = plt.subplots(figsize=[6, 4])\\nsns.boxplot(data=data, x=\\\"condition\\\", y=\\\"concavity_3d\\\", ax=ax)\\nadd_stat_annotation(\\n    ax,\\n    data=data,\\n    x=\\\"condition\\\",\\n    y=\\\"concavity_3d\\\",\\n    box_pairs=[\\n        (\\\"ctrl\\\", \\\"tp1\\\"),\\n        (\\\"ctrl\\\", \\\"tp2\\\"),\\n        (\\\"ctrl\\\", \\\"tp3\\\"),\\n        (\\\"tp1\\\", \\\"tp2\\\"),\\n        (\\\"tp1\\\", \\\"tp3\\\"),\\n        (\\\"tp2\\\", \\\"tp3\\\"),\\n    ],\\n    test=\\\"Mann-Whitney\\\",\\n    loc=\\\"inside\\\",\\n    verbose=0,\\n)\\nplt.show()\";\n",
       "                var nbb_cells = Jupyter.notebook.get_cells();\n",
       "                for (var i = 0; i < nbb_cells.length; ++i) {\n",
       "                    if (nbb_cells[i].input_prompt_number == nbb_cell_id) {\n",
       "                        if (nbb_cells[i].get_text() == nbb_unformatted_code) {\n",
       "                             nbb_cells[i].set_text(nbb_formatted_code);\n",
       "                        }\n",
       "                        break;\n",
       "                    }\n",
       "                }\n",
       "            }, 500);\n",
       "            "
      ],
      "text/plain": [
       "<IPython.core.display.Javascript object>"
      ]
     },
     "metadata": {},
     "output_type": "display_data"
    }
   ],
   "source": [
    "fig, ax = plt.subplots(figsize=[6, 4])\n",
    "sns.boxplot(data=data, x=\"condition\", y=\"concavity_3d\", ax=ax)\n",
    "add_stat_annotation(\n",
    "    ax,\n",
    "    data=data,\n",
    "    x=\"condition\",\n",
    "    y=\"concavity_3d\",\n",
    "    box_pairs=[\n",
    "        (\"ctrl\", \"tp1\"),\n",
    "        (\"ctrl\", \"tp2\"),\n",
    "        (\"ctrl\", \"tp3\"),\n",
    "        (\"tp1\", \"tp2\"),\n",
    "        (\"tp1\", \"tp3\"),\n",
    "        (\"tp2\", \"tp3\"),\n",
    "    ],\n",
    "    test=\"Mann-Whitney\",\n",
    "    loc=\"inside\",\n",
    "    verbose=0,\n",
    ")\n",
    "plt.show()"
   ]
  },
  {
   "cell_type": "code",
   "execution_count": 217,
   "id": "enabling-intro",
   "metadata": {},
   "outputs": [
    {
     "data": {
      "image/png": "[encoded data removed]",
      "text/plain": [
       "<Figure size 432x432 with 1 Axes>"
      ]
     },
     "metadata": {
      "needs_background": "light"
     },
     "output_type": "display_data"
    },
    {
     "data": {
      "application/javascript": [
       "\n",
       "            setTimeout(function() {\n",
       "                var nbb_cell_id = 217;\n",
       "                var nbb_unformatted_code = \"fig, ax = plt.subplots(figsize=[6, 6])\\nsns.boxplot(data=data, x=\\\"condition\\\", y=\\\"rel_gh2ax_3d_int\\\", ax=ax)\\nax.set_ylim([0, 20000])\\nadd_stat_annotation(\\n    ax,\\n    data=data,\\n    x=\\\"condition\\\",\\n    y=\\\"rel_gh2ax_3d_int\\\",\\n    box_pairs=[\\n        (\\\"ctrl\\\", \\\"tp1\\\"),\\n        (\\\"ctrl\\\", \\\"tp2\\\"),\\n        (\\\"ctrl\\\", \\\"tp3\\\"),\\n        (\\\"tp1\\\", \\\"tp2\\\"),\\n        (\\\"tp1\\\", \\\"tp3\\\"),\\n        (\\\"tp2\\\", \\\"tp3\\\"),\\n    ],\\n    test=\\\"Mann-Whitney\\\",\\n    loc=\\\"outside\\\",\\n    verbose=0,\\n)\\nplt.show()\";\n",
       "                var nbb_formatted_code = \"fig, ax = plt.subplots(figsize=[6, 6])\\nsns.boxplot(data=data, x=\\\"condition\\\", y=\\\"rel_gh2ax_3d_int\\\", ax=ax)\\nax.set_ylim([0, 20000])\\nadd_stat_annotation(\\n    ax,\\n    data=data,\\n    x=\\\"condition\\\",\\n    y=\\\"rel_gh2ax_3d_int\\\",\\n    box_pairs=[\\n        (\\\"ctrl\\\", \\\"tp1\\\"),\\n        (\\\"ctrl\\\", \\\"tp2\\\"),\\n        (\\\"ctrl\\\", \\\"tp3\\\"),\\n        (\\\"tp1\\\", \\\"tp2\\\"),\\n        (\\\"tp1\\\", \\\"tp3\\\"),\\n        (\\\"tp2\\\", \\\"tp3\\\"),\\n    ],\\n    test=\\\"Mann-Whitney\\\",\\n    loc=\\\"outside\\\",\\n    verbose=0,\\n)\\nplt.show()\";\n",
       "                var nbb_cells = Jupyter.notebook.get_cells();\n",
       "                for (var i = 0; i < nbb_cells.length; ++i) {\n",
       "                    if (nbb_cells[i].input_prompt_number == nbb_cell_id) {\n",
       "                        if (nbb_cells[i].get_text() == nbb_unformatted_code) {\n",
       "                             nbb_cells[i].set_text(nbb_formatted_code);\n",
       "                        }\n",
       "                        break;\n",
       "                    }\n",
       "                }\n",
       "            }, 500);\n",
       "            "
      ],
      "text/plain": [
       "<IPython.core.display.Javascript object>"
      ]
     },
     "metadata": {},
     "output_type": "display_data"
    }
   ],
   "source": [
    "fig, ax = plt.subplots(figsize=[6, 6])\n",
    "sns.boxplot(data=data, x=\"condition\", y=\"rel_gh2ax_3d_int\", ax=ax)\n",
    "ax.set_ylim([0, 20000])\n",
    "add_stat_annotation(\n",
    "    ax,\n",
    "    data=data,\n",
    "    x=\"condition\",\n",
    "    y=\"rel_gh2ax_3d_int\",\n",
    "    box_pairs=[\n",
    "        (\"ctrl\", \"tp1\"),\n",
    "        (\"ctrl\", \"tp2\"),\n",
    "        (\"ctrl\", \"tp3\"),\n",
    "        (\"tp1\", \"tp2\"),\n",
    "        (\"tp1\", \"tp3\"),\n",
    "        (\"tp2\", \"tp3\"),\n",
    "    ],\n",
    "    test=\"Mann-Whitney\",\n",
    "    loc=\"outside\",\n",
    "    verbose=0,\n",
    ")\n",
    "plt.show()"
   ]
  },
  {
   "cell_type": "code",
   "execution_count": 222,
   "id": "immediate-labor",
   "metadata": {},
   "outputs": [
    {
     "data": {
      "image/png": "[encoded data removed]",
      "text/plain": [
       "<Figure size 432x288 with 1 Axes>"
      ]
     },
     "metadata": {
      "needs_background": "light"
     },
     "output_type": "display_data"
    },
    {
     "data": {
      "application/javascript": [
       "\n",
       "            setTimeout(function() {\n",
       "                var nbb_cell_id = 222;\n",
       "                var nbb_unformatted_code = \"fig, ax = plt.subplots(figsize=[6, 4])\\nsns.boxplot(data=data, x=\\\"condition\\\", y=\\\"rel_lamin_3d_int\\\", ax=ax)\\nax.set_ylim([0, 3000])\\nadd_stat_annotation(\\n    ax,\\n    data=data,\\n    x=\\\"condition\\\",\\n    y=\\\"rel_lamin_3d_int\\\",\\n    box_pairs=[\\n        (\\\"ctrl\\\", \\\"tp1\\\"),\\n        (\\\"ctrl\\\", \\\"tp2\\\"),\\n        (\\\"ctrl\\\", \\\"tp3\\\"),\\n        (\\\"tp1\\\", \\\"tp2\\\"),\\n        (\\\"tp1\\\", \\\"tp3\\\"),\\n        (\\\"tp2\\\", \\\"tp3\\\"),\\n    ],\\n    test=\\\"Mann-Whitney\\\",\\n    loc=\\\"outside\\\",\\n    verbose=0,\\n)\\nplt.show()\";\n",
       "                var nbb_formatted_code = \"fig, ax = plt.subplots(figsize=[6, 4])\\nsns.boxplot(data=data, x=\\\"condition\\\", y=\\\"rel_lamin_3d_int\\\", ax=ax)\\nax.set_ylim([0, 3000])\\nadd_stat_annotation(\\n    ax,\\n    data=data,\\n    x=\\\"condition\\\",\\n    y=\\\"rel_lamin_3d_int\\\",\\n    box_pairs=[\\n        (\\\"ctrl\\\", \\\"tp1\\\"),\\n        (\\\"ctrl\\\", \\\"tp2\\\"),\\n        (\\\"ctrl\\\", \\\"tp3\\\"),\\n        (\\\"tp1\\\", \\\"tp2\\\"),\\n        (\\\"tp1\\\", \\\"tp3\\\"),\\n        (\\\"tp2\\\", \\\"tp3\\\"),\\n    ],\\n    test=\\\"Mann-Whitney\\\",\\n    loc=\\\"outside\\\",\\n    verbose=0,\\n)\\nplt.show()\";\n",
       "                var nbb_cells = Jupyter.notebook.get_cells();\n",
       "                for (var i = 0; i < nbb_cells.length; ++i) {\n",
       "                    if (nbb_cells[i].input_prompt_number == nbb_cell_id) {\n",
       "                        if (nbb_cells[i].get_text() == nbb_unformatted_code) {\n",
       "                             nbb_cells[i].set_text(nbb_formatted_code);\n",
       "                        }\n",
       "                        break;\n",
       "                    }\n",
       "                }\n",
       "            }, 500);\n",
       "            "
      ],
      "text/plain": [
       "<IPython.core.display.Javascript object>"
      ]
     },
     "metadata": {},
     "output_type": "display_data"
    }
   ],
   "source": [
    "fig, ax = plt.subplots(figsize=[6, 4])\n",
    "sns.boxplot(data=data, x=\"condition\", y=\"rel_lamin_3d_int\", ax=ax)\n",
    "ax.set_ylim([0, 3000])\n",
    "add_stat_annotation(\n",
    "    ax,\n",
    "    data=data,\n",
    "    x=\"condition\",\n",
    "    y=\"rel_lamin_3d_int\",\n",
    "    box_pairs=[\n",
    "        (\"ctrl\", \"tp1\"),\n",
    "        (\"ctrl\", \"tp2\"),\n",
    "        (\"ctrl\", \"tp3\"),\n",
    "        (\"tp1\", \"tp2\"),\n",
    "        (\"tp1\", \"tp3\"),\n",
    "        (\"tp2\", \"tp3\"),\n",
    "    ],\n",
    "    test=\"Mann-Whitney\",\n",
    "    loc=\"outside\",\n",
    "    verbose=0,\n",
    ")\n",
    "plt.show()"
   ]
  },
  {
   "cell_type": "code",
   "execution_count": null,
   "id": "funky-interest",
   "metadata": {},
   "outputs": [],
   "source": []
  }
 ],
 "metadata": {
  "kernelspec": {
   "display_name": "Python 3",
   "language": "python",
   "name": "python3"
  },
  "language_info": {
   "codemirror_mode": {
    "name": "ipython",
    "version": 3
   },
   "file_extension": ".py",
   "mimetype": "text/x-python",
   "name": "python",
   "nbconvert_exporter": "python",
   "pygments_lexer": "ipython3",
   "version": "3.8.8"
  }
 },
 "nbformat": 4,
 "nbformat_minor": 5
}
