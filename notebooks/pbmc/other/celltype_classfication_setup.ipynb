{
 "cells": [
  {
   "cell_type": "markdown",
   "id": "aboriginal-tower",
   "metadata": {},
   "source": [
    "# Cell type classification\n",
    "\n",
    "In this notebook we develop an approach to preprocess the generated metadata files to allow for simple leave-one-timepoint respectively leave-one-patient out evaluation of our models trained on the identification of CD4+/-, CD8+/- and  CD16+/- samples."
   ]
  },
  {
   "cell_type": "markdown",
   "id": "involved-garbage",
   "metadata": {},
   "source": [
    "---\n",
    "\n",
    "## 0. Environmental setup\n"
   ]
  },
  {
   "cell_type": "code",
   "execution_count": 1,
   "id": "southern-health",
   "metadata": {},
   "outputs": [
    {
     "data": {
      "application/javascript": [
       "\n",
       "            setTimeout(function() {\n",
       "                var nbb_cell_id = 1;\n",
       "                var nbb_unformatted_code = \"import pandas as pd\\nimport numpy as np\\nfrom sklearn.model_selection import StratifiedGroupKFold, GroupShuffleSplit\\nimport os\\nfrom imblearn.under_sampling import RandomUnderSampler\\nfrom tqdm import tqdm\\nfrom collections import Counter\\n\\n%load_ext nb_black\";\n",
       "                var nbb_formatted_code = \"import pandas as pd\\nimport numpy as np\\nfrom sklearn.model_selection import StratifiedGroupKFold, GroupShuffleSplit\\nimport os\\nfrom imblearn.under_sampling import RandomUnderSampler\\nfrom tqdm import tqdm\\nfrom collections import Counter\\n\\n%load_ext nb_black\";\n",
       "                var nbb_cells = Jupyter.notebook.get_cells();\n",
       "                for (var i = 0; i < nbb_cells.length; ++i) {\n",
       "                    if (nbb_cells[i].input_prompt_number == nbb_cell_id) {\n",
       "                        if (nbb_cells[i].get_text() == nbb_unformatted_code) {\n",
       "                             nbb_cells[i].set_text(nbb_formatted_code);\n",
       "                        }\n",
       "                        break;\n",
       "                    }\n",
       "                }\n",
       "            }, 500);\n",
       "            "
      ],
      "text/plain": [
       "<IPython.core.display.Javascript object>"
      ]
     },
     "metadata": {},
     "output_type": "display_data"
    }
   ],
   "source": [
    "import pandas as pd\n",
    "import numpy as np\n",
    "from sklearn.model_selection import StratifiedGroupKFold, GroupShuffleSplit\n",
    "import os\n",
    "from imblearn.under_sampling import RandomUnderSampler\n",
    "from tqdm import tqdm\n",
    "from collections import Counter\n",
    "\n",
    "%load_ext nb_black"
   ]
  },
  {
   "cell_type": "code",
   "execution_count": 9,
   "id": "included-creek",
   "metadata": {},
   "outputs": [
    {
     "data": {
      "application/javascript": [
       "\n",
       "            setTimeout(function() {\n",
       "                var nbb_cell_id = 9;\n",
       "                var nbb_unformatted_code = \"def get_data_splits_for_label(\\n    data,\\n    label_col,\\n    n_folds,\\n    group_col,\\n    random_state=1234,\\n    val_size=0.2,\\n    sample_limit=None,\\n):\\n\\n    # Split in folds\\n    features = np.array(list(range(len(data)))).reshape(-1, 1)\\n    labels = np.array(data.loc[:, label_col])\\n    groups = np.array(data.loc[:, group_col])\\n\\n    fold_data = {\\\"train\\\": [], \\\"val\\\": [], \\\"test\\\": []}\\n    group_kfold = StratifiedGroupKFold(n_splits=n_folds)\\n    for train_index, test_index in group_kfold.split(features, labels, groups=groups):\\n\\n        train_val_fold_data = data.iloc[train_index]\\n        train_val_fold_labels = labels[train_index]\\n        train_val_fold_groups = groups[train_index]\\n\\n        train_index, val_index = next(\\n            StratifiedGroupKFold(n_splits=int(1.0 / val_size)).split(\\n                train_val_fold_data, train_val_fold_labels, groups=train_val_fold_groups\\n            )\\n        )\\n        train_fold_data = train_val_fold_data.iloc[train_index]\\n        val_fold_data = train_val_fold_data.iloc[val_index]\\n\\n        test_fold_data = data.iloc[test_index]\\n\\n        fold_data[\\\"train\\\"].append(train_fold_data)\\n        fold_data[\\\"val\\\"].append(val_fold_data)\\n        fold_data[\\\"test\\\"].append(test_fold_data)\\n\\n    return fold_data\";\n",
       "                var nbb_formatted_code = \"def get_data_splits_for_label(\\n    data,\\n    label_col,\\n    n_folds,\\n    group_col,\\n    random_state=1234,\\n    val_size=0.2,\\n    sample_limit=None,\\n):\\n\\n    # Split in folds\\n    features = np.array(list(range(len(data)))).reshape(-1, 1)\\n    labels = np.array(data.loc[:, label_col])\\n    groups = np.array(data.loc[:, group_col])\\n\\n    fold_data = {\\\"train\\\": [], \\\"val\\\": [], \\\"test\\\": []}\\n    group_kfold = StratifiedGroupKFold(n_splits=n_folds)\\n    for train_index, test_index in group_kfold.split(features, labels, groups=groups):\\n\\n        train_val_fold_data = data.iloc[train_index]\\n        train_val_fold_labels = labels[train_index]\\n        train_val_fold_groups = groups[train_index]\\n\\n        train_index, val_index = next(\\n            StratifiedGroupKFold(n_splits=int(1.0 / val_size)).split(\\n                train_val_fold_data, train_val_fold_labels, groups=train_val_fold_groups\\n            )\\n        )\\n        train_fold_data = train_val_fold_data.iloc[train_index]\\n        val_fold_data = train_val_fold_data.iloc[val_index]\\n\\n        test_fold_data = data.iloc[test_index]\\n\\n        fold_data[\\\"train\\\"].append(train_fold_data)\\n        fold_data[\\\"val\\\"].append(val_fold_data)\\n        fold_data[\\\"test\\\"].append(test_fold_data)\\n\\n    return fold_data\";\n",
       "                var nbb_cells = Jupyter.notebook.get_cells();\n",
       "                for (var i = 0; i < nbb_cells.length; ++i) {\n",
       "                    if (nbb_cells[i].input_prompt_number == nbb_cell_id) {\n",
       "                        if (nbb_cells[i].get_text() == nbb_unformatted_code) {\n",
       "                             nbb_cells[i].set_text(nbb_formatted_code);\n",
       "                        }\n",
       "                        break;\n",
       "                    }\n",
       "                }\n",
       "            }, 500);\n",
       "            "
      ],
      "text/plain": [
       "<IPython.core.display.Javascript object>"
      ]
     },
     "metadata": {},
     "output_type": "display_data"
    }
   ],
   "source": [
    "def get_data_splits_for_label(\n",
    "    data,\n",
    "    label_col,\n",
    "    n_folds,\n",
    "    group_col,\n",
    "    random_state=1234,\n",
    "    val_size=0.2,\n",
    "    sample_limit=None,\n",
    "):\n",
    "\n",
    "    # Split in folds\n",
    "    features = np.array(list(range(len(data)))).reshape(-1, 1)\n",
    "    labels = np.array(data.loc[:, label_col])\n",
    "    groups = np.array(data.loc[:, group_col])\n",
    "\n",
    "    fold_data = {\"train\": [], \"val\": [], \"test\": []}\n",
    "    group_kfold = StratifiedGroupKFold(n_splits=n_folds)\n",
    "    for train_index, test_index in group_kfold.split(features, labels, groups=groups):\n",
    "\n",
    "        train_val_fold_data = data.iloc[train_index]\n",
    "        train_val_fold_labels = labels[train_index]\n",
    "        train_val_fold_groups = groups[train_index]\n",
    "\n",
    "        train_index, val_index = next(\n",
    "            StratifiedGroupKFold(n_splits=int(1.0 / val_size)).split(\n",
    "                train_val_fold_data, train_val_fold_labels, groups=train_val_fold_groups\n",
    "            )\n",
    "        )\n",
    "        train_fold_data = train_val_fold_data.iloc[train_index]\n",
    "        val_fold_data = train_val_fold_data.iloc[val_index]\n",
    "\n",
    "        test_fold_data = data.iloc[test_index]\n",
    "\n",
    "        fold_data[\"train\"].append(train_fold_data)\n",
    "        fold_data[\"val\"].append(val_fold_data)\n",
    "        fold_data[\"test\"].append(test_fold_data)\n",
    "\n",
    "    return fold_data"
   ]
  },
  {
   "cell_type": "markdown",
   "id": "hourly-exhibition",
   "metadata": {},
   "source": [
    "---\n",
    "\n",
    "## 1. Read in data\n",
    "\n",
    "We will now read in the two metadata files containing the chrometric features and the image locations alongside the individual labels."
   ]
  },
  {
   "cell_type": "code",
   "execution_count": 7,
   "id": "blank-tracker",
   "metadata": {},
   "outputs": [
    {
     "data": {
      "application/javascript": [
       "\n",
       "            setTimeout(function() {\n",
       "                var nbb_cell_id = 7;\n",
       "                var nbb_unformatted_code = \"img_md = pd.read_csv(\\n    \\\"../../../data/meningioma/classification/preprocessed/image_locs_and_labels.csv\\\",\\n    index_col=0,\\n)\\nnmco_md = pd.read_csv(\\n    \\\"../../../data/meningioma/classification/preprocessed/nmco_feats_and_labels.csv\\\",\\n    index_col=0,\\n)\";\n",
       "                var nbb_formatted_code = \"img_md = pd.read_csv(\\n    \\\"../../../data/meningioma/classification/preprocessed/image_locs_and_labels.csv\\\",\\n    index_col=0,\\n)\\nnmco_md = pd.read_csv(\\n    \\\"../../../data/meningioma/classification/preprocessed/nmco_feats_and_labels.csv\\\",\\n    index_col=0,\\n)\";\n",
       "                var nbb_cells = Jupyter.notebook.get_cells();\n",
       "                for (var i = 0; i < nbb_cells.length; ++i) {\n",
       "                    if (nbb_cells[i].input_prompt_number == nbb_cell_id) {\n",
       "                        if (nbb_cells[i].get_text() == nbb_unformatted_code) {\n",
       "                             nbb_cells[i].set_text(nbb_formatted_code);\n",
       "                        }\n",
       "                        break;\n",
       "                    }\n",
       "                }\n",
       "            }, 500);\n",
       "            "
      ],
      "text/plain": [
       "<IPython.core.display.Javascript object>"
      ]
     },
     "metadata": {},
     "output_type": "display_data"
    }
   ],
   "source": [
    "img_md = pd.read_csv(\n",
    "    \"../../../data/meningioma/classification/preprocessed/image_locs_and_labels.csv\",\n",
    "    index_col=0,\n",
    ")\n",
    "nmco_md = pd.read_csv(\n",
    "    \"../../../data/meningioma/classification/preprocessed/nmco_feats_and_labels.csv\",\n",
    "    index_col=0,\n",
    ")"
   ]
  },
  {
   "cell_type": "markdown",
   "id": "little-telescope",
   "metadata": {},
   "source": [
    "---\n",
    "\n",
    "## 2. StratifiedGrouped K-Fold\n",
    "\n",
    "We will now split the individual metadata files into k-folds to assess the generalizability of our cell type classifiers.\n",
    "\n",
    "### 2.1. Patient-3-Fold\n",
    "\n",
    "First, we will split the data into 3 different folds such that each fold contains the data of exactly two patients in a stratified fashion such that the relative frequencies of the labels for the different cell types is approximately the same across all folds."
   ]
  },
  {
   "cell_type": "markdown",
   "id": "patent-fluid",
   "metadata": {},
   "source": [
    "#### 2.1.a. CD4 -Patient-3-Fold\n",
    "We start of the the CD4 labels."
   ]
  },
  {
   "cell_type": "code",
   "execution_count": 37,
   "id": "suffering-collection",
   "metadata": {},
   "outputs": [
    {
     "data": {
      "application/javascript": [
       "\n",
       "            setTimeout(function() {\n",
       "                var nbb_cell_id = 37;\n",
       "                var nbb_unformatted_code = \"output_dir = \\\"../../../data/meningioma/classification/preprocessed/kfold/cd4\\\"\\nos.makedirs(output_dir, exist_ok=True)\";\n",
       "                var nbb_formatted_code = \"output_dir = \\\"../../../data/meningioma/classification/preprocessed/kfold/cd4\\\"\\nos.makedirs(output_dir, exist_ok=True)\";\n",
       "                var nbb_cells = Jupyter.notebook.get_cells();\n",
       "                for (var i = 0; i < nbb_cells.length; ++i) {\n",
       "                    if (nbb_cells[i].input_prompt_number == nbb_cell_id) {\n",
       "                        if (nbb_cells[i].get_text() == nbb_unformatted_code) {\n",
       "                             nbb_cells[i].set_text(nbb_formatted_code);\n",
       "                        }\n",
       "                        break;\n",
       "                    }\n",
       "                }\n",
       "            }, 500);\n",
       "            "
      ],
      "text/plain": [
       "<IPython.core.display.Javascript object>"
      ]
     },
     "metadata": {},
     "output_type": "display_data"
    }
   ],
   "source": [
    "output_dir = \"../../../data/meningioma/classification/preprocessed/kfold/cd4\"\n",
    "os.makedirs(output_dir, exist_ok=True)"
   ]
  },
  {
   "cell_type": "code",
   "execution_count": 38,
   "id": "employed-appreciation",
   "metadata": {},
   "outputs": [
    {
     "data": {
      "application/javascript": [
       "\n",
       "            setTimeout(function() {\n",
       "                var nbb_cell_id = 38;\n",
       "                var nbb_unformatted_code = \"label_col = \\\"cd4\\\"\\ngroup_col = \\\"patient\\\"\\nrandom_state = 1234\\nn_folds = 3\";\n",
       "                var nbb_formatted_code = \"label_col = \\\"cd4\\\"\\ngroup_col = \\\"patient\\\"\\nrandom_state = 1234\\nn_folds = 3\";\n",
       "                var nbb_cells = Jupyter.notebook.get_cells();\n",
       "                for (var i = 0; i < nbb_cells.length; ++i) {\n",
       "                    if (nbb_cells[i].input_prompt_number == nbb_cell_id) {\n",
       "                        if (nbb_cells[i].get_text() == nbb_unformatted_code) {\n",
       "                             nbb_cells[i].set_text(nbb_formatted_code);\n",
       "                        }\n",
       "                        break;\n",
       "                    }\n",
       "                }\n",
       "            }, 500);\n",
       "            "
      ],
      "text/plain": [
       "<IPython.core.display.Javascript object>"
      ]
     },
     "metadata": {},
     "output_type": "display_data"
    }
   ],
   "source": [
    "label_col = \"cd4\"\n",
    "group_col = \"patient\"\n",
    "random_state = 1234\n",
    "n_folds = 3"
   ]
  },
  {
   "cell_type": "code",
   "execution_count": 40,
   "id": "dried-conversation",
   "metadata": {},
   "outputs": [
    {
     "data": {
      "application/javascript": [
       "\n",
       "            setTimeout(function() {\n",
       "                var nbb_cell_id = 40;\n",
       "                var nbb_unformatted_code = \"cd4_img_fold_data = get_data_splits_for_label(\\n    data=img_md,\\n    label_col=label_col,\\n    n_folds=n_folds,\\n    group_col=group_col,\\n    random_state=random_state,\\n)\\nfor k, v in cd4_img_fold_data.items():\\n    for i in range(len(v)):\\n        fold_label_data = cd4_img_fold_data[k][i].to_csv(\\n            os.path.join(output_dir, \\\"cd4_img_loc_md_{}_fold_{}.csv\\\".format(k, i))\\n        )\";\n",
       "                var nbb_formatted_code = \"cd4_img_fold_data = get_data_splits_for_label(\\n    data=img_md,\\n    label_col=label_col,\\n    n_folds=n_folds,\\n    group_col=group_col,\\n    random_state=random_state,\\n)\\nfor k, v in cd4_img_fold_data.items():\\n    for i in range(len(v)):\\n        fold_label_data = cd4_img_fold_data[k][i].to_csv(\\n            os.path.join(output_dir, \\\"cd4_img_loc_md_{}_fold_{}.csv\\\".format(k, i))\\n        )\";\n",
       "                var nbb_cells = Jupyter.notebook.get_cells();\n",
       "                for (var i = 0; i < nbb_cells.length; ++i) {\n",
       "                    if (nbb_cells[i].input_prompt_number == nbb_cell_id) {\n",
       "                        if (nbb_cells[i].get_text() == nbb_unformatted_code) {\n",
       "                             nbb_cells[i].set_text(nbb_formatted_code);\n",
       "                        }\n",
       "                        break;\n",
       "                    }\n",
       "                }\n",
       "            }, 500);\n",
       "            "
      ],
      "text/plain": [
       "<IPython.core.display.Javascript object>"
      ]
     },
     "metadata": {},
     "output_type": "display_data"
    }
   ],
   "source": [
    "cd4_img_fold_data = get_data_splits_for_label(\n",
    "    data=img_md,\n",
    "    label_col=label_col,\n",
    "    n_folds=n_folds,\n",
    "    group_col=group_col,\n",
    "    random_state=random_state,\n",
    ")\n",
    "for k, v in cd4_img_fold_data.items():\n",
    "    for i in range(len(v)):\n",
    "        fold_label_data = cd4_img_fold_data[k][i].to_csv(\n",
    "            os.path.join(output_dir, \"cd4_img_loc_md_{}_fold_{}.csv\".format(k, i))\n",
    "        )"
   ]
  },
  {
   "cell_type": "markdown",
   "id": "substantial-result",
   "metadata": {},
   "source": [
    "---\n",
    "#### 2.1.b. CD8 -Patient-3-Fold\n",
    "We start of the the CD4 labels."
   ]
  },
  {
   "cell_type": "code",
   "execution_count": 46,
   "id": "center-ridge",
   "metadata": {},
   "outputs": [
    {
     "data": {
      "application/javascript": [
       "\n",
       "            setTimeout(function() {\n",
       "                var nbb_cell_id = 46;\n",
       "                var nbb_unformatted_code = \"output_dir = \\\"../../../data/meningioma/classification/preprocessed/kfold/cd8\\\"\\nos.makedirs(output_dir, exist_ok=True)\";\n",
       "                var nbb_formatted_code = \"output_dir = \\\"../../../data/meningioma/classification/preprocessed/kfold/cd8\\\"\\nos.makedirs(output_dir, exist_ok=True)\";\n",
       "                var nbb_cells = Jupyter.notebook.get_cells();\n",
       "                for (var i = 0; i < nbb_cells.length; ++i) {\n",
       "                    if (nbb_cells[i].input_prompt_number == nbb_cell_id) {\n",
       "                        if (nbb_cells[i].get_text() == nbb_unformatted_code) {\n",
       "                             nbb_cells[i].set_text(nbb_formatted_code);\n",
       "                        }\n",
       "                        break;\n",
       "                    }\n",
       "                }\n",
       "            }, 500);\n",
       "            "
      ],
      "text/plain": [
       "<IPython.core.display.Javascript object>"
      ]
     },
     "metadata": {},
     "output_type": "display_data"
    }
   ],
   "source": [
    "output_dir = \"../../../data/meningioma/classification/preprocessed/kfold/cd8\"\n",
    "os.makedirs(output_dir, exist_ok=True)"
   ]
  },
  {
   "cell_type": "code",
   "execution_count": 47,
   "id": "floral-influence",
   "metadata": {},
   "outputs": [
    {
     "data": {
      "application/javascript": [
       "\n",
       "            setTimeout(function() {\n",
       "                var nbb_cell_id = 47;\n",
       "                var nbb_unformatted_code = \"label_col = \\\"cd8\\\"\\ngroup_col = \\\"patient\\\"\\nrandom_state = 1234\\nn_folds = 3\";\n",
       "                var nbb_formatted_code = \"label_col = \\\"cd8\\\"\\ngroup_col = \\\"patient\\\"\\nrandom_state = 1234\\nn_folds = 3\";\n",
       "                var nbb_cells = Jupyter.notebook.get_cells();\n",
       "                for (var i = 0; i < nbb_cells.length; ++i) {\n",
       "                    if (nbb_cells[i].input_prompt_number == nbb_cell_id) {\n",
       "                        if (nbb_cells[i].get_text() == nbb_unformatted_code) {\n",
       "                             nbb_cells[i].set_text(nbb_formatted_code);\n",
       "                        }\n",
       "                        break;\n",
       "                    }\n",
       "                }\n",
       "            }, 500);\n",
       "            "
      ],
      "text/plain": [
       "<IPython.core.display.Javascript object>"
      ]
     },
     "metadata": {},
     "output_type": "display_data"
    }
   ],
   "source": [
    "label_col = \"cd8\"\n",
    "group_col = \"patient\"\n",
    "random_state = 1234\n",
    "n_folds = 3"
   ]
  },
  {
   "cell_type": "code",
   "execution_count": 48,
   "id": "national-liabilities",
   "metadata": {},
   "outputs": [
    {
     "data": {
      "application/javascript": [
       "\n",
       "            setTimeout(function() {\n",
       "                var nbb_cell_id = 48;\n",
       "                var nbb_unformatted_code = \"cd8_img_fold_data = get_data_splits_for_label(\\n    data=img_md,\\n    label_col=label_col,\\n    n_folds=n_folds,\\n    group_col=group_col,\\n    random_state=random_state,\\n)\\nfor k, v in cd8_img_fold_data.items():\\n    for i in range(len(v)):\\n        fold_label_data = cd8_img_fold_data[k][i].to_csv(\\n            os.path.join(output_dir, \\\"cd8_img_loc_md_{}_fold_{}.csv\\\".format(k, i))\\n        )\";\n",
       "                var nbb_formatted_code = \"cd8_img_fold_data = get_data_splits_for_label(\\n    data=img_md,\\n    label_col=label_col,\\n    n_folds=n_folds,\\n    group_col=group_col,\\n    random_state=random_state,\\n)\\nfor k, v in cd8_img_fold_data.items():\\n    for i in range(len(v)):\\n        fold_label_data = cd8_img_fold_data[k][i].to_csv(\\n            os.path.join(output_dir, \\\"cd8_img_loc_md_{}_fold_{}.csv\\\".format(k, i))\\n        )\";\n",
       "                var nbb_cells = Jupyter.notebook.get_cells();\n",
       "                for (var i = 0; i < nbb_cells.length; ++i) {\n",
       "                    if (nbb_cells[i].input_prompt_number == nbb_cell_id) {\n",
       "                        if (nbb_cells[i].get_text() == nbb_unformatted_code) {\n",
       "                             nbb_cells[i].set_text(nbb_formatted_code);\n",
       "                        }\n",
       "                        break;\n",
       "                    }\n",
       "                }\n",
       "            }, 500);\n",
       "            "
      ],
      "text/plain": [
       "<IPython.core.display.Javascript object>"
      ]
     },
     "metadata": {},
     "output_type": "display_data"
    }
   ],
   "source": [
    "cd8_img_fold_data = get_data_splits_for_label(\n",
    "    data=img_md,\n",
    "    label_col=label_col,\n",
    "    n_folds=n_folds,\n",
    "    group_col=group_col,\n",
    "    random_state=random_state,\n",
    ")\n",
    "for k, v in cd8_img_fold_data.items():\n",
    "    for i in range(len(v)):\n",
    "        fold_label_data = cd8_img_fold_data[k][i].to_csv(\n",
    "            os.path.join(output_dir, \"cd8_img_loc_md_{}_fold_{}.csv\".format(k, i))\n",
    "        )"
   ]
  },
  {
   "cell_type": "markdown",
   "id": "welcome-thriller",
   "metadata": {},
   "source": [
    "---\n",
    "#### 2.1.c. CD16-Patient-3-Fold\n",
    "\n",
    "Next, we turn to CD16."
   ]
  },
  {
   "cell_type": "code",
   "execution_count": 49,
   "id": "numerous-class",
   "metadata": {},
   "outputs": [
    {
     "data": {
      "application/javascript": [
       "\n",
       "            setTimeout(function() {\n",
       "                var nbb_cell_id = 49;\n",
       "                var nbb_unformatted_code = \"output_dir = \\\"../../../data/meningioma/classification/preprocessed/kfold/cd16\\\"\\nos.makedirs(output_dir, exist_ok=True)\";\n",
       "                var nbb_formatted_code = \"output_dir = \\\"../../../data/meningioma/classification/preprocessed/kfold/cd16\\\"\\nos.makedirs(output_dir, exist_ok=True)\";\n",
       "                var nbb_cells = Jupyter.notebook.get_cells();\n",
       "                for (var i = 0; i < nbb_cells.length; ++i) {\n",
       "                    if (nbb_cells[i].input_prompt_number == nbb_cell_id) {\n",
       "                        if (nbb_cells[i].get_text() == nbb_unformatted_code) {\n",
       "                             nbb_cells[i].set_text(nbb_formatted_code);\n",
       "                        }\n",
       "                        break;\n",
       "                    }\n",
       "                }\n",
       "            }, 500);\n",
       "            "
      ],
      "text/plain": [
       "<IPython.core.display.Javascript object>"
      ]
     },
     "metadata": {},
     "output_type": "display_data"
    }
   ],
   "source": [
    "output_dir = \"../../../data/meningioma/classification/preprocessed/kfold/cd16\"\n",
    "os.makedirs(output_dir, exist_ok=True)"
   ]
  },
  {
   "cell_type": "code",
   "execution_count": 50,
   "id": "prompt-begin",
   "metadata": {},
   "outputs": [
    {
     "data": {
      "application/javascript": [
       "\n",
       "            setTimeout(function() {\n",
       "                var nbb_cell_id = 50;\n",
       "                var nbb_unformatted_code = \"label_col = \\\"cd16\\\"\\ngroup_col = \\\"patient\\\"\\nrandom_state = 1234\\nn_folds = 3\";\n",
       "                var nbb_formatted_code = \"label_col = \\\"cd16\\\"\\ngroup_col = \\\"patient\\\"\\nrandom_state = 1234\\nn_folds = 3\";\n",
       "                var nbb_cells = Jupyter.notebook.get_cells();\n",
       "                for (var i = 0; i < nbb_cells.length; ++i) {\n",
       "                    if (nbb_cells[i].input_prompt_number == nbb_cell_id) {\n",
       "                        if (nbb_cells[i].get_text() == nbb_unformatted_code) {\n",
       "                             nbb_cells[i].set_text(nbb_formatted_code);\n",
       "                        }\n",
       "                        break;\n",
       "                    }\n",
       "                }\n",
       "            }, 500);\n",
       "            "
      ],
      "text/plain": [
       "<IPython.core.display.Javascript object>"
      ]
     },
     "metadata": {},
     "output_type": "display_data"
    }
   ],
   "source": [
    "label_col = \"cd16\"\n",
    "group_col = \"patient\"\n",
    "random_state = 1234\n",
    "n_folds = 3"
   ]
  },
  {
   "cell_type": "code",
   "execution_count": 51,
   "id": "recorded-spoke",
   "metadata": {},
   "outputs": [
    {
     "data": {
      "application/javascript": [
       "\n",
       "            setTimeout(function() {\n",
       "                var nbb_cell_id = 51;\n",
       "                var nbb_unformatted_code = \"cd16_img_fold_data = get_data_splits_for_label(\\n    data=img_md,\\n    label_col=label_col,\\n    n_folds=n_folds,\\n    group_col=group_col,\\n    random_state=random_state,\\n)\\nfor k, v in cd16_img_fold_data.items():\\n    for i in range(len(v)):\\n        fold_label_data = cd16_img_fold_data[k][i].to_csv(\\n            os.path.join(output_dir, \\\"cd16_img_loc_md_{}_fold_{}.csv\\\".format(k, i))\\n        )\";\n",
       "                var nbb_formatted_code = \"cd16_img_fold_data = get_data_splits_for_label(\\n    data=img_md,\\n    label_col=label_col,\\n    n_folds=n_folds,\\n    group_col=group_col,\\n    random_state=random_state,\\n)\\nfor k, v in cd16_img_fold_data.items():\\n    for i in range(len(v)):\\n        fold_label_data = cd16_img_fold_data[k][i].to_csv(\\n            os.path.join(output_dir, \\\"cd16_img_loc_md_{}_fold_{}.csv\\\".format(k, i))\\n        )\";\n",
       "                var nbb_cells = Jupyter.notebook.get_cells();\n",
       "                for (var i = 0; i < nbb_cells.length; ++i) {\n",
       "                    if (nbb_cells[i].input_prompt_number == nbb_cell_id) {\n",
       "                        if (nbb_cells[i].get_text() == nbb_unformatted_code) {\n",
       "                             nbb_cells[i].set_text(nbb_formatted_code);\n",
       "                        }\n",
       "                        break;\n",
       "                    }\n",
       "                }\n",
       "            }, 500);\n",
       "            "
      ],
      "text/plain": [
       "<IPython.core.display.Javascript object>"
      ]
     },
     "metadata": {},
     "output_type": "display_data"
    }
   ],
   "source": [
    "cd16_img_fold_data = get_data_splits_for_label(\n",
    "    data=img_md,\n",
    "    label_col=label_col,\n",
    "    n_folds=n_folds,\n",
    "    group_col=group_col,\n",
    "    random_state=random_state,\n",
    ")\n",
    "for k, v in cd16_img_fold_data.items():\n",
    "    for i in range(len(v)):\n",
    "        fold_label_data = cd16_img_fold_data[k][i].to_csv(\n",
    "            os.path.join(output_dir, \"cd16_img_loc_md_{}_fold_{}.csv\".format(k, i))\n",
    "        )"
   ]
  },
  {
   "cell_type": "markdown",
   "id": "radio-federation",
   "metadata": {},
   "source": [
    "---\n",
    "\n",
    "### 2.2. Timepoint-3-fold\n",
    "\n",
    "We also will assess the generalizability across timepoints again individually for the CD4,CD8 and CD16 cell types"
   ]
  }
 ],
 "metadata": {
  "kernelspec": {
   "display_name": "Python 3",
   "language": "python",
   "name": "python3"
  },
  "language_info": {
   "codemirror_mode": {
    "name": "ipython",
    "version": 3
   },
   "file_extension": ".py",
   "mimetype": "text/x-python",
   "name": "python",
   "nbconvert_exporter": "python",
   "pygments_lexer": "ipython3",
   "version": "3.8.8"
  }
 },
 "nbformat": 4,
 "nbformat_minor": 5
}
