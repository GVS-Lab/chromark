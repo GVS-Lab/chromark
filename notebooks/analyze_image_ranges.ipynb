{
 "cells": [
  {
   "cell_type": "markdown",
   "id": "statistical-oxford",
   "metadata": {},
   "source": [
    "# Analysis of the explored image ranges\n",
    "\n",
    "---\n",
    "\n",
    "This notebook can be used in order to identify and save the explored intensity ranges for a given set of images to enable the rescaling of extracted nuclear images.\n",
    "\n",
    "---"
   ]
  },
  {
   "cell_type": "markdown",
   "id": "unnecessary-edmonton",
   "metadata": {},
   "source": [
    "## 0. Environmental setup"
   ]
  },
  {
   "cell_type": "code",
   "execution_count": 1,
   "id": "olive-assumption",
   "metadata": {},
   "outputs": [],
   "source": [
    "from skimage.io import imread\n",
    "import numpy as np\n",
    "import pandas as pd\n",
    "from tqdm.notebook import tqdm"
   ]
  },
  {
   "cell_type": "code",
   "execution_count": null,
   "id": "damaged-cambridge",
   "metadata": {},
   "outputs": [],
   "source": [
    "def get_file"
   ]
  },
  {
   "cell_type": "markdown",
   "id": "reduced-lewis",
   "metadata": {},
   "source": [
    "---"
   ]
  }
 ],
 "metadata": {
  "kernelspec": {
   "display_name": "Python 3",
   "language": "python",
   "name": "python3"
  },
  "language_info": {
   "codemirror_mode": {
    "name": "ipython",
    "version": 3
   },
   "file_extension": ".py",
   "mimetype": "text/x-python",
   "name": "python",
   "nbconvert_exporter": "python",
   "pygments_lexer": "ipython3",
   "version": "3.8.8"
  }
 },
 "nbformat": 4,
 "nbformat_minor": 5
}
