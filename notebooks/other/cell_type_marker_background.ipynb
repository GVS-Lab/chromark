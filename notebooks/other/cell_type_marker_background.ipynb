{
 "cells": [
  {
   "cell_type": "markdown",
   "id": "cardiac-motor",
   "metadata": {},
   "source": [
    "# Assessment of the background signal\n",
    "\n",
    "\n",
    "In this notebook we will quanitify the background signal strength of the respective channels to establish a background of unspecific signal. Going forward it would be great to also have TP positive samples ready for different patients to get a feeling of the signal distribution.\n",
    "\n",
    "---"
   ]
  },
  {
   "cell_type": "markdown",
   "id": "isolated-filing",
   "metadata": {},
   "source": [
    "## 0. Environmental setup\n"
   ]
  },
  {
   "cell_type": "code",
   "execution_count": 1,
   "id": "measured-speech",
   "metadata": {},
   "outputs": [
    {
     "data": {
      "application/javascript": [
       "\n",
       "            setTimeout(function() {\n",
       "                var nbb_cell_id = 1;\n",
       "                var nbb_unformatted_code = \"import pandas as pd\\nimport sys\\nimport matplotlib.pyplot as plt\\n\\nsys.path.append(\\\"../../../\\\")\\n\\n%load_ext nb_black\";\n",
       "                var nbb_formatted_code = \"import pandas as pd\\nimport sys\\nimport matplotlib.pyplot as plt\\n\\nsys.path.append(\\\"../../../\\\")\\n\\n%load_ext nb_black\";\n",
       "                var nbb_cells = Jupyter.notebook.get_cells();\n",
       "                for (var i = 0; i < nbb_cells.length; ++i) {\n",
       "                    if (nbb_cells[i].input_prompt_number == nbb_cell_id) {\n",
       "                        if (nbb_cells[i].get_text() == nbb_unformatted_code) {\n",
       "                             nbb_cells[i].set_text(nbb_formatted_code);\n",
       "                        }\n",
       "                        break;\n",
       "                    }\n",
       "                }\n",
       "            }, 500);\n",
       "            "
      ],
      "text/plain": [
       "<IPython.core.display.Javascript object>"
      ]
     },
     "metadata": {},
     "output_type": "display_data"
    }
   ],
   "source": [
    "import pandas as pd\n",
    "import sys\n",
    "import matplotlib.pyplot as plt\n",
    "\n",
    "sys.path.append(\"../../../\")\n",
    "\n",
    "%load_ext nb_black"
   ]
  },
  {
   "cell_type": "markdown",
   "id": "perfect-horse",
   "metadata": {},
   "source": [
    "---\n",
    "\n",
    "## 1. Read in data"
   ]
  },
  {
   "cell_type": "code",
   "execution_count": 3,
   "id": "touched-office",
   "metadata": {},
   "outputs": [
    {
     "data": {
      "application/javascript": [
       "\n",
       "            setTimeout(function() {\n",
       "                var nbb_cell_id = 3;\n",
       "                var nbb_unformatted_code = \"data = pd.read_csv(\\n    \\\"/home/paysan_d/PycharmProjects/immune_cell_project/data/other/405DAPI_647CD8_488CD4_2_12_21/preprocessed/full_pipeline/nuclear_features.csv\\\",\\n    index_col=0,\\n)\";\n",
       "                var nbb_formatted_code = \"data = pd.read_csv(\\n    \\\"/home/paysan_d/PycharmProjects/immune_cell_project/data/other/405DAPI_647CD8_488CD4_2_12_21/preprocessed/full_pipeline/nuclear_features.csv\\\",\\n    index_col=0,\\n)\";\n",
       "                var nbb_cells = Jupyter.notebook.get_cells();\n",
       "                for (var i = 0; i < nbb_cells.length; ++i) {\n",
       "                    if (nbb_cells[i].input_prompt_number == nbb_cell_id) {\n",
       "                        if (nbb_cells[i].get_text() == nbb_unformatted_code) {\n",
       "                             nbb_cells[i].set_text(nbb_formatted_code);\n",
       "                        }\n",
       "                        break;\n",
       "                    }\n",
       "                }\n",
       "            }, 500);\n",
       "            "
      ],
      "text/plain": [
       "<IPython.core.display.Javascript object>"
      ]
     },
     "metadata": {},
     "output_type": "display_data"
    }
   ],
   "source": [
    "data = pd.read_csv(\n",
    "    \"/home/paysan_d/PycharmProjects/immune_cell_project/data/other/405DAPI_647CD8_488CD4_2_12_21/preprocessed/full_pipeline/nuclear_features.csv\",\n",
    "    index_col=0,\n",
    ")"
   ]
  },
  {
   "cell_type": "markdown",
   "id": "isolated-lingerie",
   "metadata": {},
   "source": [
    "---\n",
    "\n",
    "## 2. Distributional plots"
   ]
  },
  {
   "cell_type": "code",
   "execution_count": 4,
   "id": "formal-keyboard",
   "metadata": {},
   "outputs": [
    {
     "data": {
      "image/png": "[encoded data removed]",
      "text/plain": [
       "<Figure size 432x288 with 1 Axes>"
      ]
     },
     "metadata": {
      "needs_background": "light"
     },
     "output_type": "display_data"
    },
    {
     "data": {
      "application/javascript": [
       "\n",
       "            setTimeout(function() {\n",
       "                var nbb_cell_id = 4;\n",
       "                var nbb_unformatted_code = \"ax = data.rel_cd4_2d_int.hist(bins=10)\\nax.set_title(\\\"Histogram of the background rel. CD4 signal\\\")\\nplt.show()\";\n",
       "                var nbb_formatted_code = \"ax = data.rel_cd4_2d_int.hist(bins=10)\\nax.set_title(\\\"Histogram of the background rel. CD4 signal\\\")\\nplt.show()\";\n",
       "                var nbb_cells = Jupyter.notebook.get_cells();\n",
       "                for (var i = 0; i < nbb_cells.length; ++i) {\n",
       "                    if (nbb_cells[i].input_prompt_number == nbb_cell_id) {\n",
       "                        if (nbb_cells[i].get_text() == nbb_unformatted_code) {\n",
       "                             nbb_cells[i].set_text(nbb_formatted_code);\n",
       "                        }\n",
       "                        break;\n",
       "                    }\n",
       "                }\n",
       "            }, 500);\n",
       "            "
      ],
      "text/plain": [
       "<IPython.core.display.Javascript object>"
      ]
     },
     "metadata": {},
     "output_type": "display_data"
    }
   ],
   "source": [
    "ax = data.rel_cd4_2d_int.hist(bins=10)\n",
    "ax.set_title(\"Histogram of the background rel. CD4 signal\")\n",
    "plt.show()"
   ]
  },
  {
   "cell_type": "code",
   "execution_count": 5,
   "id": "proud-charlotte",
   "metadata": {},
   "outputs": [
    {
     "data": {
      "image/png": "[encoded data removed]",
      "text/plain": [
       "<Figure size 432x288 with 1 Axes>"
      ]
     },
     "metadata": {
      "needs_background": "light"
     },
     "output_type": "display_data"
    },
    {
     "data": {
      "application/javascript": [
       "\n",
       "            setTimeout(function() {\n",
       "                var nbb_cell_id = 5;\n",
       "                var nbb_unformatted_code = \"ax = data.rel_cd8_2d_int.hist(bins=10)\\nax.set_title(\\\"Histogram of the background rel. CD8 signal\\\")\\nplt.show()\";\n",
       "                var nbb_formatted_code = \"ax = data.rel_cd8_2d_int.hist(bins=10)\\nax.set_title(\\\"Histogram of the background rel. CD8 signal\\\")\\nplt.show()\";\n",
       "                var nbb_cells = Jupyter.notebook.get_cells();\n",
       "                for (var i = 0; i < nbb_cells.length; ++i) {\n",
       "                    if (nbb_cells[i].input_prompt_number == nbb_cell_id) {\n",
       "                        if (nbb_cells[i].get_text() == nbb_unformatted_code) {\n",
       "                             nbb_cells[i].set_text(nbb_formatted_code);\n",
       "                        }\n",
       "                        break;\n",
       "                    }\n",
       "                }\n",
       "            }, 500);\n",
       "            "
      ],
      "text/plain": [
       "<IPython.core.display.Javascript object>"
      ]
     },
     "metadata": {},
     "output_type": "display_data"
    }
   ],
   "source": [
    "ax = data.rel_cd8_2d_int.hist(bins=10)\n",
    "ax.set_title(\"Histogram of the background rel. CD8 signal\")\n",
    "plt.show()"
   ]
  },
  {
   "cell_type": "code",
   "execution_count": null,
   "id": "sunset-porcelain",
   "metadata": {},
   "outputs": [],
   "source": []
  }
 ],
 "metadata": {
  "kernelspec": {
   "display_name": "Python 3",
   "language": "python",
   "name": "python3"
  },
  "language_info": {
   "codemirror_mode": {
    "name": "ipython",
    "version": 3
   },
   "file_extension": ".py",
   "mimetype": "text/x-python",
   "name": "python",
   "nbconvert_exporter": "python",
   "pygments_lexer": "ipython3",
   "version": "3.8.8"
  }
 },
 "nbformat": 4,
 "nbformat_minor": 5
}
